{
 "cells": [
  {
   "cell_type": "code",
   "execution_count": 1,
   "id": "0404ac22-0887-45ab-b70e-2f1326f09b6c",
   "metadata": {
    "execution": {
     "iopub.execute_input": "2025-01-11T09:55:04.797808Z",
     "iopub.status.busy": "2025-01-11T09:55:04.797191Z",
     "iopub.status.idle": "2025-01-11T09:55:11.483217Z",
     "shell.execute_reply": "2025-01-11T09:55:11.481972Z",
     "shell.execute_reply.started": "2025-01-11T09:55:04.797733Z"
    }
   },
   "outputs": [
    {
     "name": "stderr",
     "output_type": "stream",
     "text": [
      "/tmp/ipykernel_1695/2062604134.py:15: FutureWarning: Downcasting behavior in `replace` is deprecated and will be removed in a future version. To retain the old behavior, explicitly call `result.infer_objects(copy=False)`. To opt-in to the future behavior, set `pd.set_option('future.no_silent_downcasting', True)`\n",
      "  df = df.replace({\"label\": label2id})\n"
     ]
    }
   ],
   "source": [
    "import pandas as pd\n",
    "from sklearn.model_selection import train_test_split\n",
    "from sklearn.feature_extraction.text import TfidfVectorizer\n",
    "from xgboost import XGBClassifier\n",
    "from sklearn.metrics import classification_report, accuracy_score\n",
    "from commit_transformer.tokenizer import build_vocab\n",
    "from commit_transformer.preprosser import CommitDataset\n",
    "from commit_transformer.model import CombinedModel\n",
    "import torch\n",
    "from torch.utils.data import DataLoader\n",
    "\n",
    "df = pd.read_csv(r'../datasets/dataset.csv', encoding='utf_8_sig')\n",
    "df.dropna(inplace=True)\n",
    "label2id={'negative':0,'positive':1}\n",
    "df = df.replace({\"label\": label2id})\n",
    "df\n",
    "\n",
    "train, _ = train_test_split(df, train_size=0.35, random_state=42)\n",
    "train, test = train_test_split(train, test_size=0.3, random_state=42)\n",
    "test, val = train_test_split(test, train_size=0.5, random_state=42)\n",
    "\n",
    "train.reset_index(inplace=True)\n",
    "test.reset_index(inplace=True)\n",
    "val.reset_index(inplace=True)"
   ]
  },
  {
   "cell_type": "code",
   "execution_count": 2,
   "id": "e8402915-0c0e-4173-97b6-62c85b1219e0",
   "metadata": {
    "execution": {
     "iopub.execute_input": "2025-01-11T09:55:11.485512Z",
     "iopub.status.busy": "2025-01-11T09:55:11.485282Z",
     "iopub.status.idle": "2025-01-11T09:55:11.490533Z",
     "shell.execute_reply": "2025-01-11T09:55:11.489466Z",
     "shell.execute_reply.started": "2025-01-11T09:55:11.485489Z"
    }
   },
   "outputs": [],
   "source": [
    "# df = df[['message','diff','label']] \n",
    "# df"
   ]
  },
  {
   "cell_type": "code",
   "execution_count": 3,
   "id": "8569dae2-53fe-4926-8613-f78da191db29",
   "metadata": {
    "execution": {
     "iopub.execute_input": "2025-01-11T09:55:11.491510Z",
     "iopub.status.busy": "2025-01-11T09:55:11.491319Z",
     "iopub.status.idle": "2025-01-11T09:55:11.690872Z",
     "shell.execute_reply": "2025-01-11T09:55:11.689825Z",
     "shell.execute_reply.started": "2025-01-11T09:55:11.491489Z"
    }
   },
   "outputs": [],
   "source": [
    "train_data = []\n",
    "for index, row in train.iterrows():\n",
    "  train_data.append([row['message'],row['diff'],row['label']])\n",
    "\n",
    "val_data = []\n",
    "for index, row in val.iterrows():\n",
    "  val_data.append([row['message'],row['diff'],row['label']])\n",
    "test_data = []\n",
    "for index, row in test.iterrows():\n",
    "  test_data.append([row['message'],row['diff'],row['label']])"
   ]
  },
  {
   "cell_type": "code",
   "execution_count": 4,
   "id": "52a979de-01d5-4476-a2a0-cf0dd07bc3f0",
   "metadata": {
    "execution": {
     "iopub.execute_input": "2025-01-11T09:55:11.692106Z",
     "iopub.status.busy": "2025-01-11T09:55:11.691893Z",
     "iopub.status.idle": "2025-01-11T09:55:15.282617Z",
     "shell.execute_reply": "2025-01-11T09:55:15.281444Z",
     "shell.execute_reply.started": "2025-01-11T09:55:11.692084Z"
    }
   },
   "outputs": [],
   "source": [
    "\n",
    "# # Split the dataset\n",
    "# train_data, val_data = train_test_split(data, test_size=0.2, random_state=42)\n",
    "\n",
    "# # Build vocabulary\n",
    "vocab = build_vocab(train_data)\n",
    "\n",
    "# Create Datasets and DataLoaders\n",
    "train_dataset = CommitDataset(train_data, vocab)\n",
    "val_dataset = CommitDataset(val_data, vocab)\n",
    "test_dataset = CommitDataset(test_data, vocab)\n",
    "\n",
    "train_loader = DataLoader(train_dataset, batch_size=8, shuffle=True)\n",
    "val_loader = DataLoader(val_dataset, batch_size=8, shuffle=False)\n",
    "test_loader = DataLoader(test_dataset, batch_size=8, shuffle=False)"
   ]
  },
  {
   "cell_type": "code",
   "execution_count": 5,
   "id": "0e6aa5d8-bc17-4592-ac19-98ab2158da82",
   "metadata": {
    "execution": {
     "iopub.execute_input": "2025-01-11T09:55:15.283912Z",
     "iopub.status.busy": "2025-01-11T09:55:15.283707Z",
     "iopub.status.idle": "2025-01-11T09:55:15.658617Z",
     "shell.execute_reply": "2025-01-11T09:55:15.657572Z",
     "shell.execute_reply.started": "2025-01-11T09:55:15.283891Z"
    }
   },
   "outputs": [],
   "source": [
    "model = torch.load(\"transformer_entire_bert_model_900repo.pth\")"
   ]
  },
  {
   "cell_type": "code",
   "execution_count": 6,
   "id": "63488991-bfbe-4df5-9667-76f179fbab93",
   "metadata": {
    "execution": {
     "iopub.execute_input": "2025-01-11T09:55:15.659671Z",
     "iopub.status.busy": "2025-01-11T09:55:15.659457Z",
     "iopub.status.idle": "2025-01-11T09:55:15.664763Z",
     "shell.execute_reply": "2025-01-11T09:55:15.663872Z",
     "shell.execute_reply.started": "2025-01-11T09:55:15.659648Z"
    }
   },
   "outputs": [],
   "source": [
    "from sklearn.metrics import precision_score, recall_score, f1_score, precision_recall_curve,classification_report"
   ]
  },
  {
   "cell_type": "code",
   "execution_count": 7,
   "id": "86dddddb-a684-4651-8f27-e22a75d1ac94",
   "metadata": {
    "execution": {
     "iopub.execute_input": "2025-01-11T09:55:15.666547Z",
     "iopub.status.busy": "2025-01-11T09:55:15.666339Z",
     "iopub.status.idle": "2025-01-11T09:55:17.318432Z",
     "shell.execute_reply": "2025-01-11T09:55:17.317259Z",
     "shell.execute_reply.started": "2025-01-11T09:55:15.666525Z"
    }
   },
   "outputs": [
    {
     "name": "stdout",
     "output_type": "stream",
     "text": [
      "Validation Accuracy: 0.7140151515151515\n",
      "Precision: 0.6193181818181818\n",
      "Recall: 0.5647668393782384\n",
      "F1-Score: 0.5907859078590786\n",
      "              precision    recall  f1-score   support\n",
      "\n",
      "           0     0.7614    0.8000    0.7802       335\n",
      "           1     0.6193    0.5648    0.5908       193\n",
      "\n",
      "    accuracy                         0.7140       528\n",
      "   macro avg     0.6903    0.6824    0.6855       528\n",
      "weighted avg     0.7094    0.7140    0.7110       528\n",
      "\n"
     ]
    }
   ],
   "source": [
    "test_labels, test_predictions = model.evaluate(test_loader)\n",
    "print(classification_report(test_labels,test_predictions,digits=4))"
   ]
  }
 ],
 "metadata": {
  "kernelspec": {
   "display_name": "Python 3 (ipykernel)",
   "language": "python",
   "name": "python3"
  },
  "language_info": {
   "codemirror_mode": {
    "name": "ipython",
    "version": 3
   },
   "file_extension": ".py",
   "mimetype": "text/x-python",
   "name": "python",
   "nbconvert_exporter": "python",
   "pygments_lexer": "ipython3",
   "version": "3.10.8"
  }
 },
 "nbformat": 4,
 "nbformat_minor": 5
}
