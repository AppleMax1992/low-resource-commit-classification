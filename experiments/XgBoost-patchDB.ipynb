{
 "cells": [
  {
   "cell_type": "code",
   "execution_count": 1,
   "id": "412c90a9-febd-4895-8204-cd4224c3eaf9",
   "metadata": {
    "execution": {
     "iopub.execute_input": "2024-12-11T02:06:14.578837Z",
     "iopub.status.busy": "2024-12-11T02:06:14.578146Z",
     "iopub.status.idle": "2024-12-11T02:06:14.936530Z",
     "shell.execute_reply": "2024-12-11T02:06:14.934205Z",
     "shell.execute_reply.started": "2024-12-11T02:06:14.578759Z"
    }
   },
   "outputs": [
    {
     "name": "stdout",
     "output_type": "stream",
     "text": [
      "/root/ensemble_commit/10\n"
     ]
    }
   ],
   "source": [
    "!pwd"
   ]
  },
  {
   "cell_type": "code",
   "execution_count": 1,
   "id": "e1e51fd6-2459-4552-b63b-1da158aa1de7",
   "metadata": {
    "execution": {
     "iopub.execute_input": "2025-01-11T02:18:58.452393Z",
     "iopub.status.busy": "2025-01-11T02:18:58.451662Z",
     "iopub.status.idle": "2025-01-11T02:19:00.638039Z",
     "shell.execute_reply": "2025-01-11T02:19:00.637146Z",
     "shell.execute_reply.started": "2025-01-11T02:18:58.452338Z"
    }
   },
   "outputs": [],
   "source": [
    "\n",
    "import pandas as pd\n",
    "from sklearn.model_selection import train_test_split\n",
    "from sklearn.feature_extraction.text import TfidfVectorizer\n",
    "from xgboost import XGBClassifier\n",
    "from sklearn.metrics import classification_report, accuracy_score\n",
    "\n",
    "df = pd.read_json(r'../datasets/patch_db.json', encoding='utf_8_sig')\n",
    "df.dropna(inplace=True)\n",
    "label2id={'non-security':0,'security':1}\n",
    "df = df.replace({\"category\": label2id})\n",
    "df\n",
    "\n",
    "train, test = train_test_split(df, test_size=0.3, random_state=42)\n",
    "test, val = train_test_split(test, test_size=0.5, random_state=42)\n",
    "train,_ = train_test_split(train, train_size=0.1, random_state=42)\n",
    "test, val = train_test_split(test, train_size=0.1, random_state=42)\n",
    "val, _ = train_test_split(val, train_size=0.1, random_state=42)\n",
    "\n",
    "train.reset_index(inplace=True)\n",
    "test.reset_index(inplace=True)\n",
    "val.reset_index(inplace=True)"
   ]
  },
  {
   "cell_type": "code",
   "execution_count": 3,
   "id": "c866ef21-8944-4d00-8a7b-5d32cd290e34",
   "metadata": {
    "execution": {
     "iopub.execute_input": "2025-01-11T02:19:20.072214Z",
     "iopub.status.busy": "2025-01-11T02:19:20.071770Z",
     "iopub.status.idle": "2025-01-11T02:19:20.093555Z",
     "shell.execute_reply": "2025-01-11T02:19:20.092566Z",
     "shell.execute_reply.started": "2025-01-11T02:19:20.072189Z"
    }
   },
   "outputs": [
    {
     "data": {
      "text/html": [
       "<div>\n",
       "<style scoped>\n",
       "    .dataframe tbody tr th:only-of-type {\n",
       "        vertical-align: middle;\n",
       "    }\n",
       "\n",
       "    .dataframe tbody tr th {\n",
       "        vertical-align: top;\n",
       "    }\n",
       "\n",
       "    .dataframe thead th {\n",
       "        text-align: right;\n",
       "    }\n",
       "</style>\n",
       "<table border=\"1\" class=\"dataframe\">\n",
       "  <thead>\n",
       "    <tr style=\"text-align: right;\">\n",
       "      <th></th>\n",
       "      <th>CVE_ID</th>\n",
       "      <th>CWE_ID</th>\n",
       "      <th>category</th>\n",
       "      <th>commit_id</th>\n",
       "      <th>commit_message</th>\n",
       "      <th>diff_code</th>\n",
       "      <th>owner</th>\n",
       "      <th>repo</th>\n",
       "      <th>source</th>\n",
       "    </tr>\n",
       "  </thead>\n",
       "  <tbody>\n",
       "    <tr>\n",
       "      <th>0</th>\n",
       "      <td>NA</td>\n",
       "      <td>NA</td>\n",
       "      <td>non-security</td>\n",
       "      <td>540958e2f5a87b81aa5f55ce40b3e2869754f97d</td>\n",
       "      <td>commit 540958e2f5a87b81aa5f55ce40b3e2869754f97...</td>\n",
       "      <td>diff --git a/drivers/staging/comedi/drivers/cb...</td>\n",
       "      <td>stoth68000</td>\n",
       "      <td>media-tree</td>\n",
       "      <td>wild</td>\n",
       "    </tr>\n",
       "    <tr>\n",
       "      <th>1</th>\n",
       "      <td>NA</td>\n",
       "      <td>NA</td>\n",
       "      <td>non-security</td>\n",
       "      <td>64d240b721b21e266ffde645ec965c3b6d1c551f</td>\n",
       "      <td>commit 64d240b721b21e266ffde645ec965c3b6d1c551...</td>\n",
       "      <td>diff --git a/drivers/target/target_core_file.c...</td>\n",
       "      <td>stoth68000</td>\n",
       "      <td>media-tree</td>\n",
       "      <td>wild</td>\n",
       "    </tr>\n",
       "    <tr>\n",
       "      <th>2</th>\n",
       "      <td>NA</td>\n",
       "      <td>NA</td>\n",
       "      <td>non-security</td>\n",
       "      <td>f181dd278274f50e689ebd13237010a90b430164</td>\n",
       "      <td>commit f181dd278274f50e689ebd13237010a90b43016...</td>\n",
       "      <td>diff --git a/include/paths.h b/include/paths.h...</td>\n",
       "      <td>openbsd</td>\n",
       "      <td>src</td>\n",
       "      <td>wild</td>\n",
       "    </tr>\n",
       "    <tr>\n",
       "      <th>3</th>\n",
       "      <td>NA</td>\n",
       "      <td>NA</td>\n",
       "      <td>non-security</td>\n",
       "      <td>0abdc3723b5d33dde698ab941325edec2819c128</td>\n",
       "      <td>commit 0abdc3723b5d33dde698ab941325edec2819c12...</td>\n",
       "      <td>diff --git a/gnu/usr.bin/binutils/ld/lexsup.c ...</td>\n",
       "      <td>openbsd</td>\n",
       "      <td>src</td>\n",
       "      <td>wild</td>\n",
       "    </tr>\n",
       "    <tr>\n",
       "      <th>4</th>\n",
       "      <td>NA</td>\n",
       "      <td>NA</td>\n",
       "      <td>non-security</td>\n",
       "      <td>d7930d7f820e5dd6b07b823f155aeb943b525e16</td>\n",
       "      <td>commit d7930d7f820e5dd6b07b823f155aeb943b525e1...</td>\n",
       "      <td>diff --git a/src/expat_erl.c b/src/expat_erl.c...</td>\n",
       "      <td>esl</td>\n",
       "      <td>MongooseIM</td>\n",
       "      <td>wild</td>\n",
       "    </tr>\n",
       "    <tr>\n",
       "      <th>...</th>\n",
       "      <td>...</td>\n",
       "      <td>...</td>\n",
       "      <td>...</td>\n",
       "      <td>...</td>\n",
       "      <td>...</td>\n",
       "      <td>...</td>\n",
       "      <td>...</td>\n",
       "      <td>...</td>\n",
       "      <td>...</td>\n",
       "    </tr>\n",
       "    <tr>\n",
       "      <th>35810</th>\n",
       "      <td>CVE-2013-0217</td>\n",
       "      <td>399</td>\n",
       "      <td>security</td>\n",
       "      <td>7d5145d8eb2b9791533ffe4dc003b129b9696c48</td>\n",
       "      <td>From 7d5145d8eb2b9791533ffe4dc003b129b9696c48 ...</td>\n",
       "      <td>diff --git a/drivers/net/xen-netback/netback.c...</td>\n",
       "      <td>torvalds</td>\n",
       "      <td>linux</td>\n",
       "      <td>cve</td>\n",
       "    </tr>\n",
       "    <tr>\n",
       "      <th>35811</th>\n",
       "      <td>CVE-2018-18311</td>\n",
       "      <td>119</td>\n",
       "      <td>security</td>\n",
       "      <td>34716e2a6ee2af96078d62b065b7785c001194be</td>\n",
       "      <td>From 34716e2a6ee2af96078d62b065b7785c001194be ...</td>\n",
       "      <td>diff --git a/util.c b/util.c\\nindex 7282dd9cfe...</td>\n",
       "      <td>Perl</td>\n",
       "      <td>perl5</td>\n",
       "      <td>cve</td>\n",
       "    </tr>\n",
       "    <tr>\n",
       "      <th>35812</th>\n",
       "      <td>CVE-2019-12984</td>\n",
       "      <td>476</td>\n",
       "      <td>security</td>\n",
       "      <td>385097a3675749cbc9e97c085c0e5dfe4269ca51</td>\n",
       "      <td>From 385097a3675749cbc9e97c085c0e5dfe4269ca51 ...</td>\n",
       "      <td>diff --git a/net/nfc/netlink.c b/net/nfc/netli...</td>\n",
       "      <td>torvalds</td>\n",
       "      <td>linux</td>\n",
       "      <td>cve</td>\n",
       "    </tr>\n",
       "    <tr>\n",
       "      <th>35813</th>\n",
       "      <td>CVE-2013-0865</td>\n",
       "      <td>119</td>\n",
       "      <td>security</td>\n",
       "      <td>f3d16706060ab6ae6dc78f15359fab3fd87c9495</td>\n",
       "      <td>From f3d16706060ab6ae6dc78f15359fab3fd87c9495 ...</td>\n",
       "      <td>diff --git a/libavcodec/vqavideo.c b/libavcode...</td>\n",
       "      <td>NA</td>\n",
       "      <td>NA</td>\n",
       "      <td>cve</td>\n",
       "    </tr>\n",
       "    <tr>\n",
       "      <th>35814</th>\n",
       "      <td>CVE-2017-5940</td>\n",
       "      <td>284</td>\n",
       "      <td>security</td>\n",
       "      <td>38d418505e9ee2d326557e5639e8da49c298858f</td>\n",
       "      <td>From 38d418505e9ee2d326557e5639e8da49c298858f ...</td>\n",
       "      <td>diff --git a/src/firejail/fs_home.c b/src/fire...</td>\n",
       "      <td>netblue30</td>\n",
       "      <td>firejail</td>\n",
       "      <td>cve</td>\n",
       "    </tr>\n",
       "  </tbody>\n",
       "</table>\n",
       "<p>35815 rows × 9 columns</p>\n",
       "</div>"
      ],
      "text/plain": [
       "               CVE_ID CWE_ID      category  \\\n",
       "0                  NA     NA  non-security   \n",
       "1                  NA     NA  non-security   \n",
       "2                  NA     NA  non-security   \n",
       "3                  NA     NA  non-security   \n",
       "4                  NA     NA  non-security   \n",
       "...               ...    ...           ...   \n",
       "35810   CVE-2013-0217    399      security   \n",
       "35811  CVE-2018-18311    119      security   \n",
       "35812  CVE-2019-12984    476      security   \n",
       "35813   CVE-2013-0865    119      security   \n",
       "35814   CVE-2017-5940    284      security   \n",
       "\n",
       "                                      commit_id  \\\n",
       "0      540958e2f5a87b81aa5f55ce40b3e2869754f97d   \n",
       "1      64d240b721b21e266ffde645ec965c3b6d1c551f   \n",
       "2      f181dd278274f50e689ebd13237010a90b430164   \n",
       "3      0abdc3723b5d33dde698ab941325edec2819c128   \n",
       "4      d7930d7f820e5dd6b07b823f155aeb943b525e16   \n",
       "...                                         ...   \n",
       "35810  7d5145d8eb2b9791533ffe4dc003b129b9696c48   \n",
       "35811  34716e2a6ee2af96078d62b065b7785c001194be   \n",
       "35812  385097a3675749cbc9e97c085c0e5dfe4269ca51   \n",
       "35813  f3d16706060ab6ae6dc78f15359fab3fd87c9495   \n",
       "35814  38d418505e9ee2d326557e5639e8da49c298858f   \n",
       "\n",
       "                                          commit_message  \\\n",
       "0      commit 540958e2f5a87b81aa5f55ce40b3e2869754f97...   \n",
       "1      commit 64d240b721b21e266ffde645ec965c3b6d1c551...   \n",
       "2      commit f181dd278274f50e689ebd13237010a90b43016...   \n",
       "3      commit 0abdc3723b5d33dde698ab941325edec2819c12...   \n",
       "4      commit d7930d7f820e5dd6b07b823f155aeb943b525e1...   \n",
       "...                                                  ...   \n",
       "35810  From 7d5145d8eb2b9791533ffe4dc003b129b9696c48 ...   \n",
       "35811  From 34716e2a6ee2af96078d62b065b7785c001194be ...   \n",
       "35812  From 385097a3675749cbc9e97c085c0e5dfe4269ca51 ...   \n",
       "35813  From f3d16706060ab6ae6dc78f15359fab3fd87c9495 ...   \n",
       "35814  From 38d418505e9ee2d326557e5639e8da49c298858f ...   \n",
       "\n",
       "                                               diff_code       owner  \\\n",
       "0      diff --git a/drivers/staging/comedi/drivers/cb...  stoth68000   \n",
       "1      diff --git a/drivers/target/target_core_file.c...  stoth68000   \n",
       "2      diff --git a/include/paths.h b/include/paths.h...     openbsd   \n",
       "3      diff --git a/gnu/usr.bin/binutils/ld/lexsup.c ...     openbsd   \n",
       "4      diff --git a/src/expat_erl.c b/src/expat_erl.c...         esl   \n",
       "...                                                  ...         ...   \n",
       "35810  diff --git a/drivers/net/xen-netback/netback.c...    torvalds   \n",
       "35811  diff --git a/util.c b/util.c\\nindex 7282dd9cfe...        Perl   \n",
       "35812  diff --git a/net/nfc/netlink.c b/net/nfc/netli...    torvalds   \n",
       "35813  diff --git a/libavcodec/vqavideo.c b/libavcode...          NA   \n",
       "35814  diff --git a/src/firejail/fs_home.c b/src/fire...   netblue30   \n",
       "\n",
       "             repo source  \n",
       "0      media-tree   wild  \n",
       "1      media-tree   wild  \n",
       "2             src   wild  \n",
       "3             src   wild  \n",
       "4      MongooseIM   wild  \n",
       "...           ...    ...  \n",
       "35810       linux    cve  \n",
       "35811       perl5    cve  \n",
       "35812       linux    cve  \n",
       "35813          NA    cve  \n",
       "35814    firejail    cve  \n",
       "\n",
       "[35815 rows x 9 columns]"
      ]
     },
     "execution_count": 3,
     "metadata": {},
     "output_type": "execute_result"
    }
   ],
   "source": [
    "df"
   ]
  },
  {
   "cell_type": "code",
   "execution_count": 5,
   "id": "e94a1686-0697-43cc-8f0e-965461182847",
   "metadata": {
    "execution": {
     "iopub.execute_input": "2025-01-11T02:19:37.298673Z",
     "iopub.status.busy": "2025-01-11T02:19:37.298231Z",
     "iopub.status.idle": "2025-01-11T02:19:37.306034Z",
     "shell.execute_reply": "2025-01-11T02:19:37.305348Z",
     "shell.execute_reply.started": "2025-01-11T02:19:37.298648Z"
    }
   },
   "outputs": [
    {
     "data": {
      "text/plain": [
       "category\n",
       "non-security    1644\n",
       "security         863\n",
       "Name: count, dtype: int64"
      ]
     },
     "execution_count": 5,
     "metadata": {},
     "output_type": "execute_result"
    }
   ],
   "source": [
    "train['category'].value_counts()"
   ]
  },
  {
   "cell_type": "code",
   "execution_count": 2,
   "id": "03411a62",
   "metadata": {
    "execution": {
     "iopub.execute_input": "2025-01-11T02:19:00.647947Z",
     "iopub.status.busy": "2025-01-11T02:19:00.647729Z",
     "iopub.status.idle": "2025-01-11T02:19:00.655109Z",
     "shell.execute_reply": "2025-01-11T02:19:00.654444Z",
     "shell.execute_reply.started": "2025-01-11T02:19:00.647920Z"
    }
   },
   "outputs": [
    {
     "data": {
      "text/plain": [
       "(2507, 537, 483)"
      ]
     },
     "execution_count": 2,
     "metadata": {},
     "output_type": "execute_result"
    }
   ],
   "source": [
    "len(train), len(test), len(val)"
   ]
  },
  {
   "cell_type": "code",
   "execution_count": 2,
   "id": "af4b32ad-8a7e-4966-a994-0c47f779e542",
   "metadata": {
    "execution": {
     "iopub.execute_input": "2025-01-07T08:08:44.818574Z",
     "iopub.status.busy": "2025-01-07T08:08:44.818209Z",
     "iopub.status.idle": "2025-01-07T08:08:44.827185Z",
     "shell.execute_reply": "2025-01-07T08:08:44.826516Z",
     "shell.execute_reply.started": "2025-01-07T08:08:44.818547Z"
    }
   },
   "outputs": [
    {
     "data": {
      "text/plain": [
       "0      diff --git a/net/ipv4/netfilter/ipt_recent.c b...\n",
       "1      diff --git a/drivers/char/ipmi/ipmi_msghandler...\n",
       "2      diff --git a/drivers/char/tty_ioctl.c b/driver...\n",
       "3      diff --git a/src/rgw/rgw_admin.cc b/src/rgw/rg...\n",
       "4      diff --git a/libavcodec/mjpegdec.c b/libavcode...\n",
       "                             ...                        \n",
       "532    diff --git a/drivers/media/video/tuner-xc2028....\n",
       "533    diff --git a/src/os/bluestore/BlockDevice.cc b...\n",
       "534    diff --git a/src/core/manager.c b/src/core/man...\n",
       "535    diff --git a/ext/wddx/tests/bug72750.phpt b/ex...\n",
       "536    diff --git a/src/modules/extra/m_ssl_gnutls.cp...\n",
       "Name: diff_code, Length: 537, dtype: object"
      ]
     },
     "execution_count": 2,
     "metadata": {},
     "output_type": "execute_result"
    }
   ],
   "source": [
    "test['diff_code']"
   ]
  },
  {
   "cell_type": "code",
   "execution_count": 3,
   "id": "66ddf628-40ef-458c-a711-513814332488",
   "metadata": {
    "execution": {
     "iopub.execute_input": "2025-01-07T08:08:45.335282Z",
     "iopub.status.busy": "2025-01-07T08:08:45.334922Z",
     "iopub.status.idle": "2025-01-07T08:08:50.642344Z",
     "shell.execute_reply": "2025-01-07T08:08:50.641834Z",
     "shell.execute_reply.started": "2025-01-07T08:08:45.335252Z"
    }
   },
   "outputs": [
    {
     "name": "stdout",
     "output_type": "stream",
     "text": [
      "Accuracy: 0.7411545623836127\n",
      "Classification Report:\n",
      "               precision    recall  f1-score   support\n",
      "\n",
      "           0     0.7770    0.8757    0.8234       370\n",
      "           1     0.6167    0.4431    0.5157       167\n",
      "\n",
      "    accuracy                         0.7412       537\n",
      "   macro avg     0.6968    0.6594    0.6695       537\n",
      "weighted avg     0.7271    0.7412    0.7277       537\n",
      "\n"
     ]
    }
   ],
   "source": [
    "# 假设你有一个DataFrame df，其中包含'commit_message'和'label'列\n",
    "# df = pd.DataFrame({'commit_message': [...], 'label': [...]})\n",
    "\n",
    "# 1. 数据预处理和特征提取\n",
    "vectorizer = TfidfVectorizer()\n",
    "X_train = vectorizer.fit_transform(train['diff_code'])\n",
    "y_train = train['category']\n",
    "\n",
    "# 3. 训练XGBoost模型\n",
    "clf = XGBClassifier()\n",
    "clf.fit(X_train, y_train)\n",
    "\n",
    "# 4. 评估模型\n",
    "y_pred = clf.predict(vectorizer.transform(test['diff_code']))\n",
    "print(\"Accuracy:\", accuracy_score(test['category'], y_pred))\n",
    "print(\"Classification Report:\\n\", classification_report(test['category'], y_pred,digits=4))\n"
   ]
  },
  {
   "cell_type": "code",
   "execution_count": 5,
   "id": "d2a3632e",
   "metadata": {
    "execution": {
     "iopub.execute_input": "2024-12-11T02:06:26.409356Z",
     "iopub.status.busy": "2024-12-11T02:06:26.409100Z",
     "iopub.status.idle": "2024-12-11T02:06:26.414457Z",
     "shell.execute_reply": "2024-12-11T02:06:26.413390Z",
     "shell.execute_reply.started": "2024-12-11T02:06:26.409329Z"
    }
   },
   "outputs": [],
   "source": [
    "from joblib import load,dump"
   ]
  },
  {
   "cell_type": "code",
   "execution_count": 6,
   "id": "640cd92b-3826-4be9-8602-f85dbf9b302c",
   "metadata": {
    "execution": {
     "iopub.execute_input": "2024-12-11T02:06:26.415500Z",
     "iopub.status.busy": "2024-12-11T02:06:26.415291Z",
     "iopub.status.idle": "2024-12-11T02:06:26.425686Z",
     "shell.execute_reply": "2024-12-11T02:06:26.424690Z",
     "shell.execute_reply.started": "2024-12-11T02:06:26.415476Z"
    }
   },
   "outputs": [
    {
     "data": {
      "text/plain": [
       "['XGBoost_patchDB.joblib']"
      ]
     },
     "execution_count": 6,
     "metadata": {},
     "output_type": "execute_result"
    }
   ],
   "source": [
    "dump(clf, 'XGBoost_patchDB.joblib')"
   ]
  }
 ],
 "metadata": {
  "kernelspec": {
   "display_name": "Python 3 (ipykernel)",
   "language": "python",
   "name": "python3"
  },
  "language_info": {
   "codemirror_mode": {
    "name": "ipython",
    "version": 3
   },
   "file_extension": ".py",
   "mimetype": "text/x-python",
   "name": "python",
   "nbconvert_exporter": "python",
   "pygments_lexer": "ipython3",
   "version": "3.10.8"
  }
 },
 "nbformat": 4,
 "nbformat_minor": 5
}
