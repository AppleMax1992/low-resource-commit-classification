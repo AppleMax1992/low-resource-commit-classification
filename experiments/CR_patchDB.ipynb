{
 "cells": [
  {
   "cell_type": "code",
   "execution_count": 1,
   "id": "9f82a8cc-7b02-48d7-a783-6e89bccff8b2",
   "metadata": {
    "execution": {
     "iopub.execute_input": "2025-01-19T14:24:12.694118Z",
     "iopub.status.busy": "2025-01-19T14:24:12.693172Z",
     "iopub.status.idle": "2025-01-19T14:24:16.715110Z",
     "shell.execute_reply": "2025-01-19T14:24:16.713937Z",
     "shell.execute_reply.started": "2025-01-19T14:24:12.694025Z"
    }
   },
   "outputs": [
    {
     "name": "stdout",
     "output_type": "stream",
     "text": [
      "\n",
      "root\n",
      "ensemble_commit\n",
      "/root/ensemble_commit\n"
     ]
    }
   ],
   "source": [
    "import pandas as pd\n",
    "from sklearn.model_selection import train_test_split\n",
    "import torch\n",
    "import os\n",
    "\n",
    "notebook_path = os.path.abspath('')\n",
    "import sys\n",
    "# Find the part of the path that contains 'commitFit'\n",
    "commit_fit_path = None\n",
    "for part in notebook_path.split(os.sep):\n",
    "    print(part)\n",
    "    if 'ensemble_commit' in part:\n",
    "        commit_fit_path = notebook_path.split(part)[0] + part\n",
    "        print(commit_fit_path)\n",
    "        break\n",
    " \n",
    "if commit_fit_path is None:\n",
    "    raise ValueError(\"Path containing 'ensemble_commit' not found in notebook path.\")\n",
    "\n",
    "\n",
    "if commit_fit_path not in sys.path:\n",
    "    sys.path.append(commit_fit_path)\n",
    "\n",
    "# import ensemble_model.preprocesser as preprocesser \n",
    "# import ensemble_model.MoE_model_CE_loss as moe \n",
    "import ensemble_model.preprocesser as preprocesser \n",
    "import ensemble_model.combined_model as cm \n",
    "\n",
    "from torch.utils.data import Dataset, DataLoader\n",
    "from transformers import BertModel, BertTokenizer, RobertaModel, RobertaTokenizer, DistilBertModel"
   ]
  },
  {
   "cell_type": "code",
   "execution_count": 2,
   "id": "666cb7bc-ce61-42cb-b7fa-934b5e5d3580",
   "metadata": {
    "execution": {
     "iopub.execute_input": "2025-01-19T14:24:16.717339Z",
     "iopub.status.busy": "2025-01-19T14:24:16.717007Z",
     "iopub.status.idle": "2025-01-19T14:24:18.495566Z",
     "shell.execute_reply": "2025-01-19T14:24:18.494527Z",
     "shell.execute_reply.started": "2025-01-19T14:24:16.717312Z"
    }
   },
   "outputs": [
    {
     "name": "stderr",
     "output_type": "stream",
     "text": [
      "/tmp/ipykernel_1775/2474789719.py:4: FutureWarning: Downcasting behavior in `replace` is deprecated and will be removed in a future version. To retain the old behavior, explicitly call `result.infer_objects(copy=False)`. To opt-in to the future behavior, set `pd.set_option('future.no_silent_downcasting', True)`\n",
      "  df = df.replace({\"category\": label2id})\n"
     ]
    }
   ],
   "source": [
    "df = pd.read_json(r'../datasets/patch_db.json', encoding='utf_8_sig')\n",
    "df.dropna(inplace=True)\n",
    "label2id={'non-security':0,'security':1}\n",
    "df = df.replace({\"category\": label2id})\n",
    "df\n",
    "\n",
    "train, test = train_test_split(df, test_size=0.3, random_state=42)\n",
    "test, val = train_test_split(test, test_size=0.5, random_state=42)\n",
    "train,_ = train_test_split(train, train_size=0.1, random_state=42)\n",
    "test, val = train_test_split(test, train_size=0.1, random_state=42)\n",
    "val, _ = train_test_split(val, train_size=0.1, random_state=42)\n",
    "\n",
    "train.reset_index(inplace=True)\n",
    "test.reset_index(inplace=True)\n",
    "val.reset_index(inplace=True)"
   ]
  },
  {
   "cell_type": "code",
   "execution_count": 3,
   "id": "18e5ba2e-9175-4455-a42a-ced130563441",
   "metadata": {
    "execution": {
     "iopub.execute_input": "2025-01-19T14:24:18.496718Z",
     "iopub.status.busy": "2025-01-19T14:24:18.496510Z",
     "iopub.status.idle": "2025-01-19T14:24:18.500991Z",
     "shell.execute_reply": "2025-01-19T14:24:18.500071Z",
     "shell.execute_reply.started": "2025-01-19T14:24:18.496696Z"
    }
   },
   "outputs": [],
   "source": [
    "# df['command'] = df['diff'].apply(lambda x : extract_lines(find_longest_list([y.changes for y in whatthepatch.parse_patch(x)])))\n",
    "# extracted_cols = df['diff'].str.extract(r'^diff --git (?P<source>[^\\t\\n]+) (?P<target>[^\\t\\n]+)')\n",
    "# whatthepatch.apply_diff(diff, lao)"
   ]
  },
  {
   "cell_type": "code",
   "execution_count": 4,
   "id": "23ded5b2-b057-4117-b99b-fa77a39bb480",
   "metadata": {
    "execution": {
     "iopub.execute_input": "2025-01-19T14:24:18.501919Z",
     "iopub.status.busy": "2025-01-19T14:24:18.501732Z",
     "iopub.status.idle": "2025-01-19T14:24:18.507846Z",
     "shell.execute_reply": "2025-01-19T14:24:18.506904Z",
     "shell.execute_reply.started": "2025-01-19T14:24:18.501898Z"
    }
   },
   "outputs": [],
   "source": [
    "# len(df_dataset)"
   ]
  },
  {
   "cell_type": "code",
   "execution_count": 5,
   "id": "7b104969-4a01-44b3-8b11-72188d0042e6",
   "metadata": {
    "execution": {
     "iopub.execute_input": "2025-01-19T14:24:18.508560Z",
     "iopub.status.busy": "2025-01-19T14:24:18.508378Z",
     "iopub.status.idle": "2025-01-19T14:24:18.513779Z",
     "shell.execute_reply": "2025-01-19T14:24:18.512849Z",
     "shell.execute_reply.started": "2025-01-19T14:24:18.508539Z"
    }
   },
   "outputs": [],
   "source": [
    "# df_dataset[0]"
   ]
  },
  {
   "cell_type": "code",
   "execution_count": 6,
   "id": "7b77e6e8-8d9d-45f3-be04-94a8b7499213",
   "metadata": {
    "execution": {
     "iopub.execute_input": "2025-01-19T14:24:18.514624Z",
     "iopub.status.busy": "2025-01-19T14:24:18.514438Z",
     "iopub.status.idle": "2025-01-19T14:24:21.438790Z",
     "shell.execute_reply": "2025-01-19T14:24:21.437599Z",
     "shell.execute_reply.started": "2025-01-19T14:24:18.514603Z"
    }
   },
   "outputs": [
    {
     "name": "stderr",
     "output_type": "stream",
     "text": [
      "Some weights of the model checkpoint at ../models/bert-base-cased were not used when initializing BertModel: ['cls.predictions.bias', 'cls.predictions.transform.dense.bias', 'cls.predictions.transform.LayerNorm.weight', 'cls.seq_relationship.bias', 'cls.seq_relationship.weight', 'cls.predictions.transform.LayerNorm.bias', 'cls.predictions.transform.dense.weight']\n",
      "- This IS expected if you are initializing BertModel from the checkpoint of a model trained on another task or with another architecture (e.g. initializing a BertForSequenceClassification model from a BertForPreTraining model).\n",
      "- This IS NOT expected if you are initializing BertModel from the checkpoint of a model that you expect to be exactly identical (initializing a BertForSequenceClassification model from a BertForSequenceClassification model).\n"
     ]
    }
   ],
   "source": [
    "# Load BERT and CodeBERT models and tokenizers\n",
    "bert_model = BertModel.from_pretrained('../models/bert-base-cased')\n",
    "bert_tokenizer = BertTokenizer.from_pretrained('../models/bert-base-cased')\n",
    "\n",
    "codebert_model = RobertaModel.from_pretrained('../models/codebert-base')\n",
    "codebert_tokenizer = RobertaTokenizer.from_pretrained('../models/codebert-base')"
   ]
  },
  {
   "cell_type": "code",
   "execution_count": 7,
   "id": "1549be02-6f6b-41e5-bd04-d3e164061eec",
   "metadata": {
    "execution": {
     "iopub.execute_input": "2025-01-19T14:24:21.441155Z",
     "iopub.status.busy": "2025-01-19T14:24:21.440813Z",
     "iopub.status.idle": "2025-01-19T14:24:21.449129Z",
     "shell.execute_reply": "2025-01-19T14:24:21.448130Z",
     "shell.execute_reply.started": "2025-01-19T14:24:21.441128Z"
    }
   },
   "outputs": [],
   "source": [
    "# Create Datasets and DataLoaders\n",
    "train_dataset = preprocesser.SentencePairDataset(train, bert_tokenizer, codebert_tokenizer, message='commit_message',command='diff_code',label='category')\n",
    "val_dataset = preprocesser.SentencePairDataset(val, bert_tokenizer, codebert_tokenizer, message='commit_message',command='diff_code',label='category')\n",
    "test_dataset = preprocesser.SentencePairDataset(test, bert_tokenizer, codebert_tokenizer, message='commit_message',command='diff_code',label='category')\n",
    "\n",
    "train_loader = DataLoader(train_dataset, batch_size=8, shuffle=False)\n",
    "val_loader = DataLoader(val_dataset, batch_size=8, shuffle=False)\n",
    "test_loader = DataLoader(test_dataset, batch_size=8, shuffle=False)\n",
    "\n",
    "base_model1 = cm.BaseModel(bert_model)\n",
    "base_model2 = cm.BaseModel(codebert_model)"
   ]
  },
  {
   "cell_type": "code",
   "execution_count": 8,
   "id": "49ad177a-0ad0-414e-a5b6-5b768a5da9cd",
   "metadata": {
    "execution": {
     "iopub.execute_input": "2025-01-19T14:24:21.450203Z",
     "iopub.status.busy": "2025-01-19T14:24:21.450010Z",
     "iopub.status.idle": "2025-01-19T14:42:43.936034Z",
     "shell.execute_reply": "2025-01-19T14:42:43.934508Z",
     "shell.execute_reply.started": "2025-01-19T14:24:21.450181Z"
    }
   },
   "outputs": [
    {
     "name": "stderr",
     "output_type": "stream",
     "text": [
      "/root/miniconda3/lib/python3.10/site-packages/transformers/optimization.py:391: FutureWarning: This implementation of AdamW is deprecated and will be removed in a future version. Use the PyTorch implementation torch.optim.AdamW instead, or set `no_deprecation_warning=True` to disable this warning\n",
      "  warnings.warn(\n",
      "Epoch 1/10 Loss: 0.4697: 100%|██████████| 314/314 [01:54<00:00,  2.73batch/s]\n"
     ]
    },
    {
     "name": "stdout",
     "output_type": "stream",
     "text": [
      "=============================train========================\n"
     ]
    },
    {
     "name": "stderr",
     "output_type": "stream",
     "text": [
      "Epoch 2/10 Loss: 0.2623: 100%|██████████| 314/314 [01:49<00:00,  2.86batch/s]\n"
     ]
    },
    {
     "name": "stdout",
     "output_type": "stream",
     "text": [
      "=============================train========================\n"
     ]
    },
    {
     "name": "stderr",
     "output_type": "stream",
     "text": [
      "Epoch 3/10 Loss: 0.1510: 100%|██████████| 314/314 [01:48<00:00,  2.90batch/s]\n"
     ]
    },
    {
     "name": "stdout",
     "output_type": "stream",
     "text": [
      "=============================train========================\n"
     ]
    },
    {
     "name": "stderr",
     "output_type": "stream",
     "text": [
      "Epoch 4/10 Loss: 0.0939: 100%|██████████| 314/314 [01:49<00:00,  2.88batch/s]\n"
     ]
    },
    {
     "name": "stdout",
     "output_type": "stream",
     "text": [
      "=============================train========================\n"
     ]
    },
    {
     "name": "stderr",
     "output_type": "stream",
     "text": [
      "Epoch 5/10 Loss: 0.0639: 100%|██████████| 314/314 [01:50<00:00,  2.85batch/s]\n"
     ]
    },
    {
     "name": "stdout",
     "output_type": "stream",
     "text": [
      "=============================train========================\n"
     ]
    },
    {
     "name": "stderr",
     "output_type": "stream",
     "text": [
      "Epoch 6/10 Loss: 0.0225: 100%|██████████| 314/314 [01:48<00:00,  2.88batch/s]\n"
     ]
    },
    {
     "name": "stdout",
     "output_type": "stream",
     "text": [
      "=============================train========================\n"
     ]
    },
    {
     "name": "stderr",
     "output_type": "stream",
     "text": [
      "Epoch 7/10 Loss: 0.0039: 100%|██████████| 314/314 [01:48<00:00,  2.89batch/s]\n"
     ]
    },
    {
     "name": "stdout",
     "output_type": "stream",
     "text": [
      "=============================train========================\n"
     ]
    },
    {
     "name": "stderr",
     "output_type": "stream",
     "text": [
      "Epoch 8/10 Loss: 0.0152: 100%|██████████| 314/314 [01:47<00:00,  2.91batch/s]\n"
     ]
    },
    {
     "name": "stdout",
     "output_type": "stream",
     "text": [
      "=============================train========================\n"
     ]
    },
    {
     "name": "stderr",
     "output_type": "stream",
     "text": [
      "Epoch 9/10 Loss: 0.0232: 100%|██████████| 314/314 [01:48<00:00,  2.90batch/s]\n"
     ]
    },
    {
     "name": "stdout",
     "output_type": "stream",
     "text": [
      "=============================train========================\n"
     ]
    },
    {
     "name": "stderr",
     "output_type": "stream",
     "text": [
      "Epoch 10/10 Loss: 0.0131: 100%|██████████| 314/314 [01:48<00:00,  2.91batch/s]\n"
     ]
    },
    {
     "name": "stdout",
     "output_type": "stream",
     "text": [
      "=============================train========================\n",
      "Early stopping triggered after 10 epochs\n",
      "Validation Accuracy: 0.8778\n",
      "Precision: 0.8846\n",
      "Recall: 0.8778\n",
      "F1-Score: 0.8726\n",
      "              precision    recall  f1-score   support\n",
      "\n",
      "           0     0.8587    0.9748    0.9131       318\n",
      "           1     0.9344    0.6909    0.7944       165\n",
      "\n",
      "    accuracy                         0.8778       483\n",
      "   macro avg     0.8966    0.8329    0.8538       483\n",
      "weighted avg     0.8846    0.8778    0.8726       483\n",
      "\n"
     ]
    }
   ],
   "source": [
    "# Create stacking model\n",
    "combined_model = cm.CombinedModel(base_model1, base_model2)\n",
    "# Train the model\n",
    "combined_model.trainer(train_loader, val_loader,num_epochs=10, patience=3)"
   ]
  },
  {
   "cell_type": "code",
   "execution_count": 9,
   "id": "5878d2a3-fe90-45b1-9486-739c4fee6004",
   "metadata": {
    "execution": {
     "iopub.execute_input": "2025-01-19T14:42:43.938081Z",
     "iopub.status.busy": "2025-01-19T14:42:43.937773Z",
     "iopub.status.idle": "2025-01-19T14:42:52.044541Z",
     "shell.execute_reply": "2025-01-19T14:42:52.043372Z",
     "shell.execute_reply.started": "2025-01-19T14:42:43.938049Z"
    }
   },
   "outputs": [
    {
     "name": "stdout",
     "output_type": "stream",
     "text": [
      "Validation Accuracy: 0.9032\n",
      "Precision: 0.9100\n",
      "Recall: 0.9032\n",
      "F1-Score: 0.8985\n",
      "              precision    recall  f1-score   support\n",
      "\n",
      "           0     0.8841    0.9892    0.9337       370\n",
      "           1     0.9675    0.7126    0.8207       167\n",
      "\n",
      "    accuracy                         0.9032       537\n",
      "   macro avg     0.9258    0.8509    0.8772       537\n",
      "weighted avg     0.9100    0.9032    0.8985       537\n",
      "\n"
     ]
    }
   ],
   "source": [
    "test_acc, test_labels, test_probabilities, test_embeddings, test_predictions = combined_model.evaluate(test_loader)"
   ]
  },
  {
   "cell_type": "code",
   "execution_count": null,
   "id": "0376c52a-7906-4b38-ab5b-88be13b3b3d5",
   "metadata": {},
   "outputs": [],
   "source": []
  }
 ],
 "metadata": {
  "kernelspec": {
   "display_name": "Python 3 (ipykernel)",
   "language": "python",
   "name": "python3"
  },
  "language_info": {
   "codemirror_mode": {
    "name": "ipython",
    "version": 3
   },
   "file_extension": ".py",
   "mimetype": "text/x-python",
   "name": "python",
   "nbconvert_exporter": "python",
   "pygments_lexer": "ipython3",
   "version": "3.10.8"
  }
 },
 "nbformat": 4,
 "nbformat_minor": 5
}
