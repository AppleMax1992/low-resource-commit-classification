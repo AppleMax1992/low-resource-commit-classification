{
 "cells": [
  {
   "cell_type": "code",
   "execution_count": 1,
   "id": "9d911c98-ffb0-490a-ab27-802682e65033",
   "metadata": {
    "execution": {
     "iopub.execute_input": "2025-01-07T08:18:12.492425Z",
     "iopub.status.busy": "2025-01-07T08:18:12.491812Z",
     "iopub.status.idle": "2025-01-07T08:18:12.850504Z",
     "shell.execute_reply": "2025-01-07T08:18:12.849344Z",
     "shell.execute_reply.started": "2025-01-07T08:18:12.492380Z"
    }
   },
   "outputs": [
    {
     "name": "stdout",
     "output_type": "stream",
     "text": [
      "/root/ensemble_commit/10\n"
     ]
    }
   ],
   "source": [
    "!pwd"
   ]
  },
  {
   "cell_type": "code",
   "execution_count": 5,
   "id": "e1e51fd6-2459-4552-b63b-1da158aa1de7",
   "metadata": {
    "execution": {
     "iopub.execute_input": "2025-01-07T08:19:23.184545Z",
     "iopub.status.busy": "2025-01-07T08:19:23.183880Z",
     "iopub.status.idle": "2025-01-07T08:19:25.679914Z",
     "shell.execute_reply": "2025-01-07T08:19:25.679405Z",
     "shell.execute_reply.started": "2025-01-07T08:19:23.184520Z"
    }
   },
   "outputs": [
    {
     "name": "stderr",
     "output_type": "stream",
     "text": [
      "/tmp/ipykernel_5596/4285098917.py:10: FutureWarning: Downcasting behavior in `replace` is deprecated and will be removed in a future version. To retain the old behavior, explicitly call `result.infer_objects(copy=False)`. To opt-in to the future behavior, set `pd.set_option('future.no_silent_downcasting', True)`\n",
      "  df = df.replace({\"label\": label2id})\n"
     ]
    }
   ],
   "source": [
    "import pandas as pd\n",
    "from sklearn.model_selection import train_test_split\n",
    "from sklearn.feature_extraction.text import TfidfVectorizer\n",
    "from sklearn.tree import DecisionTreeClassifier\n",
    "from sklearn.metrics import classification_report, accuracy_score\n",
    "\n",
    "df = pd.read_csv(r'../datasets/dataset.csv', encoding='utf_8_sig')\n",
    "df.dropna(inplace=True)\n",
    "label2id={'negative':0,'positive':1}\n",
    "df = df.replace({\"label\": label2id})\n",
    "df\n",
    "\n",
    "train, _ = train_test_split(df, train_size=0.35, random_state=42)\n",
    "train, test = train_test_split(train, test_size=0.3, random_state=42)\n",
    "test, val = train_test_split(test, train_size=0.5, random_state=42)\n",
    "\n",
    "train.reset_index(inplace=True)\n",
    "test.reset_index(inplace=True)\n",
    "val.reset_index(inplace=True)"
   ]
  },
  {
   "cell_type": "code",
   "execution_count": 6,
   "id": "00a2ef9e-2c8e-4937-a90c-dd8b018bf3a7",
   "metadata": {
    "execution": {
     "iopub.execute_input": "2025-01-07T08:19:25.680994Z",
     "iopub.status.busy": "2025-01-07T08:19:25.680801Z",
     "iopub.status.idle": "2025-01-07T08:19:33.663239Z",
     "shell.execute_reply": "2025-01-07T08:19:33.662780Z",
     "shell.execute_reply.started": "2025-01-07T08:19:25.680975Z"
    }
   },
   "outputs": [
    {
     "name": "stdout",
     "output_type": "stream",
     "text": [
      "Accuracy: 0.7367424242424242\n",
      "Classification Report:\n",
      "               precision    recall  f1-score   support\n",
      "\n",
      "           0     0.7832    0.8090    0.7959       335\n",
      "           1     0.6484    0.6114    0.6293       193\n",
      "\n",
      "    accuracy                         0.7367       528\n",
      "   macro avg     0.7158    0.7102    0.7126       528\n",
      "weighted avg     0.7339    0.7367    0.7350       528\n",
      "\n"
     ]
    }
   ],
   "source": [
    "# 1. 数据预处理和特征提取\n",
    "\n",
    "vectorizer = TfidfVectorizer()\n",
    "X_train = vectorizer.fit_transform(train['diff'])\n",
    "y_train = train['label']\n",
    "\n",
    "# 3. 训练决策树分类器\n",
    "clf = DecisionTreeClassifier()\n",
    "clf.fit(X_train, y_train)\n",
    "\n",
    "# 4. 评估模型\n",
    "y_pred = clf.predict(vectorizer.transform(test['diff']))\n",
    "print(\"Accuracy:\", accuracy_score(test['label'], y_pred))\n",
    "print(\"Classification Report:\\n\", classification_report(test['label'], y_pred, digits=4))\n"
   ]
  },
  {
   "cell_type": "code",
   "execution_count": null,
   "id": "dc90b562-5418-4caf-b3f1-51188afbbc2e",
   "metadata": {},
   "outputs": [],
   "source": []
  }
 ],
 "metadata": {
  "kernelspec": {
   "display_name": "Python 3 (ipykernel)",
   "language": "python",
   "name": "python3"
  },
  "language_info": {
   "codemirror_mode": {
    "name": "ipython",
    "version": 3
   },
   "file_extension": ".py",
   "mimetype": "text/x-python",
   "name": "python",
   "nbconvert_exporter": "python",
   "pygments_lexer": "ipython3",
   "version": "3.10.8"
  }
 },
 "nbformat": 4,
 "nbformat_minor": 5
}
