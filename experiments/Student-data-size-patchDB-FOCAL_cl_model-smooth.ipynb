{
 "cells": [
  {
   "cell_type": "code",
   "execution_count": 1,
   "id": "9f82a8cc-7b02-48d7-a783-6e89bccff8b2",
   "metadata": {
    "execution": {
     "iopub.execute_input": "2025-01-11T15:28:50.047973Z",
     "iopub.status.busy": "2025-01-11T15:28:50.046851Z",
     "iopub.status.idle": "2025-01-11T15:28:53.622881Z",
     "shell.execute_reply": "2025-01-11T15:28:53.621750Z",
     "shell.execute_reply.started": "2025-01-11T15:28:50.047892Z"
    }
   },
   "outputs": [
    {
     "name": "stdout",
     "output_type": "stream",
     "text": [
      "\n",
      "root\n",
      "ensemble_commit\n",
      "/root/ensemble_commit\n"
     ]
    }
   ],
   "source": [
    "import pandas as pd\n",
    "from sklearn.model_selection import train_test_split\n",
    "import torch\n",
    "import os\n",
    "\n",
    "notebook_path = os.path.abspath('')\n",
    "import sys\n",
    "# Find the part of the path that contains 'commitFit'\n",
    "commit_fit_path = None\n",
    "for part in notebook_path.split(os.sep):\n",
    "    print(part)\n",
    "    if 'ensemble_commit' in part:\n",
    "        commit_fit_path = notebook_path.split(part)[0] + part\n",
    "        print(commit_fit_path)\n",
    "        break\n",
    "\n",
    "if commit_fit_path is None:\n",
    "    raise ValueError(\"Path containing 'ensemble_commit' not found in notebook path.\")\n",
    "\n",
    "\n",
    "if commit_fit_path not in sys.path:\n",
    "    sys.path.append(commit_fit_path)\n",
    "\n",
    "import ensemble_model.preprocesser as preprocesser \n",
    "import ensemble_model.MoE_model_focal_cum_loss as moe \n",
    "import ensemble_model.student_contrastive as student_cl\n",
    "from torch.utils.data import Dataset, DataLoader\n",
    "from transformers import BertModel, BertTokenizer, RobertaModel, RobertaTokenizer, DistilBertModel\n",
    "\n",
    "# import whatthepatch\n",
    "import numpy as np\n",
    "from sklearn.manifold import TSNE\n",
    "import matplotlib.pyplot as plt\n",
    "from sklearn.metrics import precision_score, recall_score, f1_score, precision_recall_curve,classification_report\n"
   ]
  },
  {
   "cell_type": "code",
   "execution_count": 2,
   "id": "537e23dd-4090-40f0-8c1c-3ed2e96076cc",
   "metadata": {
    "execution": {
     "iopub.execute_input": "2025-01-11T15:28:53.624704Z",
     "iopub.status.busy": "2025-01-11T15:28:53.624375Z",
     "iopub.status.idle": "2025-01-11T15:28:53.634179Z",
     "shell.execute_reply": "2025-01-11T15:28:53.633131Z",
     "shell.execute_reply.started": "2025-01-11T15:28:53.624678Z"
    }
   },
   "outputs": [
    {
     "data": {
      "text/plain": [
       "ensemble_model.student_contrastive.BiLSTMStudent"
      ]
     },
     "execution_count": 2,
     "metadata": {},
     "output_type": "execute_result"
    }
   ],
   "source": [
    "student_cl.BiLSTMStudent"
   ]
  },
  {
   "cell_type": "code",
   "execution_count": 3,
   "id": "666cb7bc-ce61-42cb-b7fa-934b5e5d3580",
   "metadata": {
    "execution": {
     "iopub.execute_input": "2025-01-11T15:28:53.635254Z",
     "iopub.status.busy": "2025-01-11T15:28:53.635039Z",
     "iopub.status.idle": "2025-01-11T15:28:55.315717Z",
     "shell.execute_reply": "2025-01-11T15:28:55.314524Z",
     "shell.execute_reply.started": "2025-01-11T15:28:53.635230Z"
    }
   },
   "outputs": [
    {
     "name": "stderr",
     "output_type": "stream",
     "text": [
      "/tmp/ipykernel_5978/183603274.py:4: FutureWarning: Downcasting behavior in `replace` is deprecated and will be removed in a future version. To retain the old behavior, explicitly call `result.infer_objects(copy=False)`. To opt-in to the future behavior, set `pd.set_option('future.no_silent_downcasting', True)`\n",
      "  df = df.replace({\"category\": label2id})\n"
     ]
    },
    {
     "data": {
      "text/html": [
       "<div>\n",
       "<style scoped>\n",
       "    .dataframe tbody tr th:only-of-type {\n",
       "        vertical-align: middle;\n",
       "    }\n",
       "\n",
       "    .dataframe tbody tr th {\n",
       "        vertical-align: top;\n",
       "    }\n",
       "\n",
       "    .dataframe thead th {\n",
       "        text-align: right;\n",
       "    }\n",
       "</style>\n",
       "<table border=\"1\" class=\"dataframe\">\n",
       "  <thead>\n",
       "    <tr style=\"text-align: right;\">\n",
       "      <th></th>\n",
       "      <th>CVE_ID</th>\n",
       "      <th>CWE_ID</th>\n",
       "      <th>category</th>\n",
       "      <th>commit_id</th>\n",
       "      <th>commit_message</th>\n",
       "      <th>diff_code</th>\n",
       "      <th>owner</th>\n",
       "      <th>repo</th>\n",
       "      <th>source</th>\n",
       "    </tr>\n",
       "  </thead>\n",
       "  <tbody>\n",
       "    <tr>\n",
       "      <th>0</th>\n",
       "      <td>NA</td>\n",
       "      <td>NA</td>\n",
       "      <td>0</td>\n",
       "      <td>540958e2f5a87b81aa5f55ce40b3e2869754f97d</td>\n",
       "      <td>commit 540958e2f5a87b81aa5f55ce40b3e2869754f97...</td>\n",
       "      <td>diff --git a/drivers/staging/comedi/drivers/cb...</td>\n",
       "      <td>stoth68000</td>\n",
       "      <td>media-tree</td>\n",
       "      <td>wild</td>\n",
       "    </tr>\n",
       "    <tr>\n",
       "      <th>1</th>\n",
       "      <td>NA</td>\n",
       "      <td>NA</td>\n",
       "      <td>0</td>\n",
       "      <td>64d240b721b21e266ffde645ec965c3b6d1c551f</td>\n",
       "      <td>commit 64d240b721b21e266ffde645ec965c3b6d1c551...</td>\n",
       "      <td>diff --git a/drivers/target/target_core_file.c...</td>\n",
       "      <td>stoth68000</td>\n",
       "      <td>media-tree</td>\n",
       "      <td>wild</td>\n",
       "    </tr>\n",
       "    <tr>\n",
       "      <th>2</th>\n",
       "      <td>NA</td>\n",
       "      <td>NA</td>\n",
       "      <td>0</td>\n",
       "      <td>f181dd278274f50e689ebd13237010a90b430164</td>\n",
       "      <td>commit f181dd278274f50e689ebd13237010a90b43016...</td>\n",
       "      <td>diff --git a/include/paths.h b/include/paths.h...</td>\n",
       "      <td>openbsd</td>\n",
       "      <td>src</td>\n",
       "      <td>wild</td>\n",
       "    </tr>\n",
       "    <tr>\n",
       "      <th>3</th>\n",
       "      <td>NA</td>\n",
       "      <td>NA</td>\n",
       "      <td>0</td>\n",
       "      <td>0abdc3723b5d33dde698ab941325edec2819c128</td>\n",
       "      <td>commit 0abdc3723b5d33dde698ab941325edec2819c12...</td>\n",
       "      <td>diff --git a/gnu/usr.bin/binutils/ld/lexsup.c ...</td>\n",
       "      <td>openbsd</td>\n",
       "      <td>src</td>\n",
       "      <td>wild</td>\n",
       "    </tr>\n",
       "    <tr>\n",
       "      <th>4</th>\n",
       "      <td>NA</td>\n",
       "      <td>NA</td>\n",
       "      <td>0</td>\n",
       "      <td>d7930d7f820e5dd6b07b823f155aeb943b525e16</td>\n",
       "      <td>commit d7930d7f820e5dd6b07b823f155aeb943b525e1...</td>\n",
       "      <td>diff --git a/src/expat_erl.c b/src/expat_erl.c...</td>\n",
       "      <td>esl</td>\n",
       "      <td>MongooseIM</td>\n",
       "      <td>wild</td>\n",
       "    </tr>\n",
       "    <tr>\n",
       "      <th>...</th>\n",
       "      <td>...</td>\n",
       "      <td>...</td>\n",
       "      <td>...</td>\n",
       "      <td>...</td>\n",
       "      <td>...</td>\n",
       "      <td>...</td>\n",
       "      <td>...</td>\n",
       "      <td>...</td>\n",
       "      <td>...</td>\n",
       "    </tr>\n",
       "    <tr>\n",
       "      <th>35810</th>\n",
       "      <td>CVE-2013-0217</td>\n",
       "      <td>399</td>\n",
       "      <td>1</td>\n",
       "      <td>7d5145d8eb2b9791533ffe4dc003b129b9696c48</td>\n",
       "      <td>From 7d5145d8eb2b9791533ffe4dc003b129b9696c48 ...</td>\n",
       "      <td>diff --git a/drivers/net/xen-netback/netback.c...</td>\n",
       "      <td>torvalds</td>\n",
       "      <td>linux</td>\n",
       "      <td>cve</td>\n",
       "    </tr>\n",
       "    <tr>\n",
       "      <th>35811</th>\n",
       "      <td>CVE-2018-18311</td>\n",
       "      <td>119</td>\n",
       "      <td>1</td>\n",
       "      <td>34716e2a6ee2af96078d62b065b7785c001194be</td>\n",
       "      <td>From 34716e2a6ee2af96078d62b065b7785c001194be ...</td>\n",
       "      <td>diff --git a/util.c b/util.c\\nindex 7282dd9cfe...</td>\n",
       "      <td>Perl</td>\n",
       "      <td>perl5</td>\n",
       "      <td>cve</td>\n",
       "    </tr>\n",
       "    <tr>\n",
       "      <th>35812</th>\n",
       "      <td>CVE-2019-12984</td>\n",
       "      <td>476</td>\n",
       "      <td>1</td>\n",
       "      <td>385097a3675749cbc9e97c085c0e5dfe4269ca51</td>\n",
       "      <td>From 385097a3675749cbc9e97c085c0e5dfe4269ca51 ...</td>\n",
       "      <td>diff --git a/net/nfc/netlink.c b/net/nfc/netli...</td>\n",
       "      <td>torvalds</td>\n",
       "      <td>linux</td>\n",
       "      <td>cve</td>\n",
       "    </tr>\n",
       "    <tr>\n",
       "      <th>35813</th>\n",
       "      <td>CVE-2013-0865</td>\n",
       "      <td>119</td>\n",
       "      <td>1</td>\n",
       "      <td>f3d16706060ab6ae6dc78f15359fab3fd87c9495</td>\n",
       "      <td>From f3d16706060ab6ae6dc78f15359fab3fd87c9495 ...</td>\n",
       "      <td>diff --git a/libavcodec/vqavideo.c b/libavcode...</td>\n",
       "      <td>NA</td>\n",
       "      <td>NA</td>\n",
       "      <td>cve</td>\n",
       "    </tr>\n",
       "    <tr>\n",
       "      <th>35814</th>\n",
       "      <td>CVE-2017-5940</td>\n",
       "      <td>284</td>\n",
       "      <td>1</td>\n",
       "      <td>38d418505e9ee2d326557e5639e8da49c298858f</td>\n",
       "      <td>From 38d418505e9ee2d326557e5639e8da49c298858f ...</td>\n",
       "      <td>diff --git a/src/firejail/fs_home.c b/src/fire...</td>\n",
       "      <td>netblue30</td>\n",
       "      <td>firejail</td>\n",
       "      <td>cve</td>\n",
       "    </tr>\n",
       "  </tbody>\n",
       "</table>\n",
       "<p>35815 rows × 9 columns</p>\n",
       "</div>"
      ],
      "text/plain": [
       "               CVE_ID CWE_ID  category  \\\n",
       "0                  NA     NA         0   \n",
       "1                  NA     NA         0   \n",
       "2                  NA     NA         0   \n",
       "3                  NA     NA         0   \n",
       "4                  NA     NA         0   \n",
       "...               ...    ...       ...   \n",
       "35810   CVE-2013-0217    399         1   \n",
       "35811  CVE-2018-18311    119         1   \n",
       "35812  CVE-2019-12984    476         1   \n",
       "35813   CVE-2013-0865    119         1   \n",
       "35814   CVE-2017-5940    284         1   \n",
       "\n",
       "                                      commit_id  \\\n",
       "0      540958e2f5a87b81aa5f55ce40b3e2869754f97d   \n",
       "1      64d240b721b21e266ffde645ec965c3b6d1c551f   \n",
       "2      f181dd278274f50e689ebd13237010a90b430164   \n",
       "3      0abdc3723b5d33dde698ab941325edec2819c128   \n",
       "4      d7930d7f820e5dd6b07b823f155aeb943b525e16   \n",
       "...                                         ...   \n",
       "35810  7d5145d8eb2b9791533ffe4dc003b129b9696c48   \n",
       "35811  34716e2a6ee2af96078d62b065b7785c001194be   \n",
       "35812  385097a3675749cbc9e97c085c0e5dfe4269ca51   \n",
       "35813  f3d16706060ab6ae6dc78f15359fab3fd87c9495   \n",
       "35814  38d418505e9ee2d326557e5639e8da49c298858f   \n",
       "\n",
       "                                          commit_message  \\\n",
       "0      commit 540958e2f5a87b81aa5f55ce40b3e2869754f97...   \n",
       "1      commit 64d240b721b21e266ffde645ec965c3b6d1c551...   \n",
       "2      commit f181dd278274f50e689ebd13237010a90b43016...   \n",
       "3      commit 0abdc3723b5d33dde698ab941325edec2819c12...   \n",
       "4      commit d7930d7f820e5dd6b07b823f155aeb943b525e1...   \n",
       "...                                                  ...   \n",
       "35810  From 7d5145d8eb2b9791533ffe4dc003b129b9696c48 ...   \n",
       "35811  From 34716e2a6ee2af96078d62b065b7785c001194be ...   \n",
       "35812  From 385097a3675749cbc9e97c085c0e5dfe4269ca51 ...   \n",
       "35813  From f3d16706060ab6ae6dc78f15359fab3fd87c9495 ...   \n",
       "35814  From 38d418505e9ee2d326557e5639e8da49c298858f ...   \n",
       "\n",
       "                                               diff_code       owner  \\\n",
       "0      diff --git a/drivers/staging/comedi/drivers/cb...  stoth68000   \n",
       "1      diff --git a/drivers/target/target_core_file.c...  stoth68000   \n",
       "2      diff --git a/include/paths.h b/include/paths.h...     openbsd   \n",
       "3      diff --git a/gnu/usr.bin/binutils/ld/lexsup.c ...     openbsd   \n",
       "4      diff --git a/src/expat_erl.c b/src/expat_erl.c...         esl   \n",
       "...                                                  ...         ...   \n",
       "35810  diff --git a/drivers/net/xen-netback/netback.c...    torvalds   \n",
       "35811  diff --git a/util.c b/util.c\\nindex 7282dd9cfe...        Perl   \n",
       "35812  diff --git a/net/nfc/netlink.c b/net/nfc/netli...    torvalds   \n",
       "35813  diff --git a/libavcodec/vqavideo.c b/libavcode...          NA   \n",
       "35814  diff --git a/src/firejail/fs_home.c b/src/fire...   netblue30   \n",
       "\n",
       "             repo source  \n",
       "0      media-tree   wild  \n",
       "1      media-tree   wild  \n",
       "2             src   wild  \n",
       "3             src   wild  \n",
       "4      MongooseIM   wild  \n",
       "...           ...    ...  \n",
       "35810       linux    cve  \n",
       "35811       perl5    cve  \n",
       "35812       linux    cve  \n",
       "35813          NA    cve  \n",
       "35814    firejail    cve  \n",
       "\n",
       "[35815 rows x 9 columns]"
      ]
     },
     "execution_count": 3,
     "metadata": {},
     "output_type": "execute_result"
    }
   ],
   "source": [
    "df = pd.read_json(r'../datasets/patch_db.json', encoding='utf_8_sig')\n",
    "df.dropna(inplace=True)\n",
    "label2id={'non-security':0,'security':1}\n",
    "df = df.replace({\"category\": label2id})\n",
    "df"
   ]
  },
  {
   "cell_type": "code",
   "execution_count": 4,
   "id": "23ded5b2-b057-4117-b99b-fa77a39bb480",
   "metadata": {
    "execution": {
     "iopub.execute_input": "2025-01-11T15:28:55.317026Z",
     "iopub.status.busy": "2025-01-11T15:28:55.316780Z",
     "iopub.status.idle": "2025-01-11T15:28:55.321972Z",
     "shell.execute_reply": "2025-01-11T15:28:55.320904Z",
     "shell.execute_reply.started": "2025-01-11T15:28:55.317000Z"
    }
   },
   "outputs": [],
   "source": [
    "# len(df_dataset)"
   ]
  },
  {
   "cell_type": "code",
   "execution_count": 5,
   "id": "7b104969-4a01-44b3-8b11-72188d0042e6",
   "metadata": {
    "execution": {
     "iopub.execute_input": "2025-01-11T15:28:55.324277Z",
     "iopub.status.busy": "2025-01-11T15:28:55.324034Z",
     "iopub.status.idle": "2025-01-11T15:28:55.328777Z",
     "shell.execute_reply": "2025-01-11T15:28:55.327808Z",
     "shell.execute_reply.started": "2025-01-11T15:28:55.324250Z"
    }
   },
   "outputs": [],
   "source": [
    "# df_dataset[0]"
   ]
  },
  {
   "cell_type": "code",
   "execution_count": 6,
   "id": "7b77e6e8-8d9d-45f3-be04-94a8b7499213",
   "metadata": {
    "execution": {
     "iopub.execute_input": "2025-01-11T15:28:55.329806Z",
     "iopub.status.busy": "2025-01-11T15:28:55.329592Z",
     "iopub.status.idle": "2025-01-11T15:28:57.339876Z",
     "shell.execute_reply": "2025-01-11T15:28:57.338995Z",
     "shell.execute_reply.started": "2025-01-11T15:28:55.329782Z"
    }
   },
   "outputs": [
    {
     "name": "stderr",
     "output_type": "stream",
     "text": [
      "Some weights of the model checkpoint at ../models/bert-base-cased were not used when initializing BertModel: ['cls.seq_relationship.weight', 'cls.predictions.bias', 'cls.predictions.transform.dense.bias', 'cls.predictions.transform.LayerNorm.weight', 'cls.predictions.transform.LayerNorm.bias', 'cls.seq_relationship.bias', 'cls.predictions.transform.dense.weight']\n",
      "- This IS expected if you are initializing BertModel from the checkpoint of a model trained on another task or with another architecture (e.g. initializing a BertForSequenceClassification model from a BertForPreTraining model).\n",
      "- This IS NOT expected if you are initializing BertModel from the checkpoint of a model that you expect to be exactly identical (initializing a BertForSequenceClassification model from a BertForSequenceClassification model).\n",
      "Some weights of the model checkpoint at ../models/bert-base-cased were not used when initializing BertModel: ['cls.seq_relationship.weight', 'cls.predictions.bias', 'cls.predictions.transform.dense.bias', 'cls.predictions.transform.LayerNorm.weight', 'cls.predictions.transform.LayerNorm.bias', 'cls.seq_relationship.bias', 'cls.predictions.transform.dense.weight']\n",
      "- This IS expected if you are initializing BertModel from the checkpoint of a model trained on another task or with another architecture (e.g. initializing a BertForSequenceClassification model from a BertForPreTraining model).\n",
      "- This IS NOT expected if you are initializing BertModel from the checkpoint of a model that you expect to be exactly identical (initializing a BertForSequenceClassification model from a BertForSequenceClassification model).\n"
     ]
    }
   ],
   "source": [
    "# Load BERT and CodeBERT models and tokenizers\n",
    "bert_model = BertModel.from_pretrained('../models/bert-base-cased')\n",
    "bert_tokenizer = BertTokenizer.from_pretrained('../models/bert-base-cased')\n",
    "\n",
    "codebert_model = BertModel.from_pretrained('../models/bert-base-cased')\n",
    "codebert_tokenizer = BertTokenizer.from_pretrained('../models/bert-base-cased')"
   ]
  },
  {
   "cell_type": "code",
   "execution_count": 7,
   "id": "fa751a3e-86ae-4f11-82ca-c173f5320a09",
   "metadata": {
    "execution": {
     "iopub.execute_input": "2025-01-11T15:28:57.341054Z",
     "iopub.status.busy": "2025-01-11T15:28:57.340833Z",
     "iopub.status.idle": "2025-01-11T15:28:57.377025Z",
     "shell.execute_reply": "2025-01-11T15:28:57.376220Z",
     "shell.execute_reply.started": "2025-01-11T15:28:57.341031Z"
    }
   },
   "outputs": [],
   "source": [
    "train, test = train_test_split(df, test_size=0.3, random_state=42)\n",
    "test, val = train_test_split(test, test_size=0.5, random_state=42)\n",
    "# train_data = pd.read_csv('./datasets/PD_train.csv')\n",
    "# test_data = pd.read_csv('./datasets/PD_test.csv')\n",
    "# val_data = pd.read_csv('./datasets/PD_val.csv')\n",
    "\n"
   ]
  },
  {
   "cell_type": "code",
   "execution_count": 8,
   "id": "c1f1e42a-ca2a-47b4-aeb0-536795d2a2f7",
   "metadata": {
    "execution": {
     "iopub.execute_input": "2025-01-11T15:28:57.377839Z",
     "iopub.status.busy": "2025-01-11T15:28:57.377638Z",
     "iopub.status.idle": "2025-01-11T15:28:57.382409Z",
     "shell.execute_reply": "2025-01-11T15:28:57.381449Z",
     "shell.execute_reply.started": "2025-01-11T15:28:57.377817Z"
    }
   },
   "outputs": [],
   "source": [
    "# codebert_model.config.hidden_size"
   ]
  },
  {
   "cell_type": "code",
   "execution_count": 9,
   "id": "4b5e68a2-d0bb-42c1-a6a3-1d66267b3651",
   "metadata": {
    "execution": {
     "iopub.execute_input": "2025-01-11T15:28:57.383304Z",
     "iopub.status.busy": "2025-01-11T15:28:57.383122Z",
     "iopub.status.idle": "2025-01-11T15:28:57.389313Z",
     "shell.execute_reply": "2025-01-11T15:28:57.388357Z",
     "shell.execute_reply.started": "2025-01-11T15:28:57.383283Z"
    }
   },
   "outputs": [
    {
     "data": {
      "text/plain": [
       "5372"
      ]
     },
     "execution_count": 9,
     "metadata": {},
     "output_type": "execute_result"
    }
   ],
   "source": [
    "len(test)"
   ]
  },
  {
   "cell_type": "code",
   "execution_count": null,
   "id": "f8f11097-0571-4896-972e-da03419f6f1f",
   "metadata": {},
   "outputs": [],
   "source": []
  },
  {
   "cell_type": "code",
   "execution_count": null,
   "id": "1549be02-6f6b-41e5-bd04-d3e164061eec",
   "metadata": {},
   "outputs": [],
   "source": []
  },
  {
   "cell_type": "code",
   "execution_count": 10,
   "id": "09dcb1fc-8ae4-4e9e-9180-41d41e3698af",
   "metadata": {
    "execution": {
     "iopub.execute_input": "2025-01-11T15:28:57.390352Z",
     "iopub.status.busy": "2025-01-11T15:28:57.390145Z",
     "iopub.status.idle": "2025-01-11T15:28:57.394767Z",
     "shell.execute_reply": "2025-01-11T15:28:57.393760Z",
     "shell.execute_reply.started": "2025-01-11T15:28:57.390329Z"
    }
   },
   "outputs": [],
   "source": [
    "base_model1 = moe.BaseModel(bert_model)\n",
    "base_model2 = moe.BaseModel(codebert_model)"
   ]
  },
  {
   "cell_type": "code",
   "execution_count": 11,
   "id": "b8bb3e18-9412-4036-93d4-ac331093752c",
   "metadata": {
    "execution": {
     "iopub.execute_input": "2025-01-11T15:28:57.395737Z",
     "iopub.status.busy": "2025-01-11T15:28:57.395553Z",
     "iopub.status.idle": "2025-01-11T15:28:58.479321Z",
     "shell.execute_reply": "2025-01-11T15:28:58.478575Z",
     "shell.execute_reply.started": "2025-01-11T15:28:57.395717Z"
    }
   },
   "outputs": [
    {
     "name": "stderr",
     "output_type": "stream",
     "text": [
      "Some weights of the model checkpoint at /root/autodl-tmp/IPCK/model/distilbert were not used when initializing DistilBertModel: ['vocab_projector.bias', 'vocab_layer_norm.bias', 'vocab_transform.bias', 'vocab_transform.weight', 'vocab_layer_norm.weight']\n",
      "- This IS expected if you are initializing DistilBertModel from the checkpoint of a model trained on another task or with another architecture (e.g. initializing a BertForSequenceClassification model from a BertForPreTraining model).\n",
      "- This IS NOT expected if you are initializing DistilBertModel from the checkpoint of a model that you expect to be exactly identical (initializing a BertForSequenceClassification model from a BertForSequenceClassification model).\n",
      "Some weights of the model checkpoint at /root/autodl-tmp/IPCK/model/distilbert were not used when initializing DistilBertModel: ['vocab_projector.bias', 'vocab_layer_norm.bias', 'vocab_transform.bias', 'vocab_transform.weight', 'vocab_layer_norm.weight']\n",
      "- This IS expected if you are initializing DistilBertModel from the checkpoint of a model trained on another task or with another architecture (e.g. initializing a BertForSequenceClassification model from a BertForPreTraining model).\n",
      "- This IS NOT expected if you are initializing DistilBertModel from the checkpoint of a model that you expect to be exactly identical (initializing a BertForSequenceClassification model from a BertForSequenceClassification model).\n"
     ]
    }
   ],
   "source": [
    "# Load BERT and CodeBERT models and tokenizers\n",
    "bert_model = DistilBertModel.from_pretrained('/root/autodl-tmp/IPCK/model/distilbert')\n",
    "\n",
    "codebert_model = DistilBertModel.from_pretrained('/root/autodl-tmp/IPCK/model/distilbert')"
   ]
  },
  {
   "cell_type": "code",
   "execution_count": 12,
   "id": "e3ab313b-e462-4272-bb74-3ddfbd324125",
   "metadata": {
    "execution": {
     "iopub.execute_input": "2025-01-11T15:28:58.480450Z",
     "iopub.status.busy": "2025-01-11T15:28:58.480245Z",
     "iopub.status.idle": "2025-01-11T15:28:58.484215Z",
     "shell.execute_reply": "2025-01-11T15:28:58.483567Z",
     "shell.execute_reply.started": "2025-01-11T15:28:58.480428Z"
    }
   },
   "outputs": [],
   "source": [
    "encoder_model1 = moe.EncoderModel(bert_model)\n",
    "encoder_model2 = moe.EncoderModel(bert_model)"
   ]
  },
  {
   "cell_type": "code",
   "execution_count": 13,
   "id": "9c0aaf30-08c5-422e-bdea-dd054b54a6d1",
   "metadata": {
    "execution": {
     "iopub.execute_input": "2025-01-11T15:28:58.485245Z",
     "iopub.status.busy": "2025-01-11T15:28:58.485031Z",
     "iopub.status.idle": "2025-01-11T15:28:59.436800Z",
     "shell.execute_reply": "2025-01-11T15:28:59.435813Z",
     "shell.execute_reply.started": "2025-01-11T15:28:58.485221Z"
    }
   },
   "outputs": [],
   "source": [
    "moe_model = torch.load(\"smooth_cum_entire_bert_model.pth\")                                                                                                                                                                                                                                                                                                                                                                                                                                             "
   ]
  },
  {
   "cell_type": "code",
   "execution_count": null,
   "id": "25dd079c-f0df-4b04-a378-4061140a8a8f",
   "metadata": {},
   "outputs": [],
   "source": []
  },
  {
   "cell_type": "code",
   "execution_count": 14,
   "id": "d306587f-c218-4f03-a13e-5a8a7f92db07",
   "metadata": {
    "execution": {
     "iopub.execute_input": "2025-01-11T15:28:59.439531Z",
     "iopub.status.busy": "2025-01-11T15:28:59.439283Z",
     "iopub.status.idle": "2025-01-11T16:07:56.488997Z",
     "shell.execute_reply": "2025-01-11T16:07:56.487792Z",
     "shell.execute_reply.started": "2025-01-11T15:28:59.439505Z"
    }
   },
   "outputs": [
    {
     "name": "stderr",
     "output_type": "stream",
     "text": [
      "/root/miniconda3/lib/python3.10/site-packages/transformers/optimization.py:391: FutureWarning: This implementation of AdamW is deprecated and will be removed in a future version. Use the PyTorch implementation torch.optim.AdamW instead, or set `no_deprecation_warning=True` to disable this warning\n",
      "  warnings.warn(\n",
      "Epoch 1/10 Loss: 20.2205: 100%|██████████| 7/7 [00:04<00:00,  1.62batch/s]\n"
     ]
    },
    {
     "name": "stdout",
     "output_type": "stream",
     "text": [
      "=============================train========================\n"
     ]
    },
    {
     "name": "stderr",
     "output_type": "stream",
     "text": [
      "Epoch 2/10 Loss: 16.7913: 100%|██████████| 7/7 [00:03<00:00,  1.99batch/s]\n"
     ]
    },
    {
     "name": "stdout",
     "output_type": "stream",
     "text": [
      "=============================train========================\n"
     ]
    },
    {
     "name": "stderr",
     "output_type": "stream",
     "text": [
      "Epoch 3/10 Loss: 15.3937: 100%|██████████| 7/7 [00:03<00:00,  2.02batch/s]\n"
     ]
    },
    {
     "name": "stdout",
     "output_type": "stream",
     "text": [
      "=============================train========================\n"
     ]
    },
    {
     "name": "stderr",
     "output_type": "stream",
     "text": [
      "Epoch 4/10 Loss: 14.0925: 100%|██████████| 7/7 [00:04<00:00,  1.74batch/s]\n"
     ]
    },
    {
     "name": "stdout",
     "output_type": "stream",
     "text": [
      "=============================train========================\n"
     ]
    },
    {
     "name": "stderr",
     "output_type": "stream",
     "text": [
      "Epoch 5/10 Loss: 12.2060: 100%|██████████| 7/7 [00:03<00:00,  1.77batch/s]\n"
     ]
    },
    {
     "name": "stdout",
     "output_type": "stream",
     "text": [
      "=============================train========================\n"
     ]
    },
    {
     "name": "stderr",
     "output_type": "stream",
     "text": [
      "Epoch 6/10 Loss: 9.4063: 100%|██████████| 7/7 [00:04<00:00,  1.65batch/s]\n"
     ]
    },
    {
     "name": "stdout",
     "output_type": "stream",
     "text": [
      "=============================train========================\n"
     ]
    },
    {
     "name": "stderr",
     "output_type": "stream",
     "text": [
      "Epoch 7/10 Loss: 6.3348: 100%|██████████| 7/7 [00:03<00:00,  1.75batch/s]\n"
     ]
    },
    {
     "name": "stdout",
     "output_type": "stream",
     "text": [
      "=============================train========================\n"
     ]
    },
    {
     "name": "stderr",
     "output_type": "stream",
     "text": [
      "Epoch 8/10 Loss: 4.0328: 100%|██████████| 7/7 [00:04<00:00,  1.68batch/s]\n"
     ]
    },
    {
     "name": "stdout",
     "output_type": "stream",
     "text": [
      "=============================train========================\n"
     ]
    },
    {
     "name": "stderr",
     "output_type": "stream",
     "text": [
      "Epoch 9/10 Loss: 2.7425: 100%|██████████| 7/7 [00:03<00:00,  1.76batch/s]\n"
     ]
    },
    {
     "name": "stdout",
     "output_type": "stream",
     "text": [
      "=============================train========================\n"
     ]
    },
    {
     "name": "stderr",
     "output_type": "stream",
     "text": [
      "Epoch 10/10 Loss: 1.8933: 100%|██████████| 7/7 [00:04<00:00,  1.72batch/s]\n"
     ]
    },
    {
     "name": "stdout",
     "output_type": "stream",
     "text": [
      "=============================train========================\n",
      "Validation Accuracy: 0.8679\n",
      "Precision: 0.8838\n",
      "Recall: 0.8679\n",
      "F1-Score: 0.8728\n"
     ]
    },
    {
     "name": "stderr",
     "output_type": "stream",
     "text": [
      "/root/miniconda3/lib/python3.10/site-packages/transformers/optimization.py:391: FutureWarning: This implementation of AdamW is deprecated and will be removed in a future version. Use the PyTorch implementation torch.optim.AdamW instead, or set `no_deprecation_warning=True` to disable this warning\n",
      "  warnings.warn(\n"
     ]
    },
    {
     "name": "stdout",
     "output_type": "stream",
     "text": [
      "Validation Accuracy: 0.7933\n",
      "Precision: 0.8176\n",
      "Recall: 0.7933\n",
      "F1-Score: 0.7611\n",
      "              precision    recall  f1-score   support\n",
      "\n",
      "           0     0.7771    0.9839    0.8683       372\n",
      "           1     0.9091    0.3636    0.5195       165\n",
      "\n",
      "    accuracy                         0.7933       537\n",
      "   macro avg     0.8431    0.6738    0.6939       537\n",
      "weighted avg     0.8176    0.7933    0.7611       537\n",
      "\n"
     ]
    },
    {
     "name": "stderr",
     "output_type": "stream",
     "text": [
      "Epoch 1/10 Loss: 15.2732: 100%|██████████| 14/14 [00:08<00:00,  1.74batch/s]\n"
     ]
    },
    {
     "name": "stdout",
     "output_type": "stream",
     "text": [
      "=============================train========================\n"
     ]
    },
    {
     "name": "stderr",
     "output_type": "stream",
     "text": [
      "Epoch 2/10 Loss: 10.4441: 100%|██████████| 14/14 [00:07<00:00,  1.81batch/s]\n"
     ]
    },
    {
     "name": "stdout",
     "output_type": "stream",
     "text": [
      "=============================train========================\n"
     ]
    },
    {
     "name": "stderr",
     "output_type": "stream",
     "text": [
      "Epoch 3/10 Loss: 6.2108: 100%|██████████| 14/14 [00:06<00:00,  2.05batch/s]\n"
     ]
    },
    {
     "name": "stdout",
     "output_type": "stream",
     "text": [
      "=============================train========================\n"
     ]
    },
    {
     "name": "stderr",
     "output_type": "stream",
     "text": [
      "Epoch 4/10 Loss: 2.8779: 100%|██████████| 14/14 [00:06<00:00,  2.05batch/s]\n"
     ]
    },
    {
     "name": "stdout",
     "output_type": "stream",
     "text": [
      "=============================train========================\n"
     ]
    },
    {
     "name": "stderr",
     "output_type": "stream",
     "text": [
      "Epoch 5/10 Loss: 2.0480: 100%|██████████| 14/14 [00:05<00:00,  2.38batch/s]\n"
     ]
    },
    {
     "name": "stdout",
     "output_type": "stream",
     "text": [
      "=============================train========================\n"
     ]
    },
    {
     "name": "stderr",
     "output_type": "stream",
     "text": [
      "Epoch 6/10 Loss: 1.3939: 100%|██████████| 14/14 [00:06<00:00,  2.03batch/s]\n"
     ]
    },
    {
     "name": "stdout",
     "output_type": "stream",
     "text": [
      "=============================train========================\n"
     ]
    },
    {
     "name": "stderr",
     "output_type": "stream",
     "text": [
      "Epoch 7/10 Loss: 1.0944: 100%|██████████| 14/14 [00:07<00:00,  1.89batch/s]\n"
     ]
    },
    {
     "name": "stdout",
     "output_type": "stream",
     "text": [
      "=============================train========================\n"
     ]
    },
    {
     "name": "stderr",
     "output_type": "stream",
     "text": [
      "Epoch 8/10 Loss: 1.7454: 100%|██████████| 14/14 [00:07<00:00,  1.81batch/s]\n"
     ]
    },
    {
     "name": "stdout",
     "output_type": "stream",
     "text": [
      "=============================train========================\n"
     ]
    },
    {
     "name": "stderr",
     "output_type": "stream",
     "text": [
      "Epoch 9/10 Loss: 1.4785: 100%|██████████| 14/14 [00:08<00:00,  1.74batch/s]\n"
     ]
    },
    {
     "name": "stdout",
     "output_type": "stream",
     "text": [
      "=============================train========================\n"
     ]
    },
    {
     "name": "stderr",
     "output_type": "stream",
     "text": [
      "Epoch 10/10 Loss: 1.0713: 100%|██████████| 14/14 [00:08<00:00,  1.71batch/s]\n"
     ]
    },
    {
     "name": "stdout",
     "output_type": "stream",
     "text": [
      "=============================train========================\n",
      "Validation Accuracy: 0.9252\n",
      "Precision: 0.9252\n",
      "Recall: 0.9252\n",
      "F1-Score: 0.9252\n"
     ]
    },
    {
     "name": "stderr",
     "output_type": "stream",
     "text": [
      "/root/miniconda3/lib/python3.10/site-packages/transformers/optimization.py:391: FutureWarning: This implementation of AdamW is deprecated and will be removed in a future version. Use the PyTorch implementation torch.optim.AdamW instead, or set `no_deprecation_warning=True` to disable this warning\n",
      "  warnings.warn(\n"
     ]
    },
    {
     "name": "stdout",
     "output_type": "stream",
     "text": [
      "Validation Accuracy: 0.8585\n",
      "Precision: 0.8639\n",
      "Recall: 0.8585\n",
      "F1-Score: 0.8494\n",
      "              precision    recall  f1-score   support\n",
      "\n",
      "           0     0.8474    0.9704    0.9048       372\n",
      "           1     0.9009    0.6061    0.7246       165\n",
      "\n",
      "    accuracy                         0.8585       537\n",
      "   macro avg     0.8742    0.7882    0.8147       537\n",
      "weighted avg     0.8639    0.8585    0.8494       537\n",
      "\n"
     ]
    },
    {
     "name": "stderr",
     "output_type": "stream",
     "text": [
      "Epoch 1/10 Loss: 11.1849: 100%|██████████| 21/21 [00:12<00:00,  1.75batch/s]\n"
     ]
    },
    {
     "name": "stdout",
     "output_type": "stream",
     "text": [
      "=============================train========================\n"
     ]
    },
    {
     "name": "stderr",
     "output_type": "stream",
     "text": [
      "Epoch 2/10 Loss: 5.5878: 100%|██████████| 21/21 [00:11<00:00,  1.77batch/s]\n"
     ]
    },
    {
     "name": "stdout",
     "output_type": "stream",
     "text": [
      "=============================train========================\n"
     ]
    },
    {
     "name": "stderr",
     "output_type": "stream",
     "text": [
      "Epoch 3/10 Loss: 2.9825: 100%|██████████| 21/21 [00:12<00:00,  1.72batch/s]\n"
     ]
    },
    {
     "name": "stdout",
     "output_type": "stream",
     "text": [
      "=============================train========================\n"
     ]
    },
    {
     "name": "stderr",
     "output_type": "stream",
     "text": [
      "Epoch 4/10 Loss: 1.9503: 100%|██████████| 21/21 [00:11<00:00,  1.76batch/s]\n"
     ]
    },
    {
     "name": "stdout",
     "output_type": "stream",
     "text": [
      "=============================train========================\n"
     ]
    },
    {
     "name": "stderr",
     "output_type": "stream",
     "text": [
      "Epoch 5/10 Loss: 2.4198: 100%|██████████| 21/21 [00:11<00:00,  1.91batch/s]\n"
     ]
    },
    {
     "name": "stdout",
     "output_type": "stream",
     "text": [
      "=============================train========================\n"
     ]
    },
    {
     "name": "stderr",
     "output_type": "stream",
     "text": [
      "Epoch 6/10 Loss: 1.4973: 100%|██████████| 21/21 [00:10<00:00,  2.06batch/s]\n"
     ]
    },
    {
     "name": "stdout",
     "output_type": "stream",
     "text": [
      "=============================train========================\n"
     ]
    },
    {
     "name": "stderr",
     "output_type": "stream",
     "text": [
      "Epoch 7/10 Loss: 0.9013: 100%|██████████| 21/21 [00:08<00:00,  2.36batch/s]\n"
     ]
    },
    {
     "name": "stdout",
     "output_type": "stream",
     "text": [
      "=============================train========================\n"
     ]
    },
    {
     "name": "stderr",
     "output_type": "stream",
     "text": [
      "Epoch 8/10 Loss: 0.8150: 100%|██████████| 21/21 [00:10<00:00,  2.08batch/s]\n"
     ]
    },
    {
     "name": "stdout",
     "output_type": "stream",
     "text": [
      "=============================train========================\n"
     ]
    },
    {
     "name": "stderr",
     "output_type": "stream",
     "text": [
      "Epoch 9/10 Loss: 0.7479: 100%|██████████| 21/21 [00:11<00:00,  1.76batch/s]\n"
     ]
    },
    {
     "name": "stdout",
     "output_type": "stream",
     "text": [
      "=============================train========================\n"
     ]
    },
    {
     "name": "stderr",
     "output_type": "stream",
     "text": [
      "Epoch 10/10 Loss: 0.6943: 100%|██████████| 21/21 [00:11<00:00,  1.77batch/s]\n"
     ]
    },
    {
     "name": "stdout",
     "output_type": "stream",
     "text": [
      "=============================train========================\n",
      "Validation Accuracy: 0.9130\n",
      "Precision: 0.9130\n",
      "Recall: 0.9130\n",
      "F1-Score: 0.9130\n"
     ]
    },
    {
     "name": "stderr",
     "output_type": "stream",
     "text": [
      "/root/miniconda3/lib/python3.10/site-packages/transformers/optimization.py:391: FutureWarning: This implementation of AdamW is deprecated and will be removed in a future version. Use the PyTorch implementation torch.optim.AdamW instead, or set `no_deprecation_warning=True` to disable this warning\n",
      "  warnings.warn(\n"
     ]
    },
    {
     "name": "stdout",
     "output_type": "stream",
     "text": [
      "Validation Accuracy: 0.8659\n",
      "Precision: 0.8687\n",
      "Recall: 0.8659\n",
      "F1-Score: 0.8590\n",
      "              precision    recall  f1-score   support\n",
      "\n",
      "           0     0.8589    0.9651    0.9089       372\n",
      "           1     0.8908    0.6424    0.7465       165\n",
      "\n",
      "    accuracy                         0.8659       537\n",
      "   macro avg     0.8748    0.8037    0.8277       537\n",
      "weighted avg     0.8687    0.8659    0.8590       537\n",
      "\n"
     ]
    },
    {
     "name": "stderr",
     "output_type": "stream",
     "text": [
      "Epoch 1/10 Loss: 9.7223: 100%|██████████| 27/27 [00:16<00:00,  1.68batch/s]\n"
     ]
    },
    {
     "name": "stdout",
     "output_type": "stream",
     "text": [
      "=============================train========================\n"
     ]
    },
    {
     "name": "stderr",
     "output_type": "stream",
     "text": [
      "Epoch 2/10 Loss: 4.1493: 100%|██████████| 27/27 [00:16<00:00,  1.68batch/s]\n"
     ]
    },
    {
     "name": "stdout",
     "output_type": "stream",
     "text": [
      "=============================train========================\n"
     ]
    },
    {
     "name": "stderr",
     "output_type": "stream",
     "text": [
      "Epoch 3/10 Loss: 1.9001: 100%|██████████| 27/27 [00:15<00:00,  1.70batch/s]\n"
     ]
    },
    {
     "name": "stdout",
     "output_type": "stream",
     "text": [
      "=============================train========================\n"
     ]
    },
    {
     "name": "stderr",
     "output_type": "stream",
     "text": [
      "Epoch 4/10 Loss: 1.6403: 100%|██████████| 27/27 [00:15<00:00,  1.71batch/s]\n"
     ]
    },
    {
     "name": "stdout",
     "output_type": "stream",
     "text": [
      "=============================train========================\n"
     ]
    },
    {
     "name": "stderr",
     "output_type": "stream",
     "text": [
      "Epoch 5/10 Loss: 1.2877: 100%|██████████| 27/27 [00:16<00:00,  1.68batch/s]\n"
     ]
    },
    {
     "name": "stdout",
     "output_type": "stream",
     "text": [
      "=============================train========================\n"
     ]
    },
    {
     "name": "stderr",
     "output_type": "stream",
     "text": [
      "Epoch 6/10 Loss: 1.2134: 100%|██████████| 27/27 [00:15<00:00,  1.70batch/s]\n"
     ]
    },
    {
     "name": "stdout",
     "output_type": "stream",
     "text": [
      "=============================train========================\n"
     ]
    },
    {
     "name": "stderr",
     "output_type": "stream",
     "text": [
      "Epoch 7/10 Loss: 0.9061: 100%|██████████| 27/27 [00:13<00:00,  2.00batch/s]\n"
     ]
    },
    {
     "name": "stdout",
     "output_type": "stream",
     "text": [
      "=============================train========================\n"
     ]
    },
    {
     "name": "stderr",
     "output_type": "stream",
     "text": [
      "Epoch 8/10 Loss: 0.7369: 100%|██████████| 27/27 [00:12<00:00,  2.20batch/s]\n"
     ]
    },
    {
     "name": "stdout",
     "output_type": "stream",
     "text": [
      "=============================train========================\n"
     ]
    },
    {
     "name": "stderr",
     "output_type": "stream",
     "text": [
      "Epoch 9/10 Loss: 0.7235: 100%|██████████| 27/27 [00:14<00:00,  1.91batch/s]\n"
     ]
    },
    {
     "name": "stdout",
     "output_type": "stream",
     "text": [
      "=============================train========================\n"
     ]
    },
    {
     "name": "stderr",
     "output_type": "stream",
     "text": [
      "Epoch 10/10 Loss: 0.6028: 100%|██████████| 27/27 [00:16<00:00,  1.67batch/s]\n"
     ]
    },
    {
     "name": "stdout",
     "output_type": "stream",
     "text": [
      "=============================train========================\n",
      "Validation Accuracy: 0.9019\n",
      "Precision: 0.9014\n",
      "Recall: 0.9019\n",
      "F1-Score: 0.9016\n"
     ]
    },
    {
     "name": "stderr",
     "output_type": "stream",
     "text": [
      "/root/miniconda3/lib/python3.10/site-packages/transformers/optimization.py:391: FutureWarning: This implementation of AdamW is deprecated and will be removed in a future version. Use the PyTorch implementation torch.optim.AdamW instead, or set `no_deprecation_warning=True` to disable this warning\n",
      "  warnings.warn(\n"
     ]
    },
    {
     "name": "stdout",
     "output_type": "stream",
     "text": [
      "Validation Accuracy: 0.8678\n",
      "Precision: 0.8683\n",
      "Recall: 0.8678\n",
      "F1-Score: 0.8622\n",
      "              precision    recall  f1-score   support\n",
      "\n",
      "           0     0.8662    0.9570    0.9093       372\n",
      "           1     0.8730    0.6667    0.7560       165\n",
      "\n",
      "    accuracy                         0.8678       537\n",
      "   macro avg     0.8696    0.8118    0.8327       537\n",
      "weighted avg     0.8683    0.8678    0.8622       537\n",
      "\n"
     ]
    },
    {
     "name": "stderr",
     "output_type": "stream",
     "text": [
      "Epoch 1/10 Loss: 7.6811: 100%|██████████| 34/34 [00:19<00:00,  1.75batch/s]\n"
     ]
    },
    {
     "name": "stdout",
     "output_type": "stream",
     "text": [
      "=============================train========================\n"
     ]
    },
    {
     "name": "stderr",
     "output_type": "stream",
     "text": [
      "Epoch 2/10 Loss: 3.3090: 100%|██████████| 34/34 [00:20<00:00,  1.69batch/s]\n"
     ]
    },
    {
     "name": "stdout",
     "output_type": "stream",
     "text": [
      "=============================train========================\n"
     ]
    },
    {
     "name": "stderr",
     "output_type": "stream",
     "text": [
      "Epoch 3/10 Loss: 2.2312: 100%|██████████| 34/34 [00:19<00:00,  1.74batch/s]\n"
     ]
    },
    {
     "name": "stdout",
     "output_type": "stream",
     "text": [
      "=============================train========================\n"
     ]
    },
    {
     "name": "stderr",
     "output_type": "stream",
     "text": [
      "Epoch 4/10 Loss: 1.6738: 100%|██████████| 34/34 [00:19<00:00,  1.72batch/s]\n"
     ]
    },
    {
     "name": "stdout",
     "output_type": "stream",
     "text": [
      "=============================train========================\n"
     ]
    },
    {
     "name": "stderr",
     "output_type": "stream",
     "text": [
      "Epoch 5/10 Loss: 1.7993: 100%|██████████| 34/34 [00:19<00:00,  1.71batch/s]\n"
     ]
    },
    {
     "name": "stdout",
     "output_type": "stream",
     "text": [
      "=============================train========================\n"
     ]
    },
    {
     "name": "stderr",
     "output_type": "stream",
     "text": [
      "Epoch 6/10 Loss: 1.4906: 100%|██████████| 34/34 [00:19<00:00,  1.71batch/s]\n"
     ]
    },
    {
     "name": "stdout",
     "output_type": "stream",
     "text": [
      "=============================train========================\n"
     ]
    },
    {
     "name": "stderr",
     "output_type": "stream",
     "text": [
      "Epoch 7/10 Loss: 1.2077: 100%|██████████| 34/34 [00:19<00:00,  1.72batch/s]\n"
     ]
    },
    {
     "name": "stdout",
     "output_type": "stream",
     "text": [
      "=============================train========================\n"
     ]
    },
    {
     "name": "stderr",
     "output_type": "stream",
     "text": [
      "Epoch 8/10 Loss: 0.9697: 100%|██████████| 34/34 [00:16<00:00,  2.11batch/s]\n"
     ]
    },
    {
     "name": "stdout",
     "output_type": "stream",
     "text": [
      "=============================train========================\n"
     ]
    },
    {
     "name": "stderr",
     "output_type": "stream",
     "text": [
      "Epoch 9/10 Loss: 0.8582: 100%|██████████| 34/34 [00:16<00:00,  2.08batch/s]\n"
     ]
    },
    {
     "name": "stdout",
     "output_type": "stream",
     "text": [
      "=============================train========================\n"
     ]
    },
    {
     "name": "stderr",
     "output_type": "stream",
     "text": [
      "Epoch 10/10 Loss: 0.8354: 100%|██████████| 34/34 [00:19<00:00,  1.75batch/s]\n"
     ]
    },
    {
     "name": "stdout",
     "output_type": "stream",
     "text": [
      "=============================train========================\n",
      "Validation Accuracy: 0.9104\n",
      "Precision: 0.9104\n",
      "Recall: 0.9104\n",
      "F1-Score: 0.9104\n"
     ]
    },
    {
     "name": "stderr",
     "output_type": "stream",
     "text": [
      "/root/miniconda3/lib/python3.10/site-packages/transformers/optimization.py:391: FutureWarning: This implementation of AdamW is deprecated and will be removed in a future version. Use the PyTorch implementation torch.optim.AdamW instead, or set `no_deprecation_warning=True` to disable this warning\n",
      "  warnings.warn(\n"
     ]
    },
    {
     "name": "stdout",
     "output_type": "stream",
     "text": [
      "Validation Accuracy: 0.8659\n",
      "Precision: 0.8639\n",
      "Recall: 0.8659\n",
      "F1-Score: 0.8625\n",
      "              precision    recall  f1-score   support\n",
      "\n",
      "           0     0.8769    0.9382    0.9065       372\n",
      "           1     0.8345    0.7030    0.7632       165\n",
      "\n",
      "    accuracy                         0.8659       537\n",
      "   macro avg     0.8557    0.8206    0.8348       537\n",
      "weighted avg     0.8639    0.8659    0.8625       537\n",
      "\n"
     ]
    },
    {
     "name": "stderr",
     "output_type": "stream",
     "text": [
      "Epoch 1/10 Loss: 6.7457: 100%|██████████| 41/41 [00:24<00:00,  1.70batch/s]\n"
     ]
    },
    {
     "name": "stdout",
     "output_type": "stream",
     "text": [
      "=============================train========================\n"
     ]
    },
    {
     "name": "stderr",
     "output_type": "stream",
     "text": [
      "Epoch 2/10 Loss: 2.5506: 100%|██████████| 41/41 [00:23<00:00,  1.72batch/s]\n"
     ]
    },
    {
     "name": "stdout",
     "output_type": "stream",
     "text": [
      "=============================train========================\n"
     ]
    },
    {
     "name": "stderr",
     "output_type": "stream",
     "text": [
      "Epoch 3/10 Loss: 1.5123: 100%|██████████| 41/41 [00:23<00:00,  1.74batch/s]\n"
     ]
    },
    {
     "name": "stdout",
     "output_type": "stream",
     "text": [
      "=============================train========================\n"
     ]
    },
    {
     "name": "stderr",
     "output_type": "stream",
     "text": [
      "Epoch 4/10 Loss: 1.1915: 100%|██████████| 41/41 [00:24<00:00,  1.70batch/s]\n"
     ]
    },
    {
     "name": "stdout",
     "output_type": "stream",
     "text": [
      "=============================train========================\n"
     ]
    },
    {
     "name": "stderr",
     "output_type": "stream",
     "text": [
      "Epoch 5/10 Loss: 1.1305: 100%|██████████| 41/41 [00:24<00:00,  1.70batch/s]\n"
     ]
    },
    {
     "name": "stdout",
     "output_type": "stream",
     "text": [
      "=============================train========================\n"
     ]
    },
    {
     "name": "stderr",
     "output_type": "stream",
     "text": [
      "Epoch 6/10 Loss: 0.9139: 100%|██████████| 41/41 [00:23<00:00,  1.71batch/s]\n"
     ]
    },
    {
     "name": "stdout",
     "output_type": "stream",
     "text": [
      "=============================train========================\n"
     ]
    },
    {
     "name": "stderr",
     "output_type": "stream",
     "text": [
      "Epoch 7/10 Loss: 0.7788: 100%|██████████| 41/41 [00:23<00:00,  1.73batch/s]\n"
     ]
    },
    {
     "name": "stdout",
     "output_type": "stream",
     "text": [
      "=============================train========================\n"
     ]
    },
    {
     "name": "stderr",
     "output_type": "stream",
     "text": [
      "Epoch 8/10 Loss: 0.7693: 100%|██████████| 41/41 [00:22<00:00,  1.86batch/s]\n"
     ]
    },
    {
     "name": "stdout",
     "output_type": "stream",
     "text": [
      "=============================train========================\n"
     ]
    },
    {
     "name": "stderr",
     "output_type": "stream",
     "text": [
      "Epoch 9/10 Loss: 0.6902: 100%|██████████| 41/41 [00:18<00:00,  2.22batch/s]\n"
     ]
    },
    {
     "name": "stdout",
     "output_type": "stream",
     "text": [
      "=============================train========================\n"
     ]
    },
    {
     "name": "stderr",
     "output_type": "stream",
     "text": [
      "Epoch 10/10 Loss: 0.6129: 100%|██████████| 41/41 [00:22<00:00,  1.81batch/s]\n"
     ]
    },
    {
     "name": "stdout",
     "output_type": "stream",
     "text": [
      "=============================train========================\n",
      "Validation Accuracy: 0.9224\n",
      "Precision: 0.9226\n",
      "Recall: 0.9224\n",
      "F1-Score: 0.9225\n"
     ]
    },
    {
     "name": "stderr",
     "output_type": "stream",
     "text": [
      "/root/miniconda3/lib/python3.10/site-packages/transformers/optimization.py:391: FutureWarning: This implementation of AdamW is deprecated and will be removed in a future version. Use the PyTorch implementation torch.optim.AdamW instead, or set `no_deprecation_warning=True` to disable this warning\n",
      "  warnings.warn(\n"
     ]
    },
    {
     "name": "stdout",
     "output_type": "stream",
     "text": [
      "Validation Accuracy: 0.8808\n",
      "Precision: 0.8818\n",
      "Recall: 0.8808\n",
      "F1-Score: 0.8763\n",
      "              precision    recall  f1-score   support\n",
      "\n",
      "           0     0.8775    0.9624    0.9179       372\n",
      "           1     0.8915    0.6970    0.7823       165\n",
      "\n",
      "    accuracy                         0.8808       537\n",
      "   macro avg     0.8845    0.8297    0.8501       537\n",
      "weighted avg     0.8818    0.8808    0.8763       537\n",
      "\n"
     ]
    },
    {
     "name": "stderr",
     "output_type": "stream",
     "text": [
      "Epoch 1/10 Loss: 6.1529: 100%|██████████| 47/47 [00:27<00:00,  1.68batch/s]\n"
     ]
    },
    {
     "name": "stdout",
     "output_type": "stream",
     "text": [
      "=============================train========================\n"
     ]
    },
    {
     "name": "stderr",
     "output_type": "stream",
     "text": [
      "Epoch 2/10 Loss: 1.9528: 100%|██████████| 47/47 [00:27<00:00,  1.69batch/s]\n"
     ]
    },
    {
     "name": "stdout",
     "output_type": "stream",
     "text": [
      "=============================train========================\n"
     ]
    },
    {
     "name": "stderr",
     "output_type": "stream",
     "text": [
      "Epoch 3/10 Loss: 1.4447: 100%|██████████| 47/47 [00:28<00:00,  1.68batch/s]\n"
     ]
    },
    {
     "name": "stdout",
     "output_type": "stream",
     "text": [
      "=============================train========================\n"
     ]
    },
    {
     "name": "stderr",
     "output_type": "stream",
     "text": [
      "Epoch 4/10 Loss: 1.0385: 100%|██████████| 47/47 [00:27<00:00,  1.68batch/s]\n"
     ]
    },
    {
     "name": "stdout",
     "output_type": "stream",
     "text": [
      "=============================train========================\n"
     ]
    },
    {
     "name": "stderr",
     "output_type": "stream",
     "text": [
      "Epoch 5/10 Loss: 0.8902: 100%|██████████| 47/47 [00:28<00:00,  1.67batch/s]\n"
     ]
    },
    {
     "name": "stdout",
     "output_type": "stream",
     "text": [
      "=============================train========================\n"
     ]
    },
    {
     "name": "stderr",
     "output_type": "stream",
     "text": [
      "Epoch 6/10 Loss: 0.6608: 100%|██████████| 47/47 [00:27<00:00,  1.68batch/s]\n"
     ]
    },
    {
     "name": "stdout",
     "output_type": "stream",
     "text": [
      "=============================train========================\n"
     ]
    },
    {
     "name": "stderr",
     "output_type": "stream",
     "text": [
      "Epoch 7/10 Loss: 0.6236: 100%|██████████| 47/47 [00:27<00:00,  1.68batch/s]\n"
     ]
    },
    {
     "name": "stdout",
     "output_type": "stream",
     "text": [
      "=============================train========================\n"
     ]
    },
    {
     "name": "stderr",
     "output_type": "stream",
     "text": [
      "Epoch 8/10 Loss: 0.5902: 100%|██████████| 47/47 [00:27<00:00,  1.72batch/s]\n"
     ]
    },
    {
     "name": "stdout",
     "output_type": "stream",
     "text": [
      "=============================train========================\n"
     ]
    },
    {
     "name": "stderr",
     "output_type": "stream",
     "text": [
      "Epoch 9/10 Loss: 0.5481: 100%|██████████| 47/47 [00:22<00:00,  2.12batch/s]\n"
     ]
    },
    {
     "name": "stdout",
     "output_type": "stream",
     "text": [
      "=============================train========================\n"
     ]
    },
    {
     "name": "stderr",
     "output_type": "stream",
     "text": [
      "Epoch 10/10 Loss: 0.5398: 100%|██████████| 47/47 [00:25<00:00,  1.87batch/s]\n"
     ]
    },
    {
     "name": "stdout",
     "output_type": "stream",
     "text": [
      "=============================train========================\n",
      "Validation Accuracy: 0.9043\n",
      "Precision: 0.9048\n",
      "Recall: 0.9043\n",
      "F1-Score: 0.9045\n"
     ]
    },
    {
     "name": "stderr",
     "output_type": "stream",
     "text": [
      "/root/miniconda3/lib/python3.10/site-packages/transformers/optimization.py:391: FutureWarning: This implementation of AdamW is deprecated and will be removed in a future version. Use the PyTorch implementation torch.optim.AdamW instead, or set `no_deprecation_warning=True` to disable this warning\n",
      "  warnings.warn(\n"
     ]
    },
    {
     "name": "stdout",
     "output_type": "stream",
     "text": [
      "Validation Accuracy: 0.8734\n",
      "Precision: 0.8714\n",
      "Recall: 0.8734\n",
      "F1-Score: 0.8709\n",
      "              precision    recall  f1-score   support\n",
      "\n",
      "           0     0.8878    0.9355    0.9110       372\n",
      "           1     0.8345    0.7333    0.7806       165\n",
      "\n",
      "    accuracy                         0.8734       537\n",
      "   macro avg     0.8611    0.8344    0.8458       537\n",
      "weighted avg     0.8714    0.8734    0.8709       537\n",
      "\n"
     ]
    },
    {
     "name": "stderr",
     "output_type": "stream",
     "text": [
      "Epoch 1/10 Loss: 5.2554: 100%|██████████| 54/54 [00:31<00:00,  1.69batch/s]\n"
     ]
    },
    {
     "name": "stdout",
     "output_type": "stream",
     "text": [
      "=============================train========================\n"
     ]
    },
    {
     "name": "stderr",
     "output_type": "stream",
     "text": [
      "Epoch 2/10 Loss: 1.6251: 100%|██████████| 54/54 [00:31<00:00,  1.69batch/s]\n"
     ]
    },
    {
     "name": "stdout",
     "output_type": "stream",
     "text": [
      "=============================train========================\n"
     ]
    },
    {
     "name": "stderr",
     "output_type": "stream",
     "text": [
      "Epoch 3/10 Loss: 0.9252: 100%|██████████| 54/54 [00:32<00:00,  1.68batch/s]\n"
     ]
    },
    {
     "name": "stdout",
     "output_type": "stream",
     "text": [
      "=============================train========================\n"
     ]
    },
    {
     "name": "stderr",
     "output_type": "stream",
     "text": [
      "Epoch 4/10 Loss: 0.6889: 100%|██████████| 54/54 [00:31<00:00,  1.69batch/s]\n"
     ]
    },
    {
     "name": "stdout",
     "output_type": "stream",
     "text": [
      "=============================train========================\n"
     ]
    },
    {
     "name": "stderr",
     "output_type": "stream",
     "text": [
      "Epoch 5/10 Loss: 0.6198: 100%|██████████| 54/54 [00:31<00:00,  1.70batch/s]\n"
     ]
    },
    {
     "name": "stdout",
     "output_type": "stream",
     "text": [
      "=============================train========================\n"
     ]
    },
    {
     "name": "stderr",
     "output_type": "stream",
     "text": [
      "Epoch 6/10 Loss: 0.5828: 100%|██████████| 54/54 [00:32<00:00,  1.68batch/s]\n"
     ]
    },
    {
     "name": "stdout",
     "output_type": "stream",
     "text": [
      "=============================train========================\n"
     ]
    },
    {
     "name": "stderr",
     "output_type": "stream",
     "text": [
      "Epoch 7/10 Loss: 0.5828: 100%|██████████| 54/54 [00:31<00:00,  1.71batch/s]\n"
     ]
    },
    {
     "name": "stdout",
     "output_type": "stream",
     "text": [
      "=============================train========================\n"
     ]
    },
    {
     "name": "stderr",
     "output_type": "stream",
     "text": [
      "Epoch 8/10 Loss: 0.5471: 100%|██████████| 54/54 [00:32<00:00,  1.66batch/s]\n"
     ]
    },
    {
     "name": "stdout",
     "output_type": "stream",
     "text": [
      "=============================train========================\n"
     ]
    },
    {
     "name": "stderr",
     "output_type": "stream",
     "text": [
      "Epoch 9/10 Loss: 0.5428: 100%|██████████| 54/54 [00:26<00:00,  2.07batch/s]\n"
     ]
    },
    {
     "name": "stdout",
     "output_type": "stream",
     "text": [
      "=============================train========================\n"
     ]
    },
    {
     "name": "stderr",
     "output_type": "stream",
     "text": [
      "Epoch 10/10 Loss: 0.5522: 100%|██████████| 54/54 [00:27<00:00,  1.93batch/s]\n"
     ]
    },
    {
     "name": "stdout",
     "output_type": "stream",
     "text": [
      "=============================train========================\n",
      "Validation Accuracy: 0.9021\n",
      "Precision: 0.9017\n",
      "Recall: 0.9021\n",
      "F1-Score: 0.9019\n"
     ]
    },
    {
     "name": "stderr",
     "output_type": "stream",
     "text": [
      "/root/miniconda3/lib/python3.10/site-packages/transformers/optimization.py:391: FutureWarning: This implementation of AdamW is deprecated and will be removed in a future version. Use the PyTorch implementation torch.optim.AdamW instead, or set `no_deprecation_warning=True` to disable this warning\n",
      "  warnings.warn(\n"
     ]
    },
    {
     "name": "stdout",
     "output_type": "stream",
     "text": [
      "Validation Accuracy: 0.8808\n",
      "Precision: 0.8794\n",
      "Recall: 0.8808\n",
      "F1-Score: 0.8780\n",
      "              precision    recall  f1-score   support\n",
      "\n",
      "           0     0.8889    0.9462    0.9167       372\n",
      "           1     0.8582    0.7333    0.7908       165\n",
      "\n",
      "    accuracy                         0.8808       537\n",
      "   macro avg     0.8735    0.8398    0.8538       537\n",
      "weighted avg     0.8794    0.8808    0.8780       537\n",
      "\n"
     ]
    },
    {
     "name": "stderr",
     "output_type": "stream",
     "text": [
      "Epoch 1/10 Loss: 4.4753: 100%|██████████| 61/61 [00:35<00:00,  1.70batch/s]\n"
     ]
    },
    {
     "name": "stdout",
     "output_type": "stream",
     "text": [
      "=============================train========================\n"
     ]
    },
    {
     "name": "stderr",
     "output_type": "stream",
     "text": [
      "Epoch 2/10 Loss: 1.5285: 100%|██████████| 61/61 [00:35<00:00,  1.70batch/s]\n"
     ]
    },
    {
     "name": "stdout",
     "output_type": "stream",
     "text": [
      "=============================train========================\n"
     ]
    },
    {
     "name": "stderr",
     "output_type": "stream",
     "text": [
      "Epoch 3/10 Loss: 0.9418: 100%|██████████| 61/61 [00:35<00:00,  1.70batch/s]\n"
     ]
    },
    {
     "name": "stdout",
     "output_type": "stream",
     "text": [
      "=============================train========================\n"
     ]
    },
    {
     "name": "stderr",
     "output_type": "stream",
     "text": [
      "Epoch 4/10 Loss: 0.9876: 100%|██████████| 61/61 [00:35<00:00,  1.70batch/s]\n"
     ]
    },
    {
     "name": "stdout",
     "output_type": "stream",
     "text": [
      "=============================train========================\n"
     ]
    },
    {
     "name": "stderr",
     "output_type": "stream",
     "text": [
      "Epoch 5/10 Loss: 0.8722: 100%|██████████| 61/61 [00:35<00:00,  1.70batch/s]\n"
     ]
    },
    {
     "name": "stdout",
     "output_type": "stream",
     "text": [
      "=============================train========================\n"
     ]
    },
    {
     "name": "stderr",
     "output_type": "stream",
     "text": [
      "Epoch 6/10 Loss: 0.6980: 100%|██████████| 61/61 [00:36<00:00,  1.68batch/s]\n"
     ]
    },
    {
     "name": "stdout",
     "output_type": "stream",
     "text": [
      "=============================train========================\n"
     ]
    },
    {
     "name": "stderr",
     "output_type": "stream",
     "text": [
      "Epoch 7/10 Loss: 0.6430: 100%|██████████| 61/61 [00:35<00:00,  1.70batch/s]\n"
     ]
    },
    {
     "name": "stdout",
     "output_type": "stream",
     "text": [
      "=============================train========================\n"
     ]
    },
    {
     "name": "stderr",
     "output_type": "stream",
     "text": [
      "Epoch 8/10 Loss: 0.5782: 100%|██████████| 61/61 [00:35<00:00,  1.71batch/s]\n"
     ]
    },
    {
     "name": "stdout",
     "output_type": "stream",
     "text": [
      "=============================train========================\n"
     ]
    },
    {
     "name": "stderr",
     "output_type": "stream",
     "text": [
      "Epoch 9/10 Loss: 0.5604: 100%|██████████| 61/61 [00:31<00:00,  1.94batch/s]\n"
     ]
    },
    {
     "name": "stdout",
     "output_type": "stream",
     "text": [
      "=============================train========================\n"
     ]
    },
    {
     "name": "stderr",
     "output_type": "stream",
     "text": [
      "Epoch 10/10 Loss: 0.6225: 100%|██████████| 61/61 [00:30<00:00,  2.03batch/s]\n"
     ]
    },
    {
     "name": "stdout",
     "output_type": "stream",
     "text": [
      "=============================train========================\n",
      "Validation Accuracy: 0.9048\n",
      "Precision: 0.9039\n",
      "Recall: 0.9048\n",
      "F1-Score: 0.9041\n"
     ]
    },
    {
     "name": "stderr",
     "output_type": "stream",
     "text": [
      "/root/miniconda3/lib/python3.10/site-packages/transformers/optimization.py:391: FutureWarning: This implementation of AdamW is deprecated and will be removed in a future version. Use the PyTorch implementation torch.optim.AdamW instead, or set `no_deprecation_warning=True` to disable this warning\n",
      "  warnings.warn(\n"
     ]
    },
    {
     "name": "stdout",
     "output_type": "stream",
     "text": [
      "Validation Accuracy: 0.8957\n",
      "Precision: 0.8963\n",
      "Recall: 0.8957\n",
      "F1-Score: 0.8925\n",
      "              precision    recall  f1-score   support\n",
      "\n",
      "           0     0.8930    0.9651    0.9276       372\n",
      "           1     0.9037    0.7394    0.8133       165\n",
      "\n",
      "    accuracy                         0.8957       537\n",
      "   macro avg     0.8984    0.8522    0.8705       537\n",
      "weighted avg     0.8963    0.8957    0.8925       537\n",
      "\n"
     ]
    },
    {
     "name": "stderr",
     "output_type": "stream",
     "text": [
      "Epoch 1/10 Loss: 4.1324: 100%|██████████| 68/68 [00:39<00:00,  1.70batch/s]\n"
     ]
    },
    {
     "name": "stdout",
     "output_type": "stream",
     "text": [
      "=============================train========================\n"
     ]
    },
    {
     "name": "stderr",
     "output_type": "stream",
     "text": [
      "Epoch 2/10 Loss: 1.1164: 100%|██████████| 68/68 [00:40<00:00,  1.70batch/s]\n"
     ]
    },
    {
     "name": "stdout",
     "output_type": "stream",
     "text": [
      "=============================train========================\n"
     ]
    },
    {
     "name": "stderr",
     "output_type": "stream",
     "text": [
      "Epoch 3/10 Loss: 0.8027: 100%|██████████| 68/68 [00:40<00:00,  1.70batch/s]\n"
     ]
    },
    {
     "name": "stdout",
     "output_type": "stream",
     "text": [
      "=============================train========================\n"
     ]
    },
    {
     "name": "stderr",
     "output_type": "stream",
     "text": [
      "Epoch 4/10 Loss: 0.7624: 100%|██████████| 68/68 [00:39<00:00,  1.70batch/s]\n"
     ]
    },
    {
     "name": "stdout",
     "output_type": "stream",
     "text": [
      "=============================train========================\n"
     ]
    },
    {
     "name": "stderr",
     "output_type": "stream",
     "text": [
      "Epoch 5/10 Loss: 0.6905: 100%|██████████| 68/68 [00:40<00:00,  1.69batch/s]\n"
     ]
    },
    {
     "name": "stdout",
     "output_type": "stream",
     "text": [
      "=============================train========================\n"
     ]
    },
    {
     "name": "stderr",
     "output_type": "stream",
     "text": [
      "Epoch 6/10 Loss: 0.6117: 100%|██████████| 68/68 [00:39<00:00,  1.71batch/s]\n"
     ]
    },
    {
     "name": "stdout",
     "output_type": "stream",
     "text": [
      "=============================train========================\n"
     ]
    },
    {
     "name": "stderr",
     "output_type": "stream",
     "text": [
      "Epoch 7/10 Loss: 0.6358: 100%|██████████| 68/68 [00:39<00:00,  1.70batch/s]\n"
     ]
    },
    {
     "name": "stdout",
     "output_type": "stream",
     "text": [
      "=============================train========================\n"
     ]
    },
    {
     "name": "stderr",
     "output_type": "stream",
     "text": [
      "Epoch 8/10 Loss: 0.5939: 100%|██████████| 68/68 [00:39<00:00,  1.72batch/s]\n"
     ]
    },
    {
     "name": "stdout",
     "output_type": "stream",
     "text": [
      "=============================train========================\n"
     ]
    },
    {
     "name": "stderr",
     "output_type": "stream",
     "text": [
      "Epoch 9/10 Loss: 0.6073: 100%|██████████| 68/68 [00:36<00:00,  1.84batch/s]\n"
     ]
    },
    {
     "name": "stdout",
     "output_type": "stream",
     "text": [
      "=============================train========================\n"
     ]
    },
    {
     "name": "stderr",
     "output_type": "stream",
     "text": [
      "Epoch 10/10 Loss: 0.5678: 100%|██████████| 68/68 [00:25<00:00,  2.70batch/s]\n"
     ]
    },
    {
     "name": "stdout",
     "output_type": "stream",
     "text": [
      "=============================train========================\n",
      "Validation Accuracy: 0.8994\n",
      "Precision: 0.8991\n",
      "Recall: 0.8994\n",
      "F1-Score: 0.8993\n",
      "Validation Accuracy: 0.8920\n",
      "Precision: 0.8919\n",
      "Recall: 0.8920\n",
      "F1-Score: 0.8889\n",
      "              precision    recall  f1-score   support\n",
      "\n",
      "           0     0.8925    0.9597    0.9249       372\n",
      "           1     0.8905    0.7394    0.8079       165\n",
      "\n",
      "    accuracy                         0.8920       537\n",
      "   macro avg     0.8915    0.8495    0.8664       537\n",
      "weighted avg     0.8919    0.8920    0.8889       537\n",
      "\n"
     ]
    }
   ],
   "source": [
    "# 改编unlabeled数据的大小，\n",
    "for i in [0.01,0.02,0.03,0.04,0.05,0.06,0.07,0.08,0.09,0.1]:\n",
    "    train_data,_ = train_test_split(train, train_size=0.1, random_state=42)\n",
    "    test_data, val_data = train_test_split(test, train_size=i, random_state=42)\n",
    "    val_data, _ = train_test_split(val, train_size=0.1, random_state=42)\n",
    "\n",
    "    train_data.reset_index(inplace=True)\n",
    "    test_data.reset_index(inplace=True)\n",
    "    val_data.reset_index(inplace=True)\n",
    "    \n",
    "    # Create Datasets and DataLoaders\n",
    "    train_dataset = preprocesser.SentencePairDataset(train_data, bert_tokenizer, codebert_tokenizer, message='commit_message',command='diff_code',label='category')\n",
    "    val_dataset = preprocesser.SentencePairDataset(val_data, bert_tokenizer, codebert_tokenizer, message='commit_message',command='diff_code',label='category')\n",
    "    test_dataset = preprocesser.SentencePairDataset(test_data, bert_tokenizer, codebert_tokenizer, message='commit_message',command='diff_code',label='category')\n",
    "    \n",
    "    train_loader = DataLoader(train_dataset, batch_size=8, shuffle=False)\n",
    "    val_loader = DataLoader(val_dataset, batch_size=8, shuffle=False)\n",
    "    test_loader = DataLoader(test_dataset, batch_size=8, shuffle=False)\n",
    "    \n",
    "    student_model = student_cl.BiLSTMStudent(hidden_dim=256,output_dim =2, base_model1=encoder_model1,base_model2=encoder_model2)\n",
    "    student_model.distill_trainer(moe_model, test_loader, num_epochs=10)\n",
    "    \n",
    "    # test_acc, test_labels, test_probabilities, test_embeddings, test_predictions = student_model.evaluate(test_loader)\n",
    "    # print(classification_report(test_labels,test_predictions))\n",
    "\n",
    "    test_acc, test_labels, test_probabilities, test_embeddings, test_predictions = student_model.evaluate(val_loader)\n",
    "    print(classification_report(test_labels,test_predictions, digits=4))"
   ]
  },
  {
   "cell_type": "code",
   "execution_count": 15,
   "id": "0c21ff48-212d-42d5-b602-2a5959b548c4",
   "metadata": {
    "execution": {
     "iopub.execute_input": "2025-01-11T16:07:56.490307Z",
     "iopub.status.busy": "2025-01-11T16:07:56.490086Z",
     "iopub.status.idle": "2025-01-11T16:07:56.894555Z",
     "shell.execute_reply": "2025-01-11T16:07:56.893479Z",
     "shell.execute_reply.started": "2025-01-11T16:07:56.490285Z"
    }
   },
   "outputs": [],
   "source": [
    "torch.save(student_model, \"student_model_cl_MODEL.pth\")"
   ]
  },
  {
   "cell_type": "code",
   "execution_count": 16,
   "id": "2d38e0d5-86f1-4a55-ba54-9802c1db2793",
   "metadata": {
    "execution": {
     "iopub.execute_input": "2025-01-11T16:07:56.895865Z",
     "iopub.status.busy": "2025-01-11T16:07:56.895643Z",
     "iopub.status.idle": "2025-01-11T16:07:56.900169Z",
     "shell.execute_reply": "2025-01-11T16:07:56.899242Z",
     "shell.execute_reply.started": "2025-01-11T16:07:56.895843Z"
    }
   },
   "outputs": [],
   "source": [
    "# train_student_model"
   ]
  },
  {
   "cell_type": "code",
   "execution_count": null,
   "id": "77f1210b-4518-4196-802c-ecd01588f4cd",
   "metadata": {},
   "outputs": [],
   "source": []
  },
  {
   "cell_type": "code",
   "execution_count": 17,
   "id": "bf19d667-f13b-4286-a1aa-6dbef58828ed",
   "metadata": {
    "execution": {
     "iopub.execute_input": "2025-01-11T16:07:56.901001Z",
     "iopub.status.busy": "2025-01-11T16:07:56.900835Z",
     "iopub.status.idle": "2025-01-11T16:07:58.611154Z",
     "shell.execute_reply": "2025-01-11T16:07:58.609824Z",
     "shell.execute_reply.started": "2025-01-11T16:07:56.900982Z"
    }
   },
   "outputs": [
    {
     "name": "stdout",
     "output_type": "stream",
     "text": [
      "在线模型训练完毕\n"
     ]
    }
   ],
   "source": [
    "#发送多种类型的邮件\n",
    "from email.mime.multipart import MIMEMultipart\n",
    "import smtplib\n",
    "\n",
    "from email.mime.text import MIMEText\n",
    "msg_from = '915803745@qq.com'  # 发送方邮箱\n",
    "passwd = 'vcuosuurrgkfbdai'   #就是上面的授权码\n",
    " \n",
    "# to= ['g.zhang@gotion.com', 'j.tong@gotion.com'] #接受方邮箱\n",
    "to= ['j.tong@gotion.com'] #接受方邮箱\n",
    "#设置邮件内容\n",
    "#MIMEMultipart类可以放任何内容\n",
    "msg = MIMEMultipart()\n",
    "conntent=\"在线模型训练完毕\"\n",
    "#把内容加进去\n",
    "msg.attach(MIMEText(conntent,'plain','utf-8'))\n",
    " \n",
    "#设置邮件主题\n",
    "msg['Subject']=\"在线模型训练完毕\"\n",
    " \n",
    "#发送方信息\n",
    "msg['From']=msg_from\n",
    " \n",
    "#开始发送\n",
    " \n",
    "#通过SSL方式发送，服务器地址和端口\n",
    "s = smtplib.SMTP_SSL(\"smtp.qq.com\", 465)\n",
    "# 登录邮箱\n",
    "s.login(msg_from, passwd)\n",
    "#开始发送\n",
    "s.sendmail(msg_from,to,msg.as_string())\n",
    "print(\"在线模型训练完毕\")"
   ]
  },
  {
   "cell_type": "code",
   "execution_count": null,
   "id": "a198e819-7dd7-44c4-9f7f-16c53dfd85cc",
   "metadata": {},
   "outputs": [],
   "source": []
  }
 ],
 "metadata": {
  "kernelspec": {
   "display_name": "Python 3 (ipykernel)",
   "language": "python",
   "name": "python3"
  },
  "language_info": {
   "codemirror_mode": {
    "name": "ipython",
    "version": 3
   },
   "file_extension": ".py",
   "mimetype": "text/x-python",
   "name": "python",
   "nbconvert_exporter": "python",
   "pygments_lexer": "ipython3",
   "version": "3.10.8"
  }
 },
 "nbformat": 4,
 "nbformat_minor": 5
}
