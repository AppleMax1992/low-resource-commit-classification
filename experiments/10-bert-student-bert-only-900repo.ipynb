{
 "cells": [
  {
   "cell_type": "code",
   "execution_count": 1,
   "id": "9f82a8cc-7b02-48d7-a783-6e89bccff8b2",
   "metadata": {
    "execution": {
     "iopub.execute_input": "2024-12-11T07:26:53.868485Z",
     "iopub.status.busy": "2024-12-11T07:26:53.867863Z",
     "iopub.status.idle": "2024-12-11T07:26:58.359807Z",
     "shell.execute_reply": "2024-12-11T07:26:58.358699Z",
     "shell.execute_reply.started": "2024-12-11T07:26:53.868404Z"
    }
   },
   "outputs": [
    {
     "name": "stdout",
     "output_type": "stream",
     "text": [
      "\n",
      "root\n",
      "ensemble_commit\n",
      "/root/ensemble_commit\n"
     ]
    }
   ],
   "source": [
    "import pandas as pd\n",
    "from sklearn.model_selection import train_test_split\n",
    "import torch\n",
    "import os\n",
    "\n",
    "notebook_path = os.path.abspath('')\n",
    "import sys\n",
    "# Find the part of the path that contains 'commitFit'\n",
    "commit_fit_path = None\n",
    "for part in notebook_path.split(os.sep):\n",
    "    print(part)\n",
    "    if 'ensemble_commit' in part:\n",
    "        commit_fit_path = notebook_path.split(part)[0] + part\n",
    "        print(commit_fit_path)\n",
    "        break\n",
    "\n",
    "if commit_fit_path is None:\n",
    "    raise ValueError(\"Path containing 'ensemble_commit' not found in notebook path.\")\n",
    "\n",
    "\n",
    "if commit_fit_path not in sys.path:\n",
    "    sys.path.append(commit_fit_path)\n",
    "\n",
    "import ensemble_model.preprocesser as preprocesser \n",
    "import ensemble_model.MoE_model_loss as moe \n",
    "from torch.utils.data import Dataset, DataLoader\n",
    "from transformers import BertModel, BertTokenizer, RobertaModel, RobertaTokenizer, DistilBertModel\n",
    "\n",
    "# import whatthepatch\n",
    "import numpy as np\n",
    "from sklearn.manifold import TSNE\n",
    "import matplotlib.pyplot as plt\n",
    "from sklearn.metrics import precision_score, recall_score, f1_score, precision_recall_curve,classification_report\n"
   ]
  },
  {
   "cell_type": "code",
   "execution_count": 2,
   "id": "537e23dd-4090-40f0-8c1c-3ed2e96076cc",
   "metadata": {
    "execution": {
     "iopub.execute_input": "2024-12-11T07:26:58.361803Z",
     "iopub.status.busy": "2024-12-11T07:26:58.361513Z",
     "iopub.status.idle": "2024-12-11T07:26:58.370654Z",
     "shell.execute_reply": "2024-12-11T07:26:58.369668Z",
     "shell.execute_reply.started": "2024-12-11T07:26:58.361779Z"
    }
   },
   "outputs": [
    {
     "data": {
      "text/plain": [
       "ensemble_model.MoE_model_loss.BiLSTMStudent"
      ]
     },
     "execution_count": 2,
     "metadata": {},
     "output_type": "execute_result"
    }
   ],
   "source": [
    "moe.BiLSTMStudent"
   ]
  },
  {
   "cell_type": "code",
   "execution_count": 3,
   "id": "666cb7bc-ce61-42cb-b7fa-934b5e5d3580",
   "metadata": {
    "execution": {
     "iopub.execute_input": "2024-12-11T07:26:58.371706Z",
     "iopub.status.busy": "2024-12-11T07:26:58.371467Z",
     "iopub.status.idle": "2024-12-11T07:27:01.614911Z",
     "shell.execute_reply": "2024-12-11T07:27:01.613821Z",
     "shell.execute_reply.started": "2024-12-11T07:26:58.371674Z"
    }
   },
   "outputs": [
    {
     "name": "stderr",
     "output_type": "stream",
     "text": [
      "/tmp/ipykernel_6699/1052552286.py:4: FutureWarning: Downcasting behavior in `replace` is deprecated and will be removed in a future version. To retain the old behavior, explicitly call `result.infer_objects(copy=False)`. To opt-in to the future behavior, set `pd.set_option('future.no_silent_downcasting', True)`\n",
      "  df = df.replace({\"label\": label2id})\n"
     ]
    },
    {
     "data": {
      "text/html": [
       "<div>\n",
       "<style scoped>\n",
       "    .dataframe tbody tr th:only-of-type {\n",
       "        vertical-align: middle;\n",
       "    }\n",
       "\n",
       "    .dataframe tbody tr th {\n",
       "        vertical-align: top;\n",
       "    }\n",
       "\n",
       "    .dataframe thead th {\n",
       "        text-align: right;\n",
       "    }\n",
       "</style>\n",
       "<table border=\"1\" class=\"dataframe\">\n",
       "  <thead>\n",
       "    <tr style=\"text-align: right;\">\n",
       "      <th></th>\n",
       "      <th>Unnamed: 0</th>\n",
       "      <th>label</th>\n",
       "      <th>message</th>\n",
       "      <th>diff</th>\n",
       "    </tr>\n",
       "  </thead>\n",
       "  <tbody>\n",
       "    <tr>\n",
       "      <th>0</th>\n",
       "      <td>0</td>\n",
       "      <td>0</td>\n",
       "      <td>Merge pull request #46 from rufferson/saslx-tl...</td>\n",
       "      <td>diff --git a/lib/DJabberd.pm b/lib/DJabberd.pm...</td>\n",
       "    </tr>\n",
       "    <tr>\n",
       "      <th>1</th>\n",
       "      <td>1</td>\n",
       "      <td>1</td>\n",
       "      <td>Fix leaks in kadmin server stubs [CVE-2015-863...</td>\n",
       "      <td>diff --git a/src/kadmin/server/server_stubs.c ...</td>\n",
       "    </tr>\n",
       "    <tr>\n",
       "      <th>2</th>\n",
       "      <td>2</td>\n",
       "      <td>1</td>\n",
       "      <td>Validate authorization request on approval\\n\\n...</td>\n",
       "      <td>diff --git a/spring-security-oauth2/src/main/j...</td>\n",
       "    </tr>\n",
       "    <tr>\n",
       "      <th>3</th>\n",
       "      <td>3</td>\n",
       "      <td>1</td>\n",
       "      <td>Release 2.72.4+171110</td>\n",
       "      <td>diff --git a/application/config/version.php b/...</td>\n",
       "    </tr>\n",
       "    <tr>\n",
       "      <th>4</th>\n",
       "      <td>4</td>\n",
       "      <td>0</td>\n",
       "      <td>Fixing compiler warnings.</td>\n",
       "      <td>diff --git a/src/main.c b/src/main.c\\nindex 50...</td>\n",
       "    </tr>\n",
       "    <tr>\n",
       "      <th>...</th>\n",
       "      <td>...</td>\n",
       "      <td>...</td>\n",
       "      <td>...</td>\n",
       "      <td>...</td>\n",
       "    </tr>\n",
       "    <tr>\n",
       "      <th>10107</th>\n",
       "      <td>10107</td>\n",
       "      <td>0</td>\n",
       "      <td>les: remove useless protocol defines (#22115)\\...</td>\n",
       "      <td>diff --git a/les/benchmark.go b/les/benchmark....</td>\n",
       "    </tr>\n",
       "    <tr>\n",
       "      <th>10108</th>\n",
       "      <td>10108</td>\n",
       "      <td>1</td>\n",
       "      <td>Merge pull request #2067 from realm/tg-swift-l...</td>\n",
       "      <td>diff --git a/CHANGELOG.md b/CHANGELOG.md\\ninde...</td>\n",
       "    </tr>\n",
       "    <tr>\n",
       "      <th>10109</th>\n",
       "      <td>10109</td>\n",
       "      <td>0</td>\n",
       "      <td>[fix] 新規アカウント作成ページの翻訳を修正</td>\n",
       "      <td>diff --git a/app/locales/ja_JP/LC_MESSAGES/mes...</td>\n",
       "    </tr>\n",
       "    <tr>\n",
       "      <th>10110</th>\n",
       "      <td>10110</td>\n",
       "      <td>0</td>\n",
       "      <td>Merge branch 'hotfixes'</td>\n",
       "      <td>diff --git a/CHANGELOG.txt b/CHANGELOG.txt\\nin...</td>\n",
       "    </tr>\n",
       "    <tr>\n",
       "      <th>10111</th>\n",
       "      <td>10111</td>\n",
       "      <td>1</td>\n",
       "      <td>HTTPCLIENT-1803: Improved handling of malforme...</td>\n",
       "      <td>diff --git a/httpclient/src/main/java/org/apac...</td>\n",
       "    </tr>\n",
       "  </tbody>\n",
       "</table>\n",
       "<p>10064 rows × 4 columns</p>\n",
       "</div>"
      ],
      "text/plain": [
       "       Unnamed: 0  label                                            message  \\\n",
       "0               0      0  Merge pull request #46 from rufferson/saslx-tl...   \n",
       "1               1      1  Fix leaks in kadmin server stubs [CVE-2015-863...   \n",
       "2               2      1  Validate authorization request on approval\\n\\n...   \n",
       "3               3      1                              Release 2.72.4+171110   \n",
       "4               4      0                          Fixing compiler warnings.   \n",
       "...           ...    ...                                                ...   \n",
       "10107       10107      0  les: remove useless protocol defines (#22115)\\...   \n",
       "10108       10108      1  Merge pull request #2067 from realm/tg-swift-l...   \n",
       "10109       10109      0                           [fix] 新規アカウント作成ページの翻訳を修正   \n",
       "10110       10110      0                            Merge branch 'hotfixes'   \n",
       "10111       10111      1  HTTPCLIENT-1803: Improved handling of malforme...   \n",
       "\n",
       "                                                    diff  \n",
       "0      diff --git a/lib/DJabberd.pm b/lib/DJabberd.pm...  \n",
       "1      diff --git a/src/kadmin/server/server_stubs.c ...  \n",
       "2      diff --git a/spring-security-oauth2/src/main/j...  \n",
       "3      diff --git a/application/config/version.php b/...  \n",
       "4      diff --git a/src/main.c b/src/main.c\\nindex 50...  \n",
       "...                                                  ...  \n",
       "10107  diff --git a/les/benchmark.go b/les/benchmark....  \n",
       "10108  diff --git a/CHANGELOG.md b/CHANGELOG.md\\ninde...  \n",
       "10109  diff --git a/app/locales/ja_JP/LC_MESSAGES/mes...  \n",
       "10110  diff --git a/CHANGELOG.txt b/CHANGELOG.txt\\nin...  \n",
       "10111  diff --git a/httpclient/src/main/java/org/apac...  \n",
       "\n",
       "[10064 rows x 4 columns]"
      ]
     },
     "execution_count": 3,
     "metadata": {},
     "output_type": "execute_result"
    }
   ],
   "source": [
    "df = pd.read_csv(r'../datasets/dataset.csv', encoding='utf_8_sig')\n",
    "df.dropna(inplace=True)\n",
    "label2id={'negative':0,'positive':1}\n",
    "df = df.replace({\"label\": label2id})\n",
    "df"
   ]
  },
  {
   "cell_type": "code",
   "execution_count": 4,
   "id": "18e5ba2e-9175-4455-a42a-ced130563441",
   "metadata": {
    "execution": {
     "iopub.execute_input": "2024-12-11T07:27:01.616234Z",
     "iopub.status.busy": "2024-12-11T07:27:01.616005Z",
     "iopub.status.idle": "2024-12-11T07:27:01.620856Z",
     "shell.execute_reply": "2024-12-11T07:27:01.619783Z",
     "shell.execute_reply.started": "2024-12-11T07:27:01.616209Z"
    }
   },
   "outputs": [],
   "source": [
    "# df['command'] = df['diff'].apply(lambda x : extract_lines(find_longest_list([y.changes for y in whatthepatch.parse_patch(x)])))\n",
    "# extracted_cols = df['diff'].str.extract(r'^diff --git (?P<source>[^\\t\\n]+) (?P<target>[^\\t\\n]+)')\n",
    "# whatthepatch.apply_diff(diff, lao)"
   ]
  },
  {
   "cell_type": "code",
   "execution_count": 5,
   "id": "23ded5b2-b057-4117-b99b-fa77a39bb480",
   "metadata": {
    "execution": {
     "iopub.execute_input": "2024-12-11T07:27:01.622004Z",
     "iopub.status.busy": "2024-12-11T07:27:01.621775Z",
     "iopub.status.idle": "2024-12-11T07:27:01.627476Z",
     "shell.execute_reply": "2024-12-11T07:27:01.626483Z",
     "shell.execute_reply.started": "2024-12-11T07:27:01.621974Z"
    }
   },
   "outputs": [],
   "source": [
    "# len(df_dataset)"
   ]
  },
  {
   "cell_type": "code",
   "execution_count": 6,
   "id": "7b104969-4a01-44b3-8b11-72188d0042e6",
   "metadata": {
    "execution": {
     "iopub.execute_input": "2024-12-11T07:27:01.628683Z",
     "iopub.status.busy": "2024-12-11T07:27:01.628470Z",
     "iopub.status.idle": "2024-12-11T07:27:01.632926Z",
     "shell.execute_reply": "2024-12-11T07:27:01.631833Z",
     "shell.execute_reply.started": "2024-12-11T07:27:01.628655Z"
    }
   },
   "outputs": [],
   "source": [
    "# df_dataset[0]"
   ]
  },
  {
   "cell_type": "code",
   "execution_count": 7,
   "id": "7b77e6e8-8d9d-45f3-be04-94a8b7499213",
   "metadata": {
    "execution": {
     "iopub.execute_input": "2024-12-11T07:27:01.635793Z",
     "iopub.status.busy": "2024-12-11T07:27:01.635561Z",
     "iopub.status.idle": "2024-12-11T07:27:03.685018Z",
     "shell.execute_reply": "2024-12-11T07:27:03.683962Z",
     "shell.execute_reply.started": "2024-12-11T07:27:01.635768Z"
    }
   },
   "outputs": [
    {
     "name": "stderr",
     "output_type": "stream",
     "text": [
      "Some weights of the model checkpoint at ../models/bert-base-cased were not used when initializing BertModel: ['cls.predictions.transform.dense.weight', 'cls.seq_relationship.bias', 'cls.predictions.transform.LayerNorm.bias', 'cls.seq_relationship.weight', 'cls.predictions.transform.dense.bias', 'cls.predictions.transform.LayerNorm.weight', 'cls.predictions.bias']\n",
      "- This IS expected if you are initializing BertModel from the checkpoint of a model trained on another task or with another architecture (e.g. initializing a BertForSequenceClassification model from a BertForPreTraining model).\n",
      "- This IS NOT expected if you are initializing BertModel from the checkpoint of a model that you expect to be exactly identical (initializing a BertForSequenceClassification model from a BertForSequenceClassification model).\n",
      "Some weights of the model checkpoint at ../models/bert-base-cased were not used when initializing BertModel: ['cls.predictions.transform.dense.weight', 'cls.seq_relationship.bias', 'cls.predictions.transform.LayerNorm.bias', 'cls.seq_relationship.weight', 'cls.predictions.transform.dense.bias', 'cls.predictions.transform.LayerNorm.weight', 'cls.predictions.bias']\n",
      "- This IS expected if you are initializing BertModel from the checkpoint of a model trained on another task or with another architecture (e.g. initializing a BertForSequenceClassification model from a BertForPreTraining model).\n",
      "- This IS NOT expected if you are initializing BertModel from the checkpoint of a model that you expect to be exactly identical (initializing a BertForSequenceClassification model from a BertForSequenceClassification model).\n"
     ]
    }
   ],
   "source": [
    "# Load BERT and CodeBERT models and tokenizers\n",
    "bert_model = BertModel.from_pretrained('../models/bert-base-cased')\n",
    "bert_tokenizer = BertTokenizer.from_pretrained('../models/bert-base-cased')\n",
    "\n",
    "codebert_model = BertModel.from_pretrained('../models/bert-base-cased')\n",
    "codebert_tokenizer = BertTokenizer.from_pretrained('../models/bert-base-cased')"
   ]
  },
  {
   "cell_type": "code",
   "execution_count": 8,
   "id": "fa751a3e-86ae-4f11-82ca-c173f5320a09",
   "metadata": {
    "execution": {
     "iopub.execute_input": "2024-12-11T07:27:03.686107Z",
     "iopub.status.busy": "2024-12-11T07:27:03.685908Z",
     "iopub.status.idle": "2024-12-11T07:27:03.695231Z",
     "shell.execute_reply": "2024-12-11T07:27:03.694249Z",
     "shell.execute_reply.started": "2024-12-11T07:27:03.686085Z"
    }
   },
   "outputs": [],
   "source": [
    "train_data, test_data = train_test_split(df, test_size=0.3, random_state=42)\n",
    "test_data, val_data = train_test_split(test_data, test_size=0.5, random_state=42)\n",
    "# train_data = pd.read_csv('./datasets/PD_train.csv')\n",
    "# test_data = pd.read_csv('./datasets/PD_test.csv')\n",
    "# val_data = pd.read_csv('./datasets/PD_val.csv')\n",
    "\n"
   ]
  },
  {
   "cell_type": "code",
   "execution_count": 9,
   "id": "c1f1e42a-ca2a-47b4-aeb0-536795d2a2f7",
   "metadata": {
    "execution": {
     "iopub.execute_input": "2024-12-11T07:27:03.696152Z",
     "iopub.status.busy": "2024-12-11T07:27:03.695958Z",
     "iopub.status.idle": "2024-12-11T07:27:03.920760Z",
     "shell.execute_reply": "2024-12-11T07:27:03.917220Z",
     "shell.execute_reply.started": "2024-12-11T07:27:03.696131Z"
    }
   },
   "outputs": [],
   "source": [
    "# codebert_model.config.hidden_size"
   ]
  },
  {
   "cell_type": "code",
   "execution_count": 10,
   "id": "4b5e68a2-d0bb-42c1-a6a3-1d66267b3651",
   "metadata": {
    "execution": {
     "iopub.execute_input": "2024-12-11T07:27:03.926228Z",
     "iopub.status.busy": "2024-12-11T07:27:03.924643Z",
     "iopub.status.idle": "2024-12-11T07:27:03.945512Z",
     "shell.execute_reply": "2024-12-11T07:27:03.942286Z",
     "shell.execute_reply.started": "2024-12-11T07:27:03.926150Z"
    }
   },
   "outputs": [
    {
     "data": {
      "text/plain": [
       "1510"
      ]
     },
     "execution_count": 10,
     "metadata": {},
     "output_type": "execute_result"
    }
   ],
   "source": [
    "len(test_data)"
   ]
  },
  {
   "cell_type": "code",
   "execution_count": 11,
   "id": "f8f11097-0571-4896-972e-da03419f6f1f",
   "metadata": {
    "execution": {
     "iopub.execute_input": "2024-12-11T07:27:03.951105Z",
     "iopub.status.busy": "2024-12-11T07:27:03.949607Z",
     "iopub.status.idle": "2024-12-11T07:27:03.986156Z",
     "shell.execute_reply": "2024-12-11T07:27:03.983364Z",
     "shell.execute_reply.started": "2024-12-11T07:27:03.951013Z"
    }
   },
   "outputs": [],
   "source": [
    "train_data,_ = train_test_split(train_data, train_size=0.1, random_state=42)\n",
    "test_data, val_data = train_test_split(test_data, train_size=0.1, random_state=42)\n",
    "val_data, _ = train_test_split(val_data, train_size=0.1, random_state=42)"
   ]
  },
  {
   "cell_type": "code",
   "execution_count": 12,
   "id": "6d0173b0-7cee-488c-988d-30fdc9c30c95",
   "metadata": {
    "execution": {
     "iopub.execute_input": "2024-12-11T07:27:03.989767Z",
     "iopub.status.busy": "2024-12-11T07:27:03.988605Z",
     "iopub.status.idle": "2024-12-11T07:27:04.008721Z",
     "shell.execute_reply": "2024-12-11T07:27:04.005490Z",
     "shell.execute_reply.started": "2024-12-11T07:27:03.989587Z"
    }
   },
   "outputs": [],
   "source": [
    "train_data.reset_index(inplace=True)\n",
    "test_data.reset_index(inplace=True)\n",
    "val_data.reset_index(inplace=True)"
   ]
  },
  {
   "cell_type": "code",
   "execution_count": 13,
   "id": "e93e40c2-34b1-4bf7-b835-9718fe3f6039",
   "metadata": {
    "execution": {
     "iopub.execute_input": "2024-12-11T07:27:04.014283Z",
     "iopub.status.busy": "2024-12-11T07:27:04.012627Z",
     "iopub.status.idle": "2024-12-11T07:27:04.039151Z",
     "shell.execute_reply": "2024-12-11T07:27:04.036387Z",
     "shell.execute_reply.started": "2024-12-11T07:27:04.014115Z"
    }
   },
   "outputs": [
    {
     "data": {
      "text/plain": [
       "label\n",
       "0    448\n",
       "1    256\n",
       "Name: count, dtype: int64"
      ]
     },
     "execution_count": 13,
     "metadata": {},
     "output_type": "execute_result"
    }
   ],
   "source": [
    "train_data['label'].value_counts()"
   ]
  },
  {
   "cell_type": "code",
   "execution_count": 14,
   "id": "6b52cd58-8ced-4995-a326-22fbb809b527",
   "metadata": {
    "execution": {
     "iopub.execute_input": "2024-12-11T07:27:04.044450Z",
     "iopub.status.busy": "2024-12-11T07:27:04.042969Z",
     "iopub.status.idle": "2024-12-11T07:27:04.098461Z",
     "shell.execute_reply": "2024-12-11T07:27:04.095414Z",
     "shell.execute_reply.started": "2024-12-11T07:27:04.044317Z"
    }
   },
   "outputs": [
    {
     "data": {
      "text/html": [
       "<div>\n",
       "<style scoped>\n",
       "    .dataframe tbody tr th:only-of-type {\n",
       "        vertical-align: middle;\n",
       "    }\n",
       "\n",
       "    .dataframe tbody tr th {\n",
       "        vertical-align: top;\n",
       "    }\n",
       "\n",
       "    .dataframe thead th {\n",
       "        text-align: right;\n",
       "    }\n",
       "</style>\n",
       "<table border=\"1\" class=\"dataframe\">\n",
       "  <thead>\n",
       "    <tr style=\"text-align: right;\">\n",
       "      <th></th>\n",
       "      <th>index</th>\n",
       "      <th>Unnamed: 0</th>\n",
       "      <th>label</th>\n",
       "      <th>message</th>\n",
       "      <th>diff</th>\n",
       "    </tr>\n",
       "  </thead>\n",
       "  <tbody>\n",
       "    <tr>\n",
       "      <th>0</th>\n",
       "      <td>8267</td>\n",
       "      <td>8267</td>\n",
       "      <td>0</td>\n",
       "      <td>Merge branch 'cassandra-3.0' into cassandra-3.11</td>\n",
       "      <td>diff --git a/CHANGES.txt b/CHANGES.txt\\nindex ...</td>\n",
       "    </tr>\n",
       "    <tr>\n",
       "      <th>1</th>\n",
       "      <td>5734</td>\n",
       "      <td>5734</td>\n",
       "      <td>0</td>\n",
       "      <td>Fix getPicon</td>\n",
       "      <td>diff --git a/plugin/controllers/models/service...</td>\n",
       "    </tr>\n",
       "    <tr>\n",
       "      <th>2</th>\n",
       "      <td>1397</td>\n",
       "      <td>1397</td>\n",
       "      <td>0</td>\n",
       "      <td>1.0.6</td>\n",
       "      <td>diff --git a/package.json b/package.json\\ninde...</td>\n",
       "    </tr>\n",
       "    <tr>\n",
       "      <th>3</th>\n",
       "      <td>8156</td>\n",
       "      <td>8156</td>\n",
       "      <td>0</td>\n",
       "      <td>Added envconf() wrapper around conf()</td>\n",
       "      <td>diff --git a/lib/Functions.php b/lib/Functions...</td>\n",
       "    </tr>\n",
       "    <tr>\n",
       "      <th>4</th>\n",
       "      <td>7255</td>\n",
       "      <td>7255</td>\n",
       "      <td>0</td>\n",
       "      <td>Update VERSION to 3.0.0</td>\n",
       "      <td>diff --git a/CHANGES b/CHANGES\\nindex 86460f0f...</td>\n",
       "    </tr>\n",
       "    <tr>\n",
       "      <th>...</th>\n",
       "      <td>...</td>\n",
       "      <td>...</td>\n",
       "      <td>...</td>\n",
       "      <td>...</td>\n",
       "      <td>...</td>\n",
       "    </tr>\n",
       "    <tr>\n",
       "      <th>130</th>\n",
       "      <td>41</td>\n",
       "      <td>41</td>\n",
       "      <td>0</td>\n",
       "      <td>Merge pull request #870 from AshKyd/develop\\n\\...</td>\n",
       "      <td>diff --git a/php/Admin/Settings/OverallPanel.p...</td>\n",
       "    </tr>\n",
       "    <tr>\n",
       "      <th>131</th>\n",
       "      <td>5434</td>\n",
       "      <td>5434</td>\n",
       "      <td>0</td>\n",
       "      <td>Send Async</td>\n",
       "      <td>diff --git a/plugin/Live/on_publish.php b/plug...</td>\n",
       "    </tr>\n",
       "    <tr>\n",
       "      <th>132</th>\n",
       "      <td>6889</td>\n",
       "      <td>6889</td>\n",
       "      <td>0</td>\n",
       "      <td>Update translations from Crowdin for pl_PL</td>\n",
       "      <td>diff --git a/modules/po/controlpanel.pl_PL.po ...</td>\n",
       "    </tr>\n",
       "    <tr>\n",
       "      <th>133</th>\n",
       "      <td>4097</td>\n",
       "      <td>4097</td>\n",
       "      <td>1</td>\n",
       "      <td>XSS 취약점 수정</td>\n",
       "      <td>diff --git a/adm/boardgroup_form.php b/adm/boa...</td>\n",
       "    </tr>\n",
       "    <tr>\n",
       "      <th>134</th>\n",
       "      <td>5725</td>\n",
       "      <td>5725</td>\n",
       "      <td>1</td>\n",
       "      <td>Handle invalid RFC 1964 tokens [CVE-2014-4341....</td>\n",
       "      <td>diff --git a/src/lib/gssapi/krb5/k5unseal.c b/...</td>\n",
       "    </tr>\n",
       "  </tbody>\n",
       "</table>\n",
       "<p>135 rows × 5 columns</p>\n",
       "</div>"
      ],
      "text/plain": [
       "     index  Unnamed: 0  label  \\\n",
       "0     8267        8267      0   \n",
       "1     5734        5734      0   \n",
       "2     1397        1397      0   \n",
       "3     8156        8156      0   \n",
       "4     7255        7255      0   \n",
       "..     ...         ...    ...   \n",
       "130     41          41      0   \n",
       "131   5434        5434      0   \n",
       "132   6889        6889      0   \n",
       "133   4097        4097      1   \n",
       "134   5725        5725      1   \n",
       "\n",
       "                                               message  \\\n",
       "0     Merge branch 'cassandra-3.0' into cassandra-3.11   \n",
       "1                                         Fix getPicon   \n",
       "2                                                1.0.6   \n",
       "3                Added envconf() wrapper around conf()   \n",
       "4                              Update VERSION to 3.0.0   \n",
       "..                                                 ...   \n",
       "130  Merge pull request #870 from AshKyd/develop\\n\\...   \n",
       "131                                         Send Async   \n",
       "132         Update translations from Crowdin for pl_PL   \n",
       "133                                         XSS 취약점 수정   \n",
       "134  Handle invalid RFC 1964 tokens [CVE-2014-4341....   \n",
       "\n",
       "                                                  diff  \n",
       "0    diff --git a/CHANGES.txt b/CHANGES.txt\\nindex ...  \n",
       "1    diff --git a/plugin/controllers/models/service...  \n",
       "2    diff --git a/package.json b/package.json\\ninde...  \n",
       "3    diff --git a/lib/Functions.php b/lib/Functions...  \n",
       "4    diff --git a/CHANGES b/CHANGES\\nindex 86460f0f...  \n",
       "..                                                 ...  \n",
       "130  diff --git a/php/Admin/Settings/OverallPanel.p...  \n",
       "131  diff --git a/plugin/Live/on_publish.php b/plug...  \n",
       "132  diff --git a/modules/po/controlpanel.pl_PL.po ...  \n",
       "133  diff --git a/adm/boardgroup_form.php b/adm/boa...  \n",
       "134  diff --git a/src/lib/gssapi/krb5/k5unseal.c b/...  \n",
       "\n",
       "[135 rows x 5 columns]"
      ]
     },
     "execution_count": 14,
     "metadata": {},
     "output_type": "execute_result"
    }
   ],
   "source": [
    "val_data"
   ]
  },
  {
   "cell_type": "code",
   "execution_count": 15,
   "id": "594e7b0d-1718-47e5-8b68-b27a016c61c5",
   "metadata": {
    "execution": {
     "iopub.execute_input": "2024-12-11T07:27:04.103302Z",
     "iopub.status.busy": "2024-12-11T07:27:04.102020Z",
     "iopub.status.idle": "2024-12-11T07:27:04.141203Z",
     "shell.execute_reply": "2024-12-11T07:27:04.138568Z",
     "shell.execute_reply.started": "2024-12-11T07:27:04.103144Z"
    }
   },
   "outputs": [
    {
     "data": {
      "text/html": [
       "<div>\n",
       "<style scoped>\n",
       "    .dataframe tbody tr th:only-of-type {\n",
       "        vertical-align: middle;\n",
       "    }\n",
       "\n",
       "    .dataframe tbody tr th {\n",
       "        vertical-align: top;\n",
       "    }\n",
       "\n",
       "    .dataframe thead th {\n",
       "        text-align: right;\n",
       "    }\n",
       "</style>\n",
       "<table border=\"1\" class=\"dataframe\">\n",
       "  <thead>\n",
       "    <tr style=\"text-align: right;\">\n",
       "      <th></th>\n",
       "      <th>index</th>\n",
       "      <th>Unnamed: 0</th>\n",
       "      <th>label</th>\n",
       "      <th>message</th>\n",
       "      <th>diff</th>\n",
       "    </tr>\n",
       "  </thead>\n",
       "  <tbody>\n",
       "    <tr>\n",
       "      <th>0</th>\n",
       "      <td>8267</td>\n",
       "      <td>8267</td>\n",
       "      <td>0</td>\n",
       "      <td>Merge branch 'cassandra-3.0' into cassandra-3.11</td>\n",
       "      <td>diff --git a/CHANGES.txt b/CHANGES.txt\\nindex ...</td>\n",
       "    </tr>\n",
       "    <tr>\n",
       "      <th>1</th>\n",
       "      <td>5734</td>\n",
       "      <td>5734</td>\n",
       "      <td>0</td>\n",
       "      <td>Fix getPicon</td>\n",
       "      <td>diff --git a/plugin/controllers/models/service...</td>\n",
       "    </tr>\n",
       "    <tr>\n",
       "      <th>2</th>\n",
       "      <td>1397</td>\n",
       "      <td>1397</td>\n",
       "      <td>0</td>\n",
       "      <td>1.0.6</td>\n",
       "      <td>diff --git a/package.json b/package.json\\ninde...</td>\n",
       "    </tr>\n",
       "    <tr>\n",
       "      <th>3</th>\n",
       "      <td>8156</td>\n",
       "      <td>8156</td>\n",
       "      <td>0</td>\n",
       "      <td>Added envconf() wrapper around conf()</td>\n",
       "      <td>diff --git a/lib/Functions.php b/lib/Functions...</td>\n",
       "    </tr>\n",
       "    <tr>\n",
       "      <th>4</th>\n",
       "      <td>7255</td>\n",
       "      <td>7255</td>\n",
       "      <td>0</td>\n",
       "      <td>Update VERSION to 3.0.0</td>\n",
       "      <td>diff --git a/CHANGES b/CHANGES\\nindex 86460f0f...</td>\n",
       "    </tr>\n",
       "    <tr>\n",
       "      <th>...</th>\n",
       "      <td>...</td>\n",
       "      <td>...</td>\n",
       "      <td>...</td>\n",
       "      <td>...</td>\n",
       "      <td>...</td>\n",
       "    </tr>\n",
       "    <tr>\n",
       "      <th>130</th>\n",
       "      <td>41</td>\n",
       "      <td>41</td>\n",
       "      <td>0</td>\n",
       "      <td>Merge pull request #870 from AshKyd/develop\\n\\...</td>\n",
       "      <td>diff --git a/php/Admin/Settings/OverallPanel.p...</td>\n",
       "    </tr>\n",
       "    <tr>\n",
       "      <th>131</th>\n",
       "      <td>5434</td>\n",
       "      <td>5434</td>\n",
       "      <td>0</td>\n",
       "      <td>Send Async</td>\n",
       "      <td>diff --git a/plugin/Live/on_publish.php b/plug...</td>\n",
       "    </tr>\n",
       "    <tr>\n",
       "      <th>132</th>\n",
       "      <td>6889</td>\n",
       "      <td>6889</td>\n",
       "      <td>0</td>\n",
       "      <td>Update translations from Crowdin for pl_PL</td>\n",
       "      <td>diff --git a/modules/po/controlpanel.pl_PL.po ...</td>\n",
       "    </tr>\n",
       "    <tr>\n",
       "      <th>133</th>\n",
       "      <td>4097</td>\n",
       "      <td>4097</td>\n",
       "      <td>1</td>\n",
       "      <td>XSS 취약점 수정</td>\n",
       "      <td>diff --git a/adm/boardgroup_form.php b/adm/boa...</td>\n",
       "    </tr>\n",
       "    <tr>\n",
       "      <th>134</th>\n",
       "      <td>5725</td>\n",
       "      <td>5725</td>\n",
       "      <td>1</td>\n",
       "      <td>Handle invalid RFC 1964 tokens [CVE-2014-4341....</td>\n",
       "      <td>diff --git a/src/lib/gssapi/krb5/k5unseal.c b/...</td>\n",
       "    </tr>\n",
       "  </tbody>\n",
       "</table>\n",
       "<p>135 rows × 5 columns</p>\n",
       "</div>"
      ],
      "text/plain": [
       "     index  Unnamed: 0  label  \\\n",
       "0     8267        8267      0   \n",
       "1     5734        5734      0   \n",
       "2     1397        1397      0   \n",
       "3     8156        8156      0   \n",
       "4     7255        7255      0   \n",
       "..     ...         ...    ...   \n",
       "130     41          41      0   \n",
       "131   5434        5434      0   \n",
       "132   6889        6889      0   \n",
       "133   4097        4097      1   \n",
       "134   5725        5725      1   \n",
       "\n",
       "                                               message  \\\n",
       "0     Merge branch 'cassandra-3.0' into cassandra-3.11   \n",
       "1                                         Fix getPicon   \n",
       "2                                                1.0.6   \n",
       "3                Added envconf() wrapper around conf()   \n",
       "4                              Update VERSION to 3.0.0   \n",
       "..                                                 ...   \n",
       "130  Merge pull request #870 from AshKyd/develop\\n\\...   \n",
       "131                                         Send Async   \n",
       "132         Update translations from Crowdin for pl_PL   \n",
       "133                                         XSS 취약점 수정   \n",
       "134  Handle invalid RFC 1964 tokens [CVE-2014-4341....   \n",
       "\n",
       "                                                  diff  \n",
       "0    diff --git a/CHANGES.txt b/CHANGES.txt\\nindex ...  \n",
       "1    diff --git a/plugin/controllers/models/service...  \n",
       "2    diff --git a/package.json b/package.json\\ninde...  \n",
       "3    diff --git a/lib/Functions.php b/lib/Functions...  \n",
       "4    diff --git a/CHANGES b/CHANGES\\nindex 86460f0f...  \n",
       "..                                                 ...  \n",
       "130  diff --git a/php/Admin/Settings/OverallPanel.p...  \n",
       "131  diff --git a/plugin/Live/on_publish.php b/plug...  \n",
       "132  diff --git a/modules/po/controlpanel.pl_PL.po ...  \n",
       "133  diff --git a/adm/boardgroup_form.php b/adm/boa...  \n",
       "134  diff --git a/src/lib/gssapi/krb5/k5unseal.c b/...  \n",
       "\n",
       "[135 rows x 5 columns]"
      ]
     },
     "execution_count": 15,
     "metadata": {},
     "output_type": "execute_result"
    }
   ],
   "source": [
    "val_data"
   ]
  },
  {
   "cell_type": "code",
   "execution_count": 16,
   "id": "1549be02-6f6b-41e5-bd04-d3e164061eec",
   "metadata": {
    "execution": {
     "iopub.execute_input": "2024-12-11T07:27:04.147111Z",
     "iopub.status.busy": "2024-12-11T07:27:04.145545Z",
     "iopub.status.idle": "2024-12-11T07:27:04.172464Z",
     "shell.execute_reply": "2024-12-11T07:27:04.170068Z",
     "shell.execute_reply.started": "2024-12-11T07:27:04.146938Z"
    }
   },
   "outputs": [],
   "source": [
    "\n",
    "\n",
    "# Create Datasets and DataLoaders\n",
    "train_dataset = preprocesser.SentencePairDataset(train_data, bert_tokenizer, codebert_tokenizer, message='message',command='diff',label='label')\n",
    "val_dataset = preprocesser.SentencePairDataset(val_data, bert_tokenizer, codebert_tokenizer, message='message',command='diff',label='label')\n",
    "test_dataset = preprocesser.SentencePairDataset(test_data, bert_tokenizer, codebert_tokenizer, message='message',command='diff',label='label')\n",
    "\n",
    "train_loader = DataLoader(train_dataset, batch_size=8, shuffle=False)\n",
    "val_loader = DataLoader(val_dataset, batch_size=8, shuffle=False)\n",
    "test_loader = DataLoader(test_dataset, batch_size=8, shuffle=False)\n",
    "\n",
    "\n",
    "\n",
    "# # Initialize the model\n",
    "# model = em.CombinedModel(bert_model, codebert_model, bert_tokenizer, codebert_tokenizer)\n",
    "\n",
    "# # Train the model\n",
    "# model.trainer(train_loader, val_loader,num_epochs=10)\n",
    "# for batch in train_loader:\n",
    "#     print(batch)"
   ]
  },
  {
   "cell_type": "code",
   "execution_count": 17,
   "id": "09dcb1fc-8ae4-4e9e-9180-41d41e3698af",
   "metadata": {
    "execution": {
     "iopub.execute_input": "2024-12-11T07:27:04.176822Z",
     "iopub.status.busy": "2024-12-11T07:27:04.175597Z",
     "iopub.status.idle": "2024-12-11T07:27:04.189581Z",
     "shell.execute_reply": "2024-12-11T07:27:04.186579Z",
     "shell.execute_reply.started": "2024-12-11T07:27:04.176709Z"
    }
   },
   "outputs": [],
   "source": [
    "base_model1 = moe.BaseModel(bert_model)\n",
    "base_model2 = moe.BaseModel(codebert_model)"
   ]
  },
  {
   "cell_type": "code",
   "execution_count": 18,
   "id": "b8bb3e18-9412-4036-93d4-ac331093752c",
   "metadata": {
    "execution": {
     "iopub.execute_input": "2024-12-11T07:27:04.194175Z",
     "iopub.status.busy": "2024-12-11T07:27:04.193067Z",
     "iopub.status.idle": "2024-12-11T07:27:05.533165Z",
     "shell.execute_reply": "2024-12-11T07:27:05.532064Z",
     "shell.execute_reply.started": "2024-12-11T07:27:04.194100Z"
    }
   },
   "outputs": [
    {
     "name": "stderr",
     "output_type": "stream",
     "text": [
      "Some weights of the model checkpoint at /root/autodl-tmp/IPCK/model/distilbert were not used when initializing DistilBertModel: ['vocab_transform.bias', 'vocab_layer_norm.bias', 'vocab_transform.weight', 'vocab_layer_norm.weight', 'vocab_projector.bias']\n",
      "- This IS expected if you are initializing DistilBertModel from the checkpoint of a model trained on another task or with another architecture (e.g. initializing a BertForSequenceClassification model from a BertForPreTraining model).\n",
      "- This IS NOT expected if you are initializing DistilBertModel from the checkpoint of a model that you expect to be exactly identical (initializing a BertForSequenceClassification model from a BertForSequenceClassification model).\n",
      "Some weights of the model checkpoint at /root/autodl-tmp/IPCK/model/distilbert were not used when initializing DistilBertModel: ['vocab_transform.bias', 'vocab_layer_norm.bias', 'vocab_transform.weight', 'vocab_layer_norm.weight', 'vocab_projector.bias']\n",
      "- This IS expected if you are initializing DistilBertModel from the checkpoint of a model trained on another task or with another architecture (e.g. initializing a BertForSequenceClassification model from a BertForPreTraining model).\n",
      "- This IS NOT expected if you are initializing DistilBertModel from the checkpoint of a model that you expect to be exactly identical (initializing a BertForSequenceClassification model from a BertForSequenceClassification model).\n"
     ]
    }
   ],
   "source": [
    "# Load BERT and CodeBERT models and tokenizers\n",
    "bert_model = DistilBertModel.from_pretrained('/root/autodl-tmp/IPCK/model/distilbert')\n",
    "\n",
    "codebert_model = DistilBertModel.from_pretrained('/root/autodl-tmp/IPCK/model/distilbert')"
   ]
  },
  {
   "cell_type": "code",
   "execution_count": 19,
   "id": "e3ab313b-e462-4272-bb74-3ddfbd324125",
   "metadata": {
    "execution": {
     "iopub.execute_input": "2024-12-11T07:27:05.534636Z",
     "iopub.status.busy": "2024-12-11T07:27:05.534419Z",
     "iopub.status.idle": "2024-12-11T07:27:05.539241Z",
     "shell.execute_reply": "2024-12-11T07:27:05.538276Z",
     "shell.execute_reply.started": "2024-12-11T07:27:05.534611Z"
    }
   },
   "outputs": [],
   "source": [
    "encoder_model1 = moe.EncoderModel(bert_model)\n",
    "encoder_model2 = moe.EncoderModel(bert_model)"
   ]
  },
  {
   "cell_type": "code",
   "execution_count": 20,
   "id": "ac85df22-f318-41d4-9f4c-47f56f38055f",
   "metadata": {
    "execution": {
     "iopub.execute_input": "2024-12-11T07:27:05.540374Z",
     "iopub.status.busy": "2024-12-11T07:27:05.540188Z",
     "iopub.status.idle": "2024-12-11T07:50:47.256386Z",
     "shell.execute_reply": "2024-12-11T07:50:47.255196Z",
     "shell.execute_reply.started": "2024-12-11T07:27:05.540353Z"
    }
   },
   "outputs": [
    {
     "name": "stderr",
     "output_type": "stream",
     "text": [
      "/root/miniconda3/lib/python3.10/site-packages/transformers/optimization.py:391: FutureWarning: This implementation of AdamW is deprecated and will be removed in a future version. Use the PyTorch implementation torch.optim.AdamW instead, or set `no_deprecation_warning=True` to disable this warning\n",
      "  warnings.warn(\n",
      "Epoch 1/30 Loss: 0.1637: 100%|██████████| 88/88 [01:47<00:00,  1.22s/batch]\n"
     ]
    },
    {
     "name": "stdout",
     "output_type": "stream",
     "text": [
      "=============================train========================\n"
     ]
    },
    {
     "name": "stderr",
     "output_type": "stream",
     "text": [
      "Epoch 2/30 Loss: 0.1449: 100%|██████████| 88/88 [02:01<00:00,  1.38s/batch]\n"
     ]
    },
    {
     "name": "stdout",
     "output_type": "stream",
     "text": [
      "=============================train========================\n"
     ]
    },
    {
     "name": "stderr",
     "output_type": "stream",
     "text": [
      "Epoch 3/30 Loss: 0.1285: 100%|██████████| 88/88 [01:46<00:00,  1.20s/batch]\n"
     ]
    },
    {
     "name": "stdout",
     "output_type": "stream",
     "text": [
      "=============================train========================\n"
     ]
    },
    {
     "name": "stderr",
     "output_type": "stream",
     "text": [
      "Epoch 4/30 Loss: 0.1353: 100%|██████████| 88/88 [01:44<00:00,  1.18s/batch]\n"
     ]
    },
    {
     "name": "stdout",
     "output_type": "stream",
     "text": [
      "=============================train========================\n"
     ]
    },
    {
     "name": "stderr",
     "output_type": "stream",
     "text": [
      "Epoch 5/30 Loss: 0.1060: 100%|██████████| 88/88 [02:09<00:00,  1.48s/batch]\n"
     ]
    },
    {
     "name": "stdout",
     "output_type": "stream",
     "text": [
      "=============================train========================\n"
     ]
    },
    {
     "name": "stderr",
     "output_type": "stream",
     "text": [
      "Epoch 6/30 Loss: 0.0785: 100%|██████████| 88/88 [01:51<00:00,  1.27s/batch]\n"
     ]
    },
    {
     "name": "stdout",
     "output_type": "stream",
     "text": [
      "=============================train========================\n"
     ]
    },
    {
     "name": "stderr",
     "output_type": "stream",
     "text": [
      "Epoch 7/30 Loss: 0.0549: 100%|██████████| 88/88 [02:01<00:00,  1.38s/batch]\n"
     ]
    },
    {
     "name": "stdout",
     "output_type": "stream",
     "text": [
      "=============================train========================\n"
     ]
    },
    {
     "name": "stderr",
     "output_type": "stream",
     "text": [
      "Epoch 8/30 Loss: 0.0453: 100%|██████████| 88/88 [01:41<00:00,  1.15s/batch]\n"
     ]
    },
    {
     "name": "stdout",
     "output_type": "stream",
     "text": [
      "=============================train========================\n"
     ]
    },
    {
     "name": "stderr",
     "output_type": "stream",
     "text": [
      "Epoch 9/30 Loss: 0.0291: 100%|██████████| 88/88 [01:45<00:00,  1.20s/batch]\n"
     ]
    },
    {
     "name": "stdout",
     "output_type": "stream",
     "text": [
      "=============================train========================\n"
     ]
    },
    {
     "name": "stderr",
     "output_type": "stream",
     "text": [
      "Epoch 10/30 Loss: 0.0288: 100%|██████████| 88/88 [01:39<00:00,  1.14s/batch]\n"
     ]
    },
    {
     "name": "stdout",
     "output_type": "stream",
     "text": [
      "=============================train========================\n"
     ]
    },
    {
     "name": "stderr",
     "output_type": "stream",
     "text": [
      "Epoch 11/30 Loss: 0.0355: 100%|██████████| 88/88 [01:40<00:00,  1.15s/batch]\n"
     ]
    },
    {
     "name": "stdout",
     "output_type": "stream",
     "text": [
      "=============================train========================\n"
     ]
    },
    {
     "name": "stderr",
     "output_type": "stream",
     "text": [
      "Epoch 12/30 Loss: 0.0379: 100%|██████████| 88/88 [01:40<00:00,  1.15s/batch]\n"
     ]
    },
    {
     "name": "stdout",
     "output_type": "stream",
     "text": [
      "=============================train========================\n"
     ]
    },
    {
     "name": "stderr",
     "output_type": "stream",
     "text": [
      "Epoch 13/30 Loss: 0.0472: 100%|██████████| 88/88 [01:41<00:00,  1.15s/batch]\n"
     ]
    },
    {
     "name": "stdout",
     "output_type": "stream",
     "text": [
      "=============================train========================\n",
      "Early stopping triggered after 13 epochs\n",
      "Validation Accuracy: 0.7407\n",
      "Precision: 0.7612\n",
      "Recall: 0.7407\n",
      "F1-Score: 0.7441\n"
     ]
    }
   ],
   "source": [
    "\n",
    "\n",
    "# Create stacking model\n",
    "moe_model = moe.MoEModel(base_model1, base_model2)\n",
    "# Train the model\n",
    "moe_model.trainer(train_loader, val_loader,num_epochs=30, patience=3)"
   ]
  },
  {
   "cell_type": "code",
   "execution_count": 25,
   "id": "def4bb0a-419c-46fb-b61b-c9f1a98f0caa",
   "metadata": {
    "execution": {
     "iopub.execute_input": "2024-12-11T08:36:04.871138Z",
     "iopub.status.busy": "2024-12-11T08:36:04.870370Z",
     "iopub.status.idle": "2024-12-11T08:36:04.883300Z",
     "shell.execute_reply": "2024-12-11T08:36:04.880565Z",
     "shell.execute_reply.started": "2024-12-11T08:36:04.871058Z"
    }
   },
   "outputs": [],
   "source": [
    "test_dataset = preprocesser.SentencePairDataset(test_data, bert_tokenizer, codebert_tokenizer,message='message',command='diff',label='label')\n",
    "test_loader = DataLoader(test_dataset, batch_size=8, shuffle=False)"
   ]
  },
  {
   "cell_type": "code",
   "execution_count": null,
   "id": "4e01924f-b8a3-4282-acf6-6d38aee2620c",
   "metadata": {},
   "outputs": [],
   "source": []
  },
  {
   "cell_type": "code",
   "execution_count": 26,
   "id": "92009384-7770-4b2a-97b2-c0b4d209a0a7",
   "metadata": {
    "execution": {
     "iopub.execute_input": "2024-12-11T08:36:06.508458Z",
     "iopub.status.busy": "2024-12-11T08:36:06.507064Z",
     "iopub.status.idle": "2024-12-11T08:36:08.198178Z",
     "shell.execute_reply": "2024-12-11T08:36:08.196468Z",
     "shell.execute_reply.started": "2024-12-11T08:36:06.508377Z"
    }
   },
   "outputs": [],
   "source": [
    "torch.save(moe_model, \"entire_bert_model_900repo.pth\")"
   ]
  },
  {
   "cell_type": "code",
   "execution_count": 27,
   "id": "49ad177a-0ad0-414e-a5b6-5b768a5da9cd",
   "metadata": {
    "execution": {
     "iopub.execute_input": "2024-12-11T08:36:08.952046Z",
     "iopub.status.busy": "2024-12-11T08:36:08.950776Z",
     "iopub.status.idle": "2024-12-11T08:36:09.724949Z",
     "shell.execute_reply": "2024-12-11T08:36:09.724116Z",
     "shell.execute_reply.started": "2024-12-11T08:36:08.951963Z"
    }
   },
   "outputs": [],
   "source": [
    "moe_model = torch.load(\"entire_bert_model_900repo.pth\")                                                                                                                                                                                                                                                                                                                                                                                                                                                        "
   ]
  },
  {
   "cell_type": "code",
   "execution_count": 28,
   "id": "5878d2a3-fe90-45b1-9486-739c4fee6004",
   "metadata": {
    "execution": {
     "iopub.execute_input": "2024-12-11T08:36:09.833072Z",
     "iopub.status.busy": "2024-12-11T08:36:09.832626Z",
     "iopub.status.idle": "2024-12-11T08:36:18.183402Z",
     "shell.execute_reply": "2024-12-11T08:36:18.182387Z",
     "shell.execute_reply.started": "2024-12-11T08:36:09.833027Z"
    }
   },
   "outputs": [
    {
     "name": "stdout",
     "output_type": "stream",
     "text": [
      "Validation Accuracy: 0.8477\n",
      "Precision: 0.8572\n",
      "Recall: 0.8477\n",
      "F1-Score: 0.8494\n"
     ]
    }
   ],
   "source": [
    "test_acc, test_labels, test_probabilities, test_embeddings, test_predictions = moe_model.evaluate(test_loader)"
   ]
  },
  {
   "cell_type": "code",
   "execution_count": 29,
   "id": "5e4b2c38-1a70-4291-86ba-9a32eef19ae8",
   "metadata": {
    "execution": {
     "iopub.execute_input": "2024-12-11T08:36:18.184563Z",
     "iopub.status.busy": "2024-12-11T08:36:18.184373Z",
     "iopub.status.idle": "2024-12-11T08:36:18.196718Z",
     "shell.execute_reply": "2024-12-11T08:36:18.195754Z",
     "shell.execute_reply.started": "2024-12-11T08:36:18.184543Z"
    }
   },
   "outputs": [
    {
     "name": "stdout",
     "output_type": "stream",
     "text": [
      "              precision    recall  f1-score   support\n",
      "\n",
      "           0       0.92      0.83      0.87        94\n",
      "           1       0.76      0.88      0.81        57\n",
      "\n",
      "    accuracy                           0.85       151\n",
      "   macro avg       0.84      0.85      0.84       151\n",
      "weighted avg       0.86      0.85      0.85       151\n",
      "\n"
     ]
    }
   ],
   "source": [
    "print(classification_report(test_labels,test_predictions))"
   ]
  },
  {
   "cell_type": "code",
   "execution_count": 30,
   "id": "b84edf12-7846-4311-8539-7078f9801402",
   "metadata": {
    "execution": {
     "iopub.execute_input": "2024-12-11T08:36:18.343782Z",
     "iopub.status.busy": "2024-12-11T08:36:18.343572Z",
     "iopub.status.idle": "2024-12-11T08:36:18.351200Z",
     "shell.execute_reply": "2024-12-11T08:36:18.349376Z",
     "shell.execute_reply.started": "2024-12-11T08:36:18.343759Z"
    }
   },
   "outputs": [
    {
     "data": {
      "text/plain": [
       "0.847682119205298"
      ]
     },
     "execution_count": 30,
     "metadata": {},
     "output_type": "execute_result"
    }
   ],
   "source": [
    "test_acc"
   ]
  },
  {
   "cell_type": "code",
   "execution_count": 31,
   "id": "bb91be6c-e590-4e1d-9d34-218891b05cde",
   "metadata": {
    "execution": {
     "iopub.execute_input": "2024-12-11T08:36:20.709267Z",
     "iopub.status.busy": "2024-12-11T08:36:20.707725Z",
     "iopub.status.idle": "2024-12-11T08:36:20.716933Z",
     "shell.execute_reply": "2024-12-11T08:36:20.714741Z",
     "shell.execute_reply.started": "2024-12-11T08:36:20.709183Z"
    }
   },
   "outputs": [],
   "source": [
    "model_save_path = 'best_model'"
   ]
  },
  {
   "cell_type": "code",
   "execution_count": null,
   "id": "e4dfe962-4d83-4ec0-a9ea-45ec6fef26d9",
   "metadata": {},
   "outputs": [],
   "source": []
  },
  {
   "cell_type": "code",
   "execution_count": null,
   "id": "67c4cc22-da20-48e3-be6f-9a406dffab2b",
   "metadata": {},
   "outputs": [],
   "source": []
  },
  {
   "cell_type": "code",
   "execution_count": null,
   "id": "d306587f-c218-4f03-a13e-5a8a7f92db07",
   "metadata": {},
   "outputs": [],
   "source": []
  },
  {
   "cell_type": "code",
   "execution_count": 32,
   "id": "0c21ff48-212d-42d5-b602-2a5959b548c4",
   "metadata": {
    "execution": {
     "iopub.execute_input": "2024-12-11T08:36:23.379458Z",
     "iopub.status.busy": "2024-12-11T08:36:23.378520Z",
     "iopub.status.idle": "2024-12-11T08:36:23.502084Z",
     "shell.execute_reply": "2024-12-11T08:36:23.499928Z",
     "shell.execute_reply.started": "2024-12-11T08:36:23.379378Z"
    }
   },
   "outputs": [],
   "source": [
    "student_model = moe.BiLSTMStudent(hidden_dim=256,output_dim =2, base_model1=encoder_model1,base_model2=encoder_model2)"
   ]
  },
  {
   "cell_type": "code",
   "execution_count": 33,
   "id": "2d38e0d5-86f1-4a55-ba54-9802c1db2793",
   "metadata": {
    "execution": {
     "iopub.execute_input": "2024-12-11T08:36:28.126449Z",
     "iopub.status.busy": "2024-12-11T08:36:28.125456Z",
     "iopub.status.idle": "2024-12-11T08:36:28.134423Z",
     "shell.execute_reply": "2024-12-11T08:36:28.132333Z",
     "shell.execute_reply.started": "2024-12-11T08:36:28.126367Z"
    }
   },
   "outputs": [],
   "source": [
    "# train_student_model"
   ]
  },
  {
   "cell_type": "code",
   "execution_count": 34,
   "id": "77f1210b-4518-4196-802c-ecd01588f4cd",
   "metadata": {
    "execution": {
     "iopub.execute_input": "2024-12-11T08:36:28.762573Z",
     "iopub.status.busy": "2024-12-11T08:36:28.761069Z",
     "iopub.status.idle": "2024-12-11T08:39:06.758602Z",
     "shell.execute_reply": "2024-12-11T08:39:06.757369Z",
     "shell.execute_reply.started": "2024-12-11T08:36:28.762491Z"
    }
   },
   "outputs": [
    {
     "name": "stderr",
     "output_type": "stream",
     "text": [
      "/root/miniconda3/lib/python3.10/site-packages/transformers/optimization.py:391: FutureWarning: This implementation of AdamW is deprecated and will be removed in a future version. Use the PyTorch implementation torch.optim.AdamW instead, or set `no_deprecation_warning=True` to disable this warning\n",
      "  warnings.warn(\n",
      "Epoch 1/10 Loss: 2.1954: 100%|██████████| 19/19 [00:15<00:00,  1.22batch/s]\n"
     ]
    },
    {
     "name": "stdout",
     "output_type": "stream",
     "text": [
      "Epoch 1/10, Training Loss: 2.1954\n"
     ]
    },
    {
     "name": "stderr",
     "output_type": "stream",
     "text": [
      "Epoch 2/10 Loss: 1.9120: 100%|██████████| 19/19 [00:15<00:00,  1.19batch/s]\n"
     ]
    },
    {
     "name": "stdout",
     "output_type": "stream",
     "text": [
      "Epoch 2/10, Training Loss: 1.9120\n"
     ]
    },
    {
     "name": "stderr",
     "output_type": "stream",
     "text": [
      "Epoch 3/10 Loss: 1.1175: 100%|██████████| 19/19 [00:15<00:00,  1.23batch/s]\n"
     ]
    },
    {
     "name": "stdout",
     "output_type": "stream",
     "text": [
      "Epoch 3/10, Training Loss: 1.1175\n"
     ]
    },
    {
     "name": "stderr",
     "output_type": "stream",
     "text": [
      "Epoch 4/10 Loss: 0.3440: 100%|██████████| 19/19 [00:14<00:00,  1.30batch/s]\n"
     ]
    },
    {
     "name": "stdout",
     "output_type": "stream",
     "text": [
      "Epoch 4/10, Training Loss: 0.3440\n"
     ]
    },
    {
     "name": "stderr",
     "output_type": "stream",
     "text": [
      "Epoch 5/10 Loss: 0.2257: 100%|██████████| 19/19 [00:14<00:00,  1.27batch/s]\n"
     ]
    },
    {
     "name": "stdout",
     "output_type": "stream",
     "text": [
      "Epoch 5/10, Training Loss: 0.2257\n"
     ]
    },
    {
     "name": "stderr",
     "output_type": "stream",
     "text": [
      "Epoch 6/10 Loss: 0.1932: 100%|██████████| 19/19 [00:14<00:00,  1.31batch/s]\n"
     ]
    },
    {
     "name": "stdout",
     "output_type": "stream",
     "text": [
      "Epoch 6/10, Training Loss: 0.1932\n"
     ]
    },
    {
     "name": "stderr",
     "output_type": "stream",
     "text": [
      "Epoch 7/10 Loss: 0.1418: 100%|██████████| 19/19 [00:13<00:00,  1.42batch/s]\n"
     ]
    },
    {
     "name": "stdout",
     "output_type": "stream",
     "text": [
      "Epoch 7/10, Training Loss: 0.1418\n"
     ]
    },
    {
     "name": "stderr",
     "output_type": "stream",
     "text": [
      "Epoch 8/10 Loss: 0.1235: 100%|██████████| 19/19 [00:15<00:00,  1.25batch/s]\n"
     ]
    },
    {
     "name": "stdout",
     "output_type": "stream",
     "text": [
      "Epoch 8/10, Training Loss: 0.1235\n"
     ]
    },
    {
     "name": "stderr",
     "output_type": "stream",
     "text": [
      "Epoch 9/10 Loss: 0.0523: 100%|██████████| 19/19 [00:15<00:00,  1.21batch/s]\n"
     ]
    },
    {
     "name": "stdout",
     "output_type": "stream",
     "text": [
      "Epoch 9/10, Training Loss: 0.0523\n"
     ]
    },
    {
     "name": "stderr",
     "output_type": "stream",
     "text": [
      "Epoch 10/10 Loss: 0.0282: 100%|██████████| 19/19 [00:14<00:00,  1.33batch/s]\n"
     ]
    },
    {
     "name": "stdout",
     "output_type": "stream",
     "text": [
      "Epoch 10/10, Training Loss: 0.0282\n",
      "Validation Accuracy: 0.8477\n",
      "Precision: 0.8572\n",
      "Recall: 0.8477\n",
      "F1-Score: 0.8494\n"
     ]
    }
   ],
   "source": [
    "student_model.distill_trainer(moe_model, test_loader, num_epochs=10)"
   ]
  },
  {
   "cell_type": "code",
   "execution_count": 42,
   "id": "d1c3a902-75a6-4716-8db1-baf825fee131",
   "metadata": {
    "execution": {
     "iopub.execute_input": "2024-12-11T08:57:06.683196Z",
     "iopub.status.busy": "2024-12-11T08:57:06.682395Z",
     "iopub.status.idle": "2024-12-11T08:57:15.489073Z",
     "shell.execute_reply": "2024-12-11T08:57:15.487903Z",
     "shell.execute_reply.started": "2024-12-11T08:57:06.683129Z"
    }
   },
   "outputs": [
    {
     "name": "stdout",
     "output_type": "stream",
     "text": [
      "Validation Accuracy: 0.6963\n",
      "Precision: 0.7170\n",
      "Recall: 0.6963\n",
      "F1-Score: 0.7003\n"
     ]
    }
   ],
   "source": [
    "test_acc, test_labels, test_probabilities, test_embeddings, test_predictions = student_model.evaluate(val_loader)"
   ]
  },
  {
   "cell_type": "code",
   "execution_count": 43,
   "id": "9313420c-0606-4a32-966f-af20013c6ceb",
   "metadata": {
    "execution": {
     "iopub.execute_input": "2024-12-11T08:57:15.490810Z",
     "iopub.status.busy": "2024-12-11T08:57:15.490561Z",
     "iopub.status.idle": "2024-12-11T08:57:15.504318Z",
     "shell.execute_reply": "2024-12-11T08:57:15.503302Z",
     "shell.execute_reply.started": "2024-12-11T08:57:15.490783Z"
    }
   },
   "outputs": [
    {
     "name": "stdout",
     "output_type": "stream",
     "text": [
      "              precision    recall  f1-score   support\n",
      "\n",
      "           0       0.80      0.67      0.73        83\n",
      "           1       0.58      0.73      0.65        52\n",
      "\n",
      "    accuracy                           0.70       135\n",
      "   macro avg       0.69      0.70      0.69       135\n",
      "weighted avg       0.72      0.70      0.70       135\n",
      "\n"
     ]
    }
   ],
   "source": [
    "print(classification_report(test_labels,test_predictions))"
   ]
  },
  {
   "cell_type": "code",
   "execution_count": 39,
   "id": "0780f648-67b6-42dc-8322-0f70c1364da5",
   "metadata": {
    "execution": {
     "iopub.execute_input": "2024-12-11T08:53:19.863525Z",
     "iopub.status.busy": "2024-12-11T08:53:19.862577Z",
     "iopub.status.idle": "2024-12-11T08:53:28.688640Z",
     "shell.execute_reply": "2024-12-11T08:53:28.687400Z",
     "shell.execute_reply.started": "2024-12-11T08:53:19.863444Z"
    }
   },
   "outputs": [
    {
     "name": "stdout",
     "output_type": "stream",
     "text": [
      "Validation Accuracy: 0.7407\n",
      "Precision: 0.7612\n",
      "Recall: 0.7407\n",
      "F1-Score: 0.7441\n"
     ]
    }
   ],
   "source": [
    "test_acc, test_labels, test_probabilities, test_embeddings, test_predictions = moe_model.evaluate(val_loader)"
   ]
  },
  {
   "cell_type": "code",
   "execution_count": 40,
   "id": "18e79578-10c8-4eb4-9a26-a52245c49ea9",
   "metadata": {
    "execution": {
     "iopub.execute_input": "2024-12-11T08:53:28.690467Z",
     "iopub.status.busy": "2024-12-11T08:53:28.690234Z",
     "iopub.status.idle": "2024-12-11T08:53:28.703335Z",
     "shell.execute_reply": "2024-12-11T08:53:28.702338Z",
     "shell.execute_reply.started": "2024-12-11T08:53:28.690438Z"
    }
   },
   "outputs": [
    {
     "name": "stdout",
     "output_type": "stream",
     "text": [
      "              precision    recall  f1-score   support\n",
      "\n",
      "           0       0.84      0.71      0.77        83\n",
      "           1       0.63      0.79      0.70        52\n",
      "\n",
      "    accuracy                           0.74       135\n",
      "   macro avg       0.74      0.75      0.74       135\n",
      "weighted avg       0.76      0.74      0.74       135\n",
      "\n"
     ]
    }
   ],
   "source": [
    "print(classification_report(test_labels,test_predictions))"
   ]
  },
  {
   "cell_type": "code",
   "execution_count": 41,
   "id": "d6d05dcc-81b1-4ef8-b41e-42d278a6dae3",
   "metadata": {
    "execution": {
     "iopub.execute_input": "2024-12-11T08:53:56.089187Z",
     "iopub.status.busy": "2024-12-11T08:53:56.088323Z",
     "iopub.status.idle": "2024-12-11T08:53:56.553968Z",
     "shell.execute_reply": "2024-12-11T08:53:56.552756Z",
     "shell.execute_reply.started": "2024-12-11T08:53:56.089115Z"
    }
   },
   "outputs": [],
   "source": [
    "torch.save(student_model, \"student_model_900repo.pth\")"
   ]
  },
  {
   "cell_type": "code",
   "execution_count": null,
   "id": "ae9dceb5-9b5c-418a-a0d4-9f9565993485",
   "metadata": {},
   "outputs": [],
   "source": []
  }
 ],
 "metadata": {
  "kernelspec": {
   "display_name": "Python 3 (ipykernel)",
   "language": "python",
   "name": "python3"
  },
  "language_info": {
   "codemirror_mode": {
    "name": "ipython",
    "version": 3
   },
   "file_extension": ".py",
   "mimetype": "text/x-python",
   "name": "python",
   "nbconvert_exporter": "python",
   "pygments_lexer": "ipython3",
   "version": "3.10.8"
  }
 },
 "nbformat": 4,
 "nbformat_minor": 5
}
