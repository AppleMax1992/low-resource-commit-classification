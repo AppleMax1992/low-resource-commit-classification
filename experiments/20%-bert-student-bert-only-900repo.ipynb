{
 "cells": [
  {
   "cell_type": "code",
   "execution_count": 1,
   "id": "9f82a8cc-7b02-48d7-a783-6e89bccff8b2",
   "metadata": {
    "execution": {
     "iopub.execute_input": "2024-12-21T15:41:22.208098Z",
     "iopub.status.busy": "2024-12-21T15:41:22.206985Z",
     "iopub.status.idle": "2024-12-21T15:41:25.835697Z",
     "shell.execute_reply": "2024-12-21T15:41:25.834607Z",
     "shell.execute_reply.started": "2024-12-21T15:41:22.208004Z"
    }
   },
   "outputs": [
    {
     "name": "stdout",
     "output_type": "stream",
     "text": [
      "\n",
      "root\n",
      "ensemble_commit\n",
      "/root/ensemble_commit\n"
     ]
    }
   ],
   "source": [
    "import pandas as pd\n",
    "from sklearn.model_selection import train_test_split\n",
    "import torch\n",
    "import os\n",
    "\n",
    "notebook_path = os.path.abspath('')\n",
    "import sys\n",
    "# Find the part of the path that contains 'commitFit'\n",
    "commit_fit_path = None\n",
    "for part in notebook_path.split(os.sep):\n",
    "    print(part)\n",
    "    if 'ensemble_commit' in part:\n",
    "        commit_fit_path = notebook_path.split(part)[0] + part\n",
    "        print(commit_fit_path)\n",
    "        break\n",
    "\n",
    "if commit_fit_path is None:\n",
    "    raise ValueError(\"Path containing 'ensemble_commit' not found in notebook path.\")\n",
    "\n",
    "\n",
    "if commit_fit_path not in sys.path:\n",
    "    sys.path.append(commit_fit_path)\n",
    "\n",
    "import ensemble_model.preprocesser as preprocesser \n",
    "import ensemble_model.MoE_model_loss as moe \n",
    "from torch.utils.data import Dataset, DataLoader\n",
    "from transformers import BertModel, BertTokenizer, RobertaModel, RobertaTokenizer, DistilBertModel\n",
    "\n",
    "# import whatthepatch\n",
    "import numpy as np\n",
    "from sklearn.manifold import TSNE\n",
    "import matplotlib.pyplot as plt\n",
    "from sklearn.metrics import precision_score, recall_score, f1_score, precision_recall_curve,classification_report\n"
   ]
  },
  {
   "cell_type": "code",
   "execution_count": 2,
   "id": "537e23dd-4090-40f0-8c1c-3ed2e96076cc",
   "metadata": {
    "execution": {
     "iopub.execute_input": "2024-12-21T15:41:25.837673Z",
     "iopub.status.busy": "2024-12-21T15:41:25.837264Z",
     "iopub.status.idle": "2024-12-21T15:41:25.846834Z",
     "shell.execute_reply": "2024-12-21T15:41:25.845869Z",
     "shell.execute_reply.started": "2024-12-21T15:41:25.837645Z"
    }
   },
   "outputs": [
    {
     "data": {
      "text/plain": [
       "ensemble_model.MoE_model_loss.BiLSTMStudent"
      ]
     },
     "execution_count": 2,
     "metadata": {},
     "output_type": "execute_result"
    }
   ],
   "source": [
    "moe.BiLSTMStudent"
   ]
  },
  {
   "cell_type": "code",
   "execution_count": 3,
   "id": "666cb7bc-ce61-42cb-b7fa-934b5e5d3580",
   "metadata": {
    "execution": {
     "iopub.execute_input": "2024-12-21T15:41:25.847907Z",
     "iopub.status.busy": "2024-12-21T15:41:25.847696Z",
     "iopub.status.idle": "2024-12-21T15:41:29.010601Z",
     "shell.execute_reply": "2024-12-21T15:41:29.009590Z",
     "shell.execute_reply.started": "2024-12-21T15:41:25.847883Z"
    }
   },
   "outputs": [
    {
     "name": "stderr",
     "output_type": "stream",
     "text": [
      "/tmp/ipykernel_3748/1052552286.py:4: FutureWarning: Downcasting behavior in `replace` is deprecated and will be removed in a future version. To retain the old behavior, explicitly call `result.infer_objects(copy=False)`. To opt-in to the future behavior, set `pd.set_option('future.no_silent_downcasting', True)`\n",
      "  df = df.replace({\"label\": label2id})\n"
     ]
    },
    {
     "data": {
      "text/html": [
       "<div>\n",
       "<style scoped>\n",
       "    .dataframe tbody tr th:only-of-type {\n",
       "        vertical-align: middle;\n",
       "    }\n",
       "\n",
       "    .dataframe tbody tr th {\n",
       "        vertical-align: top;\n",
       "    }\n",
       "\n",
       "    .dataframe thead th {\n",
       "        text-align: right;\n",
       "    }\n",
       "</style>\n",
       "<table border=\"1\" class=\"dataframe\">\n",
       "  <thead>\n",
       "    <tr style=\"text-align: right;\">\n",
       "      <th></th>\n",
       "      <th>Unnamed: 0</th>\n",
       "      <th>label</th>\n",
       "      <th>message</th>\n",
       "      <th>diff</th>\n",
       "    </tr>\n",
       "  </thead>\n",
       "  <tbody>\n",
       "    <tr>\n",
       "      <th>0</th>\n",
       "      <td>0</td>\n",
       "      <td>0</td>\n",
       "      <td>Merge pull request #46 from rufferson/saslx-tl...</td>\n",
       "      <td>diff --git a/lib/DJabberd.pm b/lib/DJabberd.pm...</td>\n",
       "    </tr>\n",
       "    <tr>\n",
       "      <th>1</th>\n",
       "      <td>1</td>\n",
       "      <td>1</td>\n",
       "      <td>Fix leaks in kadmin server stubs [CVE-2015-863...</td>\n",
       "      <td>diff --git a/src/kadmin/server/server_stubs.c ...</td>\n",
       "    </tr>\n",
       "    <tr>\n",
       "      <th>2</th>\n",
       "      <td>2</td>\n",
       "      <td>1</td>\n",
       "      <td>Validate authorization request on approval\\n\\n...</td>\n",
       "      <td>diff --git a/spring-security-oauth2/src/main/j...</td>\n",
       "    </tr>\n",
       "    <tr>\n",
       "      <th>3</th>\n",
       "      <td>3</td>\n",
       "      <td>1</td>\n",
       "      <td>Release 2.72.4+171110</td>\n",
       "      <td>diff --git a/application/config/version.php b/...</td>\n",
       "    </tr>\n",
       "    <tr>\n",
       "      <th>4</th>\n",
       "      <td>4</td>\n",
       "      <td>0</td>\n",
       "      <td>Fixing compiler warnings.</td>\n",
       "      <td>diff --git a/src/main.c b/src/main.c\\nindex 50...</td>\n",
       "    </tr>\n",
       "    <tr>\n",
       "      <th>...</th>\n",
       "      <td>...</td>\n",
       "      <td>...</td>\n",
       "      <td>...</td>\n",
       "      <td>...</td>\n",
       "    </tr>\n",
       "    <tr>\n",
       "      <th>10107</th>\n",
       "      <td>10107</td>\n",
       "      <td>0</td>\n",
       "      <td>les: remove useless protocol defines (#22115)\\...</td>\n",
       "      <td>diff --git a/les/benchmark.go b/les/benchmark....</td>\n",
       "    </tr>\n",
       "    <tr>\n",
       "      <th>10108</th>\n",
       "      <td>10108</td>\n",
       "      <td>1</td>\n",
       "      <td>Merge pull request #2067 from realm/tg-swift-l...</td>\n",
       "      <td>diff --git a/CHANGELOG.md b/CHANGELOG.md\\ninde...</td>\n",
       "    </tr>\n",
       "    <tr>\n",
       "      <th>10109</th>\n",
       "      <td>10109</td>\n",
       "      <td>0</td>\n",
       "      <td>[fix] 新規アカウント作成ページの翻訳を修正</td>\n",
       "      <td>diff --git a/app/locales/ja_JP/LC_MESSAGES/mes...</td>\n",
       "    </tr>\n",
       "    <tr>\n",
       "      <th>10110</th>\n",
       "      <td>10110</td>\n",
       "      <td>0</td>\n",
       "      <td>Merge branch 'hotfixes'</td>\n",
       "      <td>diff --git a/CHANGELOG.txt b/CHANGELOG.txt\\nin...</td>\n",
       "    </tr>\n",
       "    <tr>\n",
       "      <th>10111</th>\n",
       "      <td>10111</td>\n",
       "      <td>1</td>\n",
       "      <td>HTTPCLIENT-1803: Improved handling of malforme...</td>\n",
       "      <td>diff --git a/httpclient/src/main/java/org/apac...</td>\n",
       "    </tr>\n",
       "  </tbody>\n",
       "</table>\n",
       "<p>10064 rows × 4 columns</p>\n",
       "</div>"
      ],
      "text/plain": [
       "       Unnamed: 0  label                                            message  \\\n",
       "0               0      0  Merge pull request #46 from rufferson/saslx-tl...   \n",
       "1               1      1  Fix leaks in kadmin server stubs [CVE-2015-863...   \n",
       "2               2      1  Validate authorization request on approval\\n\\n...   \n",
       "3               3      1                              Release 2.72.4+171110   \n",
       "4               4      0                          Fixing compiler warnings.   \n",
       "...           ...    ...                                                ...   \n",
       "10107       10107      0  les: remove useless protocol defines (#22115)\\...   \n",
       "10108       10108      1  Merge pull request #2067 from realm/tg-swift-l...   \n",
       "10109       10109      0                           [fix] 新規アカウント作成ページの翻訳を修正   \n",
       "10110       10110      0                            Merge branch 'hotfixes'   \n",
       "10111       10111      1  HTTPCLIENT-1803: Improved handling of malforme...   \n",
       "\n",
       "                                                    diff  \n",
       "0      diff --git a/lib/DJabberd.pm b/lib/DJabberd.pm...  \n",
       "1      diff --git a/src/kadmin/server/server_stubs.c ...  \n",
       "2      diff --git a/spring-security-oauth2/src/main/j...  \n",
       "3      diff --git a/application/config/version.php b/...  \n",
       "4      diff --git a/src/main.c b/src/main.c\\nindex 50...  \n",
       "...                                                  ...  \n",
       "10107  diff --git a/les/benchmark.go b/les/benchmark....  \n",
       "10108  diff --git a/CHANGELOG.md b/CHANGELOG.md\\ninde...  \n",
       "10109  diff --git a/app/locales/ja_JP/LC_MESSAGES/mes...  \n",
       "10110  diff --git a/CHANGELOG.txt b/CHANGELOG.txt\\nin...  \n",
       "10111  diff --git a/httpclient/src/main/java/org/apac...  \n",
       "\n",
       "[10064 rows x 4 columns]"
      ]
     },
     "execution_count": 3,
     "metadata": {},
     "output_type": "execute_result"
    }
   ],
   "source": [
    "df = pd.read_csv(r'../datasets/dataset.csv', encoding='utf_8_sig')\n",
    "df.dropna(inplace=True)\n",
    "label2id={'negative':0,'positive':1}\n",
    "df = df.replace({\"label\": label2id})\n",
    "df"
   ]
  },
  {
   "cell_type": "code",
   "execution_count": 4,
   "id": "18e5ba2e-9175-4455-a42a-ced130563441",
   "metadata": {
    "execution": {
     "iopub.execute_input": "2024-12-21T15:41:29.011641Z",
     "iopub.status.busy": "2024-12-21T15:41:29.011417Z",
     "iopub.status.idle": "2024-12-21T15:41:29.016257Z",
     "shell.execute_reply": "2024-12-21T15:41:29.015285Z",
     "shell.execute_reply.started": "2024-12-21T15:41:29.011617Z"
    }
   },
   "outputs": [],
   "source": [
    "# df['command'] = df['diff'].apply(lambda x : extract_lines(find_longest_list([y.changes for y in whatthepatch.parse_patch(x)])))\n",
    "# extracted_cols = df['diff'].str.extract(r'^diff --git (?P<source>[^\\t\\n]+) (?P<target>[^\\t\\n]+)')\n",
    "# whatthepatch.apply_diff(diff, lao)"
   ]
  },
  {
   "cell_type": "code",
   "execution_count": 5,
   "id": "23ded5b2-b057-4117-b99b-fa77a39bb480",
   "metadata": {
    "execution": {
     "iopub.execute_input": "2024-12-21T15:41:29.018681Z",
     "iopub.status.busy": "2024-12-21T15:41:29.018451Z",
     "iopub.status.idle": "2024-12-21T15:41:29.022673Z",
     "shell.execute_reply": "2024-12-21T15:41:29.021740Z",
     "shell.execute_reply.started": "2024-12-21T15:41:29.018656Z"
    }
   },
   "outputs": [],
   "source": [
    "# len(df_dataset)"
   ]
  },
  {
   "cell_type": "code",
   "execution_count": 6,
   "id": "7b104969-4a01-44b3-8b11-72188d0042e6",
   "metadata": {
    "execution": {
     "iopub.execute_input": "2024-12-21T15:41:29.023625Z",
     "iopub.status.busy": "2024-12-21T15:41:29.023431Z",
     "iopub.status.idle": "2024-12-21T15:41:29.027754Z",
     "shell.execute_reply": "2024-12-21T15:41:29.026789Z",
     "shell.execute_reply.started": "2024-12-21T15:41:29.023604Z"
    }
   },
   "outputs": [],
   "source": [
    "# df_dataset[0]"
   ]
  },
  {
   "cell_type": "code",
   "execution_count": 7,
   "id": "7b77e6e8-8d9d-45f3-be04-94a8b7499213",
   "metadata": {
    "execution": {
     "iopub.execute_input": "2024-12-21T15:41:29.028614Z",
     "iopub.status.busy": "2024-12-21T15:41:29.028430Z",
     "iopub.status.idle": "2024-12-21T15:41:31.076206Z",
     "shell.execute_reply": "2024-12-21T15:41:31.075111Z",
     "shell.execute_reply.started": "2024-12-21T15:41:29.028593Z"
    }
   },
   "outputs": [
    {
     "name": "stderr",
     "output_type": "stream",
     "text": [
      "Some weights of the model checkpoint at ../models/bert-base-cased were not used when initializing BertModel: ['cls.seq_relationship.bias', 'cls.predictions.transform.dense.weight', 'cls.predictions.transform.LayerNorm.weight', 'cls.predictions.transform.LayerNorm.bias', 'cls.seq_relationship.weight', 'cls.predictions.transform.dense.bias', 'cls.predictions.bias']\n",
      "- This IS expected if you are initializing BertModel from the checkpoint of a model trained on another task or with another architecture (e.g. initializing a BertForSequenceClassification model from a BertForPreTraining model).\n",
      "- This IS NOT expected if you are initializing BertModel from the checkpoint of a model that you expect to be exactly identical (initializing a BertForSequenceClassification model from a BertForSequenceClassification model).\n",
      "Some weights of the model checkpoint at ../models/bert-base-cased were not used when initializing BertModel: ['cls.seq_relationship.bias', 'cls.predictions.transform.dense.weight', 'cls.predictions.transform.LayerNorm.weight', 'cls.predictions.transform.LayerNorm.bias', 'cls.seq_relationship.weight', 'cls.predictions.transform.dense.bias', 'cls.predictions.bias']\n",
      "- This IS expected if you are initializing BertModel from the checkpoint of a model trained on another task or with another architecture (e.g. initializing a BertForSequenceClassification model from a BertForPreTraining model).\n",
      "- This IS NOT expected if you are initializing BertModel from the checkpoint of a model that you expect to be exactly identical (initializing a BertForSequenceClassification model from a BertForSequenceClassification model).\n"
     ]
    }
   ],
   "source": [
    "# Load BERT and CodeBERT models and tokenizers\n",
    "bert_model = BertModel.from_pretrained('../models/bert-base-cased')\n",
    "bert_tokenizer = BertTokenizer.from_pretrained('../models/bert-base-cased')\n",
    "\n",
    "codebert_model = BertModel.from_pretrained('../models/bert-base-cased')\n",
    "codebert_tokenizer = BertTokenizer.from_pretrained('../models/bert-base-cased')"
   ]
  },
  {
   "cell_type": "code",
   "execution_count": 8,
   "id": "fa751a3e-86ae-4f11-82ca-c173f5320a09",
   "metadata": {
    "execution": {
     "iopub.execute_input": "2024-12-21T15:41:31.077528Z",
     "iopub.status.busy": "2024-12-21T15:41:31.077283Z",
     "iopub.status.idle": "2024-12-21T15:41:31.087450Z",
     "shell.execute_reply": "2024-12-21T15:41:31.086437Z",
     "shell.execute_reply.started": "2024-12-21T15:41:31.077502Z"
    }
   },
   "outputs": [],
   "source": [
    "train_data, _ = train_test_split(df, train_size=0.2, random_state=42)\n",
    "train_data, test_data = train_test_split(train_data, test_size=0.3, random_state=42)\n",
    "# train_data = pd.read_csv('./datasets/PD_train.csv')\n",
    "# test_data = pd.read_csv('./datasets/PD_test.csv')\n",
    "# val_data = pd.read_csv('./datasets/PD_val.csv')\n",
    "\n"
   ]
  },
  {
   "cell_type": "code",
   "execution_count": 9,
   "id": "6833b877-557a-42ca-a649-59e56d4b9cb5",
   "metadata": {
    "execution": {
     "iopub.execute_input": "2024-12-21T15:41:31.088563Z",
     "iopub.status.busy": "2024-12-21T15:41:31.088328Z",
     "iopub.status.idle": "2024-12-21T15:41:31.094658Z",
     "shell.execute_reply": "2024-12-21T15:41:31.093697Z",
     "shell.execute_reply.started": "2024-12-21T15:41:31.088538Z"
    }
   },
   "outputs": [
    {
     "data": {
      "text/plain": [
       "1408"
      ]
     },
     "execution_count": 9,
     "metadata": {},
     "output_type": "execute_result"
    }
   ],
   "source": [
    "len(train_data)"
   ]
  },
  {
   "cell_type": "code",
   "execution_count": 10,
   "id": "c1f1e42a-ca2a-47b4-aeb0-536795d2a2f7",
   "metadata": {
    "execution": {
     "iopub.execute_input": "2024-12-21T15:41:31.095519Z",
     "iopub.status.busy": "2024-12-21T15:41:31.095332Z",
     "iopub.status.idle": "2024-12-21T15:41:31.099455Z",
     "shell.execute_reply": "2024-12-21T15:41:31.098538Z",
     "shell.execute_reply.started": "2024-12-21T15:41:31.095498Z"
    }
   },
   "outputs": [],
   "source": [
    "# codebert_model.config.hidden_size"
   ]
  },
  {
   "cell_type": "code",
   "execution_count": 11,
   "id": "4b5e68a2-d0bb-42c1-a6a3-1d66267b3651",
   "metadata": {
    "execution": {
     "iopub.execute_input": "2024-12-21T15:41:31.100153Z",
     "iopub.status.busy": "2024-12-21T15:41:31.099972Z",
     "iopub.status.idle": "2024-12-21T15:41:31.106115Z",
     "shell.execute_reply": "2024-12-21T15:41:31.105181Z",
     "shell.execute_reply.started": "2024-12-21T15:41:31.100130Z"
    }
   },
   "outputs": [
    {
     "data": {
      "text/plain": [
       "604"
      ]
     },
     "execution_count": 11,
     "metadata": {},
     "output_type": "execute_result"
    }
   ],
   "source": [
    "len(test_data)"
   ]
  },
  {
   "cell_type": "code",
   "execution_count": 12,
   "id": "f8f11097-0571-4896-972e-da03419f6f1f",
   "metadata": {
    "execution": {
     "iopub.execute_input": "2024-12-21T15:41:31.107048Z",
     "iopub.status.busy": "2024-12-21T15:41:31.106842Z",
     "iopub.status.idle": "2024-12-21T15:41:31.112491Z",
     "shell.execute_reply": "2024-12-21T15:41:31.111530Z",
     "shell.execute_reply.started": "2024-12-21T15:41:31.107025Z"
    }
   },
   "outputs": [],
   "source": [
    "\n",
    "test_data, val_data = train_test_split(test_data, train_size=0.5, random_state=42)"
   ]
  },
  {
   "cell_type": "code",
   "execution_count": 13,
   "id": "6d0173b0-7cee-488c-988d-30fdc9c30c95",
   "metadata": {
    "execution": {
     "iopub.execute_input": "2024-12-21T15:41:31.113213Z",
     "iopub.status.busy": "2024-12-21T15:41:31.113029Z",
     "iopub.status.idle": "2024-12-21T15:41:31.118847Z",
     "shell.execute_reply": "2024-12-21T15:41:31.117869Z",
     "shell.execute_reply.started": "2024-12-21T15:41:31.113192Z"
    }
   },
   "outputs": [],
   "source": [
    "train_data.reset_index(inplace=True)\n",
    "test_data.reset_index(inplace=True)\n",
    "val_data.reset_index(inplace=True)"
   ]
  },
  {
   "cell_type": "code",
   "execution_count": 14,
   "id": "e93e40c2-34b1-4bf7-b835-9718fe3f6039",
   "metadata": {
    "execution": {
     "iopub.execute_input": "2024-12-21T15:41:31.122683Z",
     "iopub.status.busy": "2024-12-21T15:41:31.122464Z",
     "iopub.status.idle": "2024-12-21T15:41:31.130870Z",
     "shell.execute_reply": "2024-12-21T15:41:31.129898Z",
     "shell.execute_reply.started": "2024-12-21T15:41:31.122659Z"
    }
   },
   "outputs": [
    {
     "data": {
      "text/plain": [
       "label\n",
       "0    860\n",
       "1    548\n",
       "Name: count, dtype: int64"
      ]
     },
     "execution_count": 14,
     "metadata": {},
     "output_type": "execute_result"
    }
   ],
   "source": [
    "train_data['label'].value_counts()"
   ]
  },
  {
   "cell_type": "code",
   "execution_count": 15,
   "id": "6b52cd58-8ced-4995-a326-22fbb809b527",
   "metadata": {
    "execution": {
     "iopub.execute_input": "2024-12-21T15:41:31.131769Z",
     "iopub.status.busy": "2024-12-21T15:41:31.131573Z",
     "iopub.status.idle": "2024-12-21T15:41:31.142166Z",
     "shell.execute_reply": "2024-12-21T15:41:31.141211Z",
     "shell.execute_reply.started": "2024-12-21T15:41:31.131745Z"
    }
   },
   "outputs": [
    {
     "data": {
      "text/html": [
       "<div>\n",
       "<style scoped>\n",
       "    .dataframe tbody tr th:only-of-type {\n",
       "        vertical-align: middle;\n",
       "    }\n",
       "\n",
       "    .dataframe tbody tr th {\n",
       "        vertical-align: top;\n",
       "    }\n",
       "\n",
       "    .dataframe thead th {\n",
       "        text-align: right;\n",
       "    }\n",
       "</style>\n",
       "<table border=\"1\" class=\"dataframe\">\n",
       "  <thead>\n",
       "    <tr style=\"text-align: right;\">\n",
       "      <th></th>\n",
       "      <th>index</th>\n",
       "      <th>Unnamed: 0</th>\n",
       "      <th>label</th>\n",
       "      <th>message</th>\n",
       "      <th>diff</th>\n",
       "    </tr>\n",
       "  </thead>\n",
       "  <tbody>\n",
       "    <tr>\n",
       "      <th>0</th>\n",
       "      <td>1066</td>\n",
       "      <td>1066</td>\n",
       "      <td>1</td>\n",
       "      <td>https://github.com/ImageMagick/ImageMagick/iss...</td>\n",
       "      <td>diff --git a/coders/psd.c b/coders/psd.c\\ninde...</td>\n",
       "    </tr>\n",
       "    <tr>\n",
       "      <th>1</th>\n",
       "      <td>5783</td>\n",
       "      <td>5783</td>\n",
       "      <td>0</td>\n",
       "      <td>No way this will be a 1.2 release.</td>\n",
       "      <td>diff --git a/php_radius.h b/php_radius.h\\ninde...</td>\n",
       "    </tr>\n",
       "    <tr>\n",
       "      <th>2</th>\n",
       "      <td>5137</td>\n",
       "      <td>5137</td>\n",
       "      <td>0</td>\n",
       "      <td>Cleanups</td>\n",
       "      <td>diff --git a/src/TopicTree.h b/src/TopicTree.h...</td>\n",
       "    </tr>\n",
       "    <tr>\n",
       "      <th>3</th>\n",
       "      <td>2488</td>\n",
       "      <td>2488</td>\n",
       "      <td>1</td>\n",
       "      <td>Ensure token expiration is maintained\\n\\nEnsur...</td>\n",
       "      <td>diff --git a/keystone/service.py b/keystone/se...</td>\n",
       "    </tr>\n",
       "    <tr>\n",
       "      <th>4</th>\n",
       "      <td>6686</td>\n",
       "      <td>6686</td>\n",
       "      <td>1</td>\n",
       "      <td>Add end string anchor to string origin def\\n\\n...</td>\n",
       "      <td>diff --git a/lib/rack/cors.rb b/lib/rack/cors....</td>\n",
       "    </tr>\n",
       "    <tr>\n",
       "      <th>...</th>\n",
       "      <td>...</td>\n",
       "      <td>...</td>\n",
       "      <td>...</td>\n",
       "      <td>...</td>\n",
       "      <td>...</td>\n",
       "    </tr>\n",
       "    <tr>\n",
       "      <th>297</th>\n",
       "      <td>857</td>\n",
       "      <td>857</td>\n",
       "      <td>0</td>\n",
       "      <td>Add plugin for rethinkdb. Rethinkdb can find o...</td>\n",
       "      <td>diff --git a/ajenti/plugins/rethink/__init__.p...</td>\n",
       "    </tr>\n",
       "    <tr>\n",
       "      <th>298</th>\n",
       "      <td>6144</td>\n",
       "      <td>6144</td>\n",
       "      <td>0</td>\n",
       "      <td>release date in manual</td>\n",
       "      <td>diff --git a/docs/index.html b/docs/index.html...</td>\n",
       "    </tr>\n",
       "    <tr>\n",
       "      <th>299</th>\n",
       "      <td>3701</td>\n",
       "      <td>3701</td>\n",
       "      <td>0</td>\n",
       "      <td>Make Array.prototype.unshift method conform to...</td>\n",
       "      <td>diff --git a/jerry-core/ecma/builtin-objects/e...</td>\n",
       "    </tr>\n",
       "    <tr>\n",
       "      <th>300</th>\n",
       "      <td>4271</td>\n",
       "      <td>4271</td>\n",
       "      <td>1</td>\n",
       "      <td>Explicitly configure allowed credential types\\...</td>\n",
       "      <td>diff --git a/java/org/apache/catalina/mbeans/J...</td>\n",
       "    </tr>\n",
       "    <tr>\n",
       "      <th>301</th>\n",
       "      <td>5229</td>\n",
       "      <td>5229</td>\n",
       "      <td>0</td>\n",
       "      <td>[maven-release-plugin] prepare release jgroups...</td>\n",
       "      <td>diff --git a/pom.xml b/pom.xml\\nindex 1ecb6ff5...</td>\n",
       "    </tr>\n",
       "  </tbody>\n",
       "</table>\n",
       "<p>302 rows × 5 columns</p>\n",
       "</div>"
      ],
      "text/plain": [
       "     index  Unnamed: 0  label  \\\n",
       "0     1066        1066      1   \n",
       "1     5783        5783      0   \n",
       "2     5137        5137      0   \n",
       "3     2488        2488      1   \n",
       "4     6686        6686      1   \n",
       "..     ...         ...    ...   \n",
       "297    857         857      0   \n",
       "298   6144        6144      0   \n",
       "299   3701        3701      0   \n",
       "300   4271        4271      1   \n",
       "301   5229        5229      0   \n",
       "\n",
       "                                               message  \\\n",
       "0    https://github.com/ImageMagick/ImageMagick/iss...   \n",
       "1                   No way this will be a 1.2 release.   \n",
       "2                                             Cleanups   \n",
       "3    Ensure token expiration is maintained\\n\\nEnsur...   \n",
       "4    Add end string anchor to string origin def\\n\\n...   \n",
       "..                                                 ...   \n",
       "297  Add plugin for rethinkdb. Rethinkdb can find o...   \n",
       "298                             release date in manual   \n",
       "299  Make Array.prototype.unshift method conform to...   \n",
       "300  Explicitly configure allowed credential types\\...   \n",
       "301  [maven-release-plugin] prepare release jgroups...   \n",
       "\n",
       "                                                  diff  \n",
       "0    diff --git a/coders/psd.c b/coders/psd.c\\ninde...  \n",
       "1    diff --git a/php_radius.h b/php_radius.h\\ninde...  \n",
       "2    diff --git a/src/TopicTree.h b/src/TopicTree.h...  \n",
       "3    diff --git a/keystone/service.py b/keystone/se...  \n",
       "4    diff --git a/lib/rack/cors.rb b/lib/rack/cors....  \n",
       "..                                                 ...  \n",
       "297  diff --git a/ajenti/plugins/rethink/__init__.p...  \n",
       "298  diff --git a/docs/index.html b/docs/index.html...  \n",
       "299  diff --git a/jerry-core/ecma/builtin-objects/e...  \n",
       "300  diff --git a/java/org/apache/catalina/mbeans/J...  \n",
       "301  diff --git a/pom.xml b/pom.xml\\nindex 1ecb6ff5...  \n",
       "\n",
       "[302 rows x 5 columns]"
      ]
     },
     "execution_count": 15,
     "metadata": {},
     "output_type": "execute_result"
    }
   ],
   "source": [
    "val_data"
   ]
  },
  {
   "cell_type": "code",
   "execution_count": 16,
   "id": "594e7b0d-1718-47e5-8b68-b27a016c61c5",
   "metadata": {
    "execution": {
     "iopub.execute_input": "2024-12-21T15:41:31.142881Z",
     "iopub.status.busy": "2024-12-21T15:41:31.142695Z",
     "iopub.status.idle": "2024-12-21T15:41:31.152963Z",
     "shell.execute_reply": "2024-12-21T15:41:31.152005Z",
     "shell.execute_reply.started": "2024-12-21T15:41:31.142860Z"
    }
   },
   "outputs": [
    {
     "data": {
      "text/html": [
       "<div>\n",
       "<style scoped>\n",
       "    .dataframe tbody tr th:only-of-type {\n",
       "        vertical-align: middle;\n",
       "    }\n",
       "\n",
       "    .dataframe tbody tr th {\n",
       "        vertical-align: top;\n",
       "    }\n",
       "\n",
       "    .dataframe thead th {\n",
       "        text-align: right;\n",
       "    }\n",
       "</style>\n",
       "<table border=\"1\" class=\"dataframe\">\n",
       "  <thead>\n",
       "    <tr style=\"text-align: right;\">\n",
       "      <th></th>\n",
       "      <th>index</th>\n",
       "      <th>Unnamed: 0</th>\n",
       "      <th>label</th>\n",
       "      <th>message</th>\n",
       "      <th>diff</th>\n",
       "    </tr>\n",
       "  </thead>\n",
       "  <tbody>\n",
       "    <tr>\n",
       "      <th>0</th>\n",
       "      <td>1066</td>\n",
       "      <td>1066</td>\n",
       "      <td>1</td>\n",
       "      <td>https://github.com/ImageMagick/ImageMagick/iss...</td>\n",
       "      <td>diff --git a/coders/psd.c b/coders/psd.c\\ninde...</td>\n",
       "    </tr>\n",
       "    <tr>\n",
       "      <th>1</th>\n",
       "      <td>5783</td>\n",
       "      <td>5783</td>\n",
       "      <td>0</td>\n",
       "      <td>No way this will be a 1.2 release.</td>\n",
       "      <td>diff --git a/php_radius.h b/php_radius.h\\ninde...</td>\n",
       "    </tr>\n",
       "    <tr>\n",
       "      <th>2</th>\n",
       "      <td>5137</td>\n",
       "      <td>5137</td>\n",
       "      <td>0</td>\n",
       "      <td>Cleanups</td>\n",
       "      <td>diff --git a/src/TopicTree.h b/src/TopicTree.h...</td>\n",
       "    </tr>\n",
       "    <tr>\n",
       "      <th>3</th>\n",
       "      <td>2488</td>\n",
       "      <td>2488</td>\n",
       "      <td>1</td>\n",
       "      <td>Ensure token expiration is maintained\\n\\nEnsur...</td>\n",
       "      <td>diff --git a/keystone/service.py b/keystone/se...</td>\n",
       "    </tr>\n",
       "    <tr>\n",
       "      <th>4</th>\n",
       "      <td>6686</td>\n",
       "      <td>6686</td>\n",
       "      <td>1</td>\n",
       "      <td>Add end string anchor to string origin def\\n\\n...</td>\n",
       "      <td>diff --git a/lib/rack/cors.rb b/lib/rack/cors....</td>\n",
       "    </tr>\n",
       "    <tr>\n",
       "      <th>...</th>\n",
       "      <td>...</td>\n",
       "      <td>...</td>\n",
       "      <td>...</td>\n",
       "      <td>...</td>\n",
       "      <td>...</td>\n",
       "    </tr>\n",
       "    <tr>\n",
       "      <th>297</th>\n",
       "      <td>857</td>\n",
       "      <td>857</td>\n",
       "      <td>0</td>\n",
       "      <td>Add plugin for rethinkdb. Rethinkdb can find o...</td>\n",
       "      <td>diff --git a/ajenti/plugins/rethink/__init__.p...</td>\n",
       "    </tr>\n",
       "    <tr>\n",
       "      <th>298</th>\n",
       "      <td>6144</td>\n",
       "      <td>6144</td>\n",
       "      <td>0</td>\n",
       "      <td>release date in manual</td>\n",
       "      <td>diff --git a/docs/index.html b/docs/index.html...</td>\n",
       "    </tr>\n",
       "    <tr>\n",
       "      <th>299</th>\n",
       "      <td>3701</td>\n",
       "      <td>3701</td>\n",
       "      <td>0</td>\n",
       "      <td>Make Array.prototype.unshift method conform to...</td>\n",
       "      <td>diff --git a/jerry-core/ecma/builtin-objects/e...</td>\n",
       "    </tr>\n",
       "    <tr>\n",
       "      <th>300</th>\n",
       "      <td>4271</td>\n",
       "      <td>4271</td>\n",
       "      <td>1</td>\n",
       "      <td>Explicitly configure allowed credential types\\...</td>\n",
       "      <td>diff --git a/java/org/apache/catalina/mbeans/J...</td>\n",
       "    </tr>\n",
       "    <tr>\n",
       "      <th>301</th>\n",
       "      <td>5229</td>\n",
       "      <td>5229</td>\n",
       "      <td>0</td>\n",
       "      <td>[maven-release-plugin] prepare release jgroups...</td>\n",
       "      <td>diff --git a/pom.xml b/pom.xml\\nindex 1ecb6ff5...</td>\n",
       "    </tr>\n",
       "  </tbody>\n",
       "</table>\n",
       "<p>302 rows × 5 columns</p>\n",
       "</div>"
      ],
      "text/plain": [
       "     index  Unnamed: 0  label  \\\n",
       "0     1066        1066      1   \n",
       "1     5783        5783      0   \n",
       "2     5137        5137      0   \n",
       "3     2488        2488      1   \n",
       "4     6686        6686      1   \n",
       "..     ...         ...    ...   \n",
       "297    857         857      0   \n",
       "298   6144        6144      0   \n",
       "299   3701        3701      0   \n",
       "300   4271        4271      1   \n",
       "301   5229        5229      0   \n",
       "\n",
       "                                               message  \\\n",
       "0    https://github.com/ImageMagick/ImageMagick/iss...   \n",
       "1                   No way this will be a 1.2 release.   \n",
       "2                                             Cleanups   \n",
       "3    Ensure token expiration is maintained\\n\\nEnsur...   \n",
       "4    Add end string anchor to string origin def\\n\\n...   \n",
       "..                                                 ...   \n",
       "297  Add plugin for rethinkdb. Rethinkdb can find o...   \n",
       "298                             release date in manual   \n",
       "299  Make Array.prototype.unshift method conform to...   \n",
       "300  Explicitly configure allowed credential types\\...   \n",
       "301  [maven-release-plugin] prepare release jgroups...   \n",
       "\n",
       "                                                  diff  \n",
       "0    diff --git a/coders/psd.c b/coders/psd.c\\ninde...  \n",
       "1    diff --git a/php_radius.h b/php_radius.h\\ninde...  \n",
       "2    diff --git a/src/TopicTree.h b/src/TopicTree.h...  \n",
       "3    diff --git a/keystone/service.py b/keystone/se...  \n",
       "4    diff --git a/lib/rack/cors.rb b/lib/rack/cors....  \n",
       "..                                                 ...  \n",
       "297  diff --git a/ajenti/plugins/rethink/__init__.p...  \n",
       "298  diff --git a/docs/index.html b/docs/index.html...  \n",
       "299  diff --git a/jerry-core/ecma/builtin-objects/e...  \n",
       "300  diff --git a/java/org/apache/catalina/mbeans/J...  \n",
       "301  diff --git a/pom.xml b/pom.xml\\nindex 1ecb6ff5...  \n",
       "\n",
       "[302 rows x 5 columns]"
      ]
     },
     "execution_count": 16,
     "metadata": {},
     "output_type": "execute_result"
    }
   ],
   "source": [
    "val_data"
   ]
  },
  {
   "cell_type": "code",
   "execution_count": 17,
   "id": "1549be02-6f6b-41e5-bd04-d3e164061eec",
   "metadata": {
    "execution": {
     "iopub.execute_input": "2024-12-21T15:41:31.153903Z",
     "iopub.status.busy": "2024-12-21T15:41:31.153713Z",
     "iopub.status.idle": "2024-12-21T15:41:31.160041Z",
     "shell.execute_reply": "2024-12-21T15:41:31.159073Z",
     "shell.execute_reply.started": "2024-12-21T15:41:31.153881Z"
    }
   },
   "outputs": [],
   "source": [
    "\n",
    "\n",
    "# Create Datasets and DataLoaders\n",
    "train_dataset = preprocesser.SentencePairDataset(train_data, bert_tokenizer, codebert_tokenizer, message='message',command='diff',label='label')\n",
    "val_dataset = preprocesser.SentencePairDataset(val_data, bert_tokenizer, codebert_tokenizer, message='message',command='diff',label='label')\n",
    "test_dataset = preprocesser.SentencePairDataset(test_data, bert_tokenizer, codebert_tokenizer, message='message',command='diff',label='label')\n",
    "\n",
    "train_loader = DataLoader(train_dataset, batch_size=8, shuffle=False)\n",
    "val_loader = DataLoader(val_dataset, batch_size=8, shuffle=False)\n",
    "test_loader = DataLoader(test_dataset, batch_size=8, shuffle=False)\n",
    "\n",
    "\n",
    "\n",
    "# # Initialize the model\n",
    "# model = em.CombinedModel(bert_model, codebert_model, bert_tokenizer, codebert_tokenizer)\n",
    "\n",
    "# # Train the model\n",
    "# model.trainer(train_loader, val_loader,num_epochs=10)\n",
    "# for batch in train_loader:\n",
    "#     print(batch)"
   ]
  },
  {
   "cell_type": "code",
   "execution_count": 18,
   "id": "09dcb1fc-8ae4-4e9e-9180-41d41e3698af",
   "metadata": {
    "execution": {
     "iopub.execute_input": "2024-12-21T15:41:31.160999Z",
     "iopub.status.busy": "2024-12-21T15:41:31.160784Z",
     "iopub.status.idle": "2024-12-21T15:41:31.165417Z",
     "shell.execute_reply": "2024-12-21T15:41:31.164458Z",
     "shell.execute_reply.started": "2024-12-21T15:41:31.160976Z"
    }
   },
   "outputs": [],
   "source": [
    "base_model1 = moe.BaseModel(bert_model)\n",
    "base_model2 = moe.BaseModel(codebert_model)"
   ]
  },
  {
   "cell_type": "code",
   "execution_count": 19,
   "id": "b8bb3e18-9412-4036-93d4-ac331093752c",
   "metadata": {
    "execution": {
     "iopub.execute_input": "2024-12-21T15:41:31.166149Z",
     "iopub.status.busy": "2024-12-21T15:41:31.165959Z",
     "iopub.status.idle": "2024-12-21T15:41:32.277121Z",
     "shell.execute_reply": "2024-12-21T15:41:32.276077Z",
     "shell.execute_reply.started": "2024-12-21T15:41:31.166127Z"
    }
   },
   "outputs": [
    {
     "name": "stderr",
     "output_type": "stream",
     "text": [
      "Some weights of the model checkpoint at /root/autodl-tmp/IPCK/model/distilbert were not used when initializing DistilBertModel: ['vocab_projector.bias', 'vocab_transform.bias', 'vocab_layer_norm.weight', 'vocab_layer_norm.bias', 'vocab_transform.weight']\n",
      "- This IS expected if you are initializing DistilBertModel from the checkpoint of a model trained on another task or with another architecture (e.g. initializing a BertForSequenceClassification model from a BertForPreTraining model).\n",
      "- This IS NOT expected if you are initializing DistilBertModel from the checkpoint of a model that you expect to be exactly identical (initializing a BertForSequenceClassification model from a BertForSequenceClassification model).\n",
      "Some weights of the model checkpoint at /root/autodl-tmp/IPCK/model/distilbert were not used when initializing DistilBertModel: ['vocab_projector.bias', 'vocab_transform.bias', 'vocab_layer_norm.weight', 'vocab_layer_norm.bias', 'vocab_transform.weight']\n",
      "- This IS expected if you are initializing DistilBertModel from the checkpoint of a model trained on another task or with another architecture (e.g. initializing a BertForSequenceClassification model from a BertForPreTraining model).\n",
      "- This IS NOT expected if you are initializing DistilBertModel from the checkpoint of a model that you expect to be exactly identical (initializing a BertForSequenceClassification model from a BertForSequenceClassification model).\n"
     ]
    }
   ],
   "source": [
    "# Load BERT and CodeBERT models and tokenizers\n",
    "bert_model = DistilBertModel.from_pretrained('/root/autodl-tmp/IPCK/model/distilbert')\n",
    "\n",
    "codebert_model = DistilBertModel.from_pretrained('/root/autodl-tmp/IPCK/model/distilbert')"
   ]
  },
  {
   "cell_type": "code",
   "execution_count": 20,
   "id": "e3ab313b-e462-4272-bb74-3ddfbd324125",
   "metadata": {
    "execution": {
     "iopub.execute_input": "2024-12-21T15:41:32.278548Z",
     "iopub.status.busy": "2024-12-21T15:41:32.278327Z",
     "iopub.status.idle": "2024-12-21T15:41:32.283818Z",
     "shell.execute_reply": "2024-12-21T15:41:32.282698Z",
     "shell.execute_reply.started": "2024-12-21T15:41:32.278522Z"
    }
   },
   "outputs": [],
   "source": [
    "encoder_model1 = moe.EncoderModel(bert_model)\n",
    "encoder_model2 = moe.EncoderModel(bert_model)"
   ]
  },
  {
   "cell_type": "code",
   "execution_count": 21,
   "id": "ac85df22-f318-41d4-9f4c-47f56f38055f",
   "metadata": {
    "execution": {
     "iopub.execute_input": "2024-12-21T15:41:32.284890Z",
     "iopub.status.busy": "2024-12-21T15:41:32.284676Z",
     "iopub.status.idle": "2024-12-21T16:28:32.724470Z",
     "shell.execute_reply": "2024-12-21T16:28:32.723281Z",
     "shell.execute_reply.started": "2024-12-21T15:41:32.284865Z"
    }
   },
   "outputs": [
    {
     "name": "stderr",
     "output_type": "stream",
     "text": [
      "/root/miniconda3/lib/python3.10/site-packages/transformers/optimization.py:391: FutureWarning: This implementation of AdamW is deprecated and will be removed in a future version. Use the PyTorch implementation torch.optim.AdamW instead, or set `no_deprecation_warning=True` to disable this warning\n",
      "  warnings.warn(\n",
      "Epoch 1/30 Loss: 0.1571: 100%|██████████| 176/176 [03:35<00:00,  1.23s/batch]\n"
     ]
    },
    {
     "name": "stdout",
     "output_type": "stream",
     "text": [
      "=============================train========================\n",
      "Validation Accuracy: 0.7715\n"
     ]
    },
    {
     "name": "stderr",
     "output_type": "stream",
     "text": [
      "Epoch 2/30 Loss: 0.1317: 100%|██████████| 176/176 [03:33<00:00,  1.22s/batch]\n"
     ]
    },
    {
     "name": "stdout",
     "output_type": "stream",
     "text": [
      "=============================train========================\n",
      "Validation Accuracy: 0.7947\n"
     ]
    },
    {
     "name": "stderr",
     "output_type": "stream",
     "text": [
      "Epoch 3/30 Loss: 0.1060: 100%|██████████| 176/176 [03:30<00:00,  1.20s/batch]\n"
     ]
    },
    {
     "name": "stdout",
     "output_type": "stream",
     "text": [
      "=============================train========================\n",
      "Validation Accuracy: 0.8079\n"
     ]
    },
    {
     "name": "stderr",
     "output_type": "stream",
     "text": [
      "Epoch 4/30 Loss: 0.0827: 100%|██████████| 176/176 [03:33<00:00,  1.21s/batch]\n"
     ]
    },
    {
     "name": "stdout",
     "output_type": "stream",
     "text": [
      "=============================train========================\n",
      "Validation Accuracy: 0.8212\n"
     ]
    },
    {
     "name": "stderr",
     "output_type": "stream",
     "text": [
      "Epoch 5/30 Loss: 0.0460: 100%|██████████| 176/176 [03:32<00:00,  1.21s/batch]\n"
     ]
    },
    {
     "name": "stdout",
     "output_type": "stream",
     "text": [
      "=============================train========================\n",
      "Validation Accuracy: 0.8146\n"
     ]
    },
    {
     "name": "stderr",
     "output_type": "stream",
     "text": [
      "Epoch 6/30 Loss: 0.0391: 100%|██████████| 176/176 [03:35<00:00,  1.22s/batch]\n"
     ]
    },
    {
     "name": "stdout",
     "output_type": "stream",
     "text": [
      "=============================train========================\n",
      "Validation Accuracy: 0.8377\n"
     ]
    },
    {
     "name": "stderr",
     "output_type": "stream",
     "text": [
      "Epoch 7/30 Loss: 0.0223: 100%|██████████| 176/176 [03:32<00:00,  1.21s/batch]\n"
     ]
    },
    {
     "name": "stdout",
     "output_type": "stream",
     "text": [
      "=============================train========================\n",
      "Validation Accuracy: 0.8079\n"
     ]
    },
    {
     "name": "stderr",
     "output_type": "stream",
     "text": [
      "Epoch 8/30 Loss: 0.0225: 100%|██████████| 176/176 [03:34<00:00,  1.22s/batch]\n"
     ]
    },
    {
     "name": "stdout",
     "output_type": "stream",
     "text": [
      "=============================train========================\n",
      "Validation Accuracy: 0.8278\n"
     ]
    },
    {
     "name": "stderr",
     "output_type": "stream",
     "text": [
      "Epoch 9/30 Loss: 0.0207: 100%|██████████| 176/176 [03:38<00:00,  1.24s/batch]\n"
     ]
    },
    {
     "name": "stdout",
     "output_type": "stream",
     "text": [
      "=============================train========================\n",
      "Validation Accuracy: 0.8543\n"
     ]
    },
    {
     "name": "stderr",
     "output_type": "stream",
     "text": [
      "Epoch 10/30 Loss: 0.0274: 100%|██████████| 176/176 [03:35<00:00,  1.23s/batch]\n"
     ]
    },
    {
     "name": "stdout",
     "output_type": "stream",
     "text": [
      "=============================train========================\n",
      "Validation Accuracy: 0.8477\n"
     ]
    },
    {
     "name": "stderr",
     "output_type": "stream",
     "text": [
      "Epoch 11/30 Loss: 0.0313: 100%|██████████| 176/176 [03:32<00:00,  1.20s/batch]\n"
     ]
    },
    {
     "name": "stdout",
     "output_type": "stream",
     "text": [
      "=============================train========================\n",
      "Validation Accuracy: 0.8477\n"
     ]
    },
    {
     "name": "stderr",
     "output_type": "stream",
     "text": [
      "Epoch 12/30 Loss: 0.0337: 100%|██████████| 176/176 [03:35<00:00,  1.22s/batch]"
     ]
    },
    {
     "name": "stdout",
     "output_type": "stream",
     "text": [
      "=============================train========================\n",
      "Early stopping triggered after 12 epochs\n"
     ]
    },
    {
     "name": "stderr",
     "output_type": "stream",
     "text": [
      "\n"
     ]
    }
   ],
   "source": [
    "\n",
    "\n",
    "# Create stacking model\n",
    "moe_model = moe.MoEModel(base_model1, base_model2)\n",
    "# Train the model\n",
    "moe_model.trainer(train_loader, val_loader,num_epochs=30, patience=3)"
   ]
  },
  {
   "cell_type": "code",
   "execution_count": 22,
   "id": "def4bb0a-419c-46fb-b61b-c9f1a98f0caa",
   "metadata": {
    "execution": {
     "iopub.execute_input": "2024-12-21T16:28:32.726022Z",
     "iopub.status.busy": "2024-12-21T16:28:32.725794Z",
     "iopub.status.idle": "2024-12-21T16:28:32.731539Z",
     "shell.execute_reply": "2024-12-21T16:28:32.730408Z",
     "shell.execute_reply.started": "2024-12-21T16:28:32.725998Z"
    }
   },
   "outputs": [],
   "source": [
    "test_dataset = preprocesser.SentencePairDataset(test_data, bert_tokenizer, codebert_tokenizer,message='message',command='diff',label='label')\n",
    "test_loader = DataLoader(test_dataset, batch_size=8, shuffle=False)"
   ]
  },
  {
   "cell_type": "code",
   "execution_count": null,
   "id": "4e01924f-b8a3-4282-acf6-6d38aee2620c",
   "metadata": {},
   "outputs": [],
   "source": []
  },
  {
   "cell_type": "code",
   "execution_count": 23,
   "id": "92009384-7770-4b2a-97b2-c0b4d209a0a7",
   "metadata": {
    "execution": {
     "iopub.execute_input": "2024-12-21T16:28:32.732590Z",
     "iopub.status.busy": "2024-12-21T16:28:32.732399Z",
     "iopub.status.idle": "2024-12-21T16:28:33.806079Z",
     "shell.execute_reply": "2024-12-21T16:28:33.805028Z",
     "shell.execute_reply.started": "2024-12-21T16:28:32.732569Z"
    }
   },
   "outputs": [],
   "source": [
    "torch.save(moe_model, \"entire_bert_model_900repo.pth\")"
   ]
  },
  {
   "cell_type": "code",
   "execution_count": 24,
   "id": "49ad177a-0ad0-414e-a5b6-5b768a5da9cd",
   "metadata": {
    "execution": {
     "iopub.execute_input": "2024-12-21T16:28:33.807376Z",
     "iopub.status.busy": "2024-12-21T16:28:33.807124Z",
     "iopub.status.idle": "2024-12-21T16:28:34.311170Z",
     "shell.execute_reply": "2024-12-21T16:28:34.310132Z",
     "shell.execute_reply.started": "2024-12-21T16:28:33.807345Z"
    }
   },
   "outputs": [],
   "source": [
    "moe_model = torch.load(\"entire_bert_model_900repo.pth\")                                                                                                                                                                                                                                                                                                                                                                                                                                                        "
   ]
  },
  {
   "cell_type": "code",
   "execution_count": 25,
   "id": "5878d2a3-fe90-45b1-9486-739c4fee6004",
   "metadata": {
    "execution": {
     "iopub.execute_input": "2024-12-21T16:28:34.312576Z",
     "iopub.status.busy": "2024-12-21T16:28:34.312359Z",
     "iopub.status.idle": "2024-12-21T16:29:05.134576Z",
     "shell.execute_reply": "2024-12-21T16:29:05.133502Z",
     "shell.execute_reply.started": "2024-12-21T16:28:34.312553Z"
    }
   },
   "outputs": [
    {
     "name": "stdout",
     "output_type": "stream",
     "text": [
      "Validation Accuracy: 0.8411\n"
     ]
    }
   ],
   "source": [
    "test_acc, test_labels, test_probabilities, test_embeddings, test_predictions = moe_model.evaluate(test_loader)"
   ]
  },
  {
   "cell_type": "code",
   "execution_count": 26,
   "id": "5e4b2c38-1a70-4291-86ba-9a32eef19ae8",
   "metadata": {
    "execution": {
     "iopub.execute_input": "2024-12-21T16:29:05.135613Z",
     "iopub.status.busy": "2024-12-21T16:29:05.135432Z",
     "iopub.status.idle": "2024-12-21T16:29:05.149226Z",
     "shell.execute_reply": "2024-12-21T16:29:05.148609Z",
     "shell.execute_reply.started": "2024-12-21T16:29:05.135593Z"
    }
   },
   "outputs": [
    {
     "name": "stdout",
     "output_type": "stream",
     "text": [
      "              precision    recall  f1-score   support\n",
      "\n",
      "           0       0.88      0.86      0.87       189\n",
      "           1       0.78      0.81      0.79       113\n",
      "\n",
      "    accuracy                           0.84       302\n",
      "   macro avg       0.83      0.83      0.83       302\n",
      "weighted avg       0.84      0.84      0.84       302\n",
      "\n"
     ]
    }
   ],
   "source": [
    "print(classification_report(test_labels,test_predictions))"
   ]
  },
  {
   "cell_type": "code",
   "execution_count": 27,
   "id": "b84edf12-7846-4311-8539-7078f9801402",
   "metadata": {
    "execution": {
     "iopub.execute_input": "2024-12-21T16:29:05.150256Z",
     "iopub.status.busy": "2024-12-21T16:29:05.150047Z",
     "iopub.status.idle": "2024-12-21T16:29:05.156231Z",
     "shell.execute_reply": "2024-12-21T16:29:05.155302Z",
     "shell.execute_reply.started": "2024-12-21T16:29:05.150232Z"
    }
   },
   "outputs": [
    {
     "data": {
      "text/plain": [
       "0.8410596026490066"
      ]
     },
     "execution_count": 27,
     "metadata": {},
     "output_type": "execute_result"
    }
   ],
   "source": [
    "test_acc"
   ]
  },
  {
   "cell_type": "code",
   "execution_count": null,
   "id": "d306587f-c218-4f03-a13e-5a8a7f92db07",
   "metadata": {},
   "outputs": [],
   "source": []
  },
  {
   "cell_type": "code",
   "execution_count": 28,
   "id": "0c21ff48-212d-42d5-b602-2a5959b548c4",
   "metadata": {
    "execution": {
     "iopub.execute_input": "2024-12-21T16:29:05.157179Z",
     "iopub.status.busy": "2024-12-21T16:29:05.156973Z",
     "iopub.status.idle": "2024-12-21T16:29:05.197242Z",
     "shell.execute_reply": "2024-12-21T16:29:05.196246Z",
     "shell.execute_reply.started": "2024-12-21T16:29:05.157155Z"
    }
   },
   "outputs": [],
   "source": [
    "student_model = moe.BiLSTMStudent(hidden_dim=256,output_dim =2, base_model1=encoder_model1,base_model2=encoder_model2)"
   ]
  },
  {
   "cell_type": "code",
   "execution_count": 29,
   "id": "2d38e0d5-86f1-4a55-ba54-9802c1db2793",
   "metadata": {
    "execution": {
     "iopub.execute_input": "2024-12-21T16:29:05.198193Z",
     "iopub.status.busy": "2024-12-21T16:29:05.198006Z",
     "iopub.status.idle": "2024-12-21T16:29:05.202213Z",
     "shell.execute_reply": "2024-12-21T16:29:05.201267Z",
     "shell.execute_reply.started": "2024-12-21T16:29:05.198172Z"
    }
   },
   "outputs": [],
   "source": [
    "# train_student_model"
   ]
  },
  {
   "cell_type": "code",
   "execution_count": 30,
   "id": "77f1210b-4518-4196-802c-ecd01588f4cd",
   "metadata": {
    "execution": {
     "iopub.execute_input": "2024-12-21T16:29:05.202998Z",
     "iopub.status.busy": "2024-12-21T16:29:05.202797Z",
     "iopub.status.idle": "2024-12-21T16:40:09.580489Z",
     "shell.execute_reply": "2024-12-21T16:40:09.579281Z",
     "shell.execute_reply.started": "2024-12-21T16:29:05.202975Z"
    }
   },
   "outputs": [
    {
     "name": "stderr",
     "output_type": "stream",
     "text": [
      "/root/miniconda3/lib/python3.10/site-packages/transformers/optimization.py:391: FutureWarning: This implementation of AdamW is deprecated and will be removed in a future version. Use the PyTorch implementation torch.optim.AdamW instead, or set `no_deprecation_warning=True` to disable this warning\n",
      "  warnings.warn(\n",
      "Epoch 1/10 Loss: 1.9687: 100%|██████████| 38/38 [00:36<00:00,  1.05batch/s]\n"
     ]
    },
    {
     "name": "stdout",
     "output_type": "stream",
     "text": [
      "=============================train========================\n",
      "Validation Accuracy: 0.7252\n"
     ]
    },
    {
     "name": "stderr",
     "output_type": "stream",
     "text": [
      "Epoch 2/10 Loss: 1.3159: 100%|██████████| 38/38 [00:36<00:00,  1.04batch/s]\n"
     ]
    },
    {
     "name": "stdout",
     "output_type": "stream",
     "text": [
      "=============================train========================\n",
      "Validation Accuracy: 0.8212\n"
     ]
    },
    {
     "name": "stderr",
     "output_type": "stream",
     "text": [
      "Epoch 3/10 Loss: 0.6481: 100%|██████████| 38/38 [00:36<00:00,  1.04batch/s]\n"
     ]
    },
    {
     "name": "stdout",
     "output_type": "stream",
     "text": [
      "=============================train========================\n",
      "Validation Accuracy: 0.8444\n"
     ]
    },
    {
     "name": "stderr",
     "output_type": "stream",
     "text": [
      "Epoch 4/10 Loss: 0.2838: 100%|██████████| 38/38 [00:36<00:00,  1.03batch/s]\n"
     ]
    },
    {
     "name": "stdout",
     "output_type": "stream",
     "text": [
      "=============================train========================\n",
      "Validation Accuracy: 0.8510\n"
     ]
    },
    {
     "name": "stderr",
     "output_type": "stream",
     "text": [
      "Epoch 5/10 Loss: 0.2874: 100%|██████████| 38/38 [00:35<00:00,  1.06batch/s]\n"
     ]
    },
    {
     "name": "stdout",
     "output_type": "stream",
     "text": [
      "=============================train========================\n",
      "Validation Accuracy: 0.8377\n"
     ]
    },
    {
     "name": "stderr",
     "output_type": "stream",
     "text": [
      "Epoch 6/10 Loss: 0.2242: 100%|██████████| 38/38 [00:36<00:00,  1.05batch/s]\n"
     ]
    },
    {
     "name": "stdout",
     "output_type": "stream",
     "text": [
      "=============================train========================\n",
      "Validation Accuracy: 0.8444\n"
     ]
    },
    {
     "name": "stderr",
     "output_type": "stream",
     "text": [
      "Epoch 7/10 Loss: 0.1075: 100%|██████████| 38/38 [00:35<00:00,  1.06batch/s]\n"
     ]
    },
    {
     "name": "stdout",
     "output_type": "stream",
     "text": [
      "=============================train========================\n",
      "Validation Accuracy: 0.8377\n"
     ]
    },
    {
     "name": "stderr",
     "output_type": "stream",
     "text": [
      "Epoch 8/10 Loss: 0.0579: 100%|██████████| 38/38 [00:36<00:00,  1.05batch/s]\n"
     ]
    },
    {
     "name": "stdout",
     "output_type": "stream",
     "text": [
      "=============================train========================\n",
      "Validation Accuracy: 0.8311\n"
     ]
    },
    {
     "name": "stderr",
     "output_type": "stream",
     "text": [
      "Epoch 9/10 Loss: 0.0501: 100%|██████████| 38/38 [00:36<00:00,  1.04batch/s]\n"
     ]
    },
    {
     "name": "stdout",
     "output_type": "stream",
     "text": [
      "=============================train========================\n",
      "Validation Accuracy: 0.8510\n"
     ]
    },
    {
     "name": "stderr",
     "output_type": "stream",
     "text": [
      "Epoch 10/10 Loss: 0.0372: 100%|██████████| 38/38 [00:36<00:00,  1.04batch/s]\n"
     ]
    },
    {
     "name": "stdout",
     "output_type": "stream",
     "text": [
      "=============================train========================\n",
      "Validation Accuracy: 0.8411\n"
     ]
    }
   ],
   "source": [
    "student_model.distill_trainer(moe_model, test_loader, num_epochs=10)"
   ]
  },
  {
   "cell_type": "code",
   "execution_count": 31,
   "id": "d1c3a902-75a6-4716-8db1-baf825fee131",
   "metadata": {
    "execution": {
     "iopub.execute_input": "2024-12-21T16:40:09.582308Z",
     "iopub.status.busy": "2024-12-21T16:40:09.582057Z",
     "iopub.status.idle": "2024-12-21T16:40:32.030010Z",
     "shell.execute_reply": "2024-12-21T16:40:32.028955Z",
     "shell.execute_reply.started": "2024-12-21T16:40:09.582281Z"
    }
   },
   "outputs": [
    {
     "name": "stdout",
     "output_type": "stream",
     "text": [
      "Validation Accuracy: 0.7351\n"
     ]
    }
   ],
   "source": [
    "test_acc, test_labels, test_probabilities, test_embeddings, test_predictions = student_model.evaluate(val_loader)"
   ]
  },
  {
   "cell_type": "code",
   "execution_count": 32,
   "id": "9313420c-0606-4a32-966f-af20013c6ceb",
   "metadata": {
    "execution": {
     "iopub.execute_input": "2024-12-21T16:40:32.031122Z",
     "iopub.status.busy": "2024-12-21T16:40:32.030889Z",
     "iopub.status.idle": "2024-12-21T16:40:32.044934Z",
     "shell.execute_reply": "2024-12-21T16:40:32.043950Z",
     "shell.execute_reply.started": "2024-12-21T16:40:32.031097Z"
    }
   },
   "outputs": [
    {
     "name": "stdout",
     "output_type": "stream",
     "text": [
      "              precision    recall  f1-score   support\n",
      "\n",
      "           0       0.82      0.71      0.76       182\n",
      "           1       0.64      0.77      0.70       120\n",
      "\n",
      "    accuracy                           0.74       302\n",
      "   macro avg       0.73      0.74      0.73       302\n",
      "weighted avg       0.75      0.74      0.74       302\n",
      "\n"
     ]
    }
   ],
   "source": [
    "print(classification_report(test_labels,test_predictions))"
   ]
  },
  {
   "cell_type": "code",
   "execution_count": 33,
   "id": "0780f648-67b6-42dc-8322-0f70c1364da5",
   "metadata": {
    "execution": {
     "iopub.execute_input": "2024-12-21T16:40:32.045872Z",
     "iopub.status.busy": "2024-12-21T16:40:32.045676Z",
     "iopub.status.idle": "2024-12-21T16:40:54.801474Z",
     "shell.execute_reply": "2024-12-21T16:40:54.800399Z",
     "shell.execute_reply.started": "2024-12-21T16:40:32.045851Z"
    }
   },
   "outputs": [
    {
     "name": "stdout",
     "output_type": "stream",
     "text": [
      "Validation Accuracy: 0.8377\n"
     ]
    }
   ],
   "source": [
    "test_acc, test_labels, test_probabilities, test_embeddings, test_predictions = moe_model.evaluate(val_loader)"
   ]
  },
  {
   "cell_type": "code",
   "execution_count": 34,
   "id": "18e79578-10c8-4eb4-9a26-a52245c49ea9",
   "metadata": {
    "execution": {
     "iopub.execute_input": "2024-12-21T16:40:54.802247Z",
     "iopub.status.busy": "2024-12-21T16:40:54.802073Z",
     "iopub.status.idle": "2024-12-21T16:40:54.816132Z",
     "shell.execute_reply": "2024-12-21T16:40:54.815175Z",
     "shell.execute_reply.started": "2024-12-21T16:40:54.802228Z"
    }
   },
   "outputs": [
    {
     "name": "stdout",
     "output_type": "stream",
     "text": [
      "              precision    recall  f1-score   support\n",
      "\n",
      "           0       0.85      0.88      0.87       182\n",
      "           1       0.81      0.77      0.79       120\n",
      "\n",
      "    accuracy                           0.84       302\n",
      "   macro avg       0.83      0.83      0.83       302\n",
      "weighted avg       0.84      0.84      0.84       302\n",
      "\n"
     ]
    }
   ],
   "source": [
    "print(classification_report(test_labels,test_predictions))"
   ]
  },
  {
   "cell_type": "code",
   "execution_count": 35,
   "id": "d6d05dcc-81b1-4ef8-b41e-42d278a6dae3",
   "metadata": {
    "execution": {
     "iopub.execute_input": "2024-12-21T16:40:54.817053Z",
     "iopub.status.busy": "2024-12-21T16:40:54.816851Z",
     "iopub.status.idle": "2024-12-21T16:40:55.207367Z",
     "shell.execute_reply": "2024-12-21T16:40:55.206294Z",
     "shell.execute_reply.started": "2024-12-21T16:40:54.817031Z"
    }
   },
   "outputs": [],
   "source": [
    "torch.save(student_model, \"student_model_900repo.pth\")"
   ]
  },
  {
   "cell_type": "code",
   "execution_count": 36,
   "id": "ae9dceb5-9b5c-418a-a0d4-9f9565993485",
   "metadata": {
    "execution": {
     "iopub.execute_input": "2024-12-21T16:40:55.208808Z",
     "iopub.status.busy": "2024-12-21T16:40:55.208563Z",
     "iopub.status.idle": "2024-12-21T16:40:56.145779Z",
     "shell.execute_reply": "2024-12-21T16:40:56.144029Z",
     "shell.execute_reply.started": "2024-12-21T16:40:55.208783Z"
    }
   },
   "outputs": [
    {
     "name": "stdout",
     "output_type": "stream",
     "text": [
      "在线模型训练完毕\n"
     ]
    }
   ],
   "source": [
    "#发送多种类型的邮件\n",
    "from email.mime.multipart import MIMEMultipart\n",
    "import smtplib\n",
    "\n",
    "from email.mime.text import MIMEText\n",
    "msg_from = '915803745@qq.com'  # 发送方邮箱\n",
    "passwd = 'vcuosuurrgkfbdai'   #就是上面的授权码\n",
    " \n",
    "# to= ['g.zhang@gotion.com', 'j.tong@gotion.com'] #接受方邮箱\n",
    "to= ['j.tong@gotion.com'] #接受方邮箱\n",
    "#设置邮件内容\n",
    "#MIMEMultipart类可以放任何内容\n",
    "msg = MIMEMultipart()\n",
    "conntent=\"在线模型训练完毕\"\n",
    "#把内容加进去\n",
    "msg.attach(MIMEText(conntent,'plain','utf-8'))\n",
    " \n",
    "#设置邮件主题\n",
    "msg['Subject']=\"在线模型训练完毕\"\n",
    " \n",
    "#发送方信息\n",
    "msg['From']=msg_from\n",
    " \n",
    "#开始发送\n",
    " \n",
    "#通过SSL方式发送，服务器地址和端口\n",
    "s = smtplib.SMTP_SSL(\"smtp.qq.com\", 465)\n",
    "# 登录邮箱\n",
    "s.login(msg_from, passwd)\n",
    "#开始发送\n",
    "s.sendmail(msg_from,to,msg.as_string())\n",
    "print(\"在线模型训练完毕\")"
   ]
  }
 ],
 "metadata": {
  "kernelspec": {
   "display_name": "Python 3 (ipykernel)",
   "language": "python",
   "name": "python3"
  },
  "language_info": {
   "codemirror_mode": {
    "name": "ipython",
    "version": 3
   },
   "file_extension": ".py",
   "mimetype": "text/x-python",
   "name": "python",
   "nbconvert_exporter": "python",
   "pygments_lexer": "ipython3",
   "version": "3.10.8"
  }
 },
 "nbformat": 4,
 "nbformat_minor": 5
}
