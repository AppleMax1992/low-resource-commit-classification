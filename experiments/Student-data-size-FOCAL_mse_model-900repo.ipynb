{
 "cells": [
  {
   "cell_type": "code",
   "execution_count": 1,
   "id": "9f82a8cc-7b02-48d7-a783-6e89bccff8b2",
   "metadata": {
    "execution": {
     "iopub.execute_input": "2025-01-07T14:35:09.872747Z",
     "iopub.status.busy": "2025-01-07T14:35:09.872207Z",
     "iopub.status.idle": "2025-01-07T14:35:12.288865Z",
     "shell.execute_reply": "2025-01-07T14:35:12.288145Z",
     "shell.execute_reply.started": "2025-01-07T14:35:09.872697Z"
    }
   },
   "outputs": [
    {
     "name": "stdout",
     "output_type": "stream",
     "text": [
      "\n",
      "root\n",
      "ensemble_commit\n",
      "/root/ensemble_commit\n"
     ]
    }
   ],
   "source": [
    "import pandas as pd\n",
    "from sklearn.model_selection import train_test_split\n",
    "import torch\n",
    "import os\n",
    "\n",
    "notebook_path = os.path.abspath('')\n",
    "import sys\n",
    "# Find the part of the path that contains 'commitFit'\n",
    "commit_fit_path = None\n",
    "for part in notebook_path.split(os.sep):\n",
    "    print(part)\n",
    "    if 'ensemble_commit' in part:\n",
    "        commit_fit_path = notebook_path.split(part)[0] + part\n",
    "        print(commit_fit_path)\n",
    "        break\n",
    "\n",
    "if commit_fit_path is None:\n",
    "    raise ValueError(\"Path containing 'ensemble_commit' not found in notebook path.\")\n",
    "\n",
    "\n",
    "if commit_fit_path not in sys.path:\n",
    "    sys.path.append(commit_fit_path)\n",
    "\n",
    "import ensemble_model.preprocesser as preprocesser \n",
    "import ensemble_model.MoE_model_focal_cum_loss as moe \n",
    "import ensemble_model.student_mse as student_mse\n",
    "from torch.utils.data import Dataset, DataLoader\n",
    "from transformers import BertModel, BertTokenizer, RobertaModel, RobertaTokenizer, DistilBertModel\n",
    "\n",
    "# import whatthepatch\n",
    "import numpy as np\n",
    "from sklearn.manifold import TSNE\n",
    "import matplotlib.pyplot as plt\n",
    "from sklearn.metrics import precision_score, recall_score, f1_score, precision_recall_curve,classification_report\n"
   ]
  },
  {
   "cell_type": "code",
   "execution_count": 2,
   "id": "537e23dd-4090-40f0-8c1c-3ed2e96076cc",
   "metadata": {
    "execution": {
     "iopub.execute_input": "2025-01-07T14:35:12.290464Z",
     "iopub.status.busy": "2025-01-07T14:35:12.290246Z",
     "iopub.status.idle": "2025-01-07T14:35:12.296558Z",
     "shell.execute_reply": "2025-01-07T14:35:12.296041Z",
     "shell.execute_reply.started": "2025-01-07T14:35:12.290445Z"
    }
   },
   "outputs": [
    {
     "data": {
      "text/plain": [
       "ensemble_model.student_mse.BiLSTMStudent"
      ]
     },
     "execution_count": 2,
     "metadata": {},
     "output_type": "execute_result"
    }
   ],
   "source": [
    "student_mse.BiLSTMStudent"
   ]
  },
  {
   "cell_type": "code",
   "execution_count": 3,
   "id": "666cb7bc-ce61-42cb-b7fa-934b5e5d3580",
   "metadata": {
    "execution": {
     "iopub.execute_input": "2025-01-07T14:35:12.297316Z",
     "iopub.status.busy": "2025-01-07T14:35:12.297170Z",
     "iopub.status.idle": "2025-01-07T14:35:14.652030Z",
     "shell.execute_reply": "2025-01-07T14:35:14.651397Z",
     "shell.execute_reply.started": "2025-01-07T14:35:12.297299Z"
    }
   },
   "outputs": [
    {
     "name": "stderr",
     "output_type": "stream",
     "text": [
      "/tmp/ipykernel_12808/1052552286.py:4: FutureWarning: Downcasting behavior in `replace` is deprecated and will be removed in a future version. To retain the old behavior, explicitly call `result.infer_objects(copy=False)`. To opt-in to the future behavior, set `pd.set_option('future.no_silent_downcasting', True)`\n",
      "  df = df.replace({\"label\": label2id})\n"
     ]
    },
    {
     "data": {
      "text/html": [
       "<div>\n",
       "<style scoped>\n",
       "    .dataframe tbody tr th:only-of-type {\n",
       "        vertical-align: middle;\n",
       "    }\n",
       "\n",
       "    .dataframe tbody tr th {\n",
       "        vertical-align: top;\n",
       "    }\n",
       "\n",
       "    .dataframe thead th {\n",
       "        text-align: right;\n",
       "    }\n",
       "</style>\n",
       "<table border=\"1\" class=\"dataframe\">\n",
       "  <thead>\n",
       "    <tr style=\"text-align: right;\">\n",
       "      <th></th>\n",
       "      <th>Unnamed: 0</th>\n",
       "      <th>label</th>\n",
       "      <th>message</th>\n",
       "      <th>diff</th>\n",
       "    </tr>\n",
       "  </thead>\n",
       "  <tbody>\n",
       "    <tr>\n",
       "      <th>0</th>\n",
       "      <td>0</td>\n",
       "      <td>0</td>\n",
       "      <td>Merge pull request #46 from rufferson/saslx-tl...</td>\n",
       "      <td>diff --git a/lib/DJabberd.pm b/lib/DJabberd.pm...</td>\n",
       "    </tr>\n",
       "    <tr>\n",
       "      <th>1</th>\n",
       "      <td>1</td>\n",
       "      <td>1</td>\n",
       "      <td>Fix leaks in kadmin server stubs [CVE-2015-863...</td>\n",
       "      <td>diff --git a/src/kadmin/server/server_stubs.c ...</td>\n",
       "    </tr>\n",
       "    <tr>\n",
       "      <th>2</th>\n",
       "      <td>2</td>\n",
       "      <td>1</td>\n",
       "      <td>Validate authorization request on approval\\n\\n...</td>\n",
       "      <td>diff --git a/spring-security-oauth2/src/main/j...</td>\n",
       "    </tr>\n",
       "    <tr>\n",
       "      <th>3</th>\n",
       "      <td>3</td>\n",
       "      <td>1</td>\n",
       "      <td>Release 2.72.4+171110</td>\n",
       "      <td>diff --git a/application/config/version.php b/...</td>\n",
       "    </tr>\n",
       "    <tr>\n",
       "      <th>4</th>\n",
       "      <td>4</td>\n",
       "      <td>0</td>\n",
       "      <td>Fixing compiler warnings.</td>\n",
       "      <td>diff --git a/src/main.c b/src/main.c\\nindex 50...</td>\n",
       "    </tr>\n",
       "    <tr>\n",
       "      <th>...</th>\n",
       "      <td>...</td>\n",
       "      <td>...</td>\n",
       "      <td>...</td>\n",
       "      <td>...</td>\n",
       "    </tr>\n",
       "    <tr>\n",
       "      <th>10107</th>\n",
       "      <td>10107</td>\n",
       "      <td>0</td>\n",
       "      <td>les: remove useless protocol defines (#22115)\\...</td>\n",
       "      <td>diff --git a/les/benchmark.go b/les/benchmark....</td>\n",
       "    </tr>\n",
       "    <tr>\n",
       "      <th>10108</th>\n",
       "      <td>10108</td>\n",
       "      <td>1</td>\n",
       "      <td>Merge pull request #2067 from realm/tg-swift-l...</td>\n",
       "      <td>diff --git a/CHANGELOG.md b/CHANGELOG.md\\ninde...</td>\n",
       "    </tr>\n",
       "    <tr>\n",
       "      <th>10109</th>\n",
       "      <td>10109</td>\n",
       "      <td>0</td>\n",
       "      <td>[fix] 新規アカウント作成ページの翻訳を修正</td>\n",
       "      <td>diff --git a/app/locales/ja_JP/LC_MESSAGES/mes...</td>\n",
       "    </tr>\n",
       "    <tr>\n",
       "      <th>10110</th>\n",
       "      <td>10110</td>\n",
       "      <td>0</td>\n",
       "      <td>Merge branch 'hotfixes'</td>\n",
       "      <td>diff --git a/CHANGELOG.txt b/CHANGELOG.txt\\nin...</td>\n",
       "    </tr>\n",
       "    <tr>\n",
       "      <th>10111</th>\n",
       "      <td>10111</td>\n",
       "      <td>1</td>\n",
       "      <td>HTTPCLIENT-1803: Improved handling of malforme...</td>\n",
       "      <td>diff --git a/httpclient/src/main/java/org/apac...</td>\n",
       "    </tr>\n",
       "  </tbody>\n",
       "</table>\n",
       "<p>10064 rows × 4 columns</p>\n",
       "</div>"
      ],
      "text/plain": [
       "       Unnamed: 0  label                                            message  \\\n",
       "0               0      0  Merge pull request #46 from rufferson/saslx-tl...   \n",
       "1               1      1  Fix leaks in kadmin server stubs [CVE-2015-863...   \n",
       "2               2      1  Validate authorization request on approval\\n\\n...   \n",
       "3               3      1                              Release 2.72.4+171110   \n",
       "4               4      0                          Fixing compiler warnings.   \n",
       "...           ...    ...                                                ...   \n",
       "10107       10107      0  les: remove useless protocol defines (#22115)\\...   \n",
       "10108       10108      1  Merge pull request #2067 from realm/tg-swift-l...   \n",
       "10109       10109      0                           [fix] 新規アカウント作成ページの翻訳を修正   \n",
       "10110       10110      0                            Merge branch 'hotfixes'   \n",
       "10111       10111      1  HTTPCLIENT-1803: Improved handling of malforme...   \n",
       "\n",
       "                                                    diff  \n",
       "0      diff --git a/lib/DJabberd.pm b/lib/DJabberd.pm...  \n",
       "1      diff --git a/src/kadmin/server/server_stubs.c ...  \n",
       "2      diff --git a/spring-security-oauth2/src/main/j...  \n",
       "3      diff --git a/application/config/version.php b/...  \n",
       "4      diff --git a/src/main.c b/src/main.c\\nindex 50...  \n",
       "...                                                  ...  \n",
       "10107  diff --git a/les/benchmark.go b/les/benchmark....  \n",
       "10108  diff --git a/CHANGELOG.md b/CHANGELOG.md\\ninde...  \n",
       "10109  diff --git a/app/locales/ja_JP/LC_MESSAGES/mes...  \n",
       "10110  diff --git a/CHANGELOG.txt b/CHANGELOG.txt\\nin...  \n",
       "10111  diff --git a/httpclient/src/main/java/org/apac...  \n",
       "\n",
       "[10064 rows x 4 columns]"
      ]
     },
     "execution_count": 3,
     "metadata": {},
     "output_type": "execute_result"
    }
   ],
   "source": [
    "df = pd.read_csv(r'../datasets/dataset.csv', encoding='utf_8_sig')\n",
    "df.dropna(inplace=True)\n",
    "label2id={'negative':0,'positive':1}\n",
    "df = df.replace({\"label\": label2id})\n",
    "df"
   ]
  },
  {
   "cell_type": "code",
   "execution_count": 4,
   "id": "c6bb2e8f-b1b5-46e4-a209-395a9fb671a5",
   "metadata": {
    "execution": {
     "iopub.execute_input": "2025-01-07T14:35:14.652923Z",
     "iopub.status.busy": "2025-01-07T14:35:14.652767Z",
     "iopub.status.idle": "2025-01-07T14:35:16.424027Z",
     "shell.execute_reply": "2025-01-07T14:35:16.423344Z",
     "shell.execute_reply.started": "2025-01-07T14:35:14.652905Z"
    }
   },
   "outputs": [
    {
     "name": "stderr",
     "output_type": "stream",
     "text": [
      "Some weights of the model checkpoint at ../models/bert-base-cased were not used when initializing BertModel: ['cls.seq_relationship.weight', 'cls.predictions.bias', 'cls.seq_relationship.bias', 'cls.predictions.transform.dense.bias', 'cls.predictions.transform.LayerNorm.weight', 'cls.predictions.transform.dense.weight', 'cls.predictions.transform.LayerNorm.bias']\n",
      "- This IS expected if you are initializing BertModel from the checkpoint of a model trained on another task or with another architecture (e.g. initializing a BertForSequenceClassification model from a BertForPreTraining model).\n",
      "- This IS NOT expected if you are initializing BertModel from the checkpoint of a model that you expect to be exactly identical (initializing a BertForSequenceClassification model from a BertForSequenceClassification model).\n",
      "Some weights of the model checkpoint at ../models/bert-base-cased were not used when initializing BertModel: ['cls.seq_relationship.weight', 'cls.predictions.bias', 'cls.seq_relationship.bias', 'cls.predictions.transform.dense.bias', 'cls.predictions.transform.LayerNorm.weight', 'cls.predictions.transform.dense.weight', 'cls.predictions.transform.LayerNorm.bias']\n",
      "- This IS expected if you are initializing BertModel from the checkpoint of a model trained on another task or with another architecture (e.g. initializing a BertForSequenceClassification model from a BertForPreTraining model).\n",
      "- This IS NOT expected if you are initializing BertModel from the checkpoint of a model that you expect to be exactly identical (initializing a BertForSequenceClassification model from a BertForSequenceClassification model).\n"
     ]
    }
   ],
   "source": [
    "# Load BERT and CodeBERT models and tokenizers\n",
    "bert_model = BertModel.from_pretrained('../models/bert-base-cased')\n",
    "bert_tokenizer = BertTokenizer.from_pretrained('../models/bert-base-cased')\n",
    "\n",
    "codebert_model = BertModel.from_pretrained('../models/bert-base-cased')\n",
    "codebert_tokenizer = BertTokenizer.from_pretrained('../models/bert-base-cased')"
   ]
  },
  {
   "cell_type": "code",
   "execution_count": 5,
   "id": "d76a248c-ca1e-41fb-a147-bc48137ec9d5",
   "metadata": {
    "execution": {
     "iopub.execute_input": "2025-01-07T14:35:16.424941Z",
     "iopub.status.busy": "2025-01-07T14:35:16.424778Z",
     "iopub.status.idle": "2025-01-07T14:35:16.917376Z",
     "shell.execute_reply": "2025-01-07T14:35:16.916497Z",
     "shell.execute_reply.started": "2025-01-07T14:35:16.424923Z"
    }
   },
   "outputs": [
    {
     "name": "stderr",
     "output_type": "stream",
     "text": [
      "Some weights of the model checkpoint at /root/autodl-tmp/IPCK/model/distilbert were not used when initializing DistilBertModel: ['vocab_transform.weight', 'vocab_transform.bias', 'vocab_layer_norm.bias', 'vocab_layer_norm.weight', 'vocab_projector.bias']\n",
      "- This IS expected if you are initializing DistilBertModel from the checkpoint of a model trained on another task or with another architecture (e.g. initializing a BertForSequenceClassification model from a BertForPreTraining model).\n",
      "- This IS NOT expected if you are initializing DistilBertModel from the checkpoint of a model that you expect to be exactly identical (initializing a BertForSequenceClassification model from a BertForSequenceClassification model).\n"
     ]
    }
   ],
   "source": [
    "# Load BERT and CodeBERT models and tokenizers\n",
    "bert_model = DistilBertModel.from_pretrained('/root/autodl-tmp/IPCK/model/distilbert')"
   ]
  },
  {
   "cell_type": "code",
   "execution_count": 6,
   "id": "01fc4d7a-bcc4-46be-ae7b-a91e62aacd14",
   "metadata": {
    "execution": {
     "iopub.execute_input": "2025-01-07T14:35:16.918662Z",
     "iopub.status.busy": "2025-01-07T14:35:16.918357Z",
     "iopub.status.idle": "2025-01-07T14:35:16.922148Z",
     "shell.execute_reply": "2025-01-07T14:35:16.921478Z",
     "shell.execute_reply.started": "2025-01-07T14:35:16.918642Z"
    }
   },
   "outputs": [],
   "source": [
    "encoder_model1 = moe.EncoderModel(bert_model)\n",
    "encoder_model2 = moe.EncoderModel(bert_model)"
   ]
  },
  {
   "cell_type": "code",
   "execution_count": 7,
   "id": "9c0aaf30-08c5-422e-bdea-dd054b54a6d1",
   "metadata": {
    "execution": {
     "iopub.execute_input": "2025-01-07T14:35:16.923994Z",
     "iopub.status.busy": "2025-01-07T14:35:16.923731Z",
     "iopub.status.idle": "2025-01-07T14:35:17.419666Z",
     "shell.execute_reply": "2025-01-07T14:35:17.418600Z",
     "shell.execute_reply.started": "2025-01-07T14:35:16.923975Z"
    }
   },
   "outputs": [],
   "source": [
    "moe_model = torch.load(\"focal_cum_entire_bert_model_900repo.pth\")                                                                                                                                                                                                                                                                                                                                                                                                                                             "
   ]
  },
  {
   "cell_type": "code",
   "execution_count": 8,
   "id": "d306587f-c218-4f03-a13e-5a8a7f92db07",
   "metadata": {
    "execution": {
     "iopub.execute_input": "2025-01-07T14:35:17.420821Z",
     "iopub.status.busy": "2025-01-07T14:35:17.420634Z",
     "iopub.status.idle": "2025-01-07T15:56:44.527054Z",
     "shell.execute_reply": "2025-01-07T15:56:44.526087Z",
     "shell.execute_reply.started": "2025-01-07T14:35:17.420798Z"
    }
   },
   "outputs": [
    {
     "name": "stdout",
     "output_type": "stream",
     "text": [
      "train 2782 test 370 val 370\n"
     ]
    },
    {
     "name": "stderr",
     "output_type": "stream",
     "text": [
      "/root/miniconda3/lib/python3.10/site-packages/transformers/optimization.py:391: FutureWarning: This implementation of AdamW is deprecated and will be removed in a future version. Use the PyTorch implementation torch.optim.AdamW instead, or set `no_deprecation_warning=True` to disable this warning\n",
      "  warnings.warn(\n",
      "Epoch 1/10 Loss: 1.9524: 100%|██████████| 47/47 [00:35<00:00,  1.34batch/s]\n"
     ]
    },
    {
     "name": "stdout",
     "output_type": "stream",
     "text": [
      "=============================train========================\n"
     ]
    },
    {
     "name": "stderr",
     "output_type": "stream",
     "text": [
      "Epoch 2/10 Loss: 1.3592: 100%|██████████| 47/47 [00:34<00:00,  1.37batch/s]\n"
     ]
    },
    {
     "name": "stdout",
     "output_type": "stream",
     "text": [
      "=============================train========================\n"
     ]
    },
    {
     "name": "stderr",
     "output_type": "stream",
     "text": [
      "Epoch 3/10 Loss: 0.5810: 100%|██████████| 47/47 [00:34<00:00,  1.37batch/s]\n"
     ]
    },
    {
     "name": "stdout",
     "output_type": "stream",
     "text": [
      "=============================train========================\n"
     ]
    },
    {
     "name": "stderr",
     "output_type": "stream",
     "text": [
      "Epoch 4/10 Loss: 0.3500: 100%|██████████| 47/47 [00:34<00:00,  1.37batch/s]\n"
     ]
    },
    {
     "name": "stdout",
     "output_type": "stream",
     "text": [
      "=============================train========================\n"
     ]
    },
    {
     "name": "stderr",
     "output_type": "stream",
     "text": [
      "Epoch 5/10 Loss: 0.2174: 100%|██████████| 47/47 [00:34<00:00,  1.37batch/s]\n"
     ]
    },
    {
     "name": "stdout",
     "output_type": "stream",
     "text": [
      "=============================train========================\n"
     ]
    },
    {
     "name": "stderr",
     "output_type": "stream",
     "text": [
      "Epoch 6/10 Loss: 0.1557: 100%|██████████| 47/47 [00:34<00:00,  1.37batch/s]\n"
     ]
    },
    {
     "name": "stdout",
     "output_type": "stream",
     "text": [
      "=============================train========================\n"
     ]
    },
    {
     "name": "stderr",
     "output_type": "stream",
     "text": [
      "Epoch 7/10 Loss: 0.1480: 100%|██████████| 47/47 [00:34<00:00,  1.37batch/s]\n"
     ]
    },
    {
     "name": "stdout",
     "output_type": "stream",
     "text": [
      "=============================train========================\n"
     ]
    },
    {
     "name": "stderr",
     "output_type": "stream",
     "text": [
      "Epoch 8/10 Loss: 0.1625: 100%|██████████| 47/47 [00:34<00:00,  1.37batch/s]\n"
     ]
    },
    {
     "name": "stdout",
     "output_type": "stream",
     "text": [
      "=============================train========================\n"
     ]
    },
    {
     "name": "stderr",
     "output_type": "stream",
     "text": [
      "Epoch 9/10 Loss: 0.0686: 100%|██████████| 47/47 [00:34<00:00,  1.37batch/s]\n"
     ]
    },
    {
     "name": "stdout",
     "output_type": "stream",
     "text": [
      "=============================train========================\n"
     ]
    },
    {
     "name": "stderr",
     "output_type": "stream",
     "text": [
      "Epoch 10/10 Loss: 0.0384: 100%|██████████| 47/47 [00:34<00:00,  1.37batch/s]\n"
     ]
    },
    {
     "name": "stdout",
     "output_type": "stream",
     "text": [
      "=============================train========================\n",
      "Validation Accuracy: 0.8405\n",
      "Precision: 0.8397\n",
      "Recall: 0.8405\n",
      "F1-Score: 0.8400\n"
     ]
    },
    {
     "name": "stderr",
     "output_type": "stream",
     "text": [
      "/root/miniconda3/lib/python3.10/site-packages/transformers/optimization.py:391: FutureWarning: This implementation of AdamW is deprecated and will be removed in a future version. Use the PyTorch implementation torch.optim.AdamW instead, or set `no_deprecation_warning=True` to disable this warning\n",
      "  warnings.warn(\n"
     ]
    },
    {
     "name": "stdout",
     "output_type": "stream",
     "text": [
      "Validation Accuracy: 0.8000\n",
      "Precision: 0.7989\n",
      "Recall: 0.8000\n",
      "F1-Score: 0.7994\n",
      "              precision    recall  f1-score   support\n",
      "\n",
      "           0       0.84      0.85      0.84       234\n",
      "           1       0.73      0.71      0.72       136\n",
      "\n",
      "    accuracy                           0.80       370\n",
      "   macro avg       0.79      0.78      0.78       370\n",
      "weighted avg       0.80      0.80      0.80       370\n",
      "\n",
      "train 2747 test 387 val 388\n"
     ]
    },
    {
     "name": "stderr",
     "output_type": "stream",
     "text": [
      "Epoch 1/10 Loss: 0.7533: 100%|██████████| 49/49 [00:37<00:00,  1.32batch/s]\n"
     ]
    },
    {
     "name": "stdout",
     "output_type": "stream",
     "text": [
      "=============================train========================\n"
     ]
    },
    {
     "name": "stderr",
     "output_type": "stream",
     "text": [
      "Epoch 2/10 Loss: 0.1390: 100%|██████████| 49/49 [00:37<00:00,  1.32batch/s]\n"
     ]
    },
    {
     "name": "stdout",
     "output_type": "stream",
     "text": [
      "=============================train========================\n"
     ]
    },
    {
     "name": "stderr",
     "output_type": "stream",
     "text": [
      "Epoch 3/10 Loss: 0.0561: 100%|██████████| 49/49 [00:37<00:00,  1.32batch/s]\n"
     ]
    },
    {
     "name": "stdout",
     "output_type": "stream",
     "text": [
      "=============================train========================\n"
     ]
    },
    {
     "name": "stderr",
     "output_type": "stream",
     "text": [
      "Epoch 4/10 Loss: 0.0318: 100%|██████████| 49/49 [00:37<00:00,  1.32batch/s]\n"
     ]
    },
    {
     "name": "stdout",
     "output_type": "stream",
     "text": [
      "=============================train========================\n"
     ]
    },
    {
     "name": "stderr",
     "output_type": "stream",
     "text": [
      "Epoch 5/10 Loss: 0.0232: 100%|██████████| 49/49 [00:37<00:00,  1.32batch/s]\n"
     ]
    },
    {
     "name": "stdout",
     "output_type": "stream",
     "text": [
      "=============================train========================\n"
     ]
    },
    {
     "name": "stderr",
     "output_type": "stream",
     "text": [
      "Epoch 6/10 Loss: 0.0214: 100%|██████████| 49/49 [00:37<00:00,  1.32batch/s]\n"
     ]
    },
    {
     "name": "stdout",
     "output_type": "stream",
     "text": [
      "=============================train========================\n"
     ]
    },
    {
     "name": "stderr",
     "output_type": "stream",
     "text": [
      "Epoch 7/10 Loss: 0.0171: 100%|██████████| 49/49 [00:37<00:00,  1.32batch/s]\n"
     ]
    },
    {
     "name": "stdout",
     "output_type": "stream",
     "text": [
      "=============================train========================\n"
     ]
    },
    {
     "name": "stderr",
     "output_type": "stream",
     "text": [
      "Epoch 8/10 Loss: 0.0149: 100%|██████████| 49/49 [00:37<00:00,  1.32batch/s]\n"
     ]
    },
    {
     "name": "stdout",
     "output_type": "stream",
     "text": [
      "=============================train========================\n"
     ]
    },
    {
     "name": "stderr",
     "output_type": "stream",
     "text": [
      "Epoch 9/10 Loss: 0.0107: 100%|██████████| 49/49 [00:37<00:00,  1.32batch/s]\n"
     ]
    },
    {
     "name": "stdout",
     "output_type": "stream",
     "text": [
      "=============================train========================\n"
     ]
    },
    {
     "name": "stderr",
     "output_type": "stream",
     "text": [
      "Epoch 10/10 Loss: 0.0091: 100%|██████████| 49/49 [00:37<00:00,  1.31batch/s]\n"
     ]
    },
    {
     "name": "stdout",
     "output_type": "stream",
     "text": [
      "=============================train========================\n",
      "Validation Accuracy: 0.8527\n",
      "Precision: 0.8517\n",
      "Recall: 0.8527\n",
      "F1-Score: 0.8521\n"
     ]
    },
    {
     "name": "stderr",
     "output_type": "stream",
     "text": [
      "/root/miniconda3/lib/python3.10/site-packages/transformers/optimization.py:391: FutureWarning: This implementation of AdamW is deprecated and will be removed in a future version. Use the PyTorch implementation torch.optim.AdamW instead, or set `no_deprecation_warning=True` to disable this warning\n",
      "  warnings.warn(\n"
     ]
    },
    {
     "name": "stdout",
     "output_type": "stream",
     "text": [
      "Validation Accuracy: 0.8144\n",
      "Precision: 0.8130\n",
      "Recall: 0.8144\n",
      "F1-Score: 0.8132\n",
      "              precision    recall  f1-score   support\n",
      "\n",
      "           0       0.83      0.87      0.85       237\n",
      "           1       0.78      0.73      0.75       151\n",
      "\n",
      "    accuracy                           0.81       388\n",
      "   macro avg       0.81      0.80      0.80       388\n",
      "weighted avg       0.81      0.81      0.81       388\n",
      "\n",
      "train 2711 test 405 val 406\n"
     ]
    },
    {
     "name": "stderr",
     "output_type": "stream",
     "text": [
      "Epoch 1/10 Loss: 0.6157: 100%|██████████| 51/51 [00:37<00:00,  1.36batch/s]\n"
     ]
    },
    {
     "name": "stdout",
     "output_type": "stream",
     "text": [
      "=============================train========================\n"
     ]
    },
    {
     "name": "stderr",
     "output_type": "stream",
     "text": [
      "Epoch 2/10 Loss: 0.1208: 100%|██████████| 51/51 [00:37<00:00,  1.37batch/s]\n"
     ]
    },
    {
     "name": "stdout",
     "output_type": "stream",
     "text": [
      "=============================train========================\n"
     ]
    },
    {
     "name": "stderr",
     "output_type": "stream",
     "text": [
      "Epoch 3/10 Loss: 0.0677: 100%|██████████| 51/51 [00:37<00:00,  1.37batch/s]\n"
     ]
    },
    {
     "name": "stdout",
     "output_type": "stream",
     "text": [
      "=============================train========================\n"
     ]
    },
    {
     "name": "stderr",
     "output_type": "stream",
     "text": [
      "Epoch 4/10 Loss: 0.0577: 100%|██████████| 51/51 [00:37<00:00,  1.37batch/s]\n"
     ]
    },
    {
     "name": "stdout",
     "output_type": "stream",
     "text": [
      "=============================train========================\n"
     ]
    },
    {
     "name": "stderr",
     "output_type": "stream",
     "text": [
      "Epoch 5/10 Loss: 0.0256: 100%|██████████| 51/51 [00:37<00:00,  1.37batch/s]\n"
     ]
    },
    {
     "name": "stdout",
     "output_type": "stream",
     "text": [
      "=============================train========================\n"
     ]
    },
    {
     "name": "stderr",
     "output_type": "stream",
     "text": [
      "Epoch 6/10 Loss: 0.0196: 100%|██████████| 51/51 [00:37<00:00,  1.37batch/s]\n"
     ]
    },
    {
     "name": "stdout",
     "output_type": "stream",
     "text": [
      "=============================train========================\n"
     ]
    },
    {
     "name": "stderr",
     "output_type": "stream",
     "text": [
      "Epoch 7/10 Loss: 0.0152: 100%|██████████| 51/51 [00:37<00:00,  1.36batch/s]\n"
     ]
    },
    {
     "name": "stdout",
     "output_type": "stream",
     "text": [
      "=============================train========================\n"
     ]
    },
    {
     "name": "stderr",
     "output_type": "stream",
     "text": [
      "Epoch 8/10 Loss: 0.0110: 100%|██████████| 51/51 [00:37<00:00,  1.36batch/s]\n"
     ]
    },
    {
     "name": "stdout",
     "output_type": "stream",
     "text": [
      "=============================train========================\n"
     ]
    },
    {
     "name": "stderr",
     "output_type": "stream",
     "text": [
      "Epoch 9/10 Loss: 0.0095: 100%|██████████| 51/51 [00:37<00:00,  1.37batch/s]\n"
     ]
    },
    {
     "name": "stdout",
     "output_type": "stream",
     "text": [
      "=============================train========================\n"
     ]
    },
    {
     "name": "stderr",
     "output_type": "stream",
     "text": [
      "Epoch 10/10 Loss: 0.0100: 100%|██████████| 51/51 [00:37<00:00,  1.37batch/s]\n"
     ]
    },
    {
     "name": "stdout",
     "output_type": "stream",
     "text": [
      "=============================train========================\n",
      "Validation Accuracy: 0.8593\n",
      "Precision: 0.8585\n",
      "Recall: 0.8593\n",
      "F1-Score: 0.8588\n"
     ]
    },
    {
     "name": "stderr",
     "output_type": "stream",
     "text": [
      "/root/miniconda3/lib/python3.10/site-packages/transformers/optimization.py:391: FutureWarning: This implementation of AdamW is deprecated and will be removed in a future version. Use the PyTorch implementation torch.optim.AdamW instead, or set `no_deprecation_warning=True` to disable this warning\n",
      "  warnings.warn(\n"
     ]
    },
    {
     "name": "stdout",
     "output_type": "stream",
     "text": [
      "Validation Accuracy: 0.8079\n",
      "Precision: 0.8067\n",
      "Recall: 0.8079\n",
      "F1-Score: 0.8071\n",
      "              precision    recall  f1-score   support\n",
      "\n",
      "           0       0.84      0.86      0.85       253\n",
      "           1       0.76      0.73      0.74       153\n",
      "\n",
      "    accuracy                           0.81       406\n",
      "   macro avg       0.80      0.79      0.79       406\n",
      "weighted avg       0.81      0.81      0.81       406\n",
      "\n",
      "train 2676 test 423 val 423\n"
     ]
    },
    {
     "name": "stderr",
     "output_type": "stream",
     "text": [
      "Epoch 1/10 Loss: 0.5165: 100%|██████████| 53/53 [00:40<00:00,  1.32batch/s]\n"
     ]
    },
    {
     "name": "stdout",
     "output_type": "stream",
     "text": [
      "=============================train========================\n"
     ]
    },
    {
     "name": "stderr",
     "output_type": "stream",
     "text": [
      "Epoch 2/10 Loss: 0.0762: 100%|██████████| 53/53 [00:40<00:00,  1.32batch/s]\n"
     ]
    },
    {
     "name": "stdout",
     "output_type": "stream",
     "text": [
      "=============================train========================\n"
     ]
    },
    {
     "name": "stderr",
     "output_type": "stream",
     "text": [
      "Epoch 3/10 Loss: 0.0328: 100%|██████████| 53/53 [00:39<00:00,  1.33batch/s]\n"
     ]
    },
    {
     "name": "stdout",
     "output_type": "stream",
     "text": [
      "=============================train========================\n"
     ]
    },
    {
     "name": "stderr",
     "output_type": "stream",
     "text": [
      "Epoch 4/10 Loss: 0.0244: 100%|██████████| 53/53 [00:40<00:00,  1.32batch/s]\n"
     ]
    },
    {
     "name": "stdout",
     "output_type": "stream",
     "text": [
      "=============================train========================\n"
     ]
    },
    {
     "name": "stderr",
     "output_type": "stream",
     "text": [
      "Epoch 5/10 Loss: 0.0217: 100%|██████████| 53/53 [00:39<00:00,  1.33batch/s]\n"
     ]
    },
    {
     "name": "stdout",
     "output_type": "stream",
     "text": [
      "=============================train========================\n"
     ]
    },
    {
     "name": "stderr",
     "output_type": "stream",
     "text": [
      "Epoch 6/10 Loss: 0.0156: 100%|██████████| 53/53 [00:39<00:00,  1.33batch/s]\n"
     ]
    },
    {
     "name": "stdout",
     "output_type": "stream",
     "text": [
      "=============================train========================\n"
     ]
    },
    {
     "name": "stderr",
     "output_type": "stream",
     "text": [
      "Epoch 7/10 Loss: 0.0143: 100%|██████████| 53/53 [00:40<00:00,  1.32batch/s]\n"
     ]
    },
    {
     "name": "stdout",
     "output_type": "stream",
     "text": [
      "=============================train========================\n"
     ]
    },
    {
     "name": "stderr",
     "output_type": "stream",
     "text": [
      "Epoch 8/10 Loss: 0.0139: 100%|██████████| 53/53 [00:40<00:00,  1.32batch/s]\n"
     ]
    },
    {
     "name": "stdout",
     "output_type": "stream",
     "text": [
      "=============================train========================\n"
     ]
    },
    {
     "name": "stderr",
     "output_type": "stream",
     "text": [
      "Epoch 9/10 Loss: 0.0136: 100%|██████████| 53/53 [00:40<00:00,  1.32batch/s]\n"
     ]
    },
    {
     "name": "stdout",
     "output_type": "stream",
     "text": [
      "=============================train========================\n"
     ]
    },
    {
     "name": "stderr",
     "output_type": "stream",
     "text": [
      "Epoch 10/10 Loss: 0.0136: 100%|██████████| 53/53 [00:40<00:00,  1.32batch/s]\n"
     ]
    },
    {
     "name": "stdout",
     "output_type": "stream",
     "text": [
      "=============================train========================\n",
      "Validation Accuracy: 0.8771\n",
      "Precision: 0.8775\n",
      "Recall: 0.8771\n",
      "F1-Score: 0.8772\n"
     ]
    },
    {
     "name": "stderr",
     "output_type": "stream",
     "text": [
      "/root/miniconda3/lib/python3.10/site-packages/transformers/optimization.py:391: FutureWarning: This implementation of AdamW is deprecated and will be removed in a future version. Use the PyTorch implementation torch.optim.AdamW instead, or set `no_deprecation_warning=True` to disable this warning\n",
      "  warnings.warn(\n"
     ]
    },
    {
     "name": "stdout",
     "output_type": "stream",
     "text": [
      "Validation Accuracy: 0.8180\n",
      "Precision: 0.8186\n",
      "Recall: 0.8180\n",
      "F1-Score: 0.8183\n",
      "              precision    recall  f1-score   support\n",
      "\n",
      "           0       0.86      0.85      0.85       259\n",
      "           1       0.76      0.77      0.77       164\n",
      "\n",
      "    accuracy                           0.82       423\n",
      "   macro avg       0.81      0.81      0.81       423\n",
      "weighted avg       0.82      0.82      0.82       423\n",
      "\n",
      "train 2641 test 440 val 441\n"
     ]
    },
    {
     "name": "stderr",
     "output_type": "stream",
     "text": [
      "Epoch 1/10 Loss: 0.5295: 100%|██████████| 55/55 [00:44<00:00,  1.24batch/s]\n"
     ]
    },
    {
     "name": "stdout",
     "output_type": "stream",
     "text": [
      "=============================train========================\n"
     ]
    },
    {
     "name": "stderr",
     "output_type": "stream",
     "text": [
      "Epoch 2/10 Loss: 0.1000: 100%|██████████| 55/55 [00:43<00:00,  1.25batch/s]\n"
     ]
    },
    {
     "name": "stdout",
     "output_type": "stream",
     "text": [
      "=============================train========================\n"
     ]
    },
    {
     "name": "stderr",
     "output_type": "stream",
     "text": [
      "Epoch 3/10 Loss: 0.0426: 100%|██████████| 55/55 [00:44<00:00,  1.25batch/s]\n"
     ]
    },
    {
     "name": "stdout",
     "output_type": "stream",
     "text": [
      "=============================train========================\n"
     ]
    },
    {
     "name": "stderr",
     "output_type": "stream",
     "text": [
      "Epoch 4/10 Loss: 0.0250: 100%|██████████| 55/55 [00:44<00:00,  1.25batch/s]\n"
     ]
    },
    {
     "name": "stdout",
     "output_type": "stream",
     "text": [
      "=============================train========================\n"
     ]
    },
    {
     "name": "stderr",
     "output_type": "stream",
     "text": [
      "Epoch 5/10 Loss: 0.0194: 100%|██████████| 55/55 [00:44<00:00,  1.25batch/s]\n"
     ]
    },
    {
     "name": "stdout",
     "output_type": "stream",
     "text": [
      "=============================train========================\n"
     ]
    },
    {
     "name": "stderr",
     "output_type": "stream",
     "text": [
      "Epoch 6/10 Loss: 0.0151: 100%|██████████| 55/55 [00:44<00:00,  1.25batch/s]\n"
     ]
    },
    {
     "name": "stdout",
     "output_type": "stream",
     "text": [
      "=============================train========================\n"
     ]
    },
    {
     "name": "stderr",
     "output_type": "stream",
     "text": [
      "Epoch 7/10 Loss: 0.0145: 100%|██████████| 55/55 [00:44<00:00,  1.24batch/s]\n"
     ]
    },
    {
     "name": "stdout",
     "output_type": "stream",
     "text": [
      "=============================train========================\n"
     ]
    },
    {
     "name": "stderr",
     "output_type": "stream",
     "text": [
      "Epoch 8/10 Loss: 0.0184: 100%|██████████| 55/55 [00:44<00:00,  1.25batch/s]\n"
     ]
    },
    {
     "name": "stdout",
     "output_type": "stream",
     "text": [
      "=============================train========================\n"
     ]
    },
    {
     "name": "stderr",
     "output_type": "stream",
     "text": [
      "Epoch 9/10 Loss: 0.0145: 100%|██████████| 55/55 [00:44<00:00,  1.24batch/s]\n"
     ]
    },
    {
     "name": "stdout",
     "output_type": "stream",
     "text": [
      "=============================train========================\n"
     ]
    },
    {
     "name": "stderr",
     "output_type": "stream",
     "text": [
      "Epoch 10/10 Loss: 0.0147: 100%|██████████| 55/55 [00:44<00:00,  1.24batch/s]\n"
     ]
    },
    {
     "name": "stdout",
     "output_type": "stream",
     "text": [
      "=============================train========================\n",
      "Early stopping triggered after 10 epochs\n",
      "Validation Accuracy: 0.8500\n",
      "Precision: 0.8500\n",
      "Recall: 0.8500\n",
      "F1-Score: 0.8500\n"
     ]
    },
    {
     "name": "stderr",
     "output_type": "stream",
     "text": [
      "/root/miniconda3/lib/python3.10/site-packages/transformers/optimization.py:391: FutureWarning: This implementation of AdamW is deprecated and will be removed in a future version. Use the PyTorch implementation torch.optim.AdamW instead, or set `no_deprecation_warning=True` to disable this warning\n",
      "  warnings.warn(\n"
     ]
    },
    {
     "name": "stdout",
     "output_type": "stream",
     "text": [
      "Validation Accuracy: 0.8254\n",
      "Precision: 0.8296\n",
      "Recall: 0.8254\n",
      "F1-Score: 0.8265\n",
      "              precision    recall  f1-score   support\n",
      "\n",
      "           0       0.88      0.83      0.85       269\n",
      "           1       0.75      0.82      0.79       172\n",
      "\n",
      "    accuracy                           0.83       441\n",
      "   macro avg       0.82      0.82      0.82       441\n",
      "weighted avg       0.83      0.83      0.83       441\n",
      "\n",
      "train 2606 test 458 val 458\n"
     ]
    },
    {
     "name": "stderr",
     "output_type": "stream",
     "text": [
      "Epoch 1/10 Loss: 0.3346: 100%|██████████| 58/58 [00:36<00:00,  1.60batch/s]\n"
     ]
    },
    {
     "name": "stdout",
     "output_type": "stream",
     "text": [
      "=============================train========================\n"
     ]
    },
    {
     "name": "stderr",
     "output_type": "stream",
     "text": [
      "Epoch 2/10 Loss: 0.0963: 100%|██████████| 58/58 [00:36<00:00,  1.60batch/s]\n"
     ]
    },
    {
     "name": "stdout",
     "output_type": "stream",
     "text": [
      "=============================train========================\n"
     ]
    },
    {
     "name": "stderr",
     "output_type": "stream",
     "text": [
      "Epoch 3/10 Loss: 0.0507: 100%|██████████| 58/58 [00:36<00:00,  1.60batch/s]\n"
     ]
    },
    {
     "name": "stdout",
     "output_type": "stream",
     "text": [
      "=============================train========================\n"
     ]
    },
    {
     "name": "stderr",
     "output_type": "stream",
     "text": [
      "Epoch 4/10 Loss: 0.0247: 100%|██████████| 58/58 [00:36<00:00,  1.60batch/s]\n"
     ]
    },
    {
     "name": "stdout",
     "output_type": "stream",
     "text": [
      "=============================train========================\n"
     ]
    },
    {
     "name": "stderr",
     "output_type": "stream",
     "text": [
      "Epoch 5/10 Loss: 0.0248: 100%|██████████| 58/58 [00:36<00:00,  1.59batch/s]\n"
     ]
    },
    {
     "name": "stdout",
     "output_type": "stream",
     "text": [
      "=============================train========================\n"
     ]
    },
    {
     "name": "stderr",
     "output_type": "stream",
     "text": [
      "Epoch 6/10 Loss: 0.0105: 100%|██████████| 58/58 [00:36<00:00,  1.60batch/s]\n"
     ]
    },
    {
     "name": "stdout",
     "output_type": "stream",
     "text": [
      "=============================train========================\n"
     ]
    },
    {
     "name": "stderr",
     "output_type": "stream",
     "text": [
      "Epoch 7/10 Loss: 0.0082: 100%|██████████| 58/58 [00:36<00:00,  1.61batch/s]\n"
     ]
    },
    {
     "name": "stdout",
     "output_type": "stream",
     "text": [
      "=============================train========================\n"
     ]
    },
    {
     "name": "stderr",
     "output_type": "stream",
     "text": [
      "Epoch 8/10 Loss: 0.0080: 100%|██████████| 58/58 [00:36<00:00,  1.60batch/s]\n"
     ]
    },
    {
     "name": "stdout",
     "output_type": "stream",
     "text": [
      "=============================train========================\n"
     ]
    },
    {
     "name": "stderr",
     "output_type": "stream",
     "text": [
      "Epoch 9/10 Loss: 0.0076: 100%|██████████| 58/58 [00:36<00:00,  1.60batch/s]\n"
     ]
    },
    {
     "name": "stdout",
     "output_type": "stream",
     "text": [
      "=============================train========================\n"
     ]
    },
    {
     "name": "stderr",
     "output_type": "stream",
     "text": [
      "Epoch 10/10 Loss: 0.0063: 100%|██████████| 58/58 [00:36<00:00,  1.60batch/s]\n"
     ]
    },
    {
     "name": "stdout",
     "output_type": "stream",
     "text": [
      "=============================train========================\n",
      "Validation Accuracy: 0.8537\n",
      "Precision: 0.8530\n",
      "Recall: 0.8537\n",
      "F1-Score: 0.8532\n"
     ]
    },
    {
     "name": "stderr",
     "output_type": "stream",
     "text": [
      "/root/miniconda3/lib/python3.10/site-packages/transformers/optimization.py:391: FutureWarning: This implementation of AdamW is deprecated and will be removed in a future version. Use the PyTorch implementation torch.optim.AdamW instead, or set `no_deprecation_warning=True` to disable this warning\n",
      "  warnings.warn(\n"
     ]
    },
    {
     "name": "stdout",
     "output_type": "stream",
     "text": [
      "Validation Accuracy: 0.8472\n",
      "Precision: 0.8482\n",
      "Recall: 0.8472\n",
      "F1-Score: 0.8475\n",
      "              precision    recall  f1-score   support\n",
      "\n",
      "           0       0.88      0.86      0.87       273\n",
      "           1       0.80      0.83      0.81       185\n",
      "\n",
      "    accuracy                           0.85       458\n",
      "   macro avg       0.84      0.84      0.84       458\n",
      "weighted avg       0.85      0.85      0.85       458\n",
      "\n",
      "train 2571 test 475 val 476\n"
     ]
    },
    {
     "name": "stderr",
     "output_type": "stream",
     "text": [
      "Epoch 1/10 Loss: 0.4227: 100%|██████████| 60/60 [00:53<00:00,  1.12batch/s]\n"
     ]
    },
    {
     "name": "stdout",
     "output_type": "stream",
     "text": [
      "=============================train========================\n"
     ]
    },
    {
     "name": "stderr",
     "output_type": "stream",
     "text": [
      "Epoch 2/10 Loss: 0.0432: 100%|██████████| 60/60 [00:53<00:00,  1.13batch/s]\n"
     ]
    },
    {
     "name": "stdout",
     "output_type": "stream",
     "text": [
      "=============================train========================\n"
     ]
    },
    {
     "name": "stderr",
     "output_type": "stream",
     "text": [
      "Epoch 3/10 Loss: 0.0269: 100%|██████████| 60/60 [00:53<00:00,  1.12batch/s]\n"
     ]
    },
    {
     "name": "stdout",
     "output_type": "stream",
     "text": [
      "=============================train========================\n"
     ]
    },
    {
     "name": "stderr",
     "output_type": "stream",
     "text": [
      "Epoch 4/10 Loss: 0.0166: 100%|██████████| 60/60 [00:53<00:00,  1.13batch/s]\n"
     ]
    },
    {
     "name": "stdout",
     "output_type": "stream",
     "text": [
      "=============================train========================\n"
     ]
    },
    {
     "name": "stderr",
     "output_type": "stream",
     "text": [
      "Epoch 5/10 Loss: 0.0127: 100%|██████████| 60/60 [00:53<00:00,  1.12batch/s]\n"
     ]
    },
    {
     "name": "stdout",
     "output_type": "stream",
     "text": [
      "=============================train========================\n"
     ]
    },
    {
     "name": "stderr",
     "output_type": "stream",
     "text": [
      "Epoch 6/10 Loss: 0.0092: 100%|██████████| 60/60 [00:53<00:00,  1.13batch/s]\n"
     ]
    },
    {
     "name": "stdout",
     "output_type": "stream",
     "text": [
      "=============================train========================\n"
     ]
    },
    {
     "name": "stderr",
     "output_type": "stream",
     "text": [
      "Epoch 7/10 Loss: 0.0090: 100%|██████████| 60/60 [00:53<00:00,  1.13batch/s]\n"
     ]
    },
    {
     "name": "stdout",
     "output_type": "stream",
     "text": [
      "=============================train========================\n"
     ]
    },
    {
     "name": "stderr",
     "output_type": "stream",
     "text": [
      "Epoch 8/10 Loss: 0.0076: 100%|██████████| 60/60 [00:53<00:00,  1.13batch/s]\n"
     ]
    },
    {
     "name": "stdout",
     "output_type": "stream",
     "text": [
      "=============================train========================\n"
     ]
    },
    {
     "name": "stderr",
     "output_type": "stream",
     "text": [
      "Epoch 9/10 Loss: 0.0064: 100%|██████████| 60/60 [00:53<00:00,  1.13batch/s]\n"
     ]
    },
    {
     "name": "stdout",
     "output_type": "stream",
     "text": [
      "=============================train========================\n"
     ]
    },
    {
     "name": "stderr",
     "output_type": "stream",
     "text": [
      "Epoch 10/10 Loss: 0.0080: 100%|██████████| 60/60 [00:53<00:00,  1.13batch/s]\n"
     ]
    },
    {
     "name": "stdout",
     "output_type": "stream",
     "text": [
      "=============================train========================\n",
      "Validation Accuracy: 0.8589\n",
      "Precision: 0.8582\n",
      "Recall: 0.8589\n",
      "F1-Score: 0.8584\n"
     ]
    },
    {
     "name": "stderr",
     "output_type": "stream",
     "text": [
      "/root/miniconda3/lib/python3.10/site-packages/transformers/optimization.py:391: FutureWarning: This implementation of AdamW is deprecated and will be removed in a future version. Use the PyTorch implementation torch.optim.AdamW instead, or set `no_deprecation_warning=True` to disable this warning\n",
      "  warnings.warn(\n"
     ]
    },
    {
     "name": "stdout",
     "output_type": "stream",
     "text": [
      "Validation Accuracy: 0.8319\n",
      "Precision: 0.8387\n",
      "Recall: 0.8319\n",
      "F1-Score: 0.8332\n",
      "              precision    recall  f1-score   support\n",
      "\n",
      "           0       0.89      0.82      0.85       285\n",
      "           1       0.76      0.85      0.80       191\n",
      "\n",
      "    accuracy                           0.83       476\n",
      "   macro avg       0.83      0.84      0.83       476\n",
      "weighted avg       0.84      0.83      0.83       476\n",
      "\n",
      "train 2535 test 493 val 494\n"
     ]
    },
    {
     "name": "stderr",
     "output_type": "stream",
     "text": [
      "Epoch 4/10 Loss: 0.0120: 100%|██████████| 62/62 [00:42<00:00,  1.45batch/s]\n"
     ]
    },
    {
     "name": "stdout",
     "output_type": "stream",
     "text": [
      "=============================train========================\n"
     ]
    },
    {
     "name": "stderr",
     "output_type": "stream",
     "text": [
      "Epoch 5/10 Loss: 0.0067: 100%|██████████| 62/62 [00:42<00:00,  1.46batch/s]\n"
     ]
    },
    {
     "name": "stdout",
     "output_type": "stream",
     "text": [
      "=============================train========================\n"
     ]
    },
    {
     "name": "stderr",
     "output_type": "stream",
     "text": [
      "Epoch 6/10 Loss: 0.0108: 100%|██████████| 62/62 [00:42<00:00,  1.46batch/s]\n"
     ]
    },
    {
     "name": "stdout",
     "output_type": "stream",
     "text": [
      "=============================train========================\n"
     ]
    },
    {
     "name": "stderr",
     "output_type": "stream",
     "text": [
      "Epoch 7/10 Loss: 0.0105: 100%|██████████| 62/62 [00:42<00:00,  1.46batch/s]\n"
     ]
    },
    {
     "name": "stdout",
     "output_type": "stream",
     "text": [
      "=============================train========================\n"
     ]
    },
    {
     "name": "stderr",
     "output_type": "stream",
     "text": [
      "Epoch 8/10 Loss: 0.0101: 100%|██████████| 62/62 [00:42<00:00,  1.45batch/s]\n"
     ]
    },
    {
     "name": "stdout",
     "output_type": "stream",
     "text": [
      "=============================train========================\n",
      "Early stopping triggered after 8 epochs\n",
      "Validation Accuracy: 0.8580\n",
      "Precision: 0.8584\n",
      "Recall: 0.8580\n",
      "F1-Score: 0.8582\n"
     ]
    },
    {
     "name": "stderr",
     "output_type": "stream",
     "text": [
      "/root/miniconda3/lib/python3.10/site-packages/transformers/optimization.py:391: FutureWarning: This implementation of AdamW is deprecated and will be removed in a future version. Use the PyTorch implementation torch.optim.AdamW instead, or set `no_deprecation_warning=True` to disable this warning\n",
      "  warnings.warn(\n"
     ]
    },
    {
     "name": "stdout",
     "output_type": "stream",
     "text": [
      "Validation Accuracy: 0.8421\n",
      "Precision: 0.8427\n",
      "Recall: 0.8421\n",
      "F1-Score: 0.8423\n",
      "              precision    recall  f1-score   support\n",
      "\n",
      "           0       0.87      0.86      0.87       291\n",
      "           1       0.80      0.82      0.81       203\n",
      "\n",
      "    accuracy                           0.84       494\n",
      "   macro avg       0.84      0.84      0.84       494\n",
      "weighted avg       0.84      0.84      0.84       494\n",
      "\n",
      "train 2500 test 511 val 511\n"
     ]
    },
    {
     "name": "stderr",
     "output_type": "stream",
     "text": [
      "Epoch 1/10 Loss: 0.3661: 100%|██████████| 64/64 [00:39<00:00,  1.60batch/s]\n"
     ]
    },
    {
     "name": "stdout",
     "output_type": "stream",
     "text": [
      "=============================train========================\n"
     ]
    },
    {
     "name": "stderr",
     "output_type": "stream",
     "text": [
      "Epoch 2/10 Loss: 0.0587: 100%|██████████| 64/64 [00:39<00:00,  1.61batch/s]\n"
     ]
    },
    {
     "name": "stdout",
     "output_type": "stream",
     "text": [
      "=============================train========================\n"
     ]
    },
    {
     "name": "stderr",
     "output_type": "stream",
     "text": [
      "Epoch 3/10 Loss: 0.0243: 100%|██████████| 64/64 [00:40<00:00,  1.60batch/s]\n"
     ]
    },
    {
     "name": "stdout",
     "output_type": "stream",
     "text": [
      "=============================train========================\n"
     ]
    },
    {
     "name": "stderr",
     "output_type": "stream",
     "text": [
      "Epoch 4/10 Loss: 0.0183: 100%|██████████| 64/64 [00:40<00:00,  1.60batch/s]\n"
     ]
    },
    {
     "name": "stdout",
     "output_type": "stream",
     "text": [
      "=============================train========================\n"
     ]
    },
    {
     "name": "stderr",
     "output_type": "stream",
     "text": [
      "Epoch 5/10 Loss: 0.0109: 100%|██████████| 64/64 [00:39<00:00,  1.60batch/s]\n"
     ]
    },
    {
     "name": "stdout",
     "output_type": "stream",
     "text": [
      "=============================train========================\n"
     ]
    },
    {
     "name": "stderr",
     "output_type": "stream",
     "text": [
      "Epoch 6/10 Loss: 0.0109: 100%|██████████| 64/64 [00:39<00:00,  1.60batch/s]\n"
     ]
    },
    {
     "name": "stdout",
     "output_type": "stream",
     "text": [
      "=============================train========================\n"
     ]
    },
    {
     "name": "stderr",
     "output_type": "stream",
     "text": [
      "Epoch 7/10 Loss: 0.0078: 100%|██████████| 64/64 [00:40<00:00,  1.59batch/s]\n"
     ]
    },
    {
     "name": "stdout",
     "output_type": "stream",
     "text": [
      "=============================train========================\n"
     ]
    },
    {
     "name": "stderr",
     "output_type": "stream",
     "text": [
      "Epoch 8/10 Loss: 0.0071: 100%|██████████| 64/64 [00:40<00:00,  1.59batch/s]\n"
     ]
    },
    {
     "name": "stdout",
     "output_type": "stream",
     "text": [
      "=============================train========================\n"
     ]
    },
    {
     "name": "stderr",
     "output_type": "stream",
     "text": [
      "Epoch 9/10 Loss: 0.0066: 100%|██████████| 64/64 [00:40<00:00,  1.60batch/s]\n"
     ]
    },
    {
     "name": "stdout",
     "output_type": "stream",
     "text": [
      "=============================train========================\n"
     ]
    },
    {
     "name": "stderr",
     "output_type": "stream",
     "text": [
      "Epoch 10/10 Loss: 0.0051: 100%|██████████| 64/64 [00:39<00:00,  1.60batch/s]\n"
     ]
    },
    {
     "name": "stdout",
     "output_type": "stream",
     "text": [
      "=============================train========================\n",
      "Validation Accuracy: 0.8669\n",
      "Precision: 0.8667\n",
      "Recall: 0.8669\n",
      "F1-Score: 0.8668\n"
     ]
    },
    {
     "name": "stderr",
     "output_type": "stream",
     "text": [
      "/root/miniconda3/lib/python3.10/site-packages/transformers/optimization.py:391: FutureWarning: This implementation of AdamW is deprecated and will be removed in a future version. Use the PyTorch implementation torch.optim.AdamW instead, or set `no_deprecation_warning=True` to disable this warning\n",
      "  warnings.warn(\n"
     ]
    },
    {
     "name": "stdout",
     "output_type": "stream",
     "text": [
      "Validation Accuracy: 0.8415\n",
      "Precision: 0.8465\n",
      "Recall: 0.8415\n",
      "F1-Score: 0.8426\n",
      "              precision    recall  f1-score   support\n",
      "\n",
      "           0       0.90      0.83      0.86       308\n",
      "           1       0.77      0.85      0.81       203\n",
      "\n",
      "    accuracy                           0.84       511\n",
      "   macro avg       0.83      0.84      0.84       511\n",
      "weighted avg       0.85      0.84      0.84       511\n",
      "\n",
      "train 2465 test 528 val 529\n"
     ]
    },
    {
     "name": "stderr",
     "output_type": "stream",
     "text": [
      "Epoch 1/10 Loss: 0.2814: 100%|██████████| 66/66 [00:55<00:00,  1.19batch/s]\n"
     ]
    },
    {
     "name": "stdout",
     "output_type": "stream",
     "text": [
      "=============================train========================\n"
     ]
    },
    {
     "name": "stderr",
     "output_type": "stream",
     "text": [
      "Epoch 2/10 Loss: 0.0389: 100%|██████████| 66/66 [00:55<00:00,  1.19batch/s]\n"
     ]
    },
    {
     "name": "stdout",
     "output_type": "stream",
     "text": [
      "=============================train========================\n"
     ]
    },
    {
     "name": "stderr",
     "output_type": "stream",
     "text": [
      "Epoch 3/10 Loss: 0.0219: 100%|██████████| 66/66 [00:55<00:00,  1.20batch/s]\n"
     ]
    },
    {
     "name": "stdout",
     "output_type": "stream",
     "text": [
      "=============================train========================\n"
     ]
    },
    {
     "name": "stderr",
     "output_type": "stream",
     "text": [
      "Epoch 4/10 Loss: 0.0136: 100%|██████████| 66/66 [00:55<00:00,  1.20batch/s]\n"
     ]
    },
    {
     "name": "stdout",
     "output_type": "stream",
     "text": [
      "=============================train========================\n"
     ]
    },
    {
     "name": "stderr",
     "output_type": "stream",
     "text": [
      "Epoch 5/10 Loss: 0.0106: 100%|██████████| 66/66 [00:55<00:00,  1.20batch/s]\n"
     ]
    },
    {
     "name": "stdout",
     "output_type": "stream",
     "text": [
      "=============================train========================\n"
     ]
    },
    {
     "name": "stderr",
     "output_type": "stream",
     "text": [
      "Epoch 6/10 Loss: 0.0089: 100%|██████████| 66/66 [00:55<00:00,  1.20batch/s]\n"
     ]
    },
    {
     "name": "stdout",
     "output_type": "stream",
     "text": [
      "=============================train========================\n"
     ]
    },
    {
     "name": "stderr",
     "output_type": "stream",
     "text": [
      "Epoch 7/10 Loss: 0.0066: 100%|██████████| 66/66 [00:55<00:00,  1.20batch/s]\n"
     ]
    },
    {
     "name": "stdout",
     "output_type": "stream",
     "text": [
      "=============================train========================\n"
     ]
    },
    {
     "name": "stderr",
     "output_type": "stream",
     "text": [
      "Epoch 8/10 Loss: 0.0058: 100%|██████████| 66/66 [00:55<00:00,  1.20batch/s]\n"
     ]
    },
    {
     "name": "stdout",
     "output_type": "stream",
     "text": [
      "=============================train========================\n"
     ]
    },
    {
     "name": "stderr",
     "output_type": "stream",
     "text": [
      "Epoch 9/10 Loss: 0.0091: 100%|██████████| 66/66 [00:55<00:00,  1.20batch/s]\n"
     ]
    },
    {
     "name": "stdout",
     "output_type": "stream",
     "text": [
      "=============================train========================\n"
     ]
    },
    {
     "name": "stderr",
     "output_type": "stream",
     "text": [
      "Epoch 10/10 Loss: 0.0148: 100%|██████████| 66/66 [00:55<00:00,  1.20batch/s]\n"
     ]
    },
    {
     "name": "stdout",
     "output_type": "stream",
     "text": [
      "=============================train========================\n",
      "Validation Accuracy: 0.8845\n",
      "Precision: 0.8839\n",
      "Recall: 0.8845\n",
      "F1-Score: 0.8840\n",
      "Validation Accuracy: 0.8299\n",
      "Precision: 0.8315\n",
      "Recall: 0.8299\n",
      "F1-Score: 0.8304\n",
      "              precision    recall  f1-score   support\n",
      "\n",
      "           0       0.87      0.84      0.85       312\n",
      "           1       0.78      0.82      0.80       217\n",
      "\n",
      "    accuracy                           0.83       529\n",
      "   macro avg       0.82      0.83      0.83       529\n",
      "weighted avg       0.83      0.83      0.83       529\n",
      "\n"
     ]
    }
   ],
   "source": [
    "# 改编unlabeled数据的大小，\n",
    "for i in [0.01,0.02,0.03,0.04,0.05,0.06,0.07,0.08,0.09, 0.1]:\n",
    "    train_data, _ = train_test_split(df, train_size=0.35, random_state=42)\n",
    "    train_data, test_data = train_test_split(train_data, test_size=0.2+i, random_state=42)\n",
    "    test_data, val_data = train_test_split(test_data, train_size=0.5, random_state=42)\n",
    "\n",
    "    print('train',len(train_data),'test',len(test_data),'val',len(val_data))\n",
    "    train_data.reset_index(inplace=True)\n",
    "    test_data.reset_index(inplace=True)\n",
    "    val_data.reset_index(inplace=True)\n",
    "    \n",
    "    # Create Datasets and DataLoaders\n",
    "    train_dataset = preprocesser.SentencePairDataset(train_data, bert_tokenizer, codebert_tokenizer, message='message',command='diff',label='label')\n",
    "    val_dataset = preprocesser.SentencePairDataset(val_data, bert_tokenizer, codebert_tokenizer, message='message',command='diff',label='label')\n",
    "    test_dataset = preprocesser.SentencePairDataset(test_data, bert_tokenizer, codebert_tokenizer, message='message',command='diff',label='label')\n",
    "    \n",
    "    train_loader = DataLoader(train_dataset, batch_size=8, shuffle=False)\n",
    "    val_loader = DataLoader(val_dataset, batch_size=8, shuffle=False)\n",
    "    test_loader = DataLoader(test_dataset, batch_size=8, shuffle=False)\n",
    "    \n",
    "    student_model = student_mse.BiLSTMStudent(hidden_dim=256,output_dim =2, base_model1=encoder_model1,base_model2=encoder_model2)\n",
    "    student_model.distill_trainer(moe_model, test_loader, num_epochs=10)\n",
    "    \n",
    "    # test_acc, test_labels, test_probabilities, test_embeddings, test_predictions = student_model.evaluate(test_loader)\n",
    "    # print(classification_report(test_labels,test_predictions))\n",
    "\n",
    "    test_acc, test_labels, test_probabilities, test_embeddings, test_predictions = student_model.evaluate(val_loader)\n",
    "    print(classification_report(test_labels,test_predictions))"
   ]
  },
  {
   "cell_type": "code",
   "execution_count": null,
   "id": "0c21ff48-212d-42d5-b602-2a5959b548c4",
   "metadata": {},
   "outputs": [],
   "source": []
  },
  {
   "cell_type": "code",
   "execution_count": 9,
   "id": "2d38e0d5-86f1-4a55-ba54-9802c1db2793",
   "metadata": {
    "execution": {
     "iopub.execute_input": "2025-01-07T15:56:44.528106Z",
     "iopub.status.busy": "2025-01-07T15:56:44.527935Z",
     "iopub.status.idle": "2025-01-07T15:56:44.531419Z",
     "shell.execute_reply": "2025-01-07T15:56:44.530698Z",
     "shell.execute_reply.started": "2025-01-07T15:56:44.528088Z"
    }
   },
   "outputs": [],
   "source": [
    "# train_student_model"
   ]
  },
  {
   "cell_type": "code",
   "execution_count": null,
   "id": "77f1210b-4518-4196-802c-ecd01588f4cd",
   "metadata": {},
   "outputs": [],
   "source": []
  },
  {
   "cell_type": "code",
   "execution_count": 10,
   "id": "bf19d667-f13b-4286-a1aa-6dbef58828ed",
   "metadata": {
    "execution": {
     "iopub.execute_input": "2025-01-07T15:56:44.532246Z",
     "iopub.status.busy": "2025-01-07T15:56:44.532099Z",
     "iopub.status.idle": "2025-01-07T15:56:45.603201Z",
     "shell.execute_reply": "2025-01-07T15:56:45.602279Z",
     "shell.execute_reply.started": "2025-01-07T15:56:44.532230Z"
    }
   },
   "outputs": [
    {
     "name": "stdout",
     "output_type": "stream",
     "text": [
      "在线模型训练完毕\n"
     ]
    }
   ],
   "source": [
    "#发送多种类型的邮件\n",
    "from email.mime.multipart import MIMEMultipart\n",
    "import smtplib\n",
    "\n",
    "from email.mime.text import MIMEText\n",
    "msg_from = '915803745@qq.com'  # 发送方邮箱\n",
    "passwd = 'vcuosuurrgkfbdai'   #就是上面的授权码\n",
    " \n",
    "# to= ['g.zhang@gotion.com', 'j.tong@gotion.com'] #接受方邮箱\n",
    "to= ['j.tong@gotion.com'] #接受方邮箱\n",
    "#设置邮件内容\n",
    "#MIMEMultipart类可以放任何内容\n",
    "msg = MIMEMultipart()\n",
    "conntent=\"在线模型训练完毕\"\n",
    "#把内容加进去\n",
    "msg.attach(MIMEText(conntent,'plain','utf-8'))\n",
    " \n",
    "#设置邮件主题\n",
    "msg['Subject']=\"在线模型训练完毕\"\n",
    " \n",
    "#发送方信息\n",
    "msg['From']=msg_from\n",
    " \n",
    "#开始发送\n",
    " \n",
    "#通过SSL方式发送，服务器地址和端口\n",
    "s = smtplib.SMTP_SSL(\"smtp.qq.com\", 465)\n",
    "# 登录邮箱\n",
    "s.login(msg_from, passwd)\n",
    "#开始发送\n",
    "s.sendmail(msg_from,to,msg.as_string())\n",
    "print(\"在线模型训练完毕\")"
   ]
  },
  {
   "cell_type": "code",
   "execution_count": null,
   "id": "a198e819-7dd7-44c4-9f7f-16c53dfd85cc",
   "metadata": {},
   "outputs": [],
   "source": []
  },
  {
   "cell_type": "code",
   "execution_count": null,
   "id": "131d2171-75e9-4a14-af13-32455b772eff",
   "metadata": {},
   "outputs": [],
   "source": []
  }
 ],
 "metadata": {
  "kernelspec": {
   "display_name": "Python 3 (ipykernel)",
   "language": "python",
   "name": "python3"
  },
  "language_info": {
   "codemirror_mode": {
    "name": "ipython",
    "version": 3
   },
   "file_extension": ".py",
   "mimetype": "text/x-python",
   "name": "python",
   "nbconvert_exporter": "python",
   "pygments_lexer": "ipython3",
   "version": "3.10.8"
  }
 },
 "nbformat": 4,
 "nbformat_minor": 5
}
