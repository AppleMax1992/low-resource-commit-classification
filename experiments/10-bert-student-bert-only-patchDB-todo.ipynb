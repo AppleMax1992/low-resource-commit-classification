{
 "cells": [
  {
   "cell_type": "code",
   "execution_count": 1,
   "id": "9f82a8cc-7b02-48d7-a783-6e89bccff8b2",
   "metadata": {
    "execution": {
     "iopub.execute_input": "2024-12-21T05:53:28.966600Z",
     "iopub.status.busy": "2024-12-21T05:53:28.965936Z",
     "iopub.status.idle": "2024-12-21T05:53:32.634538Z",
     "shell.execute_reply": "2024-12-21T05:53:32.633510Z",
     "shell.execute_reply.started": "2024-12-21T05:53:28.966522Z"
    }
   },
   "outputs": [
    {
     "name": "stdout",
     "output_type": "stream",
     "text": [
      "\n",
      "root\n",
      "ensemble_commit\n",
      "/root/ensemble_commit\n"
     ]
    }
   ],
   "source": [
    "import pandas as pd\n",
    "from sklearn.model_selection import train_test_split\n",
    "import torch\n",
    "import os\n",
    "\n",
    "notebook_path = os.path.abspath('')\n",
    "import sys\n",
    "# Find the part of the path that contains 'commitFit'\n",
    "commit_fit_path = None\n",
    "for part in notebook_path.split(os.sep):\n",
    "    print(part)\n",
    "    if 'ensemble_commit' in part:\n",
    "        commit_fit_path = notebook_path.split(part)[0] + part\n",
    "        print(commit_fit_path)\n",
    "        break\n",
    "\n",
    "if commit_fit_path is None:\n",
    "    raise ValueError(\"Path containing 'ensemble_commit' not found in notebook path.\")\n",
    "\n",
    "\n",
    "if commit_fit_path not in sys.path:\n",
    "    sys.path.append(commit_fit_path)\n",
    "\n",
    "import ensemble_model.preprocesser as preprocesser \n",
    "import ensemble_model.MoE_model_loss_cum as moe \n",
    "from torch.utils.data import Dataset, DataLoader\n",
    "from transformers import BertModel, BertTokenizer, RobertaModel, RobertaTokenizer, DistilBertModel\n",
    "\n",
    "# import whatthepatch\n",
    "import numpy as np\n",
    "from sklearn.manifold import TSNE\n",
    "import matplotlib.pyplot as plt\n",
    "from sklearn.metrics import precision_score, recall_score, f1_score, precision_recall_curve,classification_report\n"
   ]
  },
  {
   "cell_type": "code",
   "execution_count": 2,
   "id": "537e23dd-4090-40f0-8c1c-3ed2e96076cc",
   "metadata": {
    "execution": {
     "iopub.execute_input": "2024-12-21T05:53:32.636512Z",
     "iopub.status.busy": "2024-12-21T05:53:32.636209Z",
     "iopub.status.idle": "2024-12-21T05:53:32.645343Z",
     "shell.execute_reply": "2024-12-21T05:53:32.644371Z",
     "shell.execute_reply.started": "2024-12-21T05:53:32.636488Z"
    }
   },
   "outputs": [
    {
     "data": {
      "text/plain": [
       "ensemble_model.MoE_model_loss.BiLSTMStudent"
      ]
     },
     "execution_count": 2,
     "metadata": {},
     "output_type": "execute_result"
    }
   ],
   "source": [
    "moe.BiLSTMStudent"
   ]
  },
  {
   "cell_type": "code",
   "execution_count": 3,
   "id": "666cb7bc-ce61-42cb-b7fa-934b5e5d3580",
   "metadata": {
    "execution": {
     "iopub.execute_input": "2024-12-21T05:53:32.646096Z",
     "iopub.status.busy": "2024-12-21T05:53:32.645906Z",
     "iopub.status.idle": "2024-12-21T05:53:34.294579Z",
     "shell.execute_reply": "2024-12-21T05:53:34.293525Z",
     "shell.execute_reply.started": "2024-12-21T05:53:32.646074Z"
    }
   },
   "outputs": [
    {
     "name": "stderr",
     "output_type": "stream",
     "text": [
      "/tmp/ipykernel_5222/183603274.py:4: FutureWarning: Downcasting behavior in `replace` is deprecated and will be removed in a future version. To retain the old behavior, explicitly call `result.infer_objects(copy=False)`. To opt-in to the future behavior, set `pd.set_option('future.no_silent_downcasting', True)`\n",
      "  df = df.replace({\"category\": label2id})\n"
     ]
    },
    {
     "data": {
      "text/html": [
       "<div>\n",
       "<style scoped>\n",
       "    .dataframe tbody tr th:only-of-type {\n",
       "        vertical-align: middle;\n",
       "    }\n",
       "\n",
       "    .dataframe tbody tr th {\n",
       "        vertical-align: top;\n",
       "    }\n",
       "\n",
       "    .dataframe thead th {\n",
       "        text-align: right;\n",
       "    }\n",
       "</style>\n",
       "<table border=\"1\" class=\"dataframe\">\n",
       "  <thead>\n",
       "    <tr style=\"text-align: right;\">\n",
       "      <th></th>\n",
       "      <th>CVE_ID</th>\n",
       "      <th>CWE_ID</th>\n",
       "      <th>category</th>\n",
       "      <th>commit_id</th>\n",
       "      <th>commit_message</th>\n",
       "      <th>diff_code</th>\n",
       "      <th>owner</th>\n",
       "      <th>repo</th>\n",
       "      <th>source</th>\n",
       "    </tr>\n",
       "  </thead>\n",
       "  <tbody>\n",
       "    <tr>\n",
       "      <th>0</th>\n",
       "      <td>NA</td>\n",
       "      <td>NA</td>\n",
       "      <td>0</td>\n",
       "      <td>540958e2f5a87b81aa5f55ce40b3e2869754f97d</td>\n",
       "      <td>commit 540958e2f5a87b81aa5f55ce40b3e2869754f97...</td>\n",
       "      <td>diff --git a/drivers/staging/comedi/drivers/cb...</td>\n",
       "      <td>stoth68000</td>\n",
       "      <td>media-tree</td>\n",
       "      <td>wild</td>\n",
       "    </tr>\n",
       "    <tr>\n",
       "      <th>1</th>\n",
       "      <td>NA</td>\n",
       "      <td>NA</td>\n",
       "      <td>0</td>\n",
       "      <td>64d240b721b21e266ffde645ec965c3b6d1c551f</td>\n",
       "      <td>commit 64d240b721b21e266ffde645ec965c3b6d1c551...</td>\n",
       "      <td>diff --git a/drivers/target/target_core_file.c...</td>\n",
       "      <td>stoth68000</td>\n",
       "      <td>media-tree</td>\n",
       "      <td>wild</td>\n",
       "    </tr>\n",
       "    <tr>\n",
       "      <th>2</th>\n",
       "      <td>NA</td>\n",
       "      <td>NA</td>\n",
       "      <td>0</td>\n",
       "      <td>f181dd278274f50e689ebd13237010a90b430164</td>\n",
       "      <td>commit f181dd278274f50e689ebd13237010a90b43016...</td>\n",
       "      <td>diff --git a/include/paths.h b/include/paths.h...</td>\n",
       "      <td>openbsd</td>\n",
       "      <td>src</td>\n",
       "      <td>wild</td>\n",
       "    </tr>\n",
       "    <tr>\n",
       "      <th>3</th>\n",
       "      <td>NA</td>\n",
       "      <td>NA</td>\n",
       "      <td>0</td>\n",
       "      <td>0abdc3723b5d33dde698ab941325edec2819c128</td>\n",
       "      <td>commit 0abdc3723b5d33dde698ab941325edec2819c12...</td>\n",
       "      <td>diff --git a/gnu/usr.bin/binutils/ld/lexsup.c ...</td>\n",
       "      <td>openbsd</td>\n",
       "      <td>src</td>\n",
       "      <td>wild</td>\n",
       "    </tr>\n",
       "    <tr>\n",
       "      <th>4</th>\n",
       "      <td>NA</td>\n",
       "      <td>NA</td>\n",
       "      <td>0</td>\n",
       "      <td>d7930d7f820e5dd6b07b823f155aeb943b525e16</td>\n",
       "      <td>commit d7930d7f820e5dd6b07b823f155aeb943b525e1...</td>\n",
       "      <td>diff --git a/src/expat_erl.c b/src/expat_erl.c...</td>\n",
       "      <td>esl</td>\n",
       "      <td>MongooseIM</td>\n",
       "      <td>wild</td>\n",
       "    </tr>\n",
       "    <tr>\n",
       "      <th>...</th>\n",
       "      <td>...</td>\n",
       "      <td>...</td>\n",
       "      <td>...</td>\n",
       "      <td>...</td>\n",
       "      <td>...</td>\n",
       "      <td>...</td>\n",
       "      <td>...</td>\n",
       "      <td>...</td>\n",
       "      <td>...</td>\n",
       "    </tr>\n",
       "    <tr>\n",
       "      <th>35810</th>\n",
       "      <td>CVE-2013-0217</td>\n",
       "      <td>399</td>\n",
       "      <td>1</td>\n",
       "      <td>7d5145d8eb2b9791533ffe4dc003b129b9696c48</td>\n",
       "      <td>From 7d5145d8eb2b9791533ffe4dc003b129b9696c48 ...</td>\n",
       "      <td>diff --git a/drivers/net/xen-netback/netback.c...</td>\n",
       "      <td>torvalds</td>\n",
       "      <td>linux</td>\n",
       "      <td>cve</td>\n",
       "    </tr>\n",
       "    <tr>\n",
       "      <th>35811</th>\n",
       "      <td>CVE-2018-18311</td>\n",
       "      <td>119</td>\n",
       "      <td>1</td>\n",
       "      <td>34716e2a6ee2af96078d62b065b7785c001194be</td>\n",
       "      <td>From 34716e2a6ee2af96078d62b065b7785c001194be ...</td>\n",
       "      <td>diff --git a/util.c b/util.c\\nindex 7282dd9cfe...</td>\n",
       "      <td>Perl</td>\n",
       "      <td>perl5</td>\n",
       "      <td>cve</td>\n",
       "    </tr>\n",
       "    <tr>\n",
       "      <th>35812</th>\n",
       "      <td>CVE-2019-12984</td>\n",
       "      <td>476</td>\n",
       "      <td>1</td>\n",
       "      <td>385097a3675749cbc9e97c085c0e5dfe4269ca51</td>\n",
       "      <td>From 385097a3675749cbc9e97c085c0e5dfe4269ca51 ...</td>\n",
       "      <td>diff --git a/net/nfc/netlink.c b/net/nfc/netli...</td>\n",
       "      <td>torvalds</td>\n",
       "      <td>linux</td>\n",
       "      <td>cve</td>\n",
       "    </tr>\n",
       "    <tr>\n",
       "      <th>35813</th>\n",
       "      <td>CVE-2013-0865</td>\n",
       "      <td>119</td>\n",
       "      <td>1</td>\n",
       "      <td>f3d16706060ab6ae6dc78f15359fab3fd87c9495</td>\n",
       "      <td>From f3d16706060ab6ae6dc78f15359fab3fd87c9495 ...</td>\n",
       "      <td>diff --git a/libavcodec/vqavideo.c b/libavcode...</td>\n",
       "      <td>NA</td>\n",
       "      <td>NA</td>\n",
       "      <td>cve</td>\n",
       "    </tr>\n",
       "    <tr>\n",
       "      <th>35814</th>\n",
       "      <td>CVE-2017-5940</td>\n",
       "      <td>284</td>\n",
       "      <td>1</td>\n",
       "      <td>38d418505e9ee2d326557e5639e8da49c298858f</td>\n",
       "      <td>From 38d418505e9ee2d326557e5639e8da49c298858f ...</td>\n",
       "      <td>diff --git a/src/firejail/fs_home.c b/src/fire...</td>\n",
       "      <td>netblue30</td>\n",
       "      <td>firejail</td>\n",
       "      <td>cve</td>\n",
       "    </tr>\n",
       "  </tbody>\n",
       "</table>\n",
       "<p>35815 rows × 9 columns</p>\n",
       "</div>"
      ],
      "text/plain": [
       "               CVE_ID CWE_ID  category  \\\n",
       "0                  NA     NA         0   \n",
       "1                  NA     NA         0   \n",
       "2                  NA     NA         0   \n",
       "3                  NA     NA         0   \n",
       "4                  NA     NA         0   \n",
       "...               ...    ...       ...   \n",
       "35810   CVE-2013-0217    399         1   \n",
       "35811  CVE-2018-18311    119         1   \n",
       "35812  CVE-2019-12984    476         1   \n",
       "35813   CVE-2013-0865    119         1   \n",
       "35814   CVE-2017-5940    284         1   \n",
       "\n",
       "                                      commit_id  \\\n",
       "0      540958e2f5a87b81aa5f55ce40b3e2869754f97d   \n",
       "1      64d240b721b21e266ffde645ec965c3b6d1c551f   \n",
       "2      f181dd278274f50e689ebd13237010a90b430164   \n",
       "3      0abdc3723b5d33dde698ab941325edec2819c128   \n",
       "4      d7930d7f820e5dd6b07b823f155aeb943b525e16   \n",
       "...                                         ...   \n",
       "35810  7d5145d8eb2b9791533ffe4dc003b129b9696c48   \n",
       "35811  34716e2a6ee2af96078d62b065b7785c001194be   \n",
       "35812  385097a3675749cbc9e97c085c0e5dfe4269ca51   \n",
       "35813  f3d16706060ab6ae6dc78f15359fab3fd87c9495   \n",
       "35814  38d418505e9ee2d326557e5639e8da49c298858f   \n",
       "\n",
       "                                          commit_message  \\\n",
       "0      commit 540958e2f5a87b81aa5f55ce40b3e2869754f97...   \n",
       "1      commit 64d240b721b21e266ffde645ec965c3b6d1c551...   \n",
       "2      commit f181dd278274f50e689ebd13237010a90b43016...   \n",
       "3      commit 0abdc3723b5d33dde698ab941325edec2819c12...   \n",
       "4      commit d7930d7f820e5dd6b07b823f155aeb943b525e1...   \n",
       "...                                                  ...   \n",
       "35810  From 7d5145d8eb2b9791533ffe4dc003b129b9696c48 ...   \n",
       "35811  From 34716e2a6ee2af96078d62b065b7785c001194be ...   \n",
       "35812  From 385097a3675749cbc9e97c085c0e5dfe4269ca51 ...   \n",
       "35813  From f3d16706060ab6ae6dc78f15359fab3fd87c9495 ...   \n",
       "35814  From 38d418505e9ee2d326557e5639e8da49c298858f ...   \n",
       "\n",
       "                                               diff_code       owner  \\\n",
       "0      diff --git a/drivers/staging/comedi/drivers/cb...  stoth68000   \n",
       "1      diff --git a/drivers/target/target_core_file.c...  stoth68000   \n",
       "2      diff --git a/include/paths.h b/include/paths.h...     openbsd   \n",
       "3      diff --git a/gnu/usr.bin/binutils/ld/lexsup.c ...     openbsd   \n",
       "4      diff --git a/src/expat_erl.c b/src/expat_erl.c...         esl   \n",
       "...                                                  ...         ...   \n",
       "35810  diff --git a/drivers/net/xen-netback/netback.c...    torvalds   \n",
       "35811  diff --git a/util.c b/util.c\\nindex 7282dd9cfe...        Perl   \n",
       "35812  diff --git a/net/nfc/netlink.c b/net/nfc/netli...    torvalds   \n",
       "35813  diff --git a/libavcodec/vqavideo.c b/libavcode...          NA   \n",
       "35814  diff --git a/src/firejail/fs_home.c b/src/fire...   netblue30   \n",
       "\n",
       "             repo source  \n",
       "0      media-tree   wild  \n",
       "1      media-tree   wild  \n",
       "2             src   wild  \n",
       "3             src   wild  \n",
       "4      MongooseIM   wild  \n",
       "...           ...    ...  \n",
       "35810       linux    cve  \n",
       "35811       perl5    cve  \n",
       "35812       linux    cve  \n",
       "35813          NA    cve  \n",
       "35814    firejail    cve  \n",
       "\n",
       "[35815 rows x 9 columns]"
      ]
     },
     "execution_count": 3,
     "metadata": {},
     "output_type": "execute_result"
    }
   ],
   "source": [
    "df = pd.read_json(r'../datasets/patch_db.json', encoding='utf_8_sig')\n",
    "df.dropna(inplace=True)\n",
    "label2id={'non-security':0,'security':1}\n",
    "df = df.replace({\"category\": label2id})\n",
    "df"
   ]
  },
  {
   "cell_type": "code",
   "execution_count": 4,
   "id": "18e5ba2e-9175-4455-a42a-ced130563441",
   "metadata": {
    "execution": {
     "iopub.execute_input": "2024-12-21T05:53:34.295699Z",
     "iopub.status.busy": "2024-12-21T05:53:34.295465Z",
     "iopub.status.idle": "2024-12-21T05:53:34.300353Z",
     "shell.execute_reply": "2024-12-21T05:53:34.299351Z",
     "shell.execute_reply.started": "2024-12-21T05:53:34.295673Z"
    }
   },
   "outputs": [],
   "source": [
    "# df['command'] = df['diff'].apply(lambda x : extract_lines(find_longest_list([y.changes for y in whatthepatch.parse_patch(x)])))\n",
    "# extracted_cols = df['diff'].str.extract(r'^diff --git (?P<source>[^\\t\\n]+) (?P<target>[^\\t\\n]+)')\n",
    "# whatthepatch.apply_diff(diff, lao)"
   ]
  },
  {
   "cell_type": "code",
   "execution_count": 5,
   "id": "23ded5b2-b057-4117-b99b-fa77a39bb480",
   "metadata": {
    "execution": {
     "iopub.execute_input": "2024-12-21T05:53:34.301451Z",
     "iopub.status.busy": "2024-12-21T05:53:34.301246Z",
     "iopub.status.idle": "2024-12-21T05:53:34.305754Z",
     "shell.execute_reply": "2024-12-21T05:53:34.304746Z",
     "shell.execute_reply.started": "2024-12-21T05:53:34.301427Z"
    }
   },
   "outputs": [],
   "source": [
    "# len(df_dataset)"
   ]
  },
  {
   "cell_type": "code",
   "execution_count": 6,
   "id": "7b104969-4a01-44b3-8b11-72188d0042e6",
   "metadata": {
    "execution": {
     "iopub.execute_input": "2024-12-21T05:53:34.306601Z",
     "iopub.status.busy": "2024-12-21T05:53:34.306382Z",
     "iopub.status.idle": "2024-12-21T05:53:34.311549Z",
     "shell.execute_reply": "2024-12-21T05:53:34.310418Z",
     "shell.execute_reply.started": "2024-12-21T05:53:34.306577Z"
    }
   },
   "outputs": [],
   "source": [
    "# df_dataset[0]"
   ]
  },
  {
   "cell_type": "code",
   "execution_count": 7,
   "id": "7b77e6e8-8d9d-45f3-be04-94a8b7499213",
   "metadata": {
    "execution": {
     "iopub.execute_input": "2024-12-21T05:53:34.314482Z",
     "iopub.status.busy": "2024-12-21T05:53:34.314240Z",
     "iopub.status.idle": "2024-12-21T05:53:36.308166Z",
     "shell.execute_reply": "2024-12-21T05:53:36.307191Z",
     "shell.execute_reply.started": "2024-12-21T05:53:34.314456Z"
    }
   },
   "outputs": [
    {
     "name": "stderr",
     "output_type": "stream",
     "text": [
      "Some weights of the model checkpoint at ../models/bert-base-cased were not used when initializing BertModel: ['cls.predictions.transform.LayerNorm.weight', 'cls.seq_relationship.bias', 'cls.seq_relationship.weight', 'cls.predictions.bias', 'cls.predictions.transform.dense.bias', 'cls.predictions.transform.LayerNorm.bias', 'cls.predictions.transform.dense.weight']\n",
      "- This IS expected if you are initializing BertModel from the checkpoint of a model trained on another task or with another architecture (e.g. initializing a BertForSequenceClassification model from a BertForPreTraining model).\n",
      "- This IS NOT expected if you are initializing BertModel from the checkpoint of a model that you expect to be exactly identical (initializing a BertForSequenceClassification model from a BertForSequenceClassification model).\n",
      "Some weights of the model checkpoint at ../models/bert-base-cased were not used when initializing BertModel: ['cls.predictions.transform.LayerNorm.weight', 'cls.seq_relationship.bias', 'cls.seq_relationship.weight', 'cls.predictions.bias', 'cls.predictions.transform.dense.bias', 'cls.predictions.transform.LayerNorm.bias', 'cls.predictions.transform.dense.weight']\n",
      "- This IS expected if you are initializing BertModel from the checkpoint of a model trained on another task or with another architecture (e.g. initializing a BertForSequenceClassification model from a BertForPreTraining model).\n",
      "- This IS NOT expected if you are initializing BertModel from the checkpoint of a model that you expect to be exactly identical (initializing a BertForSequenceClassification model from a BertForSequenceClassification model).\n"
     ]
    }
   ],
   "source": [
    "# Load BERT and CodeBERT models and tokenizers\n",
    "bert_model = BertModel.from_pretrained('../models/bert-base-cased')\n",
    "bert_tokenizer = BertTokenizer.from_pretrained('../models/bert-base-cased')\n",
    "\n",
    "codebert_model = BertModel.from_pretrained('../models/bert-base-cased')\n",
    "codebert_tokenizer = BertTokenizer.from_pretrained('../models/bert-base-cased')"
   ]
  },
  {
   "cell_type": "code",
   "execution_count": 8,
   "id": "fa751a3e-86ae-4f11-82ca-c173f5320a09",
   "metadata": {
    "execution": {
     "iopub.execute_input": "2024-12-21T05:53:36.308969Z",
     "iopub.status.busy": "2024-12-21T05:53:36.308787Z",
     "iopub.status.idle": "2024-12-21T05:53:36.346818Z",
     "shell.execute_reply": "2024-12-21T05:53:36.345835Z",
     "shell.execute_reply.started": "2024-12-21T05:53:36.308949Z"
    }
   },
   "outputs": [],
   "source": [
    "train_data, test_data = train_test_split(df, test_size=0.3, random_state=42)\n",
    "test_data, val_data = train_test_split(test_data, test_size=0.5, random_state=42)\n",
    "# train_data = pd.read_csv('./datasets/PD_train.csv')\n",
    "# test_data = pd.read_csv('./datasets/PD_test.csv')\n",
    "# val_data = pd.read_csv('./datasets/PD_val.csv')\n",
    "\n"
   ]
  },
  {
   "cell_type": "code",
   "execution_count": 9,
   "id": "c1f1e42a-ca2a-47b4-aeb0-536795d2a2f7",
   "metadata": {
    "execution": {
     "iopub.execute_input": "2024-12-21T05:53:36.347836Z",
     "iopub.status.busy": "2024-12-21T05:53:36.347643Z",
     "iopub.status.idle": "2024-12-21T05:53:36.352231Z",
     "shell.execute_reply": "2024-12-21T05:53:36.351141Z",
     "shell.execute_reply.started": "2024-12-21T05:53:36.347814Z"
    }
   },
   "outputs": [],
   "source": [
    "# codebert_model.config.hidden_size"
   ]
  },
  {
   "cell_type": "code",
   "execution_count": 10,
   "id": "4b5e68a2-d0bb-42c1-a6a3-1d66267b3651",
   "metadata": {
    "execution": {
     "iopub.execute_input": "2024-12-21T05:53:36.353187Z",
     "iopub.status.busy": "2024-12-21T05:53:36.352983Z",
     "iopub.status.idle": "2024-12-21T05:53:36.359165Z",
     "shell.execute_reply": "2024-12-21T05:53:36.358220Z",
     "shell.execute_reply.started": "2024-12-21T05:53:36.353164Z"
    }
   },
   "outputs": [
    {
     "data": {
      "text/plain": [
       "5372"
      ]
     },
     "execution_count": 10,
     "metadata": {},
     "output_type": "execute_result"
    }
   ],
   "source": [
    "len(test_data)"
   ]
  },
  {
   "cell_type": "code",
   "execution_count": 11,
   "id": "f8f11097-0571-4896-972e-da03419f6f1f",
   "metadata": {
    "execution": {
     "iopub.execute_input": "2024-12-21T05:53:36.360132Z",
     "iopub.status.busy": "2024-12-21T05:53:36.359913Z",
     "iopub.status.idle": "2024-12-21T05:53:36.380290Z",
     "shell.execute_reply": "2024-12-21T05:53:36.379295Z",
     "shell.execute_reply.started": "2024-12-21T05:53:36.360107Z"
    }
   },
   "outputs": [],
   "source": [
    "train_data,_ = train_test_split(train_data, train_size=0.1, random_state=42)\n",
    "test_data, val_data = train_test_split(test_data, train_size=0.1, random_state=42)\n",
    "val_data, _ = train_test_split(val_data, train_size=0.1, random_state=42)"
   ]
  },
  {
   "cell_type": "code",
   "execution_count": 12,
   "id": "6d0173b0-7cee-488c-988d-30fdc9c30c95",
   "metadata": {
    "execution": {
     "iopub.execute_input": "2024-12-21T05:53:36.381047Z",
     "iopub.status.busy": "2024-12-21T05:53:36.380850Z",
     "iopub.status.idle": "2024-12-21T05:53:36.387079Z",
     "shell.execute_reply": "2024-12-21T05:53:36.386127Z",
     "shell.execute_reply.started": "2024-12-21T05:53:36.381024Z"
    }
   },
   "outputs": [],
   "source": [
    "train_data.reset_index(inplace=True)\n",
    "test_data.reset_index(inplace=True)\n",
    "val_data.reset_index(inplace=True)"
   ]
  },
  {
   "cell_type": "code",
   "execution_count": 13,
   "id": "e93e40c2-34b1-4bf7-b835-9718fe3f6039",
   "metadata": {
    "execution": {
     "iopub.execute_input": "2024-12-21T05:53:36.388023Z",
     "iopub.status.busy": "2024-12-21T05:53:36.387837Z",
     "iopub.status.idle": "2024-12-21T05:53:36.395118Z",
     "shell.execute_reply": "2024-12-21T05:53:36.394204Z",
     "shell.execute_reply.started": "2024-12-21T05:53:36.388002Z"
    }
   },
   "outputs": [
    {
     "data": {
      "text/plain": [
       "category\n",
       "0    1644\n",
       "1     863\n",
       "Name: count, dtype: int64"
      ]
     },
     "execution_count": 13,
     "metadata": {},
     "output_type": "execute_result"
    }
   ],
   "source": [
    "train_data['category'].value_counts()"
   ]
  },
  {
   "cell_type": "code",
   "execution_count": 14,
   "id": "6b52cd58-8ced-4995-a326-22fbb809b527",
   "metadata": {
    "execution": {
     "iopub.execute_input": "2024-12-21T05:53:36.396003Z",
     "iopub.status.busy": "2024-12-21T05:53:36.395803Z",
     "iopub.status.idle": "2024-12-21T05:53:36.410240Z",
     "shell.execute_reply": "2024-12-21T05:53:36.409271Z",
     "shell.execute_reply.started": "2024-12-21T05:53:36.395982Z"
    }
   },
   "outputs": [
    {
     "data": {
      "text/html": [
       "<div>\n",
       "<style scoped>\n",
       "    .dataframe tbody tr th:only-of-type {\n",
       "        vertical-align: middle;\n",
       "    }\n",
       "\n",
       "    .dataframe tbody tr th {\n",
       "        vertical-align: top;\n",
       "    }\n",
       "\n",
       "    .dataframe thead th {\n",
       "        text-align: right;\n",
       "    }\n",
       "</style>\n",
       "<table border=\"1\" class=\"dataframe\">\n",
       "  <thead>\n",
       "    <tr style=\"text-align: right;\">\n",
       "      <th></th>\n",
       "      <th>index</th>\n",
       "      <th>CVE_ID</th>\n",
       "      <th>CWE_ID</th>\n",
       "      <th>category</th>\n",
       "      <th>commit_id</th>\n",
       "      <th>commit_message</th>\n",
       "      <th>diff_code</th>\n",
       "      <th>owner</th>\n",
       "      <th>repo</th>\n",
       "      <th>source</th>\n",
       "    </tr>\n",
       "  </thead>\n",
       "  <tbody>\n",
       "    <tr>\n",
       "      <th>0</th>\n",
       "      <td>26915</td>\n",
       "      <td>NA</td>\n",
       "      <td>NA</td>\n",
       "      <td>1</td>\n",
       "      <td>44241628bb207ec211bebd156aaf69470d90c209</td>\n",
       "      <td>commit 44241628bb207ec211bebd156aaf69470d90c20...</td>\n",
       "      <td>diff --git a/drivers/thermal/power_allocator.c...</td>\n",
       "      <td>stoth68000</td>\n",
       "      <td>media-tree</td>\n",
       "      <td>wild</td>\n",
       "    </tr>\n",
       "    <tr>\n",
       "      <th>1</th>\n",
       "      <td>18930</td>\n",
       "      <td>NA</td>\n",
       "      <td>NA</td>\n",
       "      <td>0</td>\n",
       "      <td>fe82772c377e1c0bdb1ce724f8bbe8ceb6294ee1</td>\n",
       "      <td>commit fe82772c377e1c0bdb1ce724f8bbe8ceb6294ee...</td>\n",
       "      <td>diff --git a/core/fork_server.c b/core/fork_se...</td>\n",
       "      <td>unbit</td>\n",
       "      <td>uwsgi</td>\n",
       "      <td>wild</td>\n",
       "    </tr>\n",
       "    <tr>\n",
       "      <th>2</th>\n",
       "      <td>15526</td>\n",
       "      <td>NA</td>\n",
       "      <td>NA</td>\n",
       "      <td>0</td>\n",
       "      <td>625c6ace93bb1515ff16840741d6f7567be6ebb8</td>\n",
       "      <td>commit 625c6ace93bb1515ff16840741d6f7567be6ebb...</td>\n",
       "      <td>diff --git a/send.c b/send.c\\nindex 2ced24b..9...</td>\n",
       "      <td>reubenhwk</td>\n",
       "      <td>radvd</td>\n",
       "      <td>wild</td>\n",
       "    </tr>\n",
       "    <tr>\n",
       "      <th>3</th>\n",
       "      <td>13501</td>\n",
       "      <td>NA</td>\n",
       "      <td>NA</td>\n",
       "      <td>0</td>\n",
       "      <td>8a7cf3febbb2b7c1ade717ddb3065de67c5983c5</td>\n",
       "      <td>commit 8a7cf3febbb2b7c1ade717ddb3065de67c5983c...</td>\n",
       "      <td>diff --git a/drivers/net/wireless/wl12xx/main....</td>\n",
       "      <td>mjg59</td>\n",
       "      <td>linux</td>\n",
       "      <td>wild</td>\n",
       "    </tr>\n",
       "    <tr>\n",
       "      <th>4</th>\n",
       "      <td>10592</td>\n",
       "      <td>NA</td>\n",
       "      <td>NA</td>\n",
       "      <td>0</td>\n",
       "      <td>5464baecf521d1ca8095604f5a7371443c94226a</td>\n",
       "      <td>commit 5464baecf521d1ca8095604f5a7371443c94226...</td>\n",
       "      <td>diff --git a/linux-user/syscall.c b/linux-user...</td>\n",
       "      <td>qemu</td>\n",
       "      <td>qemu</td>\n",
       "      <td>wild</td>\n",
       "    </tr>\n",
       "    <tr>\n",
       "      <th>...</th>\n",
       "      <td>...</td>\n",
       "      <td>...</td>\n",
       "      <td>...</td>\n",
       "      <td>...</td>\n",
       "      <td>...</td>\n",
       "      <td>...</td>\n",
       "      <td>...</td>\n",
       "      <td>...</td>\n",
       "      <td>...</td>\n",
       "      <td>...</td>\n",
       "    </tr>\n",
       "    <tr>\n",
       "      <th>478</th>\n",
       "      <td>12654</td>\n",
       "      <td>NA</td>\n",
       "      <td>NA</td>\n",
       "      <td>0</td>\n",
       "      <td>056790923e1c4eed5d8cc502e1092944a2b23025</td>\n",
       "      <td>commit 056790923e1c4eed5d8cc502e1092944a2b2302...</td>\n",
       "      <td>diff --git a/sound/soc/soc-pcm.c b/sound/soc/s...</td>\n",
       "      <td>stoth68000</td>\n",
       "      <td>media-tree</td>\n",
       "      <td>wild</td>\n",
       "    </tr>\n",
       "    <tr>\n",
       "      <th>479</th>\n",
       "      <td>7284</td>\n",
       "      <td>NA</td>\n",
       "      <td>NA</td>\n",
       "      <td>0</td>\n",
       "      <td>53155c0a5949d5cc3bd434d838e5b0c6e0542f9b</td>\n",
       "      <td>commit 53155c0a5949d5cc3bd434d838e5b0c6e0542f9...</td>\n",
       "      <td>diff --git a/drivers/gpu/drm/i915/intel_displa...</td>\n",
       "      <td>torvalds</td>\n",
       "      <td>linux</td>\n",
       "      <td>wild</td>\n",
       "    </tr>\n",
       "    <tr>\n",
       "      <th>480</th>\n",
       "      <td>22406</td>\n",
       "      <td>NA</td>\n",
       "      <td>NA</td>\n",
       "      <td>0</td>\n",
       "      <td>7b96dc023a1b487bce59256fde14b8bb28b45aea</td>\n",
       "      <td>commit 7b96dc023a1b487bce59256fde14b8bb28b45ae...</td>\n",
       "      <td>diff --git a/drivers/sbus/char/vfc.h b/drivers...</td>\n",
       "      <td>torvalds</td>\n",
       "      <td>linux</td>\n",
       "      <td>wild</td>\n",
       "    </tr>\n",
       "    <tr>\n",
       "      <th>481</th>\n",
       "      <td>26222</td>\n",
       "      <td>NA</td>\n",
       "      <td>NA</td>\n",
       "      <td>1</td>\n",
       "      <td>aa9a4a1edfbd3d223af01db833da2f07850bc655</td>\n",
       "      <td>commit aa9a4a1edfbd3d223af01db833da2f07850bc65...</td>\n",
       "      <td>diff --git a/fs/pstore/ram.c b/fs/pstore/ram.c...</td>\n",
       "      <td>stoth68000</td>\n",
       "      <td>media-tree</td>\n",
       "      <td>wild</td>\n",
       "    </tr>\n",
       "    <tr>\n",
       "      <th>482</th>\n",
       "      <td>5175</td>\n",
       "      <td>NA</td>\n",
       "      <td>NA</td>\n",
       "      <td>0</td>\n",
       "      <td>2401660d2f200007d00337a86dc4d88f51a2f3f8</td>\n",
       "      <td>commit 2401660d2f200007d00337a86dc4d88f51a2f3f...</td>\n",
       "      <td>diff --git a/libavformat/rtsp.c b/libavformat/...</td>\n",
       "      <td>libav</td>\n",
       "      <td>libav</td>\n",
       "      <td>wild</td>\n",
       "    </tr>\n",
       "  </tbody>\n",
       "</table>\n",
       "<p>483 rows × 10 columns</p>\n",
       "</div>"
      ],
      "text/plain": [
       "     index CVE_ID CWE_ID  category                                 commit_id  \\\n",
       "0    26915     NA     NA         1  44241628bb207ec211bebd156aaf69470d90c209   \n",
       "1    18930     NA     NA         0  fe82772c377e1c0bdb1ce724f8bbe8ceb6294ee1   \n",
       "2    15526     NA     NA         0  625c6ace93bb1515ff16840741d6f7567be6ebb8   \n",
       "3    13501     NA     NA         0  8a7cf3febbb2b7c1ade717ddb3065de67c5983c5   \n",
       "4    10592     NA     NA         0  5464baecf521d1ca8095604f5a7371443c94226a   \n",
       "..     ...    ...    ...       ...                                       ...   \n",
       "478  12654     NA     NA         0  056790923e1c4eed5d8cc502e1092944a2b23025   \n",
       "479   7284     NA     NA         0  53155c0a5949d5cc3bd434d838e5b0c6e0542f9b   \n",
       "480  22406     NA     NA         0  7b96dc023a1b487bce59256fde14b8bb28b45aea   \n",
       "481  26222     NA     NA         1  aa9a4a1edfbd3d223af01db833da2f07850bc655   \n",
       "482   5175     NA     NA         0  2401660d2f200007d00337a86dc4d88f51a2f3f8   \n",
       "\n",
       "                                        commit_message  \\\n",
       "0    commit 44241628bb207ec211bebd156aaf69470d90c20...   \n",
       "1    commit fe82772c377e1c0bdb1ce724f8bbe8ceb6294ee...   \n",
       "2    commit 625c6ace93bb1515ff16840741d6f7567be6ebb...   \n",
       "3    commit 8a7cf3febbb2b7c1ade717ddb3065de67c5983c...   \n",
       "4    commit 5464baecf521d1ca8095604f5a7371443c94226...   \n",
       "..                                                 ...   \n",
       "478  commit 056790923e1c4eed5d8cc502e1092944a2b2302...   \n",
       "479  commit 53155c0a5949d5cc3bd434d838e5b0c6e0542f9...   \n",
       "480  commit 7b96dc023a1b487bce59256fde14b8bb28b45ae...   \n",
       "481  commit aa9a4a1edfbd3d223af01db833da2f07850bc65...   \n",
       "482  commit 2401660d2f200007d00337a86dc4d88f51a2f3f...   \n",
       "\n",
       "                                             diff_code       owner  \\\n",
       "0    diff --git a/drivers/thermal/power_allocator.c...  stoth68000   \n",
       "1    diff --git a/core/fork_server.c b/core/fork_se...       unbit   \n",
       "2    diff --git a/send.c b/send.c\\nindex 2ced24b..9...   reubenhwk   \n",
       "3    diff --git a/drivers/net/wireless/wl12xx/main....       mjg59   \n",
       "4    diff --git a/linux-user/syscall.c b/linux-user...        qemu   \n",
       "..                                                 ...         ...   \n",
       "478  diff --git a/sound/soc/soc-pcm.c b/sound/soc/s...  stoth68000   \n",
       "479  diff --git a/drivers/gpu/drm/i915/intel_displa...    torvalds   \n",
       "480  diff --git a/drivers/sbus/char/vfc.h b/drivers...    torvalds   \n",
       "481  diff --git a/fs/pstore/ram.c b/fs/pstore/ram.c...  stoth68000   \n",
       "482  diff --git a/libavformat/rtsp.c b/libavformat/...       libav   \n",
       "\n",
       "           repo source  \n",
       "0    media-tree   wild  \n",
       "1         uwsgi   wild  \n",
       "2         radvd   wild  \n",
       "3         linux   wild  \n",
       "4          qemu   wild  \n",
       "..          ...    ...  \n",
       "478  media-tree   wild  \n",
       "479       linux   wild  \n",
       "480       linux   wild  \n",
       "481  media-tree   wild  \n",
       "482       libav   wild  \n",
       "\n",
       "[483 rows x 10 columns]"
      ]
     },
     "execution_count": 14,
     "metadata": {},
     "output_type": "execute_result"
    }
   ],
   "source": [
    "val_data"
   ]
  },
  {
   "cell_type": "code",
   "execution_count": 15,
   "id": "594e7b0d-1718-47e5-8b68-b27a016c61c5",
   "metadata": {
    "execution": {
     "iopub.execute_input": "2024-12-21T05:53:36.410981Z",
     "iopub.status.busy": "2024-12-21T05:53:36.410794Z",
     "iopub.status.idle": "2024-12-21T05:53:36.423322Z",
     "shell.execute_reply": "2024-12-21T05:53:36.422400Z",
     "shell.execute_reply.started": "2024-12-21T05:53:36.410960Z"
    }
   },
   "outputs": [
    {
     "data": {
      "text/html": [
       "<div>\n",
       "<style scoped>\n",
       "    .dataframe tbody tr th:only-of-type {\n",
       "        vertical-align: middle;\n",
       "    }\n",
       "\n",
       "    .dataframe tbody tr th {\n",
       "        vertical-align: top;\n",
       "    }\n",
       "\n",
       "    .dataframe thead th {\n",
       "        text-align: right;\n",
       "    }\n",
       "</style>\n",
       "<table border=\"1\" class=\"dataframe\">\n",
       "  <thead>\n",
       "    <tr style=\"text-align: right;\">\n",
       "      <th></th>\n",
       "      <th>index</th>\n",
       "      <th>CVE_ID</th>\n",
       "      <th>CWE_ID</th>\n",
       "      <th>category</th>\n",
       "      <th>commit_id</th>\n",
       "      <th>commit_message</th>\n",
       "      <th>diff_code</th>\n",
       "      <th>owner</th>\n",
       "      <th>repo</th>\n",
       "      <th>source</th>\n",
       "    </tr>\n",
       "  </thead>\n",
       "  <tbody>\n",
       "    <tr>\n",
       "      <th>0</th>\n",
       "      <td>26915</td>\n",
       "      <td>NA</td>\n",
       "      <td>NA</td>\n",
       "      <td>1</td>\n",
       "      <td>44241628bb207ec211bebd156aaf69470d90c209</td>\n",
       "      <td>commit 44241628bb207ec211bebd156aaf69470d90c20...</td>\n",
       "      <td>diff --git a/drivers/thermal/power_allocator.c...</td>\n",
       "      <td>stoth68000</td>\n",
       "      <td>media-tree</td>\n",
       "      <td>wild</td>\n",
       "    </tr>\n",
       "    <tr>\n",
       "      <th>1</th>\n",
       "      <td>18930</td>\n",
       "      <td>NA</td>\n",
       "      <td>NA</td>\n",
       "      <td>0</td>\n",
       "      <td>fe82772c377e1c0bdb1ce724f8bbe8ceb6294ee1</td>\n",
       "      <td>commit fe82772c377e1c0bdb1ce724f8bbe8ceb6294ee...</td>\n",
       "      <td>diff --git a/core/fork_server.c b/core/fork_se...</td>\n",
       "      <td>unbit</td>\n",
       "      <td>uwsgi</td>\n",
       "      <td>wild</td>\n",
       "    </tr>\n",
       "    <tr>\n",
       "      <th>2</th>\n",
       "      <td>15526</td>\n",
       "      <td>NA</td>\n",
       "      <td>NA</td>\n",
       "      <td>0</td>\n",
       "      <td>625c6ace93bb1515ff16840741d6f7567be6ebb8</td>\n",
       "      <td>commit 625c6ace93bb1515ff16840741d6f7567be6ebb...</td>\n",
       "      <td>diff --git a/send.c b/send.c\\nindex 2ced24b..9...</td>\n",
       "      <td>reubenhwk</td>\n",
       "      <td>radvd</td>\n",
       "      <td>wild</td>\n",
       "    </tr>\n",
       "    <tr>\n",
       "      <th>3</th>\n",
       "      <td>13501</td>\n",
       "      <td>NA</td>\n",
       "      <td>NA</td>\n",
       "      <td>0</td>\n",
       "      <td>8a7cf3febbb2b7c1ade717ddb3065de67c5983c5</td>\n",
       "      <td>commit 8a7cf3febbb2b7c1ade717ddb3065de67c5983c...</td>\n",
       "      <td>diff --git a/drivers/net/wireless/wl12xx/main....</td>\n",
       "      <td>mjg59</td>\n",
       "      <td>linux</td>\n",
       "      <td>wild</td>\n",
       "    </tr>\n",
       "    <tr>\n",
       "      <th>4</th>\n",
       "      <td>10592</td>\n",
       "      <td>NA</td>\n",
       "      <td>NA</td>\n",
       "      <td>0</td>\n",
       "      <td>5464baecf521d1ca8095604f5a7371443c94226a</td>\n",
       "      <td>commit 5464baecf521d1ca8095604f5a7371443c94226...</td>\n",
       "      <td>diff --git a/linux-user/syscall.c b/linux-user...</td>\n",
       "      <td>qemu</td>\n",
       "      <td>qemu</td>\n",
       "      <td>wild</td>\n",
       "    </tr>\n",
       "    <tr>\n",
       "      <th>...</th>\n",
       "      <td>...</td>\n",
       "      <td>...</td>\n",
       "      <td>...</td>\n",
       "      <td>...</td>\n",
       "      <td>...</td>\n",
       "      <td>...</td>\n",
       "      <td>...</td>\n",
       "      <td>...</td>\n",
       "      <td>...</td>\n",
       "      <td>...</td>\n",
       "    </tr>\n",
       "    <tr>\n",
       "      <th>478</th>\n",
       "      <td>12654</td>\n",
       "      <td>NA</td>\n",
       "      <td>NA</td>\n",
       "      <td>0</td>\n",
       "      <td>056790923e1c4eed5d8cc502e1092944a2b23025</td>\n",
       "      <td>commit 056790923e1c4eed5d8cc502e1092944a2b2302...</td>\n",
       "      <td>diff --git a/sound/soc/soc-pcm.c b/sound/soc/s...</td>\n",
       "      <td>stoth68000</td>\n",
       "      <td>media-tree</td>\n",
       "      <td>wild</td>\n",
       "    </tr>\n",
       "    <tr>\n",
       "      <th>479</th>\n",
       "      <td>7284</td>\n",
       "      <td>NA</td>\n",
       "      <td>NA</td>\n",
       "      <td>0</td>\n",
       "      <td>53155c0a5949d5cc3bd434d838e5b0c6e0542f9b</td>\n",
       "      <td>commit 53155c0a5949d5cc3bd434d838e5b0c6e0542f9...</td>\n",
       "      <td>diff --git a/drivers/gpu/drm/i915/intel_displa...</td>\n",
       "      <td>torvalds</td>\n",
       "      <td>linux</td>\n",
       "      <td>wild</td>\n",
       "    </tr>\n",
       "    <tr>\n",
       "      <th>480</th>\n",
       "      <td>22406</td>\n",
       "      <td>NA</td>\n",
       "      <td>NA</td>\n",
       "      <td>0</td>\n",
       "      <td>7b96dc023a1b487bce59256fde14b8bb28b45aea</td>\n",
       "      <td>commit 7b96dc023a1b487bce59256fde14b8bb28b45ae...</td>\n",
       "      <td>diff --git a/drivers/sbus/char/vfc.h b/drivers...</td>\n",
       "      <td>torvalds</td>\n",
       "      <td>linux</td>\n",
       "      <td>wild</td>\n",
       "    </tr>\n",
       "    <tr>\n",
       "      <th>481</th>\n",
       "      <td>26222</td>\n",
       "      <td>NA</td>\n",
       "      <td>NA</td>\n",
       "      <td>1</td>\n",
       "      <td>aa9a4a1edfbd3d223af01db833da2f07850bc655</td>\n",
       "      <td>commit aa9a4a1edfbd3d223af01db833da2f07850bc65...</td>\n",
       "      <td>diff --git a/fs/pstore/ram.c b/fs/pstore/ram.c...</td>\n",
       "      <td>stoth68000</td>\n",
       "      <td>media-tree</td>\n",
       "      <td>wild</td>\n",
       "    </tr>\n",
       "    <tr>\n",
       "      <th>482</th>\n",
       "      <td>5175</td>\n",
       "      <td>NA</td>\n",
       "      <td>NA</td>\n",
       "      <td>0</td>\n",
       "      <td>2401660d2f200007d00337a86dc4d88f51a2f3f8</td>\n",
       "      <td>commit 2401660d2f200007d00337a86dc4d88f51a2f3f...</td>\n",
       "      <td>diff --git a/libavformat/rtsp.c b/libavformat/...</td>\n",
       "      <td>libav</td>\n",
       "      <td>libav</td>\n",
       "      <td>wild</td>\n",
       "    </tr>\n",
       "  </tbody>\n",
       "</table>\n",
       "<p>483 rows × 10 columns</p>\n",
       "</div>"
      ],
      "text/plain": [
       "     index CVE_ID CWE_ID  category                                 commit_id  \\\n",
       "0    26915     NA     NA         1  44241628bb207ec211bebd156aaf69470d90c209   \n",
       "1    18930     NA     NA         0  fe82772c377e1c0bdb1ce724f8bbe8ceb6294ee1   \n",
       "2    15526     NA     NA         0  625c6ace93bb1515ff16840741d6f7567be6ebb8   \n",
       "3    13501     NA     NA         0  8a7cf3febbb2b7c1ade717ddb3065de67c5983c5   \n",
       "4    10592     NA     NA         0  5464baecf521d1ca8095604f5a7371443c94226a   \n",
       "..     ...    ...    ...       ...                                       ...   \n",
       "478  12654     NA     NA         0  056790923e1c4eed5d8cc502e1092944a2b23025   \n",
       "479   7284     NA     NA         0  53155c0a5949d5cc3bd434d838e5b0c6e0542f9b   \n",
       "480  22406     NA     NA         0  7b96dc023a1b487bce59256fde14b8bb28b45aea   \n",
       "481  26222     NA     NA         1  aa9a4a1edfbd3d223af01db833da2f07850bc655   \n",
       "482   5175     NA     NA         0  2401660d2f200007d00337a86dc4d88f51a2f3f8   \n",
       "\n",
       "                                        commit_message  \\\n",
       "0    commit 44241628bb207ec211bebd156aaf69470d90c20...   \n",
       "1    commit fe82772c377e1c0bdb1ce724f8bbe8ceb6294ee...   \n",
       "2    commit 625c6ace93bb1515ff16840741d6f7567be6ebb...   \n",
       "3    commit 8a7cf3febbb2b7c1ade717ddb3065de67c5983c...   \n",
       "4    commit 5464baecf521d1ca8095604f5a7371443c94226...   \n",
       "..                                                 ...   \n",
       "478  commit 056790923e1c4eed5d8cc502e1092944a2b2302...   \n",
       "479  commit 53155c0a5949d5cc3bd434d838e5b0c6e0542f9...   \n",
       "480  commit 7b96dc023a1b487bce59256fde14b8bb28b45ae...   \n",
       "481  commit aa9a4a1edfbd3d223af01db833da2f07850bc65...   \n",
       "482  commit 2401660d2f200007d00337a86dc4d88f51a2f3f...   \n",
       "\n",
       "                                             diff_code       owner  \\\n",
       "0    diff --git a/drivers/thermal/power_allocator.c...  stoth68000   \n",
       "1    diff --git a/core/fork_server.c b/core/fork_se...       unbit   \n",
       "2    diff --git a/send.c b/send.c\\nindex 2ced24b..9...   reubenhwk   \n",
       "3    diff --git a/drivers/net/wireless/wl12xx/main....       mjg59   \n",
       "4    diff --git a/linux-user/syscall.c b/linux-user...        qemu   \n",
       "..                                                 ...         ...   \n",
       "478  diff --git a/sound/soc/soc-pcm.c b/sound/soc/s...  stoth68000   \n",
       "479  diff --git a/drivers/gpu/drm/i915/intel_displa...    torvalds   \n",
       "480  diff --git a/drivers/sbus/char/vfc.h b/drivers...    torvalds   \n",
       "481  diff --git a/fs/pstore/ram.c b/fs/pstore/ram.c...  stoth68000   \n",
       "482  diff --git a/libavformat/rtsp.c b/libavformat/...       libav   \n",
       "\n",
       "           repo source  \n",
       "0    media-tree   wild  \n",
       "1         uwsgi   wild  \n",
       "2         radvd   wild  \n",
       "3         linux   wild  \n",
       "4          qemu   wild  \n",
       "..          ...    ...  \n",
       "478  media-tree   wild  \n",
       "479       linux   wild  \n",
       "480       linux   wild  \n",
       "481  media-tree   wild  \n",
       "482       libav   wild  \n",
       "\n",
       "[483 rows x 10 columns]"
      ]
     },
     "execution_count": 15,
     "metadata": {},
     "output_type": "execute_result"
    }
   ],
   "source": [
    "val_data"
   ]
  },
  {
   "cell_type": "code",
   "execution_count": 16,
   "id": "1549be02-6f6b-41e5-bd04-d3e164061eec",
   "metadata": {
    "execution": {
     "iopub.execute_input": "2024-12-21T05:53:36.424195Z",
     "iopub.status.busy": "2024-12-21T05:53:36.424035Z",
     "iopub.status.idle": "2024-12-21T05:53:36.430079Z",
     "shell.execute_reply": "2024-12-21T05:53:36.429134Z",
     "shell.execute_reply.started": "2024-12-21T05:53:36.424178Z"
    }
   },
   "outputs": [],
   "source": [
    "\n",
    "\n",
    "# Create Datasets and DataLoaders\n",
    "train_dataset = preprocesser.SentencePairDataset(train_data, bert_tokenizer, codebert_tokenizer, message='commit_message',command='diff_code',label='category')\n",
    "val_dataset = preprocesser.SentencePairDataset(val_data, bert_tokenizer, codebert_tokenizer, message='commit_message',command='diff_code',label='category')\n",
    "test_dataset = preprocesser.SentencePairDataset(test_data, bert_tokenizer, codebert_tokenizer, message='commit_message',command='diff_code',label='category')\n",
    "\n",
    "train_loader = DataLoader(train_dataset, batch_size=8, shuffle=False)\n",
    "val_loader = DataLoader(val_dataset, batch_size=8, shuffle=False)\n",
    "test_loader = DataLoader(test_dataset, batch_size=8, shuffle=False)\n",
    "\n",
    "\n",
    "\n",
    "# # Initialize the model\n",
    "# model = em.CombinedModel(bert_model, codebert_model, bert_tokenizer, codebert_tokenizer)\n",
    "\n",
    "# # Train the model\n",
    "# model.trainer(train_loader, val_loader,num_epochs=10)\n",
    "# for batch in train_loader:\n",
    "#     print(batch)"
   ]
  },
  {
   "cell_type": "code",
   "execution_count": 17,
   "id": "09dcb1fc-8ae4-4e9e-9180-41d41e3698af",
   "metadata": {
    "execution": {
     "iopub.execute_input": "2024-12-21T05:53:36.430819Z",
     "iopub.status.busy": "2024-12-21T05:53:36.430620Z",
     "iopub.status.idle": "2024-12-21T05:53:36.435327Z",
     "shell.execute_reply": "2024-12-21T05:53:36.434385Z",
     "shell.execute_reply.started": "2024-12-21T05:53:36.430798Z"
    }
   },
   "outputs": [],
   "source": [
    "base_model1 = moe.BaseModel(bert_model)\n",
    "base_model2 = moe.BaseModel(codebert_model)"
   ]
  },
  {
   "cell_type": "code",
   "execution_count": 18,
   "id": "b8bb3e18-9412-4036-93d4-ac331093752c",
   "metadata": {
    "execution": {
     "iopub.execute_input": "2024-12-21T05:53:36.436192Z",
     "iopub.status.busy": "2024-12-21T05:53:36.436006Z",
     "iopub.status.idle": "2024-12-21T05:53:37.533878Z",
     "shell.execute_reply": "2024-12-21T05:53:37.532907Z",
     "shell.execute_reply.started": "2024-12-21T05:53:36.436172Z"
    }
   },
   "outputs": [
    {
     "name": "stderr",
     "output_type": "stream",
     "text": [
      "Some weights of the model checkpoint at /root/autodl-tmp/IPCK/model/distilbert were not used when initializing DistilBertModel: ['vocab_transform.bias', 'vocab_transform.weight', 'vocab_projector.bias', 'vocab_layer_norm.bias', 'vocab_layer_norm.weight']\n",
      "- This IS expected if you are initializing DistilBertModel from the checkpoint of a model trained on another task or with another architecture (e.g. initializing a BertForSequenceClassification model from a BertForPreTraining model).\n",
      "- This IS NOT expected if you are initializing DistilBertModel from the checkpoint of a model that you expect to be exactly identical (initializing a BertForSequenceClassification model from a BertForSequenceClassification model).\n",
      "Some weights of the model checkpoint at /root/autodl-tmp/IPCK/model/distilbert were not used when initializing DistilBertModel: ['vocab_transform.bias', 'vocab_transform.weight', 'vocab_projector.bias', 'vocab_layer_norm.bias', 'vocab_layer_norm.weight']\n",
      "- This IS expected if you are initializing DistilBertModel from the checkpoint of a model trained on another task or with another architecture (e.g. initializing a BertForSequenceClassification model from a BertForPreTraining model).\n",
      "- This IS NOT expected if you are initializing DistilBertModel from the checkpoint of a model that you expect to be exactly identical (initializing a BertForSequenceClassification model from a BertForSequenceClassification model).\n"
     ]
    }
   ],
   "source": [
    "# Load BERT and CodeBERT models and tokenizers\n",
    "bert_model = DistilBertModel.from_pretrained('/root/autodl-tmp/IPCK/model/distilbert')\n",
    "\n",
    "codebert_model = DistilBertModel.from_pretrained('/root/autodl-tmp/IPCK/model/distilbert')"
   ]
  },
  {
   "cell_type": "code",
   "execution_count": 19,
   "id": "e3ab313b-e462-4272-bb74-3ddfbd324125",
   "metadata": {
    "execution": {
     "iopub.execute_input": "2024-12-21T05:53:37.534919Z",
     "iopub.status.busy": "2024-12-21T05:53:37.534718Z",
     "iopub.status.idle": "2024-12-21T05:53:37.539953Z",
     "shell.execute_reply": "2024-12-21T05:53:37.538822Z",
     "shell.execute_reply.started": "2024-12-21T05:53:37.534897Z"
    }
   },
   "outputs": [],
   "source": [
    "encoder_model1 = moe.EncoderModel(bert_model)\n",
    "encoder_model2 = moe.EncoderModel(bert_model)"
   ]
  },
  {
   "cell_type": "code",
   "execution_count": 20,
   "id": "ac85df22-f318-41d4-9f4c-47f56f38055f",
   "metadata": {
    "execution": {
     "iopub.execute_input": "2024-12-21T05:53:37.540721Z",
     "iopub.status.busy": "2024-12-21T05:53:37.540531Z",
     "iopub.status.idle": "2024-12-21T06:30:52.171519Z",
     "shell.execute_reply": "2024-12-21T06:30:52.170352Z",
     "shell.execute_reply.started": "2024-12-21T05:53:37.540700Z"
    }
   },
   "outputs": [
    {
     "name": "stderr",
     "output_type": "stream",
     "text": [
      "/root/miniconda3/lib/python3.10/site-packages/transformers/optimization.py:391: FutureWarning: This implementation of AdamW is deprecated and will be removed in a future version. Use the PyTorch implementation torch.optim.AdamW instead, or set `no_deprecation_warning=True` to disable this warning\n",
      "  warnings.warn(\n",
      "Epoch 1/30 Loss: 0.1557: 100%|██████████| 314/314 [02:27<00:00,  2.13batch/s]\n"
     ]
    },
    {
     "name": "stdout",
     "output_type": "stream",
     "text": [
      "=============================train========================\n",
      "Validation Accuracy: 0.6584\n"
     ]
    },
    {
     "name": "stderr",
     "output_type": "stream",
     "text": [
      "Epoch 2/30 Loss: 0.1449: 100%|██████████| 314/314 [02:26<00:00,  2.14batch/s]\n"
     ]
    },
    {
     "name": "stdout",
     "output_type": "stream",
     "text": [
      "=============================train========================\n",
      "Validation Accuracy: 0.6584\n"
     ]
    },
    {
     "name": "stderr",
     "output_type": "stream",
     "text": [
      "Epoch 3/30 Loss: 0.1275: 100%|██████████| 314/314 [02:28<00:00,  2.12batch/s]\n"
     ]
    },
    {
     "name": "stdout",
     "output_type": "stream",
     "text": [
      "=============================train========================\n",
      "Validation Accuracy: 0.6584\n"
     ]
    },
    {
     "name": "stderr",
     "output_type": "stream",
     "text": [
      "Epoch 4/30 Loss: 0.1171: 100%|██████████| 314/314 [02:28<00:00,  2.12batch/s]\n"
     ]
    },
    {
     "name": "stdout",
     "output_type": "stream",
     "text": [
      "=============================train========================\n",
      "Validation Accuracy: 0.8033\n"
     ]
    },
    {
     "name": "stderr",
     "output_type": "stream",
     "text": [
      "Epoch 5/30 Loss: 0.0927: 100%|██████████| 314/314 [02:29<00:00,  2.10batch/s]\n"
     ]
    },
    {
     "name": "stdout",
     "output_type": "stream",
     "text": [
      "=============================train========================\n",
      "Validation Accuracy: 0.7847\n"
     ]
    },
    {
     "name": "stderr",
     "output_type": "stream",
     "text": [
      "Epoch 6/30 Loss: 0.0810: 100%|██████████| 314/314 [02:30<00:00,  2.09batch/s]\n"
     ]
    },
    {
     "name": "stdout",
     "output_type": "stream",
     "text": [
      "=============================train========================\n",
      "Validation Accuracy: 0.7329\n"
     ]
    },
    {
     "name": "stderr",
     "output_type": "stream",
     "text": [
      "Epoch 7/30 Loss: 0.0734: 100%|██████████| 314/314 [02:31<00:00,  2.08batch/s]\n"
     ]
    },
    {
     "name": "stdout",
     "output_type": "stream",
     "text": [
      "=============================train========================\n",
      "Validation Accuracy: 0.8799\n"
     ]
    },
    {
     "name": "stderr",
     "output_type": "stream",
     "text": [
      "Epoch 8/30 Loss: 0.0617: 100%|██████████| 314/314 [02:32<00:00,  2.06batch/s]\n"
     ]
    },
    {
     "name": "stdout",
     "output_type": "stream",
     "text": [
      "=============================train========================\n",
      "Validation Accuracy: 0.8799\n"
     ]
    },
    {
     "name": "stderr",
     "output_type": "stream",
     "text": [
      "Epoch 9/30 Loss: 0.0564: 100%|██████████| 314/314 [02:31<00:00,  2.07batch/s]\n"
     ]
    },
    {
     "name": "stdout",
     "output_type": "stream",
     "text": [
      "=============================train========================\n",
      "Validation Accuracy: 0.8571\n"
     ]
    },
    {
     "name": "stderr",
     "output_type": "stream",
     "text": [
      "Epoch 10/30 Loss: 0.0487: 100%|██████████| 314/314 [02:33<00:00,  2.05batch/s]\n"
     ]
    },
    {
     "name": "stdout",
     "output_type": "stream",
     "text": [
      "=============================train========================\n",
      "Validation Accuracy: 0.8758\n"
     ]
    },
    {
     "name": "stderr",
     "output_type": "stream",
     "text": [
      "Epoch 11/30 Loss: 0.0445: 100%|██████████| 314/314 [02:36<00:00,  2.01batch/s]\n"
     ]
    },
    {
     "name": "stdout",
     "output_type": "stream",
     "text": [
      "=============================train========================\n",
      "Validation Accuracy: 0.8820\n"
     ]
    },
    {
     "name": "stderr",
     "output_type": "stream",
     "text": [
      "Epoch 12/30 Loss: 0.0449: 100%|██████████| 314/314 [02:36<00:00,  2.00batch/s]\n"
     ]
    },
    {
     "name": "stdout",
     "output_type": "stream",
     "text": [
      "=============================train========================\n",
      "Validation Accuracy: 0.8861\n"
     ]
    },
    {
     "name": "stderr",
     "output_type": "stream",
     "text": [
      "Epoch 13/30 Loss: 0.0479: 100%|██████████| 314/314 [02:34<00:00,  2.03batch/s]\n"
     ]
    },
    {
     "name": "stdout",
     "output_type": "stream",
     "text": [
      "=============================train========================\n",
      "Validation Accuracy: 0.8634\n"
     ]
    },
    {
     "name": "stderr",
     "output_type": "stream",
     "text": [
      "Epoch 14/30 Loss: 0.0509: 100%|██████████| 314/314 [02:32<00:00,  2.06batch/s]"
     ]
    },
    {
     "name": "stdout",
     "output_type": "stream",
     "text": [
      "=============================train========================\n",
      "Early stopping triggered after 14 epochs\n"
     ]
    },
    {
     "name": "stderr",
     "output_type": "stream",
     "text": [
      "\n"
     ]
    }
   ],
   "source": [
    "# Create stacking model\n",
    "moe_model = moe.MoEModel(base_model1, base_model2)\n",
    "# Train the model\n",
    "moe_model.trainer(train_loader, val_loader,num_epochs=10, patience=3)"
   ]
  },
  {
   "cell_type": "code",
   "execution_count": 21,
   "id": "def4bb0a-419c-46fb-b61b-c9f1a98f0caa",
   "metadata": {
    "execution": {
     "iopub.execute_input": "2024-12-21T06:30:52.173087Z",
     "iopub.status.busy": "2024-12-21T06:30:52.172862Z",
     "iopub.status.idle": "2024-12-21T06:30:52.178104Z",
     "shell.execute_reply": "2024-12-21T06:30:52.177173Z",
     "shell.execute_reply.started": "2024-12-21T06:30:52.173064Z"
    }
   },
   "outputs": [],
   "source": [
    "test_dataset = preprocesser.SentencePairDataset(test_data, bert_tokenizer, codebert_tokenizer,message='commit_message',command='diff_code',label='category')\n",
    "test_loader = DataLoader(test_dataset, batch_size=8, shuffle=False)"
   ]
  },
  {
   "cell_type": "code",
   "execution_count": null,
   "id": "4e01924f-b8a3-4282-acf6-6d38aee2620c",
   "metadata": {},
   "outputs": [],
   "source": []
  },
  {
   "cell_type": "code",
   "execution_count": 22,
   "id": "92009384-7770-4b2a-97b2-c0b4d209a0a7",
   "metadata": {
    "execution": {
     "iopub.execute_input": "2024-12-21T06:30:52.181996Z",
     "iopub.status.busy": "2024-12-21T06:30:52.181790Z",
     "iopub.status.idle": "2024-12-21T06:30:53.555634Z",
     "shell.execute_reply": "2024-12-21T06:30:53.554352Z",
     "shell.execute_reply.started": "2024-12-21T06:30:52.181974Z"
    }
   },
   "outputs": [],
   "source": [
    "torch.save(moe_model, \"CUM_entire_bert_model.pth\")"
   ]
  },
  {
   "cell_type": "code",
   "execution_count": 23,
   "id": "49ad177a-0ad0-414e-a5b6-5b768a5da9cd",
   "metadata": {
    "execution": {
     "iopub.execute_input": "2024-12-21T06:30:53.560266Z",
     "iopub.status.busy": "2024-12-21T06:30:53.560047Z",
     "iopub.status.idle": "2024-12-21T06:30:54.068362Z",
     "shell.execute_reply": "2024-12-21T06:30:54.067254Z",
     "shell.execute_reply.started": "2024-12-21T06:30:53.560233Z"
    }
   },
   "outputs": [],
   "source": [
    "moe_model = torch.load(\"entire_bert_model.pth\")                                                                                                                                                                                                                                                                                                                                                                                                                                                        "
   ]
  },
  {
   "cell_type": "code",
   "execution_count": 24,
   "id": "5878d2a3-fe90-45b1-9486-739c4fee6004",
   "metadata": {
    "execution": {
     "iopub.execute_input": "2024-12-21T06:30:54.069616Z",
     "iopub.status.busy": "2024-12-21T06:30:54.069395Z",
     "iopub.status.idle": "2024-12-21T06:31:03.952439Z",
     "shell.execute_reply": "2024-12-21T06:31:03.951317Z",
     "shell.execute_reply.started": "2024-12-21T06:30:54.069592Z"
    }
   },
   "outputs": [
    {
     "name": "stdout",
     "output_type": "stream",
     "text": [
      "Validation Accuracy: 0.8994\n"
     ]
    }
   ],
   "source": [
    "test_acc, test_labels, test_probabilities, test_embeddings, test_predictions = moe_model.evaluate(test_loader)"
   ]
  },
  {
   "cell_type": "code",
   "execution_count": 25,
   "id": "5e4b2c38-1a70-4291-86ba-9a32eef19ae8",
   "metadata": {
    "execution": {
     "iopub.execute_input": "2024-12-21T06:31:03.953701Z",
     "iopub.status.busy": "2024-12-21T06:31:03.953465Z",
     "iopub.status.idle": "2024-12-21T06:31:03.968799Z",
     "shell.execute_reply": "2024-12-21T06:31:03.967762Z",
     "shell.execute_reply.started": "2024-12-21T06:31:03.953676Z"
    }
   },
   "outputs": [
    {
     "name": "stdout",
     "output_type": "stream",
     "text": [
      "              precision    recall  f1-score   support\n",
      "\n",
      "           0       0.91      0.95      0.93       370\n",
      "           1       0.88      0.78      0.83       167\n",
      "\n",
      "    accuracy                           0.90       537\n",
      "   macro avg       0.89      0.87      0.88       537\n",
      "weighted avg       0.90      0.90      0.90       537\n",
      "\n"
     ]
    }
   ],
   "source": [
    "print(classification_report(test_labels,test_predictions))"
   ]
  },
  {
   "cell_type": "code",
   "execution_count": 26,
   "id": "b84edf12-7846-4311-8539-7078f9801402",
   "metadata": {
    "execution": {
     "iopub.execute_input": "2024-12-21T06:31:03.969774Z",
     "iopub.status.busy": "2024-12-21T06:31:03.969582Z",
     "iopub.status.idle": "2024-12-21T06:31:03.975803Z",
     "shell.execute_reply": "2024-12-21T06:31:03.974881Z",
     "shell.execute_reply.started": "2024-12-21T06:31:03.969753Z"
    }
   },
   "outputs": [
    {
     "data": {
      "text/plain": [
       "0.8994413407821229"
      ]
     },
     "execution_count": 26,
     "metadata": {},
     "output_type": "execute_result"
    }
   ],
   "source": [
    "test_acc"
   ]
  },
  {
   "cell_type": "code",
   "execution_count": 27,
   "id": "bb91be6c-e590-4e1d-9d34-218891b05cde",
   "metadata": {
    "execution": {
     "iopub.execute_input": "2024-12-21T06:31:03.976698Z",
     "iopub.status.busy": "2024-12-21T06:31:03.976538Z",
     "iopub.status.idle": "2024-12-21T06:31:03.981129Z",
     "shell.execute_reply": "2024-12-21T06:31:03.980203Z",
     "shell.execute_reply.started": "2024-12-21T06:31:03.976681Z"
    }
   },
   "outputs": [],
   "source": [
    "model_save_path = 'best_model'"
   ]
  },
  {
   "cell_type": "code",
   "execution_count": null,
   "id": "e4dfe962-4d83-4ec0-a9ea-45ec6fef26d9",
   "metadata": {},
   "outputs": [],
   "source": []
  },
  {
   "cell_type": "code",
   "execution_count": null,
   "id": "67c4cc22-da20-48e3-be6f-9a406dffab2b",
   "metadata": {},
   "outputs": [],
   "source": []
  },
  {
   "cell_type": "code",
   "execution_count": null,
   "id": "d306587f-c218-4f03-a13e-5a8a7f92db07",
   "metadata": {},
   "outputs": [],
   "source": []
  },
  {
   "cell_type": "code",
   "execution_count": 28,
   "id": "0c21ff48-212d-42d5-b602-2a5959b548c4",
   "metadata": {
    "execution": {
     "iopub.execute_input": "2024-12-21T06:31:03.982032Z",
     "iopub.status.busy": "2024-12-21T06:31:03.981830Z",
     "iopub.status.idle": "2024-12-21T06:31:04.021369Z",
     "shell.execute_reply": "2024-12-21T06:31:04.020422Z",
     "shell.execute_reply.started": "2024-12-21T06:31:03.982009Z"
    }
   },
   "outputs": [],
   "source": [
    "student_model = moe.BiLSTMStudent(hidden_dim=256,output_dim =2, base_model1=encoder_model1,base_model2=encoder_model2)"
   ]
  },
  {
   "cell_type": "code",
   "execution_count": 29,
   "id": "2d38e0d5-86f1-4a55-ba54-9802c1db2793",
   "metadata": {
    "execution": {
     "iopub.execute_input": "2024-12-21T06:31:04.022213Z",
     "iopub.status.busy": "2024-12-21T06:31:04.022029Z",
     "iopub.status.idle": "2024-12-21T06:31:04.026521Z",
     "shell.execute_reply": "2024-12-21T06:31:04.025480Z",
     "shell.execute_reply.started": "2024-12-21T06:31:04.022192Z"
    }
   },
   "outputs": [],
   "source": [
    "# train_student_model"
   ]
  },
  {
   "cell_type": "code",
   "execution_count": 30,
   "id": "77f1210b-4518-4196-802c-ecd01588f4cd",
   "metadata": {
    "execution": {
     "iopub.execute_input": "2024-12-21T06:31:04.027227Z",
     "iopub.status.busy": "2024-12-21T06:31:04.027046Z",
     "iopub.status.idle": "2024-12-21T06:35:40.753482Z",
     "shell.execute_reply": "2024-12-21T06:35:40.752303Z",
     "shell.execute_reply.started": "2024-12-21T06:31:04.027206Z"
    }
   },
   "outputs": [
    {
     "name": "stderr",
     "output_type": "stream",
     "text": [
      "/root/miniconda3/lib/python3.10/site-packages/transformers/optimization.py:391: FutureWarning: This implementation of AdamW is deprecated and will be removed in a future version. Use the PyTorch implementation torch.optim.AdamW instead, or set `no_deprecation_warning=True` to disable this warning\n",
      "  warnings.warn(\n",
      "Epoch 1/10 Loss: 0.9958: 100%|██████████| 68/68 [00:19<00:00,  3.50batch/s]\n"
     ]
    },
    {
     "name": "stdout",
     "output_type": "stream",
     "text": [
      "Validation Accuracy: 0.7877\n"
     ]
    },
    {
     "name": "stderr",
     "output_type": "stream",
     "text": [
      "Epoch 2/10 Loss: 0.6894: 100%|██████████| 68/68 [00:19<00:00,  3.51batch/s]\n"
     ]
    },
    {
     "name": "stdout",
     "output_type": "stream",
     "text": [
      "Validation Accuracy: 0.7877\n"
     ]
    },
    {
     "name": "stderr",
     "output_type": "stream",
     "text": [
      "Epoch 3/10 Loss: 0.5545: 100%|██████████| 68/68 [00:19<00:00,  3.52batch/s]\n"
     ]
    },
    {
     "name": "stdout",
     "output_type": "stream",
     "text": [
      "Validation Accuracy: 0.7914\n"
     ]
    },
    {
     "name": "stderr",
     "output_type": "stream",
     "text": [
      "Epoch 4/10 Loss: 0.3370: 100%|██████████| 68/68 [00:19<00:00,  3.53batch/s]\n"
     ]
    },
    {
     "name": "stdout",
     "output_type": "stream",
     "text": [
      "Validation Accuracy: 0.9013\n"
     ]
    },
    {
     "name": "stderr",
     "output_type": "stream",
     "text": [
      "Epoch 5/10 Loss: 0.1901: 100%|██████████| 68/68 [00:19<00:00,  3.54batch/s]\n"
     ]
    },
    {
     "name": "stdout",
     "output_type": "stream",
     "text": [
      "Validation Accuracy: 0.9088\n"
     ]
    },
    {
     "name": "stderr",
     "output_type": "stream",
     "text": [
      "Epoch 6/10 Loss: 0.0703: 100%|██████████| 68/68 [00:19<00:00,  3.52batch/s]\n"
     ]
    },
    {
     "name": "stdout",
     "output_type": "stream",
     "text": [
      "Validation Accuracy: 0.9050\n"
     ]
    },
    {
     "name": "stderr",
     "output_type": "stream",
     "text": [
      "Epoch 7/10 Loss: 0.0461: 100%|██████████| 68/68 [00:19<00:00,  3.49batch/s]\n"
     ]
    },
    {
     "name": "stdout",
     "output_type": "stream",
     "text": [
      "Validation Accuracy: 0.8994\n"
     ]
    },
    {
     "name": "stderr",
     "output_type": "stream",
     "text": [
      "Epoch 8/10 Loss: 0.0376: 100%|██████████| 68/68 [00:19<00:00,  3.51batch/s]\n"
     ]
    },
    {
     "name": "stdout",
     "output_type": "stream",
     "text": [
      "Validation Accuracy: 0.9106\n"
     ]
    },
    {
     "name": "stderr",
     "output_type": "stream",
     "text": [
      "Epoch 9/10 Loss: 0.0338: 100%|██████████| 68/68 [00:19<00:00,  3.52batch/s]\n"
     ]
    },
    {
     "name": "stdout",
     "output_type": "stream",
     "text": [
      "Validation Accuracy: 0.9032\n"
     ]
    },
    {
     "name": "stderr",
     "output_type": "stream",
     "text": [
      "Epoch 10/10 Loss: 0.0220: 100%|██████████| 68/68 [00:19<00:00,  3.53batch/s]\n"
     ]
    },
    {
     "name": "stdout",
     "output_type": "stream",
     "text": [
      "Validation Accuracy: 0.8994\n"
     ]
    }
   ],
   "source": [
    "student_model.distill_trainer(moe_model, test_loader, num_epochs=10)"
   ]
  },
  {
   "cell_type": "code",
   "execution_count": 31,
   "id": "d1c3a902-75a6-4716-8db1-baf825fee131",
   "metadata": {
    "execution": {
     "iopub.execute_input": "2024-12-21T06:35:40.755298Z",
     "iopub.status.busy": "2024-12-21T06:35:40.755044Z",
     "iopub.status.idle": "2024-12-21T06:35:48.239593Z",
     "shell.execute_reply": "2024-12-21T06:35:48.238432Z",
     "shell.execute_reply.started": "2024-12-21T06:35:40.755270Z"
    }
   },
   "outputs": [
    {
     "name": "stdout",
     "output_type": "stream",
     "text": [
      "Validation Accuracy: 0.8489\n"
     ]
    }
   ],
   "source": [
    "test_acc, test_labels, test_probabilities, test_embeddings, test_predictions = student_model.evaluate(val_loader)"
   ]
  },
  {
   "cell_type": "code",
   "execution_count": 32,
   "id": "64220bad-f262-4666-a2ff-3515c5f56b5d",
   "metadata": {
    "execution": {
     "iopub.execute_input": "2024-12-21T06:35:48.240743Z",
     "iopub.status.busy": "2024-12-21T06:35:48.240554Z",
     "iopub.status.idle": "2024-12-21T06:35:48.254691Z",
     "shell.execute_reply": "2024-12-21T06:35:48.253724Z",
     "shell.execute_reply.started": "2024-12-21T06:35:48.240721Z"
    }
   },
   "outputs": [
    {
     "name": "stdout",
     "output_type": "stream",
     "text": [
      "              precision    recall  f1-score   support\n",
      "\n",
      "           0       0.82      0.98      0.90       318\n",
      "           1       0.95      0.59      0.73       165\n",
      "\n",
      "    accuracy                           0.85       483\n",
      "   macro avg       0.89      0.79      0.81       483\n",
      "weighted avg       0.87      0.85      0.84       483\n",
      "\n"
     ]
    }
   ],
   "source": [
    "print(classification_report(test_labels,test_predictions))"
   ]
  },
  {
   "cell_type": "code",
   "execution_count": 33,
   "id": "0780f648-67b6-42dc-8322-0f70c1364da5",
   "metadata": {
    "execution": {
     "iopub.execute_input": "2024-12-21T06:35:48.255599Z",
     "iopub.status.busy": "2024-12-21T06:35:48.255408Z",
     "iopub.status.idle": "2024-12-21T06:35:57.187828Z",
     "shell.execute_reply": "2024-12-21T06:35:57.186469Z",
     "shell.execute_reply.started": "2024-12-21T06:35:48.255577Z"
    }
   },
   "outputs": [
    {
     "name": "stdout",
     "output_type": "stream",
     "text": [
      "Validation Accuracy: 0.8447\n"
     ]
    }
   ],
   "source": [
    "test_acc, test_labels, test_probabilities, test_embeddings, test_predictions = moe_model.evaluate(val_loader)"
   ]
  },
  {
   "cell_type": "code",
   "execution_count": 34,
   "id": "d6d05dcc-81b1-4ef8-b41e-42d278a6dae3",
   "metadata": {
    "execution": {
     "iopub.execute_input": "2024-12-21T06:35:57.189190Z",
     "iopub.status.busy": "2024-12-21T06:35:57.188945Z",
     "iopub.status.idle": "2024-12-21T06:35:57.558913Z",
     "shell.execute_reply": "2024-12-21T06:35:57.557805Z",
     "shell.execute_reply.started": "2024-12-21T06:35:57.189164Z"
    }
   },
   "outputs": [],
   "source": [
    "torch.save(student_model, \"student_model.pth\")"
   ]
  },
  {
   "cell_type": "code",
   "execution_count": 35,
   "id": "ae9dceb5-9b5c-418a-a0d4-9f9565993485",
   "metadata": {
    "execution": {
     "iopub.execute_input": "2024-12-21T06:35:57.560145Z",
     "iopub.status.busy": "2024-12-21T06:35:57.559932Z",
     "iopub.status.idle": "2024-12-21T06:35:57.573139Z",
     "shell.execute_reply": "2024-12-21T06:35:57.572091Z",
     "shell.execute_reply.started": "2024-12-21T06:35:57.560123Z"
    }
   },
   "outputs": [
    {
     "name": "stdout",
     "output_type": "stream",
     "text": [
      "              precision    recall  f1-score   support\n",
      "\n",
      "           0       0.87      0.90      0.88       318\n",
      "           1       0.79      0.75      0.77       165\n",
      "\n",
      "    accuracy                           0.84       483\n",
      "   macro avg       0.83      0.82      0.83       483\n",
      "weighted avg       0.84      0.84      0.84       483\n",
      "\n"
     ]
    }
   ],
   "source": [
    "print(classification_report(test_labels,test_predictions))"
   ]
  },
  {
   "cell_type": "code",
   "execution_count": null,
   "id": "bf19d667-f13b-4286-a1aa-6dbef58828ed",
   "metadata": {},
   "outputs": [],
   "source": [
    "#发送多种类型的邮件\n",
    "from email.mime.multipart import MIMEMultipart\n",
    "import smtplib\n",
    "\n",
    "from email.mime.text import MIMEText\n",
    "msg_from = '915803745@qq.com'  # 发送方邮箱\n",
    "passwd = 'vcuosuurrgkfbdai'   #就是上面的授权码\n",
    " \n",
    "# to= ['g.zhang@gotion.com', 'j.tong@gotion.com'] #接受方邮箱\n",
    "to= ['j.tong@gotion.com'] #接受方邮箱\n",
    "#设置邮件内容\n",
    "#MIMEMultipart类可以放任何内容\n",
    "msg = MIMEMultipart()\n",
    "conntent=\"在线模型训练完毕\"\n",
    "#把内容加进去\n",
    "msg.attach(MIMEText(conntent,'plain','utf-8'))\n",
    " \n",
    "#设置邮件主题\n",
    "msg['Subject']=\"在线模型训练完毕\"\n",
    " \n",
    "#发送方信息\n",
    "msg['From']=msg_from\n",
    " \n",
    "#开始发送\n",
    " \n",
    "#通过SSL方式发送，服务器地址和端口\n",
    "s = smtplib.SMTP_SSL(\"smtp.qq.com\", 465)\n",
    "# 登录邮箱\n",
    "s.login(msg_from, passwd)\n",
    "#开始发送\n",
    "s.sendmail(msg_from,to,msg.as_string())\n",
    "print(\"在线模型训练完毕\")"
   ]
  }
 ],
 "metadata": {
  "kernelspec": {
   "display_name": "Python 3 (ipykernel)",
   "language": "python",
   "name": "python3"
  },
  "language_info": {
   "codemirror_mode": {
    "name": "ipython",
    "version": 3
   },
   "file_extension": ".py",
   "mimetype": "text/x-python",
   "name": "python",
   "nbconvert_exporter": "python",
   "pygments_lexer": "ipython3",
   "version": "3.10.8"
  }
 },
 "nbformat": 4,
 "nbformat_minor": 5
}
