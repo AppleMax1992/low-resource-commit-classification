{
 "cells": [
  {
   "cell_type": "code",
   "execution_count": 23,
   "id": "9f82a8cc-7b02-48d7-a783-6e89bccff8b2",
   "metadata": {
    "execution": {
     "iopub.execute_input": "2025-01-11T09:07:22.379342Z",
     "iopub.status.busy": "2025-01-11T09:07:22.378803Z",
     "iopub.status.idle": "2025-01-11T09:07:22.389985Z",
     "shell.execute_reply": "2025-01-11T09:07:22.388801Z",
     "shell.execute_reply.started": "2025-01-11T09:07:22.379275Z"
    }
   },
   "outputs": [
    {
     "name": "stdout",
     "output_type": "stream",
     "text": [
      "\n",
      "root\n",
      "ensemble_commit\n",
      "/root/ensemble_commit\n"
     ]
    }
   ],
   "source": [
    "import pandas as pd\n",
    "from sklearn.model_selection import train_test_split\n",
    "import torch\n",
    "import os\n",
    "from torch.nn.utils.rnn import pad_sequence\n",
    "notebook_path = os.path.abspath('')\n",
    "import sys\n",
    "# Find the part of the path that contains 'commitFit'\n",
    "commit_fit_path = None\n",
    "for part in notebook_path.split(os.sep):\n",
    "    print(part)\n",
    "    if 'ensemble_commit' in part:\n",
    "        commit_fit_path = notebook_path.split(part)[0] + part\n",
    "        print(commit_fit_path)\n",
    "        break\n",
    "\n",
    "# import whatthepatch\n",
    "import numpy as np\n",
    "from sklearn.manifold import TSNE\n",
    "import matplotlib.pyplot as plt\n",
    "from sklearn.metrics import precision_score, recall_score, f1_score, precision_recall_curve,classification_report\n",
    "from tqdm import tqdm as std_tqdm\n",
    "from functools import partial\n",
    "tqdm = partial(std_tqdm, dynamic_ncols=True)"
   ]
  },
  {
   "cell_type": "code",
   "execution_count": null,
   "id": "537e23dd-4090-40f0-8c1c-3ed2e96076cc",
   "metadata": {},
   "outputs": [],
   "source": []
  },
  {
   "cell_type": "code",
   "execution_count": 24,
   "id": "666cb7bc-ce61-42cb-b7fa-934b5e5d3580",
   "metadata": {
    "execution": {
     "iopub.execute_input": "2025-01-11T09:07:22.391808Z",
     "iopub.status.busy": "2025-01-11T09:07:22.391307Z",
     "iopub.status.idle": "2025-01-11T09:07:25.071090Z",
     "shell.execute_reply": "2025-01-11T09:07:25.070475Z",
     "shell.execute_reply.started": "2025-01-11T09:07:22.391764Z"
    }
   },
   "outputs": [
    {
     "name": "stderr",
     "output_type": "stream",
     "text": [
      "/tmp/ipykernel_2061/1052552286.py:4: FutureWarning: Downcasting behavior in `replace` is deprecated and will be removed in a future version. To retain the old behavior, explicitly call `result.infer_objects(copy=False)`. To opt-in to the future behavior, set `pd.set_option('future.no_silent_downcasting', True)`\n",
      "  df = df.replace({\"label\": label2id})\n"
     ]
    },
    {
     "data": {
      "text/html": [
       "<div>\n",
       "<style scoped>\n",
       "    .dataframe tbody tr th:only-of-type {\n",
       "        vertical-align: middle;\n",
       "    }\n",
       "\n",
       "    .dataframe tbody tr th {\n",
       "        vertical-align: top;\n",
       "    }\n",
       "\n",
       "    .dataframe thead th {\n",
       "        text-align: right;\n",
       "    }\n",
       "</style>\n",
       "<table border=\"1\" class=\"dataframe\">\n",
       "  <thead>\n",
       "    <tr style=\"text-align: right;\">\n",
       "      <th></th>\n",
       "      <th>Unnamed: 0</th>\n",
       "      <th>label</th>\n",
       "      <th>message</th>\n",
       "      <th>diff</th>\n",
       "    </tr>\n",
       "  </thead>\n",
       "  <tbody>\n",
       "    <tr>\n",
       "      <th>0</th>\n",
       "      <td>0</td>\n",
       "      <td>0</td>\n",
       "      <td>Merge pull request #46 from rufferson/saslx-tl...</td>\n",
       "      <td>diff --git a/lib/DJabberd.pm b/lib/DJabberd.pm...</td>\n",
       "    </tr>\n",
       "    <tr>\n",
       "      <th>1</th>\n",
       "      <td>1</td>\n",
       "      <td>1</td>\n",
       "      <td>Fix leaks in kadmin server stubs [CVE-2015-863...</td>\n",
       "      <td>diff --git a/src/kadmin/server/server_stubs.c ...</td>\n",
       "    </tr>\n",
       "    <tr>\n",
       "      <th>2</th>\n",
       "      <td>2</td>\n",
       "      <td>1</td>\n",
       "      <td>Validate authorization request on approval\\n\\n...</td>\n",
       "      <td>diff --git a/spring-security-oauth2/src/main/j...</td>\n",
       "    </tr>\n",
       "    <tr>\n",
       "      <th>3</th>\n",
       "      <td>3</td>\n",
       "      <td>1</td>\n",
       "      <td>Release 2.72.4+171110</td>\n",
       "      <td>diff --git a/application/config/version.php b/...</td>\n",
       "    </tr>\n",
       "    <tr>\n",
       "      <th>4</th>\n",
       "      <td>4</td>\n",
       "      <td>0</td>\n",
       "      <td>Fixing compiler warnings.</td>\n",
       "      <td>diff --git a/src/main.c b/src/main.c\\nindex 50...</td>\n",
       "    </tr>\n",
       "    <tr>\n",
       "      <th>...</th>\n",
       "      <td>...</td>\n",
       "      <td>...</td>\n",
       "      <td>...</td>\n",
       "      <td>...</td>\n",
       "    </tr>\n",
       "    <tr>\n",
       "      <th>10107</th>\n",
       "      <td>10107</td>\n",
       "      <td>0</td>\n",
       "      <td>les: remove useless protocol defines (#22115)\\...</td>\n",
       "      <td>diff --git a/les/benchmark.go b/les/benchmark....</td>\n",
       "    </tr>\n",
       "    <tr>\n",
       "      <th>10108</th>\n",
       "      <td>10108</td>\n",
       "      <td>1</td>\n",
       "      <td>Merge pull request #2067 from realm/tg-swift-l...</td>\n",
       "      <td>diff --git a/CHANGELOG.md b/CHANGELOG.md\\ninde...</td>\n",
       "    </tr>\n",
       "    <tr>\n",
       "      <th>10109</th>\n",
       "      <td>10109</td>\n",
       "      <td>0</td>\n",
       "      <td>[fix] 新規アカウント作成ページの翻訳を修正</td>\n",
       "      <td>diff --git a/app/locales/ja_JP/LC_MESSAGES/mes...</td>\n",
       "    </tr>\n",
       "    <tr>\n",
       "      <th>10110</th>\n",
       "      <td>10110</td>\n",
       "      <td>0</td>\n",
       "      <td>Merge branch 'hotfixes'</td>\n",
       "      <td>diff --git a/CHANGELOG.txt b/CHANGELOG.txt\\nin...</td>\n",
       "    </tr>\n",
       "    <tr>\n",
       "      <th>10111</th>\n",
       "      <td>10111</td>\n",
       "      <td>1</td>\n",
       "      <td>HTTPCLIENT-1803: Improved handling of malforme...</td>\n",
       "      <td>diff --git a/httpclient/src/main/java/org/apac...</td>\n",
       "    </tr>\n",
       "  </tbody>\n",
       "</table>\n",
       "<p>10064 rows × 4 columns</p>\n",
       "</div>"
      ],
      "text/plain": [
       "       Unnamed: 0  label                                            message  \\\n",
       "0               0      0  Merge pull request #46 from rufferson/saslx-tl...   \n",
       "1               1      1  Fix leaks in kadmin server stubs [CVE-2015-863...   \n",
       "2               2      1  Validate authorization request on approval\\n\\n...   \n",
       "3               3      1                              Release 2.72.4+171110   \n",
       "4               4      0                          Fixing compiler warnings.   \n",
       "...           ...    ...                                                ...   \n",
       "10107       10107      0  les: remove useless protocol defines (#22115)\\...   \n",
       "10108       10108      1  Merge pull request #2067 from realm/tg-swift-l...   \n",
       "10109       10109      0                           [fix] 新規アカウント作成ページの翻訳を修正   \n",
       "10110       10110      0                            Merge branch 'hotfixes'   \n",
       "10111       10111      1  HTTPCLIENT-1803: Improved handling of malforme...   \n",
       "\n",
       "                                                    diff  \n",
       "0      diff --git a/lib/DJabberd.pm b/lib/DJabberd.pm...  \n",
       "1      diff --git a/src/kadmin/server/server_stubs.c ...  \n",
       "2      diff --git a/spring-security-oauth2/src/main/j...  \n",
       "3      diff --git a/application/config/version.php b/...  \n",
       "4      diff --git a/src/main.c b/src/main.c\\nindex 50...  \n",
       "...                                                  ...  \n",
       "10107  diff --git a/les/benchmark.go b/les/benchmark....  \n",
       "10108  diff --git a/CHANGELOG.md b/CHANGELOG.md\\ninde...  \n",
       "10109  diff --git a/app/locales/ja_JP/LC_MESSAGES/mes...  \n",
       "10110  diff --git a/CHANGELOG.txt b/CHANGELOG.txt\\nin...  \n",
       "10111  diff --git a/httpclient/src/main/java/org/apac...  \n",
       "\n",
       "[10064 rows x 4 columns]"
      ]
     },
     "execution_count": 24,
     "metadata": {},
     "output_type": "execute_result"
    }
   ],
   "source": [
    "df = pd.read_csv(r'../datasets/dataset.csv', encoding='utf_8_sig')\n",
    "df.dropna(inplace=True)\n",
    "label2id={'negative':0,'positive':1}\n",
    "df = df.replace({\"label\": label2id})\n",
    "df"
   ]
  },
  {
   "cell_type": "code",
   "execution_count": 25,
   "id": "fa751a3e-86ae-4f11-82ca-c173f5320a09",
   "metadata": {
    "execution": {
     "iopub.execute_input": "2025-01-11T09:07:25.072072Z",
     "iopub.status.busy": "2025-01-11T09:07:25.071879Z",
     "iopub.status.idle": "2025-01-11T09:07:25.079118Z",
     "shell.execute_reply": "2025-01-11T09:07:25.078586Z",
     "shell.execute_reply.started": "2025-01-11T09:07:25.072049Z"
    }
   },
   "outputs": [],
   "source": [
    "train_data, _ = train_test_split(df, train_size=0.35, random_state=42)\n",
    "train_data, test_data = train_test_split(train_data, test_size=0.3, random_state=42)\n",
    "# train_data = pd.read_csv('./datasets/PD_train.csv')\n",
    "# test_data = pd.read_csv('./datasets/PD_test.csv')\n",
    "# val_data = pd.read_csv('./datasets/PD_val.csv')\n",
    "\n"
   ]
  },
  {
   "cell_type": "code",
   "execution_count": 26,
   "id": "c1f1e42a-ca2a-47b4-aeb0-536795d2a2f7",
   "metadata": {
    "execution": {
     "iopub.execute_input": "2025-01-11T09:07:25.080143Z",
     "iopub.status.busy": "2025-01-11T09:07:25.079957Z",
     "iopub.status.idle": "2025-01-11T09:07:25.082625Z",
     "shell.execute_reply": "2025-01-11T09:07:25.082139Z",
     "shell.execute_reply.started": "2025-01-11T09:07:25.080122Z"
    }
   },
   "outputs": [],
   "source": [
    "# codebert_model.config.hidden_size"
   ]
  },
  {
   "cell_type": "code",
   "execution_count": 27,
   "id": "4b5e68a2-d0bb-42c1-a6a3-1d66267b3651",
   "metadata": {
    "execution": {
     "iopub.execute_input": "2025-01-11T09:07:25.083449Z",
     "iopub.status.busy": "2025-01-11T09:07:25.083271Z",
     "iopub.status.idle": "2025-01-11T09:07:25.087084Z",
     "shell.execute_reply": "2025-01-11T09:07:25.086620Z",
     "shell.execute_reply.started": "2025-01-11T09:07:25.083429Z"
    }
   },
   "outputs": [
    {
     "data": {
      "text/plain": [
       "1057"
      ]
     },
     "execution_count": 27,
     "metadata": {},
     "output_type": "execute_result"
    }
   ],
   "source": [
    "len(test_data)"
   ]
  },
  {
   "cell_type": "code",
   "execution_count": 28,
   "id": "f8f11097-0571-4896-972e-da03419f6f1f",
   "metadata": {
    "execution": {
     "iopub.execute_input": "2025-01-11T09:07:25.088243Z",
     "iopub.status.busy": "2025-01-11T09:07:25.087731Z",
     "iopub.status.idle": "2025-01-11T09:07:25.091682Z",
     "shell.execute_reply": "2025-01-11T09:07:25.091186Z",
     "shell.execute_reply.started": "2025-01-11T09:07:25.088221Z"
    }
   },
   "outputs": [],
   "source": [
    "test_data, val_data = train_test_split(test_data, train_size=0.5, random_state=42)"
   ]
  },
  {
   "cell_type": "code",
   "execution_count": 29,
   "id": "6d0173b0-7cee-488c-988d-30fdc9c30c95",
   "metadata": {
    "execution": {
     "iopub.execute_input": "2025-01-11T09:07:25.092639Z",
     "iopub.status.busy": "2025-01-11T09:07:25.092458Z",
     "iopub.status.idle": "2025-01-11T09:07:25.096302Z",
     "shell.execute_reply": "2025-01-11T09:07:25.095818Z",
     "shell.execute_reply.started": "2025-01-11T09:07:25.092618Z"
    }
   },
   "outputs": [],
   "source": [
    "train_data.reset_index(inplace=True)\n",
    "test_data.reset_index(inplace=True)\n",
    "val_data.reset_index(inplace=True)"
   ]
  },
  {
   "cell_type": "code",
   "execution_count": 30,
   "id": "e93e40c2-34b1-4bf7-b835-9718fe3f6039",
   "metadata": {
    "execution": {
     "iopub.execute_input": "2025-01-11T09:07:25.097335Z",
     "iopub.status.busy": "2025-01-11T09:07:25.096958Z",
     "iopub.status.idle": "2025-01-11T09:07:25.102056Z",
     "shell.execute_reply": "2025-01-11T09:07:25.101582Z",
     "shell.execute_reply.started": "2025-01-11T09:07:25.097313Z"
    }
   },
   "outputs": [
    {
     "data": {
      "text/plain": [
       "label\n",
       "0    1512\n",
       "1     953\n",
       "Name: count, dtype: int64"
      ]
     },
     "execution_count": 30,
     "metadata": {},
     "output_type": "execute_result"
    }
   ],
   "source": [
    "train_data['label'].value_counts()"
   ]
  },
  {
   "cell_type": "code",
   "execution_count": 31,
   "id": "6b52cd58-8ced-4995-a326-22fbb809b527",
   "metadata": {
    "execution": {
     "iopub.execute_input": "2025-01-11T09:07:25.102878Z",
     "iopub.status.busy": "2025-01-11T09:07:25.102702Z",
     "iopub.status.idle": "2025-01-11T09:07:25.110591Z",
     "shell.execute_reply": "2025-01-11T09:07:25.110109Z",
     "shell.execute_reply.started": "2025-01-11T09:07:25.102858Z"
    }
   },
   "outputs": [
    {
     "data": {
      "text/html": [
       "<div>\n",
       "<style scoped>\n",
       "    .dataframe tbody tr th:only-of-type {\n",
       "        vertical-align: middle;\n",
       "    }\n",
       "\n",
       "    .dataframe tbody tr th {\n",
       "        vertical-align: top;\n",
       "    }\n",
       "\n",
       "    .dataframe thead th {\n",
       "        text-align: right;\n",
       "    }\n",
       "</style>\n",
       "<table border=\"1\" class=\"dataframe\">\n",
       "  <thead>\n",
       "    <tr style=\"text-align: right;\">\n",
       "      <th></th>\n",
       "      <th>index</th>\n",
       "      <th>Unnamed: 0</th>\n",
       "      <th>label</th>\n",
       "      <th>message</th>\n",
       "      <th>diff</th>\n",
       "    </tr>\n",
       "  </thead>\n",
       "  <tbody>\n",
       "    <tr>\n",
       "      <th>0</th>\n",
       "      <td>5106</td>\n",
       "      <td>5106</td>\n",
       "      <td>0</td>\n",
       "      <td>Merge pull request #6 from daniel-beck-bot/htt...</td>\n",
       "      <td>diff --git a/pom.xml b/pom.xml\\nindex 661ce51....</td>\n",
       "    </tr>\n",
       "    <tr>\n",
       "      <th>1</th>\n",
       "      <td>3322</td>\n",
       "      <td>3322</td>\n",
       "      <td>0</td>\n",
       "      <td>Fix Gitter badge</td>\n",
       "      <td>diff --git a/README.md b/README.md\\nindex eff9...</td>\n",
       "    </tr>\n",
       "    <tr>\n",
       "      <th>2</th>\n",
       "      <td>3187</td>\n",
       "      <td>3187</td>\n",
       "      <td>1</td>\n",
       "      <td>Check for presence of crsf in admin scripts</td>\n",
       "      <td>diff --git a/src/Lua.cpp b/src/Lua.cpp\\nindex ...</td>\n",
       "    </tr>\n",
       "    <tr>\n",
       "      <th>3</th>\n",
       "      <td>8592</td>\n",
       "      <td>8592</td>\n",
       "      <td>0</td>\n",
       "      <td>Fixed link errors</td>\n",
       "      <td>diff --git a/src/irisnet/CMakeLists.txt b/src/...</td>\n",
       "    </tr>\n",
       "    <tr>\n",
       "      <th>4</th>\n",
       "      <td>7272</td>\n",
       "      <td>7272</td>\n",
       "      <td>0</td>\n",
       "      <td>Fixed memory corruption introduced when creati...</td>\n",
       "      <td>diff --git a/Doxyfile b/Doxyfile\\nindex f88538...</td>\n",
       "    </tr>\n",
       "    <tr>\n",
       "      <th>...</th>\n",
       "      <td>...</td>\n",
       "      <td>...</td>\n",
       "      <td>...</td>\n",
       "      <td>...</td>\n",
       "      <td>...</td>\n",
       "    </tr>\n",
       "    <tr>\n",
       "      <th>524</th>\n",
       "      <td>1500</td>\n",
       "      <td>1500</td>\n",
       "      <td>0</td>\n",
       "      <td>...</td>\n",
       "      <td>diff --git a/config/policy.xml b/config/policy...</td>\n",
       "    </tr>\n",
       "    <tr>\n",
       "      <th>525</th>\n",
       "      <td>1141</td>\n",
       "      <td>1141</td>\n",
       "      <td>0</td>\n",
       "      <td>SONY: added ImageCount3</td>\n",
       "      <td>diff --git a/dcraw/dcraw.c b/dcraw/dcraw.c\\nin...</td>\n",
       "    </tr>\n",
       "    <tr>\n",
       "      <th>526</th>\n",
       "      <td>2921</td>\n",
       "      <td>2921</td>\n",
       "      <td>1</td>\n",
       "      <td>Fix bug #68942 (Use after free vulnerability i...</td>\n",
       "      <td>diff --git a/NEWS b/NEWS\\nindex 0d93c47b02007....</td>\n",
       "    </tr>\n",
       "    <tr>\n",
       "      <th>527</th>\n",
       "      <td>8292</td>\n",
       "      <td>8292</td>\n",
       "      <td>0</td>\n",
       "      <td>先把 zbpimage 和 thumb 改成 thumbnail</td>\n",
       "      <td>diff --git a/zb_system/function/c_system_event...</td>\n",
       "    </tr>\n",
       "    <tr>\n",
       "      <th>528</th>\n",
       "      <td>2989</td>\n",
       "      <td>2989</td>\n",
       "      <td>1</td>\n",
       "      <td>Ensure request and response facades are used w...</td>\n",
       "      <td>diff --git a/java/org/apache/catalina/authenti...</td>\n",
       "    </tr>\n",
       "  </tbody>\n",
       "</table>\n",
       "<p>529 rows × 5 columns</p>\n",
       "</div>"
      ],
      "text/plain": [
       "     index  Unnamed: 0  label  \\\n",
       "0     5106        5106      0   \n",
       "1     3322        3322      0   \n",
       "2     3187        3187      1   \n",
       "3     8592        8592      0   \n",
       "4     7272        7272      0   \n",
       "..     ...         ...    ...   \n",
       "524   1500        1500      0   \n",
       "525   1141        1141      0   \n",
       "526   2921        2921      1   \n",
       "527   8292        8292      0   \n",
       "528   2989        2989      1   \n",
       "\n",
       "                                               message  \\\n",
       "0    Merge pull request #6 from daniel-beck-bot/htt...   \n",
       "1                                     Fix Gitter badge   \n",
       "2          Check for presence of crsf in admin scripts   \n",
       "3                                    Fixed link errors   \n",
       "4    Fixed memory corruption introduced when creati...   \n",
       "..                                                 ...   \n",
       "524                                                ...   \n",
       "525                            SONY: added ImageCount3   \n",
       "526  Fix bug #68942 (Use after free vulnerability i...   \n",
       "527                   先把 zbpimage 和 thumb 改成 thumbnail   \n",
       "528  Ensure request and response facades are used w...   \n",
       "\n",
       "                                                  diff  \n",
       "0    diff --git a/pom.xml b/pom.xml\\nindex 661ce51....  \n",
       "1    diff --git a/README.md b/README.md\\nindex eff9...  \n",
       "2    diff --git a/src/Lua.cpp b/src/Lua.cpp\\nindex ...  \n",
       "3    diff --git a/src/irisnet/CMakeLists.txt b/src/...  \n",
       "4    diff --git a/Doxyfile b/Doxyfile\\nindex f88538...  \n",
       "..                                                 ...  \n",
       "524  diff --git a/config/policy.xml b/config/policy...  \n",
       "525  diff --git a/dcraw/dcraw.c b/dcraw/dcraw.c\\nin...  \n",
       "526  diff --git a/NEWS b/NEWS\\nindex 0d93c47b02007....  \n",
       "527  diff --git a/zb_system/function/c_system_event...  \n",
       "528  diff --git a/java/org/apache/catalina/authenti...  \n",
       "\n",
       "[529 rows x 5 columns]"
      ]
     },
     "execution_count": 31,
     "metadata": {},
     "output_type": "execute_result"
    }
   ],
   "source": [
    "val_data"
   ]
  },
  {
   "cell_type": "code",
   "execution_count": 32,
   "id": "ec21761f-b693-4295-b2ed-e47220d2cb3b",
   "metadata": {
    "execution": {
     "iopub.execute_input": "2025-01-11T09:07:25.111448Z",
     "iopub.status.busy": "2025-01-11T09:07:25.111266Z",
     "iopub.status.idle": "2025-01-11T09:07:25.115842Z",
     "shell.execute_reply": "2025-01-11T09:07:25.115368Z",
     "shell.execute_reply.started": "2025-01-11T09:07:25.111427Z"
    }
   },
   "outputs": [
    {
     "data": {
      "text/plain": [
       "24628.147448015123"
      ]
     },
     "execution_count": 32,
     "metadata": {},
     "output_type": "execute_result"
    }
   ],
   "source": [
    "val_data['diff'].str.len().mean()"
   ]
  },
  {
   "cell_type": "code",
   "execution_count": 33,
   "id": "594e7b0d-1718-47e5-8b68-b27a016c61c5",
   "metadata": {
    "execution": {
     "iopub.execute_input": "2025-01-11T09:07:25.117002Z",
     "iopub.status.busy": "2025-01-11T09:07:25.116493Z",
     "iopub.status.idle": "2025-01-11T09:07:25.124179Z",
     "shell.execute_reply": "2025-01-11T09:07:25.123699Z",
     "shell.execute_reply.started": "2025-01-11T09:07:25.116979Z"
    }
   },
   "outputs": [
    {
     "data": {
      "text/html": [
       "<div>\n",
       "<style scoped>\n",
       "    .dataframe tbody tr th:only-of-type {\n",
       "        vertical-align: middle;\n",
       "    }\n",
       "\n",
       "    .dataframe tbody tr th {\n",
       "        vertical-align: top;\n",
       "    }\n",
       "\n",
       "    .dataframe thead th {\n",
       "        text-align: right;\n",
       "    }\n",
       "</style>\n",
       "<table border=\"1\" class=\"dataframe\">\n",
       "  <thead>\n",
       "    <tr style=\"text-align: right;\">\n",
       "      <th></th>\n",
       "      <th>index</th>\n",
       "      <th>Unnamed: 0</th>\n",
       "      <th>label</th>\n",
       "      <th>message</th>\n",
       "      <th>diff</th>\n",
       "    </tr>\n",
       "  </thead>\n",
       "  <tbody>\n",
       "    <tr>\n",
       "      <th>0</th>\n",
       "      <td>5106</td>\n",
       "      <td>5106</td>\n",
       "      <td>0</td>\n",
       "      <td>Merge pull request #6 from daniel-beck-bot/htt...</td>\n",
       "      <td>diff --git a/pom.xml b/pom.xml\\nindex 661ce51....</td>\n",
       "    </tr>\n",
       "    <tr>\n",
       "      <th>1</th>\n",
       "      <td>3322</td>\n",
       "      <td>3322</td>\n",
       "      <td>0</td>\n",
       "      <td>Fix Gitter badge</td>\n",
       "      <td>diff --git a/README.md b/README.md\\nindex eff9...</td>\n",
       "    </tr>\n",
       "    <tr>\n",
       "      <th>2</th>\n",
       "      <td>3187</td>\n",
       "      <td>3187</td>\n",
       "      <td>1</td>\n",
       "      <td>Check for presence of crsf in admin scripts</td>\n",
       "      <td>diff --git a/src/Lua.cpp b/src/Lua.cpp\\nindex ...</td>\n",
       "    </tr>\n",
       "    <tr>\n",
       "      <th>3</th>\n",
       "      <td>8592</td>\n",
       "      <td>8592</td>\n",
       "      <td>0</td>\n",
       "      <td>Fixed link errors</td>\n",
       "      <td>diff --git a/src/irisnet/CMakeLists.txt b/src/...</td>\n",
       "    </tr>\n",
       "    <tr>\n",
       "      <th>4</th>\n",
       "      <td>7272</td>\n",
       "      <td>7272</td>\n",
       "      <td>0</td>\n",
       "      <td>Fixed memory corruption introduced when creati...</td>\n",
       "      <td>diff --git a/Doxyfile b/Doxyfile\\nindex f88538...</td>\n",
       "    </tr>\n",
       "    <tr>\n",
       "      <th>...</th>\n",
       "      <td>...</td>\n",
       "      <td>...</td>\n",
       "      <td>...</td>\n",
       "      <td>...</td>\n",
       "      <td>...</td>\n",
       "    </tr>\n",
       "    <tr>\n",
       "      <th>524</th>\n",
       "      <td>1500</td>\n",
       "      <td>1500</td>\n",
       "      <td>0</td>\n",
       "      <td>...</td>\n",
       "      <td>diff --git a/config/policy.xml b/config/policy...</td>\n",
       "    </tr>\n",
       "    <tr>\n",
       "      <th>525</th>\n",
       "      <td>1141</td>\n",
       "      <td>1141</td>\n",
       "      <td>0</td>\n",
       "      <td>SONY: added ImageCount3</td>\n",
       "      <td>diff --git a/dcraw/dcraw.c b/dcraw/dcraw.c\\nin...</td>\n",
       "    </tr>\n",
       "    <tr>\n",
       "      <th>526</th>\n",
       "      <td>2921</td>\n",
       "      <td>2921</td>\n",
       "      <td>1</td>\n",
       "      <td>Fix bug #68942 (Use after free vulnerability i...</td>\n",
       "      <td>diff --git a/NEWS b/NEWS\\nindex 0d93c47b02007....</td>\n",
       "    </tr>\n",
       "    <tr>\n",
       "      <th>527</th>\n",
       "      <td>8292</td>\n",
       "      <td>8292</td>\n",
       "      <td>0</td>\n",
       "      <td>先把 zbpimage 和 thumb 改成 thumbnail</td>\n",
       "      <td>diff --git a/zb_system/function/c_system_event...</td>\n",
       "    </tr>\n",
       "    <tr>\n",
       "      <th>528</th>\n",
       "      <td>2989</td>\n",
       "      <td>2989</td>\n",
       "      <td>1</td>\n",
       "      <td>Ensure request and response facades are used w...</td>\n",
       "      <td>diff --git a/java/org/apache/catalina/authenti...</td>\n",
       "    </tr>\n",
       "  </tbody>\n",
       "</table>\n",
       "<p>529 rows × 5 columns</p>\n",
       "</div>"
      ],
      "text/plain": [
       "     index  Unnamed: 0  label  \\\n",
       "0     5106        5106      0   \n",
       "1     3322        3322      0   \n",
       "2     3187        3187      1   \n",
       "3     8592        8592      0   \n",
       "4     7272        7272      0   \n",
       "..     ...         ...    ...   \n",
       "524   1500        1500      0   \n",
       "525   1141        1141      0   \n",
       "526   2921        2921      1   \n",
       "527   8292        8292      0   \n",
       "528   2989        2989      1   \n",
       "\n",
       "                                               message  \\\n",
       "0    Merge pull request #6 from daniel-beck-bot/htt...   \n",
       "1                                     Fix Gitter badge   \n",
       "2          Check for presence of crsf in admin scripts   \n",
       "3                                    Fixed link errors   \n",
       "4    Fixed memory corruption introduced when creati...   \n",
       "..                                                 ...   \n",
       "524                                                ...   \n",
       "525                            SONY: added ImageCount3   \n",
       "526  Fix bug #68942 (Use after free vulnerability i...   \n",
       "527                   先把 zbpimage 和 thumb 改成 thumbnail   \n",
       "528  Ensure request and response facades are used w...   \n",
       "\n",
       "                                                  diff  \n",
       "0    diff --git a/pom.xml b/pom.xml\\nindex 661ce51....  \n",
       "1    diff --git a/README.md b/README.md\\nindex eff9...  \n",
       "2    diff --git a/src/Lua.cpp b/src/Lua.cpp\\nindex ...  \n",
       "3    diff --git a/src/irisnet/CMakeLists.txt b/src/...  \n",
       "4    diff --git a/Doxyfile b/Doxyfile\\nindex f88538...  \n",
       "..                                                 ...  \n",
       "524  diff --git a/config/policy.xml b/config/policy...  \n",
       "525  diff --git a/dcraw/dcraw.c b/dcraw/dcraw.c\\nin...  \n",
       "526  diff --git a/NEWS b/NEWS\\nindex 0d93c47b02007....  \n",
       "527  diff --git a/zb_system/function/c_system_event...  \n",
       "528  diff --git a/java/org/apache/catalina/authenti...  \n",
       "\n",
       "[529 rows x 5 columns]"
      ]
     },
     "execution_count": 33,
     "metadata": {},
     "output_type": "execute_result"
    }
   ],
   "source": [
    "val_data"
   ]
  },
  {
   "cell_type": "code",
   "execution_count": 34,
   "id": "1549be02-6f6b-41e5-bd04-d3e164061eec",
   "metadata": {
    "execution": {
     "iopub.execute_input": "2025-01-11T09:07:25.125051Z",
     "iopub.status.busy": "2025-01-11T09:07:25.124867Z",
     "iopub.status.idle": "2025-01-11T09:07:25.141523Z",
     "shell.execute_reply": "2025-01-11T09:07:25.140890Z",
     "shell.execute_reply.started": "2025-01-11T09:07:25.125030Z"
    }
   },
   "outputs": [],
   "source": [
    "import pandas as pd\n",
    "import gensim\n",
    "import torch\n",
    "import torch.nn as nn\n",
    "import torch.optim as optim\n",
    "from torch.utils.data import DataLoader, Dataset\n",
    "import numpy as np\n",
    "\n",
    "# 构建自定义数据集\n",
    "class TextDataset(Dataset):\n",
    "    def __init__(self, df, message_vocab, code_vocab, max_len):\n",
    "        self.messages = df[\"message\"].apply(lambda x: self.encode_text(x.split(), message_vocab, max_len)).tolist()\n",
    "        self.codes = df[\"diff\"].apply(lambda x: self.encode_text(x.split(), code_vocab, max_len)).tolist()\n",
    "        self.labels = df[\"label\"].tolist()\n",
    "\n",
    "    def __len__(self):\n",
    "        return len(self.labels)\n",
    "\n",
    "    def __getitem__(self, idx):\n",
    "        messages = np.array(self.messages[idx], dtype=np.int64)\n",
    "        codes = np.array(self.codes[idx], dtype=np.int64)\n",
    "        label = int(self.labels[idx])  # 确保单个标量是整数类型\n",
    "        return messages, codes, label\n",
    "\n",
    "    @staticmethod\n",
    "    def encode_text(text, vocab, max_len):\n",
    "        encoded = [vocab[word] if word in vocab else 0 for word in text]\n",
    "        return encoded + [0] * (max_len - len(encoded))\n",
    "\n",
    "\n",
    "def collate_fn(batch):\n",
    "    messages, codes, labels = zip(*batch)\n",
    "    \n",
    "    # 确保 messages 和 codes 是二维张量，并填充\n",
    "    messages = pad_sequence([torch.tensor(msg, dtype=torch.long) for msg in messages], batch_first=True, padding_value=0)\n",
    "    codes = pad_sequence([torch.tensor(code, dtype=torch.long) for code in codes], batch_first=True, padding_value=0)\n",
    "    \n",
    "    # 确保 labels 是一维张量\n",
    "    labels = torch.tensor(labels, dtype=torch.long)\n",
    "    return messages, codes, labels\n",
    "    \n",
    "# 使用 gensim 训练 Word2Vec 模型\n",
    "def train_word2vec(sentences, vector_size=100, window=5, min_count=1):\n",
    "    model = gensim.models.Word2Vec(sentences, vector_size=vector_size, window=window, min_count=min_count)\n",
    "    return model\n",
    "\n",
    "# 定义 LSTM + CNN 模型\n",
    "class LSTM_CNN_Model(nn.Module):\n",
    "    def __init__(self, message_vocab_size, code_vocab_size, embedding_dim, hidden_dim, lstm_layers, cnn_out_channels, num_classes, \n",
    "                 message_embedding_matrix=None, code_embedding_matrix=None):\n",
    "        super(LSTM_CNN_Model, self).__init__()\n",
    "        \n",
    "        # Embedding Layers for message and code\n",
    "        self.message_embedding = nn.Embedding(message_vocab_size, embedding_dim)\n",
    "        self.code_embedding = nn.Embedding(code_vocab_size, embedding_dim)\n",
    "        \n",
    "        if message_embedding_matrix is not None:\n",
    "            self.message_embedding.weight = nn.Parameter(torch.tensor(message_embedding_matrix, dtype=torch.float32))\n",
    "            self.message_embedding.weight.requires_grad = False\n",
    "        \n",
    "        if code_embedding_matrix is not None:\n",
    "            self.code_embedding.weight = nn.Parameter(torch.tensor(code_embedding_matrix, dtype=torch.float32))\n",
    "            self.code_embedding.weight.requires_grad = False\n",
    "        \n",
    "        # LSTM Layers\n",
    "        self.message_lstm = nn.LSTM(embedding_dim, hidden_dim, lstm_layers, batch_first=True, bidirectional=True)\n",
    "        self.code_lstm = nn.LSTM(embedding_dim, hidden_dim, lstm_layers, batch_first=True, bidirectional=True)\n",
    "        \n",
    "        # CNN Layers\n",
    "        self.message_conv1d = nn.Conv1d(in_channels=hidden_dim * 2, out_channels=cnn_out_channels, kernel_size=3, stride=1, padding=1)\n",
    "        self.code_conv1d = nn.Conv1d(in_channels=hidden_dim * 2, out_channels=cnn_out_channels, kernel_size=3, stride=1, padding=1)\n",
    "        \n",
    "        # Fully Connected Layer\n",
    "        self.fc = nn.Linear(cnn_out_channels * 2, num_classes)\n",
    "\n",
    "    def forward(self, message, code):\n",
    "        # Process message\n",
    "        message_embed = self.message_embedding(message)\n",
    "        message_lstm_out, _ = self.message_lstm(message_embed)\n",
    "        message_lstm_out = message_lstm_out.permute(0, 2, 1)  # Change to (batch, channels, seq_len)\n",
    "        message_features = torch.relu(self.message_conv1d(message_lstm_out))\n",
    "        message_features = torch.mean(message_features, dim=2)  # Global Average Pooling\n",
    "        \n",
    "        # Process code\n",
    "        code_embed = self.code_embedding(code)\n",
    "        code_lstm_out, _ = self.code_lstm(code_embed)\n",
    "        code_lstm_out = code_lstm_out.permute(0, 2, 1)  # Change to (batch, channels, seq_len)\n",
    "        code_features = torch.relu(self.code_conv1d(code_lstm_out))\n",
    "        code_features = torch.mean(code_features, dim=2)  # Global Average Pooling\n",
    "        \n",
    "        # Combine features\n",
    "        combined_features = torch.cat([message_features, code_features], dim=1)\n",
    "        output = self.fc(combined_features)\n",
    "        return output\n",
    "\n"
   ]
  },
  {
   "cell_type": "code",
   "execution_count": 35,
   "id": "def4bb0a-419c-46fb-b61b-c9f1a98f0caa",
   "metadata": {
    "execution": {
     "iopub.execute_input": "2025-01-11T09:07:25.142421Z",
     "iopub.status.busy": "2025-01-11T09:07:25.142236Z",
     "iopub.status.idle": "2025-01-11T09:07:25.146046Z",
     "shell.execute_reply": "2025-01-11T09:07:25.145569Z",
     "shell.execute_reply.started": "2025-01-11T09:07:25.142400Z"
    }
   },
   "outputs": [
    {
     "data": {
      "text/plain": [
       "2465"
      ]
     },
     "execution_count": 35,
     "metadata": {},
     "output_type": "execute_result"
    }
   ],
   "source": [
    "len(train_data)"
   ]
  },
  {
   "cell_type": "code",
   "execution_count": 36,
   "id": "4e01924f-b8a3-4282-acf6-6d38aee2620c",
   "metadata": {
    "execution": {
     "iopub.execute_input": "2025-01-11T09:07:25.146880Z",
     "iopub.status.busy": "2025-01-11T09:07:25.146704Z",
     "iopub.status.idle": "2025-01-11T09:07:50.172700Z",
     "shell.execute_reply": "2025-01-11T09:07:50.171841Z",
     "shell.execute_reply.started": "2025-01-11T09:07:25.146859Z"
    }
   },
   "outputs": [],
   "source": [
    "# 分别训练 Word2Vec 模型\n",
    "message_sentences = [msg.split() for msg in train_data[\"message\"]]\n",
    "code_sentences = [code.split() for code in train_data[\"diff\"]]\n",
    "message_word2vec = train_word2vec(message_sentences, vector_size=100)\n",
    "code_word2vec = train_word2vec(code_sentences, vector_size=100)\n",
    "\n",
    "# 构建词汇表\n",
    "message_vocab = {word: idx for idx, word in enumerate(message_word2vec.wv.index_to_key)}\n",
    "code_vocab = {word: idx for idx, word in enumerate(code_word2vec.wv.index_to_key)}\n",
    "\n",
    "# 构建嵌入矩阵\n",
    "message_embedding_matrix = np.zeros((len(message_vocab), 100))\n",
    "for word, idx in message_vocab.items():\n",
    "    message_embedding_matrix[idx] = message_word2vec.wv[word]\n",
    "\n",
    "code_embedding_matrix = np.zeros((len(code_vocab), 100))\n",
    "for word, idx in code_vocab.items():\n",
    "    code_embedding_matrix[idx] = code_word2vec.wv[word]\n",
    "\n",
    "# 数据处理\n",
    "max_len = 10\n",
    "train_dataset = TextDataset(train_data, message_vocab, code_vocab, max_len)\n",
    "# 创建 DataLoader 时指定 collate_fn\n",
    "train_loader = DataLoader(train_dataset, batch_size=4, shuffle=True, collate_fn=collate_fn)"
   ]
  },
  {
   "cell_type": "code",
   "execution_count": 37,
   "id": "7ed3c4b6-0928-41ca-9284-04007afa5d06",
   "metadata": {
    "execution": {
     "iopub.execute_input": "2025-01-11T09:07:50.173920Z",
     "iopub.status.busy": "2025-01-11T09:07:50.173724Z",
     "iopub.status.idle": "2025-01-11T09:07:50.178008Z",
     "shell.execute_reply": "2025-01-11T09:07:50.177146Z",
     "shell.execute_reply.started": "2025-01-11T09:07:50.173898Z"
    }
   },
   "outputs": [],
   "source": [
    "device = torch.device('cpu')"
   ]
  },
  {
   "cell_type": "code",
   "execution_count": null,
   "id": "aada9098-614e-41ad-9c41-f54d8167d618",
   "metadata": {},
   "outputs": [],
   "source": []
  },
  {
   "cell_type": "code",
   "execution_count": 38,
   "id": "92009384-7770-4b2a-97b2-c0b4d209a0a7",
   "metadata": {
    "execution": {
     "iopub.execute_input": "2025-01-11T09:07:50.178973Z",
     "iopub.status.busy": "2025-01-11T09:07:50.178796Z",
     "iopub.status.idle": "2025-01-11T09:07:50.435420Z",
     "shell.execute_reply": "2025-01-11T09:07:50.434575Z",
     "shell.execute_reply.started": "2025-01-11T09:07:50.178953Z"
    }
   },
   "outputs": [],
   "source": [
    "test_dataset = TextDataset(test_data, message_vocab, code_vocab, max_len)\n",
    "# 创建 DataLoader 时指定 collate_fn\n",
    "test_loader = DataLoader(test_dataset, batch_size=4, shuffle=True, collate_fn=collate_fn)"
   ]
  },
  {
   "cell_type": "code",
   "execution_count": 39,
   "id": "a9fa75e6-a2f6-455a-b588-5756a3963c31",
   "metadata": {
    "execution": {
     "iopub.execute_input": "2025-01-11T09:07:50.436784Z",
     "iopub.status.busy": "2025-01-11T09:07:50.436401Z",
     "iopub.status.idle": "2025-01-11T09:07:50.449896Z",
     "shell.execute_reply": "2025-01-11T09:07:50.448941Z",
     "shell.execute_reply.started": "2025-01-11T09:07:50.436761Z"
    }
   },
   "outputs": [],
   "source": [
    "from sklearn.metrics import precision_score, recall_score, f1_score\n",
    "\n",
    "def evaluate(model, data_loader, criterion):\n",
    "    \"\"\"\n",
    "    Evaluate the model on the test dataset, computing loss, accuracy, precision, recall, and F1 score.\n",
    "    \n",
    "    Args:\n",
    "        model: PyTorch model to evaluate.\n",
    "        data_loader: DataLoader for the test dataset.\n",
    "        criterion: Loss function to evaluate the model's performance.\n",
    "    \n",
    "    Returns:\n",
    "        avg_loss: Average loss on the test dataset.\n",
    "        accuracy: Accuracy of the model on the test dataset.\n",
    "        precision: Precision score for the test dataset.\n",
    "        recall: Recall score for the test dataset.\n",
    "        f1: F1 score for the test dataset.\n",
    "    \"\"\"\n",
    "    model.eval()  # Set the model to evaluation mode\n",
    "    total_loss = 0.0\n",
    "    total_correct = 0\n",
    "    total_samples = 0\n",
    "    all_labels = []\n",
    "    all_preds = []\n",
    "\n",
    "    with torch.no_grad():  # Disable gradient computation for evaluation\n",
    "        for messages, codes, labels in data_loader:\n",
    "            # Move data to the specified device\n",
    "            \n",
    "            # 将数据移动到设备\n",
    "            messages, codes, labels = (\n",
    "                messages.to(device),\n",
    "                codes.to(device),\n",
    "                labels.to(device),\n",
    "            )\n",
    "            \n",
    "            # Forward pass\n",
    "            outputs = model(messages, codes)\n",
    "            loss = criterion(outputs, labels)\n",
    "            \n",
    "            # Update loss\n",
    "            total_loss += loss.item() * labels.size(0)  # Multiply by batch size\n",
    "            \n",
    "            # Compute predictions\n",
    "            _, predicted = torch.max(outputs, dim=1)\n",
    "            total_correct += (predicted == labels).sum().item()\n",
    "            total_samples += labels.size(0)\n",
    "            \n",
    "            # Collect predictions and true labels for metrics\n",
    "            all_labels.extend(labels.cpu().numpy())\n",
    "            all_preds.extend(predicted.cpu().numpy())\n",
    "    \n",
    "    # Compute average loss and accuracy\n",
    "    avg_loss = total_loss / total_samples\n",
    "    accuracy = total_correct / total_samples\n",
    "    \n",
    "    # Compute precision, recall, and F1 score\n",
    "    precision = precision_score(all_labels, all_preds, average=\"weighted\", zero_division=0)\n",
    "    recall = recall_score(all_labels, all_preds, average=\"weighted\", zero_division=0)\n",
    "    f1 = f1_score(all_labels, all_preds, average=\"weighted\", zero_division=0)\n",
    "    print(f'Validation Accuracy: {accuracy}')\n",
    "    print(f'Precision: {precision}')\n",
    "    print(f'Recall: {recall}')\n",
    "    print(f'F1-Score: {f1}')\n",
    "    \n",
    "    return all_labels, all_preds\n"
   ]
  },
  {
   "cell_type": "code",
   "execution_count": 40,
   "id": "030afb11-d884-4cea-ac5f-b7c8247909ee",
   "metadata": {
    "execution": {
     "iopub.execute_input": "2025-01-11T09:07:50.450983Z",
     "iopub.status.busy": "2025-01-11T09:07:50.450787Z",
     "iopub.status.idle": "2025-01-11T09:07:50.559241Z",
     "shell.execute_reply": "2025-01-11T09:07:50.558407Z",
     "shell.execute_reply.started": "2025-01-11T09:07:50.450961Z"
    }
   },
   "outputs": [],
   "source": [
    "model = torch.load(\"SPI_entire_bert_model_900repo.pth\")"
   ]
  },
  {
   "cell_type": "code",
   "execution_count": 41,
   "id": "11b0b72c-7a25-4c14-981a-5f2ee3e53f3f",
   "metadata": {
    "execution": {
     "iopub.execute_input": "2025-01-11T09:07:50.560397Z",
     "iopub.status.busy": "2025-01-11T09:07:50.560193Z",
     "iopub.status.idle": "2025-01-11T09:07:50.588957Z",
     "shell.execute_reply": "2025-01-11T09:07:50.587997Z",
     "shell.execute_reply.started": "2025-01-11T09:07:50.560375Z"
    }
   },
   "outputs": [],
   "source": [
    "criterion = nn.CrossEntropyLoss()\n",
    "optimizer = optim.Adam(model.parameters(), lr=0.001)"
   ]
  },
  {
   "cell_type": "code",
   "execution_count": 42,
   "id": "5878d2a3-fe90-45b1-9486-739c4fee6004",
   "metadata": {
    "execution": {
     "iopub.execute_input": "2025-01-11T09:07:50.590104Z",
     "iopub.status.busy": "2025-01-11T09:07:50.589880Z",
     "iopub.status.idle": "2025-01-11T09:08:35.391978Z",
     "shell.execute_reply": "2025-01-11T09:08:35.391127Z",
     "shell.execute_reply.started": "2025-01-11T09:07:50.590082Z"
    }
   },
   "outputs": [
    {
     "name": "stdout",
     "output_type": "stream",
     "text": [
      "Validation Accuracy: 0.6818181818181818\n",
      "Precision: 0.732382962822135\n",
      "Recall: 0.6818181818181818\n",
      "F1-Score: 0.6872118753457496\n"
     ]
    }
   ],
   "source": [
    "# Evaluate the model\n",
    "all_labels,all_preds = evaluate(model, test_loader, criterion)\n"
   ]
  },
  {
   "cell_type": "code",
   "execution_count": 43,
   "id": "5e4b2c38-1a70-4291-86ba-9a32eef19ae8",
   "metadata": {
    "execution": {
     "iopub.execute_input": "2025-01-11T09:08:35.393080Z",
     "iopub.status.busy": "2025-01-11T09:08:35.392891Z",
     "iopub.status.idle": "2025-01-11T09:08:35.403315Z",
     "shell.execute_reply": "2025-01-11T09:08:35.402602Z",
     "shell.execute_reply.started": "2025-01-11T09:08:35.393058Z"
    }
   },
   "outputs": [
    {
     "name": "stdout",
     "output_type": "stream",
     "text": [
      "              precision    recall  f1-score   support\n",
      "\n",
      "           0     0.8408    0.6149    0.7103       335\n",
      "           1     0.5442    0.7979    0.6471       193\n",
      "\n",
      "    accuracy                         0.6818       528\n",
      "   macro avg     0.6925    0.7064    0.6787       528\n",
      "weighted avg     0.7324    0.6818    0.6872       528\n",
      "\n"
     ]
    }
   ],
   "source": [
    "print(classification_report(all_labels,all_preds,digits=4))"
   ]
  },
  {
   "cell_type": "code",
   "execution_count": null,
   "id": "4cf6cd1e-74d5-4c68-8649-c9465549646e",
   "metadata": {},
   "outputs": [],
   "source": []
  },
  {
   "cell_type": "code",
   "execution_count": 44,
   "id": "bf19d667-f13b-4286-a1aa-6dbef58828ed",
   "metadata": {
    "execution": {
     "iopub.execute_input": "2025-01-11T09:08:35.404390Z",
     "iopub.status.busy": "2025-01-11T09:08:35.404112Z",
     "iopub.status.idle": "2025-01-11T09:08:36.340362Z",
     "shell.execute_reply": "2025-01-11T09:08:36.339096Z",
     "shell.execute_reply.started": "2025-01-11T09:08:35.404368Z"
    }
   },
   "outputs": [
    {
     "name": "stdout",
     "output_type": "stream",
     "text": [
      "在线模型训练完毕\n"
     ]
    }
   ],
   "source": [
    "#发送多种类型的邮件\n",
    "from email.mime.multipart import MIMEMultipart\n",
    "import smtplib\n",
    "\n",
    "from email.mime.text import MIMEText\n",
    "msg_from = '915803745@qq.com'  # 发送方邮箱\n",
    "passwd = 'vcuosuurrgkfbdai'   #就是上面的授权码\n",
    " \n",
    "# to= ['g.zhang@gotion.com', 'j.tong@gotion.com'] #接受方邮箱\n",
    "to= ['j.tong@gotion.com'] #接受方邮箱\n",
    "#设置邮件内容\n",
    "#MIMEMultipart类可以放任何内容\n",
    "msg = MIMEMultipart()\n",
    "conntent=\"在线模型训练完毕\"\n",
    "#把内容加进去\n",
    "msg.attach(MIMEText(conntent,'plain','utf-8'))\n",
    " \n",
    "#设置邮件主题\n",
    "msg['Subject']=\"在线模型训练完毕\"\n",
    " \n",
    "#发送方信息\n",
    "msg['From']=msg_from\n",
    " \n",
    "#开始发送\n",
    " \n",
    "#通过SSL方式发送，服务器地址和端口\n",
    "s = smtplib.SMTP_SSL(\"smtp.qq.com\", 465)\n",
    "# 登录邮箱\n",
    "s.login(msg_from, passwd)\n",
    "#开始发送\n",
    "s.sendmail(msg_from,to,msg.as_string())\n",
    "print(\"在线模型训练完毕\")"
   ]
  },
  {
   "cell_type": "code",
   "execution_count": null,
   "id": "0040dfb2-eff0-4087-b618-a82f286940a2",
   "metadata": {},
   "outputs": [],
   "source": []
  }
 ],
 "metadata": {
  "kernelspec": {
   "display_name": "Python 3 (ipykernel)",
   "language": "python",
   "name": "python3"
  },
  "language_info": {
   "codemirror_mode": {
    "name": "ipython",
    "version": 3
   },
   "file_extension": ".py",
   "mimetype": "text/x-python",
   "name": "python",
   "nbconvert_exporter": "python",
   "pygments_lexer": "ipython3",
   "version": "3.10.8"
  }
 },
 "nbformat": 4,
 "nbformat_minor": 5
}
