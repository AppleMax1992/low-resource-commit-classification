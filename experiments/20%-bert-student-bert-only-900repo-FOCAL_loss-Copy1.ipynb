{
 "cells": [
  {
   "cell_type": "code",
   "execution_count": 1,
   "id": "9f82a8cc-7b02-48d7-a783-6e89bccff8b2",
   "metadata": {
    "execution": {
     "iopub.execute_input": "2025-01-10T09:28:13.187819Z",
     "iopub.status.busy": "2025-01-10T09:28:13.187626Z",
     "iopub.status.idle": "2025-01-10T09:28:16.100668Z",
     "shell.execute_reply": "2025-01-10T09:28:16.100022Z",
     "shell.execute_reply.started": "2025-01-10T09:28:13.187796Z"
    }
   },
   "outputs": [
    {
     "name": "stdout",
     "output_type": "stream",
     "text": [
      "\n",
      "root\n",
      "ensemble_commit\n",
      "/root/ensemble_commit\n"
     ]
    }
   ],
   "source": [
    "import pandas as pd\n",
    "from sklearn.model_selection import train_test_split\n",
    "import torch\n",
    "import os\n",
    "\n",
    "notebook_path = os.path.abspath('')\n",
    "import sys\n",
    "# Find the part of the path that contains 'commitFit'\n",
    "commit_fit_path = None\n",
    "for part in notebook_path.split(os.sep):\n",
    "    print(part)\n",
    "    if 'ensemble_commit' in part:\n",
    "        commit_fit_path = notebook_path.split(part)[0] + part\n",
    "        print(commit_fit_path)\n",
    "        break\n",
    "\n",
    "if commit_fit_path is None:\n",
    "    raise ValueError(\"Path containing 'ensemble_commit' not found in notebook path.\")\n",
    "\n",
    "\n",
    "if commit_fit_path not in sys.path:\n",
    "    sys.path.append(commit_fit_path)\n",
    "\n",
    "import ensemble_model.preprocesser as preprocesser \n",
    "import ensemble_model.MoE_model_focal_loss as moe \n",
    "from torch.utils.data import Dataset, DataLoader\n",
    "from transformers import BertModel, BertTokenizer, RobertaModel, RobertaTokenizer, DistilBertModel\n",
    "\n",
    "# import whatthepatch\n",
    "import numpy as np\n",
    "from sklearn.manifold import TSNE\n",
    "import matplotlib.pyplot as plt\n",
    "from sklearn.metrics import precision_score, recall_score, f1_score, precision_recall_curve,classification_report\n"
   ]
  },
  {
   "cell_type": "code",
   "execution_count": 2,
   "id": "537e23dd-4090-40f0-8c1c-3ed2e96076cc",
   "metadata": {
    "execution": {
     "iopub.execute_input": "2025-01-10T09:28:16.102552Z",
     "iopub.status.busy": "2025-01-10T09:28:16.102231Z",
     "iopub.status.idle": "2025-01-10T09:28:16.108980Z",
     "shell.execute_reply": "2025-01-10T09:28:16.108473Z",
     "shell.execute_reply.started": "2025-01-10T09:28:16.102527Z"
    }
   },
   "outputs": [
    {
     "data": {
      "text/plain": [
       "ensemble_model.MoE_model_focal_loss.BiLSTMStudent"
      ]
     },
     "execution_count": 2,
     "metadata": {},
     "output_type": "execute_result"
    }
   ],
   "source": [
    "moe.BiLSTMStudent"
   ]
  },
  {
   "cell_type": "code",
   "execution_count": 3,
   "id": "666cb7bc-ce61-42cb-b7fa-934b5e5d3580",
   "metadata": {
    "execution": {
     "iopub.execute_input": "2025-01-10T09:28:16.109904Z",
     "iopub.status.busy": "2025-01-10T09:28:16.109714Z",
     "iopub.status.idle": "2025-01-10T09:28:18.830077Z",
     "shell.execute_reply": "2025-01-10T09:28:18.829268Z",
     "shell.execute_reply.started": "2025-01-10T09:28:16.109883Z"
    }
   },
   "outputs": [
    {
     "name": "stderr",
     "output_type": "stream",
     "text": [
      "/tmp/ipykernel_1876/1052552286.py:4: FutureWarning: Downcasting behavior in `replace` is deprecated and will be removed in a future version. To retain the old behavior, explicitly call `result.infer_objects(copy=False)`. To opt-in to the future behavior, set `pd.set_option('future.no_silent_downcasting', True)`\n",
      "  df = df.replace({\"label\": label2id})\n"
     ]
    },
    {
     "data": {
      "text/html": [
       "<div>\n",
       "<style scoped>\n",
       "    .dataframe tbody tr th:only-of-type {\n",
       "        vertical-align: middle;\n",
       "    }\n",
       "\n",
       "    .dataframe tbody tr th {\n",
       "        vertical-align: top;\n",
       "    }\n",
       "\n",
       "    .dataframe thead th {\n",
       "        text-align: right;\n",
       "    }\n",
       "</style>\n",
       "<table border=\"1\" class=\"dataframe\">\n",
       "  <thead>\n",
       "    <tr style=\"text-align: right;\">\n",
       "      <th></th>\n",
       "      <th>Unnamed: 0</th>\n",
       "      <th>label</th>\n",
       "      <th>message</th>\n",
       "      <th>diff</th>\n",
       "    </tr>\n",
       "  </thead>\n",
       "  <tbody>\n",
       "    <tr>\n",
       "      <th>0</th>\n",
       "      <td>0</td>\n",
       "      <td>0</td>\n",
       "      <td>Merge pull request #46 from rufferson/saslx-tl...</td>\n",
       "      <td>diff --git a/lib/DJabberd.pm b/lib/DJabberd.pm...</td>\n",
       "    </tr>\n",
       "    <tr>\n",
       "      <th>1</th>\n",
       "      <td>1</td>\n",
       "      <td>1</td>\n",
       "      <td>Fix leaks in kadmin server stubs [CVE-2015-863...</td>\n",
       "      <td>diff --git a/src/kadmin/server/server_stubs.c ...</td>\n",
       "    </tr>\n",
       "    <tr>\n",
       "      <th>2</th>\n",
       "      <td>2</td>\n",
       "      <td>1</td>\n",
       "      <td>Validate authorization request on approval\\n\\n...</td>\n",
       "      <td>diff --git a/spring-security-oauth2/src/main/j...</td>\n",
       "    </tr>\n",
       "    <tr>\n",
       "      <th>3</th>\n",
       "      <td>3</td>\n",
       "      <td>1</td>\n",
       "      <td>Release 2.72.4+171110</td>\n",
       "      <td>diff --git a/application/config/version.php b/...</td>\n",
       "    </tr>\n",
       "    <tr>\n",
       "      <th>4</th>\n",
       "      <td>4</td>\n",
       "      <td>0</td>\n",
       "      <td>Fixing compiler warnings.</td>\n",
       "      <td>diff --git a/src/main.c b/src/main.c\\nindex 50...</td>\n",
       "    </tr>\n",
       "    <tr>\n",
       "      <th>...</th>\n",
       "      <td>...</td>\n",
       "      <td>...</td>\n",
       "      <td>...</td>\n",
       "      <td>...</td>\n",
       "    </tr>\n",
       "    <tr>\n",
       "      <th>10107</th>\n",
       "      <td>10107</td>\n",
       "      <td>0</td>\n",
       "      <td>les: remove useless protocol defines (#22115)\\...</td>\n",
       "      <td>diff --git a/les/benchmark.go b/les/benchmark....</td>\n",
       "    </tr>\n",
       "    <tr>\n",
       "      <th>10108</th>\n",
       "      <td>10108</td>\n",
       "      <td>1</td>\n",
       "      <td>Merge pull request #2067 from realm/tg-swift-l...</td>\n",
       "      <td>diff --git a/CHANGELOG.md b/CHANGELOG.md\\ninde...</td>\n",
       "    </tr>\n",
       "    <tr>\n",
       "      <th>10109</th>\n",
       "      <td>10109</td>\n",
       "      <td>0</td>\n",
       "      <td>[fix] 新規アカウント作成ページの翻訳を修正</td>\n",
       "      <td>diff --git a/app/locales/ja_JP/LC_MESSAGES/mes...</td>\n",
       "    </tr>\n",
       "    <tr>\n",
       "      <th>10110</th>\n",
       "      <td>10110</td>\n",
       "      <td>0</td>\n",
       "      <td>Merge branch 'hotfixes'</td>\n",
       "      <td>diff --git a/CHANGELOG.txt b/CHANGELOG.txt\\nin...</td>\n",
       "    </tr>\n",
       "    <tr>\n",
       "      <th>10111</th>\n",
       "      <td>10111</td>\n",
       "      <td>1</td>\n",
       "      <td>HTTPCLIENT-1803: Improved handling of malforme...</td>\n",
       "      <td>diff --git a/httpclient/src/main/java/org/apac...</td>\n",
       "    </tr>\n",
       "  </tbody>\n",
       "</table>\n",
       "<p>10064 rows × 4 columns</p>\n",
       "</div>"
      ],
      "text/plain": [
       "       Unnamed: 0  label                                            message  \\\n",
       "0               0      0  Merge pull request #46 from rufferson/saslx-tl...   \n",
       "1               1      1  Fix leaks in kadmin server stubs [CVE-2015-863...   \n",
       "2               2      1  Validate authorization request on approval\\n\\n...   \n",
       "3               3      1                              Release 2.72.4+171110   \n",
       "4               4      0                          Fixing compiler warnings.   \n",
       "...           ...    ...                                                ...   \n",
       "10107       10107      0  les: remove useless protocol defines (#22115)\\...   \n",
       "10108       10108      1  Merge pull request #2067 from realm/tg-swift-l...   \n",
       "10109       10109      0                           [fix] 新規アカウント作成ページの翻訳を修正   \n",
       "10110       10110      0                            Merge branch 'hotfixes'   \n",
       "10111       10111      1  HTTPCLIENT-1803: Improved handling of malforme...   \n",
       "\n",
       "                                                    diff  \n",
       "0      diff --git a/lib/DJabberd.pm b/lib/DJabberd.pm...  \n",
       "1      diff --git a/src/kadmin/server/server_stubs.c ...  \n",
       "2      diff --git a/spring-security-oauth2/src/main/j...  \n",
       "3      diff --git a/application/config/version.php b/...  \n",
       "4      diff --git a/src/main.c b/src/main.c\\nindex 50...  \n",
       "...                                                  ...  \n",
       "10107  diff --git a/les/benchmark.go b/les/benchmark....  \n",
       "10108  diff --git a/CHANGELOG.md b/CHANGELOG.md\\ninde...  \n",
       "10109  diff --git a/app/locales/ja_JP/LC_MESSAGES/mes...  \n",
       "10110  diff --git a/CHANGELOG.txt b/CHANGELOG.txt\\nin...  \n",
       "10111  diff --git a/httpclient/src/main/java/org/apac...  \n",
       "\n",
       "[10064 rows x 4 columns]"
      ]
     },
     "execution_count": 3,
     "metadata": {},
     "output_type": "execute_result"
    }
   ],
   "source": [
    "df = pd.read_csv(r'../datasets/dataset.csv', encoding='utf_8_sig')\n",
    "df.dropna(inplace=True)\n",
    "label2id={'negative':0,'positive':1}\n",
    "df = df.replace({\"label\": label2id})\n",
    "df"
   ]
  },
  {
   "cell_type": "code",
   "execution_count": 4,
   "id": "18e5ba2e-9175-4455-a42a-ced130563441",
   "metadata": {
    "execution": {
     "iopub.execute_input": "2025-01-10T09:28:18.831230Z",
     "iopub.status.busy": "2025-01-10T09:28:18.831033Z",
     "iopub.status.idle": "2025-01-10T09:28:18.834918Z",
     "shell.execute_reply": "2025-01-10T09:28:18.834103Z",
     "shell.execute_reply.started": "2025-01-10T09:28:18.831208Z"
    }
   },
   "outputs": [],
   "source": [
    "# df['command'] = df['diff'].apply(lambda x : extract_lines(find_longest_list([y.changes for y in whatthepatch.parse_patch(x)])))\n",
    "# extracted_cols = df['diff'].str.extract(r'^diff --git (?P<source>[^\\t\\n]+) (?P<target>[^\\t\\n]+)')\n",
    "# whatthepatch.apply_diff(diff, lao)"
   ]
  },
  {
   "cell_type": "code",
   "execution_count": 5,
   "id": "23ded5b2-b057-4117-b99b-fa77a39bb480",
   "metadata": {
    "execution": {
     "iopub.execute_input": "2025-01-10T09:28:18.835973Z",
     "iopub.status.busy": "2025-01-10T09:28:18.835708Z",
     "iopub.status.idle": "2025-01-10T09:28:18.838990Z",
     "shell.execute_reply": "2025-01-10T09:28:18.838310Z",
     "shell.execute_reply.started": "2025-01-10T09:28:18.835948Z"
    }
   },
   "outputs": [],
   "source": [
    "# len(df_dataset)"
   ]
  },
  {
   "cell_type": "code",
   "execution_count": 6,
   "id": "7b104969-4a01-44b3-8b11-72188d0042e6",
   "metadata": {
    "execution": {
     "iopub.execute_input": "2025-01-10T09:28:18.839906Z",
     "iopub.status.busy": "2025-01-10T09:28:18.839731Z",
     "iopub.status.idle": "2025-01-10T09:28:18.842991Z",
     "shell.execute_reply": "2025-01-10T09:28:18.842326Z",
     "shell.execute_reply.started": "2025-01-10T09:28:18.839887Z"
    }
   },
   "outputs": [],
   "source": [
    "# df_dataset[0]"
   ]
  },
  {
   "cell_type": "code",
   "execution_count": 7,
   "id": "7b77e6e8-8d9d-45f3-be04-94a8b7499213",
   "metadata": {
    "execution": {
     "iopub.execute_input": "2025-01-10T09:28:18.845727Z",
     "iopub.status.busy": "2025-01-10T09:28:18.845302Z",
     "iopub.status.idle": "2025-01-10T09:28:20.878430Z",
     "shell.execute_reply": "2025-01-10T09:28:20.877382Z",
     "shell.execute_reply.started": "2025-01-10T09:28:18.845705Z"
    }
   },
   "outputs": [
    {
     "name": "stderr",
     "output_type": "stream",
     "text": [
      "Some weights of the model checkpoint at ../models/bert-base-cased were not used when initializing BertModel: ['cls.predictions.transform.LayerNorm.weight', 'cls.seq_relationship.weight', 'cls.seq_relationship.bias', 'cls.predictions.transform.dense.bias', 'cls.predictions.transform.LayerNorm.bias', 'cls.predictions.bias', 'cls.predictions.transform.dense.weight']\n",
      "- This IS expected if you are initializing BertModel from the checkpoint of a model trained on another task or with another architecture (e.g. initializing a BertForSequenceClassification model from a BertForPreTraining model).\n",
      "- This IS NOT expected if you are initializing BertModel from the checkpoint of a model that you expect to be exactly identical (initializing a BertForSequenceClassification model from a BertForSequenceClassification model).\n",
      "Some weights of the model checkpoint at ../models/bert-base-cased were not used when initializing BertModel: ['cls.predictions.transform.LayerNorm.weight', 'cls.seq_relationship.weight', 'cls.seq_relationship.bias', 'cls.predictions.transform.dense.bias', 'cls.predictions.transform.LayerNorm.bias', 'cls.predictions.bias', 'cls.predictions.transform.dense.weight']\n",
      "- This IS expected if you are initializing BertModel from the checkpoint of a model trained on another task or with another architecture (e.g. initializing a BertForSequenceClassification model from a BertForPreTraining model).\n",
      "- This IS NOT expected if you are initializing BertModel from the checkpoint of a model that you expect to be exactly identical (initializing a BertForSequenceClassification model from a BertForSequenceClassification model).\n"
     ]
    }
   ],
   "source": [
    "# Load BERT and CodeBERT models and tokenizers\n",
    "bert_model = BertModel.from_pretrained('../models/bert-base-cased')\n",
    "bert_tokenizer = BertTokenizer.from_pretrained('../models/bert-base-cased')\n",
    "\n",
    "codebert_model = BertModel.from_pretrained('../models/bert-base-cased')\n",
    "codebert_tokenizer = BertTokenizer.from_pretrained('../models/bert-base-cased')"
   ]
  },
  {
   "cell_type": "code",
   "execution_count": 8,
   "id": "fa751a3e-86ae-4f11-82ca-c173f5320a09",
   "metadata": {
    "execution": {
     "iopub.execute_input": "2025-01-10T09:28:20.879703Z",
     "iopub.status.busy": "2025-01-10T09:28:20.879375Z",
     "iopub.status.idle": "2025-01-10T09:28:20.887103Z",
     "shell.execute_reply": "2025-01-10T09:28:20.886377Z",
     "shell.execute_reply.started": "2025-01-10T09:28:20.879680Z"
    }
   },
   "outputs": [],
   "source": [
    "train_data, _ = train_test_split(df, train_size=0.35, random_state=42)\n",
    "train_data, test_data = train_test_split(train_data, test_size=0.3, random_state=42)\n",
    "# train_data = pd.read_csv('./datasets/PD_train.csv')\n",
    "# test_data = pd.read_csv('./datasets/PD_test.csv')\n",
    "# val_data = pd.read_csv('./datasets/PD_val.csv')\n",
    "\n"
   ]
  },
  {
   "cell_type": "code",
   "execution_count": 9,
   "id": "6833b877-557a-42ca-a649-59e56d4b9cb5",
   "metadata": {
    "execution": {
     "iopub.execute_input": "2025-01-10T09:28:20.888212Z",
     "iopub.status.busy": "2025-01-10T09:28:20.887951Z",
     "iopub.status.idle": "2025-01-10T09:28:20.892656Z",
     "shell.execute_reply": "2025-01-10T09:28:20.891978Z",
     "shell.execute_reply.started": "2025-01-10T09:28:20.888189Z"
    }
   },
   "outputs": [
    {
     "data": {
      "text/plain": [
       "2465"
      ]
     },
     "execution_count": 9,
     "metadata": {},
     "output_type": "execute_result"
    }
   ],
   "source": [
    "len(train_data)"
   ]
  },
  {
   "cell_type": "code",
   "execution_count": 10,
   "id": "c1f1e42a-ca2a-47b4-aeb0-536795d2a2f7",
   "metadata": {
    "execution": {
     "iopub.execute_input": "2025-01-10T09:28:20.893759Z",
     "iopub.status.busy": "2025-01-10T09:28:20.893428Z",
     "iopub.status.idle": "2025-01-10T09:28:20.896525Z",
     "shell.execute_reply": "2025-01-10T09:28:20.895857Z",
     "shell.execute_reply.started": "2025-01-10T09:28:20.893738Z"
    }
   },
   "outputs": [],
   "source": [
    "# codebert_model.config.hidden_size"
   ]
  },
  {
   "cell_type": "code",
   "execution_count": 11,
   "id": "4b5e68a2-d0bb-42c1-a6a3-1d66267b3651",
   "metadata": {
    "execution": {
     "iopub.execute_input": "2025-01-10T09:28:20.897465Z",
     "iopub.status.busy": "2025-01-10T09:28:20.897279Z",
     "iopub.status.idle": "2025-01-10T09:28:20.901930Z",
     "shell.execute_reply": "2025-01-10T09:28:20.901271Z",
     "shell.execute_reply.started": "2025-01-10T09:28:20.897446Z"
    }
   },
   "outputs": [
    {
     "data": {
      "text/plain": [
       "1057"
      ]
     },
     "execution_count": 11,
     "metadata": {},
     "output_type": "execute_result"
    }
   ],
   "source": [
    "len(test_data)"
   ]
  },
  {
   "cell_type": "code",
   "execution_count": 12,
   "id": "f8f11097-0571-4896-972e-da03419f6f1f",
   "metadata": {
    "execution": {
     "iopub.execute_input": "2025-01-10T09:28:20.902942Z",
     "iopub.status.busy": "2025-01-10T09:28:20.902683Z",
     "iopub.status.idle": "2025-01-10T09:28:20.907307Z",
     "shell.execute_reply": "2025-01-10T09:28:20.906624Z",
     "shell.execute_reply.started": "2025-01-10T09:28:20.902922Z"
    }
   },
   "outputs": [],
   "source": [
    "test_data, val_data = train_test_split(test_data, train_size=0.5, random_state=42)"
   ]
  },
  {
   "cell_type": "code",
   "execution_count": 13,
   "id": "6d0173b0-7cee-488c-988d-30fdc9c30c95",
   "metadata": {
    "execution": {
     "iopub.execute_input": "2025-01-10T09:28:20.908259Z",
     "iopub.status.busy": "2025-01-10T09:28:20.908078Z",
     "iopub.status.idle": "2025-01-10T09:28:20.912829Z",
     "shell.execute_reply": "2025-01-10T09:28:20.912134Z",
     "shell.execute_reply.started": "2025-01-10T09:28:20.908240Z"
    }
   },
   "outputs": [],
   "source": [
    "train_data.reset_index(inplace=True)\n",
    "test_data.reset_index(inplace=True)\n",
    "val_data.reset_index(inplace=True)"
   ]
  },
  {
   "cell_type": "code",
   "execution_count": 14,
   "id": "e93e40c2-34b1-4bf7-b835-9718fe3f6039",
   "metadata": {
    "execution": {
     "iopub.execute_input": "2025-01-10T09:28:20.913915Z",
     "iopub.status.busy": "2025-01-10T09:28:20.913655Z",
     "iopub.status.idle": "2025-01-10T09:28:20.919400Z",
     "shell.execute_reply": "2025-01-10T09:28:20.918734Z",
     "shell.execute_reply.started": "2025-01-10T09:28:20.913894Z"
    }
   },
   "outputs": [
    {
     "data": {
      "text/plain": [
       "label\n",
       "0    1512\n",
       "1     953\n",
       "Name: count, dtype: int64"
      ]
     },
     "execution_count": 14,
     "metadata": {},
     "output_type": "execute_result"
    }
   ],
   "source": [
    "train_data['label'].value_counts()"
   ]
  },
  {
   "cell_type": "code",
   "execution_count": 15,
   "id": "6b52cd58-8ced-4995-a326-22fbb809b527",
   "metadata": {
    "execution": {
     "iopub.execute_input": "2025-01-10T09:28:20.920367Z",
     "iopub.status.busy": "2025-01-10T09:28:20.920187Z",
     "iopub.status.idle": "2025-01-10T09:28:20.929878Z",
     "shell.execute_reply": "2025-01-10T09:28:20.929165Z",
     "shell.execute_reply.started": "2025-01-10T09:28:20.920347Z"
    }
   },
   "outputs": [
    {
     "data": {
      "text/html": [
       "<div>\n",
       "<style scoped>\n",
       "    .dataframe tbody tr th:only-of-type {\n",
       "        vertical-align: middle;\n",
       "    }\n",
       "\n",
       "    .dataframe tbody tr th {\n",
       "        vertical-align: top;\n",
       "    }\n",
       "\n",
       "    .dataframe thead th {\n",
       "        text-align: right;\n",
       "    }\n",
       "</style>\n",
       "<table border=\"1\" class=\"dataframe\">\n",
       "  <thead>\n",
       "    <tr style=\"text-align: right;\">\n",
       "      <th></th>\n",
       "      <th>index</th>\n",
       "      <th>Unnamed: 0</th>\n",
       "      <th>label</th>\n",
       "      <th>message</th>\n",
       "      <th>diff</th>\n",
       "    </tr>\n",
       "  </thead>\n",
       "  <tbody>\n",
       "    <tr>\n",
       "      <th>0</th>\n",
       "      <td>5106</td>\n",
       "      <td>5106</td>\n",
       "      <td>0</td>\n",
       "      <td>Merge pull request #6 from daniel-beck-bot/htt...</td>\n",
       "      <td>diff --git a/pom.xml b/pom.xml\\nindex 661ce51....</td>\n",
       "    </tr>\n",
       "    <tr>\n",
       "      <th>1</th>\n",
       "      <td>3322</td>\n",
       "      <td>3322</td>\n",
       "      <td>0</td>\n",
       "      <td>Fix Gitter badge</td>\n",
       "      <td>diff --git a/README.md b/README.md\\nindex eff9...</td>\n",
       "    </tr>\n",
       "    <tr>\n",
       "      <th>2</th>\n",
       "      <td>3187</td>\n",
       "      <td>3187</td>\n",
       "      <td>1</td>\n",
       "      <td>Check for presence of crsf in admin scripts</td>\n",
       "      <td>diff --git a/src/Lua.cpp b/src/Lua.cpp\\nindex ...</td>\n",
       "    </tr>\n",
       "    <tr>\n",
       "      <th>3</th>\n",
       "      <td>8592</td>\n",
       "      <td>8592</td>\n",
       "      <td>0</td>\n",
       "      <td>Fixed link errors</td>\n",
       "      <td>diff --git a/src/irisnet/CMakeLists.txt b/src/...</td>\n",
       "    </tr>\n",
       "    <tr>\n",
       "      <th>4</th>\n",
       "      <td>7272</td>\n",
       "      <td>7272</td>\n",
       "      <td>0</td>\n",
       "      <td>Fixed memory corruption introduced when creati...</td>\n",
       "      <td>diff --git a/Doxyfile b/Doxyfile\\nindex f88538...</td>\n",
       "    </tr>\n",
       "    <tr>\n",
       "      <th>...</th>\n",
       "      <td>...</td>\n",
       "      <td>...</td>\n",
       "      <td>...</td>\n",
       "      <td>...</td>\n",
       "      <td>...</td>\n",
       "    </tr>\n",
       "    <tr>\n",
       "      <th>524</th>\n",
       "      <td>1500</td>\n",
       "      <td>1500</td>\n",
       "      <td>0</td>\n",
       "      <td>...</td>\n",
       "      <td>diff --git a/config/policy.xml b/config/policy...</td>\n",
       "    </tr>\n",
       "    <tr>\n",
       "      <th>525</th>\n",
       "      <td>1141</td>\n",
       "      <td>1141</td>\n",
       "      <td>0</td>\n",
       "      <td>SONY: added ImageCount3</td>\n",
       "      <td>diff --git a/dcraw/dcraw.c b/dcraw/dcraw.c\\nin...</td>\n",
       "    </tr>\n",
       "    <tr>\n",
       "      <th>526</th>\n",
       "      <td>2921</td>\n",
       "      <td>2921</td>\n",
       "      <td>1</td>\n",
       "      <td>Fix bug #68942 (Use after free vulnerability i...</td>\n",
       "      <td>diff --git a/NEWS b/NEWS\\nindex 0d93c47b02007....</td>\n",
       "    </tr>\n",
       "    <tr>\n",
       "      <th>527</th>\n",
       "      <td>8292</td>\n",
       "      <td>8292</td>\n",
       "      <td>0</td>\n",
       "      <td>先把 zbpimage 和 thumb 改成 thumbnail</td>\n",
       "      <td>diff --git a/zb_system/function/c_system_event...</td>\n",
       "    </tr>\n",
       "    <tr>\n",
       "      <th>528</th>\n",
       "      <td>2989</td>\n",
       "      <td>2989</td>\n",
       "      <td>1</td>\n",
       "      <td>Ensure request and response facades are used w...</td>\n",
       "      <td>diff --git a/java/org/apache/catalina/authenti...</td>\n",
       "    </tr>\n",
       "  </tbody>\n",
       "</table>\n",
       "<p>529 rows × 5 columns</p>\n",
       "</div>"
      ],
      "text/plain": [
       "     index  Unnamed: 0  label  \\\n",
       "0     5106        5106      0   \n",
       "1     3322        3322      0   \n",
       "2     3187        3187      1   \n",
       "3     8592        8592      0   \n",
       "4     7272        7272      0   \n",
       "..     ...         ...    ...   \n",
       "524   1500        1500      0   \n",
       "525   1141        1141      0   \n",
       "526   2921        2921      1   \n",
       "527   8292        8292      0   \n",
       "528   2989        2989      1   \n",
       "\n",
       "                                               message  \\\n",
       "0    Merge pull request #6 from daniel-beck-bot/htt...   \n",
       "1                                     Fix Gitter badge   \n",
       "2          Check for presence of crsf in admin scripts   \n",
       "3                                    Fixed link errors   \n",
       "4    Fixed memory corruption introduced when creati...   \n",
       "..                                                 ...   \n",
       "524                                                ...   \n",
       "525                            SONY: added ImageCount3   \n",
       "526  Fix bug #68942 (Use after free vulnerability i...   \n",
       "527                   先把 zbpimage 和 thumb 改成 thumbnail   \n",
       "528  Ensure request and response facades are used w...   \n",
       "\n",
       "                                                  diff  \n",
       "0    diff --git a/pom.xml b/pom.xml\\nindex 661ce51....  \n",
       "1    diff --git a/README.md b/README.md\\nindex eff9...  \n",
       "2    diff --git a/src/Lua.cpp b/src/Lua.cpp\\nindex ...  \n",
       "3    diff --git a/src/irisnet/CMakeLists.txt b/src/...  \n",
       "4    diff --git a/Doxyfile b/Doxyfile\\nindex f88538...  \n",
       "..                                                 ...  \n",
       "524  diff --git a/config/policy.xml b/config/policy...  \n",
       "525  diff --git a/dcraw/dcraw.c b/dcraw/dcraw.c\\nin...  \n",
       "526  diff --git a/NEWS b/NEWS\\nindex 0d93c47b02007....  \n",
       "527  diff --git a/zb_system/function/c_system_event...  \n",
       "528  diff --git a/java/org/apache/catalina/authenti...  \n",
       "\n",
       "[529 rows x 5 columns]"
      ]
     },
     "execution_count": 15,
     "metadata": {},
     "output_type": "execute_result"
    }
   ],
   "source": [
    "val_data"
   ]
  },
  {
   "cell_type": "code",
   "execution_count": 16,
   "id": "594e7b0d-1718-47e5-8b68-b27a016c61c5",
   "metadata": {
    "execution": {
     "iopub.execute_input": "2025-01-10T09:28:20.930872Z",
     "iopub.status.busy": "2025-01-10T09:28:20.930686Z",
     "iopub.status.idle": "2025-01-10T09:28:20.939531Z",
     "shell.execute_reply": "2025-01-10T09:28:20.938829Z",
     "shell.execute_reply.started": "2025-01-10T09:28:20.930851Z"
    }
   },
   "outputs": [
    {
     "data": {
      "text/html": [
       "<div>\n",
       "<style scoped>\n",
       "    .dataframe tbody tr th:only-of-type {\n",
       "        vertical-align: middle;\n",
       "    }\n",
       "\n",
       "    .dataframe tbody tr th {\n",
       "        vertical-align: top;\n",
       "    }\n",
       "\n",
       "    .dataframe thead th {\n",
       "        text-align: right;\n",
       "    }\n",
       "</style>\n",
       "<table border=\"1\" class=\"dataframe\">\n",
       "  <thead>\n",
       "    <tr style=\"text-align: right;\">\n",
       "      <th></th>\n",
       "      <th>index</th>\n",
       "      <th>Unnamed: 0</th>\n",
       "      <th>label</th>\n",
       "      <th>message</th>\n",
       "      <th>diff</th>\n",
       "    </tr>\n",
       "  </thead>\n",
       "  <tbody>\n",
       "    <tr>\n",
       "      <th>0</th>\n",
       "      <td>5106</td>\n",
       "      <td>5106</td>\n",
       "      <td>0</td>\n",
       "      <td>Merge pull request #6 from daniel-beck-bot/htt...</td>\n",
       "      <td>diff --git a/pom.xml b/pom.xml\\nindex 661ce51....</td>\n",
       "    </tr>\n",
       "    <tr>\n",
       "      <th>1</th>\n",
       "      <td>3322</td>\n",
       "      <td>3322</td>\n",
       "      <td>0</td>\n",
       "      <td>Fix Gitter badge</td>\n",
       "      <td>diff --git a/README.md b/README.md\\nindex eff9...</td>\n",
       "    </tr>\n",
       "    <tr>\n",
       "      <th>2</th>\n",
       "      <td>3187</td>\n",
       "      <td>3187</td>\n",
       "      <td>1</td>\n",
       "      <td>Check for presence of crsf in admin scripts</td>\n",
       "      <td>diff --git a/src/Lua.cpp b/src/Lua.cpp\\nindex ...</td>\n",
       "    </tr>\n",
       "    <tr>\n",
       "      <th>3</th>\n",
       "      <td>8592</td>\n",
       "      <td>8592</td>\n",
       "      <td>0</td>\n",
       "      <td>Fixed link errors</td>\n",
       "      <td>diff --git a/src/irisnet/CMakeLists.txt b/src/...</td>\n",
       "    </tr>\n",
       "    <tr>\n",
       "      <th>4</th>\n",
       "      <td>7272</td>\n",
       "      <td>7272</td>\n",
       "      <td>0</td>\n",
       "      <td>Fixed memory corruption introduced when creati...</td>\n",
       "      <td>diff --git a/Doxyfile b/Doxyfile\\nindex f88538...</td>\n",
       "    </tr>\n",
       "    <tr>\n",
       "      <th>...</th>\n",
       "      <td>...</td>\n",
       "      <td>...</td>\n",
       "      <td>...</td>\n",
       "      <td>...</td>\n",
       "      <td>...</td>\n",
       "    </tr>\n",
       "    <tr>\n",
       "      <th>524</th>\n",
       "      <td>1500</td>\n",
       "      <td>1500</td>\n",
       "      <td>0</td>\n",
       "      <td>...</td>\n",
       "      <td>diff --git a/config/policy.xml b/config/policy...</td>\n",
       "    </tr>\n",
       "    <tr>\n",
       "      <th>525</th>\n",
       "      <td>1141</td>\n",
       "      <td>1141</td>\n",
       "      <td>0</td>\n",
       "      <td>SONY: added ImageCount3</td>\n",
       "      <td>diff --git a/dcraw/dcraw.c b/dcraw/dcraw.c\\nin...</td>\n",
       "    </tr>\n",
       "    <tr>\n",
       "      <th>526</th>\n",
       "      <td>2921</td>\n",
       "      <td>2921</td>\n",
       "      <td>1</td>\n",
       "      <td>Fix bug #68942 (Use after free vulnerability i...</td>\n",
       "      <td>diff --git a/NEWS b/NEWS\\nindex 0d93c47b02007....</td>\n",
       "    </tr>\n",
       "    <tr>\n",
       "      <th>527</th>\n",
       "      <td>8292</td>\n",
       "      <td>8292</td>\n",
       "      <td>0</td>\n",
       "      <td>先把 zbpimage 和 thumb 改成 thumbnail</td>\n",
       "      <td>diff --git a/zb_system/function/c_system_event...</td>\n",
       "    </tr>\n",
       "    <tr>\n",
       "      <th>528</th>\n",
       "      <td>2989</td>\n",
       "      <td>2989</td>\n",
       "      <td>1</td>\n",
       "      <td>Ensure request and response facades are used w...</td>\n",
       "      <td>diff --git a/java/org/apache/catalina/authenti...</td>\n",
       "    </tr>\n",
       "  </tbody>\n",
       "</table>\n",
       "<p>529 rows × 5 columns</p>\n",
       "</div>"
      ],
      "text/plain": [
       "     index  Unnamed: 0  label  \\\n",
       "0     5106        5106      0   \n",
       "1     3322        3322      0   \n",
       "2     3187        3187      1   \n",
       "3     8592        8592      0   \n",
       "4     7272        7272      0   \n",
       "..     ...         ...    ...   \n",
       "524   1500        1500      0   \n",
       "525   1141        1141      0   \n",
       "526   2921        2921      1   \n",
       "527   8292        8292      0   \n",
       "528   2989        2989      1   \n",
       "\n",
       "                                               message  \\\n",
       "0    Merge pull request #6 from daniel-beck-bot/htt...   \n",
       "1                                     Fix Gitter badge   \n",
       "2          Check for presence of crsf in admin scripts   \n",
       "3                                    Fixed link errors   \n",
       "4    Fixed memory corruption introduced when creati...   \n",
       "..                                                 ...   \n",
       "524                                                ...   \n",
       "525                            SONY: added ImageCount3   \n",
       "526  Fix bug #68942 (Use after free vulnerability i...   \n",
       "527                   先把 zbpimage 和 thumb 改成 thumbnail   \n",
       "528  Ensure request and response facades are used w...   \n",
       "\n",
       "                                                  diff  \n",
       "0    diff --git a/pom.xml b/pom.xml\\nindex 661ce51....  \n",
       "1    diff --git a/README.md b/README.md\\nindex eff9...  \n",
       "2    diff --git a/src/Lua.cpp b/src/Lua.cpp\\nindex ...  \n",
       "3    diff --git a/src/irisnet/CMakeLists.txt b/src/...  \n",
       "4    diff --git a/Doxyfile b/Doxyfile\\nindex f88538...  \n",
       "..                                                 ...  \n",
       "524  diff --git a/config/policy.xml b/config/policy...  \n",
       "525  diff --git a/dcraw/dcraw.c b/dcraw/dcraw.c\\nin...  \n",
       "526  diff --git a/NEWS b/NEWS\\nindex 0d93c47b02007....  \n",
       "527  diff --git a/zb_system/function/c_system_event...  \n",
       "528  diff --git a/java/org/apache/catalina/authenti...  \n",
       "\n",
       "[529 rows x 5 columns]"
      ]
     },
     "execution_count": 16,
     "metadata": {},
     "output_type": "execute_result"
    }
   ],
   "source": [
    "val_data"
   ]
  },
  {
   "cell_type": "code",
   "execution_count": 17,
   "id": "1549be02-6f6b-41e5-bd04-d3e164061eec",
   "metadata": {
    "execution": {
     "iopub.execute_input": "2025-01-10T09:28:20.940524Z",
     "iopub.status.busy": "2025-01-10T09:28:20.940338Z",
     "iopub.status.idle": "2025-01-10T09:28:20.945767Z",
     "shell.execute_reply": "2025-01-10T09:28:20.945026Z",
     "shell.execute_reply.started": "2025-01-10T09:28:20.940504Z"
    }
   },
   "outputs": [],
   "source": [
    "\n",
    "\n",
    "# Create Datasets and DataLoaders\n",
    "train_dataset = preprocesser.SentencePairDataset(train_data, bert_tokenizer, codebert_tokenizer, message='message',command='diff',label='label')\n",
    "val_dataset = preprocesser.SentencePairDataset(val_data, bert_tokenizer, codebert_tokenizer, message='message',command='diff',label='label')\n",
    "test_dataset = preprocesser.SentencePairDataset(test_data, bert_tokenizer, codebert_tokenizer, message='message',command='diff',label='label')\n",
    "\n",
    "train_loader = DataLoader(train_dataset, batch_size=8, shuffle=False)\n",
    "val_loader = DataLoader(val_dataset, batch_size=8, shuffle=False)\n",
    "test_loader = DataLoader(test_dataset, batch_size=8, shuffle=False)\n",
    "\n",
    "\n",
    "\n",
    "# # Initialize the model\n",
    "# model = em.CombinedModel(bert_model, codebert_model, bert_tokenizer, codebert_tokenizer)\n",
    "\n",
    "# # Train the model\n",
    "# model.trainer(train_loader, val_loader,num_epochs=10)\n",
    "# for batch in train_loader:\n",
    "#     print(batch)"
   ]
  },
  {
   "cell_type": "code",
   "execution_count": 18,
   "id": "09dcb1fc-8ae4-4e9e-9180-41d41e3698af",
   "metadata": {
    "execution": {
     "iopub.execute_input": "2025-01-10T09:28:20.947145Z",
     "iopub.status.busy": "2025-01-10T09:28:20.946574Z",
     "iopub.status.idle": "2025-01-10T09:28:20.950152Z",
     "shell.execute_reply": "2025-01-10T09:28:20.949469Z",
     "shell.execute_reply.started": "2025-01-10T09:28:20.947123Z"
    }
   },
   "outputs": [],
   "source": [
    "base_model1 = moe.BaseModel(bert_model)\n",
    "base_model2 = moe.BaseModel(codebert_model)"
   ]
  },
  {
   "cell_type": "code",
   "execution_count": 19,
   "id": "b8bb3e18-9412-4036-93d4-ac331093752c",
   "metadata": {
    "execution": {
     "iopub.execute_input": "2025-01-10T09:28:20.951196Z",
     "iopub.status.busy": "2025-01-10T09:28:20.950924Z",
     "iopub.status.idle": "2025-01-10T09:28:22.045710Z",
     "shell.execute_reply": "2025-01-10T09:28:22.044846Z",
     "shell.execute_reply.started": "2025-01-10T09:28:20.951175Z"
    }
   },
   "outputs": [
    {
     "name": "stderr",
     "output_type": "stream",
     "text": [
      "Some weights of the model checkpoint at /root/autodl-tmp/IPCK/model/distilbert were not used when initializing DistilBertModel: ['vocab_transform.bias', 'vocab_transform.weight', 'vocab_layer_norm.weight', 'vocab_layer_norm.bias', 'vocab_projector.bias']\n",
      "- This IS expected if you are initializing DistilBertModel from the checkpoint of a model trained on another task or with another architecture (e.g. initializing a BertForSequenceClassification model from a BertForPreTraining model).\n",
      "- This IS NOT expected if you are initializing DistilBertModel from the checkpoint of a model that you expect to be exactly identical (initializing a BertForSequenceClassification model from a BertForSequenceClassification model).\n",
      "Some weights of the model checkpoint at /root/autodl-tmp/IPCK/model/distilbert were not used when initializing DistilBertModel: ['vocab_transform.bias', 'vocab_transform.weight', 'vocab_layer_norm.weight', 'vocab_layer_norm.bias', 'vocab_projector.bias']\n",
      "- This IS expected if you are initializing DistilBertModel from the checkpoint of a model trained on another task or with another architecture (e.g. initializing a BertForSequenceClassification model from a BertForPreTraining model).\n",
      "- This IS NOT expected if you are initializing DistilBertModel from the checkpoint of a model that you expect to be exactly identical (initializing a BertForSequenceClassification model from a BertForSequenceClassification model).\n"
     ]
    }
   ],
   "source": [
    "# Load BERT and CodeBERT models and tokenizers\n",
    "bert_model = DistilBertModel.from_pretrained('/root/autodl-tmp/IPCK/model/distilbert')\n",
    "\n",
    "codebert_model = DistilBertModel.from_pretrained('/root/autodl-tmp/IPCK/model/distilbert')"
   ]
  },
  {
   "cell_type": "code",
   "execution_count": 20,
   "id": "e3ab313b-e462-4272-bb74-3ddfbd324125",
   "metadata": {
    "execution": {
     "iopub.execute_input": "2025-01-10T09:28:22.047050Z",
     "iopub.status.busy": "2025-01-10T09:28:22.046713Z",
     "iopub.status.idle": "2025-01-10T09:28:22.050662Z",
     "shell.execute_reply": "2025-01-10T09:28:22.049954Z",
     "shell.execute_reply.started": "2025-01-10T09:28:22.047027Z"
    }
   },
   "outputs": [],
   "source": [
    "encoder_model1 = moe.EncoderModel(bert_model)\n",
    "encoder_model2 = moe.EncoderModel(bert_model)"
   ]
  },
  {
   "cell_type": "code",
   "execution_count": null,
   "id": "ac85df22-f318-41d4-9f4c-47f56f38055f",
   "metadata": {
    "execution": {
     "iopub.execute_input": "2025-01-10T09:28:22.051715Z",
     "iopub.status.busy": "2025-01-10T09:28:22.051444Z"
    }
   },
   "outputs": [
    {
     "name": "stderr",
     "output_type": "stream",
     "text": [
      "/root/miniconda3/lib/python3.10/site-packages/transformers/optimization.py:391: FutureWarning: This implementation of AdamW is deprecated and will be removed in a future version. Use the PyTorch implementation torch.optim.AdamW instead, or set `no_deprecation_warning=True` to disable this warning\n",
      "  warnings.warn(\n",
      "Epoch 1/10 Loss: 0.1608: 100%|██████████| 309/309 [05:32<00:00,  1.08s/batch]\n"
     ]
    },
    {
     "name": "stdout",
     "output_type": "stream",
     "text": [
      "=============================train========================\n",
      "Validation Accuracy: 0.6711\n",
      "Precision: 0.7131\n",
      "Recall: 0.6711\n",
      "F1-Score: 0.6189\n"
     ]
    },
    {
     "data": {
      "image/png": "[encoded data removed]",
      "text/plain": [
       "<Figure size 800x600 with 1 Axes>"
      ]
     },
     "metadata": {},
     "output_type": "display_data"
    },
    {
     "name": "stderr",
     "output_type": "stream",
     "text": [
      "Epoch 2/10:  67%|██████▋   | 207/309 [03:14<00:42,  2.39batch/s]"
     ]
    }
   ],
   "source": [
    "\n",
    "\n",
    "# Create stacking model\n",
    "moe_model = moe.MoEModel(base_model1, base_model2)\n",
    "# Train the model\n",
    "moe_model.trainer(train_loader, val_loader,num_epochs=10, patience=3)"
   ]
  },
  {
   "cell_type": "code",
   "execution_count": null,
   "id": "def4bb0a-419c-46fb-b61b-c9f1a98f0caa",
   "metadata": {},
   "outputs": [],
   "source": [
    "test_dataset = preprocesser.SentencePairDataset(test_data, bert_tokenizer, codebert_tokenizer,message='message',command='diff',label='label')\n",
    "test_loader = DataLoader(test_dataset, batch_size=8, shuffle=False)"
   ]
  },
  {
   "cell_type": "code",
   "execution_count": null,
   "id": "4e01924f-b8a3-4282-acf6-6d38aee2620c",
   "metadata": {},
   "outputs": [],
   "source": []
  },
  {
   "cell_type": "code",
   "execution_count": null,
   "id": "92009384-7770-4b2a-97b2-c0b4d209a0a7",
   "metadata": {},
   "outputs": [],
   "source": [
    "torch.save(moe_model, \"focal_entire_bert_model_900repo.pth\")"
   ]
  },
  {
   "cell_type": "code",
   "execution_count": null,
   "id": "49ad177a-0ad0-414e-a5b6-5b768a5da9cd",
   "metadata": {},
   "outputs": [],
   "source": [
    "# moe_model = torch.load(\"entire_bert_model_900repo.pth\")                                                                                                                                                                                                                                                                                                                                                                                                                                                        "
   ]
  },
  {
   "cell_type": "code",
   "execution_count": null,
   "id": "5878d2a3-fe90-45b1-9486-739c4fee6004",
   "metadata": {},
   "outputs": [],
   "source": [
    "test_acc, test_labels, test_probabilities, test_embeddings, test_predictions = moe_model.evaluate(test_loader)"
   ]
  },
  {
   "cell_type": "code",
   "execution_count": null,
   "id": "5e4b2c38-1a70-4291-86ba-9a32eef19ae8",
   "metadata": {},
   "outputs": [],
   "source": [
    "print(classification_report(test_labels,test_predictions))"
   ]
  },
  {
   "cell_type": "code",
   "execution_count": null,
   "id": "b84edf12-7846-4311-8539-7078f9801402",
   "metadata": {},
   "outputs": [],
   "source": [
    "test_acc"
   ]
  },
  {
   "cell_type": "code",
   "execution_count": null,
   "id": "d306587f-c218-4f03-a13e-5a8a7f92db07",
   "metadata": {},
   "outputs": [],
   "source": []
  },
  {
   "cell_type": "code",
   "execution_count": null,
   "id": "ae9dceb5-9b5c-418a-a0d4-9f9565993485",
   "metadata": {},
   "outputs": [],
   "source": [
    "#发送多种类型的邮件\n",
    "from email.mime.multipart import MIMEMultipart\n",
    "import smtplib\n",
    "\n",
    "from email.mime.text import MIMEText\n",
    "msg_from = '915803745@qq.com'  # 发送方邮箱\n",
    "passwd = 'vcuosuurrgkfbdai'   #就是上面的授权码\n",
    " \n",
    "# to= ['g.zhang@gotion.com', 'j.tong@gotion.com'] #接受方邮箱\n",
    "to= ['j.tong@gotion.com'] #接受方邮箱\n",
    "#设置邮件内容\n",
    "#MIMEMultipart类可以放任何内容\n",
    "msg = MIMEMultipart()\n",
    "conntent=\"在线模型训练完毕\"\n",
    "#把内容加进去\n",
    "msg.attach(MIMEText(conntent,'plain','utf-8'))\n",
    " \n",
    "#设置邮件主题\n",
    "msg['Subject']=\"在线模型训练完毕\"\n",
    " \n",
    "#发送方信息\n",
    "msg['From']=msg_from\n",
    " \n",
    "#开始发送\n",
    " \n",
    "#通过SSL方式发送，服务器地址和端口\n",
    "s = smtplib.SMTP_SSL(\"smtp.qq.com\", 465)\n",
    "# 登录邮箱\n",
    "s.login(msg_from, passwd)\n",
    "#开始发送\n",
    "s.sendmail(msg_from,to,msg.as_string())\n",
    "print(\"在线模型训练完毕\")"
   ]
  }
 ],
 "metadata": {
  "kernelspec": {
   "display_name": "Python 3 (ipykernel)",
   "language": "python",
   "name": "python3"
  },
  "language_info": {
   "codemirror_mode": {
    "name": "ipython",
    "version": 3
   },
   "file_extension": ".py",
   "mimetype": "text/x-python",
   "name": "python",
   "nbconvert_exporter": "python",
   "pygments_lexer": "ipython3",
   "version": "3.10.8"
  }
 },
 "nbformat": 4,
 "nbformat_minor": 5
}
