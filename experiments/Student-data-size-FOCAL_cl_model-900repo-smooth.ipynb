{
 "cells": [
  {
   "cell_type": "code",
   "execution_count": 1,
   "id": "9f82a8cc-7b02-48d7-a783-6e89bccff8b2",
   "metadata": {
    "execution": {
     "iopub.execute_input": "2025-01-11T13:29:26.118180Z",
     "iopub.status.busy": "2025-01-11T13:29:26.116080Z",
     "iopub.status.idle": "2025-01-11T13:29:30.352313Z",
     "shell.execute_reply": "2025-01-11T13:29:30.351147Z",
     "shell.execute_reply.started": "2025-01-11T13:29:26.118137Z"
    }
   },
   "outputs": [
    {
     "name": "stdout",
     "output_type": "stream",
     "text": [
      "\n",
      "root\n",
      "ensemble_commit\n",
      "/root/ensemble_commit\n"
     ]
    }
   ],
   "source": [
    "import pandas as pd\n",
    "from sklearn.model_selection import train_test_split\n",
    "import torch\n",
    "import os\n",
    "\n",
    "notebook_path = os.path.abspath('')\n",
    "import sys\n",
    "# Find the part of the path that contains 'commitFit'\n",
    "commit_fit_path = None\n",
    "for part in notebook_path.split(os.sep):\n",
    "    print(part)\n",
    "    if 'ensemble_commit' in part:\n",
    "        commit_fit_path = notebook_path.split(part)[0] + part\n",
    "        print(commit_fit_path)\n",
    "        break\n",
    "\n",
    "if commit_fit_path is None:\n",
    "    raise ValueError(\"Path containing 'ensemble_commit' not found in notebook path.\")\n",
    "\n",
    "\n",
    "if commit_fit_path not in sys.path:\n",
    "    sys.path.append(commit_fit_path)\n",
    "\n",
    "import ensemble_model.preprocesser as preprocesser \n",
    "import ensemble_model.MoE_model_focal_cum_loss as moe \n",
    "import ensemble_model.student_contrastive as student_cl\n",
    "from torch.utils.data import Dataset, DataLoader\n",
    "from transformers import BertModel, BertTokenizer, RobertaModel, RobertaTokenizer, DistilBertModel\n",
    "\n",
    "# import whatthepatch\n",
    "import numpy as np\n",
    "from sklearn.manifold import TSNE\n",
    "import matplotlib.pyplot as plt\n",
    "from sklearn.metrics import precision_score, recall_score, f1_score, precision_recall_curve,classification_report\n"
   ]
  },
  {
   "cell_type": "code",
   "execution_count": 2,
   "id": "537e23dd-4090-40f0-8c1c-3ed2e96076cc",
   "metadata": {
    "execution": {
     "iopub.execute_input": "2025-01-11T13:29:30.354578Z",
     "iopub.status.busy": "2025-01-11T13:29:30.354194Z",
     "iopub.status.idle": "2025-01-11T13:29:30.364518Z",
     "shell.execute_reply": "2025-01-11T13:29:30.363582Z",
     "shell.execute_reply.started": "2025-01-11T13:29:30.354547Z"
    }
   },
   "outputs": [
    {
     "data": {
      "text/plain": [
       "ensemble_model.student_contrastive.BiLSTMStudent"
      ]
     },
     "execution_count": 2,
     "metadata": {},
     "output_type": "execute_result"
    }
   ],
   "source": [
    "student_cl.BiLSTMStudent"
   ]
  },
  {
   "cell_type": "code",
   "execution_count": 3,
   "id": "666cb7bc-ce61-42cb-b7fa-934b5e5d3580",
   "metadata": {
    "execution": {
     "iopub.execute_input": "2025-01-11T13:29:30.365691Z",
     "iopub.status.busy": "2025-01-11T13:29:30.365420Z",
     "iopub.status.idle": "2025-01-11T13:29:34.363306Z",
     "shell.execute_reply": "2025-01-11T13:29:34.362185Z",
     "shell.execute_reply.started": "2025-01-11T13:29:30.365662Z"
    }
   },
   "outputs": [
    {
     "name": "stderr",
     "output_type": "stream",
     "text": [
      "/tmp/ipykernel_3290/1052552286.py:4: FutureWarning: Downcasting behavior in `replace` is deprecated and will be removed in a future version. To retain the old behavior, explicitly call `result.infer_objects(copy=False)`. To opt-in to the future behavior, set `pd.set_option('future.no_silent_downcasting', True)`\n",
      "  df = df.replace({\"label\": label2id})\n"
     ]
    },
    {
     "data": {
      "text/html": [
       "<div>\n",
       "<style scoped>\n",
       "    .dataframe tbody tr th:only-of-type {\n",
       "        vertical-align: middle;\n",
       "    }\n",
       "\n",
       "    .dataframe tbody tr th {\n",
       "        vertical-align: top;\n",
       "    }\n",
       "\n",
       "    .dataframe thead th {\n",
       "        text-align: right;\n",
       "    }\n",
       "</style>\n",
       "<table border=\"1\" class=\"dataframe\">\n",
       "  <thead>\n",
       "    <tr style=\"text-align: right;\">\n",
       "      <th></th>\n",
       "      <th>Unnamed: 0</th>\n",
       "      <th>label</th>\n",
       "      <th>message</th>\n",
       "      <th>diff</th>\n",
       "    </tr>\n",
       "  </thead>\n",
       "  <tbody>\n",
       "    <tr>\n",
       "      <th>0</th>\n",
       "      <td>0</td>\n",
       "      <td>0</td>\n",
       "      <td>Merge pull request #46 from rufferson/saslx-tl...</td>\n",
       "      <td>diff --git a/lib/DJabberd.pm b/lib/DJabberd.pm...</td>\n",
       "    </tr>\n",
       "    <tr>\n",
       "      <th>1</th>\n",
       "      <td>1</td>\n",
       "      <td>1</td>\n",
       "      <td>Fix leaks in kadmin server stubs [CVE-2015-863...</td>\n",
       "      <td>diff --git a/src/kadmin/server/server_stubs.c ...</td>\n",
       "    </tr>\n",
       "    <tr>\n",
       "      <th>2</th>\n",
       "      <td>2</td>\n",
       "      <td>1</td>\n",
       "      <td>Validate authorization request on approval\\n\\n...</td>\n",
       "      <td>diff --git a/spring-security-oauth2/src/main/j...</td>\n",
       "    </tr>\n",
       "    <tr>\n",
       "      <th>3</th>\n",
       "      <td>3</td>\n",
       "      <td>1</td>\n",
       "      <td>Release 2.72.4+171110</td>\n",
       "      <td>diff --git a/application/config/version.php b/...</td>\n",
       "    </tr>\n",
       "    <tr>\n",
       "      <th>4</th>\n",
       "      <td>4</td>\n",
       "      <td>0</td>\n",
       "      <td>Fixing compiler warnings.</td>\n",
       "      <td>diff --git a/src/main.c b/src/main.c\\nindex 50...</td>\n",
       "    </tr>\n",
       "    <tr>\n",
       "      <th>...</th>\n",
       "      <td>...</td>\n",
       "      <td>...</td>\n",
       "      <td>...</td>\n",
       "      <td>...</td>\n",
       "    </tr>\n",
       "    <tr>\n",
       "      <th>10107</th>\n",
       "      <td>10107</td>\n",
       "      <td>0</td>\n",
       "      <td>les: remove useless protocol defines (#22115)\\...</td>\n",
       "      <td>diff --git a/les/benchmark.go b/les/benchmark....</td>\n",
       "    </tr>\n",
       "    <tr>\n",
       "      <th>10108</th>\n",
       "      <td>10108</td>\n",
       "      <td>1</td>\n",
       "      <td>Merge pull request #2067 from realm/tg-swift-l...</td>\n",
       "      <td>diff --git a/CHANGELOG.md b/CHANGELOG.md\\ninde...</td>\n",
       "    </tr>\n",
       "    <tr>\n",
       "      <th>10109</th>\n",
       "      <td>10109</td>\n",
       "      <td>0</td>\n",
       "      <td>[fix] 新規アカウント作成ページの翻訳を修正</td>\n",
       "      <td>diff --git a/app/locales/ja_JP/LC_MESSAGES/mes...</td>\n",
       "    </tr>\n",
       "    <tr>\n",
       "      <th>10110</th>\n",
       "      <td>10110</td>\n",
       "      <td>0</td>\n",
       "      <td>Merge branch 'hotfixes'</td>\n",
       "      <td>diff --git a/CHANGELOG.txt b/CHANGELOG.txt\\nin...</td>\n",
       "    </tr>\n",
       "    <tr>\n",
       "      <th>10111</th>\n",
       "      <td>10111</td>\n",
       "      <td>1</td>\n",
       "      <td>HTTPCLIENT-1803: Improved handling of malforme...</td>\n",
       "      <td>diff --git a/httpclient/src/main/java/org/apac...</td>\n",
       "    </tr>\n",
       "  </tbody>\n",
       "</table>\n",
       "<p>10064 rows × 4 columns</p>\n",
       "</div>"
      ],
      "text/plain": [
       "       Unnamed: 0  label                                            message  \\\n",
       "0               0      0  Merge pull request #46 from rufferson/saslx-tl...   \n",
       "1               1      1  Fix leaks in kadmin server stubs [CVE-2015-863...   \n",
       "2               2      1  Validate authorization request on approval\\n\\n...   \n",
       "3               3      1                              Release 2.72.4+171110   \n",
       "4               4      0                          Fixing compiler warnings.   \n",
       "...           ...    ...                                                ...   \n",
       "10107       10107      0  les: remove useless protocol defines (#22115)\\...   \n",
       "10108       10108      1  Merge pull request #2067 from realm/tg-swift-l...   \n",
       "10109       10109      0                           [fix] 新規アカウント作成ページの翻訳を修正   \n",
       "10110       10110      0                            Merge branch 'hotfixes'   \n",
       "10111       10111      1  HTTPCLIENT-1803: Improved handling of malforme...   \n",
       "\n",
       "                                                    diff  \n",
       "0      diff --git a/lib/DJabberd.pm b/lib/DJabberd.pm...  \n",
       "1      diff --git a/src/kadmin/server/server_stubs.c ...  \n",
       "2      diff --git a/spring-security-oauth2/src/main/j...  \n",
       "3      diff --git a/application/config/version.php b/...  \n",
       "4      diff --git a/src/main.c b/src/main.c\\nindex 50...  \n",
       "...                                                  ...  \n",
       "10107  diff --git a/les/benchmark.go b/les/benchmark....  \n",
       "10108  diff --git a/CHANGELOG.md b/CHANGELOG.md\\ninde...  \n",
       "10109  diff --git a/app/locales/ja_JP/LC_MESSAGES/mes...  \n",
       "10110  diff --git a/CHANGELOG.txt b/CHANGELOG.txt\\nin...  \n",
       "10111  diff --git a/httpclient/src/main/java/org/apac...  \n",
       "\n",
       "[10064 rows x 4 columns]"
      ]
     },
     "execution_count": 3,
     "metadata": {},
     "output_type": "execute_result"
    }
   ],
   "source": [
    "df = pd.read_csv(r'../datasets/dataset.csv', encoding='utf_8_sig')\n",
    "df.dropna(inplace=True)\n",
    "label2id={'negative':0,'positive':1}\n",
    "df = df.replace({\"label\": label2id})\n",
    "df"
   ]
  },
  {
   "cell_type": "code",
   "execution_count": 4,
   "id": "9c0aaf30-08c5-422e-bdea-dd054b54a6d1",
   "metadata": {
    "execution": {
     "iopub.execute_input": "2025-01-11T13:29:34.364795Z",
     "iopub.status.busy": "2025-01-11T13:29:34.364447Z",
     "iopub.status.idle": "2025-01-11T13:29:35.220546Z",
     "shell.execute_reply": "2025-01-11T13:29:35.219431Z",
     "shell.execute_reply.started": "2025-01-11T13:29:34.364767Z"
    }
   },
   "outputs": [],
   "source": [
    "moe_model = torch.load(\"smooth_cum_entire_bert_model_900repo.pth\")                                                                                                                                                                                                                                                                                                                                                                                                                                             "
   ]
  },
  {
   "cell_type": "code",
   "execution_count": 5,
   "id": "f75d6f18-6183-47c7-b979-f1e160bdb7f8",
   "metadata": {
    "execution": {
     "iopub.execute_input": "2025-01-11T13:29:35.223101Z",
     "iopub.status.busy": "2025-01-11T13:29:35.222854Z",
     "iopub.status.idle": "2025-01-11T13:29:37.448184Z",
     "shell.execute_reply": "2025-01-11T13:29:37.447400Z",
     "shell.execute_reply.started": "2025-01-11T13:29:35.223075Z"
    }
   },
   "outputs": [
    {
     "name": "stderr",
     "output_type": "stream",
     "text": [
      "Some weights of the model checkpoint at ../models/bert-base-cased were not used when initializing BertModel: ['cls.predictions.transform.LayerNorm.bias', 'cls.seq_relationship.weight', 'cls.predictions.transform.LayerNorm.weight', 'cls.predictions.transform.dense.weight', 'cls.predictions.bias', 'cls.seq_relationship.bias', 'cls.predictions.transform.dense.bias']\n",
      "- This IS expected if you are initializing BertModel from the checkpoint of a model trained on another task or with another architecture (e.g. initializing a BertForSequenceClassification model from a BertForPreTraining model).\n",
      "- This IS NOT expected if you are initializing BertModel from the checkpoint of a model that you expect to be exactly identical (initializing a BertForSequenceClassification model from a BertForSequenceClassification model).\n",
      "Some weights of the model checkpoint at ../models/bert-base-cased were not used when initializing BertModel: ['cls.predictions.transform.LayerNorm.bias', 'cls.seq_relationship.weight', 'cls.predictions.transform.LayerNorm.weight', 'cls.predictions.transform.dense.weight', 'cls.predictions.bias', 'cls.seq_relationship.bias', 'cls.predictions.transform.dense.bias']\n",
      "- This IS expected if you are initializing BertModel from the checkpoint of a model trained on another task or with another architecture (e.g. initializing a BertForSequenceClassification model from a BertForPreTraining model).\n",
      "- This IS NOT expected if you are initializing BertModel from the checkpoint of a model that you expect to be exactly identical (initializing a BertForSequenceClassification model from a BertForSequenceClassification model).\n"
     ]
    }
   ],
   "source": [
    "# Load BERT and CodeBERT models and tokenizers\n",
    "bert_model = BertModel.from_pretrained('../models/bert-base-cased')\n",
    "bert_tokenizer = BertTokenizer.from_pretrained('../models/bert-base-cased')\n",
    "\n",
    "codebert_model = BertModel.from_pretrained('../models/bert-base-cased')\n",
    "codebert_tokenizer = BertTokenizer.from_pretrained('../models/bert-base-cased')"
   ]
  },
  {
   "cell_type": "code",
   "execution_count": 6,
   "id": "dac06d57-bf1c-4c03-a767-0d573b977cec",
   "metadata": {
    "execution": {
     "iopub.execute_input": "2025-01-11T13:29:37.449619Z",
     "iopub.status.busy": "2025-01-11T13:29:37.449344Z",
     "iopub.status.idle": "2025-01-11T13:29:38.055530Z",
     "shell.execute_reply": "2025-01-11T13:29:38.054909Z",
     "shell.execute_reply.started": "2025-01-11T13:29:37.449592Z"
    }
   },
   "outputs": [
    {
     "name": "stderr",
     "output_type": "stream",
     "text": [
      "Some weights of the model checkpoint at /root/autodl-tmp/IPCK/model/distilbert were not used when initializing DistilBertModel: ['vocab_layer_norm.bias', 'vocab_transform.bias', 'vocab_layer_norm.weight', 'vocab_transform.weight', 'vocab_projector.bias']\n",
      "- This IS expected if you are initializing DistilBertModel from the checkpoint of a model trained on another task or with another architecture (e.g. initializing a BertForSequenceClassification model from a BertForPreTraining model).\n",
      "- This IS NOT expected if you are initializing DistilBertModel from the checkpoint of a model that you expect to be exactly identical (initializing a BertForSequenceClassification model from a BertForSequenceClassification model).\n"
     ]
    }
   ],
   "source": [
    "# Load BERT and CodeBERT models and tokenizers\n",
    "bert_model = DistilBertModel.from_pretrained('/root/autodl-tmp/IPCK/model/distilbert')"
   ]
  },
  {
   "cell_type": "code",
   "execution_count": 7,
   "id": "42b1694e-be66-4a41-aa9e-fd378ded50bf",
   "metadata": {
    "execution": {
     "iopub.execute_input": "2025-01-11T13:29:38.056547Z",
     "iopub.status.busy": "2025-01-11T13:29:38.056326Z",
     "iopub.status.idle": "2025-01-11T13:29:38.060327Z",
     "shell.execute_reply": "2025-01-11T13:29:38.059700Z",
     "shell.execute_reply.started": "2025-01-11T13:29:38.056522Z"
    }
   },
   "outputs": [],
   "source": [
    "encoder_model1 = moe.EncoderModel(bert_model)\n",
    "encoder_model2 = moe.EncoderModel(bert_model)"
   ]
  },
  {
   "cell_type": "code",
   "execution_count": 8,
   "id": "d306587f-c218-4f03-a13e-5a8a7f92db07",
   "metadata": {
    "execution": {
     "iopub.execute_input": "2025-01-11T13:29:38.061540Z",
     "iopub.status.busy": "2025-01-11T13:29:38.061137Z",
     "iopub.status.idle": "2025-01-11T15:15:24.722645Z",
     "shell.execute_reply": "2025-01-11T15:15:24.721466Z",
     "shell.execute_reply.started": "2025-01-11T13:29:38.061515Z"
    }
   },
   "outputs": [
    {
     "name": "stderr",
     "output_type": "stream",
     "text": [
      "/root/miniconda3/lib/python3.10/site-packages/transformers/optimization.py:391: FutureWarning: This implementation of AdamW is deprecated and will be removed in a future version. Use the PyTorch implementation torch.optim.AdamW instead, or set `no_deprecation_warning=True` to disable this warning\n",
      "  warnings.warn(\n"
     ]
    },
    {
     "name": "stdout",
     "output_type": "stream",
     "text": [
      "train 2782 test 370 val 370\n"
     ]
    },
    {
     "name": "stderr",
     "output_type": "stream",
     "text": [
      "Epoch 1/10 Loss: 15.5953: 100%|██████████| 47/47 [00:49<00:00,  1.06s/batch]\n"
     ]
    },
    {
     "name": "stdout",
     "output_type": "stream",
     "text": [
      "=============================train========================\n"
     ]
    },
    {
     "name": "stderr",
     "output_type": "stream",
     "text": [
      "Epoch 2/10 Loss: 10.4212: 100%|██████████| 47/47 [00:47<00:00,  1.02s/batch]\n"
     ]
    },
    {
     "name": "stdout",
     "output_type": "stream",
     "text": [
      "=============================train========================\n"
     ]
    },
    {
     "name": "stderr",
     "output_type": "stream",
     "text": [
      "Epoch 3/10 Loss: 4.4753: 100%|██████████| 47/47 [00:49<00:00,  1.05s/batch]\n"
     ]
    },
    {
     "name": "stdout",
     "output_type": "stream",
     "text": [
      "=============================train========================\n"
     ]
    },
    {
     "name": "stderr",
     "output_type": "stream",
     "text": [
      "Epoch 4/10 Loss: 2.1860: 100%|██████████| 47/47 [00:47<00:00,  1.01s/batch]\n"
     ]
    },
    {
     "name": "stdout",
     "output_type": "stream",
     "text": [
      "=============================train========================\n"
     ]
    },
    {
     "name": "stderr",
     "output_type": "stream",
     "text": [
      "Epoch 5/10 Loss: 1.6269: 100%|██████████| 47/47 [00:46<00:00,  1.00batch/s]\n"
     ]
    },
    {
     "name": "stdout",
     "output_type": "stream",
     "text": [
      "=============================train========================\n"
     ]
    },
    {
     "name": "stderr",
     "output_type": "stream",
     "text": [
      "Epoch 6/10 Loss: 1.1244: 100%|██████████| 47/47 [00:46<00:00,  1.00batch/s]\n"
     ]
    },
    {
     "name": "stdout",
     "output_type": "stream",
     "text": [
      "=============================train========================\n"
     ]
    },
    {
     "name": "stderr",
     "output_type": "stream",
     "text": [
      "Epoch 7/10 Loss: 0.9705: 100%|██████████| 47/47 [00:46<00:00,  1.02batch/s]\n"
     ]
    },
    {
     "name": "stdout",
     "output_type": "stream",
     "text": [
      "=============================train========================\n"
     ]
    },
    {
     "name": "stderr",
     "output_type": "stream",
     "text": [
      "Epoch 8/10 Loss: 0.8567: 100%|██████████| 47/47 [00:46<00:00,  1.01batch/s]\n"
     ]
    },
    {
     "name": "stdout",
     "output_type": "stream",
     "text": [
      "=============================train========================\n"
     ]
    },
    {
     "name": "stderr",
     "output_type": "stream",
     "text": [
      "Epoch 9/10 Loss: 0.7701: 100%|██████████| 47/47 [00:46<00:00,  1.00batch/s]\n"
     ]
    },
    {
     "name": "stdout",
     "output_type": "stream",
     "text": [
      "=============================train========================\n"
     ]
    },
    {
     "name": "stderr",
     "output_type": "stream",
     "text": [
      "Epoch 10/10 Loss: 0.7063: 100%|██████████| 47/47 [00:46<00:00,  1.02batch/s]\n"
     ]
    },
    {
     "name": "stdout",
     "output_type": "stream",
     "text": [
      "=============================train========================\n",
      "Validation Accuracy: 0.8324\n",
      "Precision: 0.8462\n",
      "Recall: 0.8324\n",
      "F1-Score: 0.8345\n"
     ]
    },
    {
     "name": "stderr",
     "output_type": "stream",
     "text": [
      "/root/miniconda3/lib/python3.10/site-packages/transformers/optimization.py:391: FutureWarning: This implementation of AdamW is deprecated and will be removed in a future version. Use the PyTorch implementation torch.optim.AdamW instead, or set `no_deprecation_warning=True` to disable this warning\n",
      "  warnings.warn(\n"
     ]
    },
    {
     "name": "stdout",
     "output_type": "stream",
     "text": [
      "Validation Accuracy: 0.7838\n",
      "Precision: 0.8076\n",
      "Recall: 0.7838\n",
      "F1-Score: 0.7875\n",
      "              precision    recall  f1-score   support\n",
      "\n",
      "           0     0.8929    0.7479    0.8140       234\n",
      "           1     0.6609    0.8456    0.7419       136\n",
      "\n",
      "    accuracy                         0.7838       370\n",
      "   macro avg     0.7769    0.7967    0.7779       370\n",
      "weighted avg     0.8076    0.7838    0.7875       370\n",
      "\n",
      "train 2747 test 387 val 388\n"
     ]
    },
    {
     "name": "stderr",
     "output_type": "stream",
     "text": [
      "Epoch 1/10 Loss: 7.4625: 100%|██████████| 49/49 [00:53<00:00,  1.08s/batch]\n"
     ]
    },
    {
     "name": "stdout",
     "output_type": "stream",
     "text": [
      "=============================train========================\n"
     ]
    },
    {
     "name": "stderr",
     "output_type": "stream",
     "text": [
      "Epoch 2/10 Loss: 2.3540: 100%|██████████| 49/49 [00:51<00:00,  1.05s/batch]\n"
     ]
    },
    {
     "name": "stdout",
     "output_type": "stream",
     "text": [
      "=============================train========================\n"
     ]
    },
    {
     "name": "stderr",
     "output_type": "stream",
     "text": [
      "Epoch 3/10 Loss: 1.5220: 100%|██████████| 49/49 [00:53<00:00,  1.09s/batch]\n"
     ]
    },
    {
     "name": "stdout",
     "output_type": "stream",
     "text": [
      "=============================train========================\n"
     ]
    },
    {
     "name": "stderr",
     "output_type": "stream",
     "text": [
      "Epoch 4/10 Loss: 1.0455: 100%|██████████| 49/49 [00:51<00:00,  1.06s/batch]\n"
     ]
    },
    {
     "name": "stdout",
     "output_type": "stream",
     "text": [
      "=============================train========================\n"
     ]
    },
    {
     "name": "stderr",
     "output_type": "stream",
     "text": [
      "Epoch 5/10 Loss: 0.8176: 100%|██████████| 49/49 [00:51<00:00,  1.05s/batch]\n"
     ]
    },
    {
     "name": "stdout",
     "output_type": "stream",
     "text": [
      "=============================train========================\n"
     ]
    },
    {
     "name": "stderr",
     "output_type": "stream",
     "text": [
      "Epoch 6/10 Loss: 0.7514: 100%|██████████| 49/49 [00:51<00:00,  1.05s/batch]\n"
     ]
    },
    {
     "name": "stdout",
     "output_type": "stream",
     "text": [
      "=============================train========================\n"
     ]
    },
    {
     "name": "stderr",
     "output_type": "stream",
     "text": [
      "Epoch 7/10 Loss: 0.7056: 100%|██████████| 49/49 [00:49<00:00,  1.02s/batch]\n"
     ]
    },
    {
     "name": "stdout",
     "output_type": "stream",
     "text": [
      "=============================train========================\n"
     ]
    },
    {
     "name": "stderr",
     "output_type": "stream",
     "text": [
      "Epoch 8/10 Loss: 0.6497: 100%|██████████| 49/49 [00:49<00:00,  1.02s/batch]\n"
     ]
    },
    {
     "name": "stdout",
     "output_type": "stream",
     "text": [
      "=============================train========================\n"
     ]
    },
    {
     "name": "stderr",
     "output_type": "stream",
     "text": [
      "Epoch 9/10 Loss: 0.6609: 100%|██████████| 49/49 [00:49<00:00,  1.02s/batch]\n"
     ]
    },
    {
     "name": "stdout",
     "output_type": "stream",
     "text": [
      "=============================train========================\n"
     ]
    },
    {
     "name": "stderr",
     "output_type": "stream",
     "text": [
      "Epoch 10/10 Loss: 0.6229: 100%|██████████| 49/49 [00:49<00:00,  1.01s/batch]\n"
     ]
    },
    {
     "name": "stdout",
     "output_type": "stream",
     "text": [
      "=============================train========================\n",
      "Validation Accuracy: 0.8036\n",
      "Precision: 0.8325\n",
      "Recall: 0.8036\n",
      "F1-Score: 0.8077\n"
     ]
    },
    {
     "name": "stderr",
     "output_type": "stream",
     "text": [
      "/root/miniconda3/lib/python3.10/site-packages/transformers/optimization.py:391: FutureWarning: This implementation of AdamW is deprecated and will be removed in a future version. Use the PyTorch implementation torch.optim.AdamW instead, or set `no_deprecation_warning=True` to disable this warning\n",
      "  warnings.warn(\n"
     ]
    },
    {
     "name": "stdout",
     "output_type": "stream",
     "text": [
      "Validation Accuracy: 0.7474\n",
      "Precision: 0.7958\n",
      "Recall: 0.7474\n",
      "F1-Score: 0.7496\n",
      "              precision    recall  f1-score   support\n",
      "\n",
      "           0     0.9064    0.6540    0.7598       237\n",
      "           1     0.6221    0.8940    0.7337       151\n",
      "\n",
      "    accuracy                         0.7474       388\n",
      "   macro avg     0.7643    0.7740    0.7467       388\n",
      "weighted avg     0.7958    0.7474    0.7496       388\n",
      "\n",
      "train 2711 test 405 val 406\n"
     ]
    },
    {
     "name": "stderr",
     "output_type": "stream",
     "text": [
      "Epoch 1/10 Loss: 6.0084: 100%|██████████| 51/51 [00:49<00:00,  1.03batch/s]\n"
     ]
    },
    {
     "name": "stdout",
     "output_type": "stream",
     "text": [
      "=============================train========================\n"
     ]
    },
    {
     "name": "stderr",
     "output_type": "stream",
     "text": [
      "Epoch 2/10 Loss: 1.8268: 100%|██████████| 51/51 [00:50<00:00,  1.01batch/s]\n"
     ]
    },
    {
     "name": "stdout",
     "output_type": "stream",
     "text": [
      "=============================train========================\n"
     ]
    },
    {
     "name": "stderr",
     "output_type": "stream",
     "text": [
      "Epoch 3/10 Loss: 1.1011: 100%|██████████| 51/51 [00:51<00:00,  1.00s/batch]\n"
     ]
    },
    {
     "name": "stdout",
     "output_type": "stream",
     "text": [
      "=============================train========================\n"
     ]
    },
    {
     "name": "stderr",
     "output_type": "stream",
     "text": [
      "Epoch 4/10 Loss: 0.8182: 100%|██████████| 51/51 [00:52<00:00,  1.02s/batch]\n"
     ]
    },
    {
     "name": "stdout",
     "output_type": "stream",
     "text": [
      "=============================train========================\n"
     ]
    },
    {
     "name": "stderr",
     "output_type": "stream",
     "text": [
      "Epoch 5/10 Loss: 0.7462: 100%|██████████| 51/51 [00:52<00:00,  1.02s/batch]\n"
     ]
    },
    {
     "name": "stdout",
     "output_type": "stream",
     "text": [
      "=============================train========================\n"
     ]
    },
    {
     "name": "stderr",
     "output_type": "stream",
     "text": [
      "Epoch 6/10 Loss: 0.7202: 100%|██████████| 51/51 [00:51<00:00,  1.00s/batch]\n"
     ]
    },
    {
     "name": "stdout",
     "output_type": "stream",
     "text": [
      "=============================train========================\n"
     ]
    },
    {
     "name": "stderr",
     "output_type": "stream",
     "text": [
      "Epoch 7/10 Loss: 0.6409: 100%|██████████| 51/51 [00:51<00:00,  1.01s/batch]\n"
     ]
    },
    {
     "name": "stdout",
     "output_type": "stream",
     "text": [
      "=============================train========================\n"
     ]
    },
    {
     "name": "stderr",
     "output_type": "stream",
     "text": [
      "Epoch 8/10 Loss: 0.6258: 100%|██████████| 51/51 [00:51<00:00,  1.01s/batch]\n"
     ]
    },
    {
     "name": "stdout",
     "output_type": "stream",
     "text": [
      "=============================train========================\n"
     ]
    },
    {
     "name": "stderr",
     "output_type": "stream",
     "text": [
      "Epoch 9/10 Loss: 0.5881: 100%|██████████| 51/51 [00:52<00:00,  1.02s/batch]\n"
     ]
    },
    {
     "name": "stdout",
     "output_type": "stream",
     "text": [
      "=============================train========================\n"
     ]
    },
    {
     "name": "stderr",
     "output_type": "stream",
     "text": [
      "Epoch 10/10 Loss: 0.5708: 100%|██████████| 51/51 [00:51<00:00,  1.00s/batch]\n"
     ]
    },
    {
     "name": "stdout",
     "output_type": "stream",
     "text": [
      "=============================train========================\n",
      "Validation Accuracy: 0.8346\n",
      "Precision: 0.8552\n",
      "Recall: 0.8346\n",
      "F1-Score: 0.8371\n"
     ]
    },
    {
     "name": "stderr",
     "output_type": "stream",
     "text": [
      "/root/miniconda3/lib/python3.10/site-packages/transformers/optimization.py:391: FutureWarning: This implementation of AdamW is deprecated and will be removed in a future version. Use the PyTorch implementation torch.optim.AdamW instead, or set `no_deprecation_warning=True` to disable this warning\n",
      "  warnings.warn(\n"
     ]
    },
    {
     "name": "stdout",
     "output_type": "stream",
     "text": [
      "Validation Accuracy: 0.7783\n",
      "Precision: 0.8050\n",
      "Recall: 0.7783\n",
      "F1-Score: 0.7817\n",
      "              precision    recall  f1-score   support\n",
      "\n",
      "           0     0.8937    0.7312    0.8043       253\n",
      "           1     0.6583    0.8562    0.7443       153\n",
      "\n",
      "    accuracy                         0.7783       406\n",
      "   macro avg     0.7760    0.7937    0.7743       406\n",
      "weighted avg     0.8050    0.7783    0.7817       406\n",
      "\n",
      "train 2676 test 423 val 423\n"
     ]
    },
    {
     "name": "stderr",
     "output_type": "stream",
     "text": [
      "Epoch 1/10 Loss: 6.1279: 100%|██████████| 53/53 [00:53<00:00,  1.01s/batch]\n"
     ]
    },
    {
     "name": "stdout",
     "output_type": "stream",
     "text": [
      "=============================train========================\n"
     ]
    },
    {
     "name": "stderr",
     "output_type": "stream",
     "text": [
      "Epoch 2/10 Loss: 1.3520: 100%|██████████| 53/53 [00:53<00:00,  1.00s/batch]\n"
     ]
    },
    {
     "name": "stdout",
     "output_type": "stream",
     "text": [
      "=============================train========================\n"
     ]
    },
    {
     "name": "stderr",
     "output_type": "stream",
     "text": [
      "Epoch 3/10 Loss: 0.7750: 100%|██████████| 53/53 [00:55<00:00,  1.04s/batch]\n"
     ]
    },
    {
     "name": "stdout",
     "output_type": "stream",
     "text": [
      "=============================train========================\n"
     ]
    },
    {
     "name": "stderr",
     "output_type": "stream",
     "text": [
      "Epoch 4/10 Loss: 0.6511: 100%|██████████| 53/53 [00:55<00:00,  1.05s/batch]\n"
     ]
    },
    {
     "name": "stdout",
     "output_type": "stream",
     "text": [
      "=============================train========================\n"
     ]
    },
    {
     "name": "stderr",
     "output_type": "stream",
     "text": [
      "Epoch 5/10 Loss: 0.8805: 100%|██████████| 53/53 [00:53<00:00,  1.01s/batch]\n"
     ]
    },
    {
     "name": "stdout",
     "output_type": "stream",
     "text": [
      "=============================train========================\n"
     ]
    },
    {
     "name": "stderr",
     "output_type": "stream",
     "text": [
      "Epoch 6/10 Loss: 0.7302: 100%|██████████| 53/53 [00:56<00:00,  1.06s/batch]\n"
     ]
    },
    {
     "name": "stdout",
     "output_type": "stream",
     "text": [
      "=============================train========================\n"
     ]
    },
    {
     "name": "stderr",
     "output_type": "stream",
     "text": [
      "Epoch 7/10 Loss: 0.6565: 100%|██████████| 53/53 [00:56<00:00,  1.06s/batch]\n"
     ]
    },
    {
     "name": "stdout",
     "output_type": "stream",
     "text": [
      "=============================train========================\n",
      "Early stopping triggered after 7 epochs\n",
      "Validation Accuracy: 0.8392\n",
      "Precision: 0.8603\n",
      "Recall: 0.8392\n",
      "F1-Score: 0.8423\n"
     ]
    },
    {
     "name": "stderr",
     "output_type": "stream",
     "text": [
      "/root/miniconda3/lib/python3.10/site-packages/transformers/optimization.py:391: FutureWarning: This implementation of AdamW is deprecated and will be removed in a future version. Use the PyTorch implementation torch.optim.AdamW instead, or set `no_deprecation_warning=True` to disable this warning\n",
      "  warnings.warn(\n"
     ]
    },
    {
     "name": "stdout",
     "output_type": "stream",
     "text": [
      "Validation Accuracy: 0.7778\n",
      "Precision: 0.7972\n",
      "Recall: 0.7778\n",
      "F1-Score: 0.7806\n",
      "              precision    recall  f1-score   support\n",
      "\n",
      "           0     0.8767    0.7413    0.8033       259\n",
      "           1     0.6716    0.8354    0.7446       164\n",
      "\n",
      "    accuracy                         0.7778       423\n",
      "   macro avg     0.7741    0.7883    0.7740       423\n",
      "weighted avg     0.7972    0.7778    0.7806       423\n",
      "\n",
      "train 2641 test 440 val 441\n"
     ]
    },
    {
     "name": "stderr",
     "output_type": "stream",
     "text": [
      "Epoch 1/10 Loss: 5.0918: 100%|██████████| 55/55 [00:55<00:00,  1.01s/batch]\n"
     ]
    },
    {
     "name": "stdout",
     "output_type": "stream",
     "text": [
      "=============================train========================\n"
     ]
    },
    {
     "name": "stderr",
     "output_type": "stream",
     "text": [
      "Epoch 2/10 Loss: 1.4258: 100%|██████████| 55/55 [00:53<00:00,  1.03batch/s]\n"
     ]
    },
    {
     "name": "stdout",
     "output_type": "stream",
     "text": [
      "=============================train========================\n"
     ]
    },
    {
     "name": "stderr",
     "output_type": "stream",
     "text": [
      "Epoch 3/10 Loss: 0.9080: 100%|██████████| 55/55 [00:53<00:00,  1.03batch/s]\n"
     ]
    },
    {
     "name": "stdout",
     "output_type": "stream",
     "text": [
      "=============================train========================\n"
     ]
    },
    {
     "name": "stderr",
     "output_type": "stream",
     "text": [
      "Epoch 4/10 Loss: 0.7108: 100%|██████████| 55/55 [00:57<00:00,  1.04s/batch]\n"
     ]
    },
    {
     "name": "stdout",
     "output_type": "stream",
     "text": [
      "=============================train========================\n"
     ]
    },
    {
     "name": "stderr",
     "output_type": "stream",
     "text": [
      "Epoch 5/10 Loss: 0.6291: 100%|██████████| 55/55 [00:57<00:00,  1.04s/batch]\n"
     ]
    },
    {
     "name": "stdout",
     "output_type": "stream",
     "text": [
      "=============================train========================\n"
     ]
    },
    {
     "name": "stderr",
     "output_type": "stream",
     "text": [
      "Epoch 6/10 Loss: 0.6728: 100%|██████████| 55/55 [00:58<00:00,  1.06s/batch]\n"
     ]
    },
    {
     "name": "stdout",
     "output_type": "stream",
     "text": [
      "=============================train========================\n"
     ]
    },
    {
     "name": "stderr",
     "output_type": "stream",
     "text": [
      "Epoch 7/10 Loss: 0.5955: 100%|██████████| 55/55 [00:59<00:00,  1.08s/batch]\n"
     ]
    },
    {
     "name": "stdout",
     "output_type": "stream",
     "text": [
      "=============================train========================\n"
     ]
    },
    {
     "name": "stderr",
     "output_type": "stream",
     "text": [
      "Epoch 8/10 Loss: 0.5893: 100%|██████████| 55/55 [01:00<00:00,  1.10s/batch]\n"
     ]
    },
    {
     "name": "stdout",
     "output_type": "stream",
     "text": [
      "=============================train========================\n"
     ]
    },
    {
     "name": "stderr",
     "output_type": "stream",
     "text": [
      "Epoch 9/10 Loss: 0.6478: 100%|██████████| 55/55 [00:59<00:00,  1.08s/batch]\n"
     ]
    },
    {
     "name": "stdout",
     "output_type": "stream",
     "text": [
      "=============================train========================\n"
     ]
    },
    {
     "name": "stderr",
     "output_type": "stream",
     "text": [
      "Epoch 10/10 Loss: 0.5796: 100%|██████████| 55/55 [01:02<00:00,  1.13s/batch]\n"
     ]
    },
    {
     "name": "stdout",
     "output_type": "stream",
     "text": [
      "=============================train========================\n",
      "Validation Accuracy: 0.8227\n",
      "Precision: 0.8407\n",
      "Recall: 0.8227\n",
      "F1-Score: 0.8256\n"
     ]
    },
    {
     "name": "stderr",
     "output_type": "stream",
     "text": [
      "/root/miniconda3/lib/python3.10/site-packages/transformers/optimization.py:391: FutureWarning: This implementation of AdamW is deprecated and will be removed in a future version. Use the PyTorch implementation torch.optim.AdamW instead, or set `no_deprecation_warning=True` to disable this warning\n",
      "  warnings.warn(\n"
     ]
    },
    {
     "name": "stdout",
     "output_type": "stream",
     "text": [
      "Validation Accuracy: 0.7778\n",
      "Precision: 0.8099\n",
      "Recall: 0.7778\n",
      "F1-Score: 0.7804\n",
      "              precision    recall  f1-score   support\n",
      "\n",
      "           0     0.9052    0.7100    0.7958       269\n",
      "           1     0.6609    0.8837    0.7562       172\n",
      "\n",
      "    accuracy                         0.7778       441\n",
      "   macro avg     0.7830    0.7969    0.7760       441\n",
      "weighted avg     0.8099    0.7778    0.7804       441\n",
      "\n",
      "train 2606 test 458 val 458\n"
     ]
    },
    {
     "name": "stderr",
     "output_type": "stream",
     "text": [
      "Epoch 1/10 Loss: 4.3010: 100%|██████████| 58/58 [00:48<00:00,  1.19batch/s]\n"
     ]
    },
    {
     "name": "stdout",
     "output_type": "stream",
     "text": [
      "=============================train========================\n"
     ]
    },
    {
     "name": "stderr",
     "output_type": "stream",
     "text": [
      "Epoch 2/10 Loss: 1.5405: 100%|██████████| 58/58 [00:49<00:00,  1.17batch/s]\n"
     ]
    },
    {
     "name": "stdout",
     "output_type": "stream",
     "text": [
      "=============================train========================\n"
     ]
    },
    {
     "name": "stderr",
     "output_type": "stream",
     "text": [
      "Epoch 3/10 Loss: 1.0198: 100%|██████████| 58/58 [00:48<00:00,  1.20batch/s]\n"
     ]
    },
    {
     "name": "stdout",
     "output_type": "stream",
     "text": [
      "=============================train========================\n"
     ]
    },
    {
     "name": "stderr",
     "output_type": "stream",
     "text": [
      "Epoch 4/10 Loss: 0.9200: 100%|██████████| 58/58 [00:46<00:00,  1.24batch/s]\n"
     ]
    },
    {
     "name": "stdout",
     "output_type": "stream",
     "text": [
      "=============================train========================\n"
     ]
    },
    {
     "name": "stderr",
     "output_type": "stream",
     "text": [
      "Epoch 5/10 Loss: 0.6920: 100%|██████████| 58/58 [00:50<00:00,  1.16batch/s]\n"
     ]
    },
    {
     "name": "stdout",
     "output_type": "stream",
     "text": [
      "=============================train========================\n"
     ]
    },
    {
     "name": "stderr",
     "output_type": "stream",
     "text": [
      "Epoch 6/10 Loss: 0.6369: 100%|██████████| 58/58 [00:53<00:00,  1.09batch/s]\n"
     ]
    },
    {
     "name": "stdout",
     "output_type": "stream",
     "text": [
      "=============================train========================\n"
     ]
    },
    {
     "name": "stderr",
     "output_type": "stream",
     "text": [
      "Epoch 7/10 Loss: 0.5975: 100%|██████████| 58/58 [00:48<00:00,  1.19batch/s]\n"
     ]
    },
    {
     "name": "stdout",
     "output_type": "stream",
     "text": [
      "=============================train========================\n"
     ]
    },
    {
     "name": "stderr",
     "output_type": "stream",
     "text": [
      "Epoch 8/10 Loss: 0.5717: 100%|██████████| 58/58 [00:49<00:00,  1.16batch/s]\n"
     ]
    },
    {
     "name": "stdout",
     "output_type": "stream",
     "text": [
      "=============================train========================\n"
     ]
    },
    {
     "name": "stderr",
     "output_type": "stream",
     "text": [
      "Epoch 9/10 Loss: 0.5384: 100%|██████████| 58/58 [00:47<00:00,  1.21batch/s]\n"
     ]
    },
    {
     "name": "stdout",
     "output_type": "stream",
     "text": [
      "=============================train========================\n"
     ]
    },
    {
     "name": "stderr",
     "output_type": "stream",
     "text": [
      "Epoch 10/10 Loss: 0.5418: 100%|██████████| 58/58 [00:48<00:00,  1.19batch/s]\n"
     ]
    },
    {
     "name": "stdout",
     "output_type": "stream",
     "text": [
      "=============================train========================\n",
      "Validation Accuracy: 0.8231\n",
      "Precision: 0.8421\n",
      "Recall: 0.8231\n",
      "F1-Score: 0.8260\n"
     ]
    },
    {
     "name": "stderr",
     "output_type": "stream",
     "text": [
      "/root/miniconda3/lib/python3.10/site-packages/transformers/optimization.py:391: FutureWarning: This implementation of AdamW is deprecated and will be removed in a future version. Use the PyTorch implementation torch.optim.AdamW instead, or set `no_deprecation_warning=True` to disable this warning\n",
      "  warnings.warn(\n"
     ]
    },
    {
     "name": "stdout",
     "output_type": "stream",
     "text": [
      "Validation Accuracy: 0.7926\n",
      "Precision: 0.8259\n",
      "Recall: 0.7926\n",
      "F1-Score: 0.7941\n",
      "              precision    recall  f1-score   support\n",
      "\n",
      "           0     0.9238    0.7106    0.8033       273\n",
      "           1     0.6815    0.9135    0.7806       185\n",
      "\n",
      "    accuracy                         0.7926       458\n",
      "   macro avg     0.8026    0.8121    0.7920       458\n",
      "weighted avg     0.8259    0.7926    0.7941       458\n",
      "\n",
      "train 2571 test 475 val 476\n"
     ]
    },
    {
     "name": "stderr",
     "output_type": "stream",
     "text": [
      "Epoch 1/10 Loss: 4.2819: 100%|██████████| 60/60 [01:09<00:00,  1.16s/batch]\n"
     ]
    },
    {
     "name": "stdout",
     "output_type": "stream",
     "text": [
      "=============================train========================\n"
     ]
    },
    {
     "name": "stderr",
     "output_type": "stream",
     "text": [
      "Epoch 2/10 Loss: 1.2293: 100%|██████████| 60/60 [01:08<00:00,  1.13s/batch]\n"
     ]
    },
    {
     "name": "stdout",
     "output_type": "stream",
     "text": [
      "=============================train========================\n"
     ]
    },
    {
     "name": "stderr",
     "output_type": "stream",
     "text": [
      "Epoch 3/10 Loss: 0.9431: 100%|██████████| 60/60 [01:08<00:00,  1.14s/batch]\n"
     ]
    },
    {
     "name": "stdout",
     "output_type": "stream",
     "text": [
      "=============================train========================\n"
     ]
    },
    {
     "name": "stderr",
     "output_type": "stream",
     "text": [
      "Epoch 4/10 Loss: 0.6301: 100%|██████████| 60/60 [01:06<00:00,  1.10s/batch]\n"
     ]
    },
    {
     "name": "stdout",
     "output_type": "stream",
     "text": [
      "=============================train========================\n"
     ]
    },
    {
     "name": "stderr",
     "output_type": "stream",
     "text": [
      "Epoch 5/10 Loss: 0.5658: 100%|██████████| 60/60 [01:06<00:00,  1.11s/batch]\n"
     ]
    },
    {
     "name": "stdout",
     "output_type": "stream",
     "text": [
      "=============================train========================\n"
     ]
    },
    {
     "name": "stderr",
     "output_type": "stream",
     "text": [
      "Epoch 6/10 Loss: 0.5475: 100%|██████████| 60/60 [01:07<00:00,  1.13s/batch]\n"
     ]
    },
    {
     "name": "stdout",
     "output_type": "stream",
     "text": [
      "=============================train========================\n"
     ]
    },
    {
     "name": "stderr",
     "output_type": "stream",
     "text": [
      "Epoch 7/10 Loss: 0.5436: 100%|██████████| 60/60 [01:08<00:00,  1.14s/batch]\n"
     ]
    },
    {
     "name": "stdout",
     "output_type": "stream",
     "text": [
      "=============================train========================\n"
     ]
    },
    {
     "name": "stderr",
     "output_type": "stream",
     "text": [
      "Epoch 8/10 Loss: 0.5415: 100%|██████████| 60/60 [01:07<00:00,  1.13s/batch]\n"
     ]
    },
    {
     "name": "stdout",
     "output_type": "stream",
     "text": [
      "=============================train========================\n"
     ]
    },
    {
     "name": "stderr",
     "output_type": "stream",
     "text": [
      "Epoch 9/10 Loss: 0.5331: 100%|██████████| 60/60 [01:08<00:00,  1.15s/batch]\n"
     ]
    },
    {
     "name": "stdout",
     "output_type": "stream",
     "text": [
      "=============================train========================\n"
     ]
    },
    {
     "name": "stderr",
     "output_type": "stream",
     "text": [
      "Epoch 10/10 Loss: 0.5257: 100%|██████████| 60/60 [01:07<00:00,  1.12s/batch]\n"
     ]
    },
    {
     "name": "stdout",
     "output_type": "stream",
     "text": [
      "=============================train========================\n",
      "Validation Accuracy: 0.8400\n",
      "Precision: 0.8540\n",
      "Recall: 0.8400\n",
      "F1-Score: 0.8422\n"
     ]
    },
    {
     "name": "stderr",
     "output_type": "stream",
     "text": [
      "/root/miniconda3/lib/python3.10/site-packages/transformers/optimization.py:391: FutureWarning: This implementation of AdamW is deprecated and will be removed in a future version. Use the PyTorch implementation torch.optim.AdamW instead, or set `no_deprecation_warning=True` to disable this warning\n",
      "  warnings.warn(\n"
     ]
    },
    {
     "name": "stdout",
     "output_type": "stream",
     "text": [
      "Validation Accuracy: 0.7941\n",
      "Precision: 0.8248\n",
      "Recall: 0.7941\n",
      "F1-Score: 0.7959\n",
      "              precision    recall  f1-score   support\n",
      "\n",
      "           0     0.9193    0.7193    0.8071       285\n",
      "           1     0.6838    0.9058    0.7793       191\n",
      "\n",
      "    accuracy                         0.7941       476\n",
      "   macro avg     0.8015    0.8125    0.7932       476\n",
      "weighted avg     0.8248    0.7941    0.7959       476\n",
      "\n",
      "train 2535 test 493 val 494\n"
     ]
    },
    {
     "name": "stderr",
     "output_type": "stream",
     "text": [
      "Epoch 1/10 Loss: 3.9504: 100%|██████████| 62/62 [00:53<00:00,  1.15batch/s]\n"
     ]
    },
    {
     "name": "stdout",
     "output_type": "stream",
     "text": [
      "=============================train========================\n"
     ]
    },
    {
     "name": "stderr",
     "output_type": "stream",
     "text": [
      "Epoch 2/10 Loss: 0.9638: 100%|██████████| 62/62 [00:52<00:00,  1.19batch/s]\n"
     ]
    },
    {
     "name": "stdout",
     "output_type": "stream",
     "text": [
      "=============================train========================\n"
     ]
    },
    {
     "name": "stderr",
     "output_type": "stream",
     "text": [
      "Epoch 3/10 Loss: 0.6715: 100%|██████████| 62/62 [00:52<00:00,  1.17batch/s]\n"
     ]
    },
    {
     "name": "stdout",
     "output_type": "stream",
     "text": [
      "=============================train========================\n"
     ]
    },
    {
     "name": "stderr",
     "output_type": "stream",
     "text": [
      "Epoch 4/10 Loss: 0.6597: 100%|██████████| 62/62 [00:57<00:00,  1.08batch/s]\n"
     ]
    },
    {
     "name": "stdout",
     "output_type": "stream",
     "text": [
      "=============================train========================\n"
     ]
    },
    {
     "name": "stderr",
     "output_type": "stream",
     "text": [
      "Epoch 5/10 Loss: 0.6362: 100%|██████████| 62/62 [00:56<00:00,  1.09batch/s]\n"
     ]
    },
    {
     "name": "stdout",
     "output_type": "stream",
     "text": [
      "=============================train========================\n"
     ]
    },
    {
     "name": "stderr",
     "output_type": "stream",
     "text": [
      "Epoch 6/10 Loss: 0.5704: 100%|██████████| 62/62 [00:57<00:00,  1.09batch/s]\n"
     ]
    },
    {
     "name": "stdout",
     "output_type": "stream",
     "text": [
      "=============================train========================\n"
     ]
    },
    {
     "name": "stderr",
     "output_type": "stream",
     "text": [
      "Epoch 7/10 Loss: 0.5529: 100%|██████████| 62/62 [00:56<00:00,  1.09batch/s]\n"
     ]
    },
    {
     "name": "stdout",
     "output_type": "stream",
     "text": [
      "=============================train========================\n"
     ]
    },
    {
     "name": "stderr",
     "output_type": "stream",
     "text": [
      "Epoch 8/10 Loss: 0.5401: 100%|██████████| 62/62 [00:57<00:00,  1.09batch/s]\n"
     ]
    },
    {
     "name": "stdout",
     "output_type": "stream",
     "text": [
      "=============================train========================\n"
     ]
    },
    {
     "name": "stderr",
     "output_type": "stream",
     "text": [
      "Epoch 9/10 Loss: 0.5351: 100%|██████████| 62/62 [00:57<00:00,  1.08batch/s]\n"
     ]
    },
    {
     "name": "stdout",
     "output_type": "stream",
     "text": [
      "=============================train========================\n"
     ]
    },
    {
     "name": "stderr",
     "output_type": "stream",
     "text": [
      "Epoch 10/10 Loss: 0.5247: 100%|██████████| 62/62 [00:55<00:00,  1.12batch/s]\n"
     ]
    },
    {
     "name": "stdout",
     "output_type": "stream",
     "text": [
      "=============================train========================\n",
      "Validation Accuracy: 0.8377\n",
      "Precision: 0.8537\n",
      "Recall: 0.8377\n",
      "F1-Score: 0.8402\n"
     ]
    },
    {
     "name": "stderr",
     "output_type": "stream",
     "text": [
      "/root/miniconda3/lib/python3.10/site-packages/transformers/optimization.py:391: FutureWarning: This implementation of AdamW is deprecated and will be removed in a future version. Use the PyTorch implementation torch.optim.AdamW instead, or set `no_deprecation_warning=True` to disable this warning\n",
      "  warnings.warn(\n"
     ]
    },
    {
     "name": "stdout",
     "output_type": "stream",
     "text": [
      "Validation Accuracy: 0.7935\n",
      "Precision: 0.8199\n",
      "Recall: 0.7935\n",
      "F1-Score: 0.7949\n",
      "              precision    recall  f1-score   support\n",
      "\n",
      "           0     0.9091    0.7216    0.8046       291\n",
      "           1     0.6920    0.8966    0.7811       203\n",
      "\n",
      "    accuracy                         0.7935       494\n",
      "   macro avg     0.8006    0.8091    0.7929       494\n",
      "weighted avg     0.8199    0.7935    0.7949       494\n",
      "\n",
      "train 2500 test 511 val 511\n"
     ]
    },
    {
     "name": "stderr",
     "output_type": "stream",
     "text": [
      "Epoch 1/10 Loss: 3.6999: 100%|██████████| 64/64 [00:52<00:00,  1.22batch/s]\n"
     ]
    },
    {
     "name": "stdout",
     "output_type": "stream",
     "text": [
      "=============================train========================\n"
     ]
    },
    {
     "name": "stderr",
     "output_type": "stream",
     "text": [
      "Epoch 2/10 Loss: 0.8443: 100%|██████████| 64/64 [00:49<00:00,  1.29batch/s]\n"
     ]
    },
    {
     "name": "stdout",
     "output_type": "stream",
     "text": [
      "=============================train========================\n"
     ]
    },
    {
     "name": "stderr",
     "output_type": "stream",
     "text": [
      "Epoch 3/10 Loss: 0.6901: 100%|██████████| 64/64 [00:48<00:00,  1.31batch/s]\n"
     ]
    },
    {
     "name": "stdout",
     "output_type": "stream",
     "text": [
      "=============================train========================\n"
     ]
    },
    {
     "name": "stderr",
     "output_type": "stream",
     "text": [
      "Epoch 4/10 Loss: 0.6419: 100%|██████████| 64/64 [00:51<00:00,  1.25batch/s]\n"
     ]
    },
    {
     "name": "stdout",
     "output_type": "stream",
     "text": [
      "=============================train========================\n"
     ]
    },
    {
     "name": "stderr",
     "output_type": "stream",
     "text": [
      "Epoch 5/10 Loss: 0.6068: 100%|██████████| 64/64 [00:52<00:00,  1.22batch/s]\n"
     ]
    },
    {
     "name": "stdout",
     "output_type": "stream",
     "text": [
      "=============================train========================\n"
     ]
    },
    {
     "name": "stderr",
     "output_type": "stream",
     "text": [
      "Epoch 6/10 Loss: 0.7135: 100%|██████████| 64/64 [00:51<00:00,  1.24batch/s]\n"
     ]
    },
    {
     "name": "stdout",
     "output_type": "stream",
     "text": [
      "=============================train========================\n"
     ]
    },
    {
     "name": "stderr",
     "output_type": "stream",
     "text": [
      "Epoch 7/10 Loss: 0.5839: 100%|██████████| 64/64 [00:52<00:00,  1.22batch/s]\n"
     ]
    },
    {
     "name": "stdout",
     "output_type": "stream",
     "text": [
      "=============================train========================\n"
     ]
    },
    {
     "name": "stderr",
     "output_type": "stream",
     "text": [
      "Epoch 8/10 Loss: 0.5611: 100%|██████████| 64/64 [00:51<00:00,  1.23batch/s]\n"
     ]
    },
    {
     "name": "stdout",
     "output_type": "stream",
     "text": [
      "=============================train========================\n"
     ]
    },
    {
     "name": "stderr",
     "output_type": "stream",
     "text": [
      "Epoch 9/10 Loss: 0.5487: 100%|██████████| 64/64 [00:54<00:00,  1.17batch/s]\n"
     ]
    },
    {
     "name": "stdout",
     "output_type": "stream",
     "text": [
      "=============================train========================\n"
     ]
    },
    {
     "name": "stderr",
     "output_type": "stream",
     "text": [
      "Epoch 10/10 Loss: 0.5362: 100%|██████████| 64/64 [00:51<00:00,  1.23batch/s]\n"
     ]
    },
    {
     "name": "stdout",
     "output_type": "stream",
     "text": [
      "=============================train========================\n",
      "Validation Accuracy: 0.8415\n",
      "Precision: 0.8559\n",
      "Recall: 0.8415\n",
      "F1-Score: 0.8438\n"
     ]
    },
    {
     "name": "stderr",
     "output_type": "stream",
     "text": [
      "/root/miniconda3/lib/python3.10/site-packages/transformers/optimization.py:391: FutureWarning: This implementation of AdamW is deprecated and will be removed in a future version. Use the PyTorch implementation torch.optim.AdamW instead, or set `no_deprecation_warning=True` to disable this warning\n",
      "  warnings.warn(\n"
     ]
    },
    {
     "name": "stdout",
     "output_type": "stream",
     "text": [
      "Validation Accuracy: 0.7945\n",
      "Precision: 0.8275\n",
      "Recall: 0.7945\n",
      "F1-Score: 0.7965\n",
      "              precision    recall  f1-score   support\n",
      "\n",
      "           0     0.9247    0.7175    0.8080       308\n",
      "           1     0.6801    0.9113    0.7789       203\n",
      "\n",
      "    accuracy                         0.7945       511\n",
      "   macro avg     0.8024    0.8144    0.7935       511\n",
      "weighted avg     0.8275    0.7945    0.7965       511\n",
      "\n",
      "train 2465 test 528 val 529\n"
     ]
    },
    {
     "name": "stderr",
     "output_type": "stream",
     "text": [
      "Epoch 1/10 Loss: 3.8265: 100%|██████████| 66/66 [01:10<00:00,  1.06s/batch]\n"
     ]
    },
    {
     "name": "stdout",
     "output_type": "stream",
     "text": [
      "=============================train========================\n"
     ]
    },
    {
     "name": "stderr",
     "output_type": "stream",
     "text": [
      "Epoch 2/10 Loss: 1.0237: 100%|██████████| 66/66 [01:07<00:00,  1.02s/batch]\n"
     ]
    },
    {
     "name": "stdout",
     "output_type": "stream",
     "text": [
      "=============================train========================\n"
     ]
    },
    {
     "name": "stderr",
     "output_type": "stream",
     "text": [
      "Epoch 3/10 Loss: 0.8118: 100%|██████████| 66/66 [01:06<00:00,  1.01s/batch]\n"
     ]
    },
    {
     "name": "stdout",
     "output_type": "stream",
     "text": [
      "=============================train========================\n"
     ]
    },
    {
     "name": "stderr",
     "output_type": "stream",
     "text": [
      "Epoch 4/10 Loss: 0.6527: 100%|██████████| 66/66 [01:07<00:00,  1.03s/batch]\n"
     ]
    },
    {
     "name": "stdout",
     "output_type": "stream",
     "text": [
      "=============================train========================\n"
     ]
    },
    {
     "name": "stderr",
     "output_type": "stream",
     "text": [
      "Epoch 5/10 Loss: 0.5770: 100%|██████████| 66/66 [01:08<00:00,  1.04s/batch]\n"
     ]
    },
    {
     "name": "stdout",
     "output_type": "stream",
     "text": [
      "=============================train========================\n"
     ]
    },
    {
     "name": "stderr",
     "output_type": "stream",
     "text": [
      "Epoch 6/10 Loss: 0.5583: 100%|██████████| 66/66 [01:08<00:00,  1.03s/batch]\n"
     ]
    },
    {
     "name": "stdout",
     "output_type": "stream",
     "text": [
      "=============================train========================\n"
     ]
    },
    {
     "name": "stderr",
     "output_type": "stream",
     "text": [
      "Epoch 7/10 Loss: 0.5594: 100%|██████████| 66/66 [01:06<00:00,  1.00s/batch]\n"
     ]
    },
    {
     "name": "stdout",
     "output_type": "stream",
     "text": [
      "=============================train========================\n"
     ]
    },
    {
     "name": "stderr",
     "output_type": "stream",
     "text": [
      "Epoch 8/10 Loss: 0.5544: 100%|██████████| 66/66 [01:07<00:00,  1.03s/batch]\n"
     ]
    },
    {
     "name": "stdout",
     "output_type": "stream",
     "text": [
      "=============================train========================\n"
     ]
    },
    {
     "name": "stderr",
     "output_type": "stream",
     "text": [
      "Epoch 9/10 Loss: 0.5391: 100%|██████████| 66/66 [01:06<00:00,  1.01s/batch]\n"
     ]
    },
    {
     "name": "stdout",
     "output_type": "stream",
     "text": [
      "=============================train========================\n"
     ]
    },
    {
     "name": "stderr",
     "output_type": "stream",
     "text": [
      "Epoch 10/10 Loss: 0.5315: 100%|██████████| 66/66 [01:06<00:00,  1.00s/batch]\n"
     ]
    },
    {
     "name": "stdout",
     "output_type": "stream",
     "text": [
      "=============================train========================\n",
      "Validation Accuracy: 0.8428\n",
      "Precision: 0.8557\n",
      "Recall: 0.8428\n",
      "F1-Score: 0.8451\n",
      "Validation Accuracy: 0.8015\n",
      "Precision: 0.8272\n",
      "Recall: 0.8015\n",
      "F1-Score: 0.8029\n",
      "              precision    recall  f1-score   support\n",
      "\n",
      "           0     0.9157    0.7308    0.8128       312\n",
      "           1     0.7000    0.9032    0.7887       217\n",
      "\n",
      "    accuracy                         0.8015       529\n",
      "   macro avg     0.8078    0.8170    0.8008       529\n",
      "weighted avg     0.8272    0.8015    0.8029       529\n",
      "\n"
     ]
    }
   ],
   "source": [
    "# 改编unlabeled数据的大小，\n",
    "for i in [0.01,0.02,0.03,0.04,0.05,0.06,0.07,0.08,0.09, 0.1]:\n",
    "    train_data, _ = train_test_split(df, train_size=0.35, random_state=42)\n",
    "    train_data, test_data = train_test_split(train_data, test_size=0.2+i, random_state=42)\n",
    "    test_data, val_data = train_test_split(test_data, train_size=0.5, random_state=42)\n",
    "\n",
    "    print('train',len(train_data),'test',len(test_data),'val',len(val_data))\n",
    "    train_data.reset_index(inplace=True)\n",
    "    test_data.reset_index(inplace=True)\n",
    "    val_data.reset_index(inplace=True)\n",
    "    \n",
    "    # Create Datasets and DataLoaders\n",
    "    train_dataset = preprocesser.SentencePairDataset(train_data, bert_tokenizer, codebert_tokenizer, message='message',command='diff',label='label')\n",
    "    val_dataset = preprocesser.SentencePairDataset(val_data, bert_tokenizer, codebert_tokenizer, message='message',command='diff',label='label')\n",
    "    test_dataset = preprocesser.SentencePairDataset(test_data, bert_tokenizer, codebert_tokenizer, message='message',command='diff',label='label')\n",
    "    \n",
    "    train_loader = DataLoader(train_dataset, batch_size=8, shuffle=False)\n",
    "    val_loader = DataLoader(val_dataset, batch_size=8, shuffle=False)\n",
    "    test_loader = DataLoader(test_dataset, batch_size=8, shuffle=False)\n",
    "    \n",
    "    student_model = student_cl.BiLSTMStudent(hidden_dim=256,output_dim =2, base_model1=encoder_model1,base_model2=encoder_model2)\n",
    "    student_model.distill_trainer(moe_model, test_loader, num_epochs=10)\n",
    "    \n",
    "    # test_acc, test_labels, test_probabilities, test_embeddings, test_predictions = student_model.evaluate(test_loader)\n",
    "    # print(classification_report(test_labels,test_predictions))\n",
    "\n",
    "    test_acc, test_labels, test_probabilities, test_embeddings, test_predictions = student_model.evaluate(val_loader)\n",
    "    print(classification_report(test_labels,test_predictions,digits=4))"
   ]
  },
  {
   "cell_type": "code",
   "execution_count": null,
   "id": "0c21ff48-212d-42d5-b602-2a5959b548c4",
   "metadata": {},
   "outputs": [],
   "source": []
  },
  {
   "cell_type": "code",
   "execution_count": 9,
   "id": "2d38e0d5-86f1-4a55-ba54-9802c1db2793",
   "metadata": {
    "execution": {
     "iopub.execute_input": "2025-01-11T15:15:24.724053Z",
     "iopub.status.busy": "2025-01-11T15:15:24.723799Z",
     "iopub.status.idle": "2025-01-11T15:15:24.728543Z",
     "shell.execute_reply": "2025-01-11T15:15:24.727576Z",
     "shell.execute_reply.started": "2025-01-11T15:15:24.724025Z"
    }
   },
   "outputs": [],
   "source": [
    "# train_student_model"
   ]
  },
  {
   "cell_type": "code",
   "execution_count": null,
   "id": "77f1210b-4518-4196-802c-ecd01588f4cd",
   "metadata": {},
   "outputs": [],
   "source": []
  },
  {
   "cell_type": "code",
   "execution_count": 10,
   "id": "bf19d667-f13b-4286-a1aa-6dbef58828ed",
   "metadata": {
    "execution": {
     "iopub.execute_input": "2025-01-11T15:15:24.729709Z",
     "iopub.status.busy": "2025-01-11T15:15:24.729477Z",
     "iopub.status.idle": "2025-01-11T15:15:25.686091Z",
     "shell.execute_reply": "2025-01-11T15:15:25.684880Z",
     "shell.execute_reply.started": "2025-01-11T15:15:24.729683Z"
    }
   },
   "outputs": [
    {
     "name": "stdout",
     "output_type": "stream",
     "text": [
      "在线模型训练完毕\n"
     ]
    }
   ],
   "source": [
    "#发送多种类型的邮件\n",
    "from email.mime.multipart import MIMEMultipart\n",
    "import smtplib\n",
    "\n",
    "from email.mime.text import MIMEText\n",
    "msg_from = '915803745@qq.com'  # 发送方邮箱\n",
    "passwd = 'vcuosuurrgkfbdai'   #就是上面的授权码\n",
    " \n",
    "# to= ['g.zhang@gotion.com', 'j.tong@gotion.com'] #接受方邮箱\n",
    "to= ['j.tong@gotion.com'] #接受方邮箱\n",
    "#设置邮件内容\n",
    "#MIMEMultipart类可以放任何内容\n",
    "msg = MIMEMultipart()\n",
    "conntent=\"在线模型训练完毕\"\n",
    "#把内容加进去\n",
    "msg.attach(MIMEText(conntent,'plain','utf-8'))\n",
    " \n",
    "#设置邮件主题\n",
    "msg['Subject']=\"在线模型训练完毕\"\n",
    " \n",
    "#发送方信息\n",
    "msg['From']=msg_from\n",
    " \n",
    "#开始发送\n",
    " \n",
    "#通过SSL方式发送，服务器地址和端口\n",
    "s = smtplib.SMTP_SSL(\"smtp.qq.com\", 465)\n",
    "# 登录邮箱\n",
    "s.login(msg_from, passwd)\n",
    "#开始发送\n",
    "s.sendmail(msg_from,to,msg.as_string())\n",
    "print(\"在线模型训练完毕\")"
   ]
  },
  {
   "cell_type": "code",
   "execution_count": null,
   "id": "a198e819-7dd7-44c4-9f7f-16c53dfd85cc",
   "metadata": {},
   "outputs": [],
   "source": []
  }
 ],
 "metadata": {
  "kernelspec": {
   "display_name": "Python 3 (ipykernel)",
   "language": "python",
   "name": "python3"
  },
  "language_info": {
   "codemirror_mode": {
    "name": "ipython",
    "version": 3
   },
   "file_extension": ".py",
   "mimetype": "text/x-python",
   "name": "python",
   "nbconvert_exporter": "python",
   "pygments_lexer": "ipython3",
   "version": "3.10.8"
  }
 },
 "nbformat": 4,
 "nbformat_minor": 5
}
