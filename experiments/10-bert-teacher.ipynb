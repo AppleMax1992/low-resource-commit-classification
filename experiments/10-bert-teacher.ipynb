{
 "cells": [
  {
   "cell_type": "code",
   "execution_count": 1,
   "id": "9f82a8cc-7b02-48d7-a783-6e89bccff8b2",
   "metadata": {
    "execution": {
     "iopub.execute_input": "2024-11-18T06:41:54.813606Z",
     "iopub.status.busy": "2024-11-18T06:41:54.812734Z",
     "iopub.status.idle": "2024-11-18T06:41:58.605415Z",
     "shell.execute_reply": "2024-11-18T06:41:58.604274Z",
     "shell.execute_reply.started": "2024-11-18T06:41:54.813526Z"
    }
   },
   "outputs": [
    {
     "name": "stdout",
     "output_type": "stream",
     "text": [
      "\n",
      "root\n",
      "ensemble_commit\n",
      "/root/ensemble_commit\n"
     ]
    }
   ],
   "source": [
    "import pandas as pd\n",
    "from sklearn.model_selection import train_test_split\n",
    "import torch\n",
    "import os\n",
    "\n",
    "notebook_path = os.path.abspath('')\n",
    "import sys\n",
    "# Find the part of the path that contains 'commitFit'\n",
    "commit_fit_path = None\n",
    "for part in notebook_path.split(os.sep):\n",
    "    print(part)\n",
    "    if 'ensemble_commit' in part:\n",
    "        commit_fit_path = notebook_path.split(part)[0] + part\n",
    "        print(commit_fit_path)\n",
    "        break\n",
    "\n",
    "if commit_fit_path is None:\n",
    "    raise ValueError(\"Path containing 'ensemble_commit' not found in notebook path.\")\n",
    "\n",
    "\n",
    "if commit_fit_path not in sys.path:\n",
    "    sys.path.append(commit_fit_path)\n",
    "\n",
    "import ensemble_model.preprocesser as preprocesser \n",
    "import ensemble_model.MoE_model_loss as moe \n",
    "from torch.utils.data import Dataset, DataLoader\n",
    "from transformers import BertModel, BertTokenizer, RobertaModel, RobertaTokenizer, DistilBertModel\n",
    "\n",
    "# import whatthepatch\n",
    "import numpy as np\n",
    "from sklearn.manifold import TSNE\n",
    "import matplotlib.pyplot as plt\n",
    "from sklearn.metrics import precision_score, recall_score, f1_score, precision_recall_curve\n"
   ]
  },
  {
   "cell_type": "code",
   "execution_count": 2,
   "id": "537e23dd-4090-40f0-8c1c-3ed2e96076cc",
   "metadata": {
    "execution": {
     "iopub.execute_input": "2024-11-18T06:41:58.607136Z",
     "iopub.status.busy": "2024-11-18T06:41:58.606829Z",
     "iopub.status.idle": "2024-11-18T06:41:58.616024Z",
     "shell.execute_reply": "2024-11-18T06:41:58.614883Z",
     "shell.execute_reply.started": "2024-11-18T06:41:58.607113Z"
    }
   },
   "outputs": [
    {
     "data": {
      "text/plain": [
       "ensemble_model.MoE_model_loss.BiLSTMStudent"
      ]
     },
     "execution_count": 2,
     "metadata": {},
     "output_type": "execute_result"
    }
   ],
   "source": [
    "moe.BiLSTMStudent"
   ]
  },
  {
   "cell_type": "code",
   "execution_count": 3,
   "id": "666cb7bc-ce61-42cb-b7fa-934b5e5d3580",
   "metadata": {
    "execution": {
     "iopub.execute_input": "2024-11-18T06:41:58.617167Z",
     "iopub.status.busy": "2024-11-18T06:41:58.616937Z",
     "iopub.status.idle": "2024-11-18T06:42:00.259842Z",
     "shell.execute_reply": "2024-11-18T06:42:00.258775Z",
     "shell.execute_reply.started": "2024-11-18T06:41:58.617142Z"
    }
   },
   "outputs": [
    {
     "name": "stderr",
     "output_type": "stream",
     "text": [
      "/tmp/ipykernel_1791/183603274.py:4: FutureWarning: Downcasting behavior in `replace` is deprecated and will be removed in a future version. To retain the old behavior, explicitly call `result.infer_objects(copy=False)`. To opt-in to the future behavior, set `pd.set_option('future.no_silent_downcasting', True)`\n",
      "  df = df.replace({\"category\": label2id})\n"
     ]
    },
    {
     "data": {
      "text/html": [
       "<div>\n",
       "<style scoped>\n",
       "    .dataframe tbody tr th:only-of-type {\n",
       "        vertical-align: middle;\n",
       "    }\n",
       "\n",
       "    .dataframe tbody tr th {\n",
       "        vertical-align: top;\n",
       "    }\n",
       "\n",
       "    .dataframe thead th {\n",
       "        text-align: right;\n",
       "    }\n",
       "</style>\n",
       "<table border=\"1\" class=\"dataframe\">\n",
       "  <thead>\n",
       "    <tr style=\"text-align: right;\">\n",
       "      <th></th>\n",
       "      <th>CVE_ID</th>\n",
       "      <th>CWE_ID</th>\n",
       "      <th>category</th>\n",
       "      <th>commit_id</th>\n",
       "      <th>commit_message</th>\n",
       "      <th>diff_code</th>\n",
       "      <th>owner</th>\n",
       "      <th>repo</th>\n",
       "      <th>source</th>\n",
       "    </tr>\n",
       "  </thead>\n",
       "  <tbody>\n",
       "    <tr>\n",
       "      <th>0</th>\n",
       "      <td>NA</td>\n",
       "      <td>NA</td>\n",
       "      <td>0</td>\n",
       "      <td>540958e2f5a87b81aa5f55ce40b3e2869754f97d</td>\n",
       "      <td>commit 540958e2f5a87b81aa5f55ce40b3e2869754f97...</td>\n",
       "      <td>diff --git a/drivers/staging/comedi/drivers/cb...</td>\n",
       "      <td>stoth68000</td>\n",
       "      <td>media-tree</td>\n",
       "      <td>wild</td>\n",
       "    </tr>\n",
       "    <tr>\n",
       "      <th>1</th>\n",
       "      <td>NA</td>\n",
       "      <td>NA</td>\n",
       "      <td>0</td>\n",
       "      <td>64d240b721b21e266ffde645ec965c3b6d1c551f</td>\n",
       "      <td>commit 64d240b721b21e266ffde645ec965c3b6d1c551...</td>\n",
       "      <td>diff --git a/drivers/target/target_core_file.c...</td>\n",
       "      <td>stoth68000</td>\n",
       "      <td>media-tree</td>\n",
       "      <td>wild</td>\n",
       "    </tr>\n",
       "    <tr>\n",
       "      <th>2</th>\n",
       "      <td>NA</td>\n",
       "      <td>NA</td>\n",
       "      <td>0</td>\n",
       "      <td>f181dd278274f50e689ebd13237010a90b430164</td>\n",
       "      <td>commit f181dd278274f50e689ebd13237010a90b43016...</td>\n",
       "      <td>diff --git a/include/paths.h b/include/paths.h...</td>\n",
       "      <td>openbsd</td>\n",
       "      <td>src</td>\n",
       "      <td>wild</td>\n",
       "    </tr>\n",
       "    <tr>\n",
       "      <th>3</th>\n",
       "      <td>NA</td>\n",
       "      <td>NA</td>\n",
       "      <td>0</td>\n",
       "      <td>0abdc3723b5d33dde698ab941325edec2819c128</td>\n",
       "      <td>commit 0abdc3723b5d33dde698ab941325edec2819c12...</td>\n",
       "      <td>diff --git a/gnu/usr.bin/binutils/ld/lexsup.c ...</td>\n",
       "      <td>openbsd</td>\n",
       "      <td>src</td>\n",
       "      <td>wild</td>\n",
       "    </tr>\n",
       "    <tr>\n",
       "      <th>4</th>\n",
       "      <td>NA</td>\n",
       "      <td>NA</td>\n",
       "      <td>0</td>\n",
       "      <td>d7930d7f820e5dd6b07b823f155aeb943b525e16</td>\n",
       "      <td>commit d7930d7f820e5dd6b07b823f155aeb943b525e1...</td>\n",
       "      <td>diff --git a/src/expat_erl.c b/src/expat_erl.c...</td>\n",
       "      <td>esl</td>\n",
       "      <td>MongooseIM</td>\n",
       "      <td>wild</td>\n",
       "    </tr>\n",
       "    <tr>\n",
       "      <th>...</th>\n",
       "      <td>...</td>\n",
       "      <td>...</td>\n",
       "      <td>...</td>\n",
       "      <td>...</td>\n",
       "      <td>...</td>\n",
       "      <td>...</td>\n",
       "      <td>...</td>\n",
       "      <td>...</td>\n",
       "      <td>...</td>\n",
       "    </tr>\n",
       "    <tr>\n",
       "      <th>35810</th>\n",
       "      <td>CVE-2013-0217</td>\n",
       "      <td>399</td>\n",
       "      <td>1</td>\n",
       "      <td>7d5145d8eb2b9791533ffe4dc003b129b9696c48</td>\n",
       "      <td>From 7d5145d8eb2b9791533ffe4dc003b129b9696c48 ...</td>\n",
       "      <td>diff --git a/drivers/net/xen-netback/netback.c...</td>\n",
       "      <td>torvalds</td>\n",
       "      <td>linux</td>\n",
       "      <td>cve</td>\n",
       "    </tr>\n",
       "    <tr>\n",
       "      <th>35811</th>\n",
       "      <td>CVE-2018-18311</td>\n",
       "      <td>119</td>\n",
       "      <td>1</td>\n",
       "      <td>34716e2a6ee2af96078d62b065b7785c001194be</td>\n",
       "      <td>From 34716e2a6ee2af96078d62b065b7785c001194be ...</td>\n",
       "      <td>diff --git a/util.c b/util.c\\nindex 7282dd9cfe...</td>\n",
       "      <td>Perl</td>\n",
       "      <td>perl5</td>\n",
       "      <td>cve</td>\n",
       "    </tr>\n",
       "    <tr>\n",
       "      <th>35812</th>\n",
       "      <td>CVE-2019-12984</td>\n",
       "      <td>476</td>\n",
       "      <td>1</td>\n",
       "      <td>385097a3675749cbc9e97c085c0e5dfe4269ca51</td>\n",
       "      <td>From 385097a3675749cbc9e97c085c0e5dfe4269ca51 ...</td>\n",
       "      <td>diff --git a/net/nfc/netlink.c b/net/nfc/netli...</td>\n",
       "      <td>torvalds</td>\n",
       "      <td>linux</td>\n",
       "      <td>cve</td>\n",
       "    </tr>\n",
       "    <tr>\n",
       "      <th>35813</th>\n",
       "      <td>CVE-2013-0865</td>\n",
       "      <td>119</td>\n",
       "      <td>1</td>\n",
       "      <td>f3d16706060ab6ae6dc78f15359fab3fd87c9495</td>\n",
       "      <td>From f3d16706060ab6ae6dc78f15359fab3fd87c9495 ...</td>\n",
       "      <td>diff --git a/libavcodec/vqavideo.c b/libavcode...</td>\n",
       "      <td>NA</td>\n",
       "      <td>NA</td>\n",
       "      <td>cve</td>\n",
       "    </tr>\n",
       "    <tr>\n",
       "      <th>35814</th>\n",
       "      <td>CVE-2017-5940</td>\n",
       "      <td>284</td>\n",
       "      <td>1</td>\n",
       "      <td>38d418505e9ee2d326557e5639e8da49c298858f</td>\n",
       "      <td>From 38d418505e9ee2d326557e5639e8da49c298858f ...</td>\n",
       "      <td>diff --git a/src/firejail/fs_home.c b/src/fire...</td>\n",
       "      <td>netblue30</td>\n",
       "      <td>firejail</td>\n",
       "      <td>cve</td>\n",
       "    </tr>\n",
       "  </tbody>\n",
       "</table>\n",
       "<p>35815 rows × 9 columns</p>\n",
       "</div>"
      ],
      "text/plain": [
       "               CVE_ID CWE_ID  category  \\\n",
       "0                  NA     NA         0   \n",
       "1                  NA     NA         0   \n",
       "2                  NA     NA         0   \n",
       "3                  NA     NA         0   \n",
       "4                  NA     NA         0   \n",
       "...               ...    ...       ...   \n",
       "35810   CVE-2013-0217    399         1   \n",
       "35811  CVE-2018-18311    119         1   \n",
       "35812  CVE-2019-12984    476         1   \n",
       "35813   CVE-2013-0865    119         1   \n",
       "35814   CVE-2017-5940    284         1   \n",
       "\n",
       "                                      commit_id  \\\n",
       "0      540958e2f5a87b81aa5f55ce40b3e2869754f97d   \n",
       "1      64d240b721b21e266ffde645ec965c3b6d1c551f   \n",
       "2      f181dd278274f50e689ebd13237010a90b430164   \n",
       "3      0abdc3723b5d33dde698ab941325edec2819c128   \n",
       "4      d7930d7f820e5dd6b07b823f155aeb943b525e16   \n",
       "...                                         ...   \n",
       "35810  7d5145d8eb2b9791533ffe4dc003b129b9696c48   \n",
       "35811  34716e2a6ee2af96078d62b065b7785c001194be   \n",
       "35812  385097a3675749cbc9e97c085c0e5dfe4269ca51   \n",
       "35813  f3d16706060ab6ae6dc78f15359fab3fd87c9495   \n",
       "35814  38d418505e9ee2d326557e5639e8da49c298858f   \n",
       "\n",
       "                                          commit_message  \\\n",
       "0      commit 540958e2f5a87b81aa5f55ce40b3e2869754f97...   \n",
       "1      commit 64d240b721b21e266ffde645ec965c3b6d1c551...   \n",
       "2      commit f181dd278274f50e689ebd13237010a90b43016...   \n",
       "3      commit 0abdc3723b5d33dde698ab941325edec2819c12...   \n",
       "4      commit d7930d7f820e5dd6b07b823f155aeb943b525e1...   \n",
       "...                                                  ...   \n",
       "35810  From 7d5145d8eb2b9791533ffe4dc003b129b9696c48 ...   \n",
       "35811  From 34716e2a6ee2af96078d62b065b7785c001194be ...   \n",
       "35812  From 385097a3675749cbc9e97c085c0e5dfe4269ca51 ...   \n",
       "35813  From f3d16706060ab6ae6dc78f15359fab3fd87c9495 ...   \n",
       "35814  From 38d418505e9ee2d326557e5639e8da49c298858f ...   \n",
       "\n",
       "                                               diff_code       owner  \\\n",
       "0      diff --git a/drivers/staging/comedi/drivers/cb...  stoth68000   \n",
       "1      diff --git a/drivers/target/target_core_file.c...  stoth68000   \n",
       "2      diff --git a/include/paths.h b/include/paths.h...     openbsd   \n",
       "3      diff --git a/gnu/usr.bin/binutils/ld/lexsup.c ...     openbsd   \n",
       "4      diff --git a/src/expat_erl.c b/src/expat_erl.c...         esl   \n",
       "...                                                  ...         ...   \n",
       "35810  diff --git a/drivers/net/xen-netback/netback.c...    torvalds   \n",
       "35811  diff --git a/util.c b/util.c\\nindex 7282dd9cfe...        Perl   \n",
       "35812  diff --git a/net/nfc/netlink.c b/net/nfc/netli...    torvalds   \n",
       "35813  diff --git a/libavcodec/vqavideo.c b/libavcode...          NA   \n",
       "35814  diff --git a/src/firejail/fs_home.c b/src/fire...   netblue30   \n",
       "\n",
       "             repo source  \n",
       "0      media-tree   wild  \n",
       "1      media-tree   wild  \n",
       "2             src   wild  \n",
       "3             src   wild  \n",
       "4      MongooseIM   wild  \n",
       "...           ...    ...  \n",
       "35810       linux    cve  \n",
       "35811       perl5    cve  \n",
       "35812       linux    cve  \n",
       "35813          NA    cve  \n",
       "35814    firejail    cve  \n",
       "\n",
       "[35815 rows x 9 columns]"
      ]
     },
     "execution_count": 3,
     "metadata": {},
     "output_type": "execute_result"
    }
   ],
   "source": [
    "df = pd.read_json(r'../datasets/patch_db.json', encoding='utf_8_sig')\n",
    "df.dropna(inplace=True)\n",
    "label2id={'non-security':0,'security':1}\n",
    "df = df.replace({\"category\": label2id})\n",
    "df"
   ]
  },
  {
   "cell_type": "code",
   "execution_count": 4,
   "id": "18e5ba2e-9175-4455-a42a-ced130563441",
   "metadata": {
    "execution": {
     "iopub.execute_input": "2024-11-18T06:42:00.270706Z",
     "iopub.status.busy": "2024-11-18T06:42:00.270505Z",
     "iopub.status.idle": "2024-11-18T06:42:00.275162Z",
     "shell.execute_reply": "2024-11-18T06:42:00.274206Z",
     "shell.execute_reply.started": "2024-11-18T06:42:00.270680Z"
    }
   },
   "outputs": [],
   "source": [
    "# df['command'] = df['diff'].apply(lambda x : extract_lines(find_longest_list([y.changes for y in whatthepatch.parse_patch(x)])))\n",
    "# extracted_cols = df['diff'].str.extract(r'^diff --git (?P<source>[^\\t\\n]+) (?P<target>[^\\t\\n]+)')\n",
    "# whatthepatch.apply_diff(diff, lao)"
   ]
  },
  {
   "cell_type": "code",
   "execution_count": 5,
   "id": "23ded5b2-b057-4117-b99b-fa77a39bb480",
   "metadata": {
    "execution": {
     "iopub.execute_input": "2024-11-18T06:42:00.275968Z",
     "iopub.status.busy": "2024-11-18T06:42:00.275773Z",
     "iopub.status.idle": "2024-11-18T06:42:00.280392Z",
     "shell.execute_reply": "2024-11-18T06:42:00.279415Z",
     "shell.execute_reply.started": "2024-11-18T06:42:00.275945Z"
    }
   },
   "outputs": [],
   "source": [
    "# len(df_dataset)"
   ]
  },
  {
   "cell_type": "code",
   "execution_count": 6,
   "id": "7b104969-4a01-44b3-8b11-72188d0042e6",
   "metadata": {
    "execution": {
     "iopub.execute_input": "2024-11-18T06:42:00.281318Z",
     "iopub.status.busy": "2024-11-18T06:42:00.281115Z",
     "iopub.status.idle": "2024-11-18T06:42:00.285543Z",
     "shell.execute_reply": "2024-11-18T06:42:00.284550Z",
     "shell.execute_reply.started": "2024-11-18T06:42:00.281295Z"
    }
   },
   "outputs": [],
   "source": [
    "# df_dataset[0]"
   ]
  },
  {
   "cell_type": "code",
   "execution_count": 7,
   "id": "7b77e6e8-8d9d-45f3-be04-94a8b7499213",
   "metadata": {
    "execution": {
     "iopub.execute_input": "2024-11-18T06:42:00.286606Z",
     "iopub.status.busy": "2024-11-18T06:42:00.286388Z",
     "iopub.status.idle": "2024-11-18T06:42:02.643156Z",
     "shell.execute_reply": "2024-11-18T06:42:02.641972Z",
     "shell.execute_reply.started": "2024-11-18T06:42:00.286582Z"
    }
   },
   "outputs": [
    {
     "name": "stderr",
     "output_type": "stream",
     "text": [
      "Some weights of the model checkpoint at ../models/bert-base-cased were not used when initializing BertModel: ['cls.seq_relationship.bias', 'cls.seq_relationship.weight', 'cls.predictions.transform.dense.bias', 'cls.predictions.transform.LayerNorm.weight', 'cls.predictions.transform.LayerNorm.bias', 'cls.predictions.bias', 'cls.predictions.transform.dense.weight']\n",
      "- This IS expected if you are initializing BertModel from the checkpoint of a model trained on another task or with another architecture (e.g. initializing a BertForSequenceClassification model from a BertForPreTraining model).\n",
      "- This IS NOT expected if you are initializing BertModel from the checkpoint of a model that you expect to be exactly identical (initializing a BertForSequenceClassification model from a BertForSequenceClassification model).\n"
     ]
    }
   ],
   "source": [
    "# Load BERT and CodeBERT models and tokenizers\n",
    "bert_model = BertModel.from_pretrained('../models/bert-base-cased')\n",
    "bert_tokenizer = BertTokenizer.from_pretrained('../models/bert-base-cased')\n",
    "\n",
    "codebert_model = RobertaModel.from_pretrained('../models/codebert-base')\n",
    "codebert_tokenizer = RobertaTokenizer.from_pretrained('../models/codebert-base')"
   ]
  },
  {
   "cell_type": "code",
   "execution_count": 8,
   "id": "fa751a3e-86ae-4f11-82ca-c173f5320a09",
   "metadata": {
    "execution": {
     "iopub.execute_input": "2024-11-18T06:42:02.647164Z",
     "iopub.status.busy": "2024-11-18T06:42:02.646981Z",
     "iopub.status.idle": "2024-11-18T06:42:02.672438Z",
     "shell.execute_reply": "2024-11-18T06:42:02.671423Z",
     "shell.execute_reply.started": "2024-11-18T06:42:02.647142Z"
    }
   },
   "outputs": [],
   "source": [
    "train_data, test_data = train_test_split(df, test_size=0.3, random_state=42)\n",
    "test_data, val_data = train_test_split(test_data, test_size=0.5, random_state=42)\n",
    "# train_data = pd.read_csv('./datasets/PD_train.csv')\n",
    "# test_data = pd.read_csv('./datasets/PD_test.csv')\n",
    "# val_data = pd.read_csv('./datasets/PD_val.csv')\n",
    "\n"
   ]
  },
  {
   "cell_type": "code",
   "execution_count": 9,
   "id": "c1f1e42a-ca2a-47b4-aeb0-536795d2a2f7",
   "metadata": {
    "execution": {
     "iopub.execute_input": "2024-11-18T06:42:02.673360Z",
     "iopub.status.busy": "2024-11-18T06:42:02.673196Z",
     "iopub.status.idle": "2024-11-18T06:42:02.677550Z",
     "shell.execute_reply": "2024-11-18T06:42:02.676617Z",
     "shell.execute_reply.started": "2024-11-18T06:42:02.673342Z"
    }
   },
   "outputs": [],
   "source": [
    "# codebert_model.config.hidden_size"
   ]
  },
  {
   "cell_type": "code",
   "execution_count": 10,
   "id": "4b5e68a2-d0bb-42c1-a6a3-1d66267b3651",
   "metadata": {
    "execution": {
     "iopub.execute_input": "2024-11-18T06:42:02.679884Z",
     "iopub.status.busy": "2024-11-18T06:42:02.679680Z",
     "iopub.status.idle": "2024-11-18T06:42:02.685760Z",
     "shell.execute_reply": "2024-11-18T06:42:02.684837Z",
     "shell.execute_reply.started": "2024-11-18T06:42:02.679862Z"
    }
   },
   "outputs": [
    {
     "data": {
      "text/plain": [
       "5372"
      ]
     },
     "execution_count": 10,
     "metadata": {},
     "output_type": "execute_result"
    }
   ],
   "source": [
    "len(test_data)"
   ]
  },
  {
   "cell_type": "code",
   "execution_count": 11,
   "id": "f8f11097-0571-4896-972e-da03419f6f1f",
   "metadata": {
    "execution": {
     "iopub.execute_input": "2024-11-18T06:42:02.686474Z",
     "iopub.status.busy": "2024-11-18T06:42:02.686287Z",
     "iopub.status.idle": "2024-11-18T06:42:02.698939Z",
     "shell.execute_reply": "2024-11-18T06:42:02.697979Z",
     "shell.execute_reply.started": "2024-11-18T06:42:02.686453Z"
    }
   },
   "outputs": [],
   "source": [
    "train_data,_ = train_test_split(train_data, train_size=0.1, random_state=42)\n"
   ]
  },
  {
   "cell_type": "code",
   "execution_count": 12,
   "id": "6d0173b0-7cee-488c-988d-30fdc9c30c95",
   "metadata": {
    "execution": {
     "iopub.execute_input": "2024-11-18T06:42:02.699751Z",
     "iopub.status.busy": "2024-11-18T06:42:02.699594Z",
     "iopub.status.idle": "2024-11-18T06:42:02.705564Z",
     "shell.execute_reply": "2024-11-18T06:42:02.704608Z",
     "shell.execute_reply.started": "2024-11-18T06:42:02.699734Z"
    }
   },
   "outputs": [],
   "source": [
    "train_data.reset_index(inplace=True)\n",
    "test_data.reset_index(inplace=True)\n",
    "val_data.reset_index(inplace=True)"
   ]
  },
  {
   "cell_type": "code",
   "execution_count": 13,
   "id": "e93e40c2-34b1-4bf7-b835-9718fe3f6039",
   "metadata": {
    "execution": {
     "iopub.execute_input": "2024-11-18T06:42:02.706233Z",
     "iopub.status.busy": "2024-11-18T06:42:02.706076Z",
     "iopub.status.idle": "2024-11-18T06:42:02.713932Z",
     "shell.execute_reply": "2024-11-18T06:42:02.713040Z",
     "shell.execute_reply.started": "2024-11-18T06:42:02.706216Z"
    }
   },
   "outputs": [
    {
     "data": {
      "text/plain": [
       "category\n",
       "0    1644\n",
       "1     863\n",
       "Name: count, dtype: int64"
      ]
     },
     "execution_count": 13,
     "metadata": {},
     "output_type": "execute_result"
    }
   ],
   "source": [
    "train_data['category'].value_counts()"
   ]
  },
  {
   "cell_type": "code",
   "execution_count": 14,
   "id": "6b52cd58-8ced-4995-a326-22fbb809b527",
   "metadata": {
    "execution": {
     "iopub.execute_input": "2024-11-18T06:42:02.714826Z",
     "iopub.status.busy": "2024-11-18T06:42:02.714644Z",
     "iopub.status.idle": "2024-11-18T06:42:02.728614Z",
     "shell.execute_reply": "2024-11-18T06:42:02.727680Z",
     "shell.execute_reply.started": "2024-11-18T06:42:02.714806Z"
    }
   },
   "outputs": [
    {
     "data": {
      "text/html": [
       "<div>\n",
       "<style scoped>\n",
       "    .dataframe tbody tr th:only-of-type {\n",
       "        vertical-align: middle;\n",
       "    }\n",
       "\n",
       "    .dataframe tbody tr th {\n",
       "        vertical-align: top;\n",
       "    }\n",
       "\n",
       "    .dataframe thead th {\n",
       "        text-align: right;\n",
       "    }\n",
       "</style>\n",
       "<table border=\"1\" class=\"dataframe\">\n",
       "  <thead>\n",
       "    <tr style=\"text-align: right;\">\n",
       "      <th></th>\n",
       "      <th>index</th>\n",
       "      <th>CVE_ID</th>\n",
       "      <th>CWE_ID</th>\n",
       "      <th>category</th>\n",
       "      <th>commit_id</th>\n",
       "      <th>commit_message</th>\n",
       "      <th>diff_code</th>\n",
       "      <th>owner</th>\n",
       "      <th>repo</th>\n",
       "      <th>source</th>\n",
       "    </tr>\n",
       "  </thead>\n",
       "  <tbody>\n",
       "    <tr>\n",
       "      <th>0</th>\n",
       "      <td>31104</td>\n",
       "      <td>NA</td>\n",
       "      <td>NA</td>\n",
       "      <td>1</td>\n",
       "      <td>31e91e0f40547816f9256d5865d39d504706ad06</td>\n",
       "      <td>commit 31e91e0f40547816f9256d5865d39d504706ad0...</td>\n",
       "      <td>diff --git a/drivers/staging/most/aim-sound/so...</td>\n",
       "      <td>stoth68000</td>\n",
       "      <td>media-tree</td>\n",
       "      <td>wild</td>\n",
       "    </tr>\n",
       "    <tr>\n",
       "      <th>1</th>\n",
       "      <td>3833</td>\n",
       "      <td>NA</td>\n",
       "      <td>NA</td>\n",
       "      <td>0</td>\n",
       "      <td>dfea00191aec19dc1115934a3c06e97fd8338e2e</td>\n",
       "      <td>commit dfea00191aec19dc1115934a3c06e97fd8338e2...</td>\n",
       "      <td>diff --git a/drivers/media/video/mt9p031.c b/d...</td>\n",
       "      <td>mjg59</td>\n",
       "      <td>linux</td>\n",
       "      <td>wild</td>\n",
       "    </tr>\n",
       "    <tr>\n",
       "      <th>2</th>\n",
       "      <td>19412</td>\n",
       "      <td>NA</td>\n",
       "      <td>NA</td>\n",
       "      <td>0</td>\n",
       "      <td>21a36f4840b1f816364ca91e693619ae03266f08</td>\n",
       "      <td>commit 21a36f4840b1f816364ca91e693619ae03266f0...</td>\n",
       "      <td>diff --git a/cgminer.c b/cgminer.c\\nindex 6e47...</td>\n",
       "      <td>sgminer-dev</td>\n",
       "      <td>sgminer</td>\n",
       "      <td>wild</td>\n",
       "    </tr>\n",
       "    <tr>\n",
       "      <th>3</th>\n",
       "      <td>11178</td>\n",
       "      <td>NA</td>\n",
       "      <td>NA</td>\n",
       "      <td>0</td>\n",
       "      <td>7547881d0951384f9833ec3a80fac8f3f16f3b98</td>\n",
       "      <td>commit 7547881d0951384f9833ec3a80fac8f3f16f3b9...</td>\n",
       "      <td>diff --git a/drivers/block/nvme.c b/drivers/bl...</td>\n",
       "      <td>stoth68000</td>\n",
       "      <td>media-tree</td>\n",
       "      <td>wild</td>\n",
       "    </tr>\n",
       "    <tr>\n",
       "      <th>4</th>\n",
       "      <td>13781</td>\n",
       "      <td>NA</td>\n",
       "      <td>NA</td>\n",
       "      <td>0</td>\n",
       "      <td>24adaf7958847e0950b197ac05cced2ea9e0b4e7</td>\n",
       "      <td>commit 24adaf7958847e0950b197ac05cced2ea9e0b4e...</td>\n",
       "      <td>diff --git a/drivers/iio/adc/ti_am335x_adc.c b...</td>\n",
       "      <td>mjg59</td>\n",
       "      <td>linux</td>\n",
       "      <td>wild</td>\n",
       "    </tr>\n",
       "    <tr>\n",
       "      <th>...</th>\n",
       "      <td>...</td>\n",
       "      <td>...</td>\n",
       "      <td>...</td>\n",
       "      <td>...</td>\n",
       "      <td>...</td>\n",
       "      <td>...</td>\n",
       "      <td>...</td>\n",
       "      <td>...</td>\n",
       "      <td>...</td>\n",
       "      <td>...</td>\n",
       "    </tr>\n",
       "    <tr>\n",
       "      <th>5368</th>\n",
       "      <td>21989</td>\n",
       "      <td>NA</td>\n",
       "      <td>NA</td>\n",
       "      <td>0</td>\n",
       "      <td>c4c373bab376f7d4accb8af8eb3dfc41a99ae2d4</td>\n",
       "      <td>commit c4c373bab376f7d4accb8af8eb3dfc41a99ae2d...</td>\n",
       "      <td>diff --git a/src/sbatch/sbatch.c b/src/sbatch/...</td>\n",
       "      <td>SchedMD</td>\n",
       "      <td>slurm</td>\n",
       "      <td>wild</td>\n",
       "    </tr>\n",
       "    <tr>\n",
       "      <th>5369</th>\n",
       "      <td>11040</td>\n",
       "      <td>NA</td>\n",
       "      <td>NA</td>\n",
       "      <td>0</td>\n",
       "      <td>8b7d2a4dc4dd285fdfb7a8e4f71c401c5e0a6566</td>\n",
       "      <td>commit 8b7d2a4dc4dd285fdfb7a8e4f71c401c5e0a656...</td>\n",
       "      <td>diff --git a/lib/asn1/der_get.c b/lib/asn1/der...</td>\n",
       "      <td>heimdal</td>\n",
       "      <td>heimdal</td>\n",
       "      <td>wild</td>\n",
       "    </tr>\n",
       "    <tr>\n",
       "      <th>5370</th>\n",
       "      <td>4840</td>\n",
       "      <td>NA</td>\n",
       "      <td>NA</td>\n",
       "      <td>0</td>\n",
       "      <td>d3d9acf646679c1981032b0985b386d12fccc60c</td>\n",
       "      <td>commit d3d9acf646679c1981032b0985b386d12fccc60...</td>\n",
       "      <td>diff --git a/kernel/trace/trace_events_filter....</td>\n",
       "      <td>mjg59</td>\n",
       "      <td>linux</td>\n",
       "      <td>wild</td>\n",
       "    </tr>\n",
       "    <tr>\n",
       "      <th>5371</th>\n",
       "      <td>15822</td>\n",
       "      <td>NA</td>\n",
       "      <td>NA</td>\n",
       "      <td>0</td>\n",
       "      <td>8379e4823d04e2552e1395c2410fc16733e28c6e</td>\n",
       "      <td>commit 8379e4823d04e2552e1395c2410fc16733e28c6...</td>\n",
       "      <td>diff --git a/drivers/gpu/drm/exynos/exynos_mix...</td>\n",
       "      <td>mjg59</td>\n",
       "      <td>linux</td>\n",
       "      <td>wild</td>\n",
       "    </tr>\n",
       "    <tr>\n",
       "      <th>5372</th>\n",
       "      <td>2300</td>\n",
       "      <td>NA</td>\n",
       "      <td>NA</td>\n",
       "      <td>0</td>\n",
       "      <td>924b6231edfaf1e764ffb4f97ea382bf4facff58</td>\n",
       "      <td>commit 924b6231edfaf1e764ffb4f97ea382bf4facff5...</td>\n",
       "      <td>diff --git a/drivers/pci/intel-iommu.c b/drive...</td>\n",
       "      <td>mjg59</td>\n",
       "      <td>linux</td>\n",
       "      <td>wild</td>\n",
       "    </tr>\n",
       "  </tbody>\n",
       "</table>\n",
       "<p>5373 rows × 10 columns</p>\n",
       "</div>"
      ],
      "text/plain": [
       "      index CVE_ID CWE_ID  category                                 commit_id  \\\n",
       "0     31104     NA     NA         1  31e91e0f40547816f9256d5865d39d504706ad06   \n",
       "1      3833     NA     NA         0  dfea00191aec19dc1115934a3c06e97fd8338e2e   \n",
       "2     19412     NA     NA         0  21a36f4840b1f816364ca91e693619ae03266f08   \n",
       "3     11178     NA     NA         0  7547881d0951384f9833ec3a80fac8f3f16f3b98   \n",
       "4     13781     NA     NA         0  24adaf7958847e0950b197ac05cced2ea9e0b4e7   \n",
       "...     ...    ...    ...       ...                                       ...   \n",
       "5368  21989     NA     NA         0  c4c373bab376f7d4accb8af8eb3dfc41a99ae2d4   \n",
       "5369  11040     NA     NA         0  8b7d2a4dc4dd285fdfb7a8e4f71c401c5e0a6566   \n",
       "5370   4840     NA     NA         0  d3d9acf646679c1981032b0985b386d12fccc60c   \n",
       "5371  15822     NA     NA         0  8379e4823d04e2552e1395c2410fc16733e28c6e   \n",
       "5372   2300     NA     NA         0  924b6231edfaf1e764ffb4f97ea382bf4facff58   \n",
       "\n",
       "                                         commit_message  \\\n",
       "0     commit 31e91e0f40547816f9256d5865d39d504706ad0...   \n",
       "1     commit dfea00191aec19dc1115934a3c06e97fd8338e2...   \n",
       "2     commit 21a36f4840b1f816364ca91e693619ae03266f0...   \n",
       "3     commit 7547881d0951384f9833ec3a80fac8f3f16f3b9...   \n",
       "4     commit 24adaf7958847e0950b197ac05cced2ea9e0b4e...   \n",
       "...                                                 ...   \n",
       "5368  commit c4c373bab376f7d4accb8af8eb3dfc41a99ae2d...   \n",
       "5369  commit 8b7d2a4dc4dd285fdfb7a8e4f71c401c5e0a656...   \n",
       "5370  commit d3d9acf646679c1981032b0985b386d12fccc60...   \n",
       "5371  commit 8379e4823d04e2552e1395c2410fc16733e28c6...   \n",
       "5372  commit 924b6231edfaf1e764ffb4f97ea382bf4facff5...   \n",
       "\n",
       "                                              diff_code        owner  \\\n",
       "0     diff --git a/drivers/staging/most/aim-sound/so...   stoth68000   \n",
       "1     diff --git a/drivers/media/video/mt9p031.c b/d...        mjg59   \n",
       "2     diff --git a/cgminer.c b/cgminer.c\\nindex 6e47...  sgminer-dev   \n",
       "3     diff --git a/drivers/block/nvme.c b/drivers/bl...   stoth68000   \n",
       "4     diff --git a/drivers/iio/adc/ti_am335x_adc.c b...        mjg59   \n",
       "...                                                 ...          ...   \n",
       "5368  diff --git a/src/sbatch/sbatch.c b/src/sbatch/...      SchedMD   \n",
       "5369  diff --git a/lib/asn1/der_get.c b/lib/asn1/der...      heimdal   \n",
       "5370  diff --git a/kernel/trace/trace_events_filter....        mjg59   \n",
       "5371  diff --git a/drivers/gpu/drm/exynos/exynos_mix...        mjg59   \n",
       "5372  diff --git a/drivers/pci/intel-iommu.c b/drive...        mjg59   \n",
       "\n",
       "            repo source  \n",
       "0     media-tree   wild  \n",
       "1          linux   wild  \n",
       "2        sgminer   wild  \n",
       "3     media-tree   wild  \n",
       "4          linux   wild  \n",
       "...          ...    ...  \n",
       "5368       slurm   wild  \n",
       "5369     heimdal   wild  \n",
       "5370       linux   wild  \n",
       "5371       linux   wild  \n",
       "5372       linux   wild  \n",
       "\n",
       "[5373 rows x 10 columns]"
      ]
     },
     "execution_count": 14,
     "metadata": {},
     "output_type": "execute_result"
    }
   ],
   "source": [
    "val_data"
   ]
  },
  {
   "cell_type": "code",
   "execution_count": 15,
   "id": "594e7b0d-1718-47e5-8b68-b27a016c61c5",
   "metadata": {
    "execution": {
     "iopub.execute_input": "2024-11-18T06:42:03.475570Z",
     "iopub.status.busy": "2024-11-18T06:42:03.475346Z",
     "iopub.status.idle": "2024-11-18T06:42:03.493400Z",
     "shell.execute_reply": "2024-11-18T06:42:03.491774Z",
     "shell.execute_reply.started": "2024-11-18T06:42:03.475549Z"
    }
   },
   "outputs": [
    {
     "data": {
      "text/html": [
       "<div>\n",
       "<style scoped>\n",
       "    .dataframe tbody tr th:only-of-type {\n",
       "        vertical-align: middle;\n",
       "    }\n",
       "\n",
       "    .dataframe tbody tr th {\n",
       "        vertical-align: top;\n",
       "    }\n",
       "\n",
       "    .dataframe thead th {\n",
       "        text-align: right;\n",
       "    }\n",
       "</style>\n",
       "<table border=\"1\" class=\"dataframe\">\n",
       "  <thead>\n",
       "    <tr style=\"text-align: right;\">\n",
       "      <th></th>\n",
       "      <th>index</th>\n",
       "      <th>CVE_ID</th>\n",
       "      <th>CWE_ID</th>\n",
       "      <th>category</th>\n",
       "      <th>commit_id</th>\n",
       "      <th>commit_message</th>\n",
       "      <th>diff_code</th>\n",
       "      <th>owner</th>\n",
       "      <th>repo</th>\n",
       "      <th>source</th>\n",
       "    </tr>\n",
       "  </thead>\n",
       "  <tbody>\n",
       "    <tr>\n",
       "      <th>0</th>\n",
       "      <td>31104</td>\n",
       "      <td>NA</td>\n",
       "      <td>NA</td>\n",
       "      <td>1</td>\n",
       "      <td>31e91e0f40547816f9256d5865d39d504706ad06</td>\n",
       "      <td>commit 31e91e0f40547816f9256d5865d39d504706ad0...</td>\n",
       "      <td>diff --git a/drivers/staging/most/aim-sound/so...</td>\n",
       "      <td>stoth68000</td>\n",
       "      <td>media-tree</td>\n",
       "      <td>wild</td>\n",
       "    </tr>\n",
       "    <tr>\n",
       "      <th>1</th>\n",
       "      <td>3833</td>\n",
       "      <td>NA</td>\n",
       "      <td>NA</td>\n",
       "      <td>0</td>\n",
       "      <td>dfea00191aec19dc1115934a3c06e97fd8338e2e</td>\n",
       "      <td>commit dfea00191aec19dc1115934a3c06e97fd8338e2...</td>\n",
       "      <td>diff --git a/drivers/media/video/mt9p031.c b/d...</td>\n",
       "      <td>mjg59</td>\n",
       "      <td>linux</td>\n",
       "      <td>wild</td>\n",
       "    </tr>\n",
       "    <tr>\n",
       "      <th>2</th>\n",
       "      <td>19412</td>\n",
       "      <td>NA</td>\n",
       "      <td>NA</td>\n",
       "      <td>0</td>\n",
       "      <td>21a36f4840b1f816364ca91e693619ae03266f08</td>\n",
       "      <td>commit 21a36f4840b1f816364ca91e693619ae03266f0...</td>\n",
       "      <td>diff --git a/cgminer.c b/cgminer.c\\nindex 6e47...</td>\n",
       "      <td>sgminer-dev</td>\n",
       "      <td>sgminer</td>\n",
       "      <td>wild</td>\n",
       "    </tr>\n",
       "    <tr>\n",
       "      <th>3</th>\n",
       "      <td>11178</td>\n",
       "      <td>NA</td>\n",
       "      <td>NA</td>\n",
       "      <td>0</td>\n",
       "      <td>7547881d0951384f9833ec3a80fac8f3f16f3b98</td>\n",
       "      <td>commit 7547881d0951384f9833ec3a80fac8f3f16f3b9...</td>\n",
       "      <td>diff --git a/drivers/block/nvme.c b/drivers/bl...</td>\n",
       "      <td>stoth68000</td>\n",
       "      <td>media-tree</td>\n",
       "      <td>wild</td>\n",
       "    </tr>\n",
       "    <tr>\n",
       "      <th>4</th>\n",
       "      <td>13781</td>\n",
       "      <td>NA</td>\n",
       "      <td>NA</td>\n",
       "      <td>0</td>\n",
       "      <td>24adaf7958847e0950b197ac05cced2ea9e0b4e7</td>\n",
       "      <td>commit 24adaf7958847e0950b197ac05cced2ea9e0b4e...</td>\n",
       "      <td>diff --git a/drivers/iio/adc/ti_am335x_adc.c b...</td>\n",
       "      <td>mjg59</td>\n",
       "      <td>linux</td>\n",
       "      <td>wild</td>\n",
       "    </tr>\n",
       "    <tr>\n",
       "      <th>...</th>\n",
       "      <td>...</td>\n",
       "      <td>...</td>\n",
       "      <td>...</td>\n",
       "      <td>...</td>\n",
       "      <td>...</td>\n",
       "      <td>...</td>\n",
       "      <td>...</td>\n",
       "      <td>...</td>\n",
       "      <td>...</td>\n",
       "      <td>...</td>\n",
       "    </tr>\n",
       "    <tr>\n",
       "      <th>5368</th>\n",
       "      <td>21989</td>\n",
       "      <td>NA</td>\n",
       "      <td>NA</td>\n",
       "      <td>0</td>\n",
       "      <td>c4c373bab376f7d4accb8af8eb3dfc41a99ae2d4</td>\n",
       "      <td>commit c4c373bab376f7d4accb8af8eb3dfc41a99ae2d...</td>\n",
       "      <td>diff --git a/src/sbatch/sbatch.c b/src/sbatch/...</td>\n",
       "      <td>SchedMD</td>\n",
       "      <td>slurm</td>\n",
       "      <td>wild</td>\n",
       "    </tr>\n",
       "    <tr>\n",
       "      <th>5369</th>\n",
       "      <td>11040</td>\n",
       "      <td>NA</td>\n",
       "      <td>NA</td>\n",
       "      <td>0</td>\n",
       "      <td>8b7d2a4dc4dd285fdfb7a8e4f71c401c5e0a6566</td>\n",
       "      <td>commit 8b7d2a4dc4dd285fdfb7a8e4f71c401c5e0a656...</td>\n",
       "      <td>diff --git a/lib/asn1/der_get.c b/lib/asn1/der...</td>\n",
       "      <td>heimdal</td>\n",
       "      <td>heimdal</td>\n",
       "      <td>wild</td>\n",
       "    </tr>\n",
       "    <tr>\n",
       "      <th>5370</th>\n",
       "      <td>4840</td>\n",
       "      <td>NA</td>\n",
       "      <td>NA</td>\n",
       "      <td>0</td>\n",
       "      <td>d3d9acf646679c1981032b0985b386d12fccc60c</td>\n",
       "      <td>commit d3d9acf646679c1981032b0985b386d12fccc60...</td>\n",
       "      <td>diff --git a/kernel/trace/trace_events_filter....</td>\n",
       "      <td>mjg59</td>\n",
       "      <td>linux</td>\n",
       "      <td>wild</td>\n",
       "    </tr>\n",
       "    <tr>\n",
       "      <th>5371</th>\n",
       "      <td>15822</td>\n",
       "      <td>NA</td>\n",
       "      <td>NA</td>\n",
       "      <td>0</td>\n",
       "      <td>8379e4823d04e2552e1395c2410fc16733e28c6e</td>\n",
       "      <td>commit 8379e4823d04e2552e1395c2410fc16733e28c6...</td>\n",
       "      <td>diff --git a/drivers/gpu/drm/exynos/exynos_mix...</td>\n",
       "      <td>mjg59</td>\n",
       "      <td>linux</td>\n",
       "      <td>wild</td>\n",
       "    </tr>\n",
       "    <tr>\n",
       "      <th>5372</th>\n",
       "      <td>2300</td>\n",
       "      <td>NA</td>\n",
       "      <td>NA</td>\n",
       "      <td>0</td>\n",
       "      <td>924b6231edfaf1e764ffb4f97ea382bf4facff58</td>\n",
       "      <td>commit 924b6231edfaf1e764ffb4f97ea382bf4facff5...</td>\n",
       "      <td>diff --git a/drivers/pci/intel-iommu.c b/drive...</td>\n",
       "      <td>mjg59</td>\n",
       "      <td>linux</td>\n",
       "      <td>wild</td>\n",
       "    </tr>\n",
       "  </tbody>\n",
       "</table>\n",
       "<p>5373 rows × 10 columns</p>\n",
       "</div>"
      ],
      "text/plain": [
       "      index CVE_ID CWE_ID  category                                 commit_id  \\\n",
       "0     31104     NA     NA         1  31e91e0f40547816f9256d5865d39d504706ad06   \n",
       "1      3833     NA     NA         0  dfea00191aec19dc1115934a3c06e97fd8338e2e   \n",
       "2     19412     NA     NA         0  21a36f4840b1f816364ca91e693619ae03266f08   \n",
       "3     11178     NA     NA         0  7547881d0951384f9833ec3a80fac8f3f16f3b98   \n",
       "4     13781     NA     NA         0  24adaf7958847e0950b197ac05cced2ea9e0b4e7   \n",
       "...     ...    ...    ...       ...                                       ...   \n",
       "5368  21989     NA     NA         0  c4c373bab376f7d4accb8af8eb3dfc41a99ae2d4   \n",
       "5369  11040     NA     NA         0  8b7d2a4dc4dd285fdfb7a8e4f71c401c5e0a6566   \n",
       "5370   4840     NA     NA         0  d3d9acf646679c1981032b0985b386d12fccc60c   \n",
       "5371  15822     NA     NA         0  8379e4823d04e2552e1395c2410fc16733e28c6e   \n",
       "5372   2300     NA     NA         0  924b6231edfaf1e764ffb4f97ea382bf4facff58   \n",
       "\n",
       "                                         commit_message  \\\n",
       "0     commit 31e91e0f40547816f9256d5865d39d504706ad0...   \n",
       "1     commit dfea00191aec19dc1115934a3c06e97fd8338e2...   \n",
       "2     commit 21a36f4840b1f816364ca91e693619ae03266f0...   \n",
       "3     commit 7547881d0951384f9833ec3a80fac8f3f16f3b9...   \n",
       "4     commit 24adaf7958847e0950b197ac05cced2ea9e0b4e...   \n",
       "...                                                 ...   \n",
       "5368  commit c4c373bab376f7d4accb8af8eb3dfc41a99ae2d...   \n",
       "5369  commit 8b7d2a4dc4dd285fdfb7a8e4f71c401c5e0a656...   \n",
       "5370  commit d3d9acf646679c1981032b0985b386d12fccc60...   \n",
       "5371  commit 8379e4823d04e2552e1395c2410fc16733e28c6...   \n",
       "5372  commit 924b6231edfaf1e764ffb4f97ea382bf4facff5...   \n",
       "\n",
       "                                              diff_code        owner  \\\n",
       "0     diff --git a/drivers/staging/most/aim-sound/so...   stoth68000   \n",
       "1     diff --git a/drivers/media/video/mt9p031.c b/d...        mjg59   \n",
       "2     diff --git a/cgminer.c b/cgminer.c\\nindex 6e47...  sgminer-dev   \n",
       "3     diff --git a/drivers/block/nvme.c b/drivers/bl...   stoth68000   \n",
       "4     diff --git a/drivers/iio/adc/ti_am335x_adc.c b...        mjg59   \n",
       "...                                                 ...          ...   \n",
       "5368  diff --git a/src/sbatch/sbatch.c b/src/sbatch/...      SchedMD   \n",
       "5369  diff --git a/lib/asn1/der_get.c b/lib/asn1/der...      heimdal   \n",
       "5370  diff --git a/kernel/trace/trace_events_filter....        mjg59   \n",
       "5371  diff --git a/drivers/gpu/drm/exynos/exynos_mix...        mjg59   \n",
       "5372  diff --git a/drivers/pci/intel-iommu.c b/drive...        mjg59   \n",
       "\n",
       "            repo source  \n",
       "0     media-tree   wild  \n",
       "1          linux   wild  \n",
       "2        sgminer   wild  \n",
       "3     media-tree   wild  \n",
       "4          linux   wild  \n",
       "...          ...    ...  \n",
       "5368       slurm   wild  \n",
       "5369     heimdal   wild  \n",
       "5370       linux   wild  \n",
       "5371       linux   wild  \n",
       "5372       linux   wild  \n",
       "\n",
       "[5373 rows x 10 columns]"
      ]
     },
     "execution_count": 15,
     "metadata": {},
     "output_type": "execute_result"
    }
   ],
   "source": [
    "val_data"
   ]
  },
  {
   "cell_type": "code",
   "execution_count": 16,
   "id": "1549be02-6f6b-41e5-bd04-d3e164061eec",
   "metadata": {
    "execution": {
     "iopub.execute_input": "2024-11-18T06:42:04.253039Z",
     "iopub.status.busy": "2024-11-18T06:42:04.251789Z",
     "iopub.status.idle": "2024-11-18T06:42:04.267105Z",
     "shell.execute_reply": "2024-11-18T06:42:04.265489Z",
     "shell.execute_reply.started": "2024-11-18T06:42:04.252959Z"
    }
   },
   "outputs": [],
   "source": [
    "\n",
    "\n",
    "# Create Datasets and DataLoaders\n",
    "train_dataset = preprocesser.SentencePairDataset(train_data, bert_tokenizer, codebert_tokenizer, message='commit_message',command='diff_code',label='category')\n",
    "val_dataset = preprocesser.SentencePairDataset(val_data, bert_tokenizer, codebert_tokenizer, message='commit_message',command='diff_code',label='category')\n",
    "test_dataset = preprocesser.SentencePairDataset(test_data, bert_tokenizer, codebert_tokenizer, message='commit_message',command='diff_code',label='category')\n",
    "\n",
    "train_loader = DataLoader(train_dataset, batch_size=8, shuffle=False)\n",
    "val_loader = DataLoader(val_dataset, batch_size=8, shuffle=False)\n",
    "test_loader = DataLoader(test_dataset, batch_size=8, shuffle=False)\n",
    "\n",
    "\n",
    "\n",
    "# # Initialize the model\n",
    "# model = em.CombinedModel(bert_model, codebert_model, bert_tokenizer, codebert_tokenizer)\n",
    "\n",
    "# # Train the model\n",
    "# model.trainer(train_loader, val_loader,num_epochs=10)\n",
    "# for batch in train_loader:\n",
    "#     print(batch)"
   ]
  },
  {
   "cell_type": "code",
   "execution_count": 17,
   "id": "09dcb1fc-8ae4-4e9e-9180-41d41e3698af",
   "metadata": {
    "execution": {
     "iopub.execute_input": "2024-11-18T06:42:08.069213Z",
     "iopub.status.busy": "2024-11-18T06:42:08.067688Z",
     "iopub.status.idle": "2024-11-18T06:42:08.076664Z",
     "shell.execute_reply": "2024-11-18T06:42:08.074907Z",
     "shell.execute_reply.started": "2024-11-18T06:42:08.069134Z"
    }
   },
   "outputs": [],
   "source": [
    "base_model1 = moe.BaseModel(bert_model)\n",
    "base_model2 = moe.BaseModel(codebert_model)"
   ]
  },
  {
   "cell_type": "code",
   "execution_count": 18,
   "id": "b8bb3e18-9412-4036-93d4-ac331093752c",
   "metadata": {
    "execution": {
     "iopub.execute_input": "2024-11-18T06:42:09.781348Z",
     "iopub.status.busy": "2024-11-18T06:42:09.780099Z",
     "iopub.status.idle": "2024-11-18T06:42:12.324662Z",
     "shell.execute_reply": "2024-11-18T06:42:12.323452Z",
     "shell.execute_reply.started": "2024-11-18T06:42:09.781269Z"
    }
   },
   "outputs": [
    {
     "name": "stderr",
     "output_type": "stream",
     "text": [
      "Some weights of the model checkpoint at /root/autodl-tmp/IPCK/model/distilbert were not used when initializing DistilBertModel: ['vocab_transform.bias', 'vocab_layer_norm.weight', 'vocab_transform.weight', 'vocab_projector.bias', 'vocab_layer_norm.bias']\n",
      "- This IS expected if you are initializing DistilBertModel from the checkpoint of a model trained on another task or with another architecture (e.g. initializing a BertForSequenceClassification model from a BertForPreTraining model).\n",
      "- This IS NOT expected if you are initializing DistilBertModel from the checkpoint of a model that you expect to be exactly identical (initializing a BertForSequenceClassification model from a BertForSequenceClassification model).\n"
     ]
    }
   ],
   "source": [
    "# Load BERT and CodeBERT models and tokenizers\n",
    "bert_model = DistilBertModel.from_pretrained('/root/autodl-tmp/IPCK/model/distilbert')\n",
    "\n",
    "codebert_model = RobertaModel.from_pretrained('../models/codebert-base')"
   ]
  },
  {
   "cell_type": "code",
   "execution_count": 19,
   "id": "e3ab313b-e462-4272-bb74-3ddfbd324125",
   "metadata": {
    "execution": {
     "iopub.execute_input": "2024-11-18T06:42:12.326680Z",
     "iopub.status.busy": "2024-11-18T06:42:12.326382Z",
     "iopub.status.idle": "2024-11-18T06:42:12.332074Z",
     "shell.execute_reply": "2024-11-18T06:42:12.330867Z",
     "shell.execute_reply.started": "2024-11-18T06:42:12.326649Z"
    }
   },
   "outputs": [],
   "source": [
    "encoder_model1 = moe.EncoderModel(bert_model)\n",
    "encoder_model2 = moe.EncoderModel(codebert_model)"
   ]
  },
  {
   "cell_type": "code",
   "execution_count": null,
   "id": "ac85df22-f318-41d4-9f4c-47f56f38055f",
   "metadata": {
    "execution": {
     "iopub.execute_input": "2024-11-18T06:42:14.179496Z",
     "iopub.status.busy": "2024-11-18T06:42:14.178961Z"
    }
   },
   "outputs": [
    {
     "name": "stderr",
     "output_type": "stream",
     "text": [
      "/root/miniconda3/lib/python3.10/site-packages/transformers/optimization.py:391: FutureWarning: This implementation of AdamW is deprecated and will be removed in a future version. Use the PyTorch implementation torch.optim.AdamW instead, or set `no_deprecation_warning=True` to disable this warning\n",
      "  warnings.warn(\n",
      "Epoch 1/30 Loss: 0.1970: 100%|██████████| 314/314 [01:51<00:00,  2.81batch/s]\n"
     ]
    },
    {
     "name": "stdout",
     "output_type": "stream",
     "text": [
      "=============================train========================\n"
     ]
    },
    {
     "name": "stderr",
     "output_type": "stream",
     "text": [
      "Epoch 2/30 Loss: 0.1884: 100%|██████████| 314/314 [01:44<00:00,  3.02batch/s]\n"
     ]
    },
    {
     "name": "stdout",
     "output_type": "stream",
     "text": [
      "=============================train========================\n"
     ]
    },
    {
     "name": "stderr",
     "output_type": "stream",
     "text": [
      "Epoch 3/30 Loss: 0.1662: 100%|██████████| 314/314 [01:48<00:00,  2.88batch/s]\n"
     ]
    },
    {
     "name": "stdout",
     "output_type": "stream",
     "text": [
      "=============================train========================\n"
     ]
    },
    {
     "name": "stderr",
     "output_type": "stream",
     "text": [
      "Epoch 4/30 Loss: 0.1418: 100%|██████████| 314/314 [01:50<00:00,  2.84batch/s]\n"
     ]
    },
    {
     "name": "stdout",
     "output_type": "stream",
     "text": [
      "=============================train========================\n"
     ]
    },
    {
     "name": "stderr",
     "output_type": "stream",
     "text": [
      "Epoch 5/30 Loss: 0.1287: 100%|██████████| 314/314 [01:56<00:00,  2.70batch/s]\n"
     ]
    },
    {
     "name": "stdout",
     "output_type": "stream",
     "text": [
      "=============================train========================\n"
     ]
    },
    {
     "name": "stderr",
     "output_type": "stream",
     "text": [
      "Epoch 6/30 Loss: 0.1263: 100%|██████████| 314/314 [01:55<00:00,  2.72batch/s]\n"
     ]
    },
    {
     "name": "stdout",
     "output_type": "stream",
     "text": [
      "=============================train========================\n"
     ]
    },
    {
     "name": "stderr",
     "output_type": "stream",
     "text": [
      "Epoch 7/30 Loss: 0.1160: 100%|██████████| 314/314 [01:52<00:00,  2.78batch/s]\n"
     ]
    },
    {
     "name": "stdout",
     "output_type": "stream",
     "text": [
      "=============================train========================\n"
     ]
    },
    {
     "name": "stderr",
     "output_type": "stream",
     "text": [
      "Epoch 8/30 Loss: 0.1196: 100%|██████████| 314/314 [01:52<00:00,  2.78batch/s]\n"
     ]
    },
    {
     "name": "stdout",
     "output_type": "stream",
     "text": [
      "=============================train========================\n"
     ]
    },
    {
     "name": "stderr",
     "output_type": "stream",
     "text": [
      "Epoch 9/30:  93%|█████████▎| 292/314 [01:46<00:05,  3.99batch/s]"
     ]
    }
   ],
   "source": [
    "\n",
    "\n",
    "# Create stacking model\n",
    "moe_model = moe.MoEModel(base_model1, base_model2)\n",
    "# Train the model\n",
    "moe_model.trainer(train_loader, val_loader,num_epochs=30, patience=3)"
   ]
  },
  {
   "cell_type": "code",
   "execution_count": null,
   "id": "def4bb0a-419c-46fb-b61b-c9f1a98f0caa",
   "metadata": {},
   "outputs": [],
   "source": [
    "# test_dataset = preprocesser.SentencePairDataset(test_data, bert_tokenizer, codebert_tokenizer,message='commit_message',command='diff_code',label='category')\n",
    "# test_loader = DataLoader(test_dataset, batch_size=8, shuffle=False)"
   ]
  },
  {
   "cell_type": "code",
   "execution_count": 25,
   "id": "4e01924f-b8a3-4282-acf6-6d38aee2620c",
   "metadata": {
    "execution": {
     "iopub.execute_input": "2024-11-17T13:01:00.518088Z",
     "iopub.status.busy": "2024-11-17T13:01:00.517867Z",
     "iopub.status.idle": "2024-11-17T13:01:00.522978Z",
     "shell.execute_reply": "2024-11-17T13:01:00.522013Z",
     "shell.execute_reply.started": "2024-11-17T13:01:00.518063Z"
    }
   },
   "outputs": [],
   "source": []
  },
  {
   "cell_type": "code",
   "execution_count": 24,
   "id": "92009384-7770-4b2a-97b2-c0b4d209a0a7",
   "metadata": {
    "execution": {
     "iopub.execute_input": "2024-11-18T01:50:38.015859Z",
     "iopub.status.busy": "2024-11-18T01:50:38.015477Z",
     "iopub.status.idle": "2024-11-18T01:50:39.455064Z",
     "shell.execute_reply": "2024-11-18T01:50:39.453866Z",
     "shell.execute_reply.started": "2024-11-18T01:50:38.015821Z"
    }
   },
   "outputs": [],
   "source": [
    "torch.save(moe_model, \"entire_model.pth\")"
   ]
  },
  {
   "cell_type": "code",
   "execution_count": 20,
   "id": "49ad177a-0ad0-414e-a5b6-5b768a5da9cd",
   "metadata": {
    "execution": {
     "iopub.execute_input": "2024-11-18T02:02:07.951428Z",
     "iopub.status.busy": "2024-11-18T02:02:07.951198Z",
     "iopub.status.idle": "2024-11-18T02:02:08.735124Z",
     "shell.execute_reply": "2024-11-18T02:02:08.733759Z",
     "shell.execute_reply.started": "2024-11-18T02:02:07.951403Z"
    }
   },
   "outputs": [],
   "source": [
    "moe_model = torch.load(\"entire_model.pth\")                                                                                                                                                                                                                                                                                                                                                                                                                                                        "
   ]
  },
  {
   "cell_type": "code",
   "execution_count": 25,
   "id": "5878d2a3-fe90-45b1-9486-739c4fee6004",
   "metadata": {
    "execution": {
     "iopub.execute_input": "2024-11-18T01:50:49.968839Z",
     "iopub.status.busy": "2024-11-18T01:50:49.967507Z",
     "iopub.status.idle": "2024-11-18T01:52:11.793930Z",
     "shell.execute_reply": "2024-11-18T01:52:11.792836Z",
     "shell.execute_reply.started": "2024-11-18T01:50:49.968801Z"
    }
   },
   "outputs": [
    {
     "name": "stdout",
     "output_type": "stream",
     "text": [
      "Validation Accuracy: 0.8997\n",
      "Precision: 0.8990\n",
      "Recall: 0.8997\n",
      "F1-Score: 0.8987\n"
     ]
    }
   ],
   "source": [
    "test_acc, test_labels, test_probabilities, test_embeddings, test_predictions = moe_model.evaluate(test_loader)"
   ]
  },
  {
   "cell_type": "code",
   "execution_count": 27,
   "id": "b84edf12-7846-4311-8539-7078f9801402",
   "metadata": {
    "execution": {
     "iopub.execute_input": "2024-11-17T13:03:31.039429Z",
     "iopub.status.busy": "2024-11-17T13:03:31.039173Z",
     "iopub.status.idle": "2024-11-17T13:03:31.047302Z",
     "shell.execute_reply": "2024-11-17T13:03:31.046280Z",
     "shell.execute_reply.started": "2024-11-17T13:03:31.039402Z"
    }
   },
   "outputs": [
    {
     "data": {
      "text/plain": [
       "0.8883097542814594"
      ]
     },
     "execution_count": 27,
     "metadata": {},
     "output_type": "execute_result"
    }
   ],
   "source": [
    "test_acc"
   ]
  },
  {
   "cell_type": "code",
   "execution_count": 16,
   "id": "bb91be6c-e590-4e1d-9d34-218891b05cde",
   "metadata": {
    "execution": {
     "iopub.execute_input": "2024-11-16T14:21:30.161184Z",
     "iopub.status.busy": "2024-11-16T14:21:30.160680Z",
     "iopub.status.idle": "2024-11-16T14:21:30.164848Z",
     "shell.execute_reply": "2024-11-16T14:21:30.163699Z",
     "shell.execute_reply.started": "2024-11-16T14:21:30.161156Z"
    }
   },
   "outputs": [],
   "source": [
    "model_save_path = 'best_model'"
   ]
  },
  {
   "cell_type": "code",
   "execution_count": 18,
   "id": "e4dfe962-4d83-4ec0-a9ea-45ec6fef26d9",
   "metadata": {
    "execution": {
     "iopub.execute_input": "2024-11-17T06:05:57.959019Z",
     "iopub.status.busy": "2024-11-17T06:05:57.957277Z",
     "iopub.status.idle": "2024-11-17T06:05:57.965507Z",
     "shell.execute_reply": "2024-11-17T06:05:57.963895Z",
     "shell.execute_reply.started": "2024-11-17T06:05:57.958933Z"
    }
   },
   "outputs": [],
   "source": []
  },
  {
   "cell_type": "code",
   "execution_count": 22,
   "id": "67c4cc22-da20-48e3-be6f-9a406dffab2b",
   "metadata": {
    "execution": {
     "iopub.execute_input": "2024-11-16T13:28:56.958988Z",
     "iopub.status.busy": "2024-11-16T13:28:56.958682Z",
     "iopub.status.idle": "2024-11-16T13:28:58.215509Z",
     "shell.execute_reply": "2024-11-16T13:28:58.214051Z",
     "shell.execute_reply.started": "2024-11-16T13:28:56.958966Z"
    }
   },
   "outputs": [],
   "source": []
  },
  {
   "cell_type": "code",
   "execution_count": 19,
   "id": "d306587f-c218-4f03-a13e-5a8a7f92db07",
   "metadata": {
    "execution": {
     "iopub.execute_input": "2024-11-17T06:05:59.991176Z",
     "iopub.status.busy": "2024-11-17T06:05:59.989392Z",
     "iopub.status.idle": "2024-11-17T06:06:00.810812Z",
     "shell.execute_reply": "2024-11-17T06:06:00.809599Z",
     "shell.execute_reply.started": "2024-11-17T06:05:59.991074Z"
    }
   },
   "outputs": [],
   "source": []
  },
  {
   "cell_type": "code",
   "execution_count": 25,
   "id": "0c21ff48-212d-42d5-b602-2a5959b548c4",
   "metadata": {
    "execution": {
     "iopub.execute_input": "2024-11-18T02:03:18.839354Z",
     "iopub.status.busy": "2024-11-18T02:03:18.837788Z",
     "iopub.status.idle": "2024-11-18T02:03:18.929559Z",
     "shell.execute_reply": "2024-11-18T02:03:18.927565Z",
     "shell.execute_reply.started": "2024-11-18T02:03:18.839275Z"
    }
   },
   "outputs": [],
   "source": [
    "student_model = moe.BiLSTMStudent(hidden_dim=256,output_dim =2, base_model1=encoder_model1,base_model2=encoder_model2)"
   ]
  },
  {
   "cell_type": "code",
   "execution_count": 22,
   "id": "2d38e0d5-86f1-4a55-ba54-9802c1db2793",
   "metadata": {
    "execution": {
     "iopub.execute_input": "2024-11-18T02:02:10.993035Z",
     "iopub.status.busy": "2024-11-18T02:02:10.992665Z",
     "iopub.status.idle": "2024-11-18T02:02:10.998498Z",
     "shell.execute_reply": "2024-11-18T02:02:10.997077Z",
     "shell.execute_reply.started": "2024-11-18T02:02:10.992999Z"
    }
   },
   "outputs": [],
   "source": [
    "# train_student_model"
   ]
  },
  {
   "cell_type": "code",
   "execution_count": 26,
   "id": "77f1210b-4518-4196-802c-ecd01588f4cd",
   "metadata": {
    "execution": {
     "iopub.execute_input": "2024-11-18T02:03:21.115040Z",
     "iopub.status.busy": "2024-11-18T02:03:21.114340Z",
     "iopub.status.idle": "2024-11-18T02:08:11.556210Z",
     "shell.execute_reply": "2024-11-18T02:08:11.554927Z",
     "shell.execute_reply.started": "2024-11-18T02:03:21.114991Z"
    }
   },
   "outputs": [
    {
     "name": "stderr",
     "output_type": "stream",
     "text": [
      "/root/miniconda3/lib/python3.10/site-packages/transformers/optimization.py:391: FutureWarning: This implementation of AdamW is deprecated and will be removed in a future version. Use the PyTorch implementation torch.optim.AdamW instead, or set `no_deprecation_warning=True` to disable this warning\n",
      "  warnings.warn(\n",
      "Epoch 1/1 Loss: 0.9975: 100%|██████████| 672/672 [03:33<00:00,  3.15batch/s]\n"
     ]
    },
    {
     "name": "stdout",
     "output_type": "stream",
     "text": [
      "Epoch 1/1, Training Loss: 0.9975\n",
      "Validation Accuracy: 0.8987\n",
      "Precision: 0.9009\n",
      "Recall: 0.8987\n",
      "F1-Score: 0.8961\n"
     ]
    }
   ],
   "source": [
    "student_model.distill_trainer(moe_model, test_loader, num_epochs=1)"
   ]
  },
  {
   "cell_type": "code",
   "execution_count": 27,
   "id": "d1c3a902-75a6-4716-8db1-baf825fee131",
   "metadata": {
    "execution": {
     "iopub.execute_input": "2024-11-18T02:09:06.732407Z",
     "iopub.status.busy": "2024-11-18T02:09:06.732025Z",
     "iopub.status.idle": "2024-11-18T02:10:36.112915Z",
     "shell.execute_reply": "2024-11-18T02:10:36.111597Z",
     "shell.execute_reply.started": "2024-11-18T02:09:06.732371Z"
    }
   },
   "outputs": [
    {
     "name": "stdout",
     "output_type": "stream",
     "text": [
      "Validation Accuracy: 0.9025\n",
      "Precision: 0.9053\n",
      "Recall: 0.9025\n",
      "F1-Score: 0.8994\n"
     ]
    }
   ],
   "source": [
    "test_acc, test_labels, test_probabilities, test_embeddings, test_predictions = student_model.evaluate(val_loader)"
   ]
  },
  {
   "cell_type": "code",
   "execution_count": 28,
   "id": "d6d05dcc-81b1-4ef8-b41e-42d278a6dae3",
   "metadata": {
    "execution": {
     "iopub.execute_input": "2024-11-18T02:14:49.564880Z",
     "iopub.status.busy": "2024-11-18T02:14:49.564325Z",
     "iopub.status.idle": "2024-11-18T02:14:50.792721Z",
     "shell.execute_reply": "2024-11-18T02:14:50.791555Z",
     "shell.execute_reply.started": "2024-11-18T02:14:49.564843Z"
    }
   },
   "outputs": [],
   "source": [
    "torch.save(student_model, \"student_model.pth\")"
   ]
  },
  {
   "cell_type": "code",
   "execution_count": null,
   "id": "ae9dceb5-9b5c-418a-a0d4-9f9565993485",
   "metadata": {},
   "outputs": [],
   "source": []
  }
 ],
 "metadata": {
  "kernelspec": {
   "display_name": "Python 3 (ipykernel)",
   "language": "python",
   "name": "python3"
  },
  "language_info": {
   "codemirror_mode": {
    "name": "ipython",
    "version": 3
   },
   "file_extension": ".py",
   "mimetype": "text/x-python",
   "name": "python",
   "nbconvert_exporter": "python",
   "pygments_lexer": "ipython3",
   "version": "3.10.8"
  }
 },
 "nbformat": 4,
 "nbformat_minor": 5
}
