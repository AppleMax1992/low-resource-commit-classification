{
 "cells": [
  {
   "cell_type": "code",
   "execution_count": 1,
   "id": "3359fe9a-dcdb-4b8f-bede-4770714c5ee7",
   "metadata": {
    "execution": {
     "iopub.execute_input": "2025-01-11T09:56:14.890041Z",
     "iopub.status.busy": "2025-01-11T09:56:14.889410Z",
     "iopub.status.idle": "2025-01-11T09:56:18.174201Z",
     "shell.execute_reply": "2025-01-11T09:56:18.172913Z",
     "shell.execute_reply.started": "2025-01-11T09:56:14.889964Z"
    }
   },
   "outputs": [],
   "source": [
    "import torch\n",
    "from torch.utils.data import DataLoader\n",
    "from sklearn.model_selection import train_test_split\n",
    "import pandas as pd\n",
    "from commit_transformer.tokenizer import build_vocab\n",
    "from commit_transformer.preprosser import CommitDataset\n",
    "from commit_transformer.model import CombinedModel"
   ]
  },
  {
   "cell_type": "code",
   "execution_count": null,
   "id": "ae4d99e0-95da-4232-abe7-a1154085bcba",
   "metadata": {},
   "outputs": [],
   "source": []
  },
  {
   "cell_type": "code",
   "execution_count": 2,
   "id": "0404ac22-0887-45ab-b70e-2f1326f09b6c",
   "metadata": {
    "execution": {
     "iopub.execute_input": "2025-01-11T09:56:18.176983Z",
     "iopub.status.busy": "2025-01-11T09:56:18.176460Z",
     "iopub.status.idle": "2025-01-11T09:56:20.336694Z",
     "shell.execute_reply": "2025-01-11T09:56:20.335576Z",
     "shell.execute_reply.started": "2025-01-11T09:56:18.176950Z"
    }
   },
   "outputs": [
    {
     "name": "stderr",
     "output_type": "stream",
     "text": [
      "/tmp/ipykernel_1797/2474789719.py:4: FutureWarning: Downcasting behavior in `replace` is deprecated and will be removed in a future version. To retain the old behavior, explicitly call `result.infer_objects(copy=False)`. To opt-in to the future behavior, set `pd.set_option('future.no_silent_downcasting', True)`\n",
      "  df = df.replace({\"category\": label2id})\n"
     ]
    }
   ],
   "source": [
    "df = pd.read_json(r'../datasets/patch_db.json', encoding='utf_8_sig')\n",
    "df.dropna(inplace=True)\n",
    "label2id={'non-security':0,'security':1}\n",
    "df = df.replace({\"category\": label2id})\n",
    "df\n",
    "\n",
    "train, test = train_test_split(df, test_size=0.3, random_state=42)\n",
    "test, val = train_test_split(test, test_size=0.5, random_state=42)\n",
    "train,_ = train_test_split(train, train_size=0.1, random_state=42)\n",
    "test, val = train_test_split(test, train_size=0.1, random_state=42)\n",
    "val, _ = train_test_split(val, train_size=0.1, random_state=42)\n",
    "\n",
    "train.reset_index(inplace=True)\n",
    "test.reset_index(inplace=True)\n",
    "val.reset_index(inplace=True)"
   ]
  },
  {
   "cell_type": "code",
   "execution_count": 3,
   "id": "8569dae2-53fe-4926-8613-f78da191db29",
   "metadata": {
    "execution": {
     "iopub.execute_input": "2025-01-11T09:56:20.337812Z",
     "iopub.status.busy": "2025-01-11T09:56:20.337529Z",
     "iopub.status.idle": "2025-01-11T09:56:20.552347Z",
     "shell.execute_reply": "2025-01-11T09:56:20.551075Z",
     "shell.execute_reply.started": "2025-01-11T09:56:20.337786Z"
    }
   },
   "outputs": [],
   "source": [
    "train_data = []\n",
    "for index, row in train.iterrows():\n",
    "  train_data.append([row['commit_message'],row['diff_code'],row['category']])\n",
    "\n",
    "val_data = []\n",
    "for index, row in val.iterrows():\n",
    "  val_data.append([row['commit_message'],row['diff_code'],row['category']])\n",
    "test_data = []\n",
    "for index, row in test.iterrows():\n",
    "  test_data.append([row['commit_message'],row['diff_code'],row['category']])"
   ]
  },
  {
   "cell_type": "code",
   "execution_count": null,
   "id": "448e450d-706b-4f3e-bde6-bb0cdf546543",
   "metadata": {},
   "outputs": [],
   "source": []
  },
  {
   "cell_type": "code",
   "execution_count": 4,
   "id": "52a979de-01d5-4476-a2a0-cf0dd07bc3f0",
   "metadata": {
    "execution": {
     "iopub.execute_input": "2025-01-11T09:56:20.553702Z",
     "iopub.status.busy": "2025-01-11T09:56:20.553456Z",
     "iopub.status.idle": "2025-01-11T09:56:22.212607Z",
     "shell.execute_reply": "2025-01-11T09:56:22.211432Z",
     "shell.execute_reply.started": "2025-01-11T09:56:20.553676Z"
    }
   },
   "outputs": [],
   "source": [
    "\n",
    "# # Split the dataset\n",
    "# train_data, val_data = train_test_split(data, test_size=0.2, random_state=42)\n",
    "\n",
    "# # Build vocabulary\n",
    "vocab = build_vocab(train_data)\n",
    "\n",
    "# Create Datasets and DataLoaders\n",
    "train_dataset = CommitDataset(train_data, vocab)\n",
    "val_dataset = CommitDataset(val_data, vocab)\n",
    "test_dataset = CommitDataset(test_data, vocab)\n",
    "\n",
    "train_loader = DataLoader(train_dataset, batch_size=8, shuffle=True)\n",
    "val_loader = DataLoader(val_dataset, batch_size=8, shuffle=False)\n",
    "test_loader = DataLoader(test_dataset, batch_size=8, shuffle=False)"
   ]
  },
  {
   "cell_type": "code",
   "execution_count": 5,
   "id": "e4d67d2f-6320-458a-80bf-41977b412950",
   "metadata": {
    "execution": {
     "iopub.execute_input": "2025-01-11T09:56:22.213943Z",
     "iopub.status.busy": "2025-01-11T09:56:22.213700Z",
     "iopub.status.idle": "2025-01-11T09:56:22.611013Z",
     "shell.execute_reply": "2025-01-11T09:56:22.609908Z",
     "shell.execute_reply.started": "2025-01-11T09:56:22.213918Z"
    }
   },
   "outputs": [],
   "source": [
    "model = torch.load(\"transformer_entire_bert_model.pth\")"
   ]
  },
  {
   "cell_type": "code",
   "execution_count": 6,
   "id": "41928b3b-2fa4-46ad-9fb7-9b4c7feb974b",
   "metadata": {
    "execution": {
     "iopub.execute_input": "2025-01-11T09:56:22.612372Z",
     "iopub.status.busy": "2025-01-11T09:56:22.612124Z",
     "iopub.status.idle": "2025-01-11T09:56:22.617187Z",
     "shell.execute_reply": "2025-01-11T09:56:22.616184Z",
     "shell.execute_reply.started": "2025-01-11T09:56:22.612346Z"
    }
   },
   "outputs": [],
   "source": [
    "from sklearn.metrics import precision_score, recall_score, f1_score, precision_recall_curve,classification_report"
   ]
  },
  {
   "cell_type": "code",
   "execution_count": 7,
   "id": "86dddddb-a684-4651-8f27-e22a75d1ac94",
   "metadata": {
    "execution": {
     "iopub.execute_input": "2025-01-11T09:56:22.619338Z",
     "iopub.status.busy": "2025-01-11T09:56:22.619095Z",
     "iopub.status.idle": "2025-01-11T09:56:23.669369Z",
     "shell.execute_reply": "2025-01-11T09:56:23.668148Z",
     "shell.execute_reply.started": "2025-01-11T09:56:22.619312Z"
    }
   },
   "outputs": [
    {
     "name": "stdout",
     "output_type": "stream",
     "text": [
      "Validation Accuracy: 0.7374301675977654\n",
      "Precision: 0.6326530612244898\n",
      "Recall: 0.3712574850299401\n",
      "F1-Score: 0.4679245283018868\n",
      "              precision    recall  f1-score   support\n",
      "\n",
      "           0     0.7608    0.9027    0.8257       370\n",
      "           1     0.6327    0.3713    0.4679       167\n",
      "\n",
      "    accuracy                         0.7374       537\n",
      "   macro avg     0.6967    0.6370    0.6468       537\n",
      "weighted avg     0.7210    0.7374    0.7144       537\n",
      "\n"
     ]
    }
   ],
   "source": [
    "test_labels, test_predictions = model.evaluate(test_loader)\n",
    "print(classification_report(test_labels,test_predictions,digits=4))"
   ]
  },
  {
   "cell_type": "code",
   "execution_count": null,
   "id": "519a11cc-7c4f-481d-b3ac-0d980a94ebff",
   "metadata": {},
   "outputs": [],
   "source": []
  }
 ],
 "metadata": {
  "kernelspec": {
   "display_name": "Python 3 (ipykernel)",
   "language": "python",
   "name": "python3"
  },
  "language_info": {
   "codemirror_mode": {
    "name": "ipython",
    "version": 3
   },
   "file_extension": ".py",
   "mimetype": "text/x-python",
   "name": "python",
   "nbconvert_exporter": "python",
   "pygments_lexer": "ipython3",
   "version": "3.10.8"
  }
 },
 "nbformat": 4,
 "nbformat_minor": 5
}
