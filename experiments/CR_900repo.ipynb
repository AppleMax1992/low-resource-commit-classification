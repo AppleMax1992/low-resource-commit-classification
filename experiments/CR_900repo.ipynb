{
 "cells": [
  {
   "cell_type": "code",
   "execution_count": 1,
   "id": "9f82a8cc-7b02-48d7-a783-6e89bccff8b2",
   "metadata": {
    "execution": {
     "iopub.execute_input": "2025-01-19T14:43:42.953903Z",
     "iopub.status.busy": "2025-01-19T14:43:42.952768Z",
     "iopub.status.idle": "2025-01-19T14:43:46.737957Z",
     "shell.execute_reply": "2025-01-19T14:43:46.736757Z",
     "shell.execute_reply.started": "2025-01-19T14:43:42.953825Z"
    }
   },
   "outputs": [
    {
     "name": "stdout",
     "output_type": "stream",
     "text": [
      "\n",
      "root\n",
      "ensemble_commit\n",
      "/root/ensemble_commit\n"
     ]
    }
   ],
   "source": [
    "import pandas as pd\n",
    "from sklearn.model_selection import train_test_split\n",
    "import torch\n",
    "import os\n",
    "\n",
    "notebook_path = os.path.abspath('')\n",
    "import sys\n",
    "# Find the part of the path that contains 'commitFit'\n",
    "commit_fit_path = None\n",
    "for part in notebook_path.split(os.sep):\n",
    "    print(part)\n",
    "    if 'ensemble_commit' in part:\n",
    "        commit_fit_path = notebook_path.split(part)[0] + part\n",
    "        print(commit_fit_path)\n",
    "        break\n",
    " \n",
    "if commit_fit_path is None:\n",
    "    raise ValueError(\"Path containing 'ensemble_commit' not found in notebook path.\")\n",
    "\n",
    "\n",
    "if commit_fit_path not in sys.path:\n",
    "    sys.path.append(commit_fit_path)\n",
    "\n",
    "# import ensemble_model.preprocesser as preprocesser \n",
    "# import ensemble_model.MoE_model_CE_loss as moe \n",
    "import ensemble_model.preprocesser as preprocesser \n",
    "import ensemble_model.combined_model as cm \n",
    "\n",
    "from torch.utils.data import Dataset, DataLoader\n",
    "from transformers import BertModel, BertTokenizer, RobertaModel, RobertaTokenizer, DistilBertModel"
   ]
  },
  {
   "cell_type": "code",
   "execution_count": null,
   "id": "ca77f896-f407-4fb9-b1e8-9db85f4eec64",
   "metadata": {},
   "outputs": [],
   "source": []
  },
  {
   "cell_type": "code",
   "execution_count": 2,
   "id": "666cb7bc-ce61-42cb-b7fa-934b5e5d3580",
   "metadata": {
    "execution": {
     "iopub.execute_input": "2025-01-19T14:43:46.740094Z",
     "iopub.status.busy": "2025-01-19T14:43:46.739784Z",
     "iopub.status.idle": "2025-01-19T14:43:53.748426Z",
     "shell.execute_reply": "2025-01-19T14:43:53.746847Z",
     "shell.execute_reply.started": "2025-01-19T14:43:46.740070Z"
    }
   },
   "outputs": [
    {
     "name": "stderr",
     "output_type": "stream",
     "text": [
      "/tmp/ipykernel_2195/1430087705.py:4: FutureWarning: Downcasting behavior in `replace` is deprecated and will be removed in a future version. To retain the old behavior, explicitly call `result.infer_objects(copy=False)`. To opt-in to the future behavior, set `pd.set_option('future.no_silent_downcasting', True)`\n",
      "  df = df.replace({\"label\": label2id})\n"
     ]
    }
   ],
   "source": [
    "df = pd.read_csv(r'../datasets/dataset.csv', encoding='utf_8_sig')\n",
    "df.dropna(inplace=True)\n",
    "label2id={'negative':0,'positive':1}\n",
    "df = df.replace({\"label\": label2id})\n",
    "df\n",
    "\n",
    "train, _ = train_test_split(df, train_size=0.35, random_state=42)\n",
    "train, test = train_test_split(train, test_size=0.3, random_state=42)\n",
    "test, val = train_test_split(test, train_size=0.5, random_state=42)\n",
    "\n",
    "train.reset_index(inplace=True)\n",
    "test.reset_index(inplace=True)\n",
    "val.reset_index(inplace=True)"
   ]
  },
  {
   "cell_type": "code",
   "execution_count": 3,
   "id": "18e5ba2e-9175-4455-a42a-ced130563441",
   "metadata": {
    "execution": {
     "iopub.execute_input": "2025-01-19T14:43:53.750050Z",
     "iopub.status.busy": "2025-01-19T14:43:53.749758Z",
     "iopub.status.idle": "2025-01-19T14:43:53.755503Z",
     "shell.execute_reply": "2025-01-19T14:43:53.754427Z",
     "shell.execute_reply.started": "2025-01-19T14:43:53.750018Z"
    }
   },
   "outputs": [],
   "source": [
    "# df['command'] = df['diff'].apply(lambda x : extract_lines(find_longest_list([y.changes for y in whatthepatch.parse_patch(x)])))\n",
    "# extracted_cols = df['diff'].str.extract(r'^diff --git (?P<source>[^\\t\\n]+) (?P<target>[^\\t\\n]+)')\n",
    "# whatthepatch.apply_diff(diff, lao)"
   ]
  },
  {
   "cell_type": "code",
   "execution_count": 4,
   "id": "23ded5b2-b057-4117-b99b-fa77a39bb480",
   "metadata": {
    "execution": {
     "iopub.execute_input": "2025-01-19T14:43:53.756788Z",
     "iopub.status.busy": "2025-01-19T14:43:53.756524Z",
     "iopub.status.idle": "2025-01-19T14:43:53.761581Z",
     "shell.execute_reply": "2025-01-19T14:43:53.760544Z",
     "shell.execute_reply.started": "2025-01-19T14:43:53.756758Z"
    }
   },
   "outputs": [],
   "source": [
    "# len(df_dataset)"
   ]
  },
  {
   "cell_type": "code",
   "execution_count": 5,
   "id": "7b104969-4a01-44b3-8b11-72188d0042e6",
   "metadata": {
    "execution": {
     "iopub.execute_input": "2025-01-19T14:43:53.762719Z",
     "iopub.status.busy": "2025-01-19T14:43:53.762464Z",
     "iopub.status.idle": "2025-01-19T14:43:53.768063Z",
     "shell.execute_reply": "2025-01-19T14:43:53.767041Z",
     "shell.execute_reply.started": "2025-01-19T14:43:53.762690Z"
    }
   },
   "outputs": [],
   "source": [
    "# df_dataset[0]"
   ]
  },
  {
   "cell_type": "code",
   "execution_count": 6,
   "id": "7b77e6e8-8d9d-45f3-be04-94a8b7499213",
   "metadata": {
    "execution": {
     "iopub.execute_input": "2025-01-19T14:43:53.769336Z",
     "iopub.status.busy": "2025-01-19T14:43:53.769080Z",
     "iopub.status.idle": "2025-01-19T14:43:57.158188Z",
     "shell.execute_reply": "2025-01-19T14:43:57.157039Z",
     "shell.execute_reply.started": "2025-01-19T14:43:53.769305Z"
    }
   },
   "outputs": [
    {
     "name": "stderr",
     "output_type": "stream",
     "text": [
      "Some weights of the model checkpoint at ../models/bert-base-cased were not used when initializing BertModel: ['cls.seq_relationship.bias', 'cls.predictions.transform.dense.bias', 'cls.predictions.transform.LayerNorm.weight', 'cls.predictions.bias', 'cls.predictions.transform.LayerNorm.bias', 'cls.seq_relationship.weight', 'cls.predictions.transform.dense.weight']\n",
      "- This IS expected if you are initializing BertModel from the checkpoint of a model trained on another task or with another architecture (e.g. initializing a BertForSequenceClassification model from a BertForPreTraining model).\n",
      "- This IS NOT expected if you are initializing BertModel from the checkpoint of a model that you expect to be exactly identical (initializing a BertForSequenceClassification model from a BertForSequenceClassification model).\n"
     ]
    }
   ],
   "source": [
    "# Load BERT and CodeBERT models and tokenizers\n",
    "bert_model = BertModel.from_pretrained('../models/bert-base-cased')\n",
    "bert_tokenizer = BertTokenizer.from_pretrained('../models/bert-base-cased')\n",
    "\n",
    "codebert_model = RobertaModel.from_pretrained('../models/codebert-base')\n",
    "codebert_tokenizer = RobertaTokenizer.from_pretrained('../models/codebert-base')"
   ]
  },
  {
   "cell_type": "code",
   "execution_count": 7,
   "id": "754df1cb-3f7e-4ef8-974c-8f816fa5c88d",
   "metadata": {
    "execution": {
     "iopub.execute_input": "2025-01-19T14:43:57.161047Z",
     "iopub.status.busy": "2025-01-19T14:43:57.160750Z",
     "iopub.status.idle": "2025-01-19T14:43:57.181684Z",
     "shell.execute_reply": "2025-01-19T14:43:57.180604Z",
     "shell.execute_reply.started": "2025-01-19T14:43:57.161015Z"
    }
   },
   "outputs": [
    {
     "data": {
      "text/html": [
       "<div>\n",
       "<style scoped>\n",
       "    .dataframe tbody tr th:only-of-type {\n",
       "        vertical-align: middle;\n",
       "    }\n",
       "\n",
       "    .dataframe tbody tr th {\n",
       "        vertical-align: top;\n",
       "    }\n",
       "\n",
       "    .dataframe thead th {\n",
       "        text-align: right;\n",
       "    }\n",
       "</style>\n",
       "<table border=\"1\" class=\"dataframe\">\n",
       "  <thead>\n",
       "    <tr style=\"text-align: right;\">\n",
       "      <th></th>\n",
       "      <th>index</th>\n",
       "      <th>Unnamed: 0</th>\n",
       "      <th>label</th>\n",
       "      <th>message</th>\n",
       "      <th>diff</th>\n",
       "    </tr>\n",
       "  </thead>\n",
       "  <tbody>\n",
       "    <tr>\n",
       "      <th>0</th>\n",
       "      <td>897</td>\n",
       "      <td>897</td>\n",
       "      <td>1</td>\n",
       "      <td>https://github.com/ImageMagick/ImageMagick/iss...</td>\n",
       "      <td>diff --git a/coders/png.c b/coders/png.c\\ninde...</td>\n",
       "    </tr>\n",
       "    <tr>\n",
       "      <th>1</th>\n",
       "      <td>2072</td>\n",
       "      <td>2072</td>\n",
       "      <td>0</td>\n",
       "      <td>allocator_thread: rework message sending struc...</td>\n",
       "      <td>diff --git a/src/allocator_thread.c b/src/allo...</td>\n",
       "    </tr>\n",
       "    <tr>\n",
       "      <th>2</th>\n",
       "      <td>8489</td>\n",
       "      <td>8489</td>\n",
       "      <td>1</td>\n",
       "      <td>...</td>\n",
       "      <td>diff --git a/coders/mpc.c b/coders/mpc.c\\ninde...</td>\n",
       "    </tr>\n",
       "    <tr>\n",
       "      <th>3</th>\n",
       "      <td>1692</td>\n",
       "      <td>1692</td>\n",
       "      <td>0</td>\n",
       "      <td>Fix phpcs</td>\n",
       "      <td>diff --git a/src/Core/Configuration.php b/src/...</td>\n",
       "    </tr>\n",
       "    <tr>\n",
       "      <th>4</th>\n",
       "      <td>7905</td>\n",
       "      <td>7905</td>\n",
       "      <td>0</td>\n",
       "      <td>Merge pull request #6467 from BrickOzp/attach2...</td>\n",
       "      <td>diff --git a/Themes/default/Display.template.p...</td>\n",
       "    </tr>\n",
       "    <tr>\n",
       "      <th>...</th>\n",
       "      <td>...</td>\n",
       "      <td>...</td>\n",
       "      <td>...</td>\n",
       "      <td>...</td>\n",
       "      <td>...</td>\n",
       "    </tr>\n",
       "    <tr>\n",
       "      <th>2460</th>\n",
       "      <td>477</td>\n",
       "      <td>477</td>\n",
       "      <td>0</td>\n",
       "      <td>handles FNC1</td>\n",
       "      <td>diff --git a/lib/barby/barcode/code_128.rb b/l...</td>\n",
       "    </tr>\n",
       "    <tr>\n",
       "      <th>2461</th>\n",
       "      <td>7035</td>\n",
       "      <td>7035</td>\n",
       "      <td>0</td>\n",
       "      <td>Bump tox from 3.20.1 to 3.21.3\\n\\nBumps [tox](...</td>\n",
       "      <td>diff --git a/requirements/dev.txt b/requiremen...</td>\n",
       "    </tr>\n",
       "    <tr>\n",
       "      <th>2462</th>\n",
       "      <td>3539</td>\n",
       "      <td>3539</td>\n",
       "      <td>1</td>\n",
       "      <td>Strengthen sanitization, fixes #817</td>\n",
       "      <td>diff --git a/geo-mashup-db.php b/geo-mashup-db...</td>\n",
       "    </tr>\n",
       "    <tr>\n",
       "      <th>2463</th>\n",
       "      <td>5333</td>\n",
       "      <td>5333</td>\n",
       "      <td>0</td>\n",
       "      <td>modify short open tag &lt;? to &lt;?php\\n\\nThe short...</td>\n",
       "      <td>diff --git a/cookieviz/settings.inc b/cookievi...</td>\n",
       "    </tr>\n",
       "    <tr>\n",
       "      <th>2464</th>\n",
       "      <td>2960</td>\n",
       "      <td>2960</td>\n",
       "      <td>0</td>\n",
       "      <td>Fix reference to versioned libcomps.so</td>\n",
       "      <td>diff --git a/libcomps/src/python/docs/doc-sour...</td>\n",
       "    </tr>\n",
       "  </tbody>\n",
       "</table>\n",
       "<p>2465 rows × 5 columns</p>\n",
       "</div>"
      ],
      "text/plain": [
       "      index  Unnamed: 0  label  \\\n",
       "0       897         897      1   \n",
       "1      2072        2072      0   \n",
       "2      8489        8489      1   \n",
       "3      1692        1692      0   \n",
       "4      7905        7905      0   \n",
       "...     ...         ...    ...   \n",
       "2460    477         477      0   \n",
       "2461   7035        7035      0   \n",
       "2462   3539        3539      1   \n",
       "2463   5333        5333      0   \n",
       "2464   2960        2960      0   \n",
       "\n",
       "                                                message  \\\n",
       "0     https://github.com/ImageMagick/ImageMagick/iss...   \n",
       "1     allocator_thread: rework message sending struc...   \n",
       "2                                                   ...   \n",
       "3                                             Fix phpcs   \n",
       "4     Merge pull request #6467 from BrickOzp/attach2...   \n",
       "...                                                 ...   \n",
       "2460                                       handles FNC1   \n",
       "2461  Bump tox from 3.20.1 to 3.21.3\\n\\nBumps [tox](...   \n",
       "2462                Strengthen sanitization, fixes #817   \n",
       "2463  modify short open tag <? to <?php\\n\\nThe short...   \n",
       "2464             Fix reference to versioned libcomps.so   \n",
       "\n",
       "                                                   diff  \n",
       "0     diff --git a/coders/png.c b/coders/png.c\\ninde...  \n",
       "1     diff --git a/src/allocator_thread.c b/src/allo...  \n",
       "2     diff --git a/coders/mpc.c b/coders/mpc.c\\ninde...  \n",
       "3     diff --git a/src/Core/Configuration.php b/src/...  \n",
       "4     diff --git a/Themes/default/Display.template.p...  \n",
       "...                                                 ...  \n",
       "2460  diff --git a/lib/barby/barcode/code_128.rb b/l...  \n",
       "2461  diff --git a/requirements/dev.txt b/requiremen...  \n",
       "2462  diff --git a/geo-mashup-db.php b/geo-mashup-db...  \n",
       "2463  diff --git a/cookieviz/settings.inc b/cookievi...  \n",
       "2464  diff --git a/libcomps/src/python/docs/doc-sour...  \n",
       "\n",
       "[2465 rows x 5 columns]"
      ]
     },
     "execution_count": 7,
     "metadata": {},
     "output_type": "execute_result"
    }
   ],
   "source": [
    "train"
   ]
  },
  {
   "cell_type": "code",
   "execution_count": 8,
   "id": "02829602-8f36-41c0-96e8-b24cf1bd52b3",
   "metadata": {
    "execution": {
     "iopub.execute_input": "2025-01-19T14:43:57.183128Z",
     "iopub.status.busy": "2025-01-19T14:43:57.182848Z",
     "iopub.status.idle": "2025-01-19T14:43:57.190900Z",
     "shell.execute_reply": "2025-01-19T14:43:57.189696Z",
     "shell.execute_reply.started": "2025-01-19T14:43:57.183096Z"
    }
   },
   "outputs": [],
   "source": [
    "# Create Datasets and DataLoaders\n",
    "train_dataset = preprocesser.SentencePairDataset(train, bert_tokenizer, codebert_tokenizer,message='message',command='diff',label='label')\n",
    "val_dataset = preprocesser.SentencePairDataset(val, bert_tokenizer, codebert_tokenizer,message='message',command='diff',label='label')\n",
    "test_dataset = preprocesser.SentencePairDataset(test, bert_tokenizer, codebert_tokenizer,message='message',command='diff',label='label')\n",
    "\n",
    "train_loader = DataLoader(train_dataset, batch_size=8, shuffle=False)\n",
    "val_loader = DataLoader(val_dataset, batch_size=8, shuffle=False)\n",
    "test_loader = DataLoader(test_dataset, batch_size=8, shuffle=False)\n",
    "\n",
    "base_model1 = cm.BaseModel(bert_model)\n",
    "base_model2 = cm.BaseModel(codebert_model)"
   ]
  },
  {
   "cell_type": "code",
   "execution_count": 9,
   "id": "1549be02-6f6b-41e5-bd04-d3e164061eec",
   "metadata": {
    "execution": {
     "iopub.execute_input": "2025-01-19T14:43:57.192224Z",
     "iopub.status.busy": "2025-01-19T14:43:57.191960Z",
     "iopub.status.idle": "2025-01-19T15:10:47.103046Z",
     "shell.execute_reply": "2025-01-19T15:10:47.101848Z",
     "shell.execute_reply.started": "2025-01-19T14:43:57.192194Z"
    }
   },
   "outputs": [
    {
     "name": "stderr",
     "output_type": "stream",
     "text": [
      "/root/miniconda3/lib/python3.10/site-packages/transformers/optimization.py:391: FutureWarning: This implementation of AdamW is deprecated and will be removed in a future version. Use the PyTorch implementation torch.optim.AdamW instead, or set `no_deprecation_warning=True` to disable this warning\n",
      "  warnings.warn(\n",
      "Epoch 1/10 Loss: 0.4513: 100%|██████████| 309/309 [03:08<00:00,  1.64batch/s]\n"
     ]
    },
    {
     "name": "stdout",
     "output_type": "stream",
     "text": [
      "=============================train========================\n"
     ]
    },
    {
     "name": "stderr",
     "output_type": "stream",
     "text": [
      "Epoch 2/10 Loss: 0.2140: 100%|██████████| 309/309 [02:54<00:00,  1.77batch/s]\n"
     ]
    },
    {
     "name": "stdout",
     "output_type": "stream",
     "text": [
      "=============================train========================\n"
     ]
    },
    {
     "name": "stderr",
     "output_type": "stream",
     "text": [
      "Epoch 3/10 Loss: 0.0944: 100%|██████████| 309/309 [02:52<00:00,  1.79batch/s]\n"
     ]
    },
    {
     "name": "stdout",
     "output_type": "stream",
     "text": [
      "=============================train========================\n"
     ]
    },
    {
     "name": "stderr",
     "output_type": "stream",
     "text": [
      "Epoch 4/10 Loss: 0.0786: 100%|██████████| 309/309 [02:52<00:00,  1.79batch/s]\n"
     ]
    },
    {
     "name": "stdout",
     "output_type": "stream",
     "text": [
      "=============================train========================\n"
     ]
    },
    {
     "name": "stderr",
     "output_type": "stream",
     "text": [
      "Epoch 5/10 Loss: 0.0312: 100%|██████████| 309/309 [02:52<00:00,  1.79batch/s]\n"
     ]
    },
    {
     "name": "stdout",
     "output_type": "stream",
     "text": [
      "=============================train========================\n"
     ]
    },
    {
     "name": "stderr",
     "output_type": "stream",
     "text": [
      "Epoch 6/10 Loss: 0.0146: 100%|██████████| 309/309 [02:54<00:00,  1.77batch/s]\n"
     ]
    },
    {
     "name": "stdout",
     "output_type": "stream",
     "text": [
      "=============================train========================\n"
     ]
    },
    {
     "name": "stderr",
     "output_type": "stream",
     "text": [
      "Epoch 7/10 Loss: 0.0403: 100%|██████████| 309/309 [02:55<00:00,  1.76batch/s]\n"
     ]
    },
    {
     "name": "stdout",
     "output_type": "stream",
     "text": [
      "=============================train========================\n"
     ]
    },
    {
     "name": "stderr",
     "output_type": "stream",
     "text": [
      "Epoch 8/10 Loss: 0.0327: 100%|██████████| 309/309 [02:52<00:00,  1.79batch/s]\n"
     ]
    },
    {
     "name": "stdout",
     "output_type": "stream",
     "text": [
      "=============================train========================\n"
     ]
    },
    {
     "name": "stderr",
     "output_type": "stream",
     "text": [
      "Epoch 9/10 Loss: 0.0232: 100%|██████████| 309/309 [02:55<00:00,  1.76batch/s]\n"
     ]
    },
    {
     "name": "stdout",
     "output_type": "stream",
     "text": [
      "=============================train========================\n",
      "Early stopping triggered after 9 epochs\n",
      "Validation Accuracy: 0.8526\n",
      "Precision: 0.8586\n",
      "Recall: 0.8526\n",
      "F1-Score: 0.8535\n",
      "              precision    recall  f1-score   support\n",
      "\n",
      "           0     0.9091    0.8333    0.8696       312\n",
      "           1     0.7860    0.8802    0.8304       217\n",
      "\n",
      "    accuracy                         0.8526       529\n",
      "   macro avg     0.8475    0.8568    0.8500       529\n",
      "weighted avg     0.8586    0.8526    0.8535       529\n",
      "\n"
     ]
    }
   ],
   "source": [
    "# Create stacking model\n",
    "combined_model = cm.CombinedModel(base_model1, base_model2)\n",
    "# Train the model\n",
    "combined_model.trainer(train_loader, val_loader,num_epochs=10, patience=3)"
   ]
  },
  {
   "cell_type": "code",
   "execution_count": 10,
   "id": "5878d2a3-fe90-45b1-9486-739c4fee6004",
   "metadata": {
    "execution": {
     "iopub.execute_input": "2025-01-19T15:10:47.104841Z",
     "iopub.status.busy": "2025-01-19T15:10:47.104586Z",
     "iopub.status.idle": "2025-01-19T15:11:19.536546Z",
     "shell.execute_reply": "2025-01-19T15:11:19.535273Z",
     "shell.execute_reply.started": "2025-01-19T15:10:47.104813Z"
    }
   },
   "outputs": [
    {
     "name": "stdout",
     "output_type": "stream",
     "text": [
      "Validation Accuracy: 0.8788\n",
      "Precision: 0.8829\n",
      "Recall: 0.8788\n",
      "F1-Score: 0.8798\n",
      "              precision    recall  f1-score   support\n",
      "\n",
      "           0     0.9274    0.8776    0.9018       335\n",
      "           1     0.8057    0.8808    0.8416       193\n",
      "\n",
      "    accuracy                         0.8788       528\n",
      "   macro avg     0.8666    0.8792    0.8717       528\n",
      "weighted avg     0.8829    0.8788    0.8798       528\n",
      "\n"
     ]
    }
   ],
   "source": [
    "test_acc, test_labels, test_probabilities, test_embeddings, test_predictions = combined_model.evaluate(test_loader)"
   ]
  },
  {
   "cell_type": "code",
   "execution_count": null,
   "id": "0376c52a-7906-4b38-ab5b-88be13b3b3d5",
   "metadata": {},
   "outputs": [],
   "source": []
  },
  {
   "cell_type": "code",
   "execution_count": null,
   "id": "b84edf12-7846-4311-8539-7078f9801402",
   "metadata": {},
   "outputs": [],
   "source": []
  },
  {
   "cell_type": "code",
   "execution_count": null,
   "id": "2d231095-873f-419b-accf-256577523d83",
   "metadata": {},
   "outputs": [],
   "source": []
  },
  {
   "cell_type": "code",
   "execution_count": null,
   "id": "89e6f9cd-8d2c-4d7e-ae0e-46cee540777a",
   "metadata": {},
   "outputs": [],
   "source": []
  },
  {
   "cell_type": "code",
   "execution_count": null,
   "id": "3084ce4f-6970-4812-b9c1-f09f8207f2f2",
   "metadata": {},
   "outputs": [],
   "source": []
  },
  {
   "cell_type": "code",
   "execution_count": null,
   "id": "ab0cb527-8732-43b7-8e88-2e50a1b6de90",
   "metadata": {},
   "outputs": [],
   "source": []
  },
  {
   "cell_type": "code",
   "execution_count": null,
   "id": "c9248fb4-719c-423e-9f70-001fca1d5fb7",
   "metadata": {},
   "outputs": [],
   "source": []
  },
  {
   "cell_type": "code",
   "execution_count": null,
   "id": "cf3fa80c-6e0c-42a1-92d2-669cca1e84f7",
   "metadata": {},
   "outputs": [],
   "source": []
  },
  {
   "cell_type": "code",
   "execution_count": null,
   "id": "3ca9b990-a568-4acc-8194-53b47fc3452c",
   "metadata": {},
   "outputs": [],
   "source": []
  },
  {
   "cell_type": "code",
   "execution_count": null,
   "id": "09f84c3b-5e00-416b-88d8-b9e1b0b846d8",
   "metadata": {},
   "outputs": [],
   "source": []
  },
  {
   "cell_type": "code",
   "execution_count": null,
   "id": "8ad24f5e-d1c1-4d34-b7e9-43dc6efa7d37",
   "metadata": {},
   "outputs": [],
   "source": []
  }
 ],
 "metadata": {
  "kernelspec": {
   "display_name": "Python 3 (ipykernel)",
   "language": "python",
   "name": "python3"
  },
  "language_info": {
   "codemirror_mode": {
    "name": "ipython",
    "version": 3
   },
   "file_extension": ".py",
   "mimetype": "text/x-python",
   "name": "python",
   "nbconvert_exporter": "python",
   "pygments_lexer": "ipython3",
   "version": "3.10.8"
  }
 },
 "nbformat": 4,
 "nbformat_minor": 5
}
