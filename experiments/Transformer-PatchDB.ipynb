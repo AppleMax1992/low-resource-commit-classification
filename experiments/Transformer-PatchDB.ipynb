{
 "cells": [
  {
   "cell_type": "code",
   "execution_count": 1,
   "id": "3359fe9a-dcdb-4b8f-bede-4770714c5ee7",
   "metadata": {
    "execution": {
     "iopub.execute_input": "2025-01-11T03:41:10.244251Z",
     "iopub.status.busy": "2025-01-11T03:41:10.243486Z",
     "iopub.status.idle": "2025-01-11T03:41:12.491518Z",
     "shell.execute_reply": "2025-01-11T03:41:12.490604Z",
     "shell.execute_reply.started": "2025-01-11T03:41:10.244191Z"
    }
   },
   "outputs": [],
   "source": [
    "import torch\n",
    "from torch.utils.data import DataLoader\n",
    "from sklearn.model_selection import train_test_split\n",
    "import pandas as pd\n",
    "from commit_transformer.tokenizer import build_vocab\n",
    "from commit_transformer.preprosser import CommitDataset\n",
    "from commit_transformer.model import CombinedModel"
   ]
  },
  {
   "cell_type": "code",
   "execution_count": null,
   "id": "ae4d99e0-95da-4232-abe7-a1154085bcba",
   "metadata": {},
   "outputs": [],
   "source": []
  },
  {
   "cell_type": "code",
   "execution_count": 2,
   "id": "0404ac22-0887-45ab-b70e-2f1326f09b6c",
   "metadata": {
    "execution": {
     "iopub.execute_input": "2025-01-11T03:41:12.493393Z",
     "iopub.status.busy": "2025-01-11T03:41:12.493059Z",
     "iopub.status.idle": "2025-01-11T03:41:13.991466Z",
     "shell.execute_reply": "2025-01-11T03:41:13.990605Z",
     "shell.execute_reply.started": "2025-01-11T03:41:12.493368Z"
    }
   },
   "outputs": [
    {
     "name": "stderr",
     "output_type": "stream",
     "text": [
      "/tmp/ipykernel_2538/2474789719.py:4: FutureWarning: Downcasting behavior in `replace` is deprecated and will be removed in a future version. To retain the old behavior, explicitly call `result.infer_objects(copy=False)`. To opt-in to the future behavior, set `pd.set_option('future.no_silent_downcasting', True)`\n",
      "  df = df.replace({\"category\": label2id})\n"
     ]
    }
   ],
   "source": [
    "df = pd.read_json(r'../datasets/patch_db.json', encoding='utf_8_sig')\n",
    "df.dropna(inplace=True)\n",
    "label2id={'non-security':0,'security':1}\n",
    "df = df.replace({\"category\": label2id})\n",
    "df\n",
    "\n",
    "train, test = train_test_split(df, test_size=0.3, random_state=42)\n",
    "test, val = train_test_split(test, test_size=0.5, random_state=42)\n",
    "train,_ = train_test_split(train, train_size=0.1, random_state=42)\n",
    "test, val = train_test_split(test, train_size=0.1, random_state=42)\n",
    "val, _ = train_test_split(val, train_size=0.1, random_state=42)\n",
    "\n",
    "train.reset_index(inplace=True)\n",
    "test.reset_index(inplace=True)\n",
    "val.reset_index(inplace=True)"
   ]
  },
  {
   "cell_type": "code",
   "execution_count": 3,
   "id": "8569dae2-53fe-4926-8613-f78da191db29",
   "metadata": {
    "execution": {
     "iopub.execute_input": "2025-01-11T03:41:13.992671Z",
     "iopub.status.busy": "2025-01-11T03:41:13.992372Z",
     "iopub.status.idle": "2025-01-11T03:41:14.132628Z",
     "shell.execute_reply": "2025-01-11T03:41:14.131622Z",
     "shell.execute_reply.started": "2025-01-11T03:41:13.992647Z"
    }
   },
   "outputs": [],
   "source": [
    "train_data = []\n",
    "for index, row in train.iterrows():\n",
    "  train_data.append([row['commit_message'],row['diff_code'],row['category']])\n",
    "\n",
    "val_data = []\n",
    "for index, row in val.iterrows():\n",
    "  val_data.append([row['commit_message'],row['diff_code'],row['category']])\n",
    "test_data = []\n",
    "for index, row in test.iterrows():\n",
    "  test_data.append([row['commit_message'],row['diff_code'],row['category']])"
   ]
  },
  {
   "cell_type": "code",
   "execution_count": null,
   "id": "448e450d-706b-4f3e-bde6-bb0cdf546543",
   "metadata": {},
   "outputs": [],
   "source": []
  },
  {
   "cell_type": "code",
   "execution_count": 4,
   "id": "52a979de-01d5-4476-a2a0-cf0dd07bc3f0",
   "metadata": {
    "execution": {
     "iopub.execute_input": "2025-01-11T03:41:14.133798Z",
     "iopub.status.busy": "2025-01-11T03:41:14.133602Z",
     "iopub.status.idle": "2025-01-11T03:41:15.487549Z",
     "shell.execute_reply": "2025-01-11T03:41:15.486900Z",
     "shell.execute_reply.started": "2025-01-11T03:41:14.133776Z"
    }
   },
   "outputs": [],
   "source": [
    "\n",
    "# # Split the dataset\n",
    "# train_data, val_data = train_test_split(data, test_size=0.2, random_state=42)\n",
    "\n",
    "# # Build vocabulary\n",
    "vocab = build_vocab(train_data)\n",
    "\n",
    "# Create Datasets and DataLoaders\n",
    "train_dataset = CommitDataset(train_data, vocab)\n",
    "val_dataset = CommitDataset(val_data, vocab)\n",
    "test_dataset = CommitDataset(test_data, vocab)\n",
    "\n",
    "train_loader = DataLoader(train_dataset, batch_size=8, shuffle=True)\n",
    "val_loader = DataLoader(val_dataset, batch_size=8, shuffle=False)\n",
    "test_loader = DataLoader(test_dataset, batch_size=8, shuffle=False)"
   ]
  },
  {
   "cell_type": "code",
   "execution_count": 5,
   "id": "37536688-4edc-4156-af8b-2eb3b1e4e9b5",
   "metadata": {
    "execution": {
     "iopub.execute_input": "2025-01-11T03:41:15.488642Z",
     "iopub.status.busy": "2025-01-11T03:41:15.488374Z",
     "iopub.status.idle": "2025-01-11T03:42:59.749772Z",
     "shell.execute_reply": "2025-01-11T03:42:59.749008Z",
     "shell.execute_reply.started": "2025-01-11T03:41:15.488619Z"
    }
   },
   "outputs": [
    {
     "name": "stderr",
     "output_type": "stream",
     "text": [
      "/root/miniconda3/lib/python3.10/site-packages/torch/nn/modules/transformer.py:282: UserWarning: enable_nested_tensor is True, but self.use_nested_tensor is False because encoder_layer.self_attn.batch_first was not True(use batch_first for better inference performance)\n",
      "  warnings.warn(f\"enable_nested_tensor is True, but self.use_nested_tensor is False because {why_not_sparsity_fast_path}\")\n",
      "/root/miniconda3/lib/python3.10/site-packages/transformers/optimization.py:391: FutureWarning: This implementation of AdamW is deprecated and will be removed in a future version. Use the PyTorch implementation torch.optim.AdamW instead, or set `no_deprecation_warning=True` to disable this warning\n",
      "  warnings.warn(\n",
      "Epoch 1/10 Loss: 0.6569: 100%|██████████| 314/314 [00:10<00:00, 31.17batch/s]\n",
      "Epoch 2/10 Loss: 0.6213: 100%|██████████| 314/314 [00:10<00:00, 30.73batch/s]\n",
      "Epoch 3/10 Loss: 0.6234: 100%|██████████| 314/314 [00:10<00:00, 30.82batch/s]\n",
      "Epoch 4/10 Loss: 0.6155: 100%|██████████| 314/314 [00:10<00:00, 30.55batch/s]\n",
      "Epoch 5/10 Loss: 0.6133: 100%|██████████| 314/314 [00:10<00:00, 30.76batch/s]\n",
      "Epoch 6/10 Loss: 0.6079: 100%|██████████| 314/314 [00:10<00:00, 30.65batch/s]\n",
      "Epoch 7/10 Loss: 0.6007: 100%|██████████| 314/314 [00:10<00:00, 30.25batch/s]\n",
      "Epoch 8/10 Loss: 0.5933: 100%|██████████| 314/314 [00:10<00:00, 30.19batch/s]\n",
      "Epoch 9/10 Loss: 0.5819: 100%|██████████| 314/314 [00:10<00:00, 29.98batch/s]\n",
      "Epoch 10/10 Loss: 0.5749: 100%|██████████| 314/314 [00:10<00:00, 30.23batch/s]\n"
     ]
    },
    {
     "name": "stdout",
     "output_type": "stream",
     "text": [
      "Validation Accuracy: 0.6832298136645962\n",
      "Precision: 0.5652173913043478\n",
      "Recall: 0.3151515151515151\n",
      "F1-Score: 0.4046692607003891\n"
     ]
    }
   ],
   "source": [
    "\n",
    "\n",
    "# Initialize the model\n",
    "vocab_size = len(vocab)\n",
    "embed_dim = 128  # Dimension for embeddings\n",
    "num_heads = 8\n",
    "hidden_dim = 512\n",
    "num_layers = 6\n",
    "dropout = 0.3\n",
    "\n",
    "model = CombinedModel(vocab_size, embed_dim, num_heads, hidden_dim, num_layers, dropout)\n",
    "\n",
    "# Train the model\n",
    "model.trainer(train_loader, val_loader, num_epochs=10)"
   ]
  },
  {
   "cell_type": "code",
   "execution_count": 6,
   "id": "e4d67d2f-6320-458a-80bf-41977b412950",
   "metadata": {
    "execution": {
     "iopub.execute_input": "2025-01-11T03:42:59.750916Z",
     "iopub.status.busy": "2025-01-11T03:42:59.750725Z",
     "iopub.status.idle": "2025-01-11T03:43:00.079641Z",
     "shell.execute_reply": "2025-01-11T03:43:00.078893Z",
     "shell.execute_reply.started": "2025-01-11T03:42:59.750894Z"
    }
   },
   "outputs": [],
   "source": [
    "torch.save(model, \"transformer_entire_bert_model.pth\")"
   ]
  },
  {
   "cell_type": "code",
   "execution_count": 8,
   "id": "41928b3b-2fa4-46ad-9fb7-9b4c7feb974b",
   "metadata": {
    "execution": {
     "iopub.execute_input": "2025-01-11T03:44:20.555271Z",
     "iopub.status.busy": "2025-01-11T03:44:20.554993Z",
     "iopub.status.idle": "2025-01-11T03:44:20.559304Z",
     "shell.execute_reply": "2025-01-11T03:44:20.558635Z",
     "shell.execute_reply.started": "2025-01-11T03:44:20.555247Z"
    }
   },
   "outputs": [],
   "source": [
    "from sklearn.metrics import precision_score, recall_score, f1_score, precision_recall_curve,classification_report"
   ]
  },
  {
   "cell_type": "code",
   "execution_count": 9,
   "id": "86dddddb-a684-4651-8f27-e22a75d1ac94",
   "metadata": {
    "execution": {
     "iopub.execute_input": "2025-01-11T03:44:23.615879Z",
     "iopub.status.busy": "2025-01-11T03:44:23.615376Z",
     "iopub.status.idle": "2025-01-11T03:44:24.034541Z",
     "shell.execute_reply": "2025-01-11T03:44:24.033483Z",
     "shell.execute_reply.started": "2025-01-11T03:44:23.615829Z"
    }
   },
   "outputs": [
    {
     "name": "stdout",
     "output_type": "stream",
     "text": [
      "Validation Accuracy: 0.7374301675977654\n",
      "Precision: 0.6326530612244898\n",
      "Recall: 0.3712574850299401\n",
      "F1-Score: 0.4679245283018868\n",
      "              precision    recall  f1-score   support\n",
      "\n",
      "           0       0.76      0.90      0.83       370\n",
      "           1       0.63      0.37      0.47       167\n",
      "\n",
      "    accuracy                           0.74       537\n",
      "   macro avg       0.70      0.64      0.65       537\n",
      "weighted avg       0.72      0.74      0.71       537\n",
      "\n"
     ]
    }
   ],
   "source": [
    "test_labels, test_predictions = model.evaluate(test_loader)\n",
    "print(classification_report(test_labels,test_predictions))"
   ]
  },
  {
   "cell_type": "code",
   "execution_count": null,
   "id": "519a11cc-7c4f-481d-b3ac-0d980a94ebff",
   "metadata": {},
   "outputs": [],
   "source": []
  }
 ],
 "metadata": {
  "kernelspec": {
   "display_name": "Python 3 (ipykernel)",
   "language": "python",
   "name": "python3"
  },
  "language_info": {
   "codemirror_mode": {
    "name": "ipython",
    "version": 3
   },
   "file_extension": ".py",
   "mimetype": "text/x-python",
   "name": "python",
   "nbconvert_exporter": "python",
   "pygments_lexer": "ipython3",
   "version": "3.10.8"
  }
 },
 "nbformat": 4,
 "nbformat_minor": 5
}
