{
 "cells": [
  {
   "cell_type": "code",
   "execution_count": 3,
   "id": "412c90a9-febd-4895-8204-cd4224c3eaf9",
   "metadata": {
    "execution": {
     "iopub.execute_input": "2024-12-09T07:52:31.271563Z",
     "iopub.status.busy": "2024-12-09T07:52:31.269429Z",
     "iopub.status.idle": "2024-12-09T07:52:32.031642Z",
     "shell.execute_reply": "2024-12-09T07:52:32.029097Z",
     "shell.execute_reply.started": "2024-12-09T07:52:31.271473Z"
    }
   },
   "outputs": [
    {
     "name": "stdout",
     "output_type": "stream",
     "text": [
      "/root/ensemble_commit/10\n"
     ]
    }
   ],
   "source": [
    "!pwd"
   ]
  },
  {
   "cell_type": "code",
   "execution_count": 2,
   "id": "e1e51fd6-2459-4552-b63b-1da158aa1de7",
   "metadata": {
    "execution": {
     "iopub.execute_input": "2025-01-07T08:11:36.449158Z",
     "iopub.status.busy": "2025-01-07T08:11:36.448900Z",
     "iopub.status.idle": "2025-01-07T08:11:38.905592Z",
     "shell.execute_reply": "2025-01-07T08:11:38.904783Z",
     "shell.execute_reply.started": "2025-01-07T08:11:36.449137Z"
    }
   },
   "outputs": [
    {
     "name": "stderr",
     "output_type": "stream",
     "text": [
      "/tmp/ipykernel_5246/3248978.py:10: FutureWarning: Downcasting behavior in `replace` is deprecated and will be removed in a future version. To retain the old behavior, explicitly call `result.infer_objects(copy=False)`. To opt-in to the future behavior, set `pd.set_option('future.no_silent_downcasting', True)`\n",
      "  df = df.replace({\"label\": label2id})\n"
     ]
    }
   ],
   "source": [
    "\n",
    "import pandas as pd\n",
    "from sklearn.model_selection import train_test_split\n",
    "from sklearn.feature_extraction.text import TfidfVectorizer\n",
    "from xgboost import XGBClassifier\n",
    "from sklearn.metrics import classification_report, accuracy_score\n",
    "\n",
    "df = pd.read_csv(r'../datasets/dataset.csv', encoding='utf_8_sig')\n",
    "df.dropna(inplace=True)\n",
    "label2id={'negative':0,'positive':1}\n",
    "df = df.replace({\"label\": label2id})\n",
    "df\n",
    "\n",
    "train, _ = train_test_split(df, train_size=0.35, random_state=42)\n",
    "train, test = train_test_split(train, test_size=0.3, random_state=42)\n",
    "test, val = train_test_split(test, train_size=0.5, random_state=42)\n",
    "\n",
    "train.reset_index(inplace=True)\n",
    "test.reset_index(inplace=True)\n",
    "val.reset_index(inplace=True)"
   ]
  },
  {
   "cell_type": "code",
   "execution_count": 6,
   "id": "03411a62",
   "metadata": {
    "execution": {
     "iopub.execute_input": "2025-01-07T08:12:20.726254Z",
     "iopub.status.busy": "2025-01-07T08:12:20.725661Z",
     "iopub.status.idle": "2025-01-07T08:12:20.731218Z",
     "shell.execute_reply": "2025-01-07T08:12:20.730514Z",
     "shell.execute_reply.started": "2025-01-07T08:12:20.726232Z"
    }
   },
   "outputs": [
    {
     "data": {
      "text/plain": [
       "(2465, 528, 529)"
      ]
     },
     "execution_count": 6,
     "metadata": {},
     "output_type": "execute_result"
    }
   ],
   "source": [
    "len(train), len(test), len(val)"
   ]
  },
  {
   "cell_type": "code",
   "execution_count": 3,
   "id": "af4b32ad-8a7e-4966-a994-0c47f779e542",
   "metadata": {
    "execution": {
     "iopub.execute_input": "2025-01-07T08:11:38.923590Z",
     "iopub.status.busy": "2025-01-07T08:11:38.923383Z",
     "iopub.status.idle": "2025-01-07T08:11:38.931555Z",
     "shell.execute_reply": "2025-01-07T08:11:38.930859Z",
     "shell.execute_reply.started": "2025-01-07T08:11:38.923568Z"
    }
   },
   "outputs": [
    {
     "data": {
      "text/plain": [
       "0      diff --git a/src/core/or/connection_edge.c b/s...\n",
       "1      diff --git a/src/direct_machine.cpp b/src/dire...\n",
       "2      diff --git a/src/blocks/gifdbl.c b/src/blocks/...\n",
       "3      diff --git a/test/lib/tasks/clean_backend_obje...\n",
       "4      diff --git a/bindings/java/doxygen/Doxyfile b/...\n",
       "                             ...                        \n",
       "523    diff --git a/nixos/modules/virtualisation/dock...\n",
       "524    diff --git a/core/src/main/java/org/bouncycast...\n",
       "525    diff --git a/overlord/hookstate/ctlcmd/is_conn...\n",
       "526    diff --git a/includes/htmlform/fields/HTMLDate...\n",
       "527    diff --git a/README.md b/README.md\\nindex b804...\n",
       "Name: diff, Length: 528, dtype: object"
      ]
     },
     "execution_count": 3,
     "metadata": {},
     "output_type": "execute_result"
    }
   ],
   "source": [
    "test['diff']"
   ]
  },
  {
   "cell_type": "code",
   "execution_count": 7,
   "id": "66ddf628-40ef-458c-a711-513814332488",
   "metadata": {
    "execution": {
     "iopub.execute_input": "2025-01-07T08:12:39.246981Z",
     "iopub.status.busy": "2025-01-07T08:12:39.246724Z",
     "iopub.status.idle": "2025-01-07T08:12:49.530490Z",
     "shell.execute_reply": "2025-01-07T08:12:49.529805Z",
     "shell.execute_reply.started": "2025-01-07T08:12:39.246961Z"
    }
   },
   "outputs": [
    {
     "name": "stdout",
     "output_type": "stream",
     "text": [
      "Accuracy: 0.7878787878787878\n",
      "Classification Report:\n",
      "               precision    recall  f1-score   support\n",
      "\n",
      "           0     0.8038    0.8806    0.8405       335\n",
      "           1     0.7516    0.6269    0.6836       193\n",
      "\n",
      "    accuracy                         0.7879       528\n",
      "   macro avg     0.7777    0.7538    0.7620       528\n",
      "weighted avg     0.7847    0.7879    0.7831       528\n",
      "\n"
     ]
    }
   ],
   "source": [
    "# 假设你有一个DataFrame df，其中包含'commit_message'和'label'列\n",
    "# df = pd.DataFrame({'commit_message': [...], 'label': [...]})\n",
    "\n",
    "# 1. 数据预处理和特征提取\n",
    "vectorizer = TfidfVectorizer()\n",
    "X_train = vectorizer.fit_transform(train['diff'])\n",
    "y_train = train['label']\n",
    "\n",
    "# 3. 训练XGBoost模型\n",
    "clf = XGBClassifier()\n",
    "clf.fit(X_train, y_train)\n",
    "\n",
    "# 4. 评估模型\n",
    "y_pred = clf.predict(vectorizer.transform(test['diff']))\n",
    "print(\"Accuracy:\", accuracy_score(test['label'], y_pred))\n",
    "print(\"Classification Report:\\n\", classification_report(test['label'], y_pred,digits=4))\n"
   ]
  },
  {
   "cell_type": "code",
   "execution_count": null,
   "id": "d2a3632e",
   "metadata": {},
   "outputs": [],
   "source": []
  }
 ],
 "metadata": {
  "kernelspec": {
   "display_name": "Python 3 (ipykernel)",
   "language": "python",
   "name": "python3"
  },
  "language_info": {
   "codemirror_mode": {
    "name": "ipython",
    "version": 3
   },
   "file_extension": ".py",
   "mimetype": "text/x-python",
   "name": "python",
   "nbconvert_exporter": "python",
   "pygments_lexer": "ipython3",
   "version": "3.10.8"
  }
 },
 "nbformat": 4,
 "nbformat_minor": 5
}
