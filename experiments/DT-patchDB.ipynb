{
 "cells": [
  {
   "cell_type": "code",
   "execution_count": 1,
   "id": "9d911c98-ffb0-490a-ab27-802682e65033",
   "metadata": {
    "execution": {
     "iopub.execute_input": "2025-01-07T08:17:55.959662Z",
     "iopub.status.busy": "2025-01-07T08:17:55.959112Z",
     "iopub.status.idle": "2025-01-07T08:17:56.284571Z",
     "shell.execute_reply": "2025-01-07T08:17:56.283705Z",
     "shell.execute_reply.started": "2025-01-07T08:17:55.959614Z"
    }
   },
   "outputs": [
    {
     "name": "stdout",
     "output_type": "stream",
     "text": [
      "/root/ensemble_commit/10\n"
     ]
    }
   ],
   "source": [
    "!pwd"
   ]
  },
  {
   "cell_type": "code",
   "execution_count": 2,
   "id": "e1e51fd6-2459-4552-b63b-1da158aa1de7",
   "metadata": {
    "execution": {
     "iopub.execute_input": "2025-01-07T08:17:56.287953Z",
     "iopub.status.busy": "2025-01-07T08:17:56.287357Z",
     "iopub.status.idle": "2025-01-07T08:17:58.567590Z",
     "shell.execute_reply": "2025-01-07T08:17:58.566580Z",
     "shell.execute_reply.started": "2025-01-07T08:17:56.287904Z"
    }
   },
   "outputs": [
    {
     "name": "stderr",
     "output_type": "stream",
     "text": [
      "/tmp/ipykernel_5515/3916909791.py:10: FutureWarning: Downcasting behavior in `replace` is deprecated and will be removed in a future version. To retain the old behavior, explicitly call `result.infer_objects(copy=False)`. To opt-in to the future behavior, set `pd.set_option('future.no_silent_downcasting', True)`\n",
      "  df = df.replace({\"category\": label2id})\n"
     ]
    }
   ],
   "source": [
    "import pandas as pd\n",
    "from sklearn.model_selection import train_test_split\n",
    "from sklearn.feature_extraction.text import TfidfVectorizer\n",
    "from sklearn.tree import DecisionTreeClassifier\n",
    "from sklearn.metrics import classification_report, accuracy_score\n",
    "\n",
    "df = pd.read_json(r'../datasets/patch_db.json', encoding='utf_8_sig')\n",
    "df.dropna(inplace=True)\n",
    "label2id={'non-security':0,'security':1}\n",
    "df = df.replace({\"category\": label2id})\n",
    "df\n",
    "\n",
    "train, test = train_test_split(df, test_size=0.3, random_state=42)\n",
    "test, val = train_test_split(test, test_size=0.5, random_state=42)\n",
    "train,_ = train_test_split(train, train_size=0.1, random_state=42)\n",
    "test, val = train_test_split(test, train_size=0.1, random_state=42)\n",
    "val, _ = train_test_split(val, train_size=0.1, random_state=42)\n",
    "\n",
    "train.reset_index(inplace=True)\n",
    "test.reset_index(inplace=True)\n",
    "val.reset_index(inplace=True)"
   ]
  },
  {
   "cell_type": "code",
   "execution_count": 4,
   "id": "66ddf628-40ef-458c-a711-513814332488",
   "metadata": {
    "execution": {
     "iopub.execute_input": "2025-01-07T08:17:59.544089Z",
     "iopub.status.busy": "2025-01-07T08:17:59.543862Z",
     "iopub.status.idle": "2025-01-07T08:18:03.711443Z",
     "shell.execute_reply": "2025-01-07T08:18:03.710480Z",
     "shell.execute_reply.started": "2025-01-07T08:17:59.544070Z"
    }
   },
   "outputs": [
    {
     "name": "stdout",
     "output_type": "stream",
     "text": [
      "Accuracy: 0.6554934823091247\n",
      "Classification Report:\n",
      "               precision    recall  f1-score   support\n",
      "\n",
      "           0     0.7635    0.7243    0.7434       370\n",
      "           1     0.4516    0.5030    0.4759       167\n",
      "\n",
      "    accuracy                         0.6555       537\n",
      "   macro avg     0.6076    0.6137    0.6097       537\n",
      "weighted avg     0.6665    0.6555    0.6602       537\n",
      "\n"
     ]
    }
   ],
   "source": [
    "vectorizer = TfidfVectorizer()\n",
    "X_train = vectorizer.fit_transform(train['diff_code'])\n",
    "y_train = train['category']\n",
    "\n",
    "# 3. 训练决策树分类器\n",
    "clf = DecisionTreeClassifier()\n",
    "clf.fit(X_train, y_train)\n",
    "\n",
    "# 4. 评估模型\n",
    "y_pred = clf.predict(vectorizer.transform(test['diff_code']))\n",
    "print(\"Accuracy:\", accuracy_score(test['category'], y_pred))\n",
    "print(\"Classification Report:\\n\", classification_report(test['category'], y_pred, digits=4))"
   ]
  },
  {
   "cell_type": "code",
   "execution_count": 5,
   "id": "dc90b562-5418-4caf-b3f1-51188afbbc2e",
   "metadata": {
    "execution": {
     "iopub.execute_input": "2025-01-07T08:18:03.712490Z",
     "iopub.status.busy": "2025-01-07T08:18:03.712314Z",
     "iopub.status.idle": "2025-01-07T08:18:03.715958Z",
     "shell.execute_reply": "2025-01-07T08:18:03.715196Z",
     "shell.execute_reply.started": "2025-01-07T08:18:03.712471Z"
    }
   },
   "outputs": [],
   "source": [
    "from joblib import load,dump"
   ]
  },
  {
   "cell_type": "code",
   "execution_count": 6,
   "id": "5e33e25b-0af6-4c83-a10d-90c133cd0939",
   "metadata": {
    "execution": {
     "iopub.execute_input": "2025-01-07T08:18:03.716832Z",
     "iopub.status.busy": "2025-01-07T08:18:03.716675Z",
     "iopub.status.idle": "2025-01-07T08:18:03.724077Z",
     "shell.execute_reply": "2025-01-07T08:18:03.723438Z",
     "shell.execute_reply.started": "2025-01-07T08:18:03.716814Z"
    }
   },
   "outputs": [
    {
     "data": {
      "text/plain": [
       "['DT_patchDB.joblib']"
      ]
     },
     "execution_count": 6,
     "metadata": {},
     "output_type": "execute_result"
    }
   ],
   "source": [
    "dump(clf, 'DT_patchDB.joblib')"
   ]
  },
  {
   "cell_type": "code",
   "execution_count": null,
   "id": "ae4a5113-6a06-451e-a46e-796191eb46f5",
   "metadata": {},
   "outputs": [],
   "source": []
  }
 ],
 "metadata": {
  "kernelspec": {
   "display_name": "Python 3 (ipykernel)",
   "language": "python",
   "name": "python3"
  },
  "language_info": {
   "codemirror_mode": {
    "name": "ipython",
    "version": 3
   },
   "file_extension": ".py",
   "mimetype": "text/x-python",
   "name": "python",
   "nbconvert_exporter": "python",
   "pygments_lexer": "ipython3",
   "version": "3.10.8"
  }
 },
 "nbformat": 4,
 "nbformat_minor": 5
}
