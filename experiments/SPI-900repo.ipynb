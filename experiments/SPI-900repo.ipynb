{
 "cells": [
  {
   "cell_type": "code",
   "execution_count": 1,
   "id": "9f82a8cc-7b02-48d7-a783-6e89bccff8b2",
   "metadata": {
    "execution": {
     "iopub.execute_input": "2025-01-11T02:47:00.647894Z",
     "iopub.status.busy": "2025-01-11T02:47:00.647414Z",
     "iopub.status.idle": "2025-01-11T02:47:03.043106Z",
     "shell.execute_reply": "2025-01-11T02:47:03.042229Z",
     "shell.execute_reply.started": "2025-01-11T02:47:00.647832Z"
    }
   },
   "outputs": [
    {
     "name": "stdout",
     "output_type": "stream",
     "text": [
      "\n",
      "root\n",
      "ensemble_commit\n",
      "/root/ensemble_commit\n"
     ]
    }
   ],
   "source": [
    "import pandas as pd\n",
    "from sklearn.model_selection import train_test_split\n",
    "import torch\n",
    "import os\n",
    "from torch.nn.utils.rnn import pad_sequence\n",
    "notebook_path = os.path.abspath('')\n",
    "import sys\n",
    "# Find the part of the path that contains 'commitFit'\n",
    "commit_fit_path = None\n",
    "for part in notebook_path.split(os.sep):\n",
    "    print(part)\n",
    "    if 'ensemble_commit' in part:\n",
    "        commit_fit_path = notebook_path.split(part)[0] + part\n",
    "        print(commit_fit_path)\n",
    "        break\n",
    "\n",
    "# import whatthepatch\n",
    "import numpy as np\n",
    "from sklearn.manifold import TSNE\n",
    "import matplotlib.pyplot as plt\n",
    "from sklearn.metrics import precision_score, recall_score, f1_score, precision_recall_curve,classification_report\n",
    "from tqdm import tqdm as std_tqdm\n",
    "from functools import partial\n",
    "tqdm = partial(std_tqdm, dynamic_ncols=True)"
   ]
  },
  {
   "cell_type": "code",
   "execution_count": null,
   "id": "537e23dd-4090-40f0-8c1c-3ed2e96076cc",
   "metadata": {},
   "outputs": [],
   "source": []
  },
  {
   "cell_type": "code",
   "execution_count": 2,
   "id": "666cb7bc-ce61-42cb-b7fa-934b5e5d3580",
   "metadata": {
    "execution": {
     "iopub.execute_input": "2025-01-11T02:47:03.044761Z",
     "iopub.status.busy": "2025-01-11T02:47:03.044452Z",
     "iopub.status.idle": "2025-01-11T02:47:05.703990Z",
     "shell.execute_reply": "2025-01-11T02:47:05.703410Z",
     "shell.execute_reply.started": "2025-01-11T02:47:03.044738Z"
    }
   },
   "outputs": [
    {
     "name": "stderr",
     "output_type": "stream",
     "text": [
      "/tmp/ipykernel_2823/1052552286.py:4: FutureWarning: Downcasting behavior in `replace` is deprecated and will be removed in a future version. To retain the old behavior, explicitly call `result.infer_objects(copy=False)`. To opt-in to the future behavior, set `pd.set_option('future.no_silent_downcasting', True)`\n",
      "  df = df.replace({\"label\": label2id})\n"
     ]
    },
    {
     "data": {
      "text/html": [
       "<div>\n",
       "<style scoped>\n",
       "    .dataframe tbody tr th:only-of-type {\n",
       "        vertical-align: middle;\n",
       "    }\n",
       "\n",
       "    .dataframe tbody tr th {\n",
       "        vertical-align: top;\n",
       "    }\n",
       "\n",
       "    .dataframe thead th {\n",
       "        text-align: right;\n",
       "    }\n",
       "</style>\n",
       "<table border=\"1\" class=\"dataframe\">\n",
       "  <thead>\n",
       "    <tr style=\"text-align: right;\">\n",
       "      <th></th>\n",
       "      <th>Unnamed: 0</th>\n",
       "      <th>label</th>\n",
       "      <th>message</th>\n",
       "      <th>diff</th>\n",
       "    </tr>\n",
       "  </thead>\n",
       "  <tbody>\n",
       "    <tr>\n",
       "      <th>0</th>\n",
       "      <td>0</td>\n",
       "      <td>0</td>\n",
       "      <td>Merge pull request #46 from rufferson/saslx-tl...</td>\n",
       "      <td>diff --git a/lib/DJabberd.pm b/lib/DJabberd.pm...</td>\n",
       "    </tr>\n",
       "    <tr>\n",
       "      <th>1</th>\n",
       "      <td>1</td>\n",
       "      <td>1</td>\n",
       "      <td>Fix leaks in kadmin server stubs [CVE-2015-863...</td>\n",
       "      <td>diff --git a/src/kadmin/server/server_stubs.c ...</td>\n",
       "    </tr>\n",
       "    <tr>\n",
       "      <th>2</th>\n",
       "      <td>2</td>\n",
       "      <td>1</td>\n",
       "      <td>Validate authorization request on approval\\n\\n...</td>\n",
       "      <td>diff --git a/spring-security-oauth2/src/main/j...</td>\n",
       "    </tr>\n",
       "    <tr>\n",
       "      <th>3</th>\n",
       "      <td>3</td>\n",
       "      <td>1</td>\n",
       "      <td>Release 2.72.4+171110</td>\n",
       "      <td>diff --git a/application/config/version.php b/...</td>\n",
       "    </tr>\n",
       "    <tr>\n",
       "      <th>4</th>\n",
       "      <td>4</td>\n",
       "      <td>0</td>\n",
       "      <td>Fixing compiler warnings.</td>\n",
       "      <td>diff --git a/src/main.c b/src/main.c\\nindex 50...</td>\n",
       "    </tr>\n",
       "    <tr>\n",
       "      <th>...</th>\n",
       "      <td>...</td>\n",
       "      <td>...</td>\n",
       "      <td>...</td>\n",
       "      <td>...</td>\n",
       "    </tr>\n",
       "    <tr>\n",
       "      <th>10107</th>\n",
       "      <td>10107</td>\n",
       "      <td>0</td>\n",
       "      <td>les: remove useless protocol defines (#22115)\\...</td>\n",
       "      <td>diff --git a/les/benchmark.go b/les/benchmark....</td>\n",
       "    </tr>\n",
       "    <tr>\n",
       "      <th>10108</th>\n",
       "      <td>10108</td>\n",
       "      <td>1</td>\n",
       "      <td>Merge pull request #2067 from realm/tg-swift-l...</td>\n",
       "      <td>diff --git a/CHANGELOG.md b/CHANGELOG.md\\ninde...</td>\n",
       "    </tr>\n",
       "    <tr>\n",
       "      <th>10109</th>\n",
       "      <td>10109</td>\n",
       "      <td>0</td>\n",
       "      <td>[fix] 新規アカウント作成ページの翻訳を修正</td>\n",
       "      <td>diff --git a/app/locales/ja_JP/LC_MESSAGES/mes...</td>\n",
       "    </tr>\n",
       "    <tr>\n",
       "      <th>10110</th>\n",
       "      <td>10110</td>\n",
       "      <td>0</td>\n",
       "      <td>Merge branch 'hotfixes'</td>\n",
       "      <td>diff --git a/CHANGELOG.txt b/CHANGELOG.txt\\nin...</td>\n",
       "    </tr>\n",
       "    <tr>\n",
       "      <th>10111</th>\n",
       "      <td>10111</td>\n",
       "      <td>1</td>\n",
       "      <td>HTTPCLIENT-1803: Improved handling of malforme...</td>\n",
       "      <td>diff --git a/httpclient/src/main/java/org/apac...</td>\n",
       "    </tr>\n",
       "  </tbody>\n",
       "</table>\n",
       "<p>10064 rows × 4 columns</p>\n",
       "</div>"
      ],
      "text/plain": [
       "       Unnamed: 0  label                                            message  \\\n",
       "0               0      0  Merge pull request #46 from rufferson/saslx-tl...   \n",
       "1               1      1  Fix leaks in kadmin server stubs [CVE-2015-863...   \n",
       "2               2      1  Validate authorization request on approval\\n\\n...   \n",
       "3               3      1                              Release 2.72.4+171110   \n",
       "4               4      0                          Fixing compiler warnings.   \n",
       "...           ...    ...                                                ...   \n",
       "10107       10107      0  les: remove useless protocol defines (#22115)\\...   \n",
       "10108       10108      1  Merge pull request #2067 from realm/tg-swift-l...   \n",
       "10109       10109      0                           [fix] 新規アカウント作成ページの翻訳を修正   \n",
       "10110       10110      0                            Merge branch 'hotfixes'   \n",
       "10111       10111      1  HTTPCLIENT-1803: Improved handling of malforme...   \n",
       "\n",
       "                                                    diff  \n",
       "0      diff --git a/lib/DJabberd.pm b/lib/DJabberd.pm...  \n",
       "1      diff --git a/src/kadmin/server/server_stubs.c ...  \n",
       "2      diff --git a/spring-security-oauth2/src/main/j...  \n",
       "3      diff --git a/application/config/version.php b/...  \n",
       "4      diff --git a/src/main.c b/src/main.c\\nindex 50...  \n",
       "...                                                  ...  \n",
       "10107  diff --git a/les/benchmark.go b/les/benchmark....  \n",
       "10108  diff --git a/CHANGELOG.md b/CHANGELOG.md\\ninde...  \n",
       "10109  diff --git a/app/locales/ja_JP/LC_MESSAGES/mes...  \n",
       "10110  diff --git a/CHANGELOG.txt b/CHANGELOG.txt\\nin...  \n",
       "10111  diff --git a/httpclient/src/main/java/org/apac...  \n",
       "\n",
       "[10064 rows x 4 columns]"
      ]
     },
     "execution_count": 2,
     "metadata": {},
     "output_type": "execute_result"
    }
   ],
   "source": [
    "df = pd.read_csv(r'../datasets/dataset.csv', encoding='utf_8_sig')\n",
    "df.dropna(inplace=True)\n",
    "label2id={'negative':0,'positive':1}\n",
    "df = df.replace({\"label\": label2id})\n",
    "df"
   ]
  },
  {
   "cell_type": "code",
   "execution_count": 3,
   "id": "fa751a3e-86ae-4f11-82ca-c173f5320a09",
   "metadata": {
    "execution": {
     "iopub.execute_input": "2025-01-11T02:47:05.704994Z",
     "iopub.status.busy": "2025-01-11T02:47:05.704804Z",
     "iopub.status.idle": "2025-01-11T02:47:05.711975Z",
     "shell.execute_reply": "2025-01-11T02:47:05.711458Z",
     "shell.execute_reply.started": "2025-01-11T02:47:05.704973Z"
    }
   },
   "outputs": [],
   "source": [
    "train_data, _ = train_test_split(df, train_size=0.35, random_state=42)\n",
    "train_data, test_data = train_test_split(train_data, test_size=0.3, random_state=42)\n",
    "# train_data = pd.read_csv('./datasets/PD_train.csv')\n",
    "# test_data = pd.read_csv('./datasets/PD_test.csv')\n",
    "# val_data = pd.read_csv('./datasets/PD_val.csv')\n",
    "\n"
   ]
  },
  {
   "cell_type": "code",
   "execution_count": 4,
   "id": "c1f1e42a-ca2a-47b4-aeb0-536795d2a2f7",
   "metadata": {
    "execution": {
     "iopub.execute_input": "2025-01-11T02:47:05.713623Z",
     "iopub.status.busy": "2025-01-11T02:47:05.713318Z",
     "iopub.status.idle": "2025-01-11T02:47:05.716168Z",
     "shell.execute_reply": "2025-01-11T02:47:05.715618Z",
     "shell.execute_reply.started": "2025-01-11T02:47:05.713600Z"
    }
   },
   "outputs": [],
   "source": [
    "# codebert_model.config.hidden_size"
   ]
  },
  {
   "cell_type": "code",
   "execution_count": 5,
   "id": "4b5e68a2-d0bb-42c1-a6a3-1d66267b3651",
   "metadata": {
    "execution": {
     "iopub.execute_input": "2025-01-11T02:47:05.716985Z",
     "iopub.status.busy": "2025-01-11T02:47:05.716809Z",
     "iopub.status.idle": "2025-01-11T02:47:05.720802Z",
     "shell.execute_reply": "2025-01-11T02:47:05.720322Z",
     "shell.execute_reply.started": "2025-01-11T02:47:05.716965Z"
    }
   },
   "outputs": [
    {
     "data": {
      "text/plain": [
       "1057"
      ]
     },
     "execution_count": 5,
     "metadata": {},
     "output_type": "execute_result"
    }
   ],
   "source": [
    "len(test_data)"
   ]
  },
  {
   "cell_type": "code",
   "execution_count": 6,
   "id": "f8f11097-0571-4896-972e-da03419f6f1f",
   "metadata": {
    "execution": {
     "iopub.execute_input": "2025-01-11T02:47:05.721648Z",
     "iopub.status.busy": "2025-01-11T02:47:05.721467Z",
     "iopub.status.idle": "2025-01-11T02:47:05.725541Z",
     "shell.execute_reply": "2025-01-11T02:47:05.725033Z",
     "shell.execute_reply.started": "2025-01-11T02:47:05.721628Z"
    }
   },
   "outputs": [],
   "source": [
    "test_data, val_data = train_test_split(test_data, train_size=0.5, random_state=42)"
   ]
  },
  {
   "cell_type": "code",
   "execution_count": 7,
   "id": "6d0173b0-7cee-488c-988d-30fdc9c30c95",
   "metadata": {
    "execution": {
     "iopub.execute_input": "2025-01-11T02:47:05.726387Z",
     "iopub.status.busy": "2025-01-11T02:47:05.726208Z",
     "iopub.status.idle": "2025-01-11T02:47:05.730325Z",
     "shell.execute_reply": "2025-01-11T02:47:05.729749Z",
     "shell.execute_reply.started": "2025-01-11T02:47:05.726367Z"
    }
   },
   "outputs": [],
   "source": [
    "train_data.reset_index(inplace=True)\n",
    "test_data.reset_index(inplace=True)\n",
    "val_data.reset_index(inplace=True)"
   ]
  },
  {
   "cell_type": "code",
   "execution_count": 8,
   "id": "e93e40c2-34b1-4bf7-b835-9718fe3f6039",
   "metadata": {
    "execution": {
     "iopub.execute_input": "2025-01-11T02:47:05.731216Z",
     "iopub.status.busy": "2025-01-11T02:47:05.731037Z",
     "iopub.status.idle": "2025-01-11T02:47:05.736072Z",
     "shell.execute_reply": "2025-01-11T02:47:05.735583Z",
     "shell.execute_reply.started": "2025-01-11T02:47:05.731196Z"
    }
   },
   "outputs": [
    {
     "data": {
      "text/plain": [
       "label\n",
       "0    1512\n",
       "1     953\n",
       "Name: count, dtype: int64"
      ]
     },
     "execution_count": 8,
     "metadata": {},
     "output_type": "execute_result"
    }
   ],
   "source": [
    "train_data['label'].value_counts()"
   ]
  },
  {
   "cell_type": "code",
   "execution_count": 9,
   "id": "6b52cd58-8ced-4995-a326-22fbb809b527",
   "metadata": {
    "execution": {
     "iopub.execute_input": "2025-01-11T02:47:06.606158Z",
     "iopub.status.busy": "2025-01-11T02:47:06.605878Z",
     "iopub.status.idle": "2025-01-11T02:47:06.616900Z",
     "shell.execute_reply": "2025-01-11T02:47:06.615920Z",
     "shell.execute_reply.started": "2025-01-11T02:47:06.606134Z"
    }
   },
   "outputs": [
    {
     "data": {
      "text/html": [
       "<div>\n",
       "<style scoped>\n",
       "    .dataframe tbody tr th:only-of-type {\n",
       "        vertical-align: middle;\n",
       "    }\n",
       "\n",
       "    .dataframe tbody tr th {\n",
       "        vertical-align: top;\n",
       "    }\n",
       "\n",
       "    .dataframe thead th {\n",
       "        text-align: right;\n",
       "    }\n",
       "</style>\n",
       "<table border=\"1\" class=\"dataframe\">\n",
       "  <thead>\n",
       "    <tr style=\"text-align: right;\">\n",
       "      <th></th>\n",
       "      <th>index</th>\n",
       "      <th>Unnamed: 0</th>\n",
       "      <th>label</th>\n",
       "      <th>message</th>\n",
       "      <th>diff</th>\n",
       "    </tr>\n",
       "  </thead>\n",
       "  <tbody>\n",
       "    <tr>\n",
       "      <th>0</th>\n",
       "      <td>5106</td>\n",
       "      <td>5106</td>\n",
       "      <td>0</td>\n",
       "      <td>Merge pull request #6 from daniel-beck-bot/htt...</td>\n",
       "      <td>diff --git a/pom.xml b/pom.xml\\nindex 661ce51....</td>\n",
       "    </tr>\n",
       "    <tr>\n",
       "      <th>1</th>\n",
       "      <td>3322</td>\n",
       "      <td>3322</td>\n",
       "      <td>0</td>\n",
       "      <td>Fix Gitter badge</td>\n",
       "      <td>diff --git a/README.md b/README.md\\nindex eff9...</td>\n",
       "    </tr>\n",
       "    <tr>\n",
       "      <th>2</th>\n",
       "      <td>3187</td>\n",
       "      <td>3187</td>\n",
       "      <td>1</td>\n",
       "      <td>Check for presence of crsf in admin scripts</td>\n",
       "      <td>diff --git a/src/Lua.cpp b/src/Lua.cpp\\nindex ...</td>\n",
       "    </tr>\n",
       "    <tr>\n",
       "      <th>3</th>\n",
       "      <td>8592</td>\n",
       "      <td>8592</td>\n",
       "      <td>0</td>\n",
       "      <td>Fixed link errors</td>\n",
       "      <td>diff --git a/src/irisnet/CMakeLists.txt b/src/...</td>\n",
       "    </tr>\n",
       "    <tr>\n",
       "      <th>4</th>\n",
       "      <td>7272</td>\n",
       "      <td>7272</td>\n",
       "      <td>0</td>\n",
       "      <td>Fixed memory corruption introduced when creati...</td>\n",
       "      <td>diff --git a/Doxyfile b/Doxyfile\\nindex f88538...</td>\n",
       "    </tr>\n",
       "    <tr>\n",
       "      <th>...</th>\n",
       "      <td>...</td>\n",
       "      <td>...</td>\n",
       "      <td>...</td>\n",
       "      <td>...</td>\n",
       "      <td>...</td>\n",
       "    </tr>\n",
       "    <tr>\n",
       "      <th>524</th>\n",
       "      <td>1500</td>\n",
       "      <td>1500</td>\n",
       "      <td>0</td>\n",
       "      <td>...</td>\n",
       "      <td>diff --git a/config/policy.xml b/config/policy...</td>\n",
       "    </tr>\n",
       "    <tr>\n",
       "      <th>525</th>\n",
       "      <td>1141</td>\n",
       "      <td>1141</td>\n",
       "      <td>0</td>\n",
       "      <td>SONY: added ImageCount3</td>\n",
       "      <td>diff --git a/dcraw/dcraw.c b/dcraw/dcraw.c\\nin...</td>\n",
       "    </tr>\n",
       "    <tr>\n",
       "      <th>526</th>\n",
       "      <td>2921</td>\n",
       "      <td>2921</td>\n",
       "      <td>1</td>\n",
       "      <td>Fix bug #68942 (Use after free vulnerability i...</td>\n",
       "      <td>diff --git a/NEWS b/NEWS\\nindex 0d93c47b02007....</td>\n",
       "    </tr>\n",
       "    <tr>\n",
       "      <th>527</th>\n",
       "      <td>8292</td>\n",
       "      <td>8292</td>\n",
       "      <td>0</td>\n",
       "      <td>先把 zbpimage 和 thumb 改成 thumbnail</td>\n",
       "      <td>diff --git a/zb_system/function/c_system_event...</td>\n",
       "    </tr>\n",
       "    <tr>\n",
       "      <th>528</th>\n",
       "      <td>2989</td>\n",
       "      <td>2989</td>\n",
       "      <td>1</td>\n",
       "      <td>Ensure request and response facades are used w...</td>\n",
       "      <td>diff --git a/java/org/apache/catalina/authenti...</td>\n",
       "    </tr>\n",
       "  </tbody>\n",
       "</table>\n",
       "<p>529 rows × 5 columns</p>\n",
       "</div>"
      ],
      "text/plain": [
       "     index  Unnamed: 0  label  \\\n",
       "0     5106        5106      0   \n",
       "1     3322        3322      0   \n",
       "2     3187        3187      1   \n",
       "3     8592        8592      0   \n",
       "4     7272        7272      0   \n",
       "..     ...         ...    ...   \n",
       "524   1500        1500      0   \n",
       "525   1141        1141      0   \n",
       "526   2921        2921      1   \n",
       "527   8292        8292      0   \n",
       "528   2989        2989      1   \n",
       "\n",
       "                                               message  \\\n",
       "0    Merge pull request #6 from daniel-beck-bot/htt...   \n",
       "1                                     Fix Gitter badge   \n",
       "2          Check for presence of crsf in admin scripts   \n",
       "3                                    Fixed link errors   \n",
       "4    Fixed memory corruption introduced when creati...   \n",
       "..                                                 ...   \n",
       "524                                                ...   \n",
       "525                            SONY: added ImageCount3   \n",
       "526  Fix bug #68942 (Use after free vulnerability i...   \n",
       "527                   先把 zbpimage 和 thumb 改成 thumbnail   \n",
       "528  Ensure request and response facades are used w...   \n",
       "\n",
       "                                                  diff  \n",
       "0    diff --git a/pom.xml b/pom.xml\\nindex 661ce51....  \n",
       "1    diff --git a/README.md b/README.md\\nindex eff9...  \n",
       "2    diff --git a/src/Lua.cpp b/src/Lua.cpp\\nindex ...  \n",
       "3    diff --git a/src/irisnet/CMakeLists.txt b/src/...  \n",
       "4    diff --git a/Doxyfile b/Doxyfile\\nindex f88538...  \n",
       "..                                                 ...  \n",
       "524  diff --git a/config/policy.xml b/config/policy...  \n",
       "525  diff --git a/dcraw/dcraw.c b/dcraw/dcraw.c\\nin...  \n",
       "526  diff --git a/NEWS b/NEWS\\nindex 0d93c47b02007....  \n",
       "527  diff --git a/zb_system/function/c_system_event...  \n",
       "528  diff --git a/java/org/apache/catalina/authenti...  \n",
       "\n",
       "[529 rows x 5 columns]"
      ]
     },
     "execution_count": 9,
     "metadata": {},
     "output_type": "execute_result"
    }
   ],
   "source": [
    "val_data"
   ]
  },
  {
   "cell_type": "code",
   "execution_count": 10,
   "id": "ec21761f-b693-4295-b2ed-e47220d2cb3b",
   "metadata": {
    "execution": {
     "iopub.execute_input": "2025-01-11T02:47:07.258428Z",
     "iopub.status.busy": "2025-01-11T02:47:07.257926Z",
     "iopub.status.idle": "2025-01-11T02:47:07.267312Z",
     "shell.execute_reply": "2025-01-11T02:47:07.266393Z",
     "shell.execute_reply.started": "2025-01-11T02:47:07.258378Z"
    }
   },
   "outputs": [
    {
     "data": {
      "text/plain": [
       "24628.147448015123"
      ]
     },
     "execution_count": 10,
     "metadata": {},
     "output_type": "execute_result"
    }
   ],
   "source": [
    "val_data['diff'].str.len().mean()"
   ]
  },
  {
   "cell_type": "code",
   "execution_count": 11,
   "id": "594e7b0d-1718-47e5-8b68-b27a016c61c5",
   "metadata": {
    "execution": {
     "iopub.execute_input": "2025-01-11T02:47:07.838519Z",
     "iopub.status.busy": "2025-01-11T02:47:07.837839Z",
     "iopub.status.idle": "2025-01-11T02:47:07.854893Z",
     "shell.execute_reply": "2025-01-11T02:47:07.853973Z",
     "shell.execute_reply.started": "2025-01-11T02:47:07.838467Z"
    }
   },
   "outputs": [
    {
     "data": {
      "text/html": [
       "<div>\n",
       "<style scoped>\n",
       "    .dataframe tbody tr th:only-of-type {\n",
       "        vertical-align: middle;\n",
       "    }\n",
       "\n",
       "    .dataframe tbody tr th {\n",
       "        vertical-align: top;\n",
       "    }\n",
       "\n",
       "    .dataframe thead th {\n",
       "        text-align: right;\n",
       "    }\n",
       "</style>\n",
       "<table border=\"1\" class=\"dataframe\">\n",
       "  <thead>\n",
       "    <tr style=\"text-align: right;\">\n",
       "      <th></th>\n",
       "      <th>index</th>\n",
       "      <th>Unnamed: 0</th>\n",
       "      <th>label</th>\n",
       "      <th>message</th>\n",
       "      <th>diff</th>\n",
       "    </tr>\n",
       "  </thead>\n",
       "  <tbody>\n",
       "    <tr>\n",
       "      <th>0</th>\n",
       "      <td>5106</td>\n",
       "      <td>5106</td>\n",
       "      <td>0</td>\n",
       "      <td>Merge pull request #6 from daniel-beck-bot/htt...</td>\n",
       "      <td>diff --git a/pom.xml b/pom.xml\\nindex 661ce51....</td>\n",
       "    </tr>\n",
       "    <tr>\n",
       "      <th>1</th>\n",
       "      <td>3322</td>\n",
       "      <td>3322</td>\n",
       "      <td>0</td>\n",
       "      <td>Fix Gitter badge</td>\n",
       "      <td>diff --git a/README.md b/README.md\\nindex eff9...</td>\n",
       "    </tr>\n",
       "    <tr>\n",
       "      <th>2</th>\n",
       "      <td>3187</td>\n",
       "      <td>3187</td>\n",
       "      <td>1</td>\n",
       "      <td>Check for presence of crsf in admin scripts</td>\n",
       "      <td>diff --git a/src/Lua.cpp b/src/Lua.cpp\\nindex ...</td>\n",
       "    </tr>\n",
       "    <tr>\n",
       "      <th>3</th>\n",
       "      <td>8592</td>\n",
       "      <td>8592</td>\n",
       "      <td>0</td>\n",
       "      <td>Fixed link errors</td>\n",
       "      <td>diff --git a/src/irisnet/CMakeLists.txt b/src/...</td>\n",
       "    </tr>\n",
       "    <tr>\n",
       "      <th>4</th>\n",
       "      <td>7272</td>\n",
       "      <td>7272</td>\n",
       "      <td>0</td>\n",
       "      <td>Fixed memory corruption introduced when creati...</td>\n",
       "      <td>diff --git a/Doxyfile b/Doxyfile\\nindex f88538...</td>\n",
       "    </tr>\n",
       "    <tr>\n",
       "      <th>...</th>\n",
       "      <td>...</td>\n",
       "      <td>...</td>\n",
       "      <td>...</td>\n",
       "      <td>...</td>\n",
       "      <td>...</td>\n",
       "    </tr>\n",
       "    <tr>\n",
       "      <th>524</th>\n",
       "      <td>1500</td>\n",
       "      <td>1500</td>\n",
       "      <td>0</td>\n",
       "      <td>...</td>\n",
       "      <td>diff --git a/config/policy.xml b/config/policy...</td>\n",
       "    </tr>\n",
       "    <tr>\n",
       "      <th>525</th>\n",
       "      <td>1141</td>\n",
       "      <td>1141</td>\n",
       "      <td>0</td>\n",
       "      <td>SONY: added ImageCount3</td>\n",
       "      <td>diff --git a/dcraw/dcraw.c b/dcraw/dcraw.c\\nin...</td>\n",
       "    </tr>\n",
       "    <tr>\n",
       "      <th>526</th>\n",
       "      <td>2921</td>\n",
       "      <td>2921</td>\n",
       "      <td>1</td>\n",
       "      <td>Fix bug #68942 (Use after free vulnerability i...</td>\n",
       "      <td>diff --git a/NEWS b/NEWS\\nindex 0d93c47b02007....</td>\n",
       "    </tr>\n",
       "    <tr>\n",
       "      <th>527</th>\n",
       "      <td>8292</td>\n",
       "      <td>8292</td>\n",
       "      <td>0</td>\n",
       "      <td>先把 zbpimage 和 thumb 改成 thumbnail</td>\n",
       "      <td>diff --git a/zb_system/function/c_system_event...</td>\n",
       "    </tr>\n",
       "    <tr>\n",
       "      <th>528</th>\n",
       "      <td>2989</td>\n",
       "      <td>2989</td>\n",
       "      <td>1</td>\n",
       "      <td>Ensure request and response facades are used w...</td>\n",
       "      <td>diff --git a/java/org/apache/catalina/authenti...</td>\n",
       "    </tr>\n",
       "  </tbody>\n",
       "</table>\n",
       "<p>529 rows × 5 columns</p>\n",
       "</div>"
      ],
      "text/plain": [
       "     index  Unnamed: 0  label  \\\n",
       "0     5106        5106      0   \n",
       "1     3322        3322      0   \n",
       "2     3187        3187      1   \n",
       "3     8592        8592      0   \n",
       "4     7272        7272      0   \n",
       "..     ...         ...    ...   \n",
       "524   1500        1500      0   \n",
       "525   1141        1141      0   \n",
       "526   2921        2921      1   \n",
       "527   8292        8292      0   \n",
       "528   2989        2989      1   \n",
       "\n",
       "                                               message  \\\n",
       "0    Merge pull request #6 from daniel-beck-bot/htt...   \n",
       "1                                     Fix Gitter badge   \n",
       "2          Check for presence of crsf in admin scripts   \n",
       "3                                    Fixed link errors   \n",
       "4    Fixed memory corruption introduced when creati...   \n",
       "..                                                 ...   \n",
       "524                                                ...   \n",
       "525                            SONY: added ImageCount3   \n",
       "526  Fix bug #68942 (Use after free vulnerability i...   \n",
       "527                   先把 zbpimage 和 thumb 改成 thumbnail   \n",
       "528  Ensure request and response facades are used w...   \n",
       "\n",
       "                                                  diff  \n",
       "0    diff --git a/pom.xml b/pom.xml\\nindex 661ce51....  \n",
       "1    diff --git a/README.md b/README.md\\nindex eff9...  \n",
       "2    diff --git a/src/Lua.cpp b/src/Lua.cpp\\nindex ...  \n",
       "3    diff --git a/src/irisnet/CMakeLists.txt b/src/...  \n",
       "4    diff --git a/Doxyfile b/Doxyfile\\nindex f88538...  \n",
       "..                                                 ...  \n",
       "524  diff --git a/config/policy.xml b/config/policy...  \n",
       "525  diff --git a/dcraw/dcraw.c b/dcraw/dcraw.c\\nin...  \n",
       "526  diff --git a/NEWS b/NEWS\\nindex 0d93c47b02007....  \n",
       "527  diff --git a/zb_system/function/c_system_event...  \n",
       "528  diff --git a/java/org/apache/catalina/authenti...  \n",
       "\n",
       "[529 rows x 5 columns]"
      ]
     },
     "execution_count": 11,
     "metadata": {},
     "output_type": "execute_result"
    }
   ],
   "source": [
    "val_data"
   ]
  },
  {
   "cell_type": "code",
   "execution_count": 12,
   "id": "1549be02-6f6b-41e5-bd04-d3e164061eec",
   "metadata": {
    "execution": {
     "iopub.execute_input": "2025-01-11T02:47:10.838629Z",
     "iopub.status.busy": "2025-01-11T02:47:10.837373Z",
     "iopub.status.idle": "2025-01-11T02:47:10.958268Z",
     "shell.execute_reply": "2025-01-11T02:47:10.957752Z",
     "shell.execute_reply.started": "2025-01-11T02:47:10.838573Z"
    }
   },
   "outputs": [],
   "source": [
    "import pandas as pd\n",
    "import gensim\n",
    "import torch\n",
    "import torch.nn as nn\n",
    "import torch.optim as optim\n",
    "from torch.utils.data import DataLoader, Dataset\n",
    "import numpy as np\n",
    "\n",
    "# 构建自定义数据集\n",
    "class TextDataset(Dataset):\n",
    "    def __init__(self, df, message_vocab, code_vocab, max_len):\n",
    "        self.messages = df[\"message\"].apply(lambda x: self.encode_text(x.split(), message_vocab, max_len)).tolist()\n",
    "        self.codes = df[\"diff\"].apply(lambda x: self.encode_text(x.split(), code_vocab, max_len)).tolist()\n",
    "        self.labels = df[\"label\"].tolist()\n",
    "\n",
    "    def __len__(self):\n",
    "        return len(self.labels)\n",
    "\n",
    "    def __getitem__(self, idx):\n",
    "        messages = np.array(self.messages[idx], dtype=np.int64)\n",
    "        codes = np.array(self.codes[idx], dtype=np.int64)\n",
    "        label = int(self.labels[idx])  # 确保单个标量是整数类型\n",
    "        return messages, codes, label\n",
    "\n",
    "    @staticmethod\n",
    "    def encode_text(text, vocab, max_len):\n",
    "        encoded = [vocab[word] if word in vocab else 0 for word in text]\n",
    "        return encoded + [0] * (max_len - len(encoded))\n",
    "\n",
    "\n",
    "def collate_fn(batch):\n",
    "    messages, codes, labels = zip(*batch)\n",
    "    \n",
    "    # 确保 messages 和 codes 是二维张量，并填充\n",
    "    messages = pad_sequence([torch.tensor(msg, dtype=torch.long) for msg in messages], batch_first=True, padding_value=0)\n",
    "    codes = pad_sequence([torch.tensor(code, dtype=torch.long) for code in codes], batch_first=True, padding_value=0)\n",
    "    \n",
    "    # 确保 labels 是一维张量\n",
    "    labels = torch.tensor(labels, dtype=torch.long)\n",
    "    return messages, codes, labels\n",
    "    \n",
    "# 使用 gensim 训练 Word2Vec 模型\n",
    "def train_word2vec(sentences, vector_size=100, window=5, min_count=1):\n",
    "    model = gensim.models.Word2Vec(sentences, vector_size=vector_size, window=window, min_count=min_count)\n",
    "    return model\n",
    "\n",
    "# 定义 LSTM + CNN 模型\n",
    "class LSTM_CNN_Model(nn.Module):\n",
    "    def __init__(self, message_vocab_size, code_vocab_size, embedding_dim, hidden_dim, lstm_layers, cnn_out_channels, num_classes, \n",
    "                 message_embedding_matrix=None, code_embedding_matrix=None):\n",
    "        super(LSTM_CNN_Model, self).__init__()\n",
    "        \n",
    "        # Embedding Layers for message and code\n",
    "        self.message_embedding = nn.Embedding(message_vocab_size, embedding_dim)\n",
    "        self.code_embedding = nn.Embedding(code_vocab_size, embedding_dim)\n",
    "        \n",
    "        if message_embedding_matrix is not None:\n",
    "            self.message_embedding.weight = nn.Parameter(torch.tensor(message_embedding_matrix, dtype=torch.float32))\n",
    "            self.message_embedding.weight.requires_grad = False\n",
    "        \n",
    "        if code_embedding_matrix is not None:\n",
    "            self.code_embedding.weight = nn.Parameter(torch.tensor(code_embedding_matrix, dtype=torch.float32))\n",
    "            self.code_embedding.weight.requires_grad = False\n",
    "        \n",
    "        # LSTM Layers\n",
    "        self.message_lstm = nn.LSTM(embedding_dim, hidden_dim, lstm_layers, batch_first=True, bidirectional=True)\n",
    "        self.code_lstm = nn.LSTM(embedding_dim, hidden_dim, lstm_layers, batch_first=True, bidirectional=True)\n",
    "        \n",
    "        # CNN Layers\n",
    "        self.message_conv1d = nn.Conv1d(in_channels=hidden_dim * 2, out_channels=cnn_out_channels, kernel_size=3, stride=1, padding=1)\n",
    "        self.code_conv1d = nn.Conv1d(in_channels=hidden_dim * 2, out_channels=cnn_out_channels, kernel_size=3, stride=1, padding=1)\n",
    "        \n",
    "        # Fully Connected Layer\n",
    "        self.fc = nn.Linear(cnn_out_channels * 2, num_classes)\n",
    "\n",
    "    def forward(self, message, code):\n",
    "        # Process message\n",
    "        message_embed = self.message_embedding(message)\n",
    "        message_lstm_out, _ = self.message_lstm(message_embed)\n",
    "        message_lstm_out = message_lstm_out.permute(0, 2, 1)  # Change to (batch, channels, seq_len)\n",
    "        message_features = torch.relu(self.message_conv1d(message_lstm_out))\n",
    "        message_features = torch.mean(message_features, dim=2)  # Global Average Pooling\n",
    "        \n",
    "        # Process code\n",
    "        code_embed = self.code_embedding(code)\n",
    "        code_lstm_out, _ = self.code_lstm(code_embed)\n",
    "        code_lstm_out = code_lstm_out.permute(0, 2, 1)  # Change to (batch, channels, seq_len)\n",
    "        code_features = torch.relu(self.code_conv1d(code_lstm_out))\n",
    "        code_features = torch.mean(code_features, dim=2)  # Global Average Pooling\n",
    "        \n",
    "        # Combine features\n",
    "        combined_features = torch.cat([message_features, code_features], dim=1)\n",
    "        output = self.fc(combined_features)\n",
    "        return output\n",
    "\n"
   ]
  },
  {
   "cell_type": "code",
   "execution_count": 13,
   "id": "def4bb0a-419c-46fb-b61b-c9f1a98f0caa",
   "metadata": {
    "execution": {
     "iopub.execute_input": "2025-01-11T02:47:13.698136Z",
     "iopub.status.busy": "2025-01-11T02:47:13.697842Z",
     "iopub.status.idle": "2025-01-11T02:47:13.703454Z",
     "shell.execute_reply": "2025-01-11T02:47:13.702662Z",
     "shell.execute_reply.started": "2025-01-11T02:47:13.698112Z"
    }
   },
   "outputs": [
    {
     "data": {
      "text/plain": [
       "2465"
      ]
     },
     "execution_count": 13,
     "metadata": {},
     "output_type": "execute_result"
    }
   ],
   "source": [
    "len(train_data)"
   ]
  },
  {
   "cell_type": "code",
   "execution_count": 14,
   "id": "4e01924f-b8a3-4282-acf6-6d38aee2620c",
   "metadata": {
    "execution": {
     "iopub.execute_input": "2025-01-11T02:47:15.910681Z",
     "iopub.status.busy": "2025-01-11T02:47:15.910011Z",
     "iopub.status.idle": "2025-01-11T02:47:40.165514Z",
     "shell.execute_reply": "2025-01-11T02:47:40.164425Z",
     "shell.execute_reply.started": "2025-01-11T02:47:15.910631Z"
    }
   },
   "outputs": [],
   "source": [
    "# 分别训练 Word2Vec 模型\n",
    "message_sentences = [msg.split() for msg in train_data[\"message\"]]\n",
    "code_sentences = [code.split() for code in train_data[\"diff\"]]\n",
    "message_word2vec = train_word2vec(message_sentences, vector_size=100)\n",
    "code_word2vec = train_word2vec(code_sentences, vector_size=100)\n",
    "\n",
    "# 构建词汇表\n",
    "message_vocab = {word: idx for idx, word in enumerate(message_word2vec.wv.index_to_key)}\n",
    "code_vocab = {word: idx for idx, word in enumerate(code_word2vec.wv.index_to_key)}\n",
    "\n",
    "# 构建嵌入矩阵\n",
    "message_embedding_matrix = np.zeros((len(message_vocab), 100))\n",
    "for word, idx in message_vocab.items():\n",
    "    message_embedding_matrix[idx] = message_word2vec.wv[word]\n",
    "\n",
    "code_embedding_matrix = np.zeros((len(code_vocab), 100))\n",
    "for word, idx in code_vocab.items():\n",
    "    code_embedding_matrix[idx] = code_word2vec.wv[word]\n",
    "\n",
    "# 数据处理\n",
    "max_len = 10\n",
    "train_dataset = TextDataset(train_data, message_vocab, code_vocab, max_len)\n",
    "# 创建 DataLoader 时指定 collate_fn\n",
    "train_loader = DataLoader(train_dataset, batch_size=4, shuffle=True, collate_fn=collate_fn)"
   ]
  },
  {
   "cell_type": "code",
   "execution_count": 27,
   "id": "7ed3c4b6-0928-41ca-9284-04007afa5d06",
   "metadata": {
    "execution": {
     "iopub.execute_input": "2025-01-11T02:51:21.420987Z",
     "iopub.status.busy": "2025-01-11T02:51:21.420704Z",
     "iopub.status.idle": "2025-01-11T02:51:21.425049Z",
     "shell.execute_reply": "2025-01-11T02:51:21.424364Z",
     "shell.execute_reply.started": "2025-01-11T02:51:21.420962Z"
    }
   },
   "outputs": [],
   "source": [
    "device = torch.device('cpu')"
   ]
  },
  {
   "cell_type": "code",
   "execution_count": 16,
   "id": "aada9098-614e-41ad-9c41-f54d8167d618",
   "metadata": {
    "execution": {
     "iopub.execute_input": "2025-01-11T02:47:40.198123Z",
     "iopub.status.busy": "2025-01-11T02:47:40.197842Z",
     "iopub.status.idle": "2025-01-11T02:47:40.475617Z",
     "shell.execute_reply": "2025-01-11T02:47:40.474495Z",
     "shell.execute_reply.started": "2025-01-11T02:47:40.198100Z"
    }
   },
   "outputs": [
    {
     "ename": "NameError",
     "evalue": "name 'model' is not defined",
     "output_type": "error",
     "traceback": [
      "\u001b[0;31m---------------------------------------------------------------------------\u001b[0m",
      "\u001b[0;31mNameError\u001b[0m                                 Traceback (most recent call last)",
      "Cell \u001b[0;32mIn[16], line 2\u001b[0m\n\u001b[1;32m      1\u001b[0m criterion \u001b[38;5;241m=\u001b[39m nn\u001b[38;5;241m.\u001b[39mCrossEntropyLoss()\n\u001b[0;32m----> 2\u001b[0m optimizer \u001b[38;5;241m=\u001b[39m optim\u001b[38;5;241m.\u001b[39mAdam(\u001b[43mmodel\u001b[49m\u001b[38;5;241m.\u001b[39mparameters(), lr\u001b[38;5;241m=\u001b[39m\u001b[38;5;241m0.001\u001b[39m)\n",
      "\u001b[0;31mNameError\u001b[0m: name 'model' is not defined"
     ]
    }
   ],
   "source": []
  },
  {
   "cell_type": "code",
   "execution_count": 16,
   "id": "7eee16ab-a747-4d10-9773-23e2a7ef95ef",
   "metadata": {
    "execution": {
     "iopub.execute_input": "2025-01-07T02:53:36.991300Z",
     "iopub.status.busy": "2025-01-07T02:53:36.991101Z",
     "iopub.status.idle": "2025-01-07T04:46:49.888394Z",
     "shell.execute_reply": "2025-01-07T04:46:49.887586Z",
     "shell.execute_reply.started": "2025-01-07T02:53:36.991279Z"
    }
   },
   "outputs": [
    {
     "name": "stderr",
     "output_type": "stream",
     "text": [
      "Epoch 1, Average Loss: 0.6500: 100%|██████████| 617/617 [11:54<00:00,  1.16s/batch]\n",
      "Epoch 2, Average Loss: 0.6227: 100%|██████████| 617/617 [12:33<00:00,  1.22s/batch]\n",
      "Epoch 3, Average Loss: 0.5864: 100%|██████████| 617/617 [11:38<00:00,  1.13s/batch]\n",
      "Epoch 4, Average Loss: 0.6000: 100%|██████████| 617/617 [11:26<00:00,  1.11s/batch]\n",
      "Epoch 5, Average Loss: 0.5678: 100%|██████████| 617/617 [10:53<00:00,  1.06s/batch]\n",
      "Epoch 6, Average Loss: 0.5594: 100%|██████████| 617/617 [11:05<00:00,  1.08s/batch]\n",
      "Epoch 7, Average Loss: 0.5366: 100%|██████████| 617/617 [11:21<00:00,  1.10s/batch]\n",
      "Epoch 8, Average Loss: 0.5156: 100%|██████████| 617/617 [10:48<00:00,  1.05s/batch]\n",
      "Epoch 9, Average Loss: 0.4983: 100%|██████████| 617/617 [10:50<00:00,  1.05s/batch]\n",
      "Epoch 10, Average Loss: 0.4913: 100%|██████████| 617/617 [10:38<00:00,  1.03s/batch]\n"
     ]
    }
   ],
   "source": [
    "# 模型初始化\n",
    "embedding_dim = 100\n",
    "hidden_dim = 128\n",
    "lstm_layers = 1\n",
    "cnn_out_channels = 64\n",
    "num_classes = 2\n",
    "\n",
    "model = LSTM_CNN_Model(\n",
    "    message_vocab_size=len(message_vocab), \n",
    "    code_vocab_size=len(code_vocab), \n",
    "    embedding_dim=embedding_dim, \n",
    "    hidden_dim=hidden_dim, \n",
    "    lstm_layers=lstm_layers, \n",
    "    cnn_out_channels=cnn_out_channels, \n",
    "    num_classes=num_classes, \n",
    "    message_embedding_matrix=message_embedding_matrix, \n",
    "    code_embedding_matrix=code_embedding_matrix\n",
    ")\n",
    "\n",
    "criterion = nn.CrossEntropyLoss()\n",
    "optimizer = optim.Adam(model.parameters(), lr=0.001)\n",
    "\n",
    "# 将模型移动到设备\n",
    "model.to(device)\n",
    "# 模型训练\n",
    "num_epochs = 10\n",
    "for epoch in range(num_epochs):\n",
    "    model.train()\n",
    "    total_loss = 0.0\n",
    "    \n",
    "    with tqdm(total=len(train_loader), desc=f'Epoch {epoch+1}/{num_epochs}', unit='batch') as pbar:\n",
    "        for messages, codes, labels in train_loader:\n",
    "            \n",
    "            # 将数据移动到设备\n",
    "            messages, codes, labels = (\n",
    "                messages.to(device),\n",
    "                codes.to(device),\n",
    "                labels.to(device),\n",
    "            )\n",
    "            \n",
    "            # Forward pass\n",
    "            outputs = model(messages, codes)\n",
    "            loss = criterion(outputs, labels)\n",
    "            \n",
    "            # Backward pass\n",
    "            optimizer.zero_grad()\n",
    "            loss.backward()\n",
    "            total_loss += loss.item()\n",
    "            optimizer.step()\n",
    "            pbar.update(1)\n",
    "\n",
    "        \n",
    "        # print(f\"Epoch {epoch + 1}, Loss: {loss.item():.4f}\")\n",
    "        avg_loss = total_loss / len(train_loader)\n",
    "        \n",
    "        pbar.set_description(f\"Epoch {epoch + 1}, Average Loss: {avg_loss:.4f}\")"
   ]
  },
  {
   "cell_type": "code",
   "execution_count": 22,
   "id": "92009384-7770-4b2a-97b2-c0b4d209a0a7",
   "metadata": {
    "execution": {
     "iopub.execute_input": "2025-01-11T02:49:01.396068Z",
     "iopub.status.busy": "2025-01-11T02:49:01.395595Z",
     "iopub.status.idle": "2025-01-11T02:49:01.675880Z",
     "shell.execute_reply": "2025-01-11T02:49:01.674838Z",
     "shell.execute_reply.started": "2025-01-11T02:49:01.396022Z"
    }
   },
   "outputs": [],
   "source": [
    "test_dataset = TextDataset(test_data, message_vocab, code_vocab, max_len)\n",
    "# 创建 DataLoader 时指定 collate_fn\n",
    "test_loader = DataLoader(test_dataset, batch_size=4, shuffle=True, collate_fn=collate_fn)"
   ]
  },
  {
   "cell_type": "code",
   "execution_count": 28,
   "id": "a9fa75e6-a2f6-455a-b588-5756a3963c31",
   "metadata": {
    "execution": {
     "iopub.execute_input": "2025-01-11T02:51:26.476607Z",
     "iopub.status.busy": "2025-01-11T02:51:26.476106Z",
     "iopub.status.idle": "2025-01-11T02:51:26.490933Z",
     "shell.execute_reply": "2025-01-11T02:51:26.490170Z",
     "shell.execute_reply.started": "2025-01-11T02:51:26.476557Z"
    }
   },
   "outputs": [],
   "source": [
    "from sklearn.metrics import precision_score, recall_score, f1_score\n",
    "\n",
    "def evaluate(model, data_loader, criterion):\n",
    "    \"\"\"\n",
    "    Evaluate the model on the test dataset, computing loss, accuracy, precision, recall, and F1 score.\n",
    "    \n",
    "    Args:\n",
    "        model: PyTorch model to evaluate.\n",
    "        data_loader: DataLoader for the test dataset.\n",
    "        criterion: Loss function to evaluate the model's performance.\n",
    "    \n",
    "    Returns:\n",
    "        avg_loss: Average loss on the test dataset.\n",
    "        accuracy: Accuracy of the model on the test dataset.\n",
    "        precision: Precision score for the test dataset.\n",
    "        recall: Recall score for the test dataset.\n",
    "        f1: F1 score for the test dataset.\n",
    "    \"\"\"\n",
    "    model.eval()  # Set the model to evaluation mode\n",
    "    total_loss = 0.0\n",
    "    total_correct = 0\n",
    "    total_samples = 0\n",
    "    all_labels = []\n",
    "    all_preds = []\n",
    "\n",
    "    with torch.no_grad():  # Disable gradient computation for evaluation\n",
    "        for messages, codes, labels in data_loader:\n",
    "            # Move data to the specified device\n",
    "            \n",
    "            # 将数据移动到设备\n",
    "            messages, codes, labels = (\n",
    "                messages.to(device),\n",
    "                codes.to(device),\n",
    "                labels.to(device),\n",
    "            )\n",
    "            \n",
    "            # Forward pass\n",
    "            outputs = model(messages, codes)\n",
    "            loss = criterion(outputs, labels)\n",
    "            \n",
    "            # Update loss\n",
    "            total_loss += loss.item() * labels.size(0)  # Multiply by batch size\n",
    "            \n",
    "            # Compute predictions\n",
    "            _, predicted = torch.max(outputs, dim=1)\n",
    "            total_correct += (predicted == labels).sum().item()\n",
    "            total_samples += labels.size(0)\n",
    "            \n",
    "            # Collect predictions and true labels for metrics\n",
    "            all_labels.extend(labels.cpu().numpy())\n",
    "            all_preds.extend(predicted.cpu().numpy())\n",
    "    \n",
    "    # Compute average loss and accuracy\n",
    "    avg_loss = total_loss / total_samples\n",
    "    accuracy = total_correct / total_samples\n",
    "    \n",
    "    # Compute precision, recall, and F1 score\n",
    "    precision = precision_score(all_labels, all_preds, average=\"weighted\", zero_division=0)\n",
    "    recall = recall_score(all_labels, all_preds, average=\"weighted\", zero_division=0)\n",
    "    f1 = f1_score(all_labels, all_preds, average=\"weighted\", zero_division=0)\n",
    "    \n",
    "    return all_labels, all_preds\n"
   ]
  },
  {
   "cell_type": "code",
   "execution_count": null,
   "id": "030afb11-d884-4cea-ac5f-b7c8247909ee",
   "metadata": {},
   "outputs": [],
   "source": []
  },
  {
   "cell_type": "code",
   "execution_count": 29,
   "id": "5878d2a3-fe90-45b1-9486-739c4fee6004",
   "metadata": {
    "execution": {
     "iopub.execute_input": "2025-01-11T02:51:27.335118Z",
     "iopub.status.busy": "2025-01-11T02:51:27.334640Z",
     "iopub.status.idle": "2025-01-11T02:51:27.487394Z",
     "shell.execute_reply": "2025-01-11T02:51:27.486459Z",
     "shell.execute_reply.started": "2025-01-11T02:51:27.335071Z"
    }
   },
   "outputs": [
    {
     "ename": "IndexError",
     "evalue": "index out of range in self",
     "output_type": "error",
     "traceback": [
      "\u001b[0;31m---------------------------------------------------------------------------\u001b[0m",
      "\u001b[0;31mIndexError\u001b[0m                                Traceback (most recent call last)",
      "Cell \u001b[0;32mIn[29], line 2\u001b[0m\n\u001b[1;32m      1\u001b[0m \u001b[38;5;66;03m# Evaluate the model\u001b[39;00m\n\u001b[0;32m----> 2\u001b[0m all_labels,all_preds \u001b[38;5;241m=\u001b[39m \u001b[43mevaluate\u001b[49m\u001b[43m(\u001b[49m\u001b[43mmodel\u001b[49m\u001b[43m,\u001b[49m\u001b[43m \u001b[49m\u001b[43mtest_loader\u001b[49m\u001b[43m,\u001b[49m\u001b[43m \u001b[49m\u001b[43mcriterion\u001b[49m\u001b[43m)\u001b[49m\n\u001b[1;32m      4\u001b[0m \u001b[38;5;66;03m# Print results\u001b[39;00m\n\u001b[1;32m      5\u001b[0m \u001b[38;5;28mprint\u001b[39m(\u001b[38;5;124mf\u001b[39m\u001b[38;5;124m\"\u001b[39m\u001b[38;5;124mTest Loss: \u001b[39m\u001b[38;5;132;01m{\u001b[39;00mavg_loss\u001b[38;5;132;01m:\u001b[39;00m\u001b[38;5;124m.4f\u001b[39m\u001b[38;5;132;01m}\u001b[39;00m\u001b[38;5;124m\"\u001b[39m)\n",
      "Cell \u001b[0;32mIn[28], line 38\u001b[0m, in \u001b[0;36mevaluate\u001b[0;34m(model, data_loader, criterion)\u001b[0m\n\u001b[1;32m     31\u001b[0m messages, codes, labels \u001b[38;5;241m=\u001b[39m (\n\u001b[1;32m     32\u001b[0m     messages\u001b[38;5;241m.\u001b[39mto(device),\n\u001b[1;32m     33\u001b[0m     codes\u001b[38;5;241m.\u001b[39mto(device),\n\u001b[1;32m     34\u001b[0m     labels\u001b[38;5;241m.\u001b[39mto(device),\n\u001b[1;32m     35\u001b[0m )\n\u001b[1;32m     37\u001b[0m \u001b[38;5;66;03m# Forward pass\u001b[39;00m\n\u001b[0;32m---> 38\u001b[0m outputs \u001b[38;5;241m=\u001b[39m \u001b[43mmodel\u001b[49m\u001b[43m(\u001b[49m\u001b[43mmessages\u001b[49m\u001b[43m,\u001b[49m\u001b[43m \u001b[49m\u001b[43mcodes\u001b[49m\u001b[43m)\u001b[49m\n\u001b[1;32m     39\u001b[0m loss \u001b[38;5;241m=\u001b[39m criterion(outputs, labels)\n\u001b[1;32m     41\u001b[0m \u001b[38;5;66;03m# Update loss\u001b[39;00m\n",
      "File \u001b[0;32m~/miniconda3/lib/python3.10/site-packages/torch/nn/modules/module.py:1518\u001b[0m, in \u001b[0;36mModule._wrapped_call_impl\u001b[0;34m(self, *args, **kwargs)\u001b[0m\n\u001b[1;32m   1516\u001b[0m     \u001b[38;5;28;01mreturn\u001b[39;00m \u001b[38;5;28mself\u001b[39m\u001b[38;5;241m.\u001b[39m_compiled_call_impl(\u001b[38;5;241m*\u001b[39margs, \u001b[38;5;241m*\u001b[39m\u001b[38;5;241m*\u001b[39mkwargs)  \u001b[38;5;66;03m# type: ignore[misc]\u001b[39;00m\n\u001b[1;32m   1517\u001b[0m \u001b[38;5;28;01melse\u001b[39;00m:\n\u001b[0;32m-> 1518\u001b[0m     \u001b[38;5;28;01mreturn\u001b[39;00m \u001b[38;5;28;43mself\u001b[39;49m\u001b[38;5;241;43m.\u001b[39;49m\u001b[43m_call_impl\u001b[49m\u001b[43m(\u001b[49m\u001b[38;5;241;43m*\u001b[39;49m\u001b[43margs\u001b[49m\u001b[43m,\u001b[49m\u001b[43m \u001b[49m\u001b[38;5;241;43m*\u001b[39;49m\u001b[38;5;241;43m*\u001b[39;49m\u001b[43mkwargs\u001b[49m\u001b[43m)\u001b[49m\n",
      "File \u001b[0;32m~/miniconda3/lib/python3.10/site-packages/torch/nn/modules/module.py:1527\u001b[0m, in \u001b[0;36mModule._call_impl\u001b[0;34m(self, *args, **kwargs)\u001b[0m\n\u001b[1;32m   1522\u001b[0m \u001b[38;5;66;03m# If we don't have any hooks, we want to skip the rest of the logic in\u001b[39;00m\n\u001b[1;32m   1523\u001b[0m \u001b[38;5;66;03m# this function, and just call forward.\u001b[39;00m\n\u001b[1;32m   1524\u001b[0m \u001b[38;5;28;01mif\u001b[39;00m \u001b[38;5;129;01mnot\u001b[39;00m (\u001b[38;5;28mself\u001b[39m\u001b[38;5;241m.\u001b[39m_backward_hooks \u001b[38;5;129;01mor\u001b[39;00m \u001b[38;5;28mself\u001b[39m\u001b[38;5;241m.\u001b[39m_backward_pre_hooks \u001b[38;5;129;01mor\u001b[39;00m \u001b[38;5;28mself\u001b[39m\u001b[38;5;241m.\u001b[39m_forward_hooks \u001b[38;5;129;01mor\u001b[39;00m \u001b[38;5;28mself\u001b[39m\u001b[38;5;241m.\u001b[39m_forward_pre_hooks\n\u001b[1;32m   1525\u001b[0m         \u001b[38;5;129;01mor\u001b[39;00m _global_backward_pre_hooks \u001b[38;5;129;01mor\u001b[39;00m _global_backward_hooks\n\u001b[1;32m   1526\u001b[0m         \u001b[38;5;129;01mor\u001b[39;00m _global_forward_hooks \u001b[38;5;129;01mor\u001b[39;00m _global_forward_pre_hooks):\n\u001b[0;32m-> 1527\u001b[0m     \u001b[38;5;28;01mreturn\u001b[39;00m \u001b[43mforward_call\u001b[49m\u001b[43m(\u001b[49m\u001b[38;5;241;43m*\u001b[39;49m\u001b[43margs\u001b[49m\u001b[43m,\u001b[49m\u001b[43m \u001b[49m\u001b[38;5;241;43m*\u001b[39;49m\u001b[38;5;241;43m*\u001b[39;49m\u001b[43mkwargs\u001b[49m\u001b[43m)\u001b[49m\n\u001b[1;32m   1529\u001b[0m \u001b[38;5;28;01mtry\u001b[39;00m:\n\u001b[1;32m   1530\u001b[0m     result \u001b[38;5;241m=\u001b[39m \u001b[38;5;28;01mNone\u001b[39;00m\n",
      "Cell \u001b[0;32mIn[12], line 85\u001b[0m, in \u001b[0;36mLSTM_CNN_Model.forward\u001b[0;34m(self, message, code)\u001b[0m\n\u001b[1;32m     82\u001b[0m message_features \u001b[38;5;241m=\u001b[39m torch\u001b[38;5;241m.\u001b[39mmean(message_features, dim\u001b[38;5;241m=\u001b[39m\u001b[38;5;241m2\u001b[39m)  \u001b[38;5;66;03m# Global Average Pooling\u001b[39;00m\n\u001b[1;32m     84\u001b[0m \u001b[38;5;66;03m# Process code\u001b[39;00m\n\u001b[0;32m---> 85\u001b[0m code_embed \u001b[38;5;241m=\u001b[39m \u001b[38;5;28;43mself\u001b[39;49m\u001b[38;5;241;43m.\u001b[39;49m\u001b[43mcode_embedding\u001b[49m\u001b[43m(\u001b[49m\u001b[43mcode\u001b[49m\u001b[43m)\u001b[49m\n\u001b[1;32m     86\u001b[0m code_lstm_out, _ \u001b[38;5;241m=\u001b[39m \u001b[38;5;28mself\u001b[39m\u001b[38;5;241m.\u001b[39mcode_lstm(code_embed)\n\u001b[1;32m     87\u001b[0m code_lstm_out \u001b[38;5;241m=\u001b[39m code_lstm_out\u001b[38;5;241m.\u001b[39mpermute(\u001b[38;5;241m0\u001b[39m, \u001b[38;5;241m2\u001b[39m, \u001b[38;5;241m1\u001b[39m)  \u001b[38;5;66;03m# Change to (batch, channels, seq_len)\u001b[39;00m\n",
      "File \u001b[0;32m~/miniconda3/lib/python3.10/site-packages/torch/nn/modules/module.py:1518\u001b[0m, in \u001b[0;36mModule._wrapped_call_impl\u001b[0;34m(self, *args, **kwargs)\u001b[0m\n\u001b[1;32m   1516\u001b[0m     \u001b[38;5;28;01mreturn\u001b[39;00m \u001b[38;5;28mself\u001b[39m\u001b[38;5;241m.\u001b[39m_compiled_call_impl(\u001b[38;5;241m*\u001b[39margs, \u001b[38;5;241m*\u001b[39m\u001b[38;5;241m*\u001b[39mkwargs)  \u001b[38;5;66;03m# type: ignore[misc]\u001b[39;00m\n\u001b[1;32m   1517\u001b[0m \u001b[38;5;28;01melse\u001b[39;00m:\n\u001b[0;32m-> 1518\u001b[0m     \u001b[38;5;28;01mreturn\u001b[39;00m \u001b[38;5;28;43mself\u001b[39;49m\u001b[38;5;241;43m.\u001b[39;49m\u001b[43m_call_impl\u001b[49m\u001b[43m(\u001b[49m\u001b[38;5;241;43m*\u001b[39;49m\u001b[43margs\u001b[49m\u001b[43m,\u001b[49m\u001b[43m \u001b[49m\u001b[38;5;241;43m*\u001b[39;49m\u001b[38;5;241;43m*\u001b[39;49m\u001b[43mkwargs\u001b[49m\u001b[43m)\u001b[49m\n",
      "File \u001b[0;32m~/miniconda3/lib/python3.10/site-packages/torch/nn/modules/module.py:1527\u001b[0m, in \u001b[0;36mModule._call_impl\u001b[0;34m(self, *args, **kwargs)\u001b[0m\n\u001b[1;32m   1522\u001b[0m \u001b[38;5;66;03m# If we don't have any hooks, we want to skip the rest of the logic in\u001b[39;00m\n\u001b[1;32m   1523\u001b[0m \u001b[38;5;66;03m# this function, and just call forward.\u001b[39;00m\n\u001b[1;32m   1524\u001b[0m \u001b[38;5;28;01mif\u001b[39;00m \u001b[38;5;129;01mnot\u001b[39;00m (\u001b[38;5;28mself\u001b[39m\u001b[38;5;241m.\u001b[39m_backward_hooks \u001b[38;5;129;01mor\u001b[39;00m \u001b[38;5;28mself\u001b[39m\u001b[38;5;241m.\u001b[39m_backward_pre_hooks \u001b[38;5;129;01mor\u001b[39;00m \u001b[38;5;28mself\u001b[39m\u001b[38;5;241m.\u001b[39m_forward_hooks \u001b[38;5;129;01mor\u001b[39;00m \u001b[38;5;28mself\u001b[39m\u001b[38;5;241m.\u001b[39m_forward_pre_hooks\n\u001b[1;32m   1525\u001b[0m         \u001b[38;5;129;01mor\u001b[39;00m _global_backward_pre_hooks \u001b[38;5;129;01mor\u001b[39;00m _global_backward_hooks\n\u001b[1;32m   1526\u001b[0m         \u001b[38;5;129;01mor\u001b[39;00m _global_forward_hooks \u001b[38;5;129;01mor\u001b[39;00m _global_forward_pre_hooks):\n\u001b[0;32m-> 1527\u001b[0m     \u001b[38;5;28;01mreturn\u001b[39;00m \u001b[43mforward_call\u001b[49m\u001b[43m(\u001b[49m\u001b[38;5;241;43m*\u001b[39;49m\u001b[43margs\u001b[49m\u001b[43m,\u001b[49m\u001b[43m \u001b[49m\u001b[38;5;241;43m*\u001b[39;49m\u001b[38;5;241;43m*\u001b[39;49m\u001b[43mkwargs\u001b[49m\u001b[43m)\u001b[49m\n\u001b[1;32m   1529\u001b[0m \u001b[38;5;28;01mtry\u001b[39;00m:\n\u001b[1;32m   1530\u001b[0m     result \u001b[38;5;241m=\u001b[39m \u001b[38;5;28;01mNone\u001b[39;00m\n",
      "File \u001b[0;32m~/miniconda3/lib/python3.10/site-packages/torch/nn/modules/sparse.py:162\u001b[0m, in \u001b[0;36mEmbedding.forward\u001b[0;34m(self, input)\u001b[0m\n\u001b[1;32m    161\u001b[0m \u001b[38;5;28;01mdef\u001b[39;00m \u001b[38;5;21mforward\u001b[39m(\u001b[38;5;28mself\u001b[39m, \u001b[38;5;28minput\u001b[39m: Tensor) \u001b[38;5;241m-\u001b[39m\u001b[38;5;241m>\u001b[39m Tensor:\n\u001b[0;32m--> 162\u001b[0m     \u001b[38;5;28;01mreturn\u001b[39;00m \u001b[43mF\u001b[49m\u001b[38;5;241;43m.\u001b[39;49m\u001b[43membedding\u001b[49m\u001b[43m(\u001b[49m\n\u001b[1;32m    163\u001b[0m \u001b[43m        \u001b[49m\u001b[38;5;28;43minput\u001b[39;49m\u001b[43m,\u001b[49m\u001b[43m \u001b[49m\u001b[38;5;28;43mself\u001b[39;49m\u001b[38;5;241;43m.\u001b[39;49m\u001b[43mweight\u001b[49m\u001b[43m,\u001b[49m\u001b[43m \u001b[49m\u001b[38;5;28;43mself\u001b[39;49m\u001b[38;5;241;43m.\u001b[39;49m\u001b[43mpadding_idx\u001b[49m\u001b[43m,\u001b[49m\u001b[43m \u001b[49m\u001b[38;5;28;43mself\u001b[39;49m\u001b[38;5;241;43m.\u001b[39;49m\u001b[43mmax_norm\u001b[49m\u001b[43m,\u001b[49m\n\u001b[1;32m    164\u001b[0m \u001b[43m        \u001b[49m\u001b[38;5;28;43mself\u001b[39;49m\u001b[38;5;241;43m.\u001b[39;49m\u001b[43mnorm_type\u001b[49m\u001b[43m,\u001b[49m\u001b[43m \u001b[49m\u001b[38;5;28;43mself\u001b[39;49m\u001b[38;5;241;43m.\u001b[39;49m\u001b[43mscale_grad_by_freq\u001b[49m\u001b[43m,\u001b[49m\u001b[43m \u001b[49m\u001b[38;5;28;43mself\u001b[39;49m\u001b[38;5;241;43m.\u001b[39;49m\u001b[43msparse\u001b[49m\u001b[43m)\u001b[49m\n",
      "File \u001b[0;32m~/miniconda3/lib/python3.10/site-packages/torch/nn/functional.py:2233\u001b[0m, in \u001b[0;36membedding\u001b[0;34m(input, weight, padding_idx, max_norm, norm_type, scale_grad_by_freq, sparse)\u001b[0m\n\u001b[1;32m   2227\u001b[0m     \u001b[38;5;66;03m# Note [embedding_renorm set_grad_enabled]\u001b[39;00m\n\u001b[1;32m   2228\u001b[0m     \u001b[38;5;66;03m# XXX: equivalent to\u001b[39;00m\n\u001b[1;32m   2229\u001b[0m     \u001b[38;5;66;03m# with torch.no_grad():\u001b[39;00m\n\u001b[1;32m   2230\u001b[0m     \u001b[38;5;66;03m#   torch.embedding_renorm_\u001b[39;00m\n\u001b[1;32m   2231\u001b[0m     \u001b[38;5;66;03m# remove once script supports set_grad_enabled\u001b[39;00m\n\u001b[1;32m   2232\u001b[0m     _no_grad_embedding_renorm_(weight, \u001b[38;5;28minput\u001b[39m, max_norm, norm_type)\n\u001b[0;32m-> 2233\u001b[0m \u001b[38;5;28;01mreturn\u001b[39;00m \u001b[43mtorch\u001b[49m\u001b[38;5;241;43m.\u001b[39;49m\u001b[43membedding\u001b[49m\u001b[43m(\u001b[49m\u001b[43mweight\u001b[49m\u001b[43m,\u001b[49m\u001b[43m \u001b[49m\u001b[38;5;28;43minput\u001b[39;49m\u001b[43m,\u001b[49m\u001b[43m \u001b[49m\u001b[43mpadding_idx\u001b[49m\u001b[43m,\u001b[49m\u001b[43m \u001b[49m\u001b[43mscale_grad_by_freq\u001b[49m\u001b[43m,\u001b[49m\u001b[43m \u001b[49m\u001b[43msparse\u001b[49m\u001b[43m)\u001b[49m\n",
      "\u001b[0;31mIndexError\u001b[0m: index out of range in self"
     ]
    }
   ],
   "source": [
    "# Evaluate the model\n",
    "all_labels,all_preds = evaluate(model, test_loader, criterion)\n",
    "\n",
    "# Print results\n",
    "print(f\"Test Loss: {avg_loss:.4f}\")\n",
    "print(f\"Test Accuracy: {accuracy:.2%}\")\n",
    "print(f\"Test Precision: {precision:.2%}\")\n",
    "print(f\"Test Recall: {recall:.2%}\")\n",
    "print(f\"Test F1 Score: {f1:.2%}\")\n"
   ]
  },
  {
   "cell_type": "code",
   "execution_count": 21,
   "id": "5e4b2c38-1a70-4291-86ba-9a32eef19ae8",
   "metadata": {
    "execution": {
     "iopub.execute_input": "2025-01-07T06:31:45.972120Z",
     "iopub.status.busy": "2025-01-07T06:31:45.971702Z",
     "iopub.status.idle": "2025-01-07T06:31:45.980465Z",
     "shell.execute_reply": "2025-01-07T06:31:45.978195Z",
     "shell.execute_reply.started": "2025-01-07T06:31:45.972082Z"
    }
   },
   "outputs": [],
   "source": [
    "# print(classification_report(test_labels,test_predictions))"
   ]
  },
  {
   "cell_type": "code",
   "execution_count": 22,
   "id": "b84edf12-7846-4311-8539-7078f9801402",
   "metadata": {
    "execution": {
     "iopub.execute_input": "2025-01-07T06:31:54.714481Z",
     "iopub.status.busy": "2025-01-07T06:31:54.713681Z",
     "iopub.status.idle": "2025-01-07T06:31:55.138554Z",
     "shell.execute_reply": "2025-01-07T06:31:55.136506Z",
     "shell.execute_reply.started": "2025-01-07T06:31:54.714401Z"
    }
   },
   "outputs": [],
   "source": [
    "torch.save(model, \"SPI_entire_bert_model_900repo.pth\")"
   ]
  },
  {
   "cell_type": "code",
   "execution_count": 17,
   "id": "4cf6cd1e-74d5-4c68-8649-c9465549646e",
   "metadata": {
    "execution": {
     "iopub.execute_input": "2025-01-11T02:48:42.854119Z",
     "iopub.status.busy": "2025-01-11T02:48:42.853837Z",
     "iopub.status.idle": "2025-01-11T02:48:42.912747Z",
     "shell.execute_reply": "2025-01-11T02:48:42.911709Z",
     "shell.execute_reply.started": "2025-01-11T02:48:42.854094Z"
    }
   },
   "outputs": [],
   "source": [
    "model = torch.load(\"SPI_entire_bert_model_900repo.pth\")"
   ]
  },
  {
   "cell_type": "code",
   "execution_count": 18,
   "id": "85d2165b-96cb-46f5-ba16-eda876a3ac2d",
   "metadata": {
    "execution": {
     "iopub.execute_input": "2025-01-11T02:48:45.816628Z",
     "iopub.status.busy": "2025-01-11T02:48:45.816157Z",
     "iopub.status.idle": "2025-01-11T02:48:46.525122Z",
     "shell.execute_reply": "2025-01-11T02:48:46.524282Z",
     "shell.execute_reply.started": "2025-01-11T02:48:45.816602Z"
    }
   },
   "outputs": [],
   "source": [
    "criterion = nn.CrossEntropyLoss()\n",
    "optimizer = optim.Adam(model.parameters(), lr=0.001)"
   ]
  },
  {
   "cell_type": "code",
   "execution_count": 24,
   "id": "cc7240dd-d80a-4d6b-857f-bd93e499eb40",
   "metadata": {
    "execution": {
     "iopub.execute_input": "2025-01-11T02:49:41.804494Z",
     "iopub.status.busy": "2025-01-11T02:49:41.804217Z",
     "iopub.status.idle": "2025-01-11T02:49:41.959961Z",
     "shell.execute_reply": "2025-01-11T02:49:41.958990Z",
     "shell.execute_reply.started": "2025-01-11T02:49:41.804470Z"
    }
   },
   "outputs": [
    {
     "name": "stderr",
     "output_type": "stream",
     "text": [
      "/tmp/ipykernel_2823/2610449562.py:30: UserWarning: To copy construct from a tensor, it is recommended to use sourceTensor.clone().detach() or sourceTensor.clone().detach().requires_grad_(True), rather than torch.tensor(sourceTensor).\n",
      "  messages, codes, labels = torch.tensor(messages), torch.tensor(codes), torch.tensor(labels)\n"
     ]
    },
    {
     "ename": "IndexError",
     "evalue": "index out of range in self",
     "output_type": "error",
     "traceback": [
      "\u001b[0;31m---------------------------------------------------------------------------\u001b[0m",
      "\u001b[0;31mIndexError\u001b[0m                                Traceback (most recent call last)",
      "Cell \u001b[0;32mIn[24], line 2\u001b[0m\n\u001b[1;32m      1\u001b[0m \u001b[38;5;66;03m# Evaluate the model\u001b[39;00m\n\u001b[0;32m----> 2\u001b[0m test_labels, test_predictions \u001b[38;5;241m=\u001b[39m \u001b[43mevaluate\u001b[49m\u001b[43m(\u001b[49m\u001b[43mmodel\u001b[49m\u001b[43m,\u001b[49m\u001b[43m \u001b[49m\u001b[43mtest_loader\u001b[49m\u001b[43m,\u001b[49m\u001b[43m \u001b[49m\u001b[43mcriterion\u001b[49m\u001b[43m)\u001b[49m\n",
      "Cell \u001b[0;32mIn[20], line 33\u001b[0m, in \u001b[0;36mevaluate\u001b[0;34m(model, data_loader, criterion)\u001b[0m\n\u001b[1;32m     30\u001b[0m messages, codes, labels \u001b[38;5;241m=\u001b[39m torch\u001b[38;5;241m.\u001b[39mtensor(messages), torch\u001b[38;5;241m.\u001b[39mtensor(codes), torch\u001b[38;5;241m.\u001b[39mtensor(labels)\n\u001b[1;32m     32\u001b[0m \u001b[38;5;66;03m# Forward pass\u001b[39;00m\n\u001b[0;32m---> 33\u001b[0m outputs \u001b[38;5;241m=\u001b[39m \u001b[43mmodel\u001b[49m\u001b[43m(\u001b[49m\u001b[43mmessages\u001b[49m\u001b[43m,\u001b[49m\u001b[43m \u001b[49m\u001b[43mcodes\u001b[49m\u001b[43m)\u001b[49m\n\u001b[1;32m     34\u001b[0m loss \u001b[38;5;241m=\u001b[39m criterion(outputs, labels)\n\u001b[1;32m     36\u001b[0m \u001b[38;5;66;03m# Update loss\u001b[39;00m\n",
      "File \u001b[0;32m~/miniconda3/lib/python3.10/site-packages/torch/nn/modules/module.py:1518\u001b[0m, in \u001b[0;36mModule._wrapped_call_impl\u001b[0;34m(self, *args, **kwargs)\u001b[0m\n\u001b[1;32m   1516\u001b[0m     \u001b[38;5;28;01mreturn\u001b[39;00m \u001b[38;5;28mself\u001b[39m\u001b[38;5;241m.\u001b[39m_compiled_call_impl(\u001b[38;5;241m*\u001b[39margs, \u001b[38;5;241m*\u001b[39m\u001b[38;5;241m*\u001b[39mkwargs)  \u001b[38;5;66;03m# type: ignore[misc]\u001b[39;00m\n\u001b[1;32m   1517\u001b[0m \u001b[38;5;28;01melse\u001b[39;00m:\n\u001b[0;32m-> 1518\u001b[0m     \u001b[38;5;28;01mreturn\u001b[39;00m \u001b[38;5;28;43mself\u001b[39;49m\u001b[38;5;241;43m.\u001b[39;49m\u001b[43m_call_impl\u001b[49m\u001b[43m(\u001b[49m\u001b[38;5;241;43m*\u001b[39;49m\u001b[43margs\u001b[49m\u001b[43m,\u001b[49m\u001b[43m \u001b[49m\u001b[38;5;241;43m*\u001b[39;49m\u001b[38;5;241;43m*\u001b[39;49m\u001b[43mkwargs\u001b[49m\u001b[43m)\u001b[49m\n",
      "File \u001b[0;32m~/miniconda3/lib/python3.10/site-packages/torch/nn/modules/module.py:1527\u001b[0m, in \u001b[0;36mModule._call_impl\u001b[0;34m(self, *args, **kwargs)\u001b[0m\n\u001b[1;32m   1522\u001b[0m \u001b[38;5;66;03m# If we don't have any hooks, we want to skip the rest of the logic in\u001b[39;00m\n\u001b[1;32m   1523\u001b[0m \u001b[38;5;66;03m# this function, and just call forward.\u001b[39;00m\n\u001b[1;32m   1524\u001b[0m \u001b[38;5;28;01mif\u001b[39;00m \u001b[38;5;129;01mnot\u001b[39;00m (\u001b[38;5;28mself\u001b[39m\u001b[38;5;241m.\u001b[39m_backward_hooks \u001b[38;5;129;01mor\u001b[39;00m \u001b[38;5;28mself\u001b[39m\u001b[38;5;241m.\u001b[39m_backward_pre_hooks \u001b[38;5;129;01mor\u001b[39;00m \u001b[38;5;28mself\u001b[39m\u001b[38;5;241m.\u001b[39m_forward_hooks \u001b[38;5;129;01mor\u001b[39;00m \u001b[38;5;28mself\u001b[39m\u001b[38;5;241m.\u001b[39m_forward_pre_hooks\n\u001b[1;32m   1525\u001b[0m         \u001b[38;5;129;01mor\u001b[39;00m _global_backward_pre_hooks \u001b[38;5;129;01mor\u001b[39;00m _global_backward_hooks\n\u001b[1;32m   1526\u001b[0m         \u001b[38;5;129;01mor\u001b[39;00m _global_forward_hooks \u001b[38;5;129;01mor\u001b[39;00m _global_forward_pre_hooks):\n\u001b[0;32m-> 1527\u001b[0m     \u001b[38;5;28;01mreturn\u001b[39;00m \u001b[43mforward_call\u001b[49m\u001b[43m(\u001b[49m\u001b[38;5;241;43m*\u001b[39;49m\u001b[43margs\u001b[49m\u001b[43m,\u001b[49m\u001b[43m \u001b[49m\u001b[38;5;241;43m*\u001b[39;49m\u001b[38;5;241;43m*\u001b[39;49m\u001b[43mkwargs\u001b[49m\u001b[43m)\u001b[49m\n\u001b[1;32m   1529\u001b[0m \u001b[38;5;28;01mtry\u001b[39;00m:\n\u001b[1;32m   1530\u001b[0m     result \u001b[38;5;241m=\u001b[39m \u001b[38;5;28;01mNone\u001b[39;00m\n",
      "Cell \u001b[0;32mIn[12], line 85\u001b[0m, in \u001b[0;36mLSTM_CNN_Model.forward\u001b[0;34m(self, message, code)\u001b[0m\n\u001b[1;32m     82\u001b[0m message_features \u001b[38;5;241m=\u001b[39m torch\u001b[38;5;241m.\u001b[39mmean(message_features, dim\u001b[38;5;241m=\u001b[39m\u001b[38;5;241m2\u001b[39m)  \u001b[38;5;66;03m# Global Average Pooling\u001b[39;00m\n\u001b[1;32m     84\u001b[0m \u001b[38;5;66;03m# Process code\u001b[39;00m\n\u001b[0;32m---> 85\u001b[0m code_embed \u001b[38;5;241m=\u001b[39m \u001b[38;5;28;43mself\u001b[39;49m\u001b[38;5;241;43m.\u001b[39;49m\u001b[43mcode_embedding\u001b[49m\u001b[43m(\u001b[49m\u001b[43mcode\u001b[49m\u001b[43m)\u001b[49m\n\u001b[1;32m     86\u001b[0m code_lstm_out, _ \u001b[38;5;241m=\u001b[39m \u001b[38;5;28mself\u001b[39m\u001b[38;5;241m.\u001b[39mcode_lstm(code_embed)\n\u001b[1;32m     87\u001b[0m code_lstm_out \u001b[38;5;241m=\u001b[39m code_lstm_out\u001b[38;5;241m.\u001b[39mpermute(\u001b[38;5;241m0\u001b[39m, \u001b[38;5;241m2\u001b[39m, \u001b[38;5;241m1\u001b[39m)  \u001b[38;5;66;03m# Change to (batch, channels, seq_len)\u001b[39;00m\n",
      "File \u001b[0;32m~/miniconda3/lib/python3.10/site-packages/torch/nn/modules/module.py:1518\u001b[0m, in \u001b[0;36mModule._wrapped_call_impl\u001b[0;34m(self, *args, **kwargs)\u001b[0m\n\u001b[1;32m   1516\u001b[0m     \u001b[38;5;28;01mreturn\u001b[39;00m \u001b[38;5;28mself\u001b[39m\u001b[38;5;241m.\u001b[39m_compiled_call_impl(\u001b[38;5;241m*\u001b[39margs, \u001b[38;5;241m*\u001b[39m\u001b[38;5;241m*\u001b[39mkwargs)  \u001b[38;5;66;03m# type: ignore[misc]\u001b[39;00m\n\u001b[1;32m   1517\u001b[0m \u001b[38;5;28;01melse\u001b[39;00m:\n\u001b[0;32m-> 1518\u001b[0m     \u001b[38;5;28;01mreturn\u001b[39;00m \u001b[38;5;28;43mself\u001b[39;49m\u001b[38;5;241;43m.\u001b[39;49m\u001b[43m_call_impl\u001b[49m\u001b[43m(\u001b[49m\u001b[38;5;241;43m*\u001b[39;49m\u001b[43margs\u001b[49m\u001b[43m,\u001b[49m\u001b[43m \u001b[49m\u001b[38;5;241;43m*\u001b[39;49m\u001b[38;5;241;43m*\u001b[39;49m\u001b[43mkwargs\u001b[49m\u001b[43m)\u001b[49m\n",
      "File \u001b[0;32m~/miniconda3/lib/python3.10/site-packages/torch/nn/modules/module.py:1527\u001b[0m, in \u001b[0;36mModule._call_impl\u001b[0;34m(self, *args, **kwargs)\u001b[0m\n\u001b[1;32m   1522\u001b[0m \u001b[38;5;66;03m# If we don't have any hooks, we want to skip the rest of the logic in\u001b[39;00m\n\u001b[1;32m   1523\u001b[0m \u001b[38;5;66;03m# this function, and just call forward.\u001b[39;00m\n\u001b[1;32m   1524\u001b[0m \u001b[38;5;28;01mif\u001b[39;00m \u001b[38;5;129;01mnot\u001b[39;00m (\u001b[38;5;28mself\u001b[39m\u001b[38;5;241m.\u001b[39m_backward_hooks \u001b[38;5;129;01mor\u001b[39;00m \u001b[38;5;28mself\u001b[39m\u001b[38;5;241m.\u001b[39m_backward_pre_hooks \u001b[38;5;129;01mor\u001b[39;00m \u001b[38;5;28mself\u001b[39m\u001b[38;5;241m.\u001b[39m_forward_hooks \u001b[38;5;129;01mor\u001b[39;00m \u001b[38;5;28mself\u001b[39m\u001b[38;5;241m.\u001b[39m_forward_pre_hooks\n\u001b[1;32m   1525\u001b[0m         \u001b[38;5;129;01mor\u001b[39;00m _global_backward_pre_hooks \u001b[38;5;129;01mor\u001b[39;00m _global_backward_hooks\n\u001b[1;32m   1526\u001b[0m         \u001b[38;5;129;01mor\u001b[39;00m _global_forward_hooks \u001b[38;5;129;01mor\u001b[39;00m _global_forward_pre_hooks):\n\u001b[0;32m-> 1527\u001b[0m     \u001b[38;5;28;01mreturn\u001b[39;00m \u001b[43mforward_call\u001b[49m\u001b[43m(\u001b[49m\u001b[38;5;241;43m*\u001b[39;49m\u001b[43margs\u001b[49m\u001b[43m,\u001b[49m\u001b[43m \u001b[49m\u001b[38;5;241;43m*\u001b[39;49m\u001b[38;5;241;43m*\u001b[39;49m\u001b[43mkwargs\u001b[49m\u001b[43m)\u001b[49m\n\u001b[1;32m   1529\u001b[0m \u001b[38;5;28;01mtry\u001b[39;00m:\n\u001b[1;32m   1530\u001b[0m     result \u001b[38;5;241m=\u001b[39m \u001b[38;5;28;01mNone\u001b[39;00m\n",
      "File \u001b[0;32m~/miniconda3/lib/python3.10/site-packages/torch/nn/modules/sparse.py:162\u001b[0m, in \u001b[0;36mEmbedding.forward\u001b[0;34m(self, input)\u001b[0m\n\u001b[1;32m    161\u001b[0m \u001b[38;5;28;01mdef\u001b[39;00m \u001b[38;5;21mforward\u001b[39m(\u001b[38;5;28mself\u001b[39m, \u001b[38;5;28minput\u001b[39m: Tensor) \u001b[38;5;241m-\u001b[39m\u001b[38;5;241m>\u001b[39m Tensor:\n\u001b[0;32m--> 162\u001b[0m     \u001b[38;5;28;01mreturn\u001b[39;00m \u001b[43mF\u001b[49m\u001b[38;5;241;43m.\u001b[39;49m\u001b[43membedding\u001b[49m\u001b[43m(\u001b[49m\n\u001b[1;32m    163\u001b[0m \u001b[43m        \u001b[49m\u001b[38;5;28;43minput\u001b[39;49m\u001b[43m,\u001b[49m\u001b[43m \u001b[49m\u001b[38;5;28;43mself\u001b[39;49m\u001b[38;5;241;43m.\u001b[39;49m\u001b[43mweight\u001b[49m\u001b[43m,\u001b[49m\u001b[43m \u001b[49m\u001b[38;5;28;43mself\u001b[39;49m\u001b[38;5;241;43m.\u001b[39;49m\u001b[43mpadding_idx\u001b[49m\u001b[43m,\u001b[49m\u001b[43m \u001b[49m\u001b[38;5;28;43mself\u001b[39;49m\u001b[38;5;241;43m.\u001b[39;49m\u001b[43mmax_norm\u001b[49m\u001b[43m,\u001b[49m\n\u001b[1;32m    164\u001b[0m \u001b[43m        \u001b[49m\u001b[38;5;28;43mself\u001b[39;49m\u001b[38;5;241;43m.\u001b[39;49m\u001b[43mnorm_type\u001b[49m\u001b[43m,\u001b[49m\u001b[43m \u001b[49m\u001b[38;5;28;43mself\u001b[39;49m\u001b[38;5;241;43m.\u001b[39;49m\u001b[43mscale_grad_by_freq\u001b[49m\u001b[43m,\u001b[49m\u001b[43m \u001b[49m\u001b[38;5;28;43mself\u001b[39;49m\u001b[38;5;241;43m.\u001b[39;49m\u001b[43msparse\u001b[49m\u001b[43m)\u001b[49m\n",
      "File \u001b[0;32m~/miniconda3/lib/python3.10/site-packages/torch/nn/functional.py:2233\u001b[0m, in \u001b[0;36membedding\u001b[0;34m(input, weight, padding_idx, max_norm, norm_type, scale_grad_by_freq, sparse)\u001b[0m\n\u001b[1;32m   2227\u001b[0m     \u001b[38;5;66;03m# Note [embedding_renorm set_grad_enabled]\u001b[39;00m\n\u001b[1;32m   2228\u001b[0m     \u001b[38;5;66;03m# XXX: equivalent to\u001b[39;00m\n\u001b[1;32m   2229\u001b[0m     \u001b[38;5;66;03m# with torch.no_grad():\u001b[39;00m\n\u001b[1;32m   2230\u001b[0m     \u001b[38;5;66;03m#   torch.embedding_renorm_\u001b[39;00m\n\u001b[1;32m   2231\u001b[0m     \u001b[38;5;66;03m# remove once script supports set_grad_enabled\u001b[39;00m\n\u001b[1;32m   2232\u001b[0m     _no_grad_embedding_renorm_(weight, \u001b[38;5;28minput\u001b[39m, max_norm, norm_type)\n\u001b[0;32m-> 2233\u001b[0m \u001b[38;5;28;01mreturn\u001b[39;00m \u001b[43mtorch\u001b[49m\u001b[38;5;241;43m.\u001b[39;49m\u001b[43membedding\u001b[49m\u001b[43m(\u001b[49m\u001b[43mweight\u001b[49m\u001b[43m,\u001b[49m\u001b[43m \u001b[49m\u001b[38;5;28;43minput\u001b[39;49m\u001b[43m,\u001b[49m\u001b[43m \u001b[49m\u001b[43mpadding_idx\u001b[49m\u001b[43m,\u001b[49m\u001b[43m \u001b[49m\u001b[43mscale_grad_by_freq\u001b[49m\u001b[43m,\u001b[49m\u001b[43m \u001b[49m\u001b[43msparse\u001b[49m\u001b[43m)\u001b[49m\n",
      "\u001b[0;31mIndexError\u001b[0m: index out of range in self"
     ]
    }
   ],
   "source": [
    "# Evaluate the model\n",
    "test_labels, test_predictions = evaluate(model, test_loader, criterion)"
   ]
  },
  {
   "cell_type": "code",
   "execution_count": null,
   "id": "f965850a-4e18-4774-8a25-d7bc3badf39e",
   "metadata": {},
   "outputs": [],
   "source": [
    "print(classification_report(test_labels, test_predictions))"
   ]
  },
  {
   "cell_type": "code",
   "execution_count": 23,
   "id": "bf19d667-f13b-4286-a1aa-6dbef58828ed",
   "metadata": {
    "execution": {
     "iopub.execute_input": "2025-01-07T06:31:56.041530Z",
     "iopub.status.busy": "2025-01-07T06:31:56.041196Z",
     "iopub.status.idle": "2025-01-07T06:31:57.080738Z",
     "shell.execute_reply": "2025-01-07T06:31:57.078279Z",
     "shell.execute_reply.started": "2025-01-07T06:31:56.041496Z"
    }
   },
   "outputs": [
    {
     "name": "stdout",
     "output_type": "stream",
     "text": [
      "在线模型训练完毕\n"
     ]
    }
   ],
   "source": [
    "#发送多种类型的邮件\n",
    "from email.mime.multipart import MIMEMultipart\n",
    "import smtplib\n",
    "\n",
    "from email.mime.text import MIMEText\n",
    "msg_from = '915803745@qq.com'  # 发送方邮箱\n",
    "passwd = 'vcuosuurrgkfbdai'   #就是上面的授权码\n",
    " \n",
    "# to= ['g.zhang@gotion.com', 'j.tong@gotion.com'] #接受方邮箱\n",
    "to= ['j.tong@gotion.com'] #接受方邮箱\n",
    "#设置邮件内容\n",
    "#MIMEMultipart类可以放任何内容\n",
    "msg = MIMEMultipart()\n",
    "conntent=\"在线模型训练完毕\"\n",
    "#把内容加进去\n",
    "msg.attach(MIMEText(conntent,'plain','utf-8'))\n",
    " \n",
    "#设置邮件主题\n",
    "msg['Subject']=\"在线模型训练完毕\"\n",
    " \n",
    "#发送方信息\n",
    "msg['From']=msg_from\n",
    " \n",
    "#开始发送\n",
    " \n",
    "#通过SSL方式发送，服务器地址和端口\n",
    "s = smtplib.SMTP_SSL(\"smtp.qq.com\", 465)\n",
    "# 登录邮箱\n",
    "s.login(msg_from, passwd)\n",
    "#开始发送\n",
    "s.sendmail(msg_from,to,msg.as_string())\n",
    "print(\"在线模型训练完毕\")"
   ]
  },
  {
   "cell_type": "code",
   "execution_count": null,
   "id": "0040dfb2-eff0-4087-b618-a82f286940a2",
   "metadata": {},
   "outputs": [],
   "source": []
  }
 ],
 "metadata": {
  "kernelspec": {
   "display_name": "Python 3 (ipykernel)",
   "language": "python",
   "name": "python3"
  },
  "language_info": {
   "codemirror_mode": {
    "name": "ipython",
    "version": 3
   },
   "file_extension": ".py",
   "mimetype": "text/x-python",
   "name": "python",
   "nbconvert_exporter": "python",
   "pygments_lexer": "ipython3",
   "version": "3.10.8"
  }
 },
 "nbformat": 4,
 "nbformat_minor": 5
}
