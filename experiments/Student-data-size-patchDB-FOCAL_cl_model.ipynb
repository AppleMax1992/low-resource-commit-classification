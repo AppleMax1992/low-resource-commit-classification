{
 "cells": [
  {
   "cell_type": "code",
   "execution_count": 1,
   "id": "9f82a8cc-7b02-48d7-a783-6e89bccff8b2",
   "metadata": {
    "execution": {
     "iopub.execute_input": "2025-01-02T11:34:43.328085Z",
     "iopub.status.busy": "2025-01-02T11:34:43.326952Z",
     "iopub.status.idle": "2025-01-02T11:34:47.365511Z",
     "shell.execute_reply": "2025-01-02T11:34:47.364313Z",
     "shell.execute_reply.started": "2025-01-02T11:34:43.328005Z"
    }
   },
   "outputs": [
    {
     "name": "stdout",
     "output_type": "stream",
     "text": [
      "\n",
      "root\n",
      "ensemble_commit\n",
      "/root/ensemble_commit\n"
     ]
    }
   ],
   "source": [
    "import pandas as pd\n",
    "from sklearn.model_selection import train_test_split\n",
    "import torch\n",
    "import os\n",
    "\n",
    "notebook_path = os.path.abspath('')\n",
    "import sys\n",
    "# Find the part of the path that contains 'commitFit'\n",
    "commit_fit_path = None\n",
    "for part in notebook_path.split(os.sep):\n",
    "    print(part)\n",
    "    if 'ensemble_commit' in part:\n",
    "        commit_fit_path = notebook_path.split(part)[0] + part\n",
    "        print(commit_fit_path)\n",
    "        break\n",
    "\n",
    "if commit_fit_path is None:\n",
    "    raise ValueError(\"Path containing 'ensemble_commit' not found in notebook path.\")\n",
    "\n",
    "\n",
    "if commit_fit_path not in sys.path:\n",
    "    sys.path.append(commit_fit_path)\n",
    "\n",
    "import ensemble_model.preprocesser as preprocesser \n",
    "import ensemble_model.MoE_model_focal_cum_loss as moe \n",
    "import ensemble_model.student_contrastive as student_cl\n",
    "from torch.utils.data import Dataset, DataLoader\n",
    "from transformers import BertModel, BertTokenizer, RobertaModel, RobertaTokenizer, DistilBertModel\n",
    "\n",
    "# import whatthepatch\n",
    "import numpy as np\n",
    "from sklearn.manifold import TSNE\n",
    "import matplotlib.pyplot as plt\n",
    "from sklearn.metrics import precision_score, recall_score, f1_score, precision_recall_curve,classification_report\n"
   ]
  },
  {
   "cell_type": "code",
   "execution_count": 2,
   "id": "537e23dd-4090-40f0-8c1c-3ed2e96076cc",
   "metadata": {
    "execution": {
     "iopub.execute_input": "2025-01-02T11:34:47.367721Z",
     "iopub.status.busy": "2025-01-02T11:34:47.367334Z",
     "iopub.status.idle": "2025-01-02T11:34:47.378176Z",
     "shell.execute_reply": "2025-01-02T11:34:47.377085Z",
     "shell.execute_reply.started": "2025-01-02T11:34:47.367688Z"
    }
   },
   "outputs": [
    {
     "data": {
      "text/plain": [
       "ensemble_model.student_contrastive.BiLSTMStudent"
      ]
     },
     "execution_count": 2,
     "metadata": {},
     "output_type": "execute_result"
    }
   ],
   "source": [
    "student_cl.BiLSTMStudent"
   ]
  },
  {
   "cell_type": "code",
   "execution_count": 3,
   "id": "666cb7bc-ce61-42cb-b7fa-934b5e5d3580",
   "metadata": {
    "execution": {
     "iopub.execute_input": "2025-01-02T11:34:47.379378Z",
     "iopub.status.busy": "2025-01-02T11:34:47.379119Z",
     "iopub.status.idle": "2025-01-02T11:34:49.085366Z",
     "shell.execute_reply": "2025-01-02T11:34:49.084360Z",
     "shell.execute_reply.started": "2025-01-02T11:34:47.379348Z"
    }
   },
   "outputs": [
    {
     "name": "stderr",
     "output_type": "stream",
     "text": [
      "/tmp/ipykernel_9910/183603274.py:4: FutureWarning: Downcasting behavior in `replace` is deprecated and will be removed in a future version. To retain the old behavior, explicitly call `result.infer_objects(copy=False)`. To opt-in to the future behavior, set `pd.set_option('future.no_silent_downcasting', True)`\n",
      "  df = df.replace({\"category\": label2id})\n"
     ]
    },
    {
     "data": {
      "text/html": [
       "<div>\n",
       "<style scoped>\n",
       "    .dataframe tbody tr th:only-of-type {\n",
       "        vertical-align: middle;\n",
       "    }\n",
       "\n",
       "    .dataframe tbody tr th {\n",
       "        vertical-align: top;\n",
       "    }\n",
       "\n",
       "    .dataframe thead th {\n",
       "        text-align: right;\n",
       "    }\n",
       "</style>\n",
       "<table border=\"1\" class=\"dataframe\">\n",
       "  <thead>\n",
       "    <tr style=\"text-align: right;\">\n",
       "      <th></th>\n",
       "      <th>CVE_ID</th>\n",
       "      <th>CWE_ID</th>\n",
       "      <th>category</th>\n",
       "      <th>commit_id</th>\n",
       "      <th>commit_message</th>\n",
       "      <th>diff_code</th>\n",
       "      <th>owner</th>\n",
       "      <th>repo</th>\n",
       "      <th>source</th>\n",
       "    </tr>\n",
       "  </thead>\n",
       "  <tbody>\n",
       "    <tr>\n",
       "      <th>0</th>\n",
       "      <td>NA</td>\n",
       "      <td>NA</td>\n",
       "      <td>0</td>\n",
       "      <td>540958e2f5a87b81aa5f55ce40b3e2869754f97d</td>\n",
       "      <td>commit 540958e2f5a87b81aa5f55ce40b3e2869754f97...</td>\n",
       "      <td>diff --git a/drivers/staging/comedi/drivers/cb...</td>\n",
       "      <td>stoth68000</td>\n",
       "      <td>media-tree</td>\n",
       "      <td>wild</td>\n",
       "    </tr>\n",
       "    <tr>\n",
       "      <th>1</th>\n",
       "      <td>NA</td>\n",
       "      <td>NA</td>\n",
       "      <td>0</td>\n",
       "      <td>64d240b721b21e266ffde645ec965c3b6d1c551f</td>\n",
       "      <td>commit 64d240b721b21e266ffde645ec965c3b6d1c551...</td>\n",
       "      <td>diff --git a/drivers/target/target_core_file.c...</td>\n",
       "      <td>stoth68000</td>\n",
       "      <td>media-tree</td>\n",
       "      <td>wild</td>\n",
       "    </tr>\n",
       "    <tr>\n",
       "      <th>2</th>\n",
       "      <td>NA</td>\n",
       "      <td>NA</td>\n",
       "      <td>0</td>\n",
       "      <td>f181dd278274f50e689ebd13237010a90b430164</td>\n",
       "      <td>commit f181dd278274f50e689ebd13237010a90b43016...</td>\n",
       "      <td>diff --git a/include/paths.h b/include/paths.h...</td>\n",
       "      <td>openbsd</td>\n",
       "      <td>src</td>\n",
       "      <td>wild</td>\n",
       "    </tr>\n",
       "    <tr>\n",
       "      <th>3</th>\n",
       "      <td>NA</td>\n",
       "      <td>NA</td>\n",
       "      <td>0</td>\n",
       "      <td>0abdc3723b5d33dde698ab941325edec2819c128</td>\n",
       "      <td>commit 0abdc3723b5d33dde698ab941325edec2819c12...</td>\n",
       "      <td>diff --git a/gnu/usr.bin/binutils/ld/lexsup.c ...</td>\n",
       "      <td>openbsd</td>\n",
       "      <td>src</td>\n",
       "      <td>wild</td>\n",
       "    </tr>\n",
       "    <tr>\n",
       "      <th>4</th>\n",
       "      <td>NA</td>\n",
       "      <td>NA</td>\n",
       "      <td>0</td>\n",
       "      <td>d7930d7f820e5dd6b07b823f155aeb943b525e16</td>\n",
       "      <td>commit d7930d7f820e5dd6b07b823f155aeb943b525e1...</td>\n",
       "      <td>diff --git a/src/expat_erl.c b/src/expat_erl.c...</td>\n",
       "      <td>esl</td>\n",
       "      <td>MongooseIM</td>\n",
       "      <td>wild</td>\n",
       "    </tr>\n",
       "    <tr>\n",
       "      <th>...</th>\n",
       "      <td>...</td>\n",
       "      <td>...</td>\n",
       "      <td>...</td>\n",
       "      <td>...</td>\n",
       "      <td>...</td>\n",
       "      <td>...</td>\n",
       "      <td>...</td>\n",
       "      <td>...</td>\n",
       "      <td>...</td>\n",
       "    </tr>\n",
       "    <tr>\n",
       "      <th>35810</th>\n",
       "      <td>CVE-2013-0217</td>\n",
       "      <td>399</td>\n",
       "      <td>1</td>\n",
       "      <td>7d5145d8eb2b9791533ffe4dc003b129b9696c48</td>\n",
       "      <td>From 7d5145d8eb2b9791533ffe4dc003b129b9696c48 ...</td>\n",
       "      <td>diff --git a/drivers/net/xen-netback/netback.c...</td>\n",
       "      <td>torvalds</td>\n",
       "      <td>linux</td>\n",
       "      <td>cve</td>\n",
       "    </tr>\n",
       "    <tr>\n",
       "      <th>35811</th>\n",
       "      <td>CVE-2018-18311</td>\n",
       "      <td>119</td>\n",
       "      <td>1</td>\n",
       "      <td>34716e2a6ee2af96078d62b065b7785c001194be</td>\n",
       "      <td>From 34716e2a6ee2af96078d62b065b7785c001194be ...</td>\n",
       "      <td>diff --git a/util.c b/util.c\\nindex 7282dd9cfe...</td>\n",
       "      <td>Perl</td>\n",
       "      <td>perl5</td>\n",
       "      <td>cve</td>\n",
       "    </tr>\n",
       "    <tr>\n",
       "      <th>35812</th>\n",
       "      <td>CVE-2019-12984</td>\n",
       "      <td>476</td>\n",
       "      <td>1</td>\n",
       "      <td>385097a3675749cbc9e97c085c0e5dfe4269ca51</td>\n",
       "      <td>From 385097a3675749cbc9e97c085c0e5dfe4269ca51 ...</td>\n",
       "      <td>diff --git a/net/nfc/netlink.c b/net/nfc/netli...</td>\n",
       "      <td>torvalds</td>\n",
       "      <td>linux</td>\n",
       "      <td>cve</td>\n",
       "    </tr>\n",
       "    <tr>\n",
       "      <th>35813</th>\n",
       "      <td>CVE-2013-0865</td>\n",
       "      <td>119</td>\n",
       "      <td>1</td>\n",
       "      <td>f3d16706060ab6ae6dc78f15359fab3fd87c9495</td>\n",
       "      <td>From f3d16706060ab6ae6dc78f15359fab3fd87c9495 ...</td>\n",
       "      <td>diff --git a/libavcodec/vqavideo.c b/libavcode...</td>\n",
       "      <td>NA</td>\n",
       "      <td>NA</td>\n",
       "      <td>cve</td>\n",
       "    </tr>\n",
       "    <tr>\n",
       "      <th>35814</th>\n",
       "      <td>CVE-2017-5940</td>\n",
       "      <td>284</td>\n",
       "      <td>1</td>\n",
       "      <td>38d418505e9ee2d326557e5639e8da49c298858f</td>\n",
       "      <td>From 38d418505e9ee2d326557e5639e8da49c298858f ...</td>\n",
       "      <td>diff --git a/src/firejail/fs_home.c b/src/fire...</td>\n",
       "      <td>netblue30</td>\n",
       "      <td>firejail</td>\n",
       "      <td>cve</td>\n",
       "    </tr>\n",
       "  </tbody>\n",
       "</table>\n",
       "<p>35815 rows × 9 columns</p>\n",
       "</div>"
      ],
      "text/plain": [
       "               CVE_ID CWE_ID  category  \\\n",
       "0                  NA     NA         0   \n",
       "1                  NA     NA         0   \n",
       "2                  NA     NA         0   \n",
       "3                  NA     NA         0   \n",
       "4                  NA     NA         0   \n",
       "...               ...    ...       ...   \n",
       "35810   CVE-2013-0217    399         1   \n",
       "35811  CVE-2018-18311    119         1   \n",
       "35812  CVE-2019-12984    476         1   \n",
       "35813   CVE-2013-0865    119         1   \n",
       "35814   CVE-2017-5940    284         1   \n",
       "\n",
       "                                      commit_id  \\\n",
       "0      540958e2f5a87b81aa5f55ce40b3e2869754f97d   \n",
       "1      64d240b721b21e266ffde645ec965c3b6d1c551f   \n",
       "2      f181dd278274f50e689ebd13237010a90b430164   \n",
       "3      0abdc3723b5d33dde698ab941325edec2819c128   \n",
       "4      d7930d7f820e5dd6b07b823f155aeb943b525e16   \n",
       "...                                         ...   \n",
       "35810  7d5145d8eb2b9791533ffe4dc003b129b9696c48   \n",
       "35811  34716e2a6ee2af96078d62b065b7785c001194be   \n",
       "35812  385097a3675749cbc9e97c085c0e5dfe4269ca51   \n",
       "35813  f3d16706060ab6ae6dc78f15359fab3fd87c9495   \n",
       "35814  38d418505e9ee2d326557e5639e8da49c298858f   \n",
       "\n",
       "                                          commit_message  \\\n",
       "0      commit 540958e2f5a87b81aa5f55ce40b3e2869754f97...   \n",
       "1      commit 64d240b721b21e266ffde645ec965c3b6d1c551...   \n",
       "2      commit f181dd278274f50e689ebd13237010a90b43016...   \n",
       "3      commit 0abdc3723b5d33dde698ab941325edec2819c12...   \n",
       "4      commit d7930d7f820e5dd6b07b823f155aeb943b525e1...   \n",
       "...                                                  ...   \n",
       "35810  From 7d5145d8eb2b9791533ffe4dc003b129b9696c48 ...   \n",
       "35811  From 34716e2a6ee2af96078d62b065b7785c001194be ...   \n",
       "35812  From 385097a3675749cbc9e97c085c0e5dfe4269ca51 ...   \n",
       "35813  From f3d16706060ab6ae6dc78f15359fab3fd87c9495 ...   \n",
       "35814  From 38d418505e9ee2d326557e5639e8da49c298858f ...   \n",
       "\n",
       "                                               diff_code       owner  \\\n",
       "0      diff --git a/drivers/staging/comedi/drivers/cb...  stoth68000   \n",
       "1      diff --git a/drivers/target/target_core_file.c...  stoth68000   \n",
       "2      diff --git a/include/paths.h b/include/paths.h...     openbsd   \n",
       "3      diff --git a/gnu/usr.bin/binutils/ld/lexsup.c ...     openbsd   \n",
       "4      diff --git a/src/expat_erl.c b/src/expat_erl.c...         esl   \n",
       "...                                                  ...         ...   \n",
       "35810  diff --git a/drivers/net/xen-netback/netback.c...    torvalds   \n",
       "35811  diff --git a/util.c b/util.c\\nindex 7282dd9cfe...        Perl   \n",
       "35812  diff --git a/net/nfc/netlink.c b/net/nfc/netli...    torvalds   \n",
       "35813  diff --git a/libavcodec/vqavideo.c b/libavcode...          NA   \n",
       "35814  diff --git a/src/firejail/fs_home.c b/src/fire...   netblue30   \n",
       "\n",
       "             repo source  \n",
       "0      media-tree   wild  \n",
       "1      media-tree   wild  \n",
       "2             src   wild  \n",
       "3             src   wild  \n",
       "4      MongooseIM   wild  \n",
       "...           ...    ...  \n",
       "35810       linux    cve  \n",
       "35811       perl5    cve  \n",
       "35812       linux    cve  \n",
       "35813          NA    cve  \n",
       "35814    firejail    cve  \n",
       "\n",
       "[35815 rows x 9 columns]"
      ]
     },
     "execution_count": 3,
     "metadata": {},
     "output_type": "execute_result"
    }
   ],
   "source": [
    "df = pd.read_json(r'../datasets/patch_db.json', encoding='utf_8_sig')\n",
    "df.dropna(inplace=True)\n",
    "label2id={'non-security':0,'security':1}\n",
    "df = df.replace({\"category\": label2id})\n",
    "df"
   ]
  },
  {
   "cell_type": "code",
   "execution_count": 4,
   "id": "23ded5b2-b057-4117-b99b-fa77a39bb480",
   "metadata": {
    "execution": {
     "iopub.execute_input": "2025-01-02T11:34:49.086527Z",
     "iopub.status.busy": "2025-01-02T11:34:49.086321Z",
     "iopub.status.idle": "2025-01-02T11:34:49.091006Z",
     "shell.execute_reply": "2025-01-02T11:34:49.089926Z",
     "shell.execute_reply.started": "2025-01-02T11:34:49.086505Z"
    }
   },
   "outputs": [],
   "source": [
    "# len(df_dataset)"
   ]
  },
  {
   "cell_type": "code",
   "execution_count": 5,
   "id": "7b104969-4a01-44b3-8b11-72188d0042e6",
   "metadata": {
    "execution": {
     "iopub.execute_input": "2025-01-02T11:34:49.092985Z",
     "iopub.status.busy": "2025-01-02T11:34:49.092794Z",
     "iopub.status.idle": "2025-01-02T11:34:49.097214Z",
     "shell.execute_reply": "2025-01-02T11:34:49.096284Z",
     "shell.execute_reply.started": "2025-01-02T11:34:49.092964Z"
    }
   },
   "outputs": [],
   "source": [
    "# df_dataset[0]"
   ]
  },
  {
   "cell_type": "code",
   "execution_count": 6,
   "id": "7b77e6e8-8d9d-45f3-be04-94a8b7499213",
   "metadata": {
    "execution": {
     "iopub.execute_input": "2025-01-02T11:34:49.097887Z",
     "iopub.status.busy": "2025-01-02T11:34:49.097712Z",
     "iopub.status.idle": "2025-01-02T11:34:51.135357Z",
     "shell.execute_reply": "2025-01-02T11:34:51.134281Z",
     "shell.execute_reply.started": "2025-01-02T11:34:49.097867Z"
    }
   },
   "outputs": [
    {
     "name": "stderr",
     "output_type": "stream",
     "text": [
      "Some weights of the model checkpoint at ../models/bert-base-cased were not used when initializing BertModel: ['cls.predictions.transform.dense.bias', 'cls.predictions.bias', 'cls.seq_relationship.weight', 'cls.seq_relationship.bias', 'cls.predictions.transform.LayerNorm.bias', 'cls.predictions.transform.LayerNorm.weight', 'cls.predictions.transform.dense.weight']\n",
      "- This IS expected if you are initializing BertModel from the checkpoint of a model trained on another task or with another architecture (e.g. initializing a BertForSequenceClassification model from a BertForPreTraining model).\n",
      "- This IS NOT expected if you are initializing BertModel from the checkpoint of a model that you expect to be exactly identical (initializing a BertForSequenceClassification model from a BertForSequenceClassification model).\n",
      "Some weights of the model checkpoint at ../models/bert-base-cased were not used when initializing BertModel: ['cls.predictions.transform.dense.bias', 'cls.predictions.bias', 'cls.seq_relationship.weight', 'cls.seq_relationship.bias', 'cls.predictions.transform.LayerNorm.bias', 'cls.predictions.transform.LayerNorm.weight', 'cls.predictions.transform.dense.weight']\n",
      "- This IS expected if you are initializing BertModel from the checkpoint of a model trained on another task or with another architecture (e.g. initializing a BertForSequenceClassification model from a BertForPreTraining model).\n",
      "- This IS NOT expected if you are initializing BertModel from the checkpoint of a model that you expect to be exactly identical (initializing a BertForSequenceClassification model from a BertForSequenceClassification model).\n"
     ]
    }
   ],
   "source": [
    "# Load BERT and CodeBERT models and tokenizers\n",
    "bert_model = BertModel.from_pretrained('../models/bert-base-cased')\n",
    "bert_tokenizer = BertTokenizer.from_pretrained('../models/bert-base-cased')\n",
    "\n",
    "codebert_model = BertModel.from_pretrained('../models/bert-base-cased')\n",
    "codebert_tokenizer = BertTokenizer.from_pretrained('../models/bert-base-cased')"
   ]
  },
  {
   "cell_type": "code",
   "execution_count": 7,
   "id": "fa751a3e-86ae-4f11-82ca-c173f5320a09",
   "metadata": {
    "execution": {
     "iopub.execute_input": "2025-01-02T11:34:51.136461Z",
     "iopub.status.busy": "2025-01-02T11:34:51.136250Z",
     "iopub.status.idle": "2025-01-02T11:34:51.174026Z",
     "shell.execute_reply": "2025-01-02T11:34:51.172988Z",
     "shell.execute_reply.started": "2025-01-02T11:34:51.136439Z"
    }
   },
   "outputs": [],
   "source": [
    "train, test = train_test_split(df, test_size=0.3, random_state=42)\n",
    "test, val = train_test_split(test, test_size=0.5, random_state=42)\n",
    "# train_data = pd.read_csv('./datasets/PD_train.csv')\n",
    "# test_data = pd.read_csv('./datasets/PD_test.csv')\n",
    "# val_data = pd.read_csv('./datasets/PD_val.csv')\n",
    "\n"
   ]
  },
  {
   "cell_type": "code",
   "execution_count": 8,
   "id": "c1f1e42a-ca2a-47b4-aeb0-536795d2a2f7",
   "metadata": {
    "execution": {
     "iopub.execute_input": "2025-01-02T11:34:51.175369Z",
     "iopub.status.busy": "2025-01-02T11:34:51.175036Z",
     "iopub.status.idle": "2025-01-02T11:34:51.179567Z",
     "shell.execute_reply": "2025-01-02T11:34:51.178611Z",
     "shell.execute_reply.started": "2025-01-02T11:34:51.175346Z"
    }
   },
   "outputs": [],
   "source": [
    "# codebert_model.config.hidden_size"
   ]
  },
  {
   "cell_type": "code",
   "execution_count": 9,
   "id": "4b5e68a2-d0bb-42c1-a6a3-1d66267b3651",
   "metadata": {
    "execution": {
     "iopub.execute_input": "2025-01-02T11:34:51.180273Z",
     "iopub.status.busy": "2025-01-02T11:34:51.180095Z",
     "iopub.status.idle": "2025-01-02T11:34:51.186145Z",
     "shell.execute_reply": "2025-01-02T11:34:51.185230Z",
     "shell.execute_reply.started": "2025-01-02T11:34:51.180252Z"
    }
   },
   "outputs": [
    {
     "data": {
      "text/plain": [
       "5372"
      ]
     },
     "execution_count": 9,
     "metadata": {},
     "output_type": "execute_result"
    }
   ],
   "source": [
    "len(test)"
   ]
  },
  {
   "cell_type": "code",
   "execution_count": null,
   "id": "f8f11097-0571-4896-972e-da03419f6f1f",
   "metadata": {},
   "outputs": [],
   "source": []
  },
  {
   "cell_type": "code",
   "execution_count": null,
   "id": "1549be02-6f6b-41e5-bd04-d3e164061eec",
   "metadata": {},
   "outputs": [],
   "source": []
  },
  {
   "cell_type": "code",
   "execution_count": 10,
   "id": "09dcb1fc-8ae4-4e9e-9180-41d41e3698af",
   "metadata": {
    "execution": {
     "iopub.execute_input": "2025-01-02T11:34:51.186854Z",
     "iopub.status.busy": "2025-01-02T11:34:51.186673Z",
     "iopub.status.idle": "2025-01-02T11:34:51.191301Z",
     "shell.execute_reply": "2025-01-02T11:34:51.190333Z",
     "shell.execute_reply.started": "2025-01-02T11:34:51.186833Z"
    }
   },
   "outputs": [],
   "source": [
    "base_model1 = moe.BaseModel(bert_model)\n",
    "base_model2 = moe.BaseModel(codebert_model)"
   ]
  },
  {
   "cell_type": "code",
   "execution_count": 11,
   "id": "b8bb3e18-9412-4036-93d4-ac331093752c",
   "metadata": {
    "execution": {
     "iopub.execute_input": "2025-01-02T11:34:51.192042Z",
     "iopub.status.busy": "2025-01-02T11:34:51.191857Z",
     "iopub.status.idle": "2025-01-02T11:34:52.282390Z",
     "shell.execute_reply": "2025-01-02T11:34:52.281373Z",
     "shell.execute_reply.started": "2025-01-02T11:34:51.192022Z"
    }
   },
   "outputs": [
    {
     "name": "stderr",
     "output_type": "stream",
     "text": [
      "Some weights of the model checkpoint at /root/autodl-tmp/IPCK/model/distilbert were not used when initializing DistilBertModel: ['vocab_layer_norm.bias', 'vocab_transform.bias', 'vocab_projector.bias', 'vocab_layer_norm.weight', 'vocab_transform.weight']\n",
      "- This IS expected if you are initializing DistilBertModel from the checkpoint of a model trained on another task or with another architecture (e.g. initializing a BertForSequenceClassification model from a BertForPreTraining model).\n",
      "- This IS NOT expected if you are initializing DistilBertModel from the checkpoint of a model that you expect to be exactly identical (initializing a BertForSequenceClassification model from a BertForSequenceClassification model).\n",
      "Some weights of the model checkpoint at /root/autodl-tmp/IPCK/model/distilbert were not used when initializing DistilBertModel: ['vocab_layer_norm.bias', 'vocab_transform.bias', 'vocab_projector.bias', 'vocab_layer_norm.weight', 'vocab_transform.weight']\n",
      "- This IS expected if you are initializing DistilBertModel from the checkpoint of a model trained on another task or with another architecture (e.g. initializing a BertForSequenceClassification model from a BertForPreTraining model).\n",
      "- This IS NOT expected if you are initializing DistilBertModel from the checkpoint of a model that you expect to be exactly identical (initializing a BertForSequenceClassification model from a BertForSequenceClassification model).\n"
     ]
    }
   ],
   "source": [
    "# Load BERT and CodeBERT models and tokenizers\n",
    "bert_model = DistilBertModel.from_pretrained('/root/autodl-tmp/IPCK/model/distilbert')\n",
    "\n",
    "codebert_model = DistilBertModel.from_pretrained('/root/autodl-tmp/IPCK/model/distilbert')"
   ]
  },
  {
   "cell_type": "code",
   "execution_count": 12,
   "id": "e3ab313b-e462-4272-bb74-3ddfbd324125",
   "metadata": {
    "execution": {
     "iopub.execute_input": "2025-01-02T11:34:52.283613Z",
     "iopub.status.busy": "2025-01-02T11:34:52.283409Z",
     "iopub.status.idle": "2025-01-02T11:34:52.288320Z",
     "shell.execute_reply": "2025-01-02T11:34:52.287304Z",
     "shell.execute_reply.started": "2025-01-02T11:34:52.283591Z"
    }
   },
   "outputs": [],
   "source": [
    "encoder_model1 = moe.EncoderModel(bert_model)\n",
    "encoder_model2 = moe.EncoderModel(bert_model)"
   ]
  },
  {
   "cell_type": "code",
   "execution_count": 13,
   "id": "9c0aaf30-08c5-422e-bdea-dd054b54a6d1",
   "metadata": {
    "execution": {
     "iopub.execute_input": "2025-01-02T11:34:52.289290Z",
     "iopub.status.busy": "2025-01-02T11:34:52.289083Z",
     "iopub.status.idle": "2025-01-02T11:34:52.979076Z",
     "shell.execute_reply": "2025-01-02T11:34:52.977737Z",
     "shell.execute_reply.started": "2025-01-02T11:34:52.289266Z"
    }
   },
   "outputs": [],
   "source": [
    "moe_model = torch.load(\"focal_cum_entire_bert_model.pth\")                                                                                                                                                                                                                                                                                                                                                                                                                                             "
   ]
  },
  {
   "cell_type": "code",
   "execution_count": null,
   "id": "25dd079c-f0df-4b04-a378-4061140a8a8f",
   "metadata": {},
   "outputs": [],
   "source": []
  },
  {
   "cell_type": "code",
   "execution_count": 14,
   "id": "d306587f-c218-4f03-a13e-5a8a7f92db07",
   "metadata": {
    "execution": {
     "iopub.execute_input": "2025-01-02T11:34:52.981873Z",
     "iopub.status.busy": "2025-01-02T11:34:52.981649Z",
     "iopub.status.idle": "2025-01-02T12:01:33.756699Z",
     "shell.execute_reply": "2025-01-02T12:01:33.755474Z",
     "shell.execute_reply.started": "2025-01-02T11:34:52.981850Z"
    }
   },
   "outputs": [
    {
     "name": "stderr",
     "output_type": "stream",
     "text": [
      "/root/miniconda3/lib/python3.10/site-packages/transformers/optimization.py:391: FutureWarning: This implementation of AdamW is deprecated and will be removed in a future version. Use the PyTorch implementation torch.optim.AdamW instead, or set `no_deprecation_warning=True` to disable this warning\n",
      "  warnings.warn(\n",
      "Epoch 1/10 Loss: 6.4155: 100%|██████████| 7/7 [00:02<00:00,  2.62batch/s]\n"
     ]
    },
    {
     "name": "stdout",
     "output_type": "stream",
     "text": [
      "=============================train========================\n",
      "Validation Accuracy: 0.7736\n",
      "Precision: 0.5984\n",
      "Recall: 0.7736\n",
      "F1-Score: 0.6748\n"
     ]
    },
    {
     "name": "stderr",
     "output_type": "stream",
     "text": [
      "Epoch 2/10 Loss: 5.1042: 100%|██████████| 7/7 [00:02<00:00,  3.46batch/s]\n"
     ]
    },
    {
     "name": "stdout",
     "output_type": "stream",
     "text": [
      "=============================train========================\n",
      "Validation Accuracy: 0.7736\n",
      "Precision: 0.5984\n",
      "Recall: 0.7736\n",
      "F1-Score: 0.6748\n"
     ]
    },
    {
     "name": "stderr",
     "output_type": "stream",
     "text": [
      "Epoch 3/10 Loss: 4.6489: 100%|██████████| 7/7 [00:02<00:00,  3.43batch/s]\n"
     ]
    },
    {
     "name": "stdout",
     "output_type": "stream",
     "text": [
      "=============================train========================\n",
      "Validation Accuracy: 0.7736\n",
      "Precision: 0.5984\n",
      "Recall: 0.7736\n",
      "F1-Score: 0.6748\n"
     ]
    },
    {
     "name": "stderr",
     "output_type": "stream",
     "text": [
      "Epoch 4/10 Loss: 4.1659: 100%|██████████| 7/7 [00:02<00:00,  3.46batch/s]\n"
     ]
    },
    {
     "name": "stdout",
     "output_type": "stream",
     "text": [
      "=============================train========================\n",
      "Validation Accuracy: 0.7736\n",
      "Precision: 0.5984\n",
      "Recall: 0.7736\n",
      "F1-Score: 0.6748\n"
     ]
    },
    {
     "name": "stderr",
     "output_type": "stream",
     "text": [
      "Epoch 5/10 Loss: 3.5708: 100%|██████████| 7/7 [00:02<00:00,  3.40batch/s]\n"
     ]
    },
    {
     "name": "stdout",
     "output_type": "stream",
     "text": [
      "=============================train========================\n",
      "Validation Accuracy: 0.7925\n",
      "Precision: 0.8364\n",
      "Recall: 0.7925\n",
      "F1-Score: 0.7169\n"
     ]
    },
    {
     "name": "stderr",
     "output_type": "stream",
     "text": [
      "Epoch 6/10 Loss: 2.8401: 100%|██████████| 7/7 [00:02<00:00,  3.48batch/s]\n"
     ]
    },
    {
     "name": "stdout",
     "output_type": "stream",
     "text": [
      "=============================train========================\n",
      "Validation Accuracy: 0.9057\n",
      "Precision: 0.9045\n",
      "Recall: 0.9057\n",
      "F1-Score: 0.9006\n"
     ]
    },
    {
     "name": "stderr",
     "output_type": "stream",
     "text": [
      "Epoch 7/10 Loss: 2.0222: 100%|██████████| 7/7 [00:02<00:00,  3.47batch/s]\n"
     ]
    },
    {
     "name": "stdout",
     "output_type": "stream",
     "text": [
      "=============================train========================\n",
      "Validation Accuracy: 0.8868\n",
      "Precision: 0.8868\n",
      "Recall: 0.8868\n",
      "F1-Score: 0.8868\n"
     ]
    },
    {
     "name": "stderr",
     "output_type": "stream",
     "text": [
      "Epoch 8/10 Loss: 1.2084: 100%|██████████| 7/7 [00:01<00:00,  3.51batch/s]\n"
     ]
    },
    {
     "name": "stdout",
     "output_type": "stream",
     "text": [
      "=============================train========================\n",
      "Validation Accuracy: 0.9057\n",
      "Precision: 0.9193\n",
      "Recall: 0.9057\n",
      "F1-Score: 0.9091\n"
     ]
    },
    {
     "name": "stderr",
     "output_type": "stream",
     "text": [
      "Epoch 9/10 Loss: 0.8675: 100%|██████████| 7/7 [00:02<00:00,  3.46batch/s]\n"
     ]
    },
    {
     "name": "stdout",
     "output_type": "stream",
     "text": [
      "=============================train========================\n",
      "Validation Accuracy: 0.9245\n",
      "Precision: 0.9316\n",
      "Recall: 0.9245\n",
      "F1-Score: 0.9265\n"
     ]
    },
    {
     "name": "stderr",
     "output_type": "stream",
     "text": [
      "Epoch 10/10 Loss: 0.7729: 100%|██████████| 7/7 [00:02<00:00,  3.49batch/s]\n"
     ]
    },
    {
     "name": "stdout",
     "output_type": "stream",
     "text": [
      "=============================train========================\n",
      "Validation Accuracy: 0.9245\n",
      "Precision: 0.9316\n",
      "Recall: 0.9245\n",
      "F1-Score: 0.9265\n"
     ]
    },
    {
     "name": "stderr",
     "output_type": "stream",
     "text": [
      "/root/miniconda3/lib/python3.10/site-packages/transformers/optimization.py:391: FutureWarning: This implementation of AdamW is deprecated and will be removed in a future version. Use the PyTorch implementation torch.optim.AdamW instead, or set `no_deprecation_warning=True` to disable this warning\n",
      "  warnings.warn(\n"
     ]
    },
    {
     "name": "stdout",
     "output_type": "stream",
     "text": [
      "Validation Accuracy: 0.7747\n",
      "Precision: 0.7724\n",
      "Recall: 0.7747\n",
      "F1-Score: 0.7491\n",
      "              precision    recall  f1-score   support\n",
      "\n",
      "           0       0.78      0.95      0.85       372\n",
      "           1       0.76      0.39      0.51       165\n",
      "\n",
      "    accuracy                           0.77       537\n",
      "   macro avg       0.77      0.67      0.68       537\n",
      "weighted avg       0.77      0.77      0.75       537\n",
      "\n"
     ]
    },
    {
     "name": "stderr",
     "output_type": "stream",
     "text": [
      "Epoch 1/10 Loss: 4.3438: 100%|██████████| 14/14 [00:03<00:00,  3.61batch/s]\n"
     ]
    },
    {
     "name": "stdout",
     "output_type": "stream",
     "text": [
      "=============================train========================\n",
      "Validation Accuracy: 0.8411\n",
      "Precision: 0.8693\n",
      "Recall: 0.8411\n",
      "F1-Score: 0.8142\n"
     ]
    },
    {
     "name": "stderr",
     "output_type": "stream",
     "text": [
      "Epoch 2/10 Loss: 2.9755: 100%|██████████| 14/14 [00:03<00:00,  3.61batch/s]\n"
     ]
    },
    {
     "name": "stdout",
     "output_type": "stream",
     "text": [
      "=============================train========================\n",
      "Validation Accuracy: 0.8598\n",
      "Precision: 0.8552\n",
      "Recall: 0.8598\n",
      "F1-Score: 0.8551\n"
     ]
    },
    {
     "name": "stderr",
     "output_type": "stream",
     "text": [
      "Epoch 3/10 Loss: 2.5582: 100%|██████████| 14/14 [00:03<00:00,  3.60batch/s]\n"
     ]
    },
    {
     "name": "stdout",
     "output_type": "stream",
     "text": [
      "=============================train========================\n",
      "Validation Accuracy: 0.8505\n",
      "Precision: 0.8537\n",
      "Recall: 0.8505\n",
      "F1-Score: 0.8354\n"
     ]
    },
    {
     "name": "stderr",
     "output_type": "stream",
     "text": [
      "Epoch 4/10 Loss: 2.3509: 100%|██████████| 14/14 [00:03<00:00,  3.61batch/s]\n"
     ]
    },
    {
     "name": "stdout",
     "output_type": "stream",
     "text": [
      "=============================train========================\n",
      "Validation Accuracy: 0.8785\n",
      "Precision: 0.8768\n",
      "Recall: 0.8785\n",
      "F1-Score: 0.8724\n"
     ]
    },
    {
     "name": "stderr",
     "output_type": "stream",
     "text": [
      "Epoch 5/10 Loss: 1.8629: 100%|██████████| 14/14 [00:04<00:00,  3.31batch/s]\n"
     ]
    },
    {
     "name": "stdout",
     "output_type": "stream",
     "text": [
      "=============================train========================\n",
      "Validation Accuracy: 0.8505\n",
      "Precision: 0.8475\n",
      "Recall: 0.8505\n",
      "F1-Score: 0.8486\n"
     ]
    },
    {
     "name": "stderr",
     "output_type": "stream",
     "text": [
      "Epoch 6/10 Loss: 1.2609: 100%|██████████| 14/14 [00:03<00:00,  3.68batch/s]\n"
     ]
    },
    {
     "name": "stdout",
     "output_type": "stream",
     "text": [
      "=============================train========================\n",
      "Validation Accuracy: 0.9159\n",
      "Precision: 0.9151\n",
      "Recall: 0.9159\n",
      "F1-Score: 0.9154\n"
     ]
    },
    {
     "name": "stderr",
     "output_type": "stream",
     "text": [
      "Epoch 7/10 Loss: 0.9337: 100%|██████████| 14/14 [00:03<00:00,  3.69batch/s]\n"
     ]
    },
    {
     "name": "stdout",
     "output_type": "stream",
     "text": [
      "=============================train========================\n",
      "Validation Accuracy: 0.9159\n",
      "Precision: 0.9151\n",
      "Recall: 0.9159\n",
      "F1-Score: 0.9154\n"
     ]
    },
    {
     "name": "stderr",
     "output_type": "stream",
     "text": [
      "Epoch 8/10 Loss: 0.7136: 100%|██████████| 14/14 [00:03<00:00,  3.63batch/s]\n"
     ]
    },
    {
     "name": "stdout",
     "output_type": "stream",
     "text": [
      "=============================train========================\n",
      "Validation Accuracy: 0.9159\n",
      "Precision: 0.9170\n",
      "Recall: 0.9159\n",
      "F1-Score: 0.9164\n"
     ]
    },
    {
     "name": "stderr",
     "output_type": "stream",
     "text": [
      "Epoch 9/10 Loss: 0.6176: 100%|██████████| 14/14 [00:03<00:00,  3.66batch/s]\n"
     ]
    },
    {
     "name": "stdout",
     "output_type": "stream",
     "text": [
      "=============================train========================\n",
      "Validation Accuracy: 0.9159\n",
      "Precision: 0.9170\n",
      "Recall: 0.9159\n",
      "F1-Score: 0.9164\n"
     ]
    },
    {
     "name": "stderr",
     "output_type": "stream",
     "text": [
      "Epoch 10/10 Loss: 0.5850: 100%|██████████| 14/14 [00:03<00:00,  3.64batch/s]\n"
     ]
    },
    {
     "name": "stdout",
     "output_type": "stream",
     "text": [
      "=============================train========================\n",
      "Validation Accuracy: 0.9252\n",
      "Precision: 0.9252\n",
      "Recall: 0.9252\n",
      "F1-Score: 0.9252\n"
     ]
    },
    {
     "name": "stderr",
     "output_type": "stream",
     "text": [
      "/root/miniconda3/lib/python3.10/site-packages/transformers/optimization.py:391: FutureWarning: This implementation of AdamW is deprecated and will be removed in a future version. Use the PyTorch implementation torch.optim.AdamW instead, or set `no_deprecation_warning=True` to disable this warning\n",
      "  warnings.warn(\n"
     ]
    },
    {
     "name": "stdout",
     "output_type": "stream",
     "text": [
      "Validation Accuracy: 0.8045\n",
      "Precision: 0.8197\n",
      "Recall: 0.8045\n",
      "F1-Score: 0.7797\n",
      "              precision    recall  f1-score   support\n",
      "\n",
      "           0       0.79      0.98      0.87       372\n",
      "           1       0.88      0.42      0.57       165\n",
      "\n",
      "    accuracy                           0.80       537\n",
      "   macro avg       0.84      0.70      0.72       537\n",
      "weighted avg       0.82      0.80      0.78       537\n",
      "\n"
     ]
    },
    {
     "name": "stderr",
     "output_type": "stream",
     "text": [
      "Epoch 1/10 Loss: 3.7141: 100%|██████████| 21/21 [00:05<00:00,  3.60batch/s]\n"
     ]
    },
    {
     "name": "stdout",
     "output_type": "stream",
     "text": [
      "=============================train========================\n",
      "Validation Accuracy: 0.8820\n",
      "Precision: 0.8801\n",
      "Recall: 0.8820\n",
      "F1-Score: 0.8790\n"
     ]
    },
    {
     "name": "stderr",
     "output_type": "stream",
     "text": [
      "Epoch 2/10 Loss: 2.0772: 100%|██████████| 21/21 [00:05<00:00,  3.66batch/s]\n"
     ]
    },
    {
     "name": "stdout",
     "output_type": "stream",
     "text": [
      "=============================train========================\n",
      "Validation Accuracy: 0.8944\n",
      "Precision: 0.8928\n",
      "Recall: 0.8944\n",
      "F1-Score: 0.8926\n"
     ]
    },
    {
     "name": "stderr",
     "output_type": "stream",
     "text": [
      "Epoch 3/10 Loss: 1.3542: 100%|██████████| 21/21 [00:05<00:00,  3.66batch/s]\n"
     ]
    },
    {
     "name": "stdout",
     "output_type": "stream",
     "text": [
      "=============================train========================\n",
      "Validation Accuracy: 0.9130\n",
      "Precision: 0.9125\n",
      "Recall: 0.9130\n",
      "F1-Score: 0.9112\n"
     ]
    },
    {
     "name": "stderr",
     "output_type": "stream",
     "text": [
      "Epoch 4/10 Loss: 0.9392: 100%|██████████| 21/21 [00:05<00:00,  3.61batch/s]\n"
     ]
    },
    {
     "name": "stdout",
     "output_type": "stream",
     "text": [
      "=============================train========================\n",
      "Validation Accuracy: 0.9317\n",
      "Precision: 0.9315\n",
      "Recall: 0.9317\n",
      "F1-Score: 0.9305\n"
     ]
    },
    {
     "name": "stderr",
     "output_type": "stream",
     "text": [
      "Epoch 5/10 Loss: 0.9666: 100%|██████████| 21/21 [00:05<00:00,  3.60batch/s]\n"
     ]
    },
    {
     "name": "stdout",
     "output_type": "stream",
     "text": [
      "=============================train========================\n",
      "Validation Accuracy: 0.9255\n",
      "Precision: 0.9270\n",
      "Recall: 0.9255\n",
      "F1-Score: 0.9233\n"
     ]
    },
    {
     "name": "stderr",
     "output_type": "stream",
     "text": [
      "Epoch 6/10 Loss: 1.0045: 100%|██████████| 21/21 [00:05<00:00,  3.68batch/s]\n"
     ]
    },
    {
     "name": "stdout",
     "output_type": "stream",
     "text": [
      "=============================train========================\n",
      "Validation Accuracy: 0.9068\n",
      "Precision: 0.9063\n",
      "Recall: 0.9068\n",
      "F1-Score: 0.9065\n"
     ]
    },
    {
     "name": "stderr",
     "output_type": "stream",
     "text": [
      "Epoch 7/10 Loss: 0.6709: 100%|██████████| 21/21 [00:05<00:00,  3.66batch/s]\n"
     ]
    },
    {
     "name": "stdout",
     "output_type": "stream",
     "text": [
      "=============================train========================\n",
      "Validation Accuracy: 0.9130\n",
      "Precision: 0.9130\n",
      "Recall: 0.9130\n",
      "F1-Score: 0.9130\n"
     ]
    },
    {
     "name": "stderr",
     "output_type": "stream",
     "text": [
      "Epoch 8/10 Loss: 0.6522: 100%|██████████| 21/21 [00:05<00:00,  3.65batch/s]\n"
     ]
    },
    {
     "name": "stdout",
     "output_type": "stream",
     "text": [
      "=============================train========================\n",
      "Validation Accuracy: 0.9193\n",
      "Precision: 0.9184\n",
      "Recall: 0.9193\n",
      "F1-Score: 0.9184\n"
     ]
    },
    {
     "name": "stderr",
     "output_type": "stream",
     "text": [
      "Epoch 9/10 Loss: 0.6240: 100%|██████████| 21/21 [00:05<00:00,  3.59batch/s]\n"
     ]
    },
    {
     "name": "stdout",
     "output_type": "stream",
     "text": [
      "=============================train========================\n",
      "Validation Accuracy: 0.9130\n",
      "Precision: 0.9120\n",
      "Recall: 0.9130\n",
      "F1-Score: 0.9119\n"
     ]
    },
    {
     "name": "stderr",
     "output_type": "stream",
     "text": [
      "Epoch 10/10 Loss: 0.5533: 100%|██████████| 21/21 [00:05<00:00,  3.65batch/s]\n"
     ]
    },
    {
     "name": "stdout",
     "output_type": "stream",
     "text": [
      "=============================train========================\n",
      "Validation Accuracy: 0.9130\n",
      "Precision: 0.9122\n",
      "Recall: 0.9130\n",
      "F1-Score: 0.9125\n"
     ]
    },
    {
     "name": "stderr",
     "output_type": "stream",
     "text": [
      "/root/miniconda3/lib/python3.10/site-packages/transformers/optimization.py:391: FutureWarning: This implementation of AdamW is deprecated and will be removed in a future version. Use the PyTorch implementation torch.optim.AdamW instead, or set `no_deprecation_warning=True` to disable this warning\n",
      "  warnings.warn(\n"
     ]
    },
    {
     "name": "stdout",
     "output_type": "stream",
     "text": [
      "Validation Accuracy: 0.8622\n",
      "Precision: 0.8721\n",
      "Recall: 0.8622\n",
      "F1-Score: 0.8520\n",
      "              precision    recall  f1-score   support\n",
      "\n",
      "           0       0.84      0.98      0.91       372\n",
      "           1       0.93      0.59      0.73       165\n",
      "\n",
      "    accuracy                           0.86       537\n",
      "   macro avg       0.89      0.79      0.82       537\n",
      "weighted avg       0.87      0.86      0.85       537\n",
      "\n"
     ]
    },
    {
     "name": "stderr",
     "output_type": "stream",
     "text": [
      "Epoch 1/10 Loss: 2.9377: 100%|██████████| 27/27 [00:07<00:00,  3.49batch/s]\n"
     ]
    },
    {
     "name": "stdout",
     "output_type": "stream",
     "text": [
      "=============================train========================\n",
      "Validation Accuracy: 0.8972\n",
      "Precision: 0.8955\n",
      "Recall: 0.8972\n",
      "F1-Score: 0.8955\n"
     ]
    },
    {
     "name": "stderr",
     "output_type": "stream",
     "text": [
      "Epoch 2/10 Loss: 1.0109: 100%|██████████| 27/27 [00:07<00:00,  3.44batch/s]\n"
     ]
    },
    {
     "name": "stdout",
     "output_type": "stream",
     "text": [
      "=============================train========================\n",
      "Validation Accuracy: 0.9019\n",
      "Precision: 0.9008\n",
      "Recall: 0.9019\n",
      "F1-Score: 0.8993\n"
     ]
    },
    {
     "name": "stderr",
     "output_type": "stream",
     "text": [
      "Epoch 3/10 Loss: 0.8943: 100%|██████████| 27/27 [00:07<00:00,  3.43batch/s]\n"
     ]
    },
    {
     "name": "stdout",
     "output_type": "stream",
     "text": [
      "=============================train========================\n",
      "Validation Accuracy: 0.9019\n",
      "Precision: 0.9008\n",
      "Recall: 0.9019\n",
      "F1-Score: 0.8993\n"
     ]
    },
    {
     "name": "stderr",
     "output_type": "stream",
     "text": [
      "Epoch 4/10 Loss: 0.6563: 100%|██████████| 27/27 [00:08<00:00,  3.34batch/s]\n"
     ]
    },
    {
     "name": "stdout",
     "output_type": "stream",
     "text": [
      "=============================train========================\n",
      "Validation Accuracy: 0.9112\n",
      "Precision: 0.9102\n",
      "Recall: 0.9112\n",
      "F1-Score: 0.9095\n"
     ]
    },
    {
     "name": "stderr",
     "output_type": "stream",
     "text": [
      "Epoch 5/10 Loss: 0.5967: 100%|██████████| 27/27 [00:07<00:00,  3.50batch/s]\n"
     ]
    },
    {
     "name": "stdout",
     "output_type": "stream",
     "text": [
      "=============================train========================\n",
      "Validation Accuracy: 0.9065\n",
      "Precision: 0.9052\n",
      "Recall: 0.9065\n",
      "F1-Score: 0.9050\n"
     ]
    },
    {
     "name": "stderr",
     "output_type": "stream",
     "text": [
      "Epoch 6/10 Loss: 0.5711: 100%|██████████| 27/27 [00:07<00:00,  3.42batch/s]\n"
     ]
    },
    {
     "name": "stdout",
     "output_type": "stream",
     "text": [
      "=============================train========================\n",
      "Validation Accuracy: 0.9112\n",
      "Precision: 0.9102\n",
      "Recall: 0.9112\n",
      "F1-Score: 0.9095\n"
     ]
    },
    {
     "name": "stderr",
     "output_type": "stream",
     "text": [
      "Epoch 7/10 Loss: 0.5585: 100%|██████████| 27/27 [00:07<00:00,  3.49batch/s]\n"
     ]
    },
    {
     "name": "stdout",
     "output_type": "stream",
     "text": [
      "=============================train========================\n",
      "Validation Accuracy: 0.9159\n",
      "Precision: 0.9149\n",
      "Recall: 0.9159\n",
      "F1-Score: 0.9145\n"
     ]
    },
    {
     "name": "stderr",
     "output_type": "stream",
     "text": [
      "Epoch 8/10 Loss: 0.5562: 100%|██████████| 27/27 [00:07<00:00,  3.46batch/s]\n"
     ]
    },
    {
     "name": "stdout",
     "output_type": "stream",
     "text": [
      "=============================train========================\n",
      "Validation Accuracy: 0.9159\n",
      "Precision: 0.9149\n",
      "Recall: 0.9159\n",
      "F1-Score: 0.9145\n"
     ]
    },
    {
     "name": "stderr",
     "output_type": "stream",
     "text": [
      "Epoch 9/10 Loss: 0.5536: 100%|██████████| 27/27 [00:07<00:00,  3.51batch/s]\n"
     ]
    },
    {
     "name": "stdout",
     "output_type": "stream",
     "text": [
      "=============================train========================\n",
      "Validation Accuracy: 0.9019\n",
      "Precision: 0.9004\n",
      "Recall: 0.9019\n",
      "F1-Score: 0.9005\n"
     ]
    },
    {
     "name": "stderr",
     "output_type": "stream",
     "text": [
      "Epoch 10/10 Loss: 0.5497: 100%|██████████| 27/27 [00:07<00:00,  3.48batch/s]\n"
     ]
    },
    {
     "name": "stdout",
     "output_type": "stream",
     "text": [
      "=============================train========================\n",
      "Validation Accuracy: 0.9159\n",
      "Precision: 0.9153\n",
      "Recall: 0.9159\n",
      "F1-Score: 0.9139\n"
     ]
    },
    {
     "name": "stderr",
     "output_type": "stream",
     "text": [
      "/root/miniconda3/lib/python3.10/site-packages/transformers/optimization.py:391: FutureWarning: This implementation of AdamW is deprecated and will be removed in a future version. Use the PyTorch implementation torch.optim.AdamW instead, or set `no_deprecation_warning=True` to disable this warning\n",
      "  warnings.warn(\n"
     ]
    },
    {
     "name": "stdout",
     "output_type": "stream",
     "text": [
      "Validation Accuracy: 0.8734\n",
      "Precision: 0.8763\n",
      "Recall: 0.8734\n",
      "F1-Score: 0.8672\n",
      "              precision    recall  f1-score   support\n",
      "\n",
      "           0       0.87      0.97      0.91       372\n",
      "           1       0.90      0.66      0.76       165\n",
      "\n",
      "    accuracy                           0.87       537\n",
      "   macro avg       0.88      0.81      0.84       537\n",
      "weighted avg       0.88      0.87      0.87       537\n",
      "\n"
     ]
    },
    {
     "name": "stderr",
     "output_type": "stream",
     "text": [
      "Epoch 1/10 Loss: 2.4861: 100%|██████████| 34/34 [00:09<00:00,  3.52batch/s]\n"
     ]
    },
    {
     "name": "stdout",
     "output_type": "stream",
     "text": [
      "=============================train========================\n",
      "Validation Accuracy: 0.8993\n",
      "Precision: 0.8980\n",
      "Recall: 0.8993\n",
      "F1-Score: 0.8974\n"
     ]
    },
    {
     "name": "stderr",
     "output_type": "stream",
     "text": [
      "Epoch 2/10 Loss: 1.0344: 100%|██████████| 34/34 [00:09<00:00,  3.57batch/s]\n"
     ]
    },
    {
     "name": "stdout",
     "output_type": "stream",
     "text": [
      "=============================train========================\n",
      "Validation Accuracy: 0.8918\n",
      "Precision: 0.8932\n",
      "Recall: 0.8918\n",
      "F1-Score: 0.8924\n"
     ]
    },
    {
     "name": "stderr",
     "output_type": "stream",
     "text": [
      "Epoch 3/10 Loss: 0.8368: 100%|██████████| 34/34 [00:09<00:00,  3.55batch/s]\n"
     ]
    },
    {
     "name": "stdout",
     "output_type": "stream",
     "text": [
      "=============================train========================\n",
      "Validation Accuracy: 0.9104\n",
      "Precision: 0.9094\n",
      "Recall: 0.9104\n",
      "F1-Score: 0.9094\n"
     ]
    },
    {
     "name": "stderr",
     "output_type": "stream",
     "text": [
      "Epoch 4/10 Loss: 0.7262: 100%|██████████| 34/34 [00:09<00:00,  3.52batch/s]\n"
     ]
    },
    {
     "name": "stdout",
     "output_type": "stream",
     "text": [
      "=============================train========================\n",
      "Validation Accuracy: 0.9254\n",
      "Precision: 0.9255\n",
      "Recall: 0.9254\n",
      "F1-Score: 0.9238\n"
     ]
    },
    {
     "name": "stderr",
     "output_type": "stream",
     "text": [
      "Epoch 5/10 Loss: 0.7138: 100%|██████████| 34/34 [00:09<00:00,  3.47batch/s]\n"
     ]
    },
    {
     "name": "stdout",
     "output_type": "stream",
     "text": [
      "=============================train========================\n",
      "Validation Accuracy: 0.9216\n",
      "Precision: 0.9209\n",
      "Recall: 0.9216\n",
      "F1-Score: 0.9209\n"
     ]
    },
    {
     "name": "stderr",
     "output_type": "stream",
     "text": [
      "Epoch 6/10 Loss: 0.6743: 100%|██████████| 34/34 [00:09<00:00,  3.57batch/s]\n"
     ]
    },
    {
     "name": "stdout",
     "output_type": "stream",
     "text": [
      "=============================train========================\n",
      "Validation Accuracy: 0.9216\n",
      "Precision: 0.9213\n",
      "Recall: 0.9216\n",
      "F1-Score: 0.9202\n"
     ]
    },
    {
     "name": "stderr",
     "output_type": "stream",
     "text": [
      "Epoch 7/10 Loss: 0.6627: 100%|██████████| 34/34 [00:09<00:00,  3.49batch/s]\n"
     ]
    },
    {
     "name": "stdout",
     "output_type": "stream",
     "text": [
      "=============================train========================\n",
      "Validation Accuracy: 0.9142\n",
      "Precision: 0.9135\n",
      "Recall: 0.9142\n",
      "F1-Score: 0.9126\n"
     ]
    },
    {
     "name": "stderr",
     "output_type": "stream",
     "text": [
      "Epoch 8/10 Loss: 0.6143: 100%|██████████| 34/34 [00:09<00:00,  3.56batch/s]\n"
     ]
    },
    {
     "name": "stdout",
     "output_type": "stream",
     "text": [
      "=============================train========================\n",
      "Validation Accuracy: 0.9104\n",
      "Precision: 0.9094\n",
      "Recall: 0.9104\n",
      "F1-Score: 0.9094\n"
     ]
    },
    {
     "name": "stderr",
     "output_type": "stream",
     "text": [
      "Epoch 9/10 Loss: 0.5915: 100%|██████████| 34/34 [00:09<00:00,  3.57batch/s]\n"
     ]
    },
    {
     "name": "stdout",
     "output_type": "stream",
     "text": [
      "=============================train========================\n",
      "Validation Accuracy: 0.9104\n",
      "Precision: 0.9098\n",
      "Recall: 0.9104\n",
      "F1-Score: 0.9086\n"
     ]
    },
    {
     "name": "stderr",
     "output_type": "stream",
     "text": [
      "Epoch 10/10 Loss: 0.5908: 100%|██████████| 34/34 [00:09<00:00,  3.54batch/s]\n"
     ]
    },
    {
     "name": "stdout",
     "output_type": "stream",
     "text": [
      "=============================train========================\n",
      "Validation Accuracy: 0.9104\n",
      "Precision: 0.9094\n",
      "Recall: 0.9104\n",
      "F1-Score: 0.9094\n"
     ]
    },
    {
     "name": "stderr",
     "output_type": "stream",
     "text": [
      "/root/miniconda3/lib/python3.10/site-packages/transformers/optimization.py:391: FutureWarning: This implementation of AdamW is deprecated and will be removed in a future version. Use the PyTorch implementation torch.optim.AdamW instead, or set `no_deprecation_warning=True` to disable this warning\n",
      "  warnings.warn(\n"
     ]
    },
    {
     "name": "stdout",
     "output_type": "stream",
     "text": [
      "Validation Accuracy: 0.8752\n",
      "Precision: 0.8797\n",
      "Recall: 0.8752\n",
      "F1-Score: 0.8686\n",
      "              precision    recall  f1-score   support\n",
      "\n",
      "           0       0.86      0.97      0.92       372\n",
      "           1       0.92      0.65      0.76       165\n",
      "\n",
      "    accuracy                           0.88       537\n",
      "   macro avg       0.89      0.81      0.84       537\n",
      "weighted avg       0.88      0.88      0.87       537\n",
      "\n"
     ]
    },
    {
     "name": "stderr",
     "output_type": "stream",
     "text": [
      "Epoch 1/10 Loss: 2.0900: 100%|██████████| 41/41 [00:11<00:00,  3.51batch/s]\n"
     ]
    },
    {
     "name": "stdout",
     "output_type": "stream",
     "text": [
      "=============================train========================\n",
      "Validation Accuracy: 0.9193\n",
      "Precision: 0.9182\n",
      "Recall: 0.9193\n",
      "F1-Score: 0.9180\n"
     ]
    },
    {
     "name": "stderr",
     "output_type": "stream",
     "text": [
      "Epoch 2/10 Loss: 0.9200: 100%|██████████| 41/41 [00:11<00:00,  3.54batch/s]\n"
     ]
    },
    {
     "name": "stdout",
     "output_type": "stream",
     "text": [
      "=============================train========================\n",
      "Validation Accuracy: 0.9130\n",
      "Precision: 0.9119\n",
      "Recall: 0.9130\n",
      "F1-Score: 0.9121\n"
     ]
    },
    {
     "name": "stderr",
     "output_type": "stream",
     "text": [
      "Epoch 3/10 Loss: 0.7779: 100%|██████████| 41/41 [00:11<00:00,  3.55batch/s]\n"
     ]
    },
    {
     "name": "stdout",
     "output_type": "stream",
     "text": [
      "=============================train========================\n",
      "Validation Accuracy: 0.9193\n",
      "Precision: 0.9184\n",
      "Recall: 0.9193\n",
      "F1-Score: 0.9177\n"
     ]
    },
    {
     "name": "stderr",
     "output_type": "stream",
     "text": [
      "Epoch 4/10 Loss: 0.6954: 100%|██████████| 41/41 [00:11<00:00,  3.59batch/s]\n"
     ]
    },
    {
     "name": "stdout",
     "output_type": "stream",
     "text": [
      "=============================train========================\n",
      "Validation Accuracy: 0.9224\n",
      "Precision: 0.9215\n",
      "Recall: 0.9224\n",
      "F1-Score: 0.9210\n"
     ]
    },
    {
     "name": "stderr",
     "output_type": "stream",
     "text": [
      "Epoch 5/10 Loss: 0.6319: 100%|██████████| 41/41 [00:11<00:00,  3.47batch/s]\n"
     ]
    },
    {
     "name": "stdout",
     "output_type": "stream",
     "text": [
      "=============================train========================\n",
      "Validation Accuracy: 0.9193\n",
      "Precision: 0.9183\n",
      "Recall: 0.9193\n",
      "F1-Score: 0.9184\n"
     ]
    },
    {
     "name": "stderr",
     "output_type": "stream",
     "text": [
      "Epoch 6/10 Loss: 0.5411: 100%|██████████| 41/41 [00:11<00:00,  3.53batch/s]\n"
     ]
    },
    {
     "name": "stdout",
     "output_type": "stream",
     "text": [
      "=============================train========================\n",
      "Validation Accuracy: 0.9224\n",
      "Precision: 0.9214\n",
      "Recall: 0.9224\n",
      "F1-Score: 0.9213\n"
     ]
    },
    {
     "name": "stderr",
     "output_type": "stream",
     "text": [
      "Epoch 7/10 Loss: 0.5383: 100%|██████████| 41/41 [00:11<00:00,  3.55batch/s]\n"
     ]
    },
    {
     "name": "stdout",
     "output_type": "stream",
     "text": [
      "=============================train========================\n",
      "Validation Accuracy: 0.9193\n",
      "Precision: 0.9183\n",
      "Recall: 0.9193\n",
      "F1-Score: 0.9184\n"
     ]
    },
    {
     "name": "stderr",
     "output_type": "stream",
     "text": [
      "Epoch 8/10 Loss: 0.5367: 100%|██████████| 41/41 [00:11<00:00,  3.56batch/s]\n"
     ]
    },
    {
     "name": "stdout",
     "output_type": "stream",
     "text": [
      "=============================train========================\n",
      "Validation Accuracy: 0.9224\n",
      "Precision: 0.9214\n",
      "Recall: 0.9224\n",
      "F1-Score: 0.9213\n"
     ]
    },
    {
     "name": "stderr",
     "output_type": "stream",
     "text": [
      "Epoch 9/10 Loss: 0.5177: 100%|██████████| 41/41 [00:11<00:00,  3.60batch/s]\n"
     ]
    },
    {
     "name": "stdout",
     "output_type": "stream",
     "text": [
      "=============================train========================\n",
      "Validation Accuracy: 0.9193\n",
      "Precision: 0.9183\n",
      "Recall: 0.9193\n",
      "F1-Score: 0.9184\n"
     ]
    },
    {
     "name": "stderr",
     "output_type": "stream",
     "text": [
      "Epoch 10/10 Loss: 0.5140: 100%|██████████| 41/41 [00:11<00:00,  3.46batch/s]\n"
     ]
    },
    {
     "name": "stdout",
     "output_type": "stream",
     "text": [
      "=============================train========================\n",
      "Validation Accuracy: 0.9224\n",
      "Precision: 0.9214\n",
      "Recall: 0.9224\n",
      "F1-Score: 0.9213\n"
     ]
    },
    {
     "name": "stderr",
     "output_type": "stream",
     "text": [
      "/root/miniconda3/lib/python3.10/site-packages/transformers/optimization.py:391: FutureWarning: This implementation of AdamW is deprecated and will be removed in a future version. Use the PyTorch implementation torch.optim.AdamW instead, or set `no_deprecation_warning=True` to disable this warning\n",
      "  warnings.warn(\n"
     ]
    },
    {
     "name": "stdout",
     "output_type": "stream",
     "text": [
      "Validation Accuracy: 0.8734\n",
      "Precision: 0.8763\n",
      "Recall: 0.8734\n",
      "F1-Score: 0.8672\n",
      "              precision    recall  f1-score   support\n",
      "\n",
      "           0       0.87      0.97      0.91       372\n",
      "           1       0.90      0.66      0.76       165\n",
      "\n",
      "    accuracy                           0.87       537\n",
      "   macro avg       0.88      0.81      0.84       537\n",
      "weighted avg       0.88      0.87      0.87       537\n",
      "\n"
     ]
    },
    {
     "name": "stderr",
     "output_type": "stream",
     "text": [
      "Epoch 1/10 Loss: 1.8836: 100%|██████████| 47/47 [00:13<00:00,  3.55batch/s]\n"
     ]
    },
    {
     "name": "stdout",
     "output_type": "stream",
     "text": [
      "=============================train========================\n",
      "Validation Accuracy: 0.9202\n",
      "Precision: 0.9196\n",
      "Recall: 0.9202\n",
      "F1-Score: 0.9187\n"
     ]
    },
    {
     "name": "stderr",
     "output_type": "stream",
     "text": [
      "Epoch 2/10 Loss: 0.6654: 100%|██████████| 47/47 [00:13<00:00,  3.47batch/s]\n"
     ]
    },
    {
     "name": "stdout",
     "output_type": "stream",
     "text": [
      "=============================train========================\n",
      "Validation Accuracy: 0.9122\n",
      "Precision: 0.9112\n",
      "Recall: 0.9122\n",
      "F1-Score: 0.9107\n"
     ]
    },
    {
     "name": "stderr",
     "output_type": "stream",
     "text": [
      "Epoch 3/10 Loss: 0.5956: 100%|██████████| 47/47 [00:13<00:00,  3.52batch/s]\n"
     ]
    },
    {
     "name": "stdout",
     "output_type": "stream",
     "text": [
      "=============================train========================\n",
      "Validation Accuracy: 0.9229\n",
      "Precision: 0.9225\n",
      "Recall: 0.9229\n",
      "F1-Score: 0.9213\n"
     ]
    },
    {
     "name": "stderr",
     "output_type": "stream",
     "text": [
      "Epoch 4/10 Loss: 0.5654: 100%|██████████| 47/47 [00:13<00:00,  3.56batch/s]\n"
     ]
    },
    {
     "name": "stdout",
     "output_type": "stream",
     "text": [
      "=============================train========================\n",
      "Validation Accuracy: 0.9202\n",
      "Precision: 0.9196\n",
      "Recall: 0.9202\n",
      "F1-Score: 0.9187\n"
     ]
    },
    {
     "name": "stderr",
     "output_type": "stream",
     "text": [
      "Epoch 5/10 Loss: 0.5350: 100%|██████████| 47/47 [00:13<00:00,  3.55batch/s]\n"
     ]
    },
    {
     "name": "stdout",
     "output_type": "stream",
     "text": [
      "=============================train========================\n",
      "Validation Accuracy: 0.9229\n",
      "Precision: 0.9225\n",
      "Recall: 0.9229\n",
      "F1-Score: 0.9213\n"
     ]
    },
    {
     "name": "stderr",
     "output_type": "stream",
     "text": [
      "Epoch 6/10 Loss: 0.5301: 100%|██████████| 47/47 [00:13<00:00,  3.53batch/s]\n"
     ]
    },
    {
     "name": "stdout",
     "output_type": "stream",
     "text": [
      "=============================train========================\n",
      "Validation Accuracy: 0.9202\n",
      "Precision: 0.9196\n",
      "Recall: 0.9202\n",
      "F1-Score: 0.9187\n"
     ]
    },
    {
     "name": "stderr",
     "output_type": "stream",
     "text": [
      "Epoch 7/10 Loss: 0.5246: 100%|██████████| 47/47 [00:13<00:00,  3.45batch/s]\n"
     ]
    },
    {
     "name": "stdout",
     "output_type": "stream",
     "text": [
      "=============================train========================\n",
      "Validation Accuracy: 0.9229\n",
      "Precision: 0.9225\n",
      "Recall: 0.9229\n",
      "F1-Score: 0.9213\n"
     ]
    },
    {
     "name": "stderr",
     "output_type": "stream",
     "text": [
      "Epoch 8/10 Loss: 0.5311: 100%|██████████| 47/47 [00:13<00:00,  3.45batch/s]\n"
     ]
    },
    {
     "name": "stdout",
     "output_type": "stream",
     "text": [
      "=============================train========================\n",
      "Validation Accuracy: 0.9229\n",
      "Precision: 0.9229\n",
      "Recall: 0.9229\n",
      "F1-Score: 0.9210\n"
     ]
    },
    {
     "name": "stderr",
     "output_type": "stream",
     "text": [
      "Epoch 9/10 Loss: 0.5288: 100%|██████████| 47/47 [00:13<00:00,  3.54batch/s]\n"
     ]
    },
    {
     "name": "stdout",
     "output_type": "stream",
     "text": [
      "=============================train========================\n",
      "Validation Accuracy: 0.9202\n",
      "Precision: 0.9199\n",
      "Recall: 0.9202\n",
      "F1-Score: 0.9184\n"
     ]
    },
    {
     "name": "stderr",
     "output_type": "stream",
     "text": [
      "Epoch 10/10 Loss: 0.5227: 100%|██████████| 47/47 [00:13<00:00,  3.58batch/s]\n"
     ]
    },
    {
     "name": "stdout",
     "output_type": "stream",
     "text": [
      "=============================train========================\n",
      "Validation Accuracy: 0.9255\n",
      "Precision: 0.9255\n",
      "Recall: 0.9255\n",
      "F1-Score: 0.9239\n"
     ]
    },
    {
     "name": "stderr",
     "output_type": "stream",
     "text": [
      "/root/miniconda3/lib/python3.10/site-packages/transformers/optimization.py:391: FutureWarning: This implementation of AdamW is deprecated and will be removed in a future version. Use the PyTorch implementation torch.optim.AdamW instead, or set `no_deprecation_warning=True` to disable this warning\n",
      "  warnings.warn(\n"
     ]
    },
    {
     "name": "stdout",
     "output_type": "stream",
     "text": [
      "Validation Accuracy: 0.8827\n",
      "Precision: 0.8848\n",
      "Recall: 0.8827\n",
      "F1-Score: 0.8777\n",
      "              precision    recall  f1-score   support\n",
      "\n",
      "           0       0.88      0.97      0.92       372\n",
      "           1       0.90      0.69      0.78       165\n",
      "\n",
      "    accuracy                           0.88       537\n",
      "   macro avg       0.89      0.83      0.85       537\n",
      "weighted avg       0.88      0.88      0.88       537\n",
      "\n"
     ]
    },
    {
     "name": "stderr",
     "output_type": "stream",
     "text": [
      "Epoch 1/10 Loss: 1.5988: 100%|██████████| 54/54 [00:15<00:00,  3.55batch/s]\n"
     ]
    },
    {
     "name": "stdout",
     "output_type": "stream",
     "text": [
      "=============================train========================\n",
      "Validation Accuracy: 0.9114\n",
      "Precision: 0.9111\n",
      "Recall: 0.9114\n",
      "F1-Score: 0.9093\n"
     ]
    },
    {
     "name": "stderr",
     "output_type": "stream",
     "text": [
      "Epoch 2/10 Loss: 0.7552: 100%|██████████| 54/54 [00:14<00:00,  3.62batch/s]\n"
     ]
    },
    {
     "name": "stdout",
     "output_type": "stream",
     "text": [
      "=============================train========================\n",
      "Validation Accuracy: 0.9138\n",
      "Precision: 0.9134\n",
      "Recall: 0.9138\n",
      "F1-Score: 0.9118\n"
     ]
    },
    {
     "name": "stderr",
     "output_type": "stream",
     "text": [
      "Epoch 3/10 Loss: 0.6400: 100%|██████████| 54/54 [00:15<00:00,  3.54batch/s]\n"
     ]
    },
    {
     "name": "stdout",
     "output_type": "stream",
     "text": [
      "=============================train========================\n",
      "Validation Accuracy: 0.9068\n",
      "Precision: 0.9057\n",
      "Recall: 0.9068\n",
      "F1-Score: 0.9050\n"
     ]
    },
    {
     "name": "stderr",
     "output_type": "stream",
     "text": [
      "Epoch 4/10 Loss: 0.5686: 100%|██████████| 54/54 [00:15<00:00,  3.43batch/s]\n"
     ]
    },
    {
     "name": "stdout",
     "output_type": "stream",
     "text": [
      "=============================train========================\n",
      "Validation Accuracy: 0.9091\n",
      "Precision: 0.9082\n",
      "Recall: 0.9091\n",
      "F1-Score: 0.9073\n"
     ]
    },
    {
     "name": "stderr",
     "output_type": "stream",
     "text": [
      "Epoch 5/10 Loss: 0.5436: 100%|██████████| 54/54 [00:15<00:00,  3.48batch/s]\n"
     ]
    },
    {
     "name": "stdout",
     "output_type": "stream",
     "text": [
      "=============================train========================\n",
      "Validation Accuracy: 0.9044\n",
      "Precision: 0.9032\n",
      "Recall: 0.9044\n",
      "F1-Score: 0.9028\n"
     ]
    },
    {
     "name": "stderr",
     "output_type": "stream",
     "text": [
      "Epoch 6/10 Loss: 0.5450: 100%|██████████| 54/54 [00:15<00:00,  3.54batch/s]\n"
     ]
    },
    {
     "name": "stdout",
     "output_type": "stream",
     "text": [
      "=============================train========================\n",
      "Validation Accuracy: 0.9044\n",
      "Precision: 0.9032\n",
      "Recall: 0.9044\n",
      "F1-Score: 0.9028\n"
     ]
    },
    {
     "name": "stderr",
     "output_type": "stream",
     "text": [
      "Epoch 7/10 Loss: 0.5322: 100%|██████████| 54/54 [00:15<00:00,  3.57batch/s]\n"
     ]
    },
    {
     "name": "stdout",
     "output_type": "stream",
     "text": [
      "=============================train========================\n",
      "Validation Accuracy: 0.9021\n",
      "Precision: 0.9008\n",
      "Recall: 0.9021\n",
      "F1-Score: 0.9006\n"
     ]
    },
    {
     "name": "stderr",
     "output_type": "stream",
     "text": [
      "Epoch 8/10 Loss: 0.5300: 100%|██████████| 54/54 [00:15<00:00,  3.45batch/s]\n"
     ]
    },
    {
     "name": "stdout",
     "output_type": "stream",
     "text": [
      "=============================train========================\n",
      "Validation Accuracy: 0.9044\n",
      "Precision: 0.9032\n",
      "Recall: 0.9044\n",
      "F1-Score: 0.9028\n"
     ]
    },
    {
     "name": "stderr",
     "output_type": "stream",
     "text": [
      "Epoch 9/10 Loss: 0.5290: 100%|██████████| 54/54 [00:15<00:00,  3.57batch/s]\n"
     ]
    },
    {
     "name": "stdout",
     "output_type": "stream",
     "text": [
      "=============================train========================\n",
      "Validation Accuracy: 0.9044\n",
      "Precision: 0.9032\n",
      "Recall: 0.9044\n",
      "F1-Score: 0.9028\n"
     ]
    },
    {
     "name": "stderr",
     "output_type": "stream",
     "text": [
      "Epoch 10/10 Loss: 0.5186: 100%|██████████| 54/54 [00:15<00:00,  3.59batch/s]\n"
     ]
    },
    {
     "name": "stdout",
     "output_type": "stream",
     "text": [
      "=============================train========================\n",
      "Validation Accuracy: 0.9021\n",
      "Precision: 0.9009\n",
      "Recall: 0.9021\n",
      "F1-Score: 0.9003\n"
     ]
    },
    {
     "name": "stderr",
     "output_type": "stream",
     "text": [
      "/root/miniconda3/lib/python3.10/site-packages/transformers/optimization.py:391: FutureWarning: This implementation of AdamW is deprecated and will be removed in a future version. Use the PyTorch implementation torch.optim.AdamW instead, or set `no_deprecation_warning=True` to disable this warning\n",
      "  warnings.warn(\n"
     ]
    },
    {
     "name": "stdout",
     "output_type": "stream",
     "text": [
      "Validation Accuracy: 0.8771\n",
      "Precision: 0.8814\n",
      "Recall: 0.8771\n",
      "F1-Score: 0.8707\n",
      "              precision    recall  f1-score   support\n",
      "\n",
      "           0       0.87      0.97      0.92       372\n",
      "           1       0.92      0.66      0.77       165\n",
      "\n",
      "    accuracy                           0.88       537\n",
      "   macro avg       0.89      0.82      0.84       537\n",
      "weighted avg       0.88      0.88      0.87       537\n",
      "\n"
     ]
    },
    {
     "name": "stderr",
     "output_type": "stream",
     "text": [
      "Epoch 1/10 Loss: 1.4450: 100%|██████████| 61/61 [00:17<00:00,  3.55batch/s]\n"
     ]
    },
    {
     "name": "stdout",
     "output_type": "stream",
     "text": [
      "=============================train========================\n",
      "Validation Accuracy: 0.8986\n",
      "Precision: 0.8980\n",
      "Recall: 0.8986\n",
      "F1-Score: 0.8966\n"
     ]
    },
    {
     "name": "stderr",
     "output_type": "stream",
     "text": [
      "Epoch 2/10 Loss: 0.6530: 100%|██████████| 61/61 [00:17<00:00,  3.54batch/s]\n"
     ]
    },
    {
     "name": "stdout",
     "output_type": "stream",
     "text": [
      "=============================train========================\n",
      "Validation Accuracy: 0.9006\n",
      "Precision: 0.9003\n",
      "Recall: 0.9006\n",
      "F1-Score: 0.8986\n"
     ]
    },
    {
     "name": "stderr",
     "output_type": "stream",
     "text": [
      "Epoch 3/10 Loss: 0.5594: 100%|██████████| 61/61 [00:17<00:00,  3.50batch/s]\n"
     ]
    },
    {
     "name": "stdout",
     "output_type": "stream",
     "text": [
      "=============================train========================\n",
      "Validation Accuracy: 0.9006\n",
      "Precision: 0.9000\n",
      "Recall: 0.9006\n",
      "F1-Score: 0.8988\n"
     ]
    },
    {
     "name": "stderr",
     "output_type": "stream",
     "text": [
      "Epoch 4/10 Loss: 0.5569: 100%|██████████| 61/61 [00:17<00:00,  3.50batch/s]\n"
     ]
    },
    {
     "name": "stdout",
     "output_type": "stream",
     "text": [
      "=============================train========================\n",
      "Validation Accuracy: 0.9048\n",
      "Precision: 0.9043\n",
      "Recall: 0.9048\n",
      "F1-Score: 0.9030\n"
     ]
    },
    {
     "name": "stderr",
     "output_type": "stream",
     "text": [
      "Epoch 5/10 Loss: 0.5261: 100%|██████████| 61/61 [00:17<00:00,  3.50batch/s]\n"
     ]
    },
    {
     "name": "stdout",
     "output_type": "stream",
     "text": [
      "=============================train========================\n",
      "Validation Accuracy: 0.9027\n",
      "Precision: 0.9026\n",
      "Recall: 0.9027\n",
      "F1-Score: 0.9006\n"
     ]
    },
    {
     "name": "stderr",
     "output_type": "stream",
     "text": [
      "Epoch 6/10 Loss: 0.5203: 100%|██████████| 61/61 [00:17<00:00,  3.55batch/s]\n"
     ]
    },
    {
     "name": "stdout",
     "output_type": "stream",
     "text": [
      "=============================train========================\n",
      "Validation Accuracy: 0.8986\n",
      "Precision: 0.8983\n",
      "Recall: 0.8986\n",
      "F1-Score: 0.8964\n"
     ]
    },
    {
     "name": "stderr",
     "output_type": "stream",
     "text": [
      "Epoch 7/10 Loss: 0.5158: 100%|██████████| 61/61 [00:17<00:00,  3.57batch/s]\n"
     ]
    },
    {
     "name": "stdout",
     "output_type": "stream",
     "text": [
      "=============================train========================\n",
      "Validation Accuracy: 0.9048\n",
      "Precision: 0.9050\n",
      "Recall: 0.9048\n",
      "F1-Score: 0.9026\n"
     ]
    },
    {
     "name": "stderr",
     "output_type": "stream",
     "text": [
      "Epoch 8/10 Loss: 0.5137: 100%|██████████| 61/61 [00:18<00:00,  3.39batch/s]\n"
     ]
    },
    {
     "name": "stdout",
     "output_type": "stream",
     "text": [
      "=============================train========================\n",
      "Validation Accuracy: 0.8986\n",
      "Precision: 0.8986\n",
      "Recall: 0.8986\n",
      "F1-Score: 0.8961\n"
     ]
    },
    {
     "name": "stderr",
     "output_type": "stream",
     "text": [
      "Epoch 9/10 Loss: 0.5140: 100%|██████████| 61/61 [00:17<00:00,  3.54batch/s]\n"
     ]
    },
    {
     "name": "stdout",
     "output_type": "stream",
     "text": [
      "=============================train========================\n",
      "Validation Accuracy: 0.9048\n",
      "Precision: 0.9050\n",
      "Recall: 0.9048\n",
      "F1-Score: 0.9026\n"
     ]
    },
    {
     "name": "stderr",
     "output_type": "stream",
     "text": [
      "Epoch 10/10 Loss: 0.5144: 100%|██████████| 61/61 [00:17<00:00,  3.50batch/s]\n"
     ]
    },
    {
     "name": "stdout",
     "output_type": "stream",
     "text": [
      "=============================train========================\n",
      "Validation Accuracy: 0.9027\n",
      "Precision: 0.9030\n",
      "Recall: 0.9027\n",
      "F1-Score: 0.9004\n"
     ]
    },
    {
     "name": "stderr",
     "output_type": "stream",
     "text": [
      "/root/miniconda3/lib/python3.10/site-packages/transformers/optimization.py:391: FutureWarning: This implementation of AdamW is deprecated and will be removed in a future version. Use the PyTorch implementation torch.optim.AdamW instead, or set `no_deprecation_warning=True` to disable this warning\n",
      "  warnings.warn(\n"
     ]
    },
    {
     "name": "stdout",
     "output_type": "stream",
     "text": [
      "Validation Accuracy: 0.8883\n",
      "Precision: 0.8922\n",
      "Recall: 0.8883\n",
      "F1-Score: 0.8831\n",
      "              precision    recall  f1-score   support\n",
      "\n",
      "           0       0.88      0.98      0.92       372\n",
      "           1       0.93      0.69      0.79       165\n",
      "\n",
      "    accuracy                           0.89       537\n",
      "   macro avg       0.90      0.83      0.86       537\n",
      "weighted avg       0.89      0.89      0.88       537\n",
      "\n"
     ]
    },
    {
     "name": "stderr",
     "output_type": "stream",
     "text": [
      "Epoch 1/10 Loss: 1.4274: 100%|██████████| 68/68 [00:19<00:00,  3.55batch/s]\n"
     ]
    },
    {
     "name": "stdout",
     "output_type": "stream",
     "text": [
      "=============================train========================\n",
      "Validation Accuracy: 0.9088\n",
      "Precision: 0.9088\n",
      "Recall: 0.9088\n",
      "F1-Score: 0.9068\n"
     ]
    },
    {
     "name": "stderr",
     "output_type": "stream",
     "text": [
      "Epoch 2/10 Loss: 0.5994: 100%|██████████| 68/68 [00:19<00:00,  3.45batch/s]\n"
     ]
    },
    {
     "name": "stdout",
     "output_type": "stream",
     "text": [
      "=============================train========================\n",
      "Validation Accuracy: 0.9069\n",
      "Precision: 0.9074\n",
      "Recall: 0.9069\n",
      "F1-Score: 0.9045\n"
     ]
    },
    {
     "name": "stderr",
     "output_type": "stream",
     "text": [
      "Epoch 3/10 Loss: 0.5636: 100%|██████████| 68/68 [00:19<00:00,  3.51batch/s]\n"
     ]
    },
    {
     "name": "stdout",
     "output_type": "stream",
     "text": [
      "=============================train========================\n",
      "Validation Accuracy: 0.9050\n",
      "Precision: 0.9046\n",
      "Recall: 0.9050\n",
      "F1-Score: 0.9032\n"
     ]
    },
    {
     "name": "stderr",
     "output_type": "stream",
     "text": [
      "Epoch 4/10 Loss: 0.5209: 100%|██████████| 68/68 [00:19<00:00,  3.54batch/s]\n"
     ]
    },
    {
     "name": "stdout",
     "output_type": "stream",
     "text": [
      "=============================train========================\n",
      "Validation Accuracy: 0.9106\n",
      "Precision: 0.9109\n",
      "Recall: 0.9106\n",
      "F1-Score: 0.9086\n"
     ]
    },
    {
     "name": "stderr",
     "output_type": "stream",
     "text": [
      "Epoch 5/10 Loss: 0.5148: 100%|██████████| 68/68 [00:18<00:00,  3.59batch/s]\n"
     ]
    },
    {
     "name": "stdout",
     "output_type": "stream",
     "text": [
      "=============================train========================\n",
      "Validation Accuracy: 0.9106\n",
      "Precision: 0.9109\n",
      "Recall: 0.9106\n",
      "F1-Score: 0.9086\n"
     ]
    },
    {
     "name": "stderr",
     "output_type": "stream",
     "text": [
      "Epoch 6/10 Loss: 0.5156: 100%|██████████| 68/68 [00:19<00:00,  3.48batch/s]\n"
     ]
    },
    {
     "name": "stdout",
     "output_type": "stream",
     "text": [
      "=============================train========================\n",
      "Validation Accuracy: 0.9088\n",
      "Precision: 0.9088\n",
      "Recall: 0.9088\n",
      "F1-Score: 0.9068\n"
     ]
    },
    {
     "name": "stderr",
     "output_type": "stream",
     "text": [
      "Epoch 7/10 Loss: 0.5129: 100%|██████████| 68/68 [00:19<00:00,  3.46batch/s]\n"
     ]
    },
    {
     "name": "stdout",
     "output_type": "stream",
     "text": [
      "=============================train========================\n",
      "Validation Accuracy: 0.9069\n",
      "Precision: 0.9074\n",
      "Recall: 0.9069\n",
      "F1-Score: 0.9045\n"
     ]
    },
    {
     "name": "stderr",
     "output_type": "stream",
     "text": [
      "Epoch 8/10 Loss: 0.5114: 100%|██████████| 68/68 [00:19<00:00,  3.55batch/s]\n"
     ]
    },
    {
     "name": "stdout",
     "output_type": "stream",
     "text": [
      "=============================train========================\n",
      "Validation Accuracy: 0.9088\n",
      "Precision: 0.9085\n",
      "Recall: 0.9088\n",
      "F1-Score: 0.9070\n"
     ]
    },
    {
     "name": "stderr",
     "output_type": "stream",
     "text": [
      "Epoch 9/10 Loss: 0.5149: 100%|██████████| 68/68 [00:19<00:00,  3.57batch/s]\n"
     ]
    },
    {
     "name": "stdout",
     "output_type": "stream",
     "text": [
      "=============================train========================\n",
      "Validation Accuracy: 0.9088\n",
      "Precision: 0.9083\n",
      "Recall: 0.9088\n",
      "F1-Score: 0.9071\n"
     ]
    },
    {
     "name": "stderr",
     "output_type": "stream",
     "text": [
      "Epoch 10/10 Loss: 0.5122: 100%|██████████| 68/68 [00:19<00:00,  3.48batch/s]\n"
     ]
    },
    {
     "name": "stdout",
     "output_type": "stream",
     "text": [
      "=============================train========================\n",
      "Validation Accuracy: 0.9032\n",
      "Precision: 0.9031\n",
      "Recall: 0.9032\n",
      "F1-Score: 0.9009\n",
      "Validation Accuracy: 0.8976\n",
      "Precision: 0.8991\n",
      "Recall: 0.8976\n",
      "F1-Score: 0.8941\n",
      "              precision    recall  f1-score   support\n",
      "\n",
      "           0       0.89      0.97      0.93       372\n",
      "           1       0.92      0.73      0.81       165\n",
      "\n",
      "    accuracy                           0.90       537\n",
      "   macro avg       0.90      0.85      0.87       537\n",
      "weighted avg       0.90      0.90      0.89       537\n",
      "\n"
     ]
    }
   ],
   "source": [
    "# 改编unlabeled数据的大小，\n",
    "for i in [0.01,0.02,0.03,0.04,0.05,0.06,0.07,0.08,0.09,0.1]:\n",
    "    train_data,_ = train_test_split(train, train_size=0.1, random_state=42)\n",
    "    test_data, val_data = train_test_split(test, train_size=i, random_state=42)\n",
    "    val_data, _ = train_test_split(val, train_size=0.1, random_state=42)\n",
    "\n",
    "    train_data.reset_index(inplace=True)\n",
    "    test_data.reset_index(inplace=True)\n",
    "    val_data.reset_index(inplace=True)\n",
    "    \n",
    "    # Create Datasets and DataLoaders\n",
    "    train_dataset = preprocesser.SentencePairDataset(train_data, bert_tokenizer, codebert_tokenizer, message='commit_message',command='diff_code',label='category')\n",
    "    val_dataset = preprocesser.SentencePairDataset(val_data, bert_tokenizer, codebert_tokenizer, message='commit_message',command='diff_code',label='category')\n",
    "    test_dataset = preprocesser.SentencePairDataset(test_data, bert_tokenizer, codebert_tokenizer, message='commit_message',command='diff_code',label='category')\n",
    "    \n",
    "    train_loader = DataLoader(train_dataset, batch_size=8, shuffle=False)\n",
    "    val_loader = DataLoader(val_dataset, batch_size=8, shuffle=False)\n",
    "    test_loader = DataLoader(test_dataset, batch_size=8, shuffle=False)\n",
    "    \n",
    "    student_model = student_cl.BiLSTMStudent(hidden_dim=256,output_dim =2, base_model1=encoder_model1,base_model2=encoder_model2)\n",
    "    student_model.distill_trainer(moe_model, test_loader, num_epochs=10)\n",
    "    \n",
    "    # test_acc, test_labels, test_probabilities, test_embeddings, test_predictions = student_model.evaluate(test_loader)\n",
    "    # print(classification_report(test_labels,test_predictions))\n",
    "\n",
    "    test_acc, test_labels, test_probabilities, test_embeddings, test_predictions = student_model.evaluate(val_loader)\n",
    "    print(classification_report(test_labels,test_predictions))"
   ]
  },
  {
   "cell_type": "code",
   "execution_count": null,
   "id": "0c21ff48-212d-42d5-b602-2a5959b548c4",
   "metadata": {},
   "outputs": [],
   "source": []
  },
  {
   "cell_type": "code",
   "execution_count": 15,
   "id": "2d38e0d5-86f1-4a55-ba54-9802c1db2793",
   "metadata": {
    "execution": {
     "iopub.execute_input": "2025-01-02T12:01:33.758399Z",
     "iopub.status.busy": "2025-01-02T12:01:33.757958Z",
     "iopub.status.idle": "2025-01-02T12:01:33.763111Z",
     "shell.execute_reply": "2025-01-02T12:01:33.762097Z",
     "shell.execute_reply.started": "2025-01-02T12:01:33.758367Z"
    }
   },
   "outputs": [],
   "source": [
    "# train_student_model"
   ]
  },
  {
   "cell_type": "code",
   "execution_count": null,
   "id": "77f1210b-4518-4196-802c-ecd01588f4cd",
   "metadata": {},
   "outputs": [],
   "source": []
  },
  {
   "cell_type": "code",
   "execution_count": 16,
   "id": "bf19d667-f13b-4286-a1aa-6dbef58828ed",
   "metadata": {
    "execution": {
     "iopub.execute_input": "2025-01-02T12:01:33.764338Z",
     "iopub.status.busy": "2025-01-02T12:01:33.764122Z",
     "iopub.status.idle": "2025-01-02T12:01:34.704969Z",
     "shell.execute_reply": "2025-01-02T12:01:34.703142Z",
     "shell.execute_reply.started": "2025-01-02T12:01:33.764313Z"
    }
   },
   "outputs": [
    {
     "name": "stdout",
     "output_type": "stream",
     "text": [
      "在线模型训练完毕\n"
     ]
    }
   ],
   "source": [
    "#发送多种类型的邮件\n",
    "from email.mime.multipart import MIMEMultipart\n",
    "import smtplib\n",
    "\n",
    "from email.mime.text import MIMEText\n",
    "msg_from = '915803745@qq.com'  # 发送方邮箱\n",
    "passwd = 'vcuosuurrgkfbdai'   #就是上面的授权码\n",
    " \n",
    "# to= ['g.zhang@gotion.com', 'j.tong@gotion.com'] #接受方邮箱\n",
    "to= ['j.tong@gotion.com'] #接受方邮箱\n",
    "#设置邮件内容\n",
    "#MIMEMultipart类可以放任何内容\n",
    "msg = MIMEMultipart()\n",
    "conntent=\"在线模型训练完毕\"\n",
    "#把内容加进去\n",
    "msg.attach(MIMEText(conntent,'plain','utf-8'))\n",
    " \n",
    "#设置邮件主题\n",
    "msg['Subject']=\"在线模型训练完毕\"\n",
    " \n",
    "#发送方信息\n",
    "msg['From']=msg_from\n",
    " \n",
    "#开始发送\n",
    " \n",
    "#通过SSL方式发送，服务器地址和端口\n",
    "s = smtplib.SMTP_SSL(\"smtp.qq.com\", 465)\n",
    "# 登录邮箱\n",
    "s.login(msg_from, passwd)\n",
    "#开始发送\n",
    "s.sendmail(msg_from,to,msg.as_string())\n",
    "print(\"在线模型训练完毕\")"
   ]
  },
  {
   "cell_type": "code",
   "execution_count": null,
   "id": "a198e819-7dd7-44c4-9f7f-16c53dfd85cc",
   "metadata": {},
   "outputs": [],
   "source": []
  }
 ],
 "metadata": {
  "kernelspec": {
   "display_name": "Python 3 (ipykernel)",
   "language": "python",
   "name": "python3"
  },
  "language_info": {
   "codemirror_mode": {
    "name": "ipython",
    "version": 3
   },
   "file_extension": ".py",
   "mimetype": "text/x-python",
   "name": "python",
   "nbconvert_exporter": "python",
   "pygments_lexer": "ipython3",
   "version": "3.10.8"
  }
 },
 "nbformat": 4,
 "nbformat_minor": 5
}
