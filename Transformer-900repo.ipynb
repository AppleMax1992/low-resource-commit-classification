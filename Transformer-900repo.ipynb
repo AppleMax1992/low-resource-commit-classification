{
 "cells": [
  {
   "cell_type": "code",
   "execution_count": 1,
   "id": "3359fe9a-dcdb-4b8f-bede-4770714c5ee7",
   "metadata": {
    "execution": {
     "iopub.execute_input": "2024-09-22T06:43:35.262238Z",
     "iopub.status.busy": "2024-09-22T06:43:35.260362Z",
     "iopub.status.idle": "2024-09-22T06:43:38.255049Z",
     "shell.execute_reply": "2024-09-22T06:43:38.254030Z",
     "shell.execute_reply.started": "2024-09-22T06:43:35.262162Z"
    }
   },
   "outputs": [],
   "source": [
    "import torch\n",
    "from torch.utils.data import DataLoader\n",
    "from sklearn.model_selection import train_test_split\n",
    "import pandas as pd\n",
    "from commit_transformer.tokenizer import build_vocab\n",
    "from commit_transformer.preprosser import CommitDataset\n",
    "from commit_transformer.model import CombinedModel"
   ]
  },
  {
   "cell_type": "code",
   "execution_count": null,
   "id": "ae4d99e0-95da-4232-abe7-a1154085bcba",
   "metadata": {},
   "outputs": [],
   "source": []
  },
  {
   "cell_type": "code",
   "execution_count": 8,
   "id": "0404ac22-0887-45ab-b70e-2f1326f09b6c",
   "metadata": {
    "execution": {
     "iopub.execute_input": "2024-09-22T07:05:06.010695Z",
     "iopub.status.busy": "2024-09-22T07:05:06.006216Z",
     "iopub.status.idle": "2024-09-22T07:05:10.068111Z",
     "shell.execute_reply": "2024-09-22T07:05:10.066941Z",
     "shell.execute_reply.started": "2024-09-22T07:05:06.010533Z"
    }
   },
   "outputs": [],
   "source": [
    "import pandas as pd\n",
    "from sklearn.model_selection import train_test_split\n",
    "from sklearn.feature_extraction.text import TfidfVectorizer\n",
    "from xgboost import XGBClassifier\n",
    "from sklearn.metrics import classification_report, accuracy_score\n",
    "\n",
    "label2id = {'negative':0,'positive':1}\n",
    "\n",
    "train = pd.read_csv(r'./datasets/train.csv', encoding='utf_8_sig')\n",
    "train = train.replace({\"label\": label2id})\n",
    "train.fillna('', inplace=True)\n",
    "test = pd.read_csv(r'./datasets/test.csv', encoding='utf_8_sig')\n",
    "test = test.replace({\"label\": label2id})\n",
    "val = pd.read_csv(r'./datasets/val.csv', encoding='utf_8_sig')\n",
    "val = test.replace({\"label\": label2id})\n",
    "\n",
    "test.fillna('', inplace=True)\n",
    "val.fillna('', inplace=True)\n",
    "train.fillna('', inplace=True)"
   ]
  },
  {
   "cell_type": "code",
   "execution_count": null,
   "id": "e8402915-0c0e-4173-97b6-62c85b1219e0",
   "metadata": {
    "execution": {
     "iopub.status.busy": "2024-09-22T06:39:31.025534Z",
     "iopub.status.idle": "2024-09-22T06:39:31.026340Z",
     "shell.execute_reply": "2024-09-22T06:39:31.026002Z",
     "shell.execute_reply.started": "2024-09-22T06:39:31.025967Z"
    }
   },
   "outputs": [],
   "source": [
    "# df = df[['message','diff','label']] \n",
    "# df"
   ]
  },
  {
   "cell_type": "code",
   "execution_count": 9,
   "id": "8569dae2-53fe-4926-8613-f78da191db29",
   "metadata": {
    "execution": {
     "iopub.execute_input": "2024-09-22T07:05:11.332740Z",
     "iopub.status.busy": "2024-09-22T07:05:11.332212Z",
     "iopub.status.idle": "2024-09-22T07:05:12.135901Z",
     "shell.execute_reply": "2024-09-22T07:05:12.135189Z",
     "shell.execute_reply.started": "2024-09-22T07:05:11.332706Z"
    }
   },
   "outputs": [],
   "source": [
    "train_data = []\n",
    "for index, row in train.iterrows():\n",
    "  train_data.append([row['message'],row['diff'],row['label']])\n",
    "\n",
    "val_data = []\n",
    "for index, row in val.iterrows():\n",
    "  val_data.append([row['message'],row['diff'],row['label']])\n",
    "test_data = []\n",
    "for index, row in test.iterrows():\n",
    "  test_data.append([row['message'],row['diff'],row['label']])"
   ]
  },
  {
   "cell_type": "code",
   "execution_count": 10,
   "id": "52a979de-01d5-4476-a2a0-cf0dd07bc3f0",
   "metadata": {
    "execution": {
     "iopub.execute_input": "2024-09-22T07:05:24.078244Z",
     "iopub.status.busy": "2024-09-22T07:05:24.077657Z",
     "iopub.status.idle": "2024-09-22T07:05:47.315655Z",
     "shell.execute_reply": "2024-09-22T07:05:47.314336Z",
     "shell.execute_reply.started": "2024-09-22T07:05:24.078186Z"
    }
   },
   "outputs": [],
   "source": [
    "\n",
    "# # Split the dataset\n",
    "# train_data, val_data = train_test_split(data, test_size=0.2, random_state=42)\n",
    "\n",
    "# # Build vocabulary\n",
    "vocab = build_vocab(train_data)\n",
    "\n",
    "# Create Datasets and DataLoaders\n",
    "train_dataset = CommitDataset(train_data, vocab)\n",
    "val_dataset = CommitDataset(val_data, vocab)\n",
    "\n",
    "train_loader = DataLoader(train_dataset, batch_size=8, shuffle=True)\n",
    "val_loader = DataLoader(val_dataset, batch_size=8, shuffle=False)"
   ]
  },
  {
   "cell_type": "code",
   "execution_count": null,
   "id": "37536688-4edc-4156-af8b-2eb3b1e4e9b5",
   "metadata": {},
   "outputs": [],
   "source": [
    "\n",
    "\n",
    "# Initialize the model\n",
    "vocab_size = len(vocab)\n",
    "embed_dim = 128  # Dimension for embeddings\n",
    "num_heads = 8\n",
    "hidden_dim = 512\n",
    "num_layers = 6\n",
    "dropout = 0.3\n",
    "\n",
    "model = CombinedModel(vocab_size, embed_dim, num_heads, hidden_dim, num_layers, dropout)\n",
    "\n",
    "# Train the model\n",
    "model.trainer(train_loader, val_loader, num_epochs=10)"
   ]
  },
  {
   "cell_type": "code",
   "execution_count": 11,
   "id": "e4d67d2f-6320-458a-80bf-41977b412950",
   "metadata": {
    "execution": {
     "iopub.execute_input": "2024-09-22T07:05:47.319311Z",
     "iopub.status.busy": "2024-09-22T07:05:47.318024Z",
     "iopub.status.idle": "2024-09-22T07:05:52.905160Z",
     "shell.execute_reply": "2024-09-22T07:05:52.904146Z",
     "shell.execute_reply.started": "2024-09-22T07:05:47.319216Z"
    }
   },
   "outputs": [
    {
     "name": "stdout",
     "output_type": "stream",
     "text": [
      "Validation Accuracy: 0.7066578773895847\n",
      "Precision: 0.5896805896805897\n",
      "Recall: 0.8121827411167513\n",
      "F1-Score: 0.6832740213523132\n"
     ]
    }
   ],
   "source": [
    "model.evaluate(val_loader)"
   ]
  },
  {
   "cell_type": "code",
   "execution_count": null,
   "id": "86dddddb-a684-4651-8f27-e22a75d1ac94",
   "metadata": {},
   "outputs": [],
   "source": []
  }
 ],
 "metadata": {
  "kernelspec": {
   "display_name": "Python 3 (ipykernel)",
   "language": "python",
   "name": "python3"
  },
  "language_info": {
   "codemirror_mode": {
    "name": "ipython",
    "version": 3
   },
   "file_extension": ".py",
   "mimetype": "text/x-python",
   "name": "python",
   "nbconvert_exporter": "python",
   "pygments_lexer": "ipython3",
   "version": "3.10.8"
  }
 },
 "nbformat": 4,
 "nbformat_minor": 5
}
