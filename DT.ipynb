{
 "cells": [
  {
   "cell_type": "code",
   "execution_count": 1,
   "id": "e1e51fd6-2459-4552-b63b-1da158aa1de7",
   "metadata": {
    "execution": {
     "iopub.execute_input": "2024-09-22T06:33:30.340986Z",
     "iopub.status.busy": "2024-09-22T06:33:30.340419Z",
     "iopub.status.idle": "2024-09-22T06:33:37.972174Z",
     "shell.execute_reply": "2024-09-22T06:33:37.971178Z",
     "shell.execute_reply.started": "2024-09-22T06:33:30.340939Z"
    }
   },
   "outputs": [
    {
     "name": "stdout",
     "output_type": "stream",
     "text": [
      "Accuracy: 0.8398154251812788\n",
      "Classification Report:\n",
      "               precision    recall  f1-score   support\n",
      "\n",
      "           0     0.8660    0.8726    0.8693       926\n",
      "           1     0.7979    0.7885    0.7932       591\n",
      "\n",
      "    accuracy                         0.8398      1517\n",
      "   macro avg     0.8320    0.8305    0.8312      1517\n",
      "weighted avg     0.8395    0.8398    0.8396      1517\n",
      "\n"
     ]
    }
   ],
   "source": [
    "import pandas as pd\n",
    "from sklearn.model_selection import train_test_split\n",
    "from sklearn.feature_extraction.text import TfidfVectorizer\n",
    "from sklearn.tree import DecisionTreeClassifier\n",
    "from sklearn.metrics import classification_report, accuracy_score\n",
    "\n",
    "label2id = {'negative':0,'positive':1}\n",
    "\n",
    "train = pd.read_csv(r'./datasets/train.csv', encoding='utf_8_sig')\n",
    "train = train.replace({\"label\": label2id})\n",
    "train.fillna('', inplace=True)\n",
    "test = pd.read_csv(r'./datasets/test.csv', encoding='utf_8_sig')\n",
    "test = test.replace({\"label\": label2id})\n",
    "val = pd.read_csv(r'./datasets/val.csv', encoding='utf_8_sig')\n",
    "val = test.replace({\"label\": label2id})\n",
    "\n",
    "test.fillna('', inplace=True)\n",
    "# 1. 数据预处理和特征提取\n",
    "vectorizer = TfidfVectorizer()\n",
    "X_train = vectorizer.fit_transform(train['message'])\n",
    "y_train = train['label']\n",
    "\n",
    "# 3. 训练决策树分类器\n",
    "clf = DecisionTreeClassifier()\n",
    "clf.fit(X_train, y_train)\n",
    "\n",
    "# 4. 评估模型\n",
    "y_pred = clf.predict(vectorizer.transform(test['message']))\n",
    "print(\"Accuracy:\", accuracy_score(test['label'], y_pred))\n",
    "print(\"Classification Report:\\n\", classification_report(test['label'], y_pred, digits=4))\n",
    "\n",
    "# 可视化决策树（可选）\n",
    "# from sklearn.tree import export_text\n",
    "# print(export_text(clf, feature_names=vectorizer.get_feature_names_out()))\n"
   ]
  },
  {
   "cell_type": "code",
   "execution_count": null,
   "id": "66ddf628-40ef-458c-a711-513814332488",
   "metadata": {},
   "outputs": [],
   "source": []
  }
 ],
 "metadata": {
  "kernelspec": {
   "display_name": "Python 3 (ipykernel)",
   "language": "python",
   "name": "python3"
  },
  "language_info": {
   "codemirror_mode": {
    "name": "ipython",
    "version": 3
   },
   "file_extension": ".py",
   "mimetype": "text/x-python",
   "name": "python",
   "nbconvert_exporter": "python",
   "pygments_lexer": "ipython3",
   "version": "3.10.8"
  }
 },
 "nbformat": 4,
 "nbformat_minor": 5
}
