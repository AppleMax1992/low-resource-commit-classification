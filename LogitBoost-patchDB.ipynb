{
 "cells": [
  {
   "cell_type": "code",
   "execution_count": 5,
   "id": "e1e51fd6-2459-4552-b63b-1da158aa1de7",
   "metadata": {
    "execution": {
     "iopub.execute_input": "2024-09-23T13:05:26.062071Z",
     "iopub.status.busy": "2024-09-23T13:05:26.061242Z",
     "iopub.status.idle": "2024-09-23T13:05:27.516446Z",
     "shell.execute_reply": "2024-09-23T13:05:27.515604Z",
     "shell.execute_reply.started": "2024-09-23T13:05:26.062026Z"
    }
   },
   "outputs": [],
   "source": [
    "\n",
    "import pandas as pd\n",
    "from sklearn.model_selection import train_test_split\n",
    "from sklearn.feature_extraction.text import TfidfVectorizer\n",
    "from xgboost import XGBClassifier\n",
    "from sklearn.metrics import classification_report, accuracy_score\n",
    "\n",
    "# train_data, test_data = train_test_split(df, test_size=0.3, random_state=42)\n",
    "# test_data, val_data = train_test_split(test_data, test_size=0.5, random_state=42)\n",
    "train = pd.read_csv('./datasets/PD_train.csv')\n",
    "test = pd.read_csv('./datasets/PD_test.csv')\n",
    "val = pd.read_csv('./datasets/PD_val.csv')\n",
    "\n",
    "train.reset_index(inplace=True)\n",
    "test.reset_index(inplace=True)\n",
    "val.reset_index(inplace=True)"
   ]
  },
  {
   "cell_type": "code",
   "execution_count": null,
   "id": "03411a62",
   "metadata": {},
   "outputs": [],
   "source": []
  },
  {
   "cell_type": "code",
   "execution_count": 6,
   "id": "af4b32ad-8a7e-4966-a994-0c47f779e542",
   "metadata": {
    "execution": {
     "iopub.execute_input": "2024-09-23T13:05:31.736070Z",
     "iopub.status.busy": "2024-09-23T13:05:31.735138Z",
     "iopub.status.idle": "2024-09-23T13:05:31.751804Z",
     "shell.execute_reply": "2024-09-23T13:05:31.750262Z",
     "shell.execute_reply.started": "2024-09-23T13:05:31.735983Z"
    }
   },
   "outputs": [
    {
     "data": {
      "text/plain": [
       "0       commit 600a507ddcb99096731e1d96a3ebf43e20fc7f8...\n",
       "1       commit 2a98dbbcd72cfae508c4d90bcbdc829363554ea...\n",
       "2       commit 33bf6102210bcbd39844514033898910c24824d...\n",
       "3       commit cc215898396ec6dccc900eed193c8ca6a2c7789...\n",
       "4       commit 3cdc0ed0cea50ea08dd146c1bbc82b1bcc2e1b8...\n",
       "                              ...                        \n",
       "5367    commit 1708e2eb042f3511a2a02dbf7f6fbb22afe51e2...\n",
       "5368    From d8d0a0bc7e194300e53a346d25fe5724fd588387 ...\n",
       "5369    commit fb522f16ee93bf7be38ab7255cb11c68d3752ad...\n",
       "5370    commit 1b74c25bc1a142ee8dd7ad080e2a974f28d1cb1...\n",
       "5371    commit d16b4b3e485526b39e7bdc36bf2d8041080a720...\n",
       "Name: commit_message, Length: 5372, dtype: object"
      ]
     },
     "execution_count": 6,
     "metadata": {},
     "output_type": "execute_result"
    }
   ],
   "source": [
    "test['commit_message']"
   ]
  },
  {
   "cell_type": "code",
   "execution_count": 11,
   "id": "66ddf628-40ef-458c-a711-513814332488",
   "metadata": {
    "execution": {
     "iopub.execute_input": "2024-09-23T13:08:26.418996Z",
     "iopub.status.busy": "2024-09-23T13:08:26.414052Z",
     "iopub.status.idle": "2024-09-23T13:08:42.577507Z",
     "shell.execute_reply": "2024-09-23T13:08:42.576660Z",
     "shell.execute_reply.started": "2024-09-23T13:08:26.418880Z"
    }
   },
   "outputs": [
    {
     "name": "stdout",
     "output_type": "stream",
     "text": [
      "Accuracy: 0.9203276247207743\n",
      "Classification Report:\n",
      "               precision    recall  f1-score   support\n",
      "\n",
      "           0     0.9142    0.9700    0.9413      3537\n",
      "           1     0.9345    0.8245    0.8761      1835\n",
      "\n",
      "    accuracy                         0.9203      5372\n",
      "   macro avg     0.9244    0.8973    0.9087      5372\n",
      "weighted avg     0.9211    0.9203    0.9190      5372\n",
      "\n"
     ]
    }
   ],
   "source": [
    "# 假设你有一个DataFrame df，其中包含'commit_message'和'label'列\n",
    "# df = pd.DataFrame({'commit_message': [...], 'label': [...]})\n",
    "\n",
    "# 1. 数据预处理和特征提取\n",
    "vectorizer = TfidfVectorizer()\n",
    "X_train = vectorizer.fit_transform(train['commit_message'])\n",
    "y_train = train['category']\n",
    "\n",
    "# 3. 训练XGBoost模型\n",
    "clf = XGBClassifier()\n",
    "clf.fit(X_train, y_train)\n",
    "\n",
    "# 4. 评估模型\n",
    "y_pred = clf.predict(vectorizer.transform(test['commit_message']))\n",
    "print(\"Accuracy:\", accuracy_score(test['category'], y_pred))\n",
    "print(\"Classification Report:\\n\", classification_report(test['category'], y_pred,digits=4))\n"
   ]
  },
  {
   "cell_type": "code",
   "execution_count": null,
   "id": "d2a3632e",
   "metadata": {},
   "outputs": [],
   "source": []
  }
 ],
 "metadata": {
  "kernelspec": {
   "display_name": "Python 3 (ipykernel)",
   "language": "python",
   "name": "python3"
  },
  "language_info": {
   "codemirror_mode": {
    "name": "ipython",
    "version": 3
   },
   "file_extension": ".py",
   "mimetype": "text/x-python",
   "name": "python",
   "nbconvert_exporter": "python",
   "pygments_lexer": "ipython3",
   "version": "3.10.8"
  }
 },
 "nbformat": 4,
 "nbformat_minor": 5
}
