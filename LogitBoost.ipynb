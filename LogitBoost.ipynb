{
 "cells": [
  {
   "cell_type": "code",
   "execution_count": 2,
   "id": "e1e51fd6-2459-4552-b63b-1da158aa1de7",
   "metadata": {
    "execution": {
     "iopub.execute_input": "2024-09-22T06:20:26.410038Z",
     "iopub.status.busy": "2024-09-22T06:20:26.409358Z",
     "iopub.status.idle": "2024-09-22T06:20:28.720839Z",
     "shell.execute_reply": "2024-09-22T06:20:28.720037Z",
     "shell.execute_reply.started": "2024-09-22T06:20:26.410014Z"
    }
   },
   "outputs": [],
   "source": [
    "import pandas as pd\n",
    "from sklearn.model_selection import train_test_split\n",
    "from sklearn.feature_extraction.text import TfidfVectorizer\n",
    "from xgboost import XGBClassifier\n",
    "from sklearn.metrics import classification_report, accuracy_score\n",
    "\n",
    "label2id = {'negative':0,'positive':1}\n",
    "\n",
    "train = pd.read_csv(r'./datasets/train.csv', encoding='utf_8_sig')\n",
    "train = train.replace({\"label\": label2id})\n",
    "train.fillna('', inplace=True)\n",
    "test = pd.read_csv(r'./datasets/test.csv', encoding='utf_8_sig')\n",
    "test = test.replace({\"label\": label2id})\n",
    "val = pd.read_csv(r'./datasets/val.csv', encoding='utf_8_sig')\n",
    "val = test.replace({\"label\": label2id})\n",
    "\n",
    "test.fillna('', inplace=True)"
   ]
  },
  {
   "cell_type": "code",
   "execution_count": null,
   "id": "03411a62",
   "metadata": {},
   "outputs": [],
   "source": []
  },
  {
   "cell_type": "code",
   "execution_count": 8,
   "id": "af4b32ad-8a7e-4966-a994-0c47f779e542",
   "metadata": {
    "execution": {
     "iopub.execute_input": "2024-09-22T06:22:04.506792Z",
     "iopub.status.busy": "2024-09-22T06:22:04.506406Z",
     "iopub.status.idle": "2024-09-22T06:22:04.514320Z",
     "shell.execute_reply": "2024-09-22T06:22:04.513473Z",
     "shell.execute_reply.started": "2024-09-22T06:22:04.506770Z"
    }
   },
   "outputs": [
    {
     "data": {
      "text/plain": [
       "0       Merge pull request #90 from hlef/master\\n\\nFix...\n",
       "1       [ZEPPELIN-5190] flink-1.12-shims CollectStream...\n",
       "2             Remode UNIXODBC_SOURCE from unixodbc_conf.h\n",
       "3       Explicitly enable utf8 on jdbc connection url\\...\n",
       "4       Merge pull request #18 from g-sato/fix_securit...\n",
       "                              ...                        \n",
       "1512    updates: Use PF4 progress bar instead of custo...\n",
       "1513    error log and xss and some minor improvents\\n\\...\n",
       "1514    avformat/rmdec: Fix DoS due to lack of eof che...\n",
       "1515    Add side-channel countermeasures to DSA.\\n\\nTh...\n",
       "1516                      Fix VS attribute size handling.\n",
       "Name: message, Length: 1517, dtype: object"
      ]
     },
     "execution_count": 8,
     "metadata": {},
     "output_type": "execute_result"
    }
   ],
   "source": [
    "test['message']"
   ]
  },
  {
   "cell_type": "code",
   "execution_count": 11,
   "id": "66ddf628-40ef-458c-a711-513814332488",
   "metadata": {
    "execution": {
     "iopub.execute_input": "2024-09-22T06:23:47.921197Z",
     "iopub.status.busy": "2024-09-22T06:23:47.920708Z",
     "iopub.status.idle": "2024-09-22T06:23:49.031928Z",
     "shell.execute_reply": "2024-09-22T06:23:49.031115Z",
     "shell.execute_reply.started": "2024-09-22T06:23:47.921173Z"
    }
   },
   "outputs": [
    {
     "name": "stdout",
     "output_type": "stream",
     "text": [
      "Accuracy: 0.8714568226763348\n",
      "Classification Report:\n",
      "               precision    recall  f1-score   support\n",
      "\n",
      "           0     0.8538    0.9525    0.9005       926\n",
      "           1     0.9091    0.7445    0.8186       591\n",
      "\n",
      "    accuracy                         0.8715      1517\n",
      "   macro avg     0.8815    0.8485    0.8595      1517\n",
      "weighted avg     0.8754    0.8715    0.8686      1517\n",
      "\n"
     ]
    }
   ],
   "source": [
    "# 假设你有一个DataFrame df，其中包含'commit_message'和'label'列\n",
    "# df = pd.DataFrame({'commit_message': [...], 'label': [...]})\n",
    "\n",
    "# 1. 数据预处理和特征提取\n",
    "vectorizer = TfidfVectorizer()\n",
    "X_train = vectorizer.fit_transform(train['message'])\n",
    "y_train = train['label']\n",
    "\n",
    "# 3. 训练XGBoost模型\n",
    "clf = XGBClassifier()\n",
    "clf.fit(X_train, y_train)\n",
    "\n",
    "# 4. 评估模型\n",
    "y_pred = clf.predict(vectorizer.transform(test['message']))\n",
    "print(\"Accuracy:\", accuracy_score(test['label'], y_pred))\n",
    "print(\"Classification Report:\\n\", classification_report(test['label'], y_pred,digits=4))\n"
   ]
  },
  {
   "cell_type": "code",
   "execution_count": null,
   "id": "d2a3632e",
   "metadata": {},
   "outputs": [],
   "source": []
  }
 ],
 "metadata": {
  "kernelspec": {
   "display_name": "Python 3 (ipykernel)",
   "language": "python",
   "name": "python3"
  },
  "language_info": {
   "codemirror_mode": {
    "name": "ipython",
    "version": 3
   },
   "file_extension": ".py",
   "mimetype": "text/x-python",
   "name": "python",
   "nbconvert_exporter": "python",
   "pygments_lexer": "ipython3",
   "version": "3.10.8"
  }
 },
 "nbformat": 4,
 "nbformat_minor": 5
}
